{
 "cells": [
  {
   "cell_type": "markdown",
   "id": "spare-worship",
   "metadata": {},
   "source": [
    "# Naive Bayes Classification of Mushrooms"
   ]
  },
  {
   "cell_type": "markdown",
   "id": "compressed-laundry",
   "metadata": {},
   "source": [
    "In this notebook, we take a dataset of mushroom features from kaggle and build a model that can classify a mushroom as either poisionous or edible depending on it's features using Naive Bayes Classification"
   ]
  },
  {
   "cell_type": "code",
   "execution_count": 50,
   "id": "textile-module",
   "metadata": {},
   "outputs": [],
   "source": [
    "from ipywidgets import interact\n",
    "import pandas as pd\n",
    "import numpy as np\n",
    "import seaborn as sns\n",
    "import matplotlib\n",
    "plt.rcParams['figure.figsize'] = [12, 9]\n",
    "from matplotlib import pyplot as plt\n",
    "\n",
    "# Fraction reserved for training\n",
    "TRAIN_FRAC = 0.75"
   ]
  },
  {
   "cell_type": "markdown",
   "id": "parliamentary-separation",
   "metadata": {},
   "source": [
    "Naive Bayes Classification takes advantage of Bayes' Theorem, a theorem that seems simple and intuitive but is nonetheless profound\n",
    "\n",
    "$$\n",
    "P(A|B) = \\frac{P(B|A)P(A)}{P(B)}\n",
    "$$\n",
    "\n",
    "You have an initial probability of some $A$ happening (the prior $P(A)$), and, as more evidence $B$ is uncovered, the known probability of $A$ is updated (the posterior $P(A|B)$). In this case, $A$ would be whether or not a mushroom is posionous. If the mushroom cap is colored red, for example, it might be more or less probable for the mushroom to be poisionous given this new information. This is determined by the likelihood $P(B|A)$ of a poisionous mushroom to be red.\n",
    "\n",
    "As he usually does, [3Blue1Brown](https://youtu.be/HZGCoVF3YvM) explains this so much better. Check out his video.\n",
    "\n",
    "So, we have a set of mushroom features $\\textbf{x}$ and we formulate the probability of a mushroom being poisionous given the mushroom has these properties using Bayes' Theorem\n",
    "\n",
    "$$\n",
    "P(Poisionous | \\textbf{x}) = \\frac{P(\\textbf{x} | Poisionous)P(Poisionous)}{P(\\textbf{x})}\n",
    "$$\n",
    "\n",
    "The \"naive\" in Naive Bayes means we assume all features are independent of one another. This is not necessarily true, as features often appear together. Mushrooms are made up of discreet species which all exhibit the same set of properties. However, making this assumption allows this equation to be written out as a product of individual likelihoods\n",
    "\n",
    "$$\n",
    "P(Poisionous | \\textbf{x}) = P(Poisionous) * P(x_1 | Poisionous) * P(x_2 | Poisionous) * P(x_3 | Poisionous) *\\ ...\\ * P(x_n | Poisionous)\n",
    "$$\n",
    "\n",
    "We likewise do the same for \"Edible\"\n",
    "\n",
    "Since $P(\\textbf{x})$ is a constant for each class and each feature set, it can be largely ignored when trying to determine a class given a set of features.\n",
    "\n",
    "So, the plan is to take a dataset, use it to compute prior probabilities and likelihoods for each feature and class, and use this information to construct a classifier that can accurately predict wether new mushrooms are poisionous or not"
   ]
  },
  {
   "cell_type": "code",
   "execution_count": 51,
   "id": "legitimate-london",
   "metadata": {
    "scrolled": false
   },
   "outputs": [
    {
     "data": {
      "text/html": [
       "<div>\n",
       "<style scoped>\n",
       "    .dataframe tbody tr th:only-of-type {\n",
       "        vertical-align: middle;\n",
       "    }\n",
       "\n",
       "    .dataframe tbody tr th {\n",
       "        vertical-align: top;\n",
       "    }\n",
       "\n",
       "    .dataframe thead th {\n",
       "        text-align: right;\n",
       "    }\n",
       "</style>\n",
       "<table border=\"1\" class=\"dataframe\">\n",
       "  <thead>\n",
       "    <tr style=\"text-align: right;\">\n",
       "      <th></th>\n",
       "      <th>class</th>\n",
       "      <th>cap-shape</th>\n",
       "      <th>cap-surface</th>\n",
       "      <th>cap-color</th>\n",
       "      <th>bruises</th>\n",
       "      <th>odor</th>\n",
       "      <th>gill-attachment</th>\n",
       "      <th>gill-spacing</th>\n",
       "      <th>gill-size</th>\n",
       "      <th>gill-color</th>\n",
       "      <th>...</th>\n",
       "      <th>stalk-surface-below-ring</th>\n",
       "      <th>stalk-color-above-ring</th>\n",
       "      <th>stalk-color-below-ring</th>\n",
       "      <th>veil-type</th>\n",
       "      <th>veil-color</th>\n",
       "      <th>ring-number</th>\n",
       "      <th>ring-type</th>\n",
       "      <th>spore-print-color</th>\n",
       "      <th>population</th>\n",
       "      <th>habitat</th>\n",
       "    </tr>\n",
       "  </thead>\n",
       "  <tbody>\n",
       "    <tr>\n",
       "      <th>3915</th>\n",
       "      <td>e</td>\n",
       "      <td>f</td>\n",
       "      <td>y</td>\n",
       "      <td>n</td>\n",
       "      <td>t</td>\n",
       "      <td>n</td>\n",
       "      <td>f</td>\n",
       "      <td>c</td>\n",
       "      <td>b</td>\n",
       "      <td>n</td>\n",
       "      <td>...</td>\n",
       "      <td>s</td>\n",
       "      <td>w</td>\n",
       "      <td>g</td>\n",
       "      <td>p</td>\n",
       "      <td>w</td>\n",
       "      <td>o</td>\n",
       "      <td>p</td>\n",
       "      <td>n</td>\n",
       "      <td>v</td>\n",
       "      <td>d</td>\n",
       "    </tr>\n",
       "    <tr>\n",
       "      <th>6793</th>\n",
       "      <td>p</td>\n",
       "      <td>f</td>\n",
       "      <td>y</td>\n",
       "      <td>e</td>\n",
       "      <td>f</td>\n",
       "      <td>s</td>\n",
       "      <td>f</td>\n",
       "      <td>c</td>\n",
       "      <td>n</td>\n",
       "      <td>b</td>\n",
       "      <td>...</td>\n",
       "      <td>s</td>\n",
       "      <td>p</td>\n",
       "      <td>p</td>\n",
       "      <td>p</td>\n",
       "      <td>w</td>\n",
       "      <td>o</td>\n",
       "      <td>e</td>\n",
       "      <td>w</td>\n",
       "      <td>v</td>\n",
       "      <td>d</td>\n",
       "    </tr>\n",
       "    <tr>\n",
       "      <th>7388</th>\n",
       "      <td>e</td>\n",
       "      <td>k</td>\n",
       "      <td>s</td>\n",
       "      <td>n</td>\n",
       "      <td>f</td>\n",
       "      <td>n</td>\n",
       "      <td>a</td>\n",
       "      <td>c</td>\n",
       "      <td>b</td>\n",
       "      <td>o</td>\n",
       "      <td>...</td>\n",
       "      <td>s</td>\n",
       "      <td>o</td>\n",
       "      <td>o</td>\n",
       "      <td>p</td>\n",
       "      <td>o</td>\n",
       "      <td>o</td>\n",
       "      <td>p</td>\n",
       "      <td>y</td>\n",
       "      <td>v</td>\n",
       "      <td>l</td>\n",
       "    </tr>\n",
       "    <tr>\n",
       "      <th>44</th>\n",
       "      <td>e</td>\n",
       "      <td>x</td>\n",
       "      <td>s</td>\n",
       "      <td>y</td>\n",
       "      <td>t</td>\n",
       "      <td>a</td>\n",
       "      <td>f</td>\n",
       "      <td>c</td>\n",
       "      <td>b</td>\n",
       "      <td>w</td>\n",
       "      <td>...</td>\n",
       "      <td>s</td>\n",
       "      <td>w</td>\n",
       "      <td>w</td>\n",
       "      <td>p</td>\n",
       "      <td>w</td>\n",
       "      <td>o</td>\n",
       "      <td>p</td>\n",
       "      <td>k</td>\n",
       "      <td>n</td>\n",
       "      <td>m</td>\n",
       "    </tr>\n",
       "    <tr>\n",
       "      <th>1739</th>\n",
       "      <td>p</td>\n",
       "      <td>f</td>\n",
       "      <td>s</td>\n",
       "      <td>w</td>\n",
       "      <td>t</td>\n",
       "      <td>p</td>\n",
       "      <td>f</td>\n",
       "      <td>c</td>\n",
       "      <td>n</td>\n",
       "      <td>p</td>\n",
       "      <td>...</td>\n",
       "      <td>s</td>\n",
       "      <td>w</td>\n",
       "      <td>w</td>\n",
       "      <td>p</td>\n",
       "      <td>w</td>\n",
       "      <td>o</td>\n",
       "      <td>p</td>\n",
       "      <td>n</td>\n",
       "      <td>v</td>\n",
       "      <td>u</td>\n",
       "    </tr>\n",
       "    <tr>\n",
       "      <th>7000</th>\n",
       "      <td>p</td>\n",
       "      <td>k</td>\n",
       "      <td>y</td>\n",
       "      <td>e</td>\n",
       "      <td>f</td>\n",
       "      <td>s</td>\n",
       "      <td>f</td>\n",
       "      <td>c</td>\n",
       "      <td>n</td>\n",
       "      <td>b</td>\n",
       "      <td>...</td>\n",
       "      <td>s</td>\n",
       "      <td>w</td>\n",
       "      <td>w</td>\n",
       "      <td>p</td>\n",
       "      <td>w</td>\n",
       "      <td>o</td>\n",
       "      <td>e</td>\n",
       "      <td>w</td>\n",
       "      <td>v</td>\n",
       "      <td>d</td>\n",
       "    </tr>\n",
       "    <tr>\n",
       "      <th>4964</th>\n",
       "      <td>e</td>\n",
       "      <td>f</td>\n",
       "      <td>s</td>\n",
       "      <td>b</td>\n",
       "      <td>t</td>\n",
       "      <td>n</td>\n",
       "      <td>f</td>\n",
       "      <td>c</td>\n",
       "      <td>b</td>\n",
       "      <td>w</td>\n",
       "      <td>...</td>\n",
       "      <td>s</td>\n",
       "      <td>w</td>\n",
       "      <td>e</td>\n",
       "      <td>p</td>\n",
       "      <td>w</td>\n",
       "      <td>t</td>\n",
       "      <td>e</td>\n",
       "      <td>w</td>\n",
       "      <td>c</td>\n",
       "      <td>w</td>\n",
       "    </tr>\n",
       "    <tr>\n",
       "      <th>1675</th>\n",
       "      <td>e</td>\n",
       "      <td>x</td>\n",
       "      <td>s</td>\n",
       "      <td>g</td>\n",
       "      <td>f</td>\n",
       "      <td>n</td>\n",
       "      <td>f</td>\n",
       "      <td>w</td>\n",
       "      <td>b</td>\n",
       "      <td>p</td>\n",
       "      <td>...</td>\n",
       "      <td>s</td>\n",
       "      <td>w</td>\n",
       "      <td>w</td>\n",
       "      <td>p</td>\n",
       "      <td>w</td>\n",
       "      <td>o</td>\n",
       "      <td>e</td>\n",
       "      <td>k</td>\n",
       "      <td>a</td>\n",
       "      <td>g</td>\n",
       "    </tr>\n",
       "    <tr>\n",
       "      <th>4438</th>\n",
       "      <td>p</td>\n",
       "      <td>x</td>\n",
       "      <td>s</td>\n",
       "      <td>g</td>\n",
       "      <td>f</td>\n",
       "      <td>c</td>\n",
       "      <td>f</td>\n",
       "      <td>c</td>\n",
       "      <td>n</td>\n",
       "      <td>p</td>\n",
       "      <td>...</td>\n",
       "      <td>s</td>\n",
       "      <td>w</td>\n",
       "      <td>w</td>\n",
       "      <td>p</td>\n",
       "      <td>w</td>\n",
       "      <td>o</td>\n",
       "      <td>p</td>\n",
       "      <td>k</td>\n",
       "      <td>v</td>\n",
       "      <td>d</td>\n",
       "    </tr>\n",
       "    <tr>\n",
       "      <th>5352</th>\n",
       "      <td>p</td>\n",
       "      <td>f</td>\n",
       "      <td>y</td>\n",
       "      <td>y</td>\n",
       "      <td>f</td>\n",
       "      <td>f</td>\n",
       "      <td>f</td>\n",
       "      <td>c</td>\n",
       "      <td>b</td>\n",
       "      <td>h</td>\n",
       "      <td>...</td>\n",
       "      <td>k</td>\n",
       "      <td>b</td>\n",
       "      <td>b</td>\n",
       "      <td>p</td>\n",
       "      <td>w</td>\n",
       "      <td>o</td>\n",
       "      <td>l</td>\n",
       "      <td>h</td>\n",
       "      <td>y</td>\n",
       "      <td>d</td>\n",
       "    </tr>\n",
       "  </tbody>\n",
       "</table>\n",
       "<p>10 rows × 23 columns</p>\n",
       "</div>"
      ],
      "text/plain": [
       "     class cap-shape cap-surface cap-color bruises odor gill-attachment  \\\n",
       "3915     e         f           y         n       t    n               f   \n",
       "6793     p         f           y         e       f    s               f   \n",
       "7388     e         k           s         n       f    n               a   \n",
       "44       e         x           s         y       t    a               f   \n",
       "1739     p         f           s         w       t    p               f   \n",
       "7000     p         k           y         e       f    s               f   \n",
       "4964     e         f           s         b       t    n               f   \n",
       "1675     e         x           s         g       f    n               f   \n",
       "4438     p         x           s         g       f    c               f   \n",
       "5352     p         f           y         y       f    f               f   \n",
       "\n",
       "     gill-spacing gill-size gill-color  ... stalk-surface-below-ring  \\\n",
       "3915            c         b          n  ...                        s   \n",
       "6793            c         n          b  ...                        s   \n",
       "7388            c         b          o  ...                        s   \n",
       "44              c         b          w  ...                        s   \n",
       "1739            c         n          p  ...                        s   \n",
       "7000            c         n          b  ...                        s   \n",
       "4964            c         b          w  ...                        s   \n",
       "1675            w         b          p  ...                        s   \n",
       "4438            c         n          p  ...                        s   \n",
       "5352            c         b          h  ...                        k   \n",
       "\n",
       "     stalk-color-above-ring stalk-color-below-ring veil-type veil-color  \\\n",
       "3915                      w                      g         p          w   \n",
       "6793                      p                      p         p          w   \n",
       "7388                      o                      o         p          o   \n",
       "44                        w                      w         p          w   \n",
       "1739                      w                      w         p          w   \n",
       "7000                      w                      w         p          w   \n",
       "4964                      w                      e         p          w   \n",
       "1675                      w                      w         p          w   \n",
       "4438                      w                      w         p          w   \n",
       "5352                      b                      b         p          w   \n",
       "\n",
       "     ring-number ring-type spore-print-color population habitat  \n",
       "3915           o         p                 n          v       d  \n",
       "6793           o         e                 w          v       d  \n",
       "7388           o         p                 y          v       l  \n",
       "44             o         p                 k          n       m  \n",
       "1739           o         p                 n          v       u  \n",
       "7000           o         e                 w          v       d  \n",
       "4964           t         e                 w          c       w  \n",
       "1675           o         e                 k          a       g  \n",
       "4438           o         p                 k          v       d  \n",
       "5352           o         l                 h          y       d  \n",
       "\n",
       "[10 rows x 23 columns]"
      ]
     },
     "execution_count": 51,
     "metadata": {},
     "output_type": "execute_result"
    }
   ],
   "source": [
    "# Read dataset. We can split the dataset into training data for \n",
    "# building the model and testing data for testing the built model\n",
    "df = pd.read_csv('data/mushrooms.csv')\n",
    "train_df = df.sample(frac=TRAIN_FRAC)\n",
    "test_df = df.drop(train_df.index)\n",
    "\n",
    "# Print out a sample\n",
    "df.sample(10)"
   ]
  },
  {
   "cell_type": "markdown",
   "id": "modern-criticism",
   "metadata": {},
   "source": [
    "## Analyzing Dataset\n",
    "\n",
    "So you may notice that this theorem involves starting with a prior probability. So what probability do we start with? We could just assume 50/50 odds for either class. A better idea is to just determine the probability of each class by just checking how often it appears in the dataset."
   ]
  },
  {
   "cell_type": "code",
   "execution_count": 52,
   "id": "rough-organization",
   "metadata": {
    "scrolled": false
   },
   "outputs": [
    {
     "data": {
      "image/png": "[encoded data removed]",
      "text/plain": [
       "<Figure size 864x648 with 1 Axes>"
      ]
     },
     "metadata": {
      "needs_background": "light"
     },
     "output_type": "display_data"
    }
   ],
   "source": [
    "priors = train_df.groupby('class').size() / len(train_df)\n",
    "ax = sns.barplot(x=priors.index, y=priors)\n",
    "ax.set_title('Prior Probabilities')\n",
    "ax.set_xlabel('class')\n",
    "ax.set_ylabel('P(class)');"
   ]
  },
  {
   "cell_type": "markdown",
   "id": "genuine-olive",
   "metadata": {},
   "source": [
    "Next we sift through each feature and compute $P( feature | class )$. This can be computed from \n",
    "\n",
    "$$\n",
    "\\frac{P( feature\\ \\&\\ Class )}{P( Class )}\n",
    "$$\n",
    "\n",
    "Again, $P( Class )$ is our initial prior, the overall probability of each class, while $P( feature \\&\\ Class )$ is the probability that a datapoint with feature $feature$ and class $Class$ appears in the dataset. Again this can be computed by counting the number of instances of each feature/class pair and normalizing by the number of instances of each class.\n",
    "\n",
    "We create a dictionary containing the likelihood tables for each feature"
   ]
  },
  {
   "cell_type": "code",
   "execution_count": 65,
   "id": "parallel-music",
   "metadata": {
    "scrolled": false
   },
   "outputs": [
    {
     "data": {
      "image/png": "[encoded data removed]",
      "text/plain": [
       "<Figure size 864x648 with 4 Axes>"
      ]
     },
     "metadata": {
      "needs_background": "light"
     },
     "output_type": "display_data"
    }
   ],
   "source": [
    "likelihoods = {\n",
    "    column: train_df.groupby([column, 'class']).size() / train_df.groupby('class').size()\n",
    "    for column in train_df.columns if column != 'class'\n",
    "}\n",
    "plt.figure()\n",
    "to_plot = ['cap-shape', 'gill-spacing', 'veil-color', 'habitat']\n",
    "for index, column in enumerate(to_plot):\n",
    "    table = likelihoods[column].reset_index()\n",
    "    plt.subplot(2,2,index+1)\n",
    "    ax = sns.barplot(x=column, y=0, hue='class', data=table)\n",
    "    ax.set_xlabel(column)\n",
    "    ax.set_ylabel('P('+column+'|class)')"
   ]
  },
  {
   "cell_type": "markdown",
   "id": "stuck-concert",
   "metadata": {},
   "source": [
    "## Creating Classifier\n",
    "\n",
    "With this information, we can create our classifier function. This takes a single sample and runs through each feature, updating the probability."
   ]
  },
  {
   "cell_type": "code",
   "execution_count": 113,
   "id": "increased-message",
   "metadata": {},
   "outputs": [],
   "source": [
    "def naive_bayes_classify(sample):\n",
    "    \"\"\"\n",
    "    Determine wether a mushroom sample is\n",
    "    poisionous or not given it's features\n",
    "    \n",
    "    :param sample: single row of a dataset\n",
    "    :param probs: if true, return normalized probabilities\n",
    "    \n",
    "    :return: predicted class\n",
    "    \"\"\"\n",
    "    # Start with a prior probability\n",
    "    probability = priors.copy()\n",
    "    \n",
    "    # For each column with known likelihood table\n",
    "    # Update our label probabilities using new likelihood\n",
    "    for column, table in likelihoods.items():\n",
    "        probability *= table[sample[column]].reindex_like(probability).fillna(0)\n",
    "        \n",
    "    # Return class prediction\n",
    "    return probability.idxmax()"
   ]
  },
  {
   "cell_type": "markdown",
   "id": "sixth-batch",
   "metadata": {},
   "source": [
    "We can test the accuracy of our model using our split test dataset. This is theoretically data that the model has not seen before. We compare the computed classes with the expected classes in the test dataset, and determine the percentage of classes that were predicted correctly."
   ]
  },
  {
   "cell_type": "code",
   "execution_count": 86,
   "id": "martial-framework",
   "metadata": {},
   "outputs": [
    {
     "name": "stdout",
     "output_type": "stream",
     "text": [
      "Model Accuracy: 99.75%\n"
     ]
    }
   ],
   "source": [
    "expected = test_df['class']\n",
    "actual = test_df.drop('class', axis=1).apply(naive_bayes_classify, axis=1)\n",
    "accuracy = (expected == actual).sum() / len(test_df)\n",
    "print('Model Accuracy: {:0.2%}'.format(accuracy))"
   ]
  },
  {
   "cell_type": "markdown",
   "id": "modern-kidney",
   "metadata": {},
   "source": [
    "## Making Predictions\n",
    "\n",
    "Finally let's use this model to make predictions, I have created a little tool to allow for inputting your own data and measuring the output. It's not interactive on the website, however.\n",
    "\n",
    "And yes I did code all this by hand and no I don't recommend it..."
   ]
  },
  {
   "cell_type": "code",
   "execution_count": 114,
   "id": "isolated-generator",
   "metadata": {},
   "outputs": [
    {
     "data": {
      "application/vnd.jupyter.widget-view+json": {
       "model_id": "cc070b82c15c45858e2a7f1ba1951b89",
       "version_major": 2,
       "version_minor": 0
      },
      "text/plain": [
       "interactive(children=(Dropdown(description='cap_shape', options=(('Bell', 'b'), ('Conical', 'c'), ('Convex', '…"
      ]
     },
     "metadata": {},
     "output_type": "display_data"
    }
   ],
   "source": [
    "@interact\n",
    "def custom_classify(\n",
    "    cap_shape = [\n",
    "        ('Bell', 'b'),\n",
    "        ('Conical', 'c'),\n",
    "        ('Convex', 'x'),\n",
    "        ('Flat', 'f'),\n",
    "        ('Knobbed', 'k'),\n",
    "        ('Sunken', 's')\n",
    "    ],\n",
    "    cap_surface = [\n",
    "        ('Fiberous', 'f'),\n",
    "        ('Grooves', 'g'),\n",
    "        ('Scaly', 'y'),\n",
    "        ('Smooth', 's')\n",
    "    ],\n",
    "    cap_color = [\n",
    "        ('Brown', 'n'),\n",
    "        ('Buff', 'b'),\n",
    "        ('Cinnamon', 'c'),\n",
    "        ('Gray', 'g'),\n",
    "        ('Green', 'r'),\n",
    "        ('Pink', 'p'),\n",
    "        ('Purple', 'u'),\n",
    "        ('Red', 'e'),\n",
    "        ('White', 'w'),\n",
    "        ('Yellow', 'y')\n",
    "    ],\n",
    "    bruises = [\n",
    "        ('Bruises', 't'),\n",
    "        ('No Bruises', 'f')\n",
    "    ],\n",
    "    odor = [\n",
    "        ('Almond', 'a'),\n",
    "        ('Anise', 'l'),\n",
    "        ('Creosote', 'c'),\n",
    "        ('Fishy', 'y'),\n",
    "        ('Foul', 'f'),\n",
    "        ('Musty', 'm'),\n",
    "        ('None', 'n'),\n",
    "        ('Pungent', 'p'),\n",
    "        ('Spicy', 's')\n",
    "    ],\n",
    "    gill_attachment = [\n",
    "        ('Attached', 'a'),\n",
    "        ('Free', 'f')\n",
    "    ],\n",
    "    gill_spacing = [\n",
    "        ('Close', 'c'),\n",
    "        ('Crowded', 'w')\n",
    "    ],\n",
    "    gill_size = [\n",
    "        ('Broad', 'b'),\n",
    "        ('Narrow', 'n')\n",
    "    ],\n",
    "    gill_color = [\n",
    "        ('Black', 'k'),\n",
    "        ('Brown', 'n'),\n",
    "        ('Buff', 'b'),\n",
    "        ('Chocolate', 'h'),\n",
    "        ('Gray', 'g'),\n",
    "        ('Green', 'r'),\n",
    "        ('Orange', 'o'),\n",
    "        ('Pink', 'p'),\n",
    "        ('Purple', 'u'),\n",
    "        ('Red', 'e'),\n",
    "        ('White', 'w'),\n",
    "        ('Yellow', 'y')\n",
    "    ],\n",
    "    stalk_shape = [\n",
    "        ('Enlarging', 'e'),\n",
    "        ('Tapering', 't')\n",
    "    ],\n",
    "    stalk_root = [\n",
    "        ('Bulbous', 'b'),\n",
    "        ('Club', 'c'),\n",
    "        ('Cup', 'u'),\n",
    "        ('Equal', 'e'),\n",
    "        ('Rhizomorphs', 'z'),\n",
    "        ('Rooted', 'r'),\n",
    "        ('Missing', '?')\n",
    "    ],\n",
    "    stalk_surface_above_ring = [\n",
    "        ('Fiberous', 'f'),\n",
    "        ('Scaly', 'y'),\n",
    "        ('Silky', 'k'),\n",
    "        ('Smooth', 's'),\n",
    "    ],\n",
    "    stalk_surface_below_ring = [\n",
    "        ('Fiberous', 'f'),\n",
    "        ('Scaly', 'y'),\n",
    "        ('Silky', 'k'),\n",
    "        ('Smooth', 's'),\n",
    "    ],\n",
    "    stalk_color_above_ring = [\n",
    "        ('Brown', 'n'),\n",
    "        ('Buff', 'b'),\n",
    "        ('Cinnamon', 'c'),\n",
    "        ('Gray', 'g'),\n",
    "        ('Orange', 'o'),\n",
    "        ('Pink', 'p'),\n",
    "        ('Red', 'e'),\n",
    "        ('White', 'w'),\n",
    "        ('Yellow', 'y')\n",
    "    ],\n",
    "    stalk_color_below_ring = [\n",
    "        ('Brown', 'n'),\n",
    "        ('Buff', 'b'),\n",
    "        ('Cinnamon', 'c'),\n",
    "        ('Gray', 'g'),\n",
    "        ('Orange', 'o'),\n",
    "        ('Pink', 'p'),\n",
    "        ('Red', 'e'),\n",
    "        ('White', 'w'),\n",
    "        ('Yellow', 'y')\n",
    "    ],\n",
    "    veil_color = [\n",
    "        ('Brown', 'n'),\n",
    "        ('Orange', 'o'),\n",
    "        ('White', 'w'),\n",
    "        ('Yellow', 'y')\n",
    "    ],\n",
    "    ring_number = [\n",
    "        ('None', 'n'),\n",
    "        ('One', 'o'),\n",
    "        ('Two', 't')\n",
    "    ],\n",
    "    ring_type = [\n",
    "        ('Evanescent', 'e'),\n",
    "        ('Flaring', 'f'),\n",
    "        ('Large', 'l'),\n",
    "        ('None', 'n'),\n",
    "        ('Pendant', 'p'),\n",
    "        ('Sheathing', 's'),\n",
    "        ('Zone', 'z')\n",
    "    ],\n",
    "    spore_print_color = [\n",
    "        ('Black', 'k'),\n",
    "        ('Brown', 'n'),\n",
    "        ('Buff', 'b'),\n",
    "        ('Chocolate', 'h'),\n",
    "        ('Green', 'r'),\n",
    "        ('Orange', 'o'),\n",
    "        ('Purple', 'u'),\n",
    "        ('White', 'w'),\n",
    "        ('Yellow', 'y')\n",
    "    ],\n",
    "    population = [\n",
    "        ('Abundant', 'a'),\n",
    "        ('Clustered', 'c'),\n",
    "        ('Numerous', 'n'),\n",
    "        ('Scattered', 's'),\n",
    "        ('Several', 'v'),\n",
    "        ('Solitary', 'y')\n",
    "    ],\n",
    "    habitat = [\n",
    "        ('Grasses', 'g'),\n",
    "        ('Leaves', 'l'),\n",
    "        ('Meadows', 'm'),\n",
    "        ('Paths', 'p'),\n",
    "        ('Urban', 'u'),\n",
    "        ('Waste', 'w'),\n",
    "        ('Woods', 'd')\n",
    "    ]):\n",
    "    \n",
    "    # Set up features dict\n",
    "    features = {\n",
    "        'cap-shape': cap_shape,\n",
    "        'cap-surface': cap_surface,\n",
    "        'cap-color': cap_color,\n",
    "        'bruises': bruises,\n",
    "        'odor': odor,\n",
    "        'gill-attachment': gill_attachment,\n",
    "        'gill-spacing': gill_spacing,\n",
    "        'gill-size': gill_size,\n",
    "        'gill-color': gill_color,\n",
    "        'stalk-shape': stalk_shape,\n",
    "        'stalk-root': stalk_root,\n",
    "        'stalk-surface-above-ring': stalk_surface_above_ring,\n",
    "        'stalk-surface-below-ring': stalk_surface_below_ring,\n",
    "        'stalk-color-above-ring': stalk_color_above_ring,\n",
    "        'stalk-color-below-ring': stalk_color_below_ring,\n",
    "        'veil-type': 'p',\n",
    "        'veil-color': veil_color,\n",
    "        'ring-number': ring_number,\n",
    "        'ring-type': ring_type,\n",
    "        'spore-print-color': spore_print_color,\n",
    "        'population': population,\n",
    "        'habitat': habitat\n",
    "    }\n",
    "    \n",
    "    # Return class prediction\n",
    "    klass = naive_bayes_classify(features)\n",
    "    print('Most Likely class:', klass)"
   ]
  },
  {
   "cell_type": "markdown",
   "id": "connected-judge",
   "metadata": {},
   "source": [
    "So it looks like most mushroom types appear to be edible (which is fortunate for us). Let's use our generated statistics to try and find the kind of mushroom that's most likely poisionous"
   ]
  },
  {
   "cell_type": "code",
   "execution_count": 115,
   "id": "flying-destruction",
   "metadata": {},
   "outputs": [
    {
     "name": "stdout",
     "output_type": "stream",
     "text": [
      "cap-shape: x\n",
      "cap-surface: y\n",
      "cap-color: n\n",
      "bruises: f\n",
      "odor: f\n",
      "gill-attachment: f\n",
      "gill-spacing: c\n",
      "gill-size: n\n",
      "gill-color: b\n",
      "stalk-shape: t\n",
      "stalk-root: b\n",
      "stalk-surface-above-ring: k\n",
      "stalk-surface-below-ring: k\n",
      "stalk-color-above-ring: w\n",
      "stalk-color-below-ring: w\n",
      "veil-type: p\n",
      "veil-color: w\n",
      "ring-number: o\n",
      "ring-type: e\n",
      "spore-print-color: w\n",
      "population: v\n",
      "habitat: d\n"
     ]
    }
   ],
   "source": [
    "for column, table in likelihoods.items():\n",
    "    print(column, table[:,'p'].idxmax(), sep=': ')"
   ]
  },
  {
   "cell_type": "markdown",
   "id": "editorial-bread",
   "metadata": {},
   "source": [
    "## Conclusion\n",
    "\n",
    "So the only improvements I would make for this model should be getting a better dataset, as this one seems very skewed by the looks of it. There are plenty of features that don't have datapoints for a given outcome, and that makes prediction more difficult. I would also look into feature selection. Instead of looking at all the columns, I'd select the columns that provide the most information about the mushroom in question and have the most variety and diversity of data.\n",
    "\n",
    "That being said, I'm still going to use this dataset because it's the one benchmark I have for testing out data science models"
   ]
  }
 ],
 "metadata": {
  "callystio": {
   "description": "Classification of mushrooms using naive bayes",
   "publish": true
  },
  "kernelspec": {
   "display_name": "Python 3",
   "language": "python",
   "name": "python3"
  },
  "language_info": {
   "codemirror_mode": {
    "name": "ipython",
    "version": 3
   },
   "file_extension": ".py",
   "mimetype": "text/x-python",
   "name": "python",
   "nbconvert_exporter": "python",
   "pygments_lexer": "ipython3",
   "version": "3.9.1"
  },
  "title": "Naive Bayes Mushroom Classification",
  "widgets": {
   "application/vnd.jupyter.widget-state+json": {
    "state": {
     "00102eeb85b3419a9e528f9a5e422b73": {
      "model_module": "@jupyter-widgets/controls",
      "model_module_version": "1.5.0",
      "model_name": "DropdownModel",
      "state": {
       "_options_labels": [
        "Brown",
        "Buff",
        "Cinnamon",
        "Gray",
        "Orange",
        "Pink",
        "Red",
        "White",
        "Yellow"
       ],
       "description": "stalk_color_above_ring",
       "index": 0,
       "layout": "IPY_MODEL_98017cd2a54348dabbe4206ff4d30db5",
       "style": "IPY_MODEL_f797d8ed2b6d4962a3ede76750c32faa"
      }
     },
     "0076f069deee4fbab5be6ae9ab680fd0": {
      "model_module": "@jupyter-widgets/base",
      "model_module_version": "1.2.0",
      "model_name": "LayoutModel",
      "state": {}
     },
     "0081109d181845b9b1e49b9ade09847a": {
      "model_module": "@jupyter-widgets/controls",
      "model_module_version": "1.5.0",
      "model_name": "DescriptionStyleModel",
      "state": {
       "description_width": ""
      }
     },
     "008911abc8fa41fa850e5cc59e5249fe": {
      "model_module": "@jupyter-widgets/base",
      "model_module_version": "1.2.0",
      "model_name": "LayoutModel",
      "state": {}
     },
     "00a04d2578214b9893131f8ae12330f5": {
      "model_module": "@jupyter-widgets/controls",
      "model_module_version": "1.5.0",
      "model_name": "DescriptionStyleModel",
      "state": {
       "description_width": ""
      }
     },
     "00d56d15243446308d8db17743c26ffb": {
      "model_module": "@jupyter-widgets/controls",
      "model_module_version": "1.5.0",
      "model_name": "DescriptionStyleModel",
      "state": {
       "description_width": ""
      }
     },
     "0125ab9bdba5456e89d9900f17f947c5": {
      "model_module": "@jupyter-widgets/controls",
      "model_module_version": "1.5.0",
      "model_name": "DescriptionStyleModel",
      "state": {
       "description_width": ""
      }
     },
     "012fe75521b04af18f8b0d0dba983e6a": {
      "model_module": "@jupyter-widgets/controls",
      "model_module_version": "1.5.0",
      "model_name": "DropdownModel",
      "state": {
       "_options_labels": [
        "Brown",
        "Buff",
        "Cinnamon",
        "Gray",
        "Green",
        "Pink",
        "Purple",
        "Red",
        "White",
        "Yellow"
       ],
       "description": "cap_color",
       "index": 0,
       "layout": "IPY_MODEL_50f61eae76734d6e8d590e73718487e3",
       "style": "IPY_MODEL_9a481754592d4c0fb6671cfc1280d9a0"
      }
     },
     "0133d67b241c40d793376599bf5ecd3d": {
      "model_module": "@jupyter-widgets/base",
      "model_module_version": "1.2.0",
      "model_name": "LayoutModel",
      "state": {}
     },
     "0148740b4ac4400b91e27a68a3469a66": {
      "model_module": "@jupyter-widgets/controls",
      "model_module_version": "1.5.0",
      "model_name": "DescriptionStyleModel",
      "state": {
       "description_width": ""
      }
     },
     "015e57ebf4aa4f6b8a6ef600275f6aff": {
      "model_module": "@jupyter-widgets/controls",
      "model_module_version": "1.5.0",
      "model_name": "DropdownModel",
      "state": {
       "_options_labels": [
        "Brown",
        "Buff",
        "Cinnamon",
        "Gray",
        "Orange",
        "Pink",
        "Red",
        "White",
        "Yellow"
       ],
       "description": "stalk_color_below_ring",
       "index": 0,
       "layout": "IPY_MODEL_525aa4712e86412b98b1d7d1f6c323b4",
       "style": "IPY_MODEL_0a5e9ad879cf423aa4d81778f0797966"
      }
     },
     "017773005a73463387ba3163091d010d": {
      "model_module": "@jupyter-widgets/controls",
      "model_module_version": "1.5.0",
      "model_name": "DescriptionStyleModel",
      "state": {
       "description_width": ""
      }
     },
     "019a1ff7ffd4467fa2aa5bef21f57799": {
      "model_module": "@jupyter-widgets/base",
      "model_module_version": "1.2.0",
      "model_name": "LayoutModel",
      "state": {}
     },
     "01abaa0277b44acda29e71ef389bf8d5": {
      "model_module": "@jupyter-widgets/base",
      "model_module_version": "1.2.0",
      "model_name": "LayoutModel",
      "state": {}
     },
     "01cc4653f7da4ee8b6f0d169da5d64e8": {
      "model_module": "@jupyter-widgets/base",
      "model_module_version": "1.2.0",
      "model_name": "LayoutModel",
      "state": {}
     },
     "01d71ba3f1b54f2380f8f5907ca9aff5": {
      "model_module": "@jupyter-widgets/controls",
      "model_module_version": "1.5.0",
      "model_name": "DescriptionStyleModel",
      "state": {
       "description_width": ""
      }
     },
     "023c5c66cf16447a8652055ec6575302": {
      "model_module": "@jupyter-widgets/controls",
      "model_module_version": "1.5.0",
      "model_name": "DropdownModel",
      "state": {
       "_options_labels": [
        "Brown",
        "Buff",
        "Cinnamon",
        "Gray",
        "Green",
        "Pink",
        "Purple",
        "Red",
        "White",
        "Yellow"
       ],
       "description": "cap_color",
       "index": 0,
       "layout": "IPY_MODEL_573371f9ab85477ebbf581e21def31d4",
       "style": "IPY_MODEL_90f9efb8ab57414da223632c6da71fa3"
      }
     },
     "029eb3bf7ad34b13b4a2e7d8e10cc569": {
      "model_module": "@jupyter-widgets/base",
      "model_module_version": "1.2.0",
      "model_name": "LayoutModel",
      "state": {}
     },
     "030593328c714249b520a8b6ae5dbd06": {
      "model_module": "@jupyter-widgets/controls",
      "model_module_version": "1.5.0",
      "model_name": "DescriptionStyleModel",
      "state": {
       "description_width": ""
      }
     },
     "036cc94cc8b04b7ab69584cdc30d28af": {
      "model_module": "@jupyter-widgets/base",
      "model_module_version": "1.2.0",
      "model_name": "LayoutModel",
      "state": {}
     },
     "037966ddbf514c56a671908331a96d8f": {
      "model_module": "@jupyter-widgets/controls",
      "model_module_version": "1.5.0",
      "model_name": "DescriptionStyleModel",
      "state": {
       "description_width": ""
      }
     },
     "03b8f3064bd24545bb1182a1b63d095f": {
      "model_module": "@jupyter-widgets/base",
      "model_module_version": "1.2.0",
      "model_name": "LayoutModel",
      "state": {}
     },
     "03c1bdedba224b9c8bb84ebc46b07a3f": {
      "model_module": "@jupyter-widgets/controls",
      "model_module_version": "1.5.0",
      "model_name": "DropdownModel",
      "state": {
       "_options_labels": [
        "Black",
        "Brown",
        "Buff",
        "Chocolate",
        "Gray",
        "Green",
        "Orange",
        "Pink",
        "Purple",
        "Red",
        "White",
        "Yellow"
       ],
       "description": "gill_color",
       "index": 2,
       "layout": "IPY_MODEL_272a4ea9714a42498ae8afe3fd792511",
       "style": "IPY_MODEL_91eb5347e1944239bfee7ce3f1555a19"
      }
     },
     "03d79d7934e44230b40b813681ac9494": {
      "model_module": "@jupyter-widgets/controls",
      "model_module_version": "1.5.0",
      "model_name": "DropdownModel",
      "state": {
       "_options_labels": [
        "Bruises",
        "No Bruises"
       ],
       "description": "bruises",
       "index": 0,
       "layout": "IPY_MODEL_4568fce8d15c4f81911c5c1903dc71a9",
       "style": "IPY_MODEL_57756023525d481492cf01159054daa7"
      }
     },
     "043818cda9474f1b9ace1b1bcb38e7bc": {
      "model_module": "@jupyter-widgets/controls",
      "model_module_version": "1.5.0",
      "model_name": "DropdownModel",
      "state": {
       "_options_labels": [
        "Brown",
        "Buff",
        "Cinnamon",
        "Gray",
        "Orange",
        "Pink",
        "Red",
        "White",
        "Yellow"
       ],
       "description": "stalk_color_above_ring",
       "index": 0,
       "layout": "IPY_MODEL_9db905ec3fc444109fd170a5b0590fc8",
       "style": "IPY_MODEL_5c9b64eb66844a6595e6a0632ed45b33"
      }
     },
     "04bef3783aa14629a7883f4d5cafff6e": {
      "model_module": "@jupyter-widgets/controls",
      "model_module_version": "1.5.0",
      "model_name": "DropdownModel",
      "state": {
       "_options_labels": [
        "Bell",
        "Conical",
        "Convex",
        "Flat",
        "Knobbed",
        "Sunken"
       ],
       "description": "cap_shape",
       "index": 0,
       "layout": "IPY_MODEL_03b8f3064bd24545bb1182a1b63d095f",
       "style": "IPY_MODEL_46d6dfc6575a493986af4ebbccbf094d"
      }
     },
     "04d8539c446a46418c49afa9894f8b88": {
      "model_module": "@jupyter-widgets/controls",
      "model_module_version": "1.5.0",
      "model_name": "DropdownModel",
      "state": {
       "_options_labels": [
        "Black",
        "Brown",
        "Buff",
        "Chocolate",
        "Green",
        "Orange",
        "Purple",
        "White",
        "Yellow"
       ],
       "description": "spore_print_color",
       "index": 0,
       "layout": "IPY_MODEL_cae3e3ac806747c8a1641a86c8b94023",
       "style": "IPY_MODEL_8ecd533777024f3d9b0cd6a1e7646356"
      }
     },
     "04fabd232ded426a858c0614b5e177b0": {
      "model_module": "@jupyter-widgets/controls",
      "model_module_version": "1.5.0",
      "model_name": "DescriptionStyleModel",
      "state": {
       "description_width": ""
      }
     },
     "0524097e7f324c12aef618b06b71f60d": {
      "model_module": "@jupyter-widgets/base",
      "model_module_version": "1.2.0",
      "model_name": "LayoutModel",
      "state": {}
     },
     "052bb8a5877f41aa8cffa35ce6bb2de9": {
      "model_module": "@jupyter-widgets/controls",
      "model_module_version": "1.5.0",
      "model_name": "DescriptionStyleModel",
      "state": {
       "description_width": ""
      }
     },
     "055fe0e7d38344da9ca5dc93df15abbc": {
      "model_module": "@jupyter-widgets/controls",
      "model_module_version": "1.5.0",
      "model_name": "DropdownModel",
      "state": {
       "_options_labels": [
        "Black",
        "Brown",
        "Buff",
        "Chocolate",
        "Green",
        "Orange",
        "Purple",
        "White",
        "Yellow"
       ],
       "description": "spore_print_color",
       "index": 0,
       "layout": "IPY_MODEL_a7f10a1530524b33b8bbeb446a2e6884",
       "style": "IPY_MODEL_c4fe9e8a259d40f7bc39c7c476df9d84"
      }
     },
     "058073ec85ee4b62b1d75900d315eb08": {
      "model_module": "@jupyter-widgets/base",
      "model_module_version": "1.2.0",
      "model_name": "LayoutModel",
      "state": {}
     },
     "05e09350f4bf40359d9c9563af8b4d25": {
      "model_module": "@jupyter-widgets/controls",
      "model_module_version": "1.5.0",
      "model_name": "DropdownModel",
      "state": {
       "_options_labels": [
        "None",
        "One",
        "Two"
       ],
       "description": "ring_number",
       "index": 1,
       "layout": "IPY_MODEL_c429060799ca4d81adec1a1464ac0e17",
       "style": "IPY_MODEL_7c47b9d0d4424a45acd77ce849413f6d"
      }
     },
     "06070b6799804918b8ec66d79914c05a": {
      "model_module": "@jupyter-widgets/base",
      "model_module_version": "1.2.0",
      "model_name": "LayoutModel",
      "state": {}
     },
     "061133e8035148f7ae6d57e47f9f57f3": {
      "model_module": "@jupyter-widgets/controls",
      "model_module_version": "1.5.0",
      "model_name": "DescriptionStyleModel",
      "state": {
       "description_width": ""
      }
     },
     "06685d216f7e44e38a7bd439609ea460": {
      "model_module": "@jupyter-widgets/controls",
      "model_module_version": "1.5.0",
      "model_name": "DropdownModel",
      "state": {
       "_options_labels": [
        "Close",
        "Crowded"
       ],
       "description": "gill_spacing",
       "index": 0,
       "layout": "IPY_MODEL_9834b2074fc2434298d98b2e40a71264",
       "style": "IPY_MODEL_542543f527b649be9ba67242d299a429"
      }
     },
     "06783d339b924dc88fa0d5d7397c6080": {
      "model_module": "@jupyter-widgets/base",
      "model_module_version": "1.2.0",
      "model_name": "LayoutModel",
      "state": {}
     },
     "06917de642e04b4a968a39ab79a248aa": {
      "model_module": "@jupyter-widgets/controls",
      "model_module_version": "1.5.0",
      "model_name": "DescriptionStyleModel",
      "state": {
       "description_width": ""
      }
     },
     "06c0721d91174666b1cc47be71f9628e": {
      "model_module": "@jupyter-widgets/base",
      "model_module_version": "1.2.0",
      "model_name": "LayoutModel",
      "state": {}
     },
     "06d03a22ba62468fa199c4d9a6b7e1e4": {
      "model_module": "@jupyter-widgets/base",
      "model_module_version": "1.2.0",
      "model_name": "LayoutModel",
      "state": {}
     },
     "06e5a107c73747069eea34d135ff76db": {
      "model_module": "@jupyter-widgets/base",
      "model_module_version": "1.2.0",
      "model_name": "LayoutModel",
      "state": {}
     },
     "06ffe0851baf4be0a65445387849cb9d": {
      "model_module": "@jupyter-widgets/controls",
      "model_module_version": "1.5.0",
      "model_name": "DescriptionStyleModel",
      "state": {
       "description_width": ""
      }
     },
     "07044bbe90594e87aef2f58ed4ee1044": {
      "model_module": "@jupyter-widgets/base",
      "model_module_version": "1.2.0",
      "model_name": "LayoutModel",
      "state": {}
     },
     "07148faa1c104847924250d445aec996": {
      "model_module": "@jupyter-widgets/controls",
      "model_module_version": "1.5.0",
      "model_name": "DescriptionStyleModel",
      "state": {
       "description_width": ""
      }
     },
     "0732de97404e46e98e86595d1c657a64": {
      "model_module": "@jupyter-widgets/base",
      "model_module_version": "1.2.0",
      "model_name": "LayoutModel",
      "state": {}
     },
     "0761ec6d8d864081ba4939e91fbe9b9f": {
      "model_module": "@jupyter-widgets/controls",
      "model_module_version": "1.5.0",
      "model_name": "DescriptionStyleModel",
      "state": {
       "description_width": ""
      }
     },
     "0769e5a0a7a54a429a032a4142dbba3a": {
      "model_module": "@jupyter-widgets/base",
      "model_module_version": "1.2.0",
      "model_name": "LayoutModel",
      "state": {}
     },
     "07bbfbf2de614d6f8fb0b199ef1f1a37": {
      "model_module": "@jupyter-widgets/controls",
      "model_module_version": "1.5.0",
      "model_name": "DescriptionStyleModel",
      "state": {
       "description_width": ""
      }
     },
     "07d6dd7aaf974de093fe87957a4efe5e": {
      "model_module": "@jupyter-widgets/base",
      "model_module_version": "1.2.0",
      "model_name": "LayoutModel",
      "state": {}
     },
     "07de588d89664f52be9c9aed3ce6d437": {
      "model_module": "@jupyter-widgets/base",
      "model_module_version": "1.2.0",
      "model_name": "LayoutModel",
      "state": {}
     },
     "08130af1eaf34af0a4ff2a94851b5d3d": {
      "model_module": "@jupyter-widgets/controls",
      "model_module_version": "1.5.0",
      "model_name": "DropdownModel",
      "state": {
       "_options_labels": [
        "None",
        "One",
        "Two"
       ],
       "description": "ring_number",
       "index": 1,
       "layout": "IPY_MODEL_44cfc6d032d3483a84cb35f30fc4eea5",
       "style": "IPY_MODEL_386e056d2b5a44fbb9f53c71cba54ecf"
      }
     },
     "081be2ede48c40d0a7084768a051b7d5": {
      "model_module": "@jupyter-widgets/controls",
      "model_module_version": "1.5.0",
      "model_name": "DescriptionStyleModel",
      "state": {
       "description_width": ""
      }
     },
     "08217d28d97b4163a406a4d7b3deed8e": {
      "model_module": "@jupyter-widgets/base",
      "model_module_version": "1.2.0",
      "model_name": "LayoutModel",
      "state": {}
     },
     "084d6b97681040f28fdc08fe51b57524": {
      "model_module": "@jupyter-widgets/controls",
      "model_module_version": "1.5.0",
      "model_name": "DescriptionStyleModel",
      "state": {
       "description_width": ""
      }
     },
     "0862f1dc9e5e4748bab727902dc42422": {
      "model_module": "@jupyter-widgets/base",
      "model_module_version": "1.2.0",
      "model_name": "LayoutModel",
      "state": {}
     },
     "08714ae38fae4f1096d64ed9730316b5": {
      "model_module": "@jupyter-widgets/base",
      "model_module_version": "1.2.0",
      "model_name": "LayoutModel",
      "state": {}
     },
     "08a992c6a0194da6b84743ceba8c0da3": {
      "model_module": "@jupyter-widgets/controls",
      "model_module_version": "1.5.0",
      "model_name": "DescriptionStyleModel",
      "state": {
       "description_width": ""
      }
     },
     "08e515fd794644deb48c71f59121a66e": {
      "model_module": "@jupyter-widgets/controls",
      "model_module_version": "1.5.0",
      "model_name": "DropdownModel",
      "state": {
       "_options_labels": [
        "None",
        "One",
        "Two"
       ],
       "description": "ring_number",
       "index": 0,
       "layout": "IPY_MODEL_6976d2bc3e64482ea9fb9771bd2a35b7",
       "style": "IPY_MODEL_d0268cfa8565421c890d8c6bfdd8fc76"
      }
     },
     "09019621589440e5964438f8e49767d4": {
      "model_module": "@jupyter-widgets/controls",
      "model_module_version": "1.5.0",
      "model_name": "DescriptionStyleModel",
      "state": {
       "description_width": ""
      }
     },
     "090616ba868248dcbac1ca267763f38e": {
      "model_module": "@jupyter-widgets/controls",
      "model_module_version": "1.5.0",
      "model_name": "DescriptionStyleModel",
      "state": {
       "description_width": ""
      }
     },
     "090fb082de1a410ab40ee0d8426e1828": {
      "model_module": "@jupyter-widgets/base",
      "model_module_version": "1.2.0",
      "model_name": "LayoutModel",
      "state": {}
     },
     "09172e35522d4677b27d8ee495705e33": {
      "model_module": "@jupyter-widgets/controls",
      "model_module_version": "1.5.0",
      "model_name": "DescriptionStyleModel",
      "state": {
       "description_width": ""
      }
     },
     "09477d73e7d84147aad94a16b04044a2": {
      "model_module": "@jupyter-widgets/controls",
      "model_module_version": "1.5.0",
      "model_name": "DescriptionStyleModel",
      "state": {
       "description_width": ""
      }
     },
     "094db0ceb6594b8d87d71e9a425e3d6d": {
      "model_module": "@jupyter-widgets/base",
      "model_module_version": "1.2.0",
      "model_name": "LayoutModel",
      "state": {}
     },
     "09bde46e722d42f388ba0a10af9e279a": {
      "model_module": "@jupyter-widgets/controls",
      "model_module_version": "1.5.0",
      "model_name": "DropdownModel",
      "state": {
       "_options_labels": [
        "Fiberous",
        "Scaly",
        "Silky",
        "Smooth"
       ],
       "description": "stalk_surface_below_ring",
       "index": 0,
       "layout": "IPY_MODEL_9356da84fa0c4b12990e6087bd21afae",
       "style": "IPY_MODEL_e5596194ed0b4b6a8f4c169783bf3174"
      }
     },
     "0a5e9ad879cf423aa4d81778f0797966": {
      "model_module": "@jupyter-widgets/controls",
      "model_module_version": "1.5.0",
      "model_name": "DescriptionStyleModel",
      "state": {
       "description_width": ""
      }
     },
     "0a7b0ddfec8640d5a33ed9fc041decbc": {
      "model_module": "@jupyter-widgets/base",
      "model_module_version": "1.2.0",
      "model_name": "LayoutModel",
      "state": {}
     },
     "0ac8239a7d94420aac13bd9f2b7fd346": {
      "model_module": "@jupyter-widgets/base",
      "model_module_version": "1.2.0",
      "model_name": "LayoutModel",
      "state": {}
     },
     "0b61314a5bc64950aed5aa410f6c23be": {
      "model_module": "@jupyter-widgets/controls",
      "model_module_version": "1.5.0",
      "model_name": "DescriptionStyleModel",
      "state": {
       "description_width": ""
      }
     },
     "0b66985c3aaf408388218a43357f8b12": {
      "model_module": "@jupyter-widgets/controls",
      "model_module_version": "1.5.0",
      "model_name": "DropdownModel",
      "state": {
       "_options_labels": [
        "Brown",
        "Orange",
        "White",
        "Yellow"
       ],
       "description": "veil_color",
       "index": 0,
       "layout": "IPY_MODEL_2729ae693a364c56b93604c093e16a8a",
       "style": "IPY_MODEL_ee3e1a2a8015456b836af62f31dc4d4e"
      }
     },
     "0b72567859334d29921a0f1efef3f292": {
      "model_module": "@jupyter-widgets/controls",
      "model_module_version": "1.5.0",
      "model_name": "DropdownModel",
      "state": {
       "_options_labels": [
        "Attached",
        "Free"
       ],
       "description": "gill_attachment",
       "index": 0,
       "layout": "IPY_MODEL_c0aaf4bd01af45239d48f676af544d32",
       "style": "IPY_MODEL_d78dc7ff64e545f28dc5ff70a8cdd646"
      }
     },
     "0b75d0c0935d493f8372e5f4e59040c5": {
      "model_module": "@jupyter-widgets/controls",
      "model_module_version": "1.5.0",
      "model_name": "DropdownModel",
      "state": {
       "_options_labels": [
        "Fiberous",
        "Scaly",
        "Silky",
        "Smooth"
       ],
       "description": "stalk_surface_above_ring",
       "index": 0,
       "layout": "IPY_MODEL_b936e23fde1f4ba985ac1bd85337e698",
       "style": "IPY_MODEL_1650290283764d019fe5a00f07346591"
      }
     },
     "0bd7171cc4f347f78495cf9bbbacf2af": {
      "model_module": "@jupyter-widgets/controls",
      "model_module_version": "1.5.0",
      "model_name": "DescriptionStyleModel",
      "state": {
       "description_width": ""
      }
     },
     "0c1306bbcd114f57b8fae076f2d61ce4": {
      "model_module": "@jupyter-widgets/controls",
      "model_module_version": "1.5.0",
      "model_name": "DropdownModel",
      "state": {
       "_options_labels": [
        "Bulbous",
        "Club",
        "Cup",
        "Equal",
        "Rhizomorphs",
        "Rooted",
        "Missing"
       ],
       "description": "stalk_root",
       "index": 0,
       "layout": "IPY_MODEL_8e0a96283fcb478ea912a286aac865b1",
       "style": "IPY_MODEL_67860180f8f54def811004b1d9f1d9b9"
      }
     },
     "0c147fa6e13d4fed81d8f92873dea4de": {
      "model_module": "@jupyter-widgets/output",
      "model_module_version": "1.0.0",
      "model_name": "OutputModel",
      "state": {
       "layout": "IPY_MODEL_6af0a3bfda224a24b7227aa38fb066ae",
       "outputs": [
        {
         "name": "stdout",
         "output_type": "stream",
         "text": "class\ne    0.516002\np    0.483998\ndtype: float64\nclass\ne    0.051535\np    0.006401\ndtype: float64\nclass\ne    0.018899\np    0.001220\ndtype: float64\nclass\ne    0.005747\np    0.000324\ndtype: float64\nclass\ne    0.003774\np    0.000052\ndtype: float64\nclass\ne    0.000371\np    0.000000\ndtype: float64\nclass\ne    0.000017\np    0.000000\ndtype: float64\nclass\ne    0.000012\np    0.000000\ndtype: float64\nclass\ne    0.000011\np    0.000000\ndtype: float64\nclass\ne    9.433171e-07\np    0.000000e+00\ndtype: float64\nclass\ne    3.603447e-07\np    0.000000e+00\ndtype: float64\nclass\ne    1.649288e-07\np    0.000000e+00\ndtype: float64\nclass\ne    1.594731e-08\np    0.000000e+00\ndtype: float64\nclass\ne    1.709365e-09\np    0.000000e+00\ndtype: float64\nclass\ne    5.980603e-12\np    0.000000e+00\ndtype: float64\nclass\ne    8.940469e-14\np    0.000000e+00\ndtype: float64\nclass\ne    8.940469e-14\np    0.000000e+00\ndtype: float64\nclass\ne    2.075872e-15\np    0.000000e+00\ndtype: float64\nclass\ne    0.0\np    0.0\ndtype: float64\nclass\ne    0.0\np    0.0\ndtype: float64\nclass\ne    0.0\np    0.0\ndtype: float64\nclass\ne    0.0\np    0.0\ndtype: float64\nclass\ne    0.0\np    0.0\ndtype: float64\n"
        }
       ]
      }
     },
     "0c2bb434bc6e4bb2aee7d0448c9314f2": {
      "model_module": "@jupyter-widgets/controls",
      "model_module_version": "1.5.0",
      "model_name": "DescriptionStyleModel",
      "state": {
       "description_width": ""
      }
     },
     "0c323de0bfc64da2acd2ed202b2333d4": {
      "model_module": "@jupyter-widgets/controls",
      "model_module_version": "1.5.0",
      "model_name": "DescriptionStyleModel",
      "state": {
       "description_width": ""
      }
     },
     "0c5ab468bf40463ebfbb0542c7bbdcb6": {
      "model_module": "@jupyter-widgets/base",
      "model_module_version": "1.2.0",
      "model_name": "LayoutModel",
      "state": {}
     },
     "0c6c221c55374c69b73a3a8d0d94ee86": {
      "model_module": "@jupyter-widgets/controls",
      "model_module_version": "1.5.0",
      "model_name": "DescriptionStyleModel",
      "state": {
       "description_width": ""
      }
     },
     "0c9bcef95fd14a5ca42d776a631a34e7": {
      "model_module": "@jupyter-widgets/controls",
      "model_module_version": "1.5.0",
      "model_name": "DescriptionStyleModel",
      "state": {
       "description_width": ""
      }
     },
     "0cc78a888dce4d049e110b13a3768bdc": {
      "model_module": "@jupyter-widgets/base",
      "model_module_version": "1.2.0",
      "model_name": "LayoutModel",
      "state": {}
     },
     "0cd012466a274842ac71652ce5d4f2cf": {
      "model_module": "@jupyter-widgets/controls",
      "model_module_version": "1.5.0",
      "model_name": "DescriptionStyleModel",
      "state": {
       "description_width": ""
      }
     },
     "0ce0d2d0c36b4978bc78dbdbc1d6d488": {
      "model_module": "@jupyter-widgets/controls",
      "model_module_version": "1.5.0",
      "model_name": "DescriptionStyleModel",
      "state": {
       "description_width": ""
      }
     },
     "0d1252698b1e442e8138677106da50f0": {
      "model_module": "@jupyter-widgets/controls",
      "model_module_version": "1.5.0",
      "model_name": "DropdownModel",
      "state": {
       "_options_labels": [
        "Brown",
        "Orange",
        "White",
        "Yellow"
       ],
       "description": "veil_color",
       "index": 0,
       "layout": "IPY_MODEL_64ce7a5405174bdd903dfaa274bd8e27",
       "style": "IPY_MODEL_aca659128ae54c0daa49336df88e1096"
      }
     },
     "0d75702bcec24858a2e94e7bb856bfc0": {
      "model_module": "@jupyter-widgets/controls",
      "model_module_version": "1.5.0",
      "model_name": "DropdownModel",
      "state": {
       "_options_labels": [
        "Bulbous",
        "Club",
        "Cup",
        "Equal",
        "Rhizomorphs",
        "Rooted",
        "Missing"
       ],
       "description": "stalk_root",
       "index": 0,
       "layout": "IPY_MODEL_c92d98456377486ba02e976ed67ec184",
       "style": "IPY_MODEL_c9914b5beb7b47bfa8fa36a716d771bc"
      }
     },
     "0d903980640f4412be9cb163e876764a": {
      "model_module": "@jupyter-widgets/controls",
      "model_module_version": "1.5.0",
      "model_name": "DropdownModel",
      "state": {
       "_options_labels": [
        "Enlarging",
        "Tapering"
       ],
       "description": "stalk_shape",
       "index": 0,
       "layout": "IPY_MODEL_b6ae8acdae1a4901a4b5abd055e3bc51",
       "style": "IPY_MODEL_1305204d65fb4bf9b73ba114a2d4c887"
      }
     },
     "0da25265091646179a772202c955917a": {
      "model_module": "@jupyter-widgets/controls",
      "model_module_version": "1.5.0",
      "model_name": "DescriptionStyleModel",
      "state": {
       "description_width": ""
      }
     },
     "0daf16193ba544ab83849c5080a06b66": {
      "model_module": "@jupyter-widgets/controls",
      "model_module_version": "1.5.0",
      "model_name": "DropdownModel",
      "state": {
       "_options_labels": [
        "Black",
        "Brown",
        "Buff",
        "Chocolate",
        "Green",
        "Orange",
        "Purple",
        "White",
        "Yellow"
       ],
       "description": "spore_print_color",
       "index": 0,
       "layout": "IPY_MODEL_c3fcc130048d45d69ce259a0fd69a176",
       "style": "IPY_MODEL_611765b19fd2493abf15134046d0400c"
      }
     },
     "0de507d851ff4a0ebe5ffc23698c1019": {
      "model_module": "@jupyter-widgets/controls",
      "model_module_version": "1.5.0",
      "model_name": "DropdownModel",
      "state": {
       "_options_labels": [
        "Brown",
        "Orange",
        "White",
        "Yellow"
       ],
       "description": "veil_color",
       "index": 0,
       "layout": "IPY_MODEL_ab1f5bde3bde4401a76ff381e471146c",
       "style": "IPY_MODEL_6d26858f5cc84dc1b03db8d98406fcce"
      }
     },
     "0de5360b8f8a47faae8cd517ccdb0e53": {
      "model_module": "@jupyter-widgets/base",
      "model_module_version": "1.2.0",
      "model_name": "LayoutModel",
      "state": {}
     },
     "0df55100a83d46229f40f21d559e42f4": {
      "model_module": "@jupyter-widgets/controls",
      "model_module_version": "1.5.0",
      "model_name": "DescriptionStyleModel",
      "state": {
       "description_width": ""
      }
     },
     "0e56995c377c45e09661f8709ef633da": {
      "model_module": "@jupyter-widgets/controls",
      "model_module_version": "1.5.0",
      "model_name": "DropdownModel",
      "state": {
       "_options_labels": [
        "Grasses",
        "Leaves",
        "Meadows",
        "Paths",
        "Urban",
        "Waste",
        "Woods"
       ],
       "description": "habitat",
       "index": 3,
       "layout": "IPY_MODEL_841538fd7d144c978586ccf626136ba8",
       "style": "IPY_MODEL_a14e9cd5c1fc4d1baba43be77a12ace6"
      }
     },
     "0e5bd2fd8d5a46d6b7423374f356dc51": {
      "model_module": "@jupyter-widgets/controls",
      "model_module_version": "1.5.0",
      "model_name": "VBoxModel",
      "state": {
       "_dom_classes": [
        "widget-interact"
       ],
       "children": [
        "IPY_MODEL_98a7bf8591d6408bbf55f253703bfdfa",
        "IPY_MODEL_2b069931171f4f14a36a0d56cd22b4e7",
        "IPY_MODEL_2c3d815acc0f4a78878ce60c4d60fa37",
        "IPY_MODEL_5ec8b672e64944faa52693a9578c2b35",
        "IPY_MODEL_449924b5029244d8b1db12d9d3728a21",
        "IPY_MODEL_5861ffa02c5d4119a46fc21f242c1ec6",
        "IPY_MODEL_307889487a7d4a2896667747ae653db7",
        "IPY_MODEL_5b5e5ec2cd5b45c096661beaa954fcd8",
        "IPY_MODEL_40f9c63d33244bdbb5ad29e80a61cf3e",
        "IPY_MODEL_b3d7fea057d8402a9a825015059e232d",
        "IPY_MODEL_8db3a9b95a2045459b03b01d83ff9c4f",
        "IPY_MODEL_f63f648c53b74fbaa57377635a9d2cc6",
        "IPY_MODEL_36a50cb760404ea484e880ed2490e7f1",
        "IPY_MODEL_9c8a6d2494bb49e0af4857e0f74527de",
        "IPY_MODEL_d2c835a82c674c36895815c4b26cd53a",
        "IPY_MODEL_c0eefdc7cb8a4e97b3504d4a58332c84",
        "IPY_MODEL_8b493f82ef6341aabfa5ec63bdfd14ad",
        "IPY_MODEL_5821a21656ce49f6a4d71f33b242274d",
        "IPY_MODEL_5cad6e3a2fb645d1b3c5f6b597ce539a",
        "IPY_MODEL_4e7efe7a43cf44d7b1e935ebc67d456b",
        "IPY_MODEL_92cfbcadfd594230bb42faaa18644ada",
        "IPY_MODEL_c0380960257d49088eef90ce22ee5fa7"
       ],
       "layout": "IPY_MODEL_aacdb31f557e4be19cc20c7deb65c4f8"
      }
     },
     "0e67659137834c2a95236a3dde62557a": {
      "model_module": "@jupyter-widgets/controls",
      "model_module_version": "1.5.0",
      "model_name": "DescriptionStyleModel",
      "state": {
       "description_width": ""
      }
     },
     "0e769fbc14ed481b96133d3c3a1eba59": {
      "model_module": "@jupyter-widgets/controls",
      "model_module_version": "1.5.0",
      "model_name": "DropdownModel",
      "state": {
       "_options_labels": [
        "Bruises",
        "No Bruises"
       ],
       "description": "bruises",
       "index": 0,
       "layout": "IPY_MODEL_bdbb4131cad14bc6ab02ecbb5148d15b",
       "style": "IPY_MODEL_5c6d07b74bbd402b96eee21d501bb6c4"
      }
     },
     "0e8065e3b3ec40658e6a63d2f0f1209c": {
      "model_module": "@jupyter-widgets/base",
      "model_module_version": "1.2.0",
      "model_name": "LayoutModel",
      "state": {}
     },
     "0e827c1349e6427a996921b98444e3d9": {
      "model_module": "@jupyter-widgets/controls",
      "model_module_version": "1.5.0",
      "model_name": "DescriptionStyleModel",
      "state": {
       "description_width": ""
      }
     },
     "0ea56f4d0a2e4d9ba48fde7e7712d84c": {
      "model_module": "@jupyter-widgets/controls",
      "model_module_version": "1.5.0",
      "model_name": "DescriptionStyleModel",
      "state": {
       "description_width": ""
      }
     },
     "0ed71285141f466ba6e5600c1c8314a9": {
      "model_module": "@jupyter-widgets/controls",
      "model_module_version": "1.5.0",
      "model_name": "DescriptionStyleModel",
      "state": {
       "description_width": ""
      }
     },
     "0f04fb1cb77141e885d208ad88f5d0dd": {
      "model_module": "@jupyter-widgets/controls",
      "model_module_version": "1.5.0",
      "model_name": "DropdownModel",
      "state": {
       "_options_labels": [
        "Close",
        "Crowded",
        "Distant"
       ],
       "description": "gill_spacing",
       "index": 0,
       "layout": "IPY_MODEL_bc36b68dcd3e41568eea8a036d164d63",
       "style": "IPY_MODEL_2610c8ff03344bc3bd34b347e4559d64"
      }
     },
     "0faea0adecf34e95a8cf1e4218b6570e": {
      "model_module": "@jupyter-widgets/controls",
      "model_module_version": "1.5.0",
      "model_name": "DropdownModel",
      "state": {
       "_options_labels": [
        "Brown",
        "Buff",
        "Cinnamon",
        "Gray",
        "Orange",
        "Pink",
        "Red",
        "White",
        "Yellow"
       ],
       "description": "stalk_color_below_ring",
       "index": 0,
       "layout": "IPY_MODEL_e6763a0fec244c22965e20908fa9b4fe",
       "style": "IPY_MODEL_e7a6a6cedd204dd4a05792f59d01248c"
      }
     },
     "0fb54028c288452495cb4ee8e513cd2f": {
      "model_module": "@jupyter-widgets/controls",
      "model_module_version": "1.5.0",
      "model_name": "DropdownModel",
      "state": {
       "_options_labels": [
        "Brown",
        "Buff",
        "Cinnamon",
        "Gray",
        "Green",
        "Pink",
        "Purple",
        "Red",
        "White",
        "Yellow"
       ],
       "description": "cap_color",
       "index": 0,
       "layout": "IPY_MODEL_b1f6d5fff7344d4a90e69887559dbaec",
       "style": "IPY_MODEL_5eaec0d16fa44374a6548d7cd8ae9280"
      }
     },
     "0fe1480dafd742d485d7f8e674b2aaca": {
      "model_module": "@jupyter-widgets/base",
      "model_module_version": "1.2.0",
      "model_name": "LayoutModel",
      "state": {}
     },
     "0fe73f95a5d24cc68e2342bfd4ef6c6d": {
      "model_module": "@jupyter-widgets/controls",
      "model_module_version": "1.5.0",
      "model_name": "DescriptionStyleModel",
      "state": {
       "description_width": ""
      }
     },
     "1003e2e251014d4c810724a085ea4e44": {
      "model_module": "@jupyter-widgets/controls",
      "model_module_version": "1.5.0",
      "model_name": "DropdownModel",
      "state": {
       "_options_labels": [
        "Black",
        "Brown",
        "Buff",
        "Chocolate",
        "Green",
        "Orange",
        "Purple",
        "White",
        "Yellow"
       ],
       "description": "spore_print_color",
       "index": 7,
       "layout": "IPY_MODEL_ed728ac50c634e2fb9b8d0a648caf7a6",
       "style": "IPY_MODEL_b742f744473344ef96133470417efea3"
      }
     },
     "102baa7916134266aecb9bc35e6b1794": {
      "model_module": "@jupyter-widgets/controls",
      "model_module_version": "1.5.0",
      "model_name": "DescriptionStyleModel",
      "state": {
       "description_width": ""
      }
     },
     "1070d1074c6745b2a398dda2dc68b6eb": {
      "model_module": "@jupyter-widgets/controls",
      "model_module_version": "1.5.0",
      "model_name": "DropdownModel",
      "state": {
       "_options_labels": [
        "Fiberous",
        "Grooves",
        "Scaly",
        "Smooth"
       ],
       "description": "cap_surface",
       "index": 0,
       "layout": "IPY_MODEL_1da1a327badc4f02adf4f3df9e9c3549",
       "style": "IPY_MODEL_5f558581d76844b2a10f8a355a16778f"
      }
     },
     "107c38dadf8a4fd48b4d3bd1b52abb07": {
      "model_module": "@jupyter-widgets/controls",
      "model_module_version": "1.5.0",
      "model_name": "DescriptionStyleModel",
      "state": {
       "description_width": ""
      }
     },
     "11a7594468e44644a2e09ae1120bf38f": {
      "model_module": "@jupyter-widgets/controls",
      "model_module_version": "1.5.0",
      "model_name": "DropdownModel",
      "state": {
       "_options_labels": [
        "Enlarging",
        "Tapering"
       ],
       "description": "stalk_shape",
       "index": 0,
       "layout": "IPY_MODEL_49322d4b320347298f6a031a149cf11e",
       "style": "IPY_MODEL_ed0bd748e7cf4053aa232cddc3fbbe56"
      }
     },
     "11aaa26572634160adf2244897658b0b": {
      "model_module": "@jupyter-widgets/controls",
      "model_module_version": "1.5.0",
      "model_name": "DropdownModel",
      "state": {
       "_options_labels": [
        "Evanescent",
        "Flaring",
        "Large",
        "None",
        "Pendant",
        "Sheathing",
        "Zone"
       ],
       "description": "ring_type",
       "index": 0,
       "layout": "IPY_MODEL_d3787ae99afd4c75bb500e8d7fc6e8a1",
       "style": "IPY_MODEL_25e0852c0cd74758ad5ad3186ee79d07"
      }
     },
     "11beed7ae949499484c125c3d637a04e": {
      "model_module": "@jupyter-widgets/controls",
      "model_module_version": "1.5.0",
      "model_name": "DropdownModel",
      "state": {
       "_options_labels": [
        "Black",
        "Brown",
        "Buff",
        "Chocolate",
        "Gray",
        "Green",
        "Orange",
        "Pink",
        "Purple",
        "Red",
        "White",
        "Yellow"
       ],
       "description": "gill_color",
       "index": 0,
       "layout": "IPY_MODEL_fef99212f3874612ad95312d3117e8c1",
       "style": "IPY_MODEL_5d66911f14da47fbba520127e5e32a55"
      }
     },
     "12085078019f4ebfb3a4b7cb72fb1bce": {
      "model_module": "@jupyter-widgets/base",
      "model_module_version": "1.2.0",
      "model_name": "LayoutModel",
      "state": {}
     },
     "123667006b694895aee51afefb997aa1": {
      "model_module": "@jupyter-widgets/controls",
      "model_module_version": "1.5.0",
      "model_name": "DescriptionStyleModel",
      "state": {
       "description_width": ""
      }
     },
     "125c37c6ee044409bfd7023c760a046a": {
      "model_module": "@jupyter-widgets/base",
      "model_module_version": "1.2.0",
      "model_name": "LayoutModel",
      "state": {}
     },
     "1276dc1990994ceaa194b2694dd5b6c3": {
      "model_module": "@jupyter-widgets/controls",
      "model_module_version": "1.5.0",
      "model_name": "DropdownModel",
      "state": {
       "_options_labels": [
        "Fiberous",
        "Scaly",
        "Silky",
        "Smooth"
       ],
       "description": "stalk_surface_above_ring",
       "index": 3,
       "layout": "IPY_MODEL_767ace05a37245a098279b10943f2074",
       "style": "IPY_MODEL_7dc94b4638234961a380e0090d98708e"
      }
     },
     "1281d8ba37934e8ebcc0e551dbc819af": {
      "model_module": "@jupyter-widgets/controls",
      "model_module_version": "1.5.0",
      "model_name": "DropdownModel",
      "state": {
       "_options_labels": [
        "Broad",
        "Narrow"
       ],
       "description": "gill_size",
       "index": 0,
       "layout": "IPY_MODEL_4ae55244b30f48f09ec030668334c191",
       "style": "IPY_MODEL_be49147e69a74c42a27ea77b1e7741d4"
      }
     },
     "12ade98bef484d5c8f856e3a73de92b4": {
      "model_module": "@jupyter-widgets/base",
      "model_module_version": "1.2.0",
      "model_name": "LayoutModel",
      "state": {}
     },
     "1305204d65fb4bf9b73ba114a2d4c887": {
      "model_module": "@jupyter-widgets/controls",
      "model_module_version": "1.5.0",
      "model_name": "DescriptionStyleModel",
      "state": {
       "description_width": ""
      }
     },
     "1321362d1d7b46eda39d8121d82459ba": {
      "model_module": "@jupyter-widgets/base",
      "model_module_version": "1.2.0",
      "model_name": "LayoutModel",
      "state": {}
     },
     "132a3fa372364316873050b414bd6a64": {
      "model_module": "@jupyter-widgets/controls",
      "model_module_version": "1.5.0",
      "model_name": "DropdownModel",
      "state": {
       "_options_labels": [
        "Bruises",
        "No Bruises"
       ],
       "description": "bruises",
       "index": 0,
       "layout": "IPY_MODEL_46b3c3d218d74b8e8f53779264546854",
       "style": "IPY_MODEL_15a5b7077e834c62a10be7b8885475ed"
      }
     },
     "13426525cef3438fa3e8a3273c69e6a5": {
      "model_module": "@jupyter-widgets/controls",
      "model_module_version": "1.5.0",
      "model_name": "DescriptionStyleModel",
      "state": {
       "description_width": ""
      }
     },
     "13701d4912e54c3cad76c8fe4da6a02b": {
      "model_module": "@jupyter-widgets/base",
      "model_module_version": "1.2.0",
      "model_name": "LayoutModel",
      "state": {}
     },
     "1379d2829c3046acbafba4af5ed59726": {
      "model_module": "@jupyter-widgets/controls",
      "model_module_version": "1.5.0",
      "model_name": "DropdownModel",
      "state": {
       "_options_labels": [
        "Brown",
        "Buff",
        "Cinnamon",
        "Gray",
        "Green",
        "Pink",
        "Purple",
        "Red",
        "White",
        "Yellow"
       ],
       "description": "cap_color",
       "index": 0,
       "layout": "IPY_MODEL_25849523ae4f4f23a60f48531767bd3d",
       "style": "IPY_MODEL_7240ed34ca0c40809bb362dfa5b2aacf"
      }
     },
     "137cdc57ebde46ccb864dca4b0bad5b1": {
      "model_module": "@jupyter-widgets/controls",
      "model_module_version": "1.5.0",
      "model_name": "DropdownModel",
      "state": {
       "_options_labels": [
        "Grasses",
        "Leaves",
        "Meadows",
        "Paths",
        "Urban",
        "Waste",
        "Woods"
       ],
       "description": "habitat",
       "index": 0,
       "layout": "IPY_MODEL_15eac93eed7f4c52afcff9eed07e2234",
       "style": "IPY_MODEL_42cc248cb2a94b56ab7fb69edbd94f86"
      }
     },
     "1387d89fd30b4db9aab8e4499f1be017": {
      "model_module": "@jupyter-widgets/controls",
      "model_module_version": "1.5.0",
      "model_name": "DescriptionStyleModel",
      "state": {
       "description_width": ""
      }
     },
     "13cb0cc9703348c6b9da857a815e8447": {
      "model_module": "@jupyter-widgets/controls",
      "model_module_version": "1.5.0",
      "model_name": "DescriptionStyleModel",
      "state": {
       "description_width": ""
      }
     },
     "1400edba666042e9a0ef03cff2e5c757": {
      "model_module": "@jupyter-widgets/controls",
      "model_module_version": "1.5.0",
      "model_name": "DropdownModel",
      "state": {
       "_options_labels": [
        "Abundant",
        "Clustered",
        "Numerous",
        "Scattered",
        "Several",
        "Solitary"
       ],
       "description": "population",
       "index": 0,
       "layout": "IPY_MODEL_e9b69a0d2d8941c1a04603a639d5bffe",
       "style": "IPY_MODEL_4f21ee007de84ba09eb4c363ae3f6a21"
      }
     },
     "142df6a0e43948ad94f778c04b00ea51": {
      "model_module": "@jupyter-widgets/controls",
      "model_module_version": "1.5.0",
      "model_name": "DropdownModel",
      "state": {
       "_options_labels": [
        "Black",
        "Brown",
        "Buff",
        "Chocolate",
        "Gray",
        "Green",
        "Orange",
        "Pink",
        "Purple",
        "Red",
        "White",
        "Yellow"
       ],
       "description": "gill_color",
       "index": 0,
       "layout": "IPY_MODEL_352f93dd58e0452db6121d80580e61ea",
       "style": "IPY_MODEL_25ee7a0163854e14aaea8c4525c50e7e"
      }
     },
     "147a697db793401cbd4521da0bb2f28b": {
      "model_module": "@jupyter-widgets/controls",
      "model_module_version": "1.5.0",
      "model_name": "DropdownModel",
      "state": {
       "_options_labels": [
        "Attached",
        "Descending",
        "Free",
        "Notched"
       ],
       "description": "gill_attachment",
       "index": 0,
       "layout": "IPY_MODEL_06c0721d91174666b1cc47be71f9628e",
       "style": "IPY_MODEL_c750fec32bdf4e018870d26d99ba83b3"
      }
     },
     "14b47e9e90d74e7e9a38c4853d10b506": {
      "model_module": "@jupyter-widgets/controls",
      "model_module_version": "1.5.0",
      "model_name": "DescriptionStyleModel",
      "state": {
       "description_width": ""
      }
     },
     "14d0b1cfe8fa4e78a014d4d31af05a64": {
      "model_module": "@jupyter-widgets/base",
      "model_module_version": "1.2.0",
      "model_name": "LayoutModel",
      "state": {}
     },
     "14e749625e924f7bb2bda2a739e30be2": {
      "model_module": "@jupyter-widgets/controls",
      "model_module_version": "1.5.0",
      "model_name": "DescriptionStyleModel",
      "state": {
       "description_width": ""
      }
     },
     "1522989a713f415b9a4ee94cb8eafe52": {
      "model_module": "@jupyter-widgets/base",
      "model_module_version": "1.2.0",
      "model_name": "LayoutModel",
      "state": {}
     },
     "153418574af847048e2eee9c87ee47d1": {
      "model_module": "@jupyter-widgets/controls",
      "model_module_version": "1.5.0",
      "model_name": "DropdownModel",
      "state": {
       "_options_labels": [
        "Brown",
        "Buff",
        "Cinnamon",
        "Gray",
        "Green",
        "Pink",
        "Purple",
        "Red",
        "White",
        "Yellow"
       ],
       "description": "cap_color",
       "index": 0,
       "layout": "IPY_MODEL_fb4a15695ed943e39efc96f2c337ad73",
       "style": "IPY_MODEL_e186778537e2431483cbfafb9eeca1ac"
      }
     },
     "154f283ea73f42a8a46a4b23379c00d6": {
      "model_module": "@jupyter-widgets/base",
      "model_module_version": "1.2.0",
      "model_name": "LayoutModel",
      "state": {}
     },
     "1568104359744e4da7a8ae0025020101": {
      "model_module": "@jupyter-widgets/controls",
      "model_module_version": "1.5.0",
      "model_name": "DropdownModel",
      "state": {
       "_options_labels": [
        "Abundant",
        "Clustered",
        "Numerous",
        "Scattered",
        "Several",
        "Solitary"
       ],
       "description": "population",
       "index": 4,
       "layout": "IPY_MODEL_3d7ddd525b644a63bfe18b92264b9324",
       "style": "IPY_MODEL_f89f94524c834bb39597e4545507497e"
      }
     },
     "158351223a4d42bc86a50a083d16f853": {
      "model_module": "@jupyter-widgets/controls",
      "model_module_version": "1.5.0",
      "model_name": "DropdownModel",
      "state": {
       "_options_labels": [
        "Fiberous",
        "Grooves",
        "Scaly",
        "Smooth"
       ],
       "description": "cap_surface",
       "index": 0,
       "layout": "IPY_MODEL_675fc09a2a554b33b7eba0790919ddd5",
       "style": "IPY_MODEL_d58fd6cebe0d4f499581cf05eabee339"
      }
     },
     "158c5d261b04475ba33320af1a3f2c56": {
      "model_module": "@jupyter-widgets/controls",
      "model_module_version": "1.5.0",
      "model_name": "DropdownModel",
      "state": {
       "_options_labels": [
        "Almond",
        "Anise",
        "Creosote",
        "Fishy",
        "Foul",
        "Musty",
        "None",
        "Pungent",
        "Spicy"
       ],
       "description": "odor",
       "index": 0,
       "layout": "IPY_MODEL_38d3519709294190b78785340e73424e",
       "style": "IPY_MODEL_fbd3d751d19543eab02ac3862e571d61"
      }
     },
     "15a5b7077e834c62a10be7b8885475ed": {
      "model_module": "@jupyter-widgets/controls",
      "model_module_version": "1.5.0",
      "model_name": "DescriptionStyleModel",
      "state": {
       "description_width": ""
      }
     },
     "15eac93eed7f4c52afcff9eed07e2234": {
      "model_module": "@jupyter-widgets/base",
      "model_module_version": "1.2.0",
      "model_name": "LayoutModel",
      "state": {}
     },
     "15f315badef245349505c14d6eab4cb3": {
      "model_module": "@jupyter-widgets/base",
      "model_module_version": "1.2.0",
      "model_name": "LayoutModel",
      "state": {}
     },
     "1650290283764d019fe5a00f07346591": {
      "model_module": "@jupyter-widgets/controls",
      "model_module_version": "1.5.0",
      "model_name": "DescriptionStyleModel",
      "state": {
       "description_width": ""
      }
     },
     "16e1dce9991f4a8893fdab2bf2d84d17": {
      "model_module": "@jupyter-widgets/controls",
      "model_module_version": "1.5.0",
      "model_name": "DescriptionStyleModel",
      "state": {
       "description_width": ""
      }
     },
     "17121144ada541969bd5d21bd8e733ed": {
      "model_module": "@jupyter-widgets/controls",
      "model_module_version": "1.5.0",
      "model_name": "DescriptionStyleModel",
      "state": {
       "description_width": ""
      }
     },
     "171463fe7d4647ab8b12ce0c65129570": {
      "model_module": "@jupyter-widgets/base",
      "model_module_version": "1.2.0",
      "model_name": "LayoutModel",
      "state": {}
     },
     "1735737fa8b34ae792f17d07a9dfecf4": {
      "model_module": "@jupyter-widgets/base",
      "model_module_version": "1.2.0",
      "model_name": "LayoutModel",
      "state": {}
     },
     "1736807f7ad042ed86f8c524e029399c": {
      "model_module": "@jupyter-widgets/controls",
      "model_module_version": "1.5.0",
      "model_name": "DescriptionStyleModel",
      "state": {
       "description_width": ""
      }
     },
     "17520f9f98164bf68f1e08e3c2782c0a": {
      "model_module": "@jupyter-widgets/base",
      "model_module_version": "1.2.0",
      "model_name": "LayoutModel",
      "state": {}
     },
     "176fc39bd70040f887cdbc4e5f349154": {
      "model_module": "@jupyter-widgets/controls",
      "model_module_version": "1.5.0",
      "model_name": "DropdownModel",
      "state": {
       "_options_labels": [
        "Almond",
        "Anise",
        "Creosote",
        "Fishy",
        "Foul",
        "Musty",
        "None",
        "Pungent",
        "Spicy"
       ],
       "description": "odor",
       "index": 4,
       "layout": "IPY_MODEL_32daaf798b9a4580ae3d30170aa63a5f",
       "style": "IPY_MODEL_d59e9b2d67d7414c95bfe9654264f2f7"
      }
     },
     "177a400e0c384196b1498e3c5bc33cae": {
      "model_module": "@jupyter-widgets/controls",
      "model_module_version": "1.5.0",
      "model_name": "DropdownModel",
      "state": {
       "_options_labels": [
        "Brown",
        "Buff",
        "Cinnamon",
        "Gray",
        "Green",
        "Pink",
        "Purple",
        "Red",
        "White",
        "Yellow"
       ],
       "description": "cap_color",
       "index": 0,
       "layout": "IPY_MODEL_7c53e96d2acb4d4da6da83dd8f39b806",
       "style": "IPY_MODEL_c835753b8e9a4229b62bdf26c11c30fc"
      }
     },
     "17a78e719e144373ac723d60d80de0e4": {
      "model_module": "@jupyter-widgets/base",
      "model_module_version": "1.2.0",
      "model_name": "LayoutModel",
      "state": {}
     },
     "18235279ec55432f970d7ff86336ccb1": {
      "model_module": "@jupyter-widgets/controls",
      "model_module_version": "1.5.0",
      "model_name": "DescriptionStyleModel",
      "state": {
       "description_width": ""
      }
     },
     "182f319ee5994631bd3e2644e97d25aa": {
      "model_module": "@jupyter-widgets/controls",
      "model_module_version": "1.5.0",
      "model_name": "DropdownModel",
      "state": {
       "_options_labels": [
        "Bruises",
        "No Bruises"
       ],
       "description": "bruises",
       "index": 1,
       "layout": "IPY_MODEL_226cf1a199d4483595184e5eace80354",
       "style": "IPY_MODEL_04fabd232ded426a858c0614b5e177b0"
      }
     },
     "1857bbfc03e24d748afa60e16624b8b6": {
      "model_module": "@jupyter-widgets/controls",
      "model_module_version": "1.5.0",
      "model_name": "DropdownModel",
      "state": {
       "_options_labels": [
        "Partial",
        "Universal"
       ],
       "description": "veil_type",
       "index": 0,
       "layout": "IPY_MODEL_263fa416902c4afdab74af62624997fa",
       "style": "IPY_MODEL_acdef79e4a9b48a28934d35f35b38ae1"
      }
     },
     "185b27d4f45e4608b7047c2d19e4c0cb": {
      "model_module": "@jupyter-widgets/controls",
      "model_module_version": "1.5.0",
      "model_name": "DropdownModel",
      "state": {
       "_options_labels": [
        "Broad",
        "Narrow"
       ],
       "description": "gill_size",
       "index": 0,
       "layout": "IPY_MODEL_1d6d620d1ad3459a86b5fd551e578e0a",
       "style": "IPY_MODEL_0125ab9bdba5456e89d9900f17f947c5"
      }
     },
     "18ce5a45199d47f5a2c04c8f46e59425": {
      "model_module": "@jupyter-widgets/controls",
      "model_module_version": "1.5.0",
      "model_name": "DropdownModel",
      "state": {
       "_options_labels": [
        "Brown",
        "Buff",
        "Cinnamon",
        "Gray",
        "Green",
        "Pink",
        "Purple",
        "Red",
        "White",
        "Yellow"
       ],
       "description": "cap_color",
       "index": 0,
       "layout": "IPY_MODEL_3780902d3f244c81bf43e1ed13bf9ad4",
       "style": "IPY_MODEL_2af77a45804e469e98053524af1f6a22"
      }
     },
     "1908223855b4475fb3ec93084963ef03": {
      "model_module": "@jupyter-widgets/base",
      "model_module_version": "1.2.0",
      "model_name": "LayoutModel",
      "state": {}
     },
     "1920a1bdfbb54407b769e961eb766829": {
      "model_module": "@jupyter-widgets/controls",
      "model_module_version": "1.5.0",
      "model_name": "DropdownModel",
      "state": {
       "_options_labels": [
        "Brown",
        "Buff",
        "Cinnamon",
        "Gray",
        "Green",
        "Pink",
        "Purple",
        "Red",
        "White",
        "Yellow"
       ],
       "description": "cap_color",
       "index": 5,
       "layout": "IPY_MODEL_a65db37db7554c9aad4f57fdde818992",
       "style": "IPY_MODEL_5726448a684b4a6a8cdcccf75520e7e9"
      }
     },
     "193c4f7d6ae1441eae078d0a58ef05d4": {
      "model_module": "@jupyter-widgets/controls",
      "model_module_version": "1.5.0",
      "model_name": "DescriptionStyleModel",
      "state": {
       "description_width": ""
      }
     },
     "19412ea84d9748d4bc991e3403c060e8": {
      "model_module": "@jupyter-widgets/controls",
      "model_module_version": "1.5.0",
      "model_name": "DropdownModel",
      "state": {
       "_options_labels": [
        "Brown",
        "Orange",
        "White",
        "Yellow"
       ],
       "description": "veil_color",
       "index": 0,
       "layout": "IPY_MODEL_0e8065e3b3ec40658e6a63d2f0f1209c",
       "style": "IPY_MODEL_e032f29ca4a44f638547db78140e2ada"
      }
     },
     "19451e781fac42a6b72ccba49c3e378e": {
      "model_module": "@jupyter-widgets/base",
      "model_module_version": "1.2.0",
      "model_name": "LayoutModel",
      "state": {}
     },
     "1996801c53a44fbb82083d0ecbe14a1b": {
      "model_module": "@jupyter-widgets/controls",
      "model_module_version": "1.5.0",
      "model_name": "DropdownModel",
      "state": {
       "_options_labels": [
        "Fiberous",
        "Scaly",
        "Silky",
        "Smooth"
       ],
       "description": "stalk_surface_above_ring",
       "index": 2,
       "layout": "IPY_MODEL_869622864cd94b08ae5024bf213ed468",
       "style": "IPY_MODEL_6ce70770fcb4485c9d24d3ea5113c101"
      }
     },
     "19991a4db9f74601907d8b30fea7e0ce": {
      "model_module": "@jupyter-widgets/base",
      "model_module_version": "1.2.0",
      "model_name": "LayoutModel",
      "state": {}
     },
     "199986af9b9145f6a9238be26761c896": {
      "model_module": "@jupyter-widgets/controls",
      "model_module_version": "1.5.0",
      "model_name": "DropdownModel",
      "state": {
       "_options_labels": [
        "Bell",
        "Conical",
        "Convex",
        "Flat",
        "Knobbed",
        "Sunken"
       ],
       "description": "cap_shape",
       "index": 0,
       "layout": "IPY_MODEL_85eab28d94d044c8842ac00f629ff30d",
       "style": "IPY_MODEL_5941bae4b5c64e349440484164466810"
      }
     },
     "19c4c68fb1c6401fa4f095a0093225ee": {
      "model_module": "@jupyter-widgets/base",
      "model_module_version": "1.2.0",
      "model_name": "LayoutModel",
      "state": {}
     },
     "19f10c17db88488eb2b197921b748c55": {
      "model_module": "@jupyter-widgets/base",
      "model_module_version": "1.2.0",
      "model_name": "LayoutModel",
      "state": {}
     },
     "1a26caf2f8e24fe18ec44e1b4808b1ad": {
      "model_module": "@jupyter-widgets/base",
      "model_module_version": "1.2.0",
      "model_name": "LayoutModel",
      "state": {}
     },
     "1a83ab9bd1244eb8878e8357adacd64a": {
      "model_module": "@jupyter-widgets/controls",
      "model_module_version": "1.5.0",
      "model_name": "DescriptionStyleModel",
      "state": {
       "description_width": ""
      }
     },
     "1a83c4f165b44623968ea2bea0105770": {
      "model_module": "@jupyter-widgets/controls",
      "model_module_version": "1.5.0",
      "model_name": "DescriptionStyleModel",
      "state": {
       "description_width": ""
      }
     },
     "1b08ceff9a0c4c7db67b4e4fc4b03435": {
      "model_module": "@jupyter-widgets/base",
      "model_module_version": "1.2.0",
      "model_name": "LayoutModel",
      "state": {}
     },
     "1b5644d8fa3a430587861181f47a7089": {
      "model_module": "@jupyter-widgets/base",
      "model_module_version": "1.2.0",
      "model_name": "LayoutModel",
      "state": {}
     },
     "1b75f98c68e1456b82b1e1c80ef03439": {
      "model_module": "@jupyter-widgets/controls",
      "model_module_version": "1.5.0",
      "model_name": "DropdownModel",
      "state": {
       "_options_labels": [
        "Evanescent",
        "Flaring",
        "Large",
        "None",
        "Pendant",
        "Sheathing",
        "Zone"
       ],
       "description": "ring_type",
       "index": 0,
       "layout": "IPY_MODEL_ede8338562794c368d2ce73bbe654e46",
       "style": "IPY_MODEL_20fdebd66e8040f89985bd6ebb99edcf"
      }
     },
     "1bd470f9a62c47db816f266fa66a1906": {
      "model_module": "@jupyter-widgets/controls",
      "model_module_version": "1.5.0",
      "model_name": "DropdownModel",
      "state": {
       "_options_labels": [
        "Black",
        "Brown",
        "Buff",
        "Chocolate",
        "Green",
        "Orange",
        "Purple",
        "White",
        "Yellow"
       ],
       "description": "spore_print_color",
       "index": 0,
       "layout": "IPY_MODEL_d6ff54fa65f648b1b35ff69e6bad4a27",
       "style": "IPY_MODEL_06917de642e04b4a968a39ab79a248aa"
      }
     },
     "1befd27aba5a4155aa08c4319558b548": {
      "model_module": "@jupyter-widgets/controls",
      "model_module_version": "1.5.0",
      "model_name": "DropdownModel",
      "state": {
       "_options_labels": [
        "Brown",
        "Buff",
        "Cinnamon",
        "Gray",
        "Orange",
        "Pink",
        "Red",
        "White",
        "Yellow"
       ],
       "description": "stalk_color_below_ring",
       "index": 7,
       "layout": "IPY_MODEL_1e1c1303f60a486a97ae356ac0c5b344",
       "style": "IPY_MODEL_dd209a5ad77b483eaee61722d6905da1"
      }
     },
     "1c0d4d6b90fe4cef91971c072237984d": {
      "model_module": "@jupyter-widgets/controls",
      "model_module_version": "1.5.0",
      "model_name": "DescriptionStyleModel",
      "state": {
       "description_width": ""
      }
     },
     "1c1a711552e1491097fc2c910f897920": {
      "model_module": "@jupyter-widgets/controls",
      "model_module_version": "1.5.0",
      "model_name": "DropdownModel",
      "state": {
       "_options_labels": [
        "Fiberous",
        "Grooves",
        "Scaly",
        "Smooth"
       ],
       "description": "cap_surface",
       "index": 0,
       "layout": "IPY_MODEL_0a7b0ddfec8640d5a33ed9fc041decbc",
       "style": "IPY_MODEL_1c0d4d6b90fe4cef91971c072237984d"
      }
     },
     "1c6606c3a6e642bd8a48728229bb820c": {
      "model_module": "@jupyter-widgets/base",
      "model_module_version": "1.2.0",
      "model_name": "LayoutModel",
      "state": {}
     },
     "1c7d54f7ab344fcfabb37922bfdf4456": {
      "model_module": "@jupyter-widgets/base",
      "model_module_version": "1.2.0",
      "model_name": "LayoutModel",
      "state": {}
     },
     "1c800bb7236c468b8d90cf1ca015673d": {
      "model_module": "@jupyter-widgets/base",
      "model_module_version": "1.2.0",
      "model_name": "LayoutModel",
      "state": {}
     },
     "1cef7bbfa1ad4b3eac796819cba880ff": {
      "model_module": "@jupyter-widgets/controls",
      "model_module_version": "1.5.0",
      "model_name": "DescriptionStyleModel",
      "state": {
       "description_width": ""
      }
     },
     "1cff2f919c754356b21d4676038e7c16": {
      "model_module": "@jupyter-widgets/base",
      "model_module_version": "1.2.0",
      "model_name": "LayoutModel",
      "state": {}
     },
     "1d13bda29cdb413f88b6830a05cc6fc1": {
      "model_module": "@jupyter-widgets/base",
      "model_module_version": "1.2.0",
      "model_name": "LayoutModel",
      "state": {}
     },
     "1d2051e621a64c43ae1e50578bc6ab12": {
      "model_module": "@jupyter-widgets/controls",
      "model_module_version": "1.5.0",
      "model_name": "DropdownModel",
      "state": {
       "_options_labels": [
        "Enlarging",
        "Tapering"
       ],
       "description": "stalk_shape",
       "index": 1,
       "layout": "IPY_MODEL_565bcef52d9940798af2e995ca5c141c",
       "style": "IPY_MODEL_6e4599474bea494985129f273ce4f068"
      }
     },
     "1d5445e343b84bd7b0308d70a5ba5008": {
      "model_module": "@jupyter-widgets/base",
      "model_module_version": "1.2.0",
      "model_name": "LayoutModel",
      "state": {}
     },
     "1d6d620d1ad3459a86b5fd551e578e0a": {
      "model_module": "@jupyter-widgets/base",
      "model_module_version": "1.2.0",
      "model_name": "LayoutModel",
      "state": {}
     },
     "1d913429f6904049bb352e83b355a17d": {
      "model_module": "@jupyter-widgets/base",
      "model_module_version": "1.2.0",
      "model_name": "LayoutModel",
      "state": {}
     },
     "1d9bf3e740a74c92a4c17e07e37d5154": {
      "model_module": "@jupyter-widgets/controls",
      "model_module_version": "1.5.0",
      "model_name": "DropdownModel",
      "state": {
       "_options_labels": [
        "None",
        "One",
        "Two"
       ],
       "description": "ring_number",
       "index": 0,
       "layout": "IPY_MODEL_27835781058d47e48d19ac74339d40b3",
       "style": "IPY_MODEL_20e1d0a32225453d90df0afcfb3eb29f"
      }
     },
     "1da1a327badc4f02adf4f3df9e9c3549": {
      "model_module": "@jupyter-widgets/base",
      "model_module_version": "1.2.0",
      "model_name": "LayoutModel",
      "state": {}
     },
     "1dc93b214bf844209acc4dfd6a45bb20": {
      "model_module": "@jupyter-widgets/controls",
      "model_module_version": "1.5.0",
      "model_name": "DropdownModel",
      "state": {
       "_options_labels": [
        "Almond",
        "Anise",
        "Creosote",
        "Fishy",
        "Foul",
        "Musty",
        "None",
        "Pungent",
        "Spicy"
       ],
       "description": "odor",
       "index": 0,
       "layout": "IPY_MODEL_cee3d36eb4204c38b7a95e5bfafb0dad",
       "style": "IPY_MODEL_d5343b9ffc60405a84583bd9def3d65c"
      }
     },
     "1deb8893325f4299a5fd9f86ded45da4": {
      "model_module": "@jupyter-widgets/controls",
      "model_module_version": "1.5.0",
      "model_name": "DescriptionStyleModel",
      "state": {
       "description_width": ""
      }
     },
     "1e0f2aaf2896469f87648b102a26ea19": {
      "model_module": "@jupyter-widgets/base",
      "model_module_version": "1.2.0",
      "model_name": "LayoutModel",
      "state": {}
     },
     "1e1c1303f60a486a97ae356ac0c5b344": {
      "model_module": "@jupyter-widgets/base",
      "model_module_version": "1.2.0",
      "model_name": "LayoutModel",
      "state": {}
     },
     "1e1d9c49345943aea0e1cf37f6887280": {
      "model_module": "@jupyter-widgets/base",
      "model_module_version": "1.2.0",
      "model_name": "LayoutModel",
      "state": {}
     },
     "1e2a43e8b58d4e77992e38537d70af5d": {
      "model_module": "@jupyter-widgets/base",
      "model_module_version": "1.2.0",
      "model_name": "LayoutModel",
      "state": {}
     },
     "1e93971b5aee4c368a7206fd4cf73cec": {
      "model_module": "@jupyter-widgets/controls",
      "model_module_version": "1.5.0",
      "model_name": "DescriptionStyleModel",
      "state": {
       "description_width": ""
      }
     },
     "1eaa21f059eb4c168b37eb6f1bebfebf": {
      "model_module": "@jupyter-widgets/base",
      "model_module_version": "1.2.0",
      "model_name": "LayoutModel",
      "state": {}
     },
     "1ef1c252477e4694a0c6ee7f918d1f8d": {
      "model_module": "@jupyter-widgets/controls",
      "model_module_version": "1.5.0",
      "model_name": "DescriptionStyleModel",
      "state": {
       "description_width": ""
      }
     },
     "1f68829adea146909bb44f525aed2964": {
      "model_module": "@jupyter-widgets/controls",
      "model_module_version": "1.5.0",
      "model_name": "DropdownModel",
      "state": {
       "_options_labels": [
        "Black",
        "Brown",
        "Buff",
        "Chocolate",
        "Gray",
        "Green",
        "Orange",
        "Pink",
        "Purple",
        "Red",
        "White",
        "Yellow"
       ],
       "description": "gill_color",
       "index": 0,
       "layout": "IPY_MODEL_b2557ca62da74d37aac78823817bd0b1",
       "style": "IPY_MODEL_e5f08b30d3904003a39df82a944c1a6a"
      }
     },
     "1f96e8ca59f9456e8db8ee85ac18ffa1": {
      "model_module": "@jupyter-widgets/controls",
      "model_module_version": "1.5.0",
      "model_name": "DropdownModel",
      "state": {
       "_options_labels": [
        "Fiberous",
        "Scaly",
        "Silky",
        "Smooth"
       ],
       "description": "stalk_surface_below_ring",
       "index": 0,
       "layout": "IPY_MODEL_019a1ff7ffd4467fa2aa5bef21f57799",
       "style": "IPY_MODEL_d5620c19bd33428cbcc53b03893ab21b"
      }
     },
     "1fa9c1ff0006498081373828b44585a9": {
      "model_module": "@jupyter-widgets/controls",
      "model_module_version": "1.5.0",
      "model_name": "DropdownModel",
      "state": {
       "_options_labels": [
        "Attached",
        "Descending",
        "Free",
        "Notched"
       ],
       "description": "gill_attachment",
       "index": 0,
       "layout": "IPY_MODEL_e1673825ff6549fab870f50001140790",
       "style": "IPY_MODEL_be1a23cd696843d3a2d6a90fb8f757a3"
      }
     },
     "1fad1e01f00846b1ad0391ffada77b67": {
      "model_module": "@jupyter-widgets/base",
      "model_module_version": "1.2.0",
      "model_name": "LayoutModel",
      "state": {}
     },
     "1fbd6a06d53541fbae44d5c9700accfb": {
      "model_module": "@jupyter-widgets/base",
      "model_module_version": "1.2.0",
      "model_name": "LayoutModel",
      "state": {}
     },
     "200e23d0d05244159337f504f5e65eab": {
      "model_module": "@jupyter-widgets/base",
      "model_module_version": "1.2.0",
      "model_name": "LayoutModel",
      "state": {}
     },
     "205c34442db8448ea2a397b6e5865f6c": {
      "model_module": "@jupyter-widgets/controls",
      "model_module_version": "1.5.0",
      "model_name": "DescriptionStyleModel",
      "state": {
       "description_width": ""
      }
     },
     "205cf74fa8c743718437d387f69c48cf": {
      "model_module": "@jupyter-widgets/base",
      "model_module_version": "1.2.0",
      "model_name": "LayoutModel",
      "state": {}
     },
     "209e619189b745be9a353fe52ac2937f": {
      "model_module": "@jupyter-widgets/base",
      "model_module_version": "1.2.0",
      "model_name": "LayoutModel",
      "state": {}
     },
     "20b874bdb802421e8d9aa43575e5c85b": {
      "model_module": "@jupyter-widgets/controls",
      "model_module_version": "1.5.0",
      "model_name": "DropdownModel",
      "state": {
       "_options_labels": [
        "Brown",
        "Buff",
        "Cinnamon",
        "Gray",
        "Green",
        "Pink",
        "Purple",
        "Red",
        "White",
        "Yellow"
       ],
       "description": "cap_color",
       "index": 0,
       "layout": "IPY_MODEL_f1f68b7007374f7b8e99060723d288c5",
       "style": "IPY_MODEL_dbc6915ab324464aa88a65c11bd637d6"
      }
     },
     "20d3a152714c4ebd8269e7c407dce81f": {
      "model_module": "@jupyter-widgets/base",
      "model_module_version": "1.2.0",
      "model_name": "LayoutModel",
      "state": {}
     },
     "20e1d0a32225453d90df0afcfb3eb29f": {
      "model_module": "@jupyter-widgets/controls",
      "model_module_version": "1.5.0",
      "model_name": "DescriptionStyleModel",
      "state": {
       "description_width": ""
      }
     },
     "20e339311b1f4b3a9d760d34660e6002": {
      "model_module": "@jupyter-widgets/base",
      "model_module_version": "1.2.0",
      "model_name": "LayoutModel",
      "state": {}
     },
     "20fdebd66e8040f89985bd6ebb99edcf": {
      "model_module": "@jupyter-widgets/controls",
      "model_module_version": "1.5.0",
      "model_name": "DescriptionStyleModel",
      "state": {
       "description_width": ""
      }
     },
     "211a5863304c40548db272528877f2b3": {
      "model_module": "@jupyter-widgets/base",
      "model_module_version": "1.2.0",
      "model_name": "LayoutModel",
      "state": {}
     },
     "213a3db4e8e548e2b117e608a797ea49": {
      "model_module": "@jupyter-widgets/controls",
      "model_module_version": "1.5.0",
      "model_name": "DropdownModel",
      "state": {
       "_options_labels": [
        "Fiberous",
        "Scaly",
        "Silky",
        "Smooth"
       ],
       "description": "stalk_surface_below_ring",
       "index": 0,
       "layout": "IPY_MODEL_ffebe429244e4b9581c0672fba26018d",
       "style": "IPY_MODEL_ffdfd94618a8429599225ade6f3ed13d"
      }
     },
     "214ddf8a105344d29cdf956ea3a57467": {
      "model_module": "@jupyter-widgets/base",
      "model_module_version": "1.2.0",
      "model_name": "LayoutModel",
      "state": {}
     },
     "2185d216077a4ac3b21764fcc0655782": {
      "model_module": "@jupyter-widgets/controls",
      "model_module_version": "1.5.0",
      "model_name": "DescriptionStyleModel",
      "state": {
       "description_width": ""
      }
     },
     "219d6a5b17ef43d4bedb4c94cd45855c": {
      "model_module": "@jupyter-widgets/controls",
      "model_module_version": "1.5.0",
      "model_name": "DescriptionStyleModel",
      "state": {
       "description_width": ""
      }
     },
     "21aedc2d839e462585ba2cdc2fdca3c0": {
      "model_module": "@jupyter-widgets/controls",
      "model_module_version": "1.5.0",
      "model_name": "DropdownModel",
      "state": {
       "_options_labels": [
        "Bell",
        "Conical",
        "Convex",
        "Flat",
        "Knobbed",
        "Sunken"
       ],
       "description": "cap_shape",
       "index": 0,
       "layout": "IPY_MODEL_3c52369d00de47deb37e8f5d64a40f5b",
       "style": "IPY_MODEL_b6947ee9ade54adb9a4a47e64415b772"
      }
     },
     "21c42362ba7e4199bb613f86da79d735": {
      "model_module": "@jupyter-widgets/controls",
      "model_module_version": "1.5.0",
      "model_name": "DescriptionStyleModel",
      "state": {
       "description_width": ""
      }
     },
     "21fa9e8aa5ec4f609e8ecb827755ec8a": {
      "model_module": "@jupyter-widgets/base",
      "model_module_version": "1.2.0",
      "model_name": "LayoutModel",
      "state": {}
     },
     "2247420a50964feca5fe3a1713ba60de": {
      "model_module": "@jupyter-widgets/base",
      "model_module_version": "1.2.0",
      "model_name": "LayoutModel",
      "state": {}
     },
     "226cf1a199d4483595184e5eace80354": {
      "model_module": "@jupyter-widgets/base",
      "model_module_version": "1.2.0",
      "model_name": "LayoutModel",
      "state": {}
     },
     "22da156dc42b4099b81ac924305a74c7": {
      "model_module": "@jupyter-widgets/controls",
      "model_module_version": "1.5.0",
      "model_name": "DescriptionStyleModel",
      "state": {
       "description_width": ""
      }
     },
     "22dbeb096df54c9bb9a0f3eab9a8d703": {
      "model_module": "@jupyter-widgets/base",
      "model_module_version": "1.2.0",
      "model_name": "LayoutModel",
      "state": {}
     },
     "2301f11ff0214bc695415ae1c2acd7e6": {
      "model_module": "@jupyter-widgets/base",
      "model_module_version": "1.2.0",
      "model_name": "LayoutModel",
      "state": {}
     },
     "23048fff8971432d8cf3fc92b2ff9ab6": {
      "model_module": "@jupyter-widgets/base",
      "model_module_version": "1.2.0",
      "model_name": "LayoutModel",
      "state": {}
     },
     "237412539a1a41b9a5884c99d3ebc264": {
      "model_module": "@jupyter-widgets/base",
      "model_module_version": "1.2.0",
      "model_name": "LayoutModel",
      "state": {}
     },
     "23ad314d22604f0788da3cc0008c233b": {
      "model_module": "@jupyter-widgets/base",
      "model_module_version": "1.2.0",
      "model_name": "LayoutModel",
      "state": {}
     },
     "23c1b15db1a94d3dba2ebc56e94ac22d": {
      "model_module": "@jupyter-widgets/controls",
      "model_module_version": "1.5.0",
      "model_name": "DescriptionStyleModel",
      "state": {
       "description_width": ""
      }
     },
     "23dde52ef51043beb50ed9e7d78cbf46": {
      "model_module": "@jupyter-widgets/controls",
      "model_module_version": "1.5.0",
      "model_name": "DropdownModel",
      "state": {
       "_options_labels": [
        "Bulbous",
        "Club",
        "Cup",
        "Equal",
        "Rhizomorphs",
        "Rooted",
        "Missing"
       ],
       "description": "stalk_root",
       "index": 0,
       "layout": "IPY_MODEL_d5be96f09fea48d19cdad7f200d6e1d1",
       "style": "IPY_MODEL_c41e34d5d07a4ffb848fa116aac364cf"
      }
     },
     "23e33a9a524b4b8ca7b8da87bfff45aa": {
      "model_module": "@jupyter-widgets/controls",
      "model_module_version": "1.5.0",
      "model_name": "DropdownModel",
      "state": {
       "_options_labels": [
        "Fiberous",
        "Scaly",
        "Silky",
        "Smooth"
       ],
       "description": "stalk_surface_below_ring",
       "index": 0,
       "layout": "IPY_MODEL_b2500e711aaf4a3cb30cde9e7fa0e94d",
       "style": "IPY_MODEL_fbd49165a3704850bbf7462f154ca26e"
      }
     },
     "2478629acf7d4fcda288f0edb01ce7b7": {
      "model_module": "@jupyter-widgets/controls",
      "model_module_version": "1.5.0",
      "model_name": "DropdownModel",
      "state": {
       "_options_labels": [
        "Brown",
        "Buff",
        "Cinnamon",
        "Gray",
        "Orange",
        "Pink",
        "Red",
        "White",
        "Yellow"
       ],
       "description": "stalk_color_below_ring",
       "index": 0,
       "layout": "IPY_MODEL_daf91793add74ba8ad6287e2f3c4e033",
       "style": "IPY_MODEL_b599c1b45eb441a1a653f1967bd2e8c8"
      }
     },
     "2501a3e77fc94d1a886b73ba471ba241": {
      "model_module": "@jupyter-widgets/base",
      "model_module_version": "1.2.0",
      "model_name": "LayoutModel",
      "state": {}
     },
     "2508a36e3e0b40aeb5d3da57a6c0a688": {
      "model_module": "@jupyter-widgets/controls",
      "model_module_version": "1.5.0",
      "model_name": "VBoxModel",
      "state": {
       "_dom_classes": [
        "widget-interact"
       ],
       "children": [
        "IPY_MODEL_7a85f86baa644e22a09576f1b711e519",
        "IPY_MODEL_4dd46091aac94f63bf724a4667e24934",
        "IPY_MODEL_3f4d0f373f244f37ac83854f5c154e74",
        "IPY_MODEL_a17cec194fcc4cf7b97022db9573dcb7",
        "IPY_MODEL_e94ea2553a8d4c338b2d314b0b9137a0",
        "IPY_MODEL_c80cf2e7765146cc96ef431e9521510c",
        "IPY_MODEL_90a0514054fa4c5c9fa4ae4042f227da",
        "IPY_MODEL_677040c415604d1b83c7e3ab4ec4b779",
        "IPY_MODEL_142df6a0e43948ad94f778c04b00ea51",
        "IPY_MODEL_bed0d76067694e05be93935c213cac4a",
        "IPY_MODEL_d3bfe8d8c4ef4888bb5559bcdf7dda41",
        "IPY_MODEL_ac84a21ed24a46a9a195f2d1b3fb72f8",
        "IPY_MODEL_bd5668aed97a439683c29faeaf463578",
        "IPY_MODEL_377425a07e5742b28f06778aedcde1c6",
        "IPY_MODEL_72b5ddf7a4a24751b3c42484af1de8a4",
        "IPY_MODEL_ac0384a2ba9647e5907b310e6d503cb7",
        "IPY_MODEL_b0424aba4b8440b3a8b2d2b8abbd5b5e",
        "IPY_MODEL_e7b10209eb23417094c845eb3e0bc07b",
        "IPY_MODEL_38b7caa3750748bcbcd384ff4643c555",
        "IPY_MODEL_055fe0e7d38344da9ca5dc93df15abbc",
        "IPY_MODEL_e796ee0bb8134443bf458bd33d62b91c",
        "IPY_MODEL_5f31d2d46d2543749ebef613f3d4c1f9",
        "IPY_MODEL_a3b7569ed66e4d2c9c41e833b07dd79c"
       ],
       "layout": "IPY_MODEL_46cc4bfe998a400faf015b4ed600ad35"
      }
     },
     "2521b9e39eb74eeb9cee34babe4cff92": {
      "model_module": "@jupyter-widgets/controls",
      "model_module_version": "1.5.0",
      "model_name": "DropdownModel",
      "state": {
       "_options_labels": [
        "Brown",
        "Buff",
        "Cinnamon",
        "Gray",
        "Orange",
        "Pink",
        "Red",
        "White",
        "Yellow"
       ],
       "description": "stalk_color_below_ring",
       "index": 0,
       "layout": "IPY_MODEL_c54eda6de5204a40ad07197d23b012a8",
       "style": "IPY_MODEL_fc7838b53c20458cba52d7876213bf19"
      }
     },
     "253139b37577415fa7c075c4c6ab4ef8": {
      "model_module": "@jupyter-widgets/controls",
      "model_module_version": "1.5.0",
      "model_name": "DropdownModel",
      "state": {
       "_options_labels": [
        "Attached",
        "Descending",
        "Free",
        "Notched"
       ],
       "description": "gill_attachment",
       "index": 0,
       "layout": "IPY_MODEL_f4c484e1d53d41aeb0adb380f33b4dc1",
       "style": "IPY_MODEL_4600dcbde43c41faa2059b706f2157d8"
      }
     },
     "2549cbbfb3764788b4ac59906e6a1d66": {
      "model_module": "@jupyter-widgets/controls",
      "model_module_version": "1.5.0",
      "model_name": "DescriptionStyleModel",
      "state": {
       "description_width": ""
      }
     },
     "25849523ae4f4f23a60f48531767bd3d": {
      "model_module": "@jupyter-widgets/base",
      "model_module_version": "1.2.0",
      "model_name": "LayoutModel",
      "state": {}
     },
     "258c3165c41e407080c20861947b436e": {
      "model_module": "@jupyter-widgets/base",
      "model_module_version": "1.2.0",
      "model_name": "LayoutModel",
      "state": {}
     },
     "25e0852c0cd74758ad5ad3186ee79d07": {
      "model_module": "@jupyter-widgets/controls",
      "model_module_version": "1.5.0",
      "model_name": "DescriptionStyleModel",
      "state": {
       "description_width": ""
      }
     },
     "25ee7a0163854e14aaea8c4525c50e7e": {
      "model_module": "@jupyter-widgets/controls",
      "model_module_version": "1.5.0",
      "model_name": "DescriptionStyleModel",
      "state": {
       "description_width": ""
      }
     },
     "2610c8ff03344bc3bd34b347e4559d64": {
      "model_module": "@jupyter-widgets/controls",
      "model_module_version": "1.5.0",
      "model_name": "DescriptionStyleModel",
      "state": {
       "description_width": ""
      }
     },
     "262ea98401524b97b57725129477bbba": {
      "model_module": "@jupyter-widgets/controls",
      "model_module_version": "1.5.0",
      "model_name": "DescriptionStyleModel",
      "state": {
       "description_width": ""
      }
     },
     "263a7135b162465cbf3008328fc85e28": {
      "model_module": "@jupyter-widgets/controls",
      "model_module_version": "1.5.0",
      "model_name": "DescriptionStyleModel",
      "state": {
       "description_width": ""
      }
     },
     "263fa416902c4afdab74af62624997fa": {
      "model_module": "@jupyter-widgets/base",
      "model_module_version": "1.2.0",
      "model_name": "LayoutModel",
      "state": {}
     },
     "266a5034b73e429ab2631ebd23b6362e": {
      "model_module": "@jupyter-widgets/controls",
      "model_module_version": "1.5.0",
      "model_name": "DropdownModel",
      "state": {
       "_options_labels": [
        "Broad",
        "Narrow"
       ],
       "description": "gill_size",
       "index": 0,
       "layout": "IPY_MODEL_d311d54bb3ca47c4a04121e70275f127",
       "style": "IPY_MODEL_76cc2f50c0854a70a8b551a5a58b1046"
      }
     },
     "26acacb82538458ab14de7d3160dd173": {
      "model_module": "@jupyter-widgets/controls",
      "model_module_version": "1.5.0",
      "model_name": "DropdownModel",
      "state": {
       "_options_labels": [
        "Brown",
        "Buff",
        "Cinnamon",
        "Gray",
        "Orange",
        "Pink",
        "Red",
        "White",
        "Yellow"
       ],
       "description": "stalk_color_above_ring",
       "index": 0,
       "layout": "IPY_MODEL_0de5360b8f8a47faae8cd517ccdb0e53",
       "style": "IPY_MODEL_37fa0a4688d84600bd9a87c8d1036417"
      }
     },
     "27256beadf6248999f0077135f996c36": {
      "model_module": "@jupyter-widgets/output",
      "model_module_version": "1.0.0",
      "model_name": "OutputModel",
      "state": {
       "layout": "IPY_MODEL_d606072f87c84f50aadd8fab0b106894",
       "outputs": [
        {
         "name": "stdout",
         "output_type": "stream",
         "text": "class\ne    0.0\np    0.0\ndtype: float64\n"
        },
        {
         "data": {
          "image/png": "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\n",
          "text/plain": "<Figure size 864x648 with 1 Axes>"
         },
         "metadata": {
          "needs_background": "light"
         },
         "output_type": "display_data"
        }
       ]
      }
     },
     "2729ae693a364c56b93604c093e16a8a": {
      "model_module": "@jupyter-widgets/base",
      "model_module_version": "1.2.0",
      "model_name": "LayoutModel",
      "state": {}
     },
     "272a4ea9714a42498ae8afe3fd792511": {
      "model_module": "@jupyter-widgets/base",
      "model_module_version": "1.2.0",
      "model_name": "LayoutModel",
      "state": {}
     },
     "274fa2485baa45a08dfe359b690e46dd": {
      "model_module": "@jupyter-widgets/controls",
      "model_module_version": "1.5.0",
      "model_name": "DescriptionStyleModel",
      "state": {
       "description_width": ""
      }
     },
     "275e0b48d94e41ed8d98c0417899be36": {
      "model_module": "@jupyter-widgets/base",
      "model_module_version": "1.2.0",
      "model_name": "LayoutModel",
      "state": {}
     },
     "276b49f90d884ddca64d69cf45e376bf": {
      "model_module": "@jupyter-widgets/base",
      "model_module_version": "1.2.0",
      "model_name": "LayoutModel",
      "state": {}
     },
     "27835781058d47e48d19ac74339d40b3": {
      "model_module": "@jupyter-widgets/base",
      "model_module_version": "1.2.0",
      "model_name": "LayoutModel",
      "state": {}
     },
     "2786a3025f3049589de47812ef7f9281": {
      "model_module": "@jupyter-widgets/controls",
      "model_module_version": "1.5.0",
      "model_name": "DropdownModel",
      "state": {
       "_options_labels": [
        "Abundant",
        "Clustered",
        "Numerous",
        "Scattered",
        "Several",
        "Solitary"
       ],
       "description": "population",
       "index": 0,
       "layout": "IPY_MODEL_798416ed111a470e93a4fd7358ec248a",
       "style": "IPY_MODEL_6d1b3f79816942979009c197fd4029c2"
      }
     },
     "278a90f6204c42b6a9408872bd5af114": {
      "model_module": "@jupyter-widgets/base",
      "model_module_version": "1.2.0",
      "model_name": "LayoutModel",
      "state": {}
     },
     "27a19718e1c640c484400418ccb94610": {
      "model_module": "@jupyter-widgets/base",
      "model_module_version": "1.2.0",
      "model_name": "LayoutModel",
      "state": {}
     },
     "27b266116a254b7498d8b3a7f3b4f1a7": {
      "model_module": "@jupyter-widgets/base",
      "model_module_version": "1.2.0",
      "model_name": "LayoutModel",
      "state": {}
     },
     "27fbe682d43142d3b53b0fee475afc3b": {
      "model_module": "@jupyter-widgets/controls",
      "model_module_version": "1.5.0",
      "model_name": "DropdownModel",
      "state": {
       "_options_labels": [
        "Bulbous",
        "Club",
        "Cup",
        "Equal",
        "Rhizomorphs",
        "Rooted",
        "Missing"
       ],
       "description": "stalk_root",
       "index": 0,
       "layout": "IPY_MODEL_c08f83fb24fe48b387abb24921641693",
       "style": "IPY_MODEL_73fa90d27b6c469dac90309fb9d4b720"
      }
     },
     "27fcb19e5cb14e018a298b91d5de3ac8": {
      "model_module": "@jupyter-widgets/controls",
      "model_module_version": "1.5.0",
      "model_name": "DescriptionStyleModel",
      "state": {
       "description_width": ""
      }
     },
     "283915b4731a410a84035f41609045bb": {
      "model_module": "@jupyter-widgets/base",
      "model_module_version": "1.2.0",
      "model_name": "LayoutModel",
      "state": {}
     },
     "286a6bc6769c4f55a2f5a0b0eb9b8b7e": {
      "model_module": "@jupyter-widgets/base",
      "model_module_version": "1.2.0",
      "model_name": "LayoutModel",
      "state": {}
     },
     "2875fd3c66bb4874914adb714e9b4b3e": {
      "model_module": "@jupyter-widgets/controls",
      "model_module_version": "1.5.0",
      "model_name": "DropdownModel",
      "state": {
       "_options_labels": [
        "Bulbous",
        "Club",
        "Cup",
        "Equal",
        "Rhizomorphs",
        "Rooted",
        "Missing"
       ],
       "description": "stalk_root",
       "index": 0,
       "layout": "IPY_MODEL_87a30385aa864726b2c8ed92d7841185",
       "style": "IPY_MODEL_d507220b755040dfb6e2f13988cbac28"
      }
     },
     "2882036cb1a2496cb178bc7ecb4f9172": {
      "model_module": "@jupyter-widgets/base",
      "model_module_version": "1.2.0",
      "model_name": "LayoutModel",
      "state": {}
     },
     "28967d742e71411d97fbe78c5d0bba8f": {
      "model_module": "@jupyter-widgets/controls",
      "model_module_version": "1.5.0",
      "model_name": "DropdownModel",
      "state": {
       "_options_labels": [
        "Black",
        "Brown",
        "Buff",
        "Chocolate",
        "Green",
        "Orange",
        "Purple",
        "White",
        "Yellow"
       ],
       "description": "spore_print_color",
       "index": 0,
       "layout": "IPY_MODEL_d8e203c12a0847c09207a737c4fe632b",
       "style": "IPY_MODEL_9e82d51a511441bcb15fc042bdcd931d"
      }
     },
     "28b12b29dd6844628a984f7fd0353629": {
      "model_module": "@jupyter-widgets/controls",
      "model_module_version": "1.5.0",
      "model_name": "DropdownModel",
      "state": {
       "_options_labels": [
        "Broad",
        "Narrow"
       ],
       "description": "gill_size",
       "index": 0,
       "layout": "IPY_MODEL_a951d2e1f2254bb89531b6d7016cdff8",
       "style": "IPY_MODEL_bebd083023ab4f089750990475264c68"
      }
     },
     "28bd10f9dc974703a6fdcab76f48ac8a": {
      "model_module": "@jupyter-widgets/controls",
      "model_module_version": "1.5.0",
      "model_name": "DropdownModel",
      "state": {
       "_options_labels": [
        "Bell",
        "Conical",
        "Convex",
        "Flat",
        "Knobbed",
        "Sunken"
       ],
       "description": "cap_shape",
       "index": 4,
       "layout": "IPY_MODEL_da334d0dcd9d40de98f50452b40bc3d5",
       "style": "IPY_MODEL_be98ccfde10840e2b5587b76ccb897c3"
      }
     },
     "28c5dbd830e24cb38d8aedb95da4144b": {
      "model_module": "@jupyter-widgets/base",
      "model_module_version": "1.2.0",
      "model_name": "LayoutModel",
      "state": {}
     },
     "28cabb9c715d4c979f9507238e5bac43": {
      "model_module": "@jupyter-widgets/controls",
      "model_module_version": "1.5.0",
      "model_name": "DropdownModel",
      "state": {
       "_options_labels": [
        "Bell",
        "Conical",
        "Convex",
        "Flat",
        "Knobbed",
        "Sunken"
       ],
       "description": "cap_shape",
       "index": 3,
       "layout": "IPY_MODEL_a114871e466e4d0bb3a45dcda7a31f02",
       "style": "IPY_MODEL_b2c45f956d1a48f28cb4cf4be58c9c2f"
      }
     },
     "28ee9a8fc56d4281b3ef10a9ecfaef9b": {
      "model_module": "@jupyter-widgets/controls",
      "model_module_version": "1.5.0",
      "model_name": "DropdownModel",
      "state": {
       "_options_labels": [
        "Brown",
        "Orange",
        "White",
        "Yellow"
       ],
       "description": "veil_color",
       "index": 0,
       "layout": "IPY_MODEL_369de586f1fe44a69aebf415e22cf675",
       "style": "IPY_MODEL_93efaae3531f400faa0d9e7e2e70cbe3"
      }
     },
     "291246d67d414bfa8705ef4f1cb3aaa1": {
      "model_module": "@jupyter-widgets/output",
      "model_module_version": "1.0.0",
      "model_name": "OutputModel",
      "state": {
       "layout": "IPY_MODEL_6fc9c5b43b104fe9926a0bbe11f829e9",
       "outputs": [
        {
         "name": "stdout",
         "output_type": "stream",
         "text": "class\ne    0.0\np    0.0\ndtype: float64\n"
        },
        {
         "data": {
          "image/png": "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\n",
          "text/plain": "<Figure size 864x648 with 1 Axes>"
         },
         "metadata": {
          "needs_background": "light"
         },
         "output_type": "display_data"
        }
       ]
      }
     },
     "292eb332ad5c4109bb1cd3c7b0140895": {
      "model_module": "@jupyter-widgets/controls",
      "model_module_version": "1.5.0",
      "model_name": "DescriptionStyleModel",
      "state": {
       "description_width": ""
      }
     },
     "29560cb55c48447e93974e94bca80c2e": {
      "model_module": "@jupyter-widgets/base",
      "model_module_version": "1.2.0",
      "model_name": "LayoutModel",
      "state": {}
     },
     "29a0d1138d5c4507bdfa94a9ec80dcc6": {
      "model_module": "@jupyter-widgets/base",
      "model_module_version": "1.2.0",
      "model_name": "LayoutModel",
      "state": {}
     },
     "29a34551609c41c9ad15c0847505ee49": {
      "model_module": "@jupyter-widgets/base",
      "model_module_version": "1.2.0",
      "model_name": "LayoutModel",
      "state": {}
     },
     "29ab6e4996824b42a3d4669b5ce5e497": {
      "model_module": "@jupyter-widgets/controls",
      "model_module_version": "1.5.0",
      "model_name": "DescriptionStyleModel",
      "state": {
       "description_width": ""
      }
     },
     "29ed608dab734c908947d64986168d74": {
      "model_module": "@jupyter-widgets/controls",
      "model_module_version": "1.5.0",
      "model_name": "DescriptionStyleModel",
      "state": {
       "description_width": ""
      }
     },
     "29f7ab830909489fb9a0bcc4ede0fd72": {
      "model_module": "@jupyter-widgets/base",
      "model_module_version": "1.2.0",
      "model_name": "LayoutModel",
      "state": {}
     },
     "29fc72bd511c4850800776db4a3272a0": {
      "model_module": "@jupyter-widgets/controls",
      "model_module_version": "1.5.0",
      "model_name": "DescriptionStyleModel",
      "state": {
       "description_width": ""
      }
     },
     "2a28966e219f4ae8a84b03ba33d40c13": {
      "model_module": "@jupyter-widgets/controls",
      "model_module_version": "1.5.0",
      "model_name": "DescriptionStyleModel",
      "state": {
       "description_width": ""
      }
     },
     "2a3a6a0fbad84ed8850f934e65f9357e": {
      "model_module": "@jupyter-widgets/controls",
      "model_module_version": "1.5.0",
      "model_name": "DropdownModel",
      "state": {
       "_options_labels": [
        "Brown",
        "Orange",
        "White",
        "Yellow"
       ],
       "description": "veil_color",
       "index": 0,
       "layout": "IPY_MODEL_74eaf752791448bc81c8c77e3532ca66",
       "style": "IPY_MODEL_ef3a36206f8a4963acc06e4bcb4bf3d9"
      }
     },
     "2a4b52a2b72546999531f543d21b25d5": {
      "model_module": "@jupyter-widgets/base",
      "model_module_version": "1.2.0",
      "model_name": "LayoutModel",
      "state": {}
     },
     "2a80164b3d014210b47955a3b6daf40a": {
      "model_module": "@jupyter-widgets/controls",
      "model_module_version": "1.5.0",
      "model_name": "DescriptionStyleModel",
      "state": {
       "description_width": ""
      }
     },
     "2a842e02ca9c40fd8523b075084c3690": {
      "model_module": "@jupyter-widgets/controls",
      "model_module_version": "1.5.0",
      "model_name": "DropdownModel",
      "state": {
       "_options_labels": [
        "Black",
        "Brown",
        "Buff",
        "Chocolate",
        "Gray",
        "Green",
        "Orange",
        "Pink",
        "Purple",
        "Red",
        "White",
        "Yellow"
       ],
       "description": "gill_color",
       "index": 0,
       "layout": "IPY_MODEL_a6910db9f41f46b98a261ea1e7908880",
       "style": "IPY_MODEL_01d71ba3f1b54f2380f8f5907ca9aff5"
      }
     },
     "2ab6592ee03e4c188e3ed431392cb98a": {
      "model_module": "@jupyter-widgets/base",
      "model_module_version": "1.2.0",
      "model_name": "LayoutModel",
      "state": {}
     },
     "2ae3052fc21f4a31aa8d035d6a29d53b": {
      "model_module": "@jupyter-widgets/base",
      "model_module_version": "1.2.0",
      "model_name": "LayoutModel",
      "state": {}
     },
     "2af77a45804e469e98053524af1f6a22": {
      "model_module": "@jupyter-widgets/controls",
      "model_module_version": "1.5.0",
      "model_name": "DescriptionStyleModel",
      "state": {
       "description_width": ""
      }
     },
     "2b069931171f4f14a36a0d56cd22b4e7": {
      "model_module": "@jupyter-widgets/controls",
      "model_module_version": "1.5.0",
      "model_name": "DropdownModel",
      "state": {
       "_options_labels": [
        "Fiberous",
        "Grooves",
        "Scaly",
        "Smooth"
       ],
       "description": "cap_surface",
       "index": 0,
       "layout": "IPY_MODEL_bd62be47dd474e60b0e329ffdf287488",
       "style": "IPY_MODEL_8e81774bc414436d99c0fc6cf93cce5e"
      }
     },
     "2b59d878b57c4d33931c1c37f3ee9ca4": {
      "model_module": "@jupyter-widgets/base",
      "model_module_version": "1.2.0",
      "model_name": "LayoutModel",
      "state": {}
     },
     "2b6f270998a149afa11c959e7a637646": {
      "model_module": "@jupyter-widgets/controls",
      "model_module_version": "1.5.0",
      "model_name": "DropdownModel",
      "state": {
       "_options_labels": [
        "Broad",
        "Narrow"
       ],
       "description": "gill_size",
       "index": 1,
       "layout": "IPY_MODEL_22dbeb096df54c9bb9a0f3eab9a8d703",
       "style": "IPY_MODEL_c006453cb64b4e07b98f9aca9e71d698"
      }
     },
     "2b995b3adf3843d097e6dda797651e3f": {
      "model_module": "@jupyter-widgets/base",
      "model_module_version": "1.2.0",
      "model_name": "LayoutModel",
      "state": {}
     },
     "2ba6c64b726b40cc856bdfae1dab2d63": {
      "model_module": "@jupyter-widgets/controls",
      "model_module_version": "1.5.0",
      "model_name": "DropdownModel",
      "state": {
       "_options_labels": [
        "Abundant",
        "Clustered",
        "Numerous",
        "Scattered",
        "Several",
        "Solitary"
       ],
       "description": "population",
       "index": 0,
       "layout": "IPY_MODEL_f94b9702a40141c38871c7ce3e9cb762",
       "style": "IPY_MODEL_9a3e948e176b46129c9ad2aaaaa3886c"
      }
     },
     "2c08fc190a754fefa83e1a39130d4f45": {
      "model_module": "@jupyter-widgets/base",
      "model_module_version": "1.2.0",
      "model_name": "LayoutModel",
      "state": {}
     },
     "2c0bf79c72fb413cb3845f3e914b42b7": {
      "model_module": "@jupyter-widgets/base",
      "model_module_version": "1.2.0",
      "model_name": "LayoutModel",
      "state": {}
     },
     "2c3d815acc0f4a78878ce60c4d60fa37": {
      "model_module": "@jupyter-widgets/controls",
      "model_module_version": "1.5.0",
      "model_name": "DropdownModel",
      "state": {
       "_options_labels": [
        "Brown",
        "Buff",
        "Cinnamon",
        "Gray",
        "Green",
        "Pink",
        "Purple",
        "Red",
        "White",
        "Yellow"
       ],
       "description": "cap_color",
       "index": 0,
       "layout": "IPY_MODEL_dfeb94b9220a4b85b32f1b9fc3773949",
       "style": "IPY_MODEL_af1279bdd74e478dbe5a706568727cf2"
      }
     },
     "2c5219b2676944d2bbd517da48c2ff09": {
      "model_module": "@jupyter-widgets/controls",
      "model_module_version": "1.5.0",
      "model_name": "DropdownModel",
      "state": {
       "_options_labels": [
        "Close",
        "Crowded",
        "Distant"
       ],
       "description": "gill_spacing",
       "index": 0,
       "layout": "IPY_MODEL_ca23fcdf3b02408d92881e09848a0b5f",
       "style": "IPY_MODEL_79057f03ff4c47cfb0d17c8c166523d9"
      }
     },
     "2c574d5695c04e4887db7e6568c2bd33": {
      "model_module": "@jupyter-widgets/controls",
      "model_module_version": "1.5.0",
      "model_name": "DescriptionStyleModel",
      "state": {
       "description_width": ""
      }
     },
     "2c6dc040c33844e7811858db9ee72936": {
      "model_module": "@jupyter-widgets/controls",
      "model_module_version": "1.5.0",
      "model_name": "DescriptionStyleModel",
      "state": {
       "description_width": ""
      }
     },
     "2c9f1a2c26d34cad867c247900129b6f": {
      "model_module": "@jupyter-widgets/controls",
      "model_module_version": "1.5.0",
      "model_name": "DropdownModel",
      "state": {
       "_options_labels": [
        "Bulbous",
        "Club",
        "Cup",
        "Equal",
        "Rhizomorphs",
        "Rooted",
        "Missing"
       ],
       "description": "stalk_root",
       "index": 0,
       "layout": "IPY_MODEL_92257f2f0506406fba9b039fe33e1658",
       "style": "IPY_MODEL_1387d89fd30b4db9aab8e4499f1be017"
      }
     },
     "2cc3b6d6a12f4aff8ed8c70c4b202f0c": {
      "model_module": "@jupyter-widgets/output",
      "model_module_version": "1.0.0",
      "model_name": "OutputModel",
      "state": {
       "layout": "IPY_MODEL_8cff562470f44df49e6d93f20b109858"
      }
     },
     "2cc4212cdea74358a1581aa3d01565e8": {
      "model_module": "@jupyter-widgets/controls",
      "model_module_version": "1.5.0",
      "model_name": "DropdownModel",
      "state": {
       "_options_labels": [
        "Cobwebby",
        "Evanescent",
        "Flaring",
        "Large",
        "None",
        "Pendant",
        "Sheathing",
        "Zone"
       ],
       "description": "ring_type",
       "index": 0,
       "layout": "IPY_MODEL_d3bd52e1e4974a89873843a0849aea18",
       "style": "IPY_MODEL_07148faa1c104847924250d445aec996"
      }
     },
     "2d061c7256244d89882d31194dcef6be": {
      "model_module": "@jupyter-widgets/controls",
      "model_module_version": "1.5.0",
      "model_name": "DescriptionStyleModel",
      "state": {
       "description_width": ""
      }
     },
     "2d254e7b628a4f4b94a51abb559e8f7d": {
      "model_module": "@jupyter-widgets/controls",
      "model_module_version": "1.5.0",
      "model_name": "DropdownModel",
      "state": {
       "_options_labels": [
        "Brown",
        "Buff",
        "Cinnamon",
        "Gray",
        "Green",
        "Pink",
        "Purple",
        "Red",
        "White",
        "Yellow"
       ],
       "description": "cap_color",
       "index": 0,
       "layout": "IPY_MODEL_30dcee5c2d71402fa6b5fde6695c122c",
       "style": "IPY_MODEL_bcc6701f60c84f9d9cd23aacc10f4618"
      }
     },
     "2d30f706d6c549b9a132944e94f1496e": {
      "model_module": "@jupyter-widgets/controls",
      "model_module_version": "1.5.0",
      "model_name": "DescriptionStyleModel",
      "state": {
       "description_width": ""
      }
     },
     "2d46f6b06e134705b2ced8bcf99e729f": {
      "model_module": "@jupyter-widgets/base",
      "model_module_version": "1.2.0",
      "model_name": "LayoutModel",
      "state": {}
     },
     "2e025d9e1f8448b2b37486593ffa7f07": {
      "model_module": "@jupyter-widgets/controls",
      "model_module_version": "1.5.0",
      "model_name": "DropdownModel",
      "state": {
       "_options_labels": [
        "Partial",
        "Universal"
       ],
       "description": "veil_type",
       "index": 0,
       "layout": "IPY_MODEL_923e11f8a047489cad3e8a53f518f56f",
       "style": "IPY_MODEL_38cef406d0f84d4badb764a833bce733"
      }
     },
     "2e350b16e3944009b5c7391ba8884e7c": {
      "model_module": "@jupyter-widgets/base",
      "model_module_version": "1.2.0",
      "model_name": "LayoutModel",
      "state": {}
     },
     "2e36dc68c5f449808aeb1d15d2c3e7fb": {
      "model_module": "@jupyter-widgets/controls",
      "model_module_version": "1.5.0",
      "model_name": "DescriptionStyleModel",
      "state": {
       "description_width": ""
      }
     },
     "2e3a9e0a6d484a13a81b57340509f4b1": {
      "model_module": "@jupyter-widgets/controls",
      "model_module_version": "1.5.0",
      "model_name": "DropdownModel",
      "state": {
       "_options_labels": [
        "Brown",
        "Buff",
        "Cinnamon",
        "Gray",
        "Orange",
        "Pink",
        "Red",
        "White",
        "Yellow"
       ],
       "description": "stalk_color_above_ring",
       "index": 0,
       "layout": "IPY_MODEL_634a8e7dc36b4792a275cbeae7a8f0e8",
       "style": "IPY_MODEL_809fb70d058443cfb5e238930c93a1ce"
      }
     },
     "2e5e3207408e41d38f8e2c9a3cb5ef44": {
      "model_module": "@jupyter-widgets/controls",
      "model_module_version": "1.5.0",
      "model_name": "DropdownModel",
      "state": {
       "_options_labels": [
        "Bruises",
        "No Bruises"
       ],
       "description": "bruises",
       "index": 0,
       "layout": "IPY_MODEL_c1bea796e51c402bb5b9fcac73544d03",
       "style": "IPY_MODEL_b6dda394f4da452384a4f9e2a5fdef33"
      }
     },
     "2e5ec7a848014ded80891881c125a8ab": {
      "model_module": "@jupyter-widgets/base",
      "model_module_version": "1.2.0",
      "model_name": "LayoutModel",
      "state": {}
     },
     "2e8f2cc13e0c4ecd980c691bee37ce0f": {
      "model_module": "@jupyter-widgets/controls",
      "model_module_version": "1.5.0",
      "model_name": "DescriptionStyleModel",
      "state": {
       "description_width": ""
      }
     },
     "2ee7ab1bc73048e8aa769b5607e2cbaf": {
      "model_module": "@jupyter-widgets/controls",
      "model_module_version": "1.5.0",
      "model_name": "DropdownModel",
      "state": {
       "_options_labels": [
        "Attached",
        "Free"
       ],
       "description": "gill_attachment",
       "index": 1,
       "layout": "IPY_MODEL_a2e97d69f22840e4bd21d96ee63cb998",
       "style": "IPY_MODEL_3016197a2f03416ab2c3afe2fe341b63"
      }
     },
     "2f1e4cc94e9c4f2db20e59a89eed824e": {
      "model_module": "@jupyter-widgets/controls",
      "model_module_version": "1.5.0",
      "model_name": "DescriptionStyleModel",
      "state": {
       "description_width": ""
      }
     },
     "2f37cb72d557440ca9d43ee1dcd3fe67": {
      "model_module": "@jupyter-widgets/base",
      "model_module_version": "1.2.0",
      "model_name": "LayoutModel",
      "state": {}
     },
     "2f597b3f898f4c508f048242fd27e34a": {
      "model_module": "@jupyter-widgets/controls",
      "model_module_version": "1.5.0",
      "model_name": "VBoxModel",
      "state": {
       "_dom_classes": [
        "widget-interact"
       ],
       "children": [
        "IPY_MODEL_28bd10f9dc974703a6fdcab76f48ac8a",
        "IPY_MODEL_9a0771d1221e4efe9b04c1170cf9a3cf",
        "IPY_MODEL_b5824ff194d44a03aa4b4a012ecd9d76",
        "IPY_MODEL_3de3d925d2024f5ab32a7cc4277b9d59",
        "IPY_MODEL_3e748081449f417fb1954b47ef2fc0f5",
        "IPY_MODEL_0b72567859334d29921a0f1efef3f292",
        "IPY_MODEL_cf9cca5eee17477db638ee4d2db6e6ce",
        "IPY_MODEL_54161695583a4a2ea6225818a2fee95c",
        "IPY_MODEL_2a842e02ca9c40fd8523b075084c3690",
        "IPY_MODEL_0d903980640f4412be9cb163e876764a",
        "IPY_MODEL_0c1306bbcd114f57b8fae076f2d61ce4",
        "IPY_MODEL_1276dc1990994ceaa194b2694dd5b6c3",
        "IPY_MODEL_64c1ffd2e2b94c998f1bfb8666bf2211",
        "IPY_MODEL_f5542e1b197b47068e12ccd803cb6fd2",
        "IPY_MODEL_2478629acf7d4fcda288f0edb01ce7b7",
        "IPY_MODEL_f499c4dda8d642ea80f1f13075b804c2",
        "IPY_MODEL_c1bfadb4d28f433a8e2a1962f80c2bad",
        "IPY_MODEL_caa39e86adc449ec8069445d30dc8700",
        "IPY_MODEL_1b75f98c68e1456b82b1e1c80ef03439",
        "IPY_MODEL_c3194d53683249b1b9908a1de88c27d2",
        "IPY_MODEL_5243cd64843d4b7b85f89b6d01f205ad",
        "IPY_MODEL_e809cd9da56744c3a0b9ccdbb80550d5",
        "IPY_MODEL_9206bd2884e24e2bad46b2da8c9510a2"
       ],
       "layout": "IPY_MODEL_bc2f4bf6ec02493e8b8712ba9ab044e2"
      }
     },
     "2fa4dc5a863e4998af69f9bdeaaac177": {
      "model_module": "@jupyter-widgets/controls",
      "model_module_version": "1.5.0",
      "model_name": "DropdownModel",
      "state": {
       "_options_labels": [
        "Bruises",
        "No Bruises"
       ],
       "description": "bruises",
       "index": 0,
       "layout": "IPY_MODEL_4079e15092af4dcea988b14852bd3d0c",
       "style": "IPY_MODEL_0081109d181845b9b1e49b9ade09847a"
      }
     },
     "2facdf0bc19c4e12ac5992ab369d086b": {
      "model_module": "@jupyter-widgets/base",
      "model_module_version": "1.2.0",
      "model_name": "LayoutModel",
      "state": {}
     },
     "2fb9f76e9cab46aeb5077c0552e8cada": {
      "model_module": "@jupyter-widgets/controls",
      "model_module_version": "1.5.0",
      "model_name": "DropdownModel",
      "state": {
       "_options_labels": [
        "Fiberous",
        "Scaly",
        "Silky",
        "Smooth"
       ],
       "description": "stalk_surface_above_ring",
       "index": 0,
       "layout": "IPY_MODEL_19991a4db9f74601907d8b30fea7e0ce",
       "style": "IPY_MODEL_b9548682ba0f4b938f3845f616f68e6f"
      }
     },
     "2fecc7e3273f44fbbf419ef288768825": {
      "model_module": "@jupyter-widgets/controls",
      "model_module_version": "1.5.0",
      "model_name": "DropdownModel",
      "state": {
       "_options_labels": [
        "Fiberous",
        "Grooves",
        "Scaly",
        "Smooth"
       ],
       "description": "cap_surface",
       "index": 0,
       "layout": "IPY_MODEL_205cf74fa8c743718437d387f69c48cf",
       "style": "IPY_MODEL_fb543708141940e9ad64139fa99a7ac6"
      }
     },
     "2ff88b28ad134fddb8dee211d4ef7617": {
      "model_module": "@jupyter-widgets/controls",
      "model_module_version": "1.5.0",
      "model_name": "DescriptionStyleModel",
      "state": {
       "description_width": ""
      }
     },
     "3016197a2f03416ab2c3afe2fe341b63": {
      "model_module": "@jupyter-widgets/controls",
      "model_module_version": "1.5.0",
      "model_name": "DescriptionStyleModel",
      "state": {
       "description_width": ""
      }
     },
     "30552b4148004c2d97c81786334c4b17": {
      "model_module": "@jupyter-widgets/controls",
      "model_module_version": "1.5.0",
      "model_name": "DescriptionStyleModel",
      "state": {
       "description_width": ""
      }
     },
     "30761b1221a549a8aa37f13cb0d05ce7": {
      "model_module": "@jupyter-widgets/controls",
      "model_module_version": "1.5.0",
      "model_name": "DropdownModel",
      "state": {
       "_options_labels": [
        "Brown",
        "Buff",
        "Cinnamon",
        "Gray",
        "Orange",
        "Pink",
        "Red",
        "White",
        "Yellow"
       ],
       "description": "stalk_color_below_ring",
       "index": 0,
       "layout": "IPY_MODEL_258c3165c41e407080c20861947b436e",
       "style": "IPY_MODEL_d7fa6804c6024b159ba28cad7c11a0d1"
      }
     },
     "307889487a7d4a2896667747ae653db7": {
      "model_module": "@jupyter-widgets/controls",
      "model_module_version": "1.5.0",
      "model_name": "DropdownModel",
      "state": {
       "_options_labels": [
        "Close",
        "Crowded",
        "Distant"
       ],
       "description": "gill_spacing",
       "index": 0,
       "layout": "IPY_MODEL_275e0b48d94e41ed8d98c0417899be36",
       "style": "IPY_MODEL_22da156dc42b4099b81ac924305a74c7"
      }
     },
     "30dcee5c2d71402fa6b5fde6695c122c": {
      "model_module": "@jupyter-widgets/base",
      "model_module_version": "1.2.0",
      "model_name": "LayoutModel",
      "state": {}
     },
     "30f14b3150fd4944b87bbfcfab24a6ce": {
      "model_module": "@jupyter-widgets/controls",
      "model_module_version": "1.5.0",
      "model_name": "DropdownModel",
      "state": {
       "_options_labels": [
        "Bruises",
        "No Bruises"
       ],
       "description": "bruises",
       "index": 0,
       "layout": "IPY_MODEL_681a2897575b4c91a9210462098d5795",
       "style": "IPY_MODEL_3b30d9ae0aae46a3891a03926969017a"
      }
     },
     "30fc8d829dd54d26a253d4328917f0e7": {
      "model_module": "@jupyter-widgets/controls",
      "model_module_version": "1.5.0",
      "model_name": "VBoxModel",
      "state": {
       "_dom_classes": [
        "widget-interact"
       ],
       "children": [
        "IPY_MODEL_fc8012986aa547e9950ae508cbf706ab",
        "IPY_MODEL_8c049699cf514f029c0a490f5f760fa3",
        "IPY_MODEL_b6d78e8727be4b1b820e1e79dd2e2eda",
        "IPY_MODEL_8856ca35c7ca4146a101d82c04f1ea08",
        "IPY_MODEL_973dde84fb494d958763d7dc979cfaae",
        "IPY_MODEL_e0f0d65ebf4c40218b7204401740bce7",
        "IPY_MODEL_34baca910f504a77badd97ebbe301647",
        "IPY_MODEL_64a289c25b654559a0a71a4b9affe03e",
        "IPY_MODEL_b4abfc6aeba74cbba8f812b30ab09354",
        "IPY_MODEL_c37bf5f1be324b2db535964e70b51edf",
        "IPY_MODEL_4c0d544b171e460b8a42b68c199448ea",
        "IPY_MODEL_6a502c6127bc44f4885dd3a58dd15648",
        "IPY_MODEL_9a5915e1ec744d5ebe0a84af3f40ad66",
        "IPY_MODEL_2e3a9e0a6d484a13a81b57340509f4b1",
        "IPY_MODEL_015e57ebf4aa4f6b8a6ef600275f6aff",
        "IPY_MODEL_37b98216485247c5a2560970a3236993",
        "IPY_MODEL_f7ef1bd184f54cc58ca2dab5f51e9566",
        "IPY_MODEL_73540ab34a3845589367c4441df08cf7",
        "IPY_MODEL_11aaa26572634160adf2244897658b0b",
        "IPY_MODEL_97c6da01bca24cf2865e3178ddc70476",
        "IPY_MODEL_62e6090b7a2a4da8ad734c75d4897065",
        "IPY_MODEL_ed8a7dd77eaa4d47867590476242edc5",
        "IPY_MODEL_44f844f5c17d4e3b8992ce19bca34415"
       ],
       "layout": "IPY_MODEL_3c882c73bb2e47d3af488caf03ceacbe"
      }
     },
     "3110d5af01db48bfac36b78d1aea3f62": {
      "model_module": "@jupyter-widgets/controls",
      "model_module_version": "1.5.0",
      "model_name": "DropdownModel",
      "state": {
       "_options_labels": [
        "Brown",
        "Buff",
        "Cinnamon",
        "Gray",
        "Orange",
        "Pink",
        "Red",
        "White",
        "Yellow"
       ],
       "description": "stalk_color_below_ring",
       "index": 0,
       "layout": "IPY_MODEL_f251202042c843e3b18834dbf93378b4",
       "style": "IPY_MODEL_c19a26706f2c467cb186f2bbcf9cabe0"
      }
     },
     "3132e7bda0cf4217be9cb553159acb6d": {
      "model_module": "@jupyter-widgets/controls",
      "model_module_version": "1.5.0",
      "model_name": "DescriptionStyleModel",
      "state": {
       "description_width": ""
      }
     },
     "313e2a885fb24fb9b8951963b5563c15": {
      "model_module": "@jupyter-widgets/controls",
      "model_module_version": "1.5.0",
      "model_name": "DescriptionStyleModel",
      "state": {
       "description_width": ""
      }
     },
     "3173055aab81491db59622773ad19971": {
      "model_module": "@jupyter-widgets/base",
      "model_module_version": "1.2.0",
      "model_name": "LayoutModel",
      "state": {}
     },
     "31b389281cb643d4a6d37037bb2cf73b": {
      "model_module": "@jupyter-widgets/base",
      "model_module_version": "1.2.0",
      "model_name": "LayoutModel",
      "state": {}
     },
     "31beb45e81674df7822b1b3e55501c51": {
      "model_module": "@jupyter-widgets/controls",
      "model_module_version": "1.5.0",
      "model_name": "DropdownModel",
      "state": {
       "_options_labels": [
        "Grasses",
        "Leaves",
        "Meadows",
        "Paths",
        "Urban",
        "Waste",
        "Woods"
       ],
       "description": "habitat",
       "index": 4,
       "layout": "IPY_MODEL_06e5a107c73747069eea34d135ff76db",
       "style": "IPY_MODEL_081be2ede48c40d0a7084768a051b7d5"
      }
     },
     "320f92b7e76b4d91b9a716b051e9bf39": {
      "model_module": "@jupyter-widgets/controls",
      "model_module_version": "1.5.0",
      "model_name": "DescriptionStyleModel",
      "state": {
       "description_width": ""
      }
     },
     "327c77015f1e4283b1c3afb7d4650c33": {
      "model_module": "@jupyter-widgets/controls",
      "model_module_version": "1.5.0",
      "model_name": "DropdownModel",
      "state": {
       "_options_labels": [
        "Black",
        "Brown",
        "Buff",
        "Chocolate",
        "Green",
        "Orange",
        "Purple",
        "White",
        "Yellow"
       ],
       "description": "spore_print_color",
       "index": 0,
       "layout": "IPY_MODEL_1cff2f919c754356b21d4676038e7c16",
       "style": "IPY_MODEL_07bbfbf2de614d6f8fb0b199ef1f1a37"
      }
     },
     "329c91e57cbb406bb326d8e18e8f79df": {
      "model_module": "@jupyter-widgets/controls",
      "model_module_version": "1.5.0",
      "model_name": "DescriptionStyleModel",
      "state": {
       "description_width": ""
      }
     },
     "32a20be3b8ca41b8882014c47212c192": {
      "model_module": "@jupyter-widgets/base",
      "model_module_version": "1.2.0",
      "model_name": "LayoutModel",
      "state": {}
     },
     "32a785d37cf44abe9deaf10c5506fa7f": {
      "model_module": "@jupyter-widgets/controls",
      "model_module_version": "1.5.0",
      "model_name": "DescriptionStyleModel",
      "state": {
       "description_width": ""
      }
     },
     "32a87ca45b5244b5a935af770335128e": {
      "model_module": "@jupyter-widgets/controls",
      "model_module_version": "1.5.0",
      "model_name": "DescriptionStyleModel",
      "state": {
       "description_width": ""
      }
     },
     "32bd8e606ee74279af4daf0a6437611b": {
      "model_module": "@jupyter-widgets/controls",
      "model_module_version": "1.5.0",
      "model_name": "DropdownModel",
      "state": {
       "_options_labels": [
        "Black",
        "Brown",
        "Buff",
        "Chocolate",
        "Gray",
        "Green",
        "Orange",
        "Pink",
        "Purple",
        "Red",
        "White",
        "Yellow"
       ],
       "description": "gill_color",
       "index": 0,
       "layout": "IPY_MODEL_4976e5cfe4dc41858d0b93d7f43dd2a3",
       "style": "IPY_MODEL_33106f21a5104e9db8b9a768ad36827f"
      }
     },
     "32d5f1b314e94c78beb6246859a484b7": {
      "model_module": "@jupyter-widgets/controls",
      "model_module_version": "1.5.0",
      "model_name": "DropdownModel",
      "state": {
       "_options_labels": [
        "Abundant",
        "Clustered",
        "Numerous",
        "Scattered",
        "Several",
        "Solitary"
       ],
       "description": "population",
       "index": 0,
       "layout": "IPY_MODEL_a3d10480e03747949aab794bf03dff2a",
       "style": "IPY_MODEL_7ccc64187ad74c438c6324453faa03a3"
      }
     },
     "32daaf798b9a4580ae3d30170aa63a5f": {
      "model_module": "@jupyter-widgets/base",
      "model_module_version": "1.2.0",
      "model_name": "LayoutModel",
      "state": {}
     },
     "32f030d75b444438a5d728a51230a8b3": {
      "model_module": "@jupyter-widgets/controls",
      "model_module_version": "1.5.0",
      "model_name": "DropdownModel",
      "state": {
       "_options_labels": [
        "Fiberous",
        "Grooves",
        "Scaly",
        "Smooth"
       ],
       "description": "cap_surface",
       "index": 0,
       "layout": "IPY_MODEL_b19558c7bb404e0eac8f3d4afa2e43e0",
       "style": "IPY_MODEL_f0fce9b19b994dacb5cd36ad6b72f97b"
      }
     },
     "33106f21a5104e9db8b9a768ad36827f": {
      "model_module": "@jupyter-widgets/controls",
      "model_module_version": "1.5.0",
      "model_name": "DescriptionStyleModel",
      "state": {
       "description_width": ""
      }
     },
     "3344b3766d1e43429731aa7becd0b1ae": {
      "model_module": "@jupyter-widgets/base",
      "model_module_version": "1.2.0",
      "model_name": "LayoutModel",
      "state": {}
     },
     "336f7b2544a24d77bac73d0f7d8ec67d": {
      "model_module": "@jupyter-widgets/controls",
      "model_module_version": "1.5.0",
      "model_name": "DescriptionStyleModel",
      "state": {
       "description_width": ""
      }
     },
     "3390c36d55114bf08cbf2213b93c6c20": {
      "model_module": "@jupyter-widgets/base",
      "model_module_version": "1.2.0",
      "model_name": "LayoutModel",
      "state": {}
     },
     "3444c43859fc4db6bb9737d9899fa4ab": {
      "model_module": "@jupyter-widgets/controls",
      "model_module_version": "1.5.0",
      "model_name": "DropdownModel",
      "state": {
       "_options_labels": [
        "Attached",
        "Free"
       ],
       "description": "gill_attachment",
       "index": 0,
       "layout": "IPY_MODEL_a36e0642dce0455984a568f5394c8372",
       "style": "IPY_MODEL_8b7dd99529764cc6bbe2003e18057f31"
      }
     },
     "346dc056dc0a4572a875bda2f90c1044": {
      "model_module": "@jupyter-widgets/controls",
      "model_module_version": "1.5.0",
      "model_name": "DropdownModel",
      "state": {
       "_options_labels": [
        "Evanescent",
        "Flaring",
        "Large",
        "None",
        "Pendant",
        "Sheathing",
        "Zone"
       ],
       "description": "ring_type",
       "index": 0,
       "layout": "IPY_MODEL_9d48572bee7147ecb82f8fb94d6675f7",
       "style": "IPY_MODEL_973b48896967413f8aab4fb5dcba560a"
      }
     },
     "34773d95b1e640fbaeafebd50a4c73ea": {
      "model_module": "@jupyter-widgets/base",
      "model_module_version": "1.2.0",
      "model_name": "LayoutModel",
      "state": {}
     },
     "34ad50ad46f84120bfccd14f91cb3d97": {
      "model_module": "@jupyter-widgets/controls",
      "model_module_version": "1.5.0",
      "model_name": "DropdownModel",
      "state": {
       "_options_labels": [
        "Fiberous",
        "Grooves",
        "Scaly",
        "Smooth"
       ],
       "description": "cap_surface",
       "index": 0,
       "layout": "IPY_MODEL_1fad1e01f00846b1ad0391ffada77b67",
       "style": "IPY_MODEL_e1a80ad89d8240cbaee9249b9cfeafdb"
      }
     },
     "34baca910f504a77badd97ebbe301647": {
      "model_module": "@jupyter-widgets/controls",
      "model_module_version": "1.5.0",
      "model_name": "DropdownModel",
      "state": {
       "_options_labels": [
        "Close",
        "Crowded",
        "Distant"
       ],
       "description": "gill_spacing",
       "index": 0,
       "layout": "IPY_MODEL_52f4c15dbe8d4aebae0526d05eba19c6",
       "style": "IPY_MODEL_0da25265091646179a772202c955917a"
      }
     },
     "34f055a763f1493c82960cbc74de079d": {
      "model_module": "@jupyter-widgets/base",
      "model_module_version": "1.2.0",
      "model_name": "LayoutModel",
      "state": {}
     },
     "3528e056f634458993ea6c2166b43d8f": {
      "model_module": "@jupyter-widgets/controls",
      "model_module_version": "1.5.0",
      "model_name": "DropdownModel",
      "state": {
       "_options_labels": [
        "Brown",
        "Orange",
        "White",
        "Yellow"
       ],
       "description": "veil_color",
       "index": 0,
       "layout": "IPY_MODEL_47a7fe75accd4ea3821d74d4237aef55",
       "style": "IPY_MODEL_eec0a14aaa1e4c138dc173c6852f0c7c"
      }
     },
     "352f642daec94b349983237c95e43817": {
      "model_module": "@jupyter-widgets/controls",
      "model_module_version": "1.5.0",
      "model_name": "DropdownModel",
      "state": {
       "_options_labels": [
        "Almond",
        "Anise",
        "Creosote",
        "Fishy",
        "Foul",
        "Musty",
        "None",
        "Pungent",
        "Spicy"
       ],
       "description": "odor",
       "index": 0,
       "layout": "IPY_MODEL_5d95415473994b45ad1548a6a77e6001",
       "style": "IPY_MODEL_8b940c3b3a474e4085ce9918f20e21ac"
      }
     },
     "352f93dd58e0452db6121d80580e61ea": {
      "model_module": "@jupyter-widgets/base",
      "model_module_version": "1.2.0",
      "model_name": "LayoutModel",
      "state": {}
     },
     "353f3043bbe84e53a3362de3ed699f33": {
      "model_module": "@jupyter-widgets/controls",
      "model_module_version": "1.5.0",
      "model_name": "DescriptionStyleModel",
      "state": {
       "description_width": ""
      }
     },
     "3569efc1d06145d486062bdea5221887": {
      "model_module": "@jupyter-widgets/controls",
      "model_module_version": "1.5.0",
      "model_name": "DropdownModel",
      "state": {
       "_options_labels": [
        "None",
        "One",
        "Two"
       ],
       "description": "ring_number",
       "index": 0,
       "layout": "IPY_MODEL_0862f1dc9e5e4748bab727902dc42422",
       "style": "IPY_MODEL_bff9b21e6e07428585342eee8ca40eba"
      }
     },
     "361cb067ab474f34826f8b32ec729646": {
      "model_module": "@jupyter-widgets/controls",
      "model_module_version": "1.5.0",
      "model_name": "DropdownModel",
      "state": {
       "_options_labels": [
        "Almond",
        "Anise",
        "Creosote",
        "Fishy",
        "Foul",
        "Musty",
        "None",
        "Pungent",
        "Spicy"
       ],
       "description": "odor",
       "index": 0,
       "layout": "IPY_MODEL_7562adedd1d243e6905cad9f93cc3928",
       "style": "IPY_MODEL_2a80164b3d014210b47955a3b6daf40a"
      }
     },
     "36286691d0fe4dd294f67f9dfdb9923c": {
      "model_module": "@jupyter-widgets/controls",
      "model_module_version": "1.5.0",
      "model_name": "DropdownModel",
      "state": {
       "_options_labels": [
        "Evanescent",
        "Flaring",
        "Large",
        "None",
        "Pendant",
        "Sheathing",
        "Zone"
       ],
       "description": "ring_type",
       "index": 0,
       "layout": "IPY_MODEL_9fcce68d498a44518c5ee99d78c4bcf2",
       "style": "IPY_MODEL_4add43e7cd7d4836b6e659a344a17ef0"
      }
     },
     "366dfb3cb1514d91a530a588328eca87": {
      "model_module": "@jupyter-widgets/controls",
      "model_module_version": "1.5.0",
      "model_name": "DropdownModel",
      "state": {
       "_options_labels": [
        "Fiberous",
        "Scaly",
        "Silky",
        "Smooth"
       ],
       "description": "stalk_surface_below_ring",
       "index": 0,
       "layout": "IPY_MODEL_e72a21646cf340aea5864d4a0353002b",
       "style": "IPY_MODEL_b3c2b770562942159dc40cccd6599a04"
      }
     },
     "367aeda28a1547b9861e1b7e62a6ca40": {
      "model_module": "@jupyter-widgets/base",
      "model_module_version": "1.2.0",
      "model_name": "LayoutModel",
      "state": {}
     },
     "368e4713b65b432d9102c869bda72630": {
      "model_module": "@jupyter-widgets/controls",
      "model_module_version": "1.5.0",
      "model_name": "DescriptionStyleModel",
      "state": {
       "description_width": ""
      }
     },
     "36958fffd8c746539e103a1ef1851685": {
      "model_module": "@jupyter-widgets/controls",
      "model_module_version": "1.5.0",
      "model_name": "DropdownModel",
      "state": {
       "_options_labels": [
        "Close",
        "Crowded",
        "Distant"
       ],
       "description": "gill_spacing",
       "index": 0,
       "layout": "IPY_MODEL_ab65b66271f94436a13fe61105e7c7fa",
       "style": "IPY_MODEL_e9db3e6c29174dda924224a3259400bd"
      }
     },
     "369de586f1fe44a69aebf415e22cf675": {
      "model_module": "@jupyter-widgets/base",
      "model_module_version": "1.2.0",
      "model_name": "LayoutModel",
      "state": {}
     },
     "36a50cb760404ea484e880ed2490e7f1": {
      "model_module": "@jupyter-widgets/controls",
      "model_module_version": "1.5.0",
      "model_name": "DropdownModel",
      "state": {
       "_options_labels": [
        "Brown",
        "Buff",
        "Cinnamon",
        "Gray",
        "Orange",
        "Pink",
        "Red",
        "White",
        "Yellow"
       ],
       "description": "stalk_color_above_ring",
       "index": 0,
       "layout": "IPY_MODEL_543973f863064f8eae901404f013a12d",
       "style": "IPY_MODEL_74f2b9e290c8437daeb4030c4f34aeb7"
      }
     },
     "36cae2ff2a2e48268fabcbf92b720bcf": {
      "model_module": "@jupyter-widgets/controls",
      "model_module_version": "1.5.0",
      "model_name": "DescriptionStyleModel",
      "state": {
       "description_width": ""
      }
     },
     "36e2dd5c0ae84fa180d21933e85c417a": {
      "model_module": "@jupyter-widgets/base",
      "model_module_version": "1.2.0",
      "model_name": "LayoutModel",
      "state": {}
     },
     "36f2400552dd4a0798907f1bb1981248": {
      "model_module": "@jupyter-widgets/controls",
      "model_module_version": "1.5.0",
      "model_name": "DropdownModel",
      "state": {
       "_options_labels": [
        "Enlarging",
        "Tapering"
       ],
       "description": "stalk_shape",
       "index": 0,
       "layout": "IPY_MODEL_6d8dc092238049ba934413c20e422751",
       "style": "IPY_MODEL_40aa67ea4ad1431bb706adda920c9914"
      }
     },
     "36feee29d73643358490cea80de2b4f3": {
      "model_module": "@jupyter-widgets/base",
      "model_module_version": "1.2.0",
      "model_name": "LayoutModel",
      "state": {}
     },
     "371d4c7f5bd04e059b54b23bc4a6f6dc": {
      "model_module": "@jupyter-widgets/base",
      "model_module_version": "1.2.0",
      "model_name": "LayoutModel",
      "state": {}
     },
     "37369bdd34ff4cf29543e2ac7f0b5e19": {
      "model_module": "@jupyter-widgets/base",
      "model_module_version": "1.2.0",
      "model_name": "LayoutModel",
      "state": {}
     },
     "373fe9cdcf564d59a86d36648e2a32f2": {
      "model_module": "@jupyter-widgets/controls",
      "model_module_version": "1.5.0",
      "model_name": "DescriptionStyleModel",
      "state": {
       "description_width": ""
      }
     },
     "377425a07e5742b28f06778aedcde1c6": {
      "model_module": "@jupyter-widgets/controls",
      "model_module_version": "1.5.0",
      "model_name": "DropdownModel",
      "state": {
       "_options_labels": [
        "Brown",
        "Buff",
        "Cinnamon",
        "Gray",
        "Orange",
        "Pink",
        "Red",
        "White",
        "Yellow"
       ],
       "description": "stalk_color_above_ring",
       "index": 0,
       "layout": "IPY_MODEL_ba6de0c723d54adca81eb5ff097e4e51",
       "style": "IPY_MODEL_efca4c897dca4b7b8ae6d8003d12161c"
      }
     },
     "377f30d258f04c1aaf9c74b5ac98d49b": {
      "model_module": "@jupyter-widgets/controls",
      "model_module_version": "1.5.0",
      "model_name": "DescriptionStyleModel",
      "state": {
       "description_width": ""
      }
     },
     "3780902d3f244c81bf43e1ed13bf9ad4": {
      "model_module": "@jupyter-widgets/base",
      "model_module_version": "1.2.0",
      "model_name": "LayoutModel",
      "state": {}
     },
     "3785c753bed54926b2c255b58c79f84d": {
      "model_module": "@jupyter-widgets/base",
      "model_module_version": "1.2.0",
      "model_name": "LayoutModel",
      "state": {}
     },
     "37a6845baffc45cba989684bd0c46ee4": {
      "model_module": "@jupyter-widgets/base",
      "model_module_version": "1.2.0",
      "model_name": "LayoutModel",
      "state": {}
     },
     "37b98216485247c5a2560970a3236993": {
      "model_module": "@jupyter-widgets/controls",
      "model_module_version": "1.5.0",
      "model_name": "DropdownModel",
      "state": {
       "_options_labels": [
        "Partial",
        "Universal"
       ],
       "description": "veil_type",
       "index": 0,
       "layout": "IPY_MODEL_ae895a41d5d940ce8fc7c75ddd6e8173",
       "style": "IPY_MODEL_81e7d5f071ea4732aac44815dd06db44"
      }
     },
     "37ba757f08ba4529aede3c3bce98f089": {
      "model_module": "@jupyter-widgets/base",
      "model_module_version": "1.2.0",
      "model_name": "LayoutModel",
      "state": {}
     },
     "37ddd7bee3dc487cb182bd0b14f260a6": {
      "model_module": "@jupyter-widgets/controls",
      "model_module_version": "1.5.0",
      "model_name": "DropdownModel",
      "state": {
       "_options_labels": [
        "Bulbous",
        "Club",
        "Cup",
        "Equal",
        "Rhizomorphs",
        "Rooted",
        "Missing"
       ],
       "description": "stalk_root",
       "index": 0,
       "layout": "IPY_MODEL_c3acb9c27e7845128980c176f4a5ebb0",
       "style": "IPY_MODEL_c34e7eadc9df45c884b9daa22a72653f"
      }
     },
     "37f2708f871d4fbab176cb92c5532816": {
      "model_module": "@jupyter-widgets/controls",
      "model_module_version": "1.5.0",
      "model_name": "DropdownModel",
      "state": {
       "_options_labels": [
        "Partial",
        "Universal"
       ],
       "description": "veil_type",
       "index": 0,
       "layout": "IPY_MODEL_84be7b7db478445a94f6bf21357f607d",
       "style": "IPY_MODEL_d90b580ab9cd4ac489b22eca88588551"
      }
     },
     "37fa0a4688d84600bd9a87c8d1036417": {
      "model_module": "@jupyter-widgets/controls",
      "model_module_version": "1.5.0",
      "model_name": "DescriptionStyleModel",
      "state": {
       "description_width": ""
      }
     },
     "37fecb1a1e804fb9af8c6124fa8771ec": {
      "model_module": "@jupyter-widgets/controls",
      "model_module_version": "1.5.0",
      "model_name": "DescriptionStyleModel",
      "state": {
       "description_width": ""
      }
     },
     "382922afaa1d4a79b8e37d67be9501a8": {
      "model_module": "@jupyter-widgets/controls",
      "model_module_version": "1.5.0",
      "model_name": "DropdownModel",
      "state": {
       "_options_labels": [
        "Fiberous",
        "Scaly",
        "Silky",
        "Smooth"
       ],
       "description": "stalk_surface_above_ring",
       "index": 0,
       "layout": "IPY_MODEL_c1e5d8b523d946b1aa7f659427043ef6",
       "style": "IPY_MODEL_4146c408ecee479084bb98ebf1a0aab2"
      }
     },
     "386e056d2b5a44fbb9f53c71cba54ecf": {
      "model_module": "@jupyter-widgets/controls",
      "model_module_version": "1.5.0",
      "model_name": "DescriptionStyleModel",
      "state": {
       "description_width": ""
      }
     },
     "38b3baa891da46de9f79ffd6259689de": {
      "model_module": "@jupyter-widgets/controls",
      "model_module_version": "1.5.0",
      "model_name": "DescriptionStyleModel",
      "state": {
       "description_width": ""
      }
     },
     "38b7caa3750748bcbcd384ff4643c555": {
      "model_module": "@jupyter-widgets/controls",
      "model_module_version": "1.5.0",
      "model_name": "DropdownModel",
      "state": {
       "_options_labels": [
        "Cobwebby",
        "Evanescent",
        "Flaring",
        "Large",
        "None",
        "Pendant",
        "Sheathing",
        "Zone"
       ],
       "description": "ring_type",
       "index": 0,
       "layout": "IPY_MODEL_1b5644d8fa3a430587861181f47a7089",
       "style": "IPY_MODEL_4ac642ed893e4fea8fcdf64f581a1a74"
      }
     },
     "38c0efc6cb734119b94c9e27a4dbf397": {
      "model_module": "@jupyter-widgets/controls",
      "model_module_version": "1.5.0",
      "model_name": "DropdownModel",
      "state": {
       "_options_labels": [
        "Enlarging",
        "Tapering"
       ],
       "description": "stalk_shape",
       "index": 0,
       "layout": "IPY_MODEL_2247420a50964feca5fe3a1713ba60de",
       "style": "IPY_MODEL_3a069bb265964bb19ccb91154bbecc31"
      }
     },
     "38cef406d0f84d4badb764a833bce733": {
      "model_module": "@jupyter-widgets/controls",
      "model_module_version": "1.5.0",
      "model_name": "DescriptionStyleModel",
      "state": {
       "description_width": ""
      }
     },
     "38d3519709294190b78785340e73424e": {
      "model_module": "@jupyter-widgets/base",
      "model_module_version": "1.2.0",
      "model_name": "LayoutModel",
      "state": {}
     },
     "38d9fbff8d704ea798659695f9acc057": {
      "model_module": "@jupyter-widgets/controls",
      "model_module_version": "1.5.0",
      "model_name": "DropdownModel",
      "state": {
       "_options_labels": [
        "Grasses",
        "Leaves",
        "Meadows",
        "Paths",
        "Urban",
        "Waste",
        "Woods"
       ],
       "description": "habitat",
       "index": 0,
       "layout": "IPY_MODEL_b8e357f9393a480d9f9b675e19150a58",
       "style": "IPY_MODEL_b24e52187b3b476bbf4b9861d30bed09"
      }
     },
     "393d7f2740c649fbbdad2df7770c6f0e": {
      "model_module": "@jupyter-widgets/base",
      "model_module_version": "1.2.0",
      "model_name": "LayoutModel",
      "state": {}
     },
     "39496ca7edba43d3b6ce5299735efe63": {
      "model_module": "@jupyter-widgets/base",
      "model_module_version": "1.2.0",
      "model_name": "LayoutModel",
      "state": {}
     },
     "396dde32adb6497bb6b85979dfed607f": {
      "model_module": "@jupyter-widgets/controls",
      "model_module_version": "1.5.0",
      "model_name": "DropdownModel",
      "state": {
       "_options_labels": [
        "Bell",
        "Conical",
        "Convex",
        "Flat",
        "Knobbed",
        "Sunken"
       ],
       "description": "cap_shape",
       "index": 0,
       "layout": "IPY_MODEL_58941c8c4090416e82b800b838bf5605",
       "style": "IPY_MODEL_52bd1588b56446108ebfc845c9148e9d"
      }
     },
     "399c4182fba94ab987808a11010e94c5": {
      "model_module": "@jupyter-widgets/controls",
      "model_module_version": "1.5.0",
      "model_name": "DropdownModel",
      "state": {
       "_options_labels": [
        "Close",
        "Crowded",
        "Distant"
       ],
       "description": "gill_spacing",
       "index": 0,
       "layout": "IPY_MODEL_a023ee44f08849a0a6cb693f074030d5",
       "style": "IPY_MODEL_759f169eba4e4cf5bdddc940811b4cbe"
      }
     },
     "39a019966a624e86b28932b9780d051a": {
      "model_module": "@jupyter-widgets/controls",
      "model_module_version": "1.5.0",
      "model_name": "DescriptionStyleModel",
      "state": {
       "description_width": ""
      }
     },
     "39bc9cd6ab3f4b33ab7fde548932a6f9": {
      "model_module": "@jupyter-widgets/controls",
      "model_module_version": "1.5.0",
      "model_name": "DescriptionStyleModel",
      "state": {
       "description_width": ""
      }
     },
     "39db1cbe1e464bc9a78058067ea89d2f": {
      "model_module": "@jupyter-widgets/controls",
      "model_module_version": "1.5.0",
      "model_name": "DescriptionStyleModel",
      "state": {
       "description_width": ""
      }
     },
     "39e4666e01ce49d4af665c4d1c70e782": {
      "model_module": "@jupyter-widgets/controls",
      "model_module_version": "1.5.0",
      "model_name": "DropdownModel",
      "state": {
       "_options_labels": [
        "Fiberous",
        "Grooves",
        "Scaly",
        "Smooth"
       ],
       "description": "cap_surface",
       "index": 0,
       "layout": "IPY_MODEL_dc6ef42c66b54eb69e249cf5d80b7088",
       "style": "IPY_MODEL_fa15bc040161404d8b7e988048394eb8"
      }
     },
     "39f21d0e602b494c943135727299f638": {
      "model_module": "@jupyter-widgets/controls",
      "model_module_version": "1.5.0",
      "model_name": "DescriptionStyleModel",
      "state": {
       "description_width": ""
      }
     },
     "3a0235b2024943c6be523b2798903aff": {
      "model_module": "@jupyter-widgets/output",
      "model_module_version": "1.0.0",
      "model_name": "OutputModel",
      "state": {
       "layout": "IPY_MODEL_81150560920e4b8ea71df76d8ee90bf7",
       "outputs": [
        {
         "name": "stdout",
         "output_type": "stream",
         "text": "Bruh\n"
        }
       ]
      }
     },
     "3a069bb265964bb19ccb91154bbecc31": {
      "model_module": "@jupyter-widgets/controls",
      "model_module_version": "1.5.0",
      "model_name": "DescriptionStyleModel",
      "state": {
       "description_width": ""
      }
     },
     "3a1427d6d64f40aaab996b72725978d4": {
      "model_module": "@jupyter-widgets/controls",
      "model_module_version": "1.5.0",
      "model_name": "DescriptionStyleModel",
      "state": {
       "description_width": ""
      }
     },
     "3a82a23812df445a843c49bb5cae3354": {
      "model_module": "@jupyter-widgets/controls",
      "model_module_version": "1.5.0",
      "model_name": "DescriptionStyleModel",
      "state": {
       "description_width": ""
      }
     },
     "3a976828d36c4cf9936a9a209e2aef84": {
      "model_module": "@jupyter-widgets/base",
      "model_module_version": "1.2.0",
      "model_name": "LayoutModel",
      "state": {}
     },
     "3a9d9a81d9354d589e930e299eb7c920": {
      "model_module": "@jupyter-widgets/controls",
      "model_module_version": "1.5.0",
      "model_name": "DescriptionStyleModel",
      "state": {
       "description_width": ""
      }
     },
     "3ad63c2f7cfb4d5fa134a399398f97cc": {
      "model_module": "@jupyter-widgets/controls",
      "model_module_version": "1.5.0",
      "model_name": "DropdownModel",
      "state": {
       "_options_labels": [
        "Fiberous",
        "Scaly",
        "Silky",
        "Smooth"
       ],
       "description": "stalk_surface_above_ring",
       "index": 0,
       "layout": "IPY_MODEL_8daf91823f5049368cf4c52bcb0e44cb",
       "style": "IPY_MODEL_e36bb0ccd10145fdbf6c92f5ebdb73a6"
      }
     },
     "3aedcc38932f4945b17933389f5b57f3": {
      "model_module": "@jupyter-widgets/controls",
      "model_module_version": "1.5.0",
      "model_name": "DescriptionStyleModel",
      "state": {
       "description_width": ""
      }
     },
     "3b30d9ae0aae46a3891a03926969017a": {
      "model_module": "@jupyter-widgets/controls",
      "model_module_version": "1.5.0",
      "model_name": "DescriptionStyleModel",
      "state": {
       "description_width": ""
      }
     },
     "3b33427ba08145ebbe467d595e67dab9": {
      "model_module": "@jupyter-widgets/base",
      "model_module_version": "1.2.0",
      "model_name": "LayoutModel",
      "state": {}
     },
     "3b4b2c7f75b34505be1c822b1d4593b3": {
      "model_module": "@jupyter-widgets/controls",
      "model_module_version": "1.5.0",
      "model_name": "DescriptionStyleModel",
      "state": {
       "description_width": ""
      }
     },
     "3b60cdcc30e74d7f88b0f70c14ed7365": {
      "model_module": "@jupyter-widgets/base",
      "model_module_version": "1.2.0",
      "model_name": "LayoutModel",
      "state": {}
     },
     "3b8fa11c4e404f7e9cb4ed6d9a7ee9a6": {
      "model_module": "@jupyter-widgets/base",
      "model_module_version": "1.2.0",
      "model_name": "LayoutModel",
      "state": {}
     },
     "3b964fe697e746569992b478010fd7f3": {
      "model_module": "@jupyter-widgets/base",
      "model_module_version": "1.2.0",
      "model_name": "LayoutModel",
      "state": {}
     },
     "3be815df5655406ead54e03b6eefe115": {
      "model_module": "@jupyter-widgets/controls",
      "model_module_version": "1.5.0",
      "model_name": "DescriptionStyleModel",
      "state": {
       "description_width": ""
      }
     },
     "3c0096ab1dc448b9988cb501dc95b3e2": {
      "model_module": "@jupyter-widgets/controls",
      "model_module_version": "1.5.0",
      "model_name": "DropdownModel",
      "state": {
       "_options_labels": [
        "Partial",
        "Universal"
       ],
       "description": "veil_type",
       "index": 0,
       "layout": "IPY_MODEL_82c5aa6e019f4b989c16f273ae08d157",
       "style": "IPY_MODEL_514ff799b93440a686602cc3d8a2e48d"
      }
     },
     "3c4c12e54d0c488192fbe24f5f1258c0": {
      "model_module": "@jupyter-widgets/controls",
      "model_module_version": "1.5.0",
      "model_name": "DescriptionStyleModel",
      "state": {
       "description_width": ""
      }
     },
     "3c4f8077d7eb4f528c28e13565001c1f": {
      "model_module": "@jupyter-widgets/base",
      "model_module_version": "1.2.0",
      "model_name": "LayoutModel",
      "state": {}
     },
     "3c52369d00de47deb37e8f5d64a40f5b": {
      "model_module": "@jupyter-widgets/base",
      "model_module_version": "1.2.0",
      "model_name": "LayoutModel",
      "state": {}
     },
     "3c6a2e5930604b5190cc7d7e64b45507": {
      "model_module": "@jupyter-widgets/controls",
      "model_module_version": "1.5.0",
      "model_name": "DropdownModel",
      "state": {
       "_options_labels": [
        "Bell",
        "Conical",
        "Convex",
        "Flat",
        "Knobbed",
        "Sunken"
       ],
       "description": "cap_shape",
       "index": 0,
       "layout": "IPY_MODEL_ee0c07f6fc764d4e93dd06cd9c18da87",
       "style": "IPY_MODEL_3f59a68f68de4caca9cdc7effd711127"
      }
     },
     "3c6f5df4310348b8932ed35f79e5672a": {
      "model_module": "@jupyter-widgets/controls",
      "model_module_version": "1.5.0",
      "model_name": "DropdownModel",
      "state": {
       "_options_labels": [
        "Black",
        "Brown",
        "Buff",
        "Chocolate",
        "Green",
        "Orange",
        "Purple",
        "White",
        "Yellow"
       ],
       "description": "spore_print_color",
       "index": 0,
       "layout": "IPY_MODEL_9855aaad5fb947359c42026d58fab59a",
       "style": "IPY_MODEL_29fc72bd511c4850800776db4a3272a0"
      }
     },
     "3c882c73bb2e47d3af488caf03ceacbe": {
      "model_module": "@jupyter-widgets/base",
      "model_module_version": "1.2.0",
      "model_name": "LayoutModel",
      "state": {}
     },
     "3c8fb80ba5c94f0eb6a7fa995fede4fa": {
      "model_module": "@jupyter-widgets/controls",
      "model_module_version": "1.5.0",
      "model_name": "DescriptionStyleModel",
      "state": {
       "description_width": ""
      }
     },
     "3cb1979f35514789a91b49960eaf9a3f": {
      "model_module": "@jupyter-widgets/controls",
      "model_module_version": "1.5.0",
      "model_name": "CheckboxModel",
      "state": {
       "description": "bruises",
       "disabled": false,
       "layout": "IPY_MODEL_805f4860109541c3ac91fe5ae38d150e",
       "style": "IPY_MODEL_ab42b113cb3b4da7b820a218c73a4482",
       "value": false
      }
     },
     "3cb1c5c95b2448119decb076e3b4015b": {
      "model_module": "@jupyter-widgets/base",
      "model_module_version": "1.2.0",
      "model_name": "LayoutModel",
      "state": {}
     },
     "3d05459b4fe042be87afa608abcf9107": {
      "model_module": "@jupyter-widgets/controls",
      "model_module_version": "1.5.0",
      "model_name": "DropdownModel",
      "state": {
       "_options_labels": [
        "Partial",
        "Universal"
       ],
       "description": "veil_type",
       "index": 0,
       "layout": "IPY_MODEL_ea7233e8d7a9497a95c4c254db0b78f8",
       "style": "IPY_MODEL_51cf25336f6f43e980afa5984da908b3"
      }
     },
     "3d4dac66470c4bb79bd9fc5632edb44a": {
      "model_module": "@jupyter-widgets/controls",
      "model_module_version": "1.5.0",
      "model_name": "DescriptionStyleModel",
      "state": {
       "description_width": ""
      }
     },
     "3d7ddd525b644a63bfe18b92264b9324": {
      "model_module": "@jupyter-widgets/base",
      "model_module_version": "1.2.0",
      "model_name": "LayoutModel",
      "state": {}
     },
     "3d82d14f183f47a681ed2c8d9cb13dcf": {
      "model_module": "@jupyter-widgets/controls",
      "model_module_version": "1.5.0",
      "model_name": "DropdownModel",
      "state": {
       "_options_labels": [
        "Bulbous",
        "Club",
        "Cup",
        "Equal",
        "Rhizomorphs",
        "Rooted",
        "Missing"
       ],
       "description": "stalk_root",
       "index": 0,
       "layout": "IPY_MODEL_3b964fe697e746569992b478010fd7f3",
       "style": "IPY_MODEL_2a28966e219f4ae8a84b03ba33d40c13"
      }
     },
     "3dae310aed1c406ca6d37b2724eacae6": {
      "model_module": "@jupyter-widgets/base",
      "model_module_version": "1.2.0",
      "model_name": "LayoutModel",
      "state": {}
     },
     "3dd84ed17bb54e4aad6263f9f4992e13": {
      "model_module": "@jupyter-widgets/base",
      "model_module_version": "1.2.0",
      "model_name": "LayoutModel",
      "state": {}
     },
     "3de3d925d2024f5ab32a7cc4277b9d59": {
      "model_module": "@jupyter-widgets/controls",
      "model_module_version": "1.5.0",
      "model_name": "DropdownModel",
      "state": {
       "_options_labels": [
        "Bruises",
        "No Bruises"
       ],
       "description": "bruises",
       "index": 0,
       "layout": "IPY_MODEL_6328db0ed5174438a72ff65558805b89",
       "style": "IPY_MODEL_5fa3dc8212b3414bb280abe4961b03f4"
      }
     },
     "3df1daab584d4ca29b8956c7eb2e7b37": {
      "model_module": "@jupyter-widgets/base",
      "model_module_version": "1.2.0",
      "model_name": "LayoutModel",
      "state": {}
     },
     "3e2888e9991f4695bd6b8d666a39391b": {
      "model_module": "@jupyter-widgets/controls",
      "model_module_version": "1.5.0",
      "model_name": "DescriptionStyleModel",
      "state": {
       "description_width": ""
      }
     },
     "3e70c609218b4af8bcda44656c3dcc07": {
      "model_module": "@jupyter-widgets/base",
      "model_module_version": "1.2.0",
      "model_name": "LayoutModel",
      "state": {}
     },
     "3e748081449f417fb1954b47ef2fc0f5": {
      "model_module": "@jupyter-widgets/controls",
      "model_module_version": "1.5.0",
      "model_name": "DropdownModel",
      "state": {
       "_options_labels": [
        "Almond",
        "Anise",
        "Creosote",
        "Fishy",
        "Foul",
        "Musty",
        "None",
        "Pungent",
        "Spicy"
       ],
       "description": "odor",
       "index": 5,
       "layout": "IPY_MODEL_f9a511ea845849e5ba225411a2ea692a",
       "style": "IPY_MODEL_47777699591a461c9aa25f7a09970933"
      }
     },
     "3e860c82bfa94067b60462d53f15d05a": {
      "model_module": "@jupyter-widgets/controls",
      "model_module_version": "1.5.0",
      "model_name": "DropdownModel",
      "state": {
       "_options_labels": [
        "Bruises",
        "No Bruises"
       ],
       "description": "bruises",
       "index": 1,
       "layout": "IPY_MODEL_52a2e8de86ea4e059bfc4b8fe0e8d709",
       "style": "IPY_MODEL_14b47e9e90d74e7e9a38c4853d10b506"
      }
     },
     "3e863f1b09fe48fdaef3ca13c9d297fe": {
      "model_module": "@jupyter-widgets/controls",
      "model_module_version": "1.5.0",
      "model_name": "DescriptionStyleModel",
      "state": {
       "description_width": ""
      }
     },
     "3eb2183671454685983a78feebf656c0": {
      "model_module": "@jupyter-widgets/controls",
      "model_module_version": "1.5.0",
      "model_name": "DescriptionStyleModel",
      "state": {
       "description_width": ""
      }
     },
     "3eb609adfe884f1d89df45c0ed68e83d": {
      "model_module": "@jupyter-widgets/controls",
      "model_module_version": "1.5.0",
      "model_name": "DropdownModel",
      "state": {
       "_options_labels": [
        "Bruises",
        "No Bruises"
       ],
       "description": "bruises",
       "index": 0,
       "layout": "IPY_MODEL_ed76a5f1a62f4e989dbf69ee28ee3597",
       "style": "IPY_MODEL_9a32b4453cd44166b5e94d5490672f99"
      }
     },
     "3ec18c8643314051bfd8b3b6c98c2b73": {
      "model_module": "@jupyter-widgets/base",
      "model_module_version": "1.2.0",
      "model_name": "LayoutModel",
      "state": {}
     },
     "3eeb76394cbf44ed8d41adaa8939c7a1": {
      "model_module": "@jupyter-widgets/base",
      "model_module_version": "1.2.0",
      "model_name": "LayoutModel",
      "state": {}
     },
     "3f4d0f373f244f37ac83854f5c154e74": {
      "model_module": "@jupyter-widgets/controls",
      "model_module_version": "1.5.0",
      "model_name": "DropdownModel",
      "state": {
       "_options_labels": [
        "Brown",
        "Buff",
        "Cinnamon",
        "Gray",
        "Green",
        "Pink",
        "Purple",
        "Red",
        "White",
        "Yellow"
       ],
       "description": "cap_color",
       "index": 0,
       "layout": "IPY_MODEL_9f64425833cd4ee293b49ab00529e9ef",
       "style": "IPY_MODEL_4aad0786607244288d6d2cf3a10d9fa7"
      }
     },
     "3f4d423028964784abd975e1f6f44492": {
      "model_module": "@jupyter-widgets/controls",
      "model_module_version": "1.5.0",
      "model_name": "DropdownModel",
      "state": {
       "_options_labels": [
        "Black",
        "Brown",
        "Buff",
        "Chocolate",
        "Gray",
        "Green",
        "Orange",
        "Pink",
        "Purple",
        "Red",
        "White",
        "Yellow"
       ],
       "description": "gill_color",
       "index": 0,
       "layout": "IPY_MODEL_528c251fa7e643e4bda3082e4b255aa8",
       "style": "IPY_MODEL_580e18189f26422c9d55224be03ab2d3"
      }
     },
     "3f59a68f68de4caca9cdc7effd711127": {
      "model_module": "@jupyter-widgets/controls",
      "model_module_version": "1.5.0",
      "model_name": "DescriptionStyleModel",
      "state": {
       "description_width": ""
      }
     },
     "3f72c604ab1d4bdaac84dbd5352a6fc2": {
      "model_module": "@jupyter-widgets/controls",
      "model_module_version": "1.5.0",
      "model_name": "DropdownModel",
      "state": {
       "_options_labels": [
        "None",
        "One",
        "Two"
       ],
       "description": "ring_number",
       "index": 0,
       "layout": "IPY_MODEL_795005a13a4f4eafa7ea9e5af417db12",
       "style": "IPY_MODEL_3be815df5655406ead54e03b6eefe115"
      }
     },
     "3f797fa8ae884ec38b6156f368ce71a7": {
      "model_module": "@jupyter-widgets/base",
      "model_module_version": "1.2.0",
      "model_name": "LayoutModel",
      "state": {}
     },
     "3f9721a790c3456f983aae6b5bafc1af": {
      "model_module": "@jupyter-widgets/controls",
      "model_module_version": "1.5.0",
      "model_name": "DescriptionStyleModel",
      "state": {
       "description_width": ""
      }
     },
     "3f97910f7b284b62b6539b9b0f50ee5b": {
      "model_module": "@jupyter-widgets/controls",
      "model_module_version": "1.5.0",
      "model_name": "DropdownModel",
      "state": {
       "_options_labels": [
        "Fiberous",
        "Scaly",
        "Silky",
        "Smooth"
       ],
       "description": "stalk_surface_below_ring",
       "index": 0,
       "layout": "IPY_MODEL_44049c093d454ddea4ef48979f5906f1",
       "style": "IPY_MODEL_7d27d71a0cf54f38944ab1eb67cd1123"
      }
     },
     "3f98c711dbd84bdeb4d935ef4c874040": {
      "model_module": "@jupyter-widgets/base",
      "model_module_version": "1.2.0",
      "model_name": "LayoutModel",
      "state": {}
     },
     "4011ed5e8e8646279b04c938e660703e": {
      "model_module": "@jupyter-widgets/controls",
      "model_module_version": "1.5.0",
      "model_name": "DropdownModel",
      "state": {
       "_options_labels": [
        "Brown",
        "Buff",
        "Cinnamon",
        "Gray",
        "Orange",
        "Pink",
        "Red",
        "White",
        "Yellow"
       ],
       "description": "stalk_color_below_ring",
       "index": 0,
       "layout": "IPY_MODEL_b4ae5b7ab6094ccdaeb1d7482241a342",
       "style": "IPY_MODEL_b76eab1c3152452d9eb2dced2aa2f49a"
      }
     },
     "4079e15092af4dcea988b14852bd3d0c": {
      "model_module": "@jupyter-widgets/base",
      "model_module_version": "1.2.0",
      "model_name": "LayoutModel",
      "state": {}
     },
     "408adb8d01304c13905c620d0753d10a": {
      "model_module": "@jupyter-widgets/base",
      "model_module_version": "1.2.0",
      "model_name": "LayoutModel",
      "state": {}
     },
     "40aa67ea4ad1431bb706adda920c9914": {
      "model_module": "@jupyter-widgets/controls",
      "model_module_version": "1.5.0",
      "model_name": "DescriptionStyleModel",
      "state": {
       "description_width": ""
      }
     },
     "40cb17ded15342e991348ae3cb3d3d11": {
      "model_module": "@jupyter-widgets/controls",
      "model_module_version": "1.5.0",
      "model_name": "DescriptionStyleModel",
      "state": {
       "description_width": ""
      }
     },
     "40f9c63d33244bdbb5ad29e80a61cf3e": {
      "model_module": "@jupyter-widgets/controls",
      "model_module_version": "1.5.0",
      "model_name": "DropdownModel",
      "state": {
       "_options_labels": [
        "Enlarging",
        "Tapering"
       ],
       "description": "stalk_shape",
       "index": 0,
       "layout": "IPY_MODEL_df40ae65d1e140cd803e6b13bed70507",
       "style": "IPY_MODEL_da8ca83d8afd4a8a9a28e90e016c5cd2"
      }
     },
     "4129d0d48c674296b4ccb56d472ff81f": {
      "model_module": "@jupyter-widgets/controls",
      "model_module_version": "1.5.0",
      "model_name": "DropdownModel",
      "state": {
       "_options_labels": [
        "Cobwebby",
        "Evanescent",
        "Flaring",
        "Large",
        "None",
        "Pendant",
        "Sheathing",
        "Zone"
       ],
       "description": "ring_type",
       "index": 0,
       "layout": "IPY_MODEL_0133d67b241c40d793376599bf5ecd3d",
       "style": "IPY_MODEL_0e827c1349e6427a996921b98444e3d9"
      }
     },
     "4146c408ecee479084bb98ebf1a0aab2": {
      "model_module": "@jupyter-widgets/controls",
      "model_module_version": "1.5.0",
      "model_name": "DescriptionStyleModel",
      "state": {
       "description_width": ""
      }
     },
     "419408ab58894edeb6da2b8c93fc2250": {
      "model_module": "@jupyter-widgets/controls",
      "model_module_version": "1.5.0",
      "model_name": "DescriptionStyleModel",
      "state": {
       "description_width": ""
      }
     },
     "419e7e460fd247abb944d0ebc9bb643f": {
      "model_module": "@jupyter-widgets/controls",
      "model_module_version": "1.5.0",
      "model_name": "DropdownModel",
      "state": {
       "_options_labels": [
        "Attached",
        "Descending",
        "Free",
        "Notched"
       ],
       "description": "gill_attachment",
       "index": 0,
       "layout": "IPY_MODEL_c310e4eb18964bddb6be85431429e6a3",
       "style": "IPY_MODEL_45076e39d2e848fdb4d8eb87b1311bd2"
      }
     },
     "419f6ea674be4e5b93f40f94f68d026c": {
      "model_module": "@jupyter-widgets/controls",
      "model_module_version": "1.5.0",
      "model_name": "DropdownModel",
      "state": {
       "_options_labels": [
        "Brown",
        "Buff",
        "Cinnamon",
        "Gray",
        "Orange",
        "Pink",
        "Red",
        "White",
        "Yellow"
       ],
       "description": "stalk_color_above_ring",
       "index": 0,
       "layout": "IPY_MODEL_8b6a806ea69b4829be5a5d9fdd3828f1",
       "style": "IPY_MODEL_a128fa5c73bd47a59a08bd91f48f2806"
      }
     },
     "41d52d5f3e484f7d9414398cd67be52b": {
      "model_module": "@jupyter-widgets/controls",
      "model_module_version": "1.5.0",
      "model_name": "DescriptionStyleModel",
      "state": {
       "description_width": ""
      }
     },
     "41fb75641e204e1ba87a8753c07f8882": {
      "model_module": "@jupyter-widgets/base",
      "model_module_version": "1.2.0",
      "model_name": "LayoutModel",
      "state": {}
     },
     "4202864864424010b51cc21a8cca4752": {
      "model_module": "@jupyter-widgets/base",
      "model_module_version": "1.2.0",
      "model_name": "LayoutModel",
      "state": {}
     },
     "42135dd8f9ad4bfdb3c2e8d27060246f": {
      "model_module": "@jupyter-widgets/controls",
      "model_module_version": "1.5.0",
      "model_name": "DropdownModel",
      "state": {
       "_options_labels": [
        "Brown",
        "Buff",
        "Cinnamon",
        "Gray",
        "Orange",
        "Pink",
        "Red",
        "White",
        "Yellow"
       ],
       "description": "stalk_color_below_ring",
       "index": 0,
       "layout": "IPY_MODEL_fe7ac2504ded4c55800d499fb077b82e",
       "style": "IPY_MODEL_40cb17ded15342e991348ae3cb3d3d11"
      }
     },
     "421887c97a5d4a2aaff1d65b2a448604": {
      "model_module": "@jupyter-widgets/base",
      "model_module_version": "1.2.0",
      "model_name": "LayoutModel",
      "state": {}
     },
     "4234a7a16657485893f9490f23b86e37": {
      "model_module": "@jupyter-widgets/controls",
      "model_module_version": "1.5.0",
      "model_name": "DescriptionStyleModel",
      "state": {
       "description_width": ""
      }
     },
     "423b3f01317f41b29c4a793672e6e0d5": {
      "model_module": "@jupyter-widgets/controls",
      "model_module_version": "1.5.0",
      "model_name": "DropdownModel",
      "state": {
       "_options_labels": [
        "Brown",
        "Orange",
        "White",
        "Yellow"
       ],
       "description": "veil_color",
       "index": 0,
       "layout": "IPY_MODEL_29f7ab830909489fb9a0bcc4ede0fd72",
       "style": "IPY_MODEL_fb473524244644bb929ba88ad686e09f"
      }
     },
     "425c71fda90f4d00a8a83637fd159924": {
      "model_module": "@jupyter-widgets/controls",
      "model_module_version": "1.5.0",
      "model_name": "DropdownModel",
      "state": {
       "_options_labels": [
        "Brown",
        "Buff",
        "Cinnamon",
        "Gray",
        "Orange",
        "Pink",
        "Red",
        "White",
        "Yellow"
       ],
       "description": "stalk_color_below_ring",
       "index": 0,
       "layout": "IPY_MODEL_cc2eccc6e43e4ec7ba7c067dc7bba2a4",
       "style": "IPY_MODEL_b696fa7a835e4d3fadc653d5981f8dc9"
      }
     },
     "427b26445f5d4771b0e6698d9865b3f1": {
      "model_module": "@jupyter-widgets/controls",
      "model_module_version": "1.5.0",
      "model_name": "DescriptionStyleModel",
      "state": {
       "description_width": ""
      }
     },
     "42a01f30f33e41e2a5785de5a3f48a82": {
      "model_module": "@jupyter-widgets/base",
      "model_module_version": "1.2.0",
      "model_name": "LayoutModel",
      "state": {}
     },
     "42b01d0ef0a244289632d296e16b9051": {
      "model_module": "@jupyter-widgets/controls",
      "model_module_version": "1.5.0",
      "model_name": "DescriptionStyleModel",
      "state": {
       "description_width": ""
      }
     },
     "42b25453f63b49d68f053b29482a9cab": {
      "model_module": "@jupyter-widgets/controls",
      "model_module_version": "1.5.0",
      "model_name": "DropdownModel",
      "state": {
       "_options_labels": [
        "Bell",
        "Conical",
        "Convex",
        "Flat",
        "Knobbed",
        "Sunken"
       ],
       "description": "cap_shape",
       "index": 0,
       "layout": "IPY_MODEL_cd60e0559bed495680ac3cbd3b84340d",
       "style": "IPY_MODEL_c54053d26f334b3ca7e2f9de25e43acd"
      }
     },
     "42cc248cb2a94b56ab7fb69edbd94f86": {
      "model_module": "@jupyter-widgets/controls",
      "model_module_version": "1.5.0",
      "model_name": "DescriptionStyleModel",
      "state": {
       "description_width": ""
      }
     },
     "42dd53fbade542f49764ccf9500bfdc1": {
      "model_module": "@jupyter-widgets/controls",
      "model_module_version": "1.5.0",
      "model_name": "DescriptionStyleModel",
      "state": {
       "description_width": ""
      }
     },
     "4319410bb2ce4dae943ca67497e3b93d": {
      "model_module": "@jupyter-widgets/base",
      "model_module_version": "1.2.0",
      "model_name": "LayoutModel",
      "state": {}
     },
     "431ebbe27c9a4e0dbd25e5b4d5c51b6b": {
      "model_module": "@jupyter-widgets/controls",
      "model_module_version": "1.5.0",
      "model_name": "DescriptionStyleModel",
      "state": {
       "description_width": ""
      }
     },
     "431f4485118c4cf6a0fc3c2c58ff27a3": {
      "model_module": "@jupyter-widgets/controls",
      "model_module_version": "1.5.0",
      "model_name": "DropdownModel",
      "state": {
       "_options_labels": [
        "Broad",
        "Narrow"
       ],
       "description": "gill_size",
       "index": 0,
       "layout": "IPY_MODEL_090fb082de1a410ab40ee0d8426e1828",
       "style": "IPY_MODEL_b10ececd1d364985a9ad3b46668892e2"
      }
     },
     "4330a433539f46b8a11cf7aa16fc244d": {
      "model_module": "@jupyter-widgets/controls",
      "model_module_version": "1.5.0",
      "model_name": "DescriptionStyleModel",
      "state": {
       "description_width": ""
      }
     },
     "4332953e95924b30b9ed16f2471ccb5d": {
      "model_module": "@jupyter-widgets/controls",
      "model_module_version": "1.5.0",
      "model_name": "DropdownModel",
      "state": {
       "_options_labels": [
        "Bruises",
        "No Bruises"
       ],
       "description": "bruises",
       "index": 0,
       "layout": "IPY_MODEL_ad7261ce4ccc40329c49a547096fa5d9",
       "style": "IPY_MODEL_edfc3364b1a34e64a061c99543d58647"
      }
     },
     "434c836f7c774d599a6d8ed607897663": {
      "model_module": "@jupyter-widgets/base",
      "model_module_version": "1.2.0",
      "model_name": "LayoutModel",
      "state": {}
     },
     "4361817362974f839908ba89c4ea9489": {
      "model_module": "@jupyter-widgets/controls",
      "model_module_version": "1.5.0",
      "model_name": "DropdownModel",
      "state": {
       "_options_labels": [
        "Fiberous",
        "Scaly",
        "Silky",
        "Smooth"
       ],
       "description": "stalk_surface_below_ring",
       "index": 0,
       "layout": "IPY_MODEL_868fcbc9104d4b68872117f9324ba3d5",
       "style": "IPY_MODEL_30552b4148004c2d97c81786334c4b17"
      }
     },
     "436216f57b2b47fcb88f594e0894deb7": {
      "model_module": "@jupyter-widgets/base",
      "model_module_version": "1.2.0",
      "model_name": "LayoutModel",
      "state": {}
     },
     "437dead88cf94f52aef9d9982e3eb17c": {
      "model_module": "@jupyter-widgets/controls",
      "model_module_version": "1.5.0",
      "model_name": "DescriptionStyleModel",
      "state": {
       "description_width": ""
      }
     },
     "437e33b3003b476ca2ce849c4b6ec309": {
      "model_module": "@jupyter-widgets/controls",
      "model_module_version": "1.5.0",
      "model_name": "DescriptionStyleModel",
      "state": {
       "description_width": ""
      }
     },
     "438241811ecc4a17906d33ad81d9fd42": {
      "model_module": "@jupyter-widgets/base",
      "model_module_version": "1.2.0",
      "model_name": "LayoutModel",
      "state": {}
     },
     "43925c135a174e5d9294ca59a089b006": {
      "model_module": "@jupyter-widgets/base",
      "model_module_version": "1.2.0",
      "model_name": "LayoutModel",
      "state": {}
     },
     "43a72d8a03c7405dab3fc9d6830a32bc": {
      "model_module": "@jupyter-widgets/controls",
      "model_module_version": "1.5.0",
      "model_name": "DropdownModel",
      "state": {
       "_options_labels": [
        "Fiberous",
        "Scaly",
        "Silky",
        "Smooth"
       ],
       "description": "stalk_surface_above_ring",
       "index": 0,
       "layout": "IPY_MODEL_916e66a99b1243e2a7e53815d85ff6b9",
       "style": "IPY_MODEL_f0faa040ec6b48ef9080331ea292fc19"
      }
     },
     "43b6a056432647b0bafeebc28a31cc51": {
      "model_module": "@jupyter-widgets/base",
      "model_module_version": "1.2.0",
      "model_name": "LayoutModel",
      "state": {}
     },
     "43ff8d90c4014982b20cf03591dd6cc2": {
      "model_module": "@jupyter-widgets/controls",
      "model_module_version": "1.5.0",
      "model_name": "DropdownModel",
      "state": {
       "_options_labels": [
        "None",
        "One",
        "Two"
       ],
       "description": "ring_number",
       "index": 0,
       "layout": "IPY_MODEL_ff03e20eeed644f4a7d951a04526e2d8",
       "style": "IPY_MODEL_553b5485e0944e0c8b8f74949ccce226"
      }
     },
     "44049c093d454ddea4ef48979f5906f1": {
      "model_module": "@jupyter-widgets/base",
      "model_module_version": "1.2.0",
      "model_name": "LayoutModel",
      "state": {}
     },
     "443d9b4e1fbc4bc9991ec5b5f0ece155": {
      "model_module": "@jupyter-widgets/base",
      "model_module_version": "1.2.0",
      "model_name": "LayoutModel",
      "state": {}
     },
     "449924b5029244d8b1db12d9d3728a21": {
      "model_module": "@jupyter-widgets/controls",
      "model_module_version": "1.5.0",
      "model_name": "DropdownModel",
      "state": {
       "_options_labels": [
        "Almond",
        "Anise",
        "Creosote",
        "Fishy",
        "Foul",
        "Musty",
        "None",
        "Pungent",
        "Spicy"
       ],
       "description": "odor",
       "index": 0,
       "layout": "IPY_MODEL_4798b76daeb44b91a5b42466ebc2a11d",
       "style": "IPY_MODEL_718608409e044e23abe6d324fb028f91"
      }
     },
     "449ef5a69e31458e9ddbbf9ca27745f1": {
      "model_module": "@jupyter-widgets/controls",
      "model_module_version": "1.5.0",
      "model_name": "DropdownModel",
      "state": {
       "_options_labels": [
        "None",
        "One",
        "Two"
       ],
       "description": "ring_number",
       "index": 0,
       "layout": "IPY_MODEL_3173055aab81491db59622773ad19971",
       "style": "IPY_MODEL_2185d216077a4ac3b21764fcc0655782"
      }
     },
     "44a1a4098d6d4e5dbd0e1f3733cbb5ca": {
      "model_module": "@jupyter-widgets/controls",
      "model_module_version": "1.5.0",
      "model_name": "DescriptionStyleModel",
      "state": {
       "description_width": ""
      }
     },
     "44cfc6d032d3483a84cb35f30fc4eea5": {
      "model_module": "@jupyter-widgets/base",
      "model_module_version": "1.2.0",
      "model_name": "LayoutModel",
      "state": {}
     },
     "44eda701514f4e2db5dd215098a5a42e": {
      "model_module": "@jupyter-widgets/controls",
      "model_module_version": "1.5.0",
      "model_name": "DescriptionStyleModel",
      "state": {
       "description_width": ""
      }
     },
     "44f844f5c17d4e3b8992ce19bca34415": {
      "model_module": "@jupyter-widgets/output",
      "model_module_version": "1.0.0",
      "model_name": "OutputModel",
      "state": {
       "layout": "IPY_MODEL_acdf02690d0c45e883dfb77a8cd0e759",
       "outputs": [
        {
         "ename": "UnboundLocalError",
         "evalue": "local variable 'probabilities' referenced before assignment",
         "output_type": "error",
         "traceback": [
          "\u001b[0;31m---------------------------------------------------------------------------\u001b[0m",
          "\u001b[0;31mUnboundLocalError\u001b[0m                         Traceback (most recent call last)",
          "\u001b[0;32m~/Documents/GitHub/andys-notebook/venv/lib/python3.9/site-packages/ipywidgets/widgets/interaction.py\u001b[0m in \u001b[0;36mupdate\u001b[0;34m(self, *args)\u001b[0m\n\u001b[1;32m    254\u001b[0m                     \u001b[0mvalue\u001b[0m \u001b[0;34m=\u001b[0m \u001b[0mwidget\u001b[0m\u001b[0;34m.\u001b[0m\u001b[0mget_interact_value\u001b[0m\u001b[0;34m(\u001b[0m\u001b[0;34m)\u001b[0m\u001b[0;34m\u001b[0m\u001b[0;34m\u001b[0m\u001b[0m\n\u001b[1;32m    255\u001b[0m                     \u001b[0mself\u001b[0m\u001b[0;34m.\u001b[0m\u001b[0mkwargs\u001b[0m\u001b[0;34m[\u001b[0m\u001b[0mwidget\u001b[0m\u001b[0;34m.\u001b[0m\u001b[0m_kwarg\u001b[0m\u001b[0;34m]\u001b[0m \u001b[0;34m=\u001b[0m \u001b[0mvalue\u001b[0m\u001b[0;34m\u001b[0m\u001b[0;34m\u001b[0m\u001b[0m\n\u001b[0;32m--> 256\u001b[0;31m                 \u001b[0mself\u001b[0m\u001b[0;34m.\u001b[0m\u001b[0mresult\u001b[0m \u001b[0;34m=\u001b[0m \u001b[0mself\u001b[0m\u001b[0;34m.\u001b[0m\u001b[0mf\u001b[0m\u001b[0;34m(\u001b[0m\u001b[0;34m**\u001b[0m\u001b[0mself\u001b[0m\u001b[0;34m.\u001b[0m\u001b[0mkwargs\u001b[0m\u001b[0;34m)\u001b[0m\u001b[0;34m\u001b[0m\u001b[0;34m\u001b[0m\u001b[0m\n\u001b[0m\u001b[1;32m    257\u001b[0m                 \u001b[0mshow_inline_matplotlib_plots\u001b[0m\u001b[0;34m(\u001b[0m\u001b[0;34m)\u001b[0m\u001b[0;34m\u001b[0m\u001b[0;34m\u001b[0m\u001b[0m\n\u001b[1;32m    258\u001b[0m                 \u001b[0;32mif\u001b[0m \u001b[0mself\u001b[0m\u001b[0;34m.\u001b[0m\u001b[0mauto_display\u001b[0m \u001b[0;32mand\u001b[0m \u001b[0mself\u001b[0m\u001b[0;34m.\u001b[0m\u001b[0mresult\u001b[0m \u001b[0;32mis\u001b[0m \u001b[0;32mnot\u001b[0m \u001b[0;32mNone\u001b[0m\u001b[0;34m:\u001b[0m\u001b[0;34m\u001b[0m\u001b[0;34m\u001b[0m\u001b[0m\n",
          "\u001b[0;32m<ipython-input-68-947c89d4779a>\u001b[0m in \u001b[0;36mcustom_classify\u001b[0;34m(cap_shape, cap_surface, cap_color, bruises, odor, gill_attachment, gill_spacing, gill_size, gill_color, stalk_shape, stalk_root, stalk_surface_above_ring, stalk_surface_below_ring, stalk_color_above_ring, stalk_color_below_ring, veil_type, veil_color, ring_number, ring_type, spore_print_color, population, habitat)\u001b[0m\n\u001b[1;32m    198\u001b[0m \u001b[0;34m\u001b[0m\u001b[0m\n\u001b[1;32m    199\u001b[0m     \u001b[0;31m# Return class probabilities\u001b[0m\u001b[0;34m\u001b[0m\u001b[0;34m\u001b[0m\u001b[0;34m\u001b[0m\u001b[0m\n\u001b[0;32m--> 200\u001b[0;31m     \u001b[0mprint\u001b[0m\u001b[0;34m(\u001b[0m\u001b[0mprobabilities\u001b[0m\u001b[0;34m)\u001b[0m\u001b[0;34m\u001b[0m\u001b[0;34m\u001b[0m\u001b[0m\n\u001b[0m\u001b[1;32m    201\u001b[0m     \u001b[0mprobabilities\u001b[0m \u001b[0;34m=\u001b[0m \u001b[0mnaive_bayes_classify\u001b[0m\u001b[0;34m(\u001b[0m\u001b[0mfeatures\u001b[0m\u001b[0;34m,\u001b[0m \u001b[0mprobs\u001b[0m\u001b[0;34m=\u001b[0m\u001b[0;32mTrue\u001b[0m\u001b[0;34m)\u001b[0m\u001b[0;34m\u001b[0m\u001b[0;34m\u001b[0m\u001b[0m\n\u001b[1;32m    202\u001b[0m     \u001b[0msns\u001b[0m\u001b[0;34m.\u001b[0m\u001b[0mbarplot\u001b[0m\u001b[0;34m(\u001b[0m\u001b[0mx\u001b[0m\u001b[0;34m=\u001b[0m\u001b[0mprobabilities\u001b[0m\u001b[0;34m.\u001b[0m\u001b[0mindex\u001b[0m\u001b[0;34m,\u001b[0m \u001b[0my\u001b[0m\u001b[0;34m=\u001b[0m\u001b[0mprobabilities\u001b[0m\u001b[0;34m)\u001b[0m\u001b[0;34m\u001b[0m\u001b[0;34m\u001b[0m\u001b[0m\n",
          "\u001b[0;31mUnboundLocalError\u001b[0m: local variable 'probabilities' referenced before assignment"
         ]
        }
       ]
      }
     },
     "44f8d96e9288471aa6cf2801943ec7ad": {
      "model_module": "@jupyter-widgets/base",
      "model_module_version": "1.2.0",
      "model_name": "LayoutModel",
      "state": {}
     },
     "45076e39d2e848fdb4d8eb87b1311bd2": {
      "model_module": "@jupyter-widgets/controls",
      "model_module_version": "1.5.0",
      "model_name": "DescriptionStyleModel",
      "state": {
       "description_width": ""
      }
     },
     "4568fce8d15c4f81911c5c1903dc71a9": {
      "model_module": "@jupyter-widgets/base",
      "model_module_version": "1.2.0",
      "model_name": "LayoutModel",
      "state": {}
     },
     "456963d163964fe79be010c86ceabaed": {
      "model_module": "@jupyter-widgets/base",
      "model_module_version": "1.2.0",
      "model_name": "LayoutModel",
      "state": {}
     },
     "45b0fd8d163141f3875b32fbbf2df171": {
      "model_module": "@jupyter-widgets/controls",
      "model_module_version": "1.5.0",
      "model_name": "DropdownModel",
      "state": {
       "_options_labels": [
        "Almond",
        "Anise",
        "Creosote",
        "Fishy",
        "Foul",
        "Musty",
        "None",
        "Pungent",
        "Spicy"
       ],
       "description": "odor",
       "index": 0,
       "layout": "IPY_MODEL_be04c30f2dec4ab1849e1a3b6ccd49fc",
       "style": "IPY_MODEL_061133e8035148f7ae6d57e47f9f57f3"
      }
     },
     "45baf35c6f8a45a1b01965e40e02f396": {
      "model_module": "@jupyter-widgets/base",
      "model_module_version": "1.2.0",
      "model_name": "LayoutModel",
      "state": {}
     },
     "4600dcbde43c41faa2059b706f2157d8": {
      "model_module": "@jupyter-widgets/controls",
      "model_module_version": "1.5.0",
      "model_name": "DescriptionStyleModel",
      "state": {
       "description_width": ""
      }
     },
     "4649ac736ebf48978594b5aa9b799923": {
      "model_module": "@jupyter-widgets/base",
      "model_module_version": "1.2.0",
      "model_name": "LayoutModel",
      "state": {}
     },
     "46701a4905c748c79e74f03ca0a235f1": {
      "model_module": "@jupyter-widgets/controls",
      "model_module_version": "1.5.0",
      "model_name": "DescriptionStyleModel",
      "state": {
       "description_width": ""
      }
     },
     "46a9d2ece69f4f6faec113981dbb38d1": {
      "model_module": "@jupyter-widgets/base",
      "model_module_version": "1.2.0",
      "model_name": "LayoutModel",
      "state": {}
     },
     "46b3c3d218d74b8e8f53779264546854": {
      "model_module": "@jupyter-widgets/base",
      "model_module_version": "1.2.0",
      "model_name": "LayoutModel",
      "state": {}
     },
     "46c8c7e6c3f14261a646835db494f7d3": {
      "model_module": "@jupyter-widgets/base",
      "model_module_version": "1.2.0",
      "model_name": "LayoutModel",
      "state": {}
     },
     "46cc4bfe998a400faf015b4ed600ad35": {
      "model_module": "@jupyter-widgets/base",
      "model_module_version": "1.2.0",
      "model_name": "LayoutModel",
      "state": {}
     },
     "46d593a16f5e403d89ec9a0423b9b520": {
      "model_module": "@jupyter-widgets/controls",
      "model_module_version": "1.5.0",
      "model_name": "DescriptionStyleModel",
      "state": {
       "description_width": ""
      }
     },
     "46d6dfc6575a493986af4ebbccbf094d": {
      "model_module": "@jupyter-widgets/controls",
      "model_module_version": "1.5.0",
      "model_name": "DescriptionStyleModel",
      "state": {
       "description_width": ""
      }
     },
     "473d9c8351c24e2e92763e0a41dbacd4": {
      "model_module": "@jupyter-widgets/controls",
      "model_module_version": "1.5.0",
      "model_name": "DescriptionStyleModel",
      "state": {
       "description_width": ""
      }
     },
     "4747b02b64754d8693e3c497c5ba32cf": {
      "model_module": "@jupyter-widgets/controls",
      "model_module_version": "1.5.0",
      "model_name": "DescriptionStyleModel",
      "state": {
       "description_width": ""
      }
     },
     "474ed15f5f394399a1ffc53b457ced34": {
      "model_module": "@jupyter-widgets/controls",
      "model_module_version": "1.5.0",
      "model_name": "DropdownModel",
      "state": {
       "_options_labels": [
        "Fiberous",
        "Scaly",
        "Silky",
        "Smooth"
       ],
       "description": "stalk_surface_above_ring",
       "index": 0,
       "layout": "IPY_MODEL_154f283ea73f42a8a46a4b23379c00d6",
       "style": "IPY_MODEL_7d9dda31e1184cdd8b1a8ea800e2f904"
      }
     },
     "47777699591a461c9aa25f7a09970933": {
      "model_module": "@jupyter-widgets/controls",
      "model_module_version": "1.5.0",
      "model_name": "DescriptionStyleModel",
      "state": {
       "description_width": ""
      }
     },
     "479054eb45b042638f3a2d47c2017445": {
      "model_module": "@jupyter-widgets/base",
      "model_module_version": "1.2.0",
      "model_name": "LayoutModel",
      "state": {}
     },
     "4798b76daeb44b91a5b42466ebc2a11d": {
      "model_module": "@jupyter-widgets/base",
      "model_module_version": "1.2.0",
      "model_name": "LayoutModel",
      "state": {}
     },
     "47a7fe75accd4ea3821d74d4237aef55": {
      "model_module": "@jupyter-widgets/base",
      "model_module_version": "1.2.0",
      "model_name": "LayoutModel",
      "state": {}
     },
     "47e62ff9c8fc417693da5b639871e1ee": {
      "model_module": "@jupyter-widgets/base",
      "model_module_version": "1.2.0",
      "model_name": "LayoutModel",
      "state": {}
     },
     "4810e5c0d8d948d3b7b3d8cafb382ffe": {
      "model_module": "@jupyter-widgets/controls",
      "model_module_version": "1.5.0",
      "model_name": "DropdownModel",
      "state": {
       "_options_labels": [
        "Evanescent",
        "Flaring",
        "Large",
        "None",
        "Pendant",
        "Sheathing",
        "Zone"
       ],
       "description": "ring_type",
       "index": 0,
       "layout": "IPY_MODEL_d51db70beb754527930c45ad6cbf1873",
       "style": "IPY_MODEL_746302805988456fba8cc7ecb08e770b"
      }
     },
     "4880fc058c0341f1b9d9263cd9ec68f5": {
      "model_module": "@jupyter-widgets/controls",
      "model_module_version": "1.5.0",
      "model_name": "DropdownModel",
      "state": {
       "_options_labels": [
        "Black",
        "Brown",
        "Buff",
        "Chocolate",
        "Gray",
        "Green",
        "Orange",
        "Pink",
        "Purple",
        "Red",
        "White",
        "Yellow"
       ],
       "description": "gill_color",
       "index": 0,
       "layout": "IPY_MODEL_80c3b04087284170ba653ebdb982d2e0",
       "style": "IPY_MODEL_a14030e7a34c4b2e9052e835fc5d8f22"
      }
     },
     "48e1cc4f2e8c4d538026c53d8f3448e8": {
      "model_module": "@jupyter-widgets/base",
      "model_module_version": "1.2.0",
      "model_name": "LayoutModel",
      "state": {}
     },
     "492afffb03934376bc5641c570fa2f9a": {
      "model_module": "@jupyter-widgets/controls",
      "model_module_version": "1.5.0",
      "model_name": "DescriptionStyleModel",
      "state": {
       "description_width": ""
      }
     },
     "49322d4b320347298f6a031a149cf11e": {
      "model_module": "@jupyter-widgets/base",
      "model_module_version": "1.2.0",
      "model_name": "LayoutModel",
      "state": {}
     },
     "4968168e7ab147808db908ff8a17cd85": {
      "model_module": "@jupyter-widgets/controls",
      "model_module_version": "1.5.0",
      "model_name": "DescriptionStyleModel",
      "state": {
       "description_width": ""
      }
     },
     "4976e5cfe4dc41858d0b93d7f43dd2a3": {
      "model_module": "@jupyter-widgets/base",
      "model_module_version": "1.2.0",
      "model_name": "LayoutModel",
      "state": {}
     },
     "499d038661504c729dddd7223faf6e99": {
      "model_module": "@jupyter-widgets/base",
      "model_module_version": "1.2.0",
      "model_name": "LayoutModel",
      "state": {}
     },
     "49caa7ee6cb64e7fb3740b843b055ec7": {
      "model_module": "@jupyter-widgets/base",
      "model_module_version": "1.2.0",
      "model_name": "LayoutModel",
      "state": {}
     },
     "49d6cbd7ffde4b04a8d5457f227ab494": {
      "model_module": "@jupyter-widgets/base",
      "model_module_version": "1.2.0",
      "model_name": "LayoutModel",
      "state": {}
     },
     "49eab74a609b47ad84478e192e321f5d": {
      "model_module": "@jupyter-widgets/base",
      "model_module_version": "1.2.0",
      "model_name": "LayoutModel",
      "state": {}
     },
     "4a2315bcd056453299761c84de44fb06": {
      "model_module": "@jupyter-widgets/base",
      "model_module_version": "1.2.0",
      "model_name": "LayoutModel",
      "state": {}
     },
     "4a7463dad8a24c58bea7f571d19cc7ac": {
      "model_module": "@jupyter-widgets/base",
      "model_module_version": "1.2.0",
      "model_name": "LayoutModel",
      "state": {}
     },
     "4a79e409dac0427196cbfb86b7007ff4": {
      "model_module": "@jupyter-widgets/base",
      "model_module_version": "1.2.0",
      "model_name": "LayoutModel",
      "state": {}
     },
     "4aaca6b8f1ea45289ea07b014a017f0e": {
      "model_module": "@jupyter-widgets/controls",
      "model_module_version": "1.5.0",
      "model_name": "DescriptionStyleModel",
      "state": {
       "description_width": ""
      }
     },
     "4aad0786607244288d6d2cf3a10d9fa7": {
      "model_module": "@jupyter-widgets/controls",
      "model_module_version": "1.5.0",
      "model_name": "DescriptionStyleModel",
      "state": {
       "description_width": ""
      }
     },
     "4ab2f49f8ec541728d79ee46a1b29844": {
      "model_module": "@jupyter-widgets/controls",
      "model_module_version": "1.5.0",
      "model_name": "DescriptionStyleModel",
      "state": {
       "description_width": ""
      }
     },
     "4ac642ed893e4fea8fcdf64f581a1a74": {
      "model_module": "@jupyter-widgets/controls",
      "model_module_version": "1.5.0",
      "model_name": "DescriptionStyleModel",
      "state": {
       "description_width": ""
      }
     },
     "4aca5f4c6fbd447d96de9d8476fe9287": {
      "model_module": "@jupyter-widgets/controls",
      "model_module_version": "1.5.0",
      "model_name": "DropdownModel",
      "state": {
       "_options_labels": [
        "None",
        "One",
        "Two"
       ],
       "description": "ring_number",
       "index": 0,
       "layout": "IPY_MODEL_0076f069deee4fbab5be6ae9ab680fd0",
       "style": "IPY_MODEL_42b01d0ef0a244289632d296e16b9051"
      }
     },
     "4add43e7cd7d4836b6e659a344a17ef0": {
      "model_module": "@jupyter-widgets/controls",
      "model_module_version": "1.5.0",
      "model_name": "DescriptionStyleModel",
      "state": {
       "description_width": ""
      }
     },
     "4ae55244b30f48f09ec030668334c191": {
      "model_module": "@jupyter-widgets/base",
      "model_module_version": "1.2.0",
      "model_name": "LayoutModel",
      "state": {}
     },
     "4b2cba7317784b66a9656eea3287f964": {
      "model_module": "@jupyter-widgets/controls",
      "model_module_version": "1.5.0",
      "model_name": "DropdownModel",
      "state": {
       "_options_labels": [
        "Close",
        "Crowded",
        "Distant"
       ],
       "description": "gill_spacing",
       "index": 0,
       "layout": "IPY_MODEL_2c08fc190a754fefa83e1a39130d4f45",
       "style": "IPY_MODEL_509705de9e614123b8cdce3308e80366"
      }
     },
     "4b53a5b4fc3f48a9be17a3efaba6eb85": {
      "model_module": "@jupyter-widgets/controls",
      "model_module_version": "1.5.0",
      "model_name": "DescriptionStyleModel",
      "state": {
       "description_width": ""
      }
     },
     "4b6bd211e09147399fac4bc883b7c8ba": {
      "model_module": "@jupyter-widgets/controls",
      "model_module_version": "1.5.0",
      "model_name": "DescriptionStyleModel",
      "state": {
       "description_width": ""
      }
     },
     "4b87cbdf0b6d4ecba1584c36f204e319": {
      "model_module": "@jupyter-widgets/base",
      "model_module_version": "1.2.0",
      "model_name": "LayoutModel",
      "state": {}
     },
     "4bdedb80bea743548a64e032175965cf": {
      "model_module": "@jupyter-widgets/controls",
      "model_module_version": "1.5.0",
      "model_name": "DropdownModel",
      "state": {
       "_options_labels": [
        "Close",
        "Crowded"
       ],
       "description": "gill_spacing",
       "index": 0,
       "layout": "IPY_MODEL_a530544b287f4d5baf5192bbd8657a28",
       "style": "IPY_MODEL_e9718eb82da14edc9eafaad6bde48027"
      }
     },
     "4c0d544b171e460b8a42b68c199448ea": {
      "model_module": "@jupyter-widgets/controls",
      "model_module_version": "1.5.0",
      "model_name": "DropdownModel",
      "state": {
       "_options_labels": [
        "Bulbous",
        "Club",
        "Cup",
        "Equal",
        "Rhizomorphs",
        "Rooted",
        "Missing"
       ],
       "description": "stalk_root",
       "index": 0,
       "layout": "IPY_MODEL_3b8fa11c4e404f7e9cb4ed6d9a7ee9a6",
       "style": "IPY_MODEL_d6cf0db23fd44ac9990a9e11c54c3f20"
      }
     },
     "4c2242b30d8642d4a1d026a125546668": {
      "model_module": "@jupyter-widgets/controls",
      "model_module_version": "1.5.0",
      "model_name": "DropdownModel",
      "state": {
       "_options_labels": [
        "Abundant",
        "Clustered",
        "Numerous",
        "Scattered",
        "Several",
        "Solitary"
       ],
       "description": "population",
       "index": 3,
       "layout": "IPY_MODEL_367aeda28a1547b9861e1b7e62a6ca40",
       "style": "IPY_MODEL_73ef574d53584e04863858a714da8689"
      }
     },
     "4c50e7fa1d784e189e4a85e8a0a32ad1": {
      "model_module": "@jupyter-widgets/controls",
      "model_module_version": "1.5.0",
      "model_name": "DescriptionStyleModel",
      "state": {
       "description_width": ""
      }
     },
     "4c5972bd76de408a9299f308ab3e643f": {
      "model_module": "@jupyter-widgets/controls",
      "model_module_version": "1.5.0",
      "model_name": "DescriptionStyleModel",
      "state": {
       "description_width": ""
      }
     },
     "4c6b485d8c4a4ff689a50b687ea52bd6": {
      "model_module": "@jupyter-widgets/controls",
      "model_module_version": "1.5.0",
      "model_name": "DropdownModel",
      "state": {
       "_options_labels": [
        "Fiberous",
        "Grooves",
        "Scaly",
        "Smooth"
       ],
       "description": "cap_surface",
       "index": 0,
       "layout": "IPY_MODEL_b8981268de674c80aaf082f1bb9a9b72",
       "style": "IPY_MODEL_fed099e39be84662be66d14f51e2883a"
      }
     },
     "4c700da52719494ca9429fda410d0860": {
      "model_module": "@jupyter-widgets/base",
      "model_module_version": "1.2.0",
      "model_name": "LayoutModel",
      "state": {}
     },
     "4c79c7f554bb47f78c1df1525761ed6c": {
      "model_module": "@jupyter-widgets/controls",
      "model_module_version": "1.5.0",
      "model_name": "DescriptionStyleModel",
      "state": {
       "description_width": ""
      }
     },
     "4c7b7a5a2dcd4224b81e769299a0017c": {
      "model_module": "@jupyter-widgets/base",
      "model_module_version": "1.2.0",
      "model_name": "LayoutModel",
      "state": {}
     },
     "4c7c38c0301541f591260fb40d8c1fdb": {
      "model_module": "@jupyter-widgets/controls",
      "model_module_version": "1.5.0",
      "model_name": "DescriptionStyleModel",
      "state": {
       "description_width": ""
      }
     },
     "4cc72969385543c394a554013cf8f2e9": {
      "model_module": "@jupyter-widgets/base",
      "model_module_version": "1.2.0",
      "model_name": "LayoutModel",
      "state": {}
     },
     "4cdb5c6540b54fe3a5eda1dd98176da3": {
      "model_module": "@jupyter-widgets/controls",
      "model_module_version": "1.5.0",
      "model_name": "DropdownModel",
      "state": {
       "_options_labels": [
        "Broad",
        "Narrow"
       ],
       "description": "gill_size",
       "index": 0,
       "layout": "IPY_MODEL_c3114e4a4c35409089090186496bc139",
       "style": "IPY_MODEL_f04509f9f4b94c3794ab8ae3b739c6c1"
      }
     },
     "4cfa13e0a6e54d2893b0813a42d1eab4": {
      "model_module": "@jupyter-widgets/base",
      "model_module_version": "1.2.0",
      "model_name": "LayoutModel",
      "state": {}
     },
     "4d0a1272fdb1468baa0c56cb470865b6": {
      "model_module": "@jupyter-widgets/base",
      "model_module_version": "1.2.0",
      "model_name": "LayoutModel",
      "state": {}
     },
     "4d12dac70df44aec93bba2e4512e24c6": {
      "model_module": "@jupyter-widgets/base",
      "model_module_version": "1.2.0",
      "model_name": "LayoutModel",
      "state": {}
     },
     "4d60142b215c44bcb8bafc6305cdd004": {
      "model_module": "@jupyter-widgets/controls",
      "model_module_version": "1.5.0",
      "model_name": "DropdownModel",
      "state": {
       "_options_labels": [
        "Evanescent",
        "Flaring",
        "Large",
        "None",
        "Pendant",
        "Sheathing",
        "Zone"
       ],
       "description": "ring_type",
       "index": 0,
       "layout": "IPY_MODEL_34f055a763f1493c82960cbc74de079d",
       "style": "IPY_MODEL_41d52d5f3e484f7d9414398cd67be52b"
      }
     },
     "4d61f8a5af0b4fc6ae163fed65c06fe0": {
      "model_module": "@jupyter-widgets/controls",
      "model_module_version": "1.5.0",
      "model_name": "DropdownModel",
      "state": {
       "_options_labels": [
        "Brown",
        "Buff",
        "Cinnamon",
        "Gray",
        "Orange",
        "Pink",
        "Red",
        "White",
        "Yellow"
       ],
       "description": "stalk_color_below_ring",
       "index": 0,
       "layout": "IPY_MODEL_839bc766699b41ccb07935c164e5510f",
       "style": "IPY_MODEL_bd42667bc6b04d5db7466a3ba1d7bc5e"
      }
     },
     "4daf7d9e76384395a3a09aa7010c725f": {
      "model_module": "@jupyter-widgets/controls",
      "model_module_version": "1.5.0",
      "model_name": "VBoxModel",
      "state": {
       "_dom_classes": [
        "widget-interact"
       ],
       "children": [
        "IPY_MODEL_577981b7444a4c9f9ba0f6702b924d56",
        "IPY_MODEL_b15e27533d9e497e8031fa730ff31e00",
        "IPY_MODEL_f916b2aca2874c3786fea5bfc57c1ac2",
        "IPY_MODEL_2fa4dc5a863e4998af69f9bdeaaac177",
        "IPY_MODEL_f51812458b3c46feb08d077060d45caf",
        "IPY_MODEL_f5d0930e40954711a109f7ecdb75a63d",
        "IPY_MODEL_8683e63c1cc64b1d83ed91c7ed45ee7a",
        "IPY_MODEL_4880fc058c0341f1b9d9263cd9ec68f5",
        "IPY_MODEL_50a08034fdde4030bede1a6f43a3b0cf",
        "IPY_MODEL_b433612971624d6b94e8d07804f23398",
        "IPY_MODEL_db9d44f8dce84ad689eadda7fc4b2a11",
        "IPY_MODEL_e272a32e470e4b269f5a1e76bd6df6a0",
        "IPY_MODEL_00102eeb85b3419a9e528f9a5e422b73",
        "IPY_MODEL_30761b1221a549a8aa37f13cb0d05ce7",
        "IPY_MODEL_bf37c4a099344b6faba37365f480d7a6",
        "IPY_MODEL_0b66985c3aaf408388218a43357f8b12",
        "IPY_MODEL_bdc9d3d455f24867b5584451ee94e5c9",
        "IPY_MODEL_4129d0d48c674296b4ccb56d472ff81f",
        "IPY_MODEL_51742024ef514f20aabb71a8f858d424",
        "IPY_MODEL_bc1e83661ab1470d820ad2ac2c30f351",
        "IPY_MODEL_d04960f203ec45ac97435b0df6633f4d",
        "IPY_MODEL_ebc77f4ef7194b31bbdfaa9a412d4c72"
       ],
       "layout": "IPY_MODEL_44f8d96e9288471aa6cf2801943ec7ad"
      }
     },
     "4dc6d980b76d4cd49c3e948b1ae5b404": {
      "model_module": "@jupyter-widgets/controls",
      "model_module_version": "1.5.0",
      "model_name": "VBoxModel",
      "state": {
       "_dom_classes": [
        "widget-interact"
       ],
       "children": [
        "IPY_MODEL_5ac1c41f592c4fea954a65d9106f70f2",
        "IPY_MODEL_fbad6243fbc3458d8dd503e7a6f616a2",
        "IPY_MODEL_2d254e7b628a4f4b94a51abb559e8f7d",
        "IPY_MODEL_0e769fbc14ed481b96133d3c3a1eba59",
        "IPY_MODEL_addc82cbb9d84200bb038fc8839ae20e",
        "IPY_MODEL_700593587059421a8a6659e04611a12a",
        "IPY_MODEL_06685d216f7e44e38a7bd439609ea460",
        "IPY_MODEL_dde8a5a6b1d34c988e973ffa626bc1ab",
        "IPY_MODEL_619cb69abde9417594dc99bc83c59298",
        "IPY_MODEL_681312197ef549eb8caca712599bdfb3",
        "IPY_MODEL_88620f432e11438380935a45e35f8eaa",
        "IPY_MODEL_c72b3c4383d6408fa474480fda3d9b31",
        "IPY_MODEL_ccf0112ba9f74bfabc55afd130305038",
        "IPY_MODEL_419f6ea674be4e5b93f40f94f68d026c",
        "IPY_MODEL_4d61f8a5af0b4fc6ae163fed65c06fe0",
        "IPY_MODEL_77df6b62e37b45e198826cd5b3815641",
        "IPY_MODEL_3528e056f634458993ea6c2166b43d8f",
        "IPY_MODEL_4aca5f4c6fbd447d96de9d8476fe9287",
        "IPY_MODEL_eee6fe33993e4e4ea634abf8cb2f9fa0",
        "IPY_MODEL_e8dc9892e55e4cd1af3655041f415f9f",
        "IPY_MODEL_b33e0aff5e504126a54eb3b04245740c",
        "IPY_MODEL_d2b9db49703c4c2eaee6c792c8bed127",
        "IPY_MODEL_b7bd091275f3454b91379b6a5028a910"
       ],
       "layout": "IPY_MODEL_64edb7f6d34c47dfa80ba7483e2a0db5"
      }
     },
     "4dd46091aac94f63bf724a4667e24934": {
      "model_module": "@jupyter-widgets/controls",
      "model_module_version": "1.5.0",
      "model_name": "DropdownModel",
      "state": {
       "_options_labels": [
        "Fiberous",
        "Grooves",
        "Scaly",
        "Smooth"
       ],
       "description": "cap_surface",
       "index": 0,
       "layout": "IPY_MODEL_d19795439380415bb3a1ccfa7d505d39",
       "style": "IPY_MODEL_f7afc8d78cee4c32ba88f2d74a38bbe0"
      }
     },
     "4dd89af46e594e7ca515165b00cfbdad": {
      "model_module": "@jupyter-widgets/controls",
      "model_module_version": "1.5.0",
      "model_name": "DescriptionStyleModel",
      "state": {
       "description_width": ""
      }
     },
     "4deb81b500184c009d51ad92deafb588": {
      "model_module": "@jupyter-widgets/controls",
      "model_module_version": "1.5.0",
      "model_name": "DropdownModel",
      "state": {
       "_options_labels": [
        "Bell",
        "Conical",
        "Convex",
        "Flat",
        "Knobbed",
        "Sunken"
       ],
       "description": "cap_shape",
       "index": 0,
       "layout": "IPY_MODEL_d626fd8b785e4546b4f65e90d8031bbe",
       "style": "IPY_MODEL_fb6cd33d568e438d91be28d38fe587d3"
      }
     },
     "4df7dd52042a497d857d3e4f82628421": {
      "model_module": "@jupyter-widgets/controls",
      "model_module_version": "1.5.0",
      "model_name": "DropdownModel",
      "state": {
       "_options_labels": [
        "Brown",
        "Buff",
        "Cinnamon",
        "Gray",
        "Green",
        "Pink",
        "Purple",
        "Red",
        "White",
        "Yellow"
       ],
       "description": "cap_color",
       "index": 0,
       "layout": "IPY_MODEL_893d052304874bc19ac4eccee7671485",
       "style": "IPY_MODEL_3d4dac66470c4bb79bd9fc5632edb44a"
      }
     },
     "4e0c923ba5124b7c8fdf646887f8fc2b": {
      "model_module": "@jupyter-widgets/controls",
      "model_module_version": "1.5.0",
      "model_name": "DescriptionStyleModel",
      "state": {
       "description_width": ""
      }
     },
     "4e232377d5de44709e2f004ee3d6e966": {
      "model_module": "@jupyter-widgets/controls",
      "model_module_version": "1.5.0",
      "model_name": "DropdownModel",
      "state": {
       "_options_labels": [
        "Broad",
        "Narrow"
       ],
       "description": "gill_size",
       "index": 0,
       "layout": "IPY_MODEL_69a7631a9dbd437e8c90f9017c49c5e6",
       "style": "IPY_MODEL_ca50558d97fa41c0973fbcca68e5127c"
      }
     },
     "4e4db9fc97ab478f90feab1002bc6f10": {
      "model_module": "@jupyter-widgets/controls",
      "model_module_version": "1.5.0",
      "model_name": "DescriptionStyleModel",
      "state": {
       "description_width": ""
      }
     },
     "4e7bdfd5935f4127a0de26a3591d94e6": {
      "model_module": "@jupyter-widgets/base",
      "model_module_version": "1.2.0",
      "model_name": "LayoutModel",
      "state": {}
     },
     "4e7efe7a43cf44d7b1e935ebc67d456b": {
      "model_module": "@jupyter-widgets/controls",
      "model_module_version": "1.5.0",
      "model_name": "DropdownModel",
      "state": {
       "_options_labels": [
        "Abundant",
        "Clustered",
        "Numerous",
        "Scattered",
        "Several",
        "Solitary"
       ],
       "description": "population",
       "index": 0,
       "layout": "IPY_MODEL_603e2a092bb041abab7b571fb31e995f",
       "style": "IPY_MODEL_0bd7171cc4f347f78495cf9bbbacf2af"
      }
     },
     "4ead3f1960b74067b062b0e1499c2d25": {
      "model_module": "@jupyter-widgets/controls",
      "model_module_version": "1.5.0",
      "model_name": "VBoxModel",
      "state": {
       "_dom_classes": [
        "widget-interact"
       ],
       "children": [
        "IPY_MODEL_6f056fa27bb74911983560a0963be3c1",
        "IPY_MODEL_def27efed85746f6a2296bc1e529267a",
        "IPY_MODEL_8954bf7f3adb4421ac36979eb956404d",
        "IPY_MODEL_de200add022f433bbc81f1a974980f69",
        "IPY_MODEL_bd2cfa4c865941dc8824a7d6d8080394",
        "IPY_MODEL_ee13a57a8e624d0f9e56a6c52f831a75",
        "IPY_MODEL_64ccc7afe1dc4b6e8b1f478d57686b6e",
        "IPY_MODEL_7d21c2e01cd2462c988f86be26c070c3",
        "IPY_MODEL_f93a71307d084863a5d469ee4b51cfc4",
        "IPY_MODEL_d1bceeb52e6e4290bdd591e97d9f678d",
        "IPY_MODEL_f375d2d277c54fa48f0304706b13e1a2",
        "IPY_MODEL_474ed15f5f394399a1ffc53b457ced34",
        "IPY_MODEL_f35a057e5bb741fc8197b130b298a7e4",
        "IPY_MODEL_53e88bbbd80f4c6e839172f262e3d732",
        "IPY_MODEL_b9b2e0dff593476696181e83d9051543",
        "IPY_MODEL_37f2708f871d4fbab176cb92c5532816",
        "IPY_MODEL_7f67e7f28eed46ddbe13237270a6820c",
        "IPY_MODEL_43ff8d90c4014982b20cf03591dd6cc2",
        "IPY_MODEL_4d60142b215c44bcb8bafc6305cdd004",
        "IPY_MODEL_04d8539c446a46418c49afa9894f8b88",
        "IPY_MODEL_979666ec73a54b1e916cb2ac1d3722d1",
        "IPY_MODEL_de9cfcbe54764ee089cfb668914c15f7",
        "IPY_MODEL_2cc3b6d6a12f4aff8ed8c70c4b202f0c"
       ],
       "layout": "IPY_MODEL_798d14bd207c4bd192b8d72c6fac5ced"
      }
     },
     "4ec33a9eb54b419b97bab6dd783bf93d": {
      "model_module": "@jupyter-widgets/controls",
      "model_module_version": "1.5.0",
      "model_name": "DescriptionStyleModel",
      "state": {
       "description_width": ""
      }
     },
     "4ec56067aad445b996d2785711254d64": {
      "model_module": "@jupyter-widgets/controls",
      "model_module_version": "1.5.0",
      "model_name": "DescriptionStyleModel",
      "state": {
       "description_width": ""
      }
     },
     "4eca1429c2904c10b4a374b2137ae5fe": {
      "model_module": "@jupyter-widgets/base",
      "model_module_version": "1.2.0",
      "model_name": "LayoutModel",
      "state": {}
     },
     "4efa4ac7fedb414291540591cbfa7923": {
      "model_module": "@jupyter-widgets/controls",
      "model_module_version": "1.5.0",
      "model_name": "DescriptionStyleModel",
      "state": {
       "description_width": ""
      }
     },
     "4efb7e0c1db443429693388a80eb59bf": {
      "model_module": "@jupyter-widgets/controls",
      "model_module_version": "1.5.0",
      "model_name": "DropdownModel",
      "state": {
       "_options_labels": [
        "Attached",
        "Descending",
        "Free",
        "Notched"
       ],
       "description": "gill_attachment",
       "index": 0,
       "layout": "IPY_MODEL_88b05801ffe1431a92b56e902d0f6cac",
       "style": "IPY_MODEL_cf5e1f9f6d984ab19c8fd36929d3670b"
      }
     },
     "4f03772ef2e8412db17a96fb0911dcab": {
      "model_module": "@jupyter-widgets/base",
      "model_module_version": "1.2.0",
      "model_name": "LayoutModel",
      "state": {}
     },
     "4f21ee007de84ba09eb4c363ae3f6a21": {
      "model_module": "@jupyter-widgets/controls",
      "model_module_version": "1.5.0",
      "model_name": "DescriptionStyleModel",
      "state": {
       "description_width": ""
      }
     },
     "4f2483f550d947c68f74f01a0ba31c77": {
      "model_module": "@jupyter-widgets/base",
      "model_module_version": "1.2.0",
      "model_name": "LayoutModel",
      "state": {}
     },
     "4f27c816bb0049a982d4da6de13db764": {
      "model_module": "@jupyter-widgets/controls",
      "model_module_version": "1.5.0",
      "model_name": "DropdownModel",
      "state": {
       "_options_labels": [
        "Fiberous",
        "Grooves",
        "Scaly",
        "Smooth"
       ],
       "description": "cap_surface",
       "index": 0,
       "layout": "IPY_MODEL_d5dffb1d085c40f0b86430ef91e7bd5e",
       "style": "IPY_MODEL_037966ddbf514c56a671908331a96d8f"
      }
     },
     "4f53c3903b7c4e0e8021083d0c7c13f5": {
      "model_module": "@jupyter-widgets/base",
      "model_module_version": "1.2.0",
      "model_name": "LayoutModel",
      "state": {}
     },
     "4f9418f4f3814e3b864432e81d6980a1": {
      "model_module": "@jupyter-widgets/base",
      "model_module_version": "1.2.0",
      "model_name": "LayoutModel",
      "state": {}
     },
     "50038b5acf594bb089095e05c742910a": {
      "model_module": "@jupyter-widgets/base",
      "model_module_version": "1.2.0",
      "model_name": "LayoutModel",
      "state": {}
     },
     "502638cfcb02488ea6e567f29c041316": {
      "model_module": "@jupyter-widgets/base",
      "model_module_version": "1.2.0",
      "model_name": "LayoutModel",
      "state": {}
     },
     "505e791d05a440d49ea8ee2b968322bb": {
      "model_module": "@jupyter-widgets/controls",
      "model_module_version": "1.5.0",
      "model_name": "DescriptionStyleModel",
      "state": {
       "description_width": ""
      }
     },
     "509705de9e614123b8cdce3308e80366": {
      "model_module": "@jupyter-widgets/controls",
      "model_module_version": "1.5.0",
      "model_name": "DescriptionStyleModel",
      "state": {
       "description_width": ""
      }
     },
     "50a08034fdde4030bede1a6f43a3b0cf": {
      "model_module": "@jupyter-widgets/controls",
      "model_module_version": "1.5.0",
      "model_name": "DropdownModel",
      "state": {
       "_options_labels": [
        "Enlarging",
        "Tapering"
       ],
       "description": "stalk_shape",
       "index": 0,
       "layout": "IPY_MODEL_0fe1480dafd742d485d7f8e674b2aaca",
       "style": "IPY_MODEL_b3f60403f8d045f3891cc74c0eaae02c"
      }
     },
     "50daf0473f414932b71a8d84a3825716": {
      "model_module": "@jupyter-widgets/controls",
      "model_module_version": "1.5.0",
      "model_name": "DescriptionStyleModel",
      "state": {
       "description_width": ""
      }
     },
     "50f61eae76734d6e8d590e73718487e3": {
      "model_module": "@jupyter-widgets/base",
      "model_module_version": "1.2.0",
      "model_name": "LayoutModel",
      "state": {}
     },
     "5149dd7e42ac4f7c9d1d044834f161b0": {
      "model_module": "@jupyter-widgets/base",
      "model_module_version": "1.2.0",
      "model_name": "LayoutModel",
      "state": {}
     },
     "514ff799b93440a686602cc3d8a2e48d": {
      "model_module": "@jupyter-widgets/controls",
      "model_module_version": "1.5.0",
      "model_name": "DescriptionStyleModel",
      "state": {
       "description_width": ""
      }
     },
     "516f0c15c1274388b049e129e903536f": {
      "model_module": "@jupyter-widgets/controls",
      "model_module_version": "1.5.0",
      "model_name": "DropdownModel",
      "state": {
       "_options_labels": [
        "Brown",
        "Orange",
        "White",
        "Yellow"
       ],
       "description": "veil_color",
       "index": 0,
       "layout": "IPY_MODEL_39496ca7edba43d3b6ce5299735efe63",
       "style": "IPY_MODEL_7a3d19cb31294d1990358df2664696fc"
      }
     },
     "5173d09fa18d4a1bbd5294738a8d4993": {
      "model_module": "@jupyter-widgets/controls",
      "model_module_version": "1.5.0",
      "model_name": "DescriptionStyleModel",
      "state": {
       "description_width": ""
      }
     },
     "51742024ef514f20aabb71a8f858d424": {
      "model_module": "@jupyter-widgets/controls",
      "model_module_version": "1.5.0",
      "model_name": "DropdownModel",
      "state": {
       "_options_labels": [
        "Black",
        "Brown",
        "Buff",
        "Chocolate",
        "Green",
        "Orange",
        "Purple",
        "White",
        "Yellow"
       ],
       "description": "spore_print_color",
       "index": 0,
       "layout": "IPY_MODEL_ae23b5d187aa4f3a84ee428eef4e4231",
       "style": "IPY_MODEL_5a53329ab5974779b6b7f0a07e2ca7b2"
      }
     },
     "519b7eb119704eaab8ad6521f9c4fbd7": {
      "model_module": "@jupyter-widgets/base",
      "model_module_version": "1.2.0",
      "model_name": "LayoutModel",
      "state": {}
     },
     "51cea003bab74dee847e899c8db5e75e": {
      "model_module": "@jupyter-widgets/controls",
      "model_module_version": "1.5.0",
      "model_name": "DropdownModel",
      "state": {
       "_options_labels": [
        "Black",
        "Brown",
        "Buff",
        "Chocolate",
        "Gray",
        "Green",
        "Orange",
        "Pink",
        "Purple",
        "Red",
        "White",
        "Yellow"
       ],
       "description": "gill_color",
       "index": 0,
       "layout": "IPY_MODEL_4649ac736ebf48978594b5aa9b799923",
       "style": "IPY_MODEL_4330a433539f46b8a11cf7aa16fc244d"
      }
     },
     "51cf25336f6f43e980afa5984da908b3": {
      "model_module": "@jupyter-widgets/controls",
      "model_module_version": "1.5.0",
      "model_name": "DescriptionStyleModel",
      "state": {
       "description_width": ""
      }
     },
     "5201c0d3b52c46d7825129c49a4ca59d": {
      "model_module": "@jupyter-widgets/base",
      "model_module_version": "1.2.0",
      "model_name": "LayoutModel",
      "state": {}
     },
     "5211425a8b6543058be82d9ecc31b44f": {
      "model_module": "@jupyter-widgets/base",
      "model_module_version": "1.2.0",
      "model_name": "LayoutModel",
      "state": {}
     },
     "521a633aadd8491f94ea034b10b1e07b": {
      "model_module": "@jupyter-widgets/controls",
      "model_module_version": "1.5.0",
      "model_name": "DescriptionStyleModel",
      "state": {
       "description_width": ""
      }
     },
     "5243cd64843d4b7b85f89b6d01f205ad": {
      "model_module": "@jupyter-widgets/controls",
      "model_module_version": "1.5.0",
      "model_name": "DropdownModel",
      "state": {
       "_options_labels": [
        "Abundant",
        "Clustered",
        "Numerous",
        "Scattered",
        "Several",
        "Solitary"
       ],
       "description": "population",
       "index": 0,
       "layout": "IPY_MODEL_5fa3f14d3179409ab07794359ea8446a",
       "style": "IPY_MODEL_2e8f2cc13e0c4ecd980c691bee37ce0f"
      }
     },
     "525aa4712e86412b98b1d7d1f6c323b4": {
      "model_module": "@jupyter-widgets/base",
      "model_module_version": "1.2.0",
      "model_name": "LayoutModel",
      "state": {}
     },
     "52646699f55549b6ace99d3de3a6fc95": {
      "model_module": "@jupyter-widgets/controls",
      "model_module_version": "1.5.0",
      "model_name": "DropdownModel",
      "state": {
       "_options_labels": [
        "Enlarging",
        "Tapering"
       ],
       "description": "stalk_shape",
       "index": 0,
       "layout": "IPY_MODEL_2b995b3adf3843d097e6dda797651e3f",
       "style": "IPY_MODEL_09477d73e7d84147aad94a16b04044a2"
      }
     },
     "528ab20713cd44178dc0df5236caea1b": {
      "model_module": "@jupyter-widgets/controls",
      "model_module_version": "1.5.0",
      "model_name": "DropdownModel",
      "state": {
       "_options_labels": [
        "Black",
        "Brown",
        "Buff",
        "Chocolate",
        "Gray",
        "Green",
        "Orange",
        "Pink",
        "Purple",
        "Red",
        "White",
        "Yellow"
       ],
       "description": "gill_color",
       "index": 0,
       "layout": "IPY_MODEL_479054eb45b042638f3a2d47c2017445",
       "style": "IPY_MODEL_8eb4e4215a7f41babef728e3919682dc"
      }
     },
     "528c251fa7e643e4bda3082e4b255aa8": {
      "model_module": "@jupyter-widgets/base",
      "model_module_version": "1.2.0",
      "model_name": "LayoutModel",
      "state": {}
     },
     "52a2e8de86ea4e059bfc4b8fe0e8d709": {
      "model_module": "@jupyter-widgets/base",
      "model_module_version": "1.2.0",
      "model_name": "LayoutModel",
      "state": {}
     },
     "52a6bf454a1146de99e768123905c721": {
      "model_module": "@jupyter-widgets/controls",
      "model_module_version": "1.5.0",
      "model_name": "DropdownModel",
      "state": {
       "_options_labels": [
        "Brown",
        "Orange",
        "White",
        "Yellow"
       ],
       "description": "veil_color",
       "index": 0,
       "layout": "IPY_MODEL_ae75e62a6f29473e83fd825bc9a470bc",
       "style": "IPY_MODEL_8b04199f14fa4b769db2496c4d3b695e"
      }
     },
     "52b956d55c634733a0629e702108397d": {
      "model_module": "@jupyter-widgets/base",
      "model_module_version": "1.2.0",
      "model_name": "LayoutModel",
      "state": {}
     },
     "52bd1588b56446108ebfc845c9148e9d": {
      "model_module": "@jupyter-widgets/controls",
      "model_module_version": "1.5.0",
      "model_name": "DescriptionStyleModel",
      "state": {
       "description_width": ""
      }
     },
     "52dd5de47fe547e8bd7ddf5b1d63c5b7": {
      "model_module": "@jupyter-widgets/output",
      "model_module_version": "1.0.0",
      "model_name": "OutputModel",
      "state": {
       "layout": "IPY_MODEL_8e7131bca7a940be99d0a8914fb4ecba",
       "outputs": [
        {
         "ename": "KeyError",
         "evalue": "'d'",
         "output_type": "error",
         "traceback": [
          "\u001b[0;31m---------------------------------------------------------------------------\u001b[0m",
          "\u001b[0;31mKeyError\u001b[0m                                  Traceback (most recent call last)",
          "\u001b[0;32m~/Documents/GitHub/andys-notebook/venv/lib/python3.9/site-packages/pandas/core/indexes/base.py\u001b[0m in \u001b[0;36mget_loc\u001b[0;34m(self, key, method, tolerance)\u001b[0m\n\u001b[1;32m   3079\u001b[0m             \u001b[0;32mtry\u001b[0m\u001b[0;34m:\u001b[0m\u001b[0;34m\u001b[0m\u001b[0;34m\u001b[0m\u001b[0m\n\u001b[0;32m-> 3080\u001b[0;31m                 \u001b[0;32mreturn\u001b[0m \u001b[0mself\u001b[0m\u001b[0;34m.\u001b[0m\u001b[0m_engine\u001b[0m\u001b[0;34m.\u001b[0m\u001b[0mget_loc\u001b[0m\u001b[0;34m(\u001b[0m\u001b[0mcasted_key\u001b[0m\u001b[0;34m)\u001b[0m\u001b[0;34m\u001b[0m\u001b[0;34m\u001b[0m\u001b[0m\n\u001b[0m\u001b[1;32m   3081\u001b[0m             \u001b[0;32mexcept\u001b[0m \u001b[0mKeyError\u001b[0m \u001b[0;32mas\u001b[0m \u001b[0merr\u001b[0m\u001b[0;34m:\u001b[0m\u001b[0;34m\u001b[0m\u001b[0;34m\u001b[0m\u001b[0m\n",
          "\u001b[0;32mpandas/_libs/index.pyx\u001b[0m in \u001b[0;36mpandas._libs.index.IndexEngine.get_loc\u001b[0;34m()\u001b[0m\n",
          "\u001b[0;32mpandas/_libs/index.pyx\u001b[0m in \u001b[0;36mpandas._libs.index.IndexEngine.get_loc\u001b[0;34m()\u001b[0m\n",
          "\u001b[0;32mpandas/_libs/hashtable_class_helper.pxi\u001b[0m in \u001b[0;36mpandas._libs.hashtable.PyObjectHashTable.get_item\u001b[0;34m()\u001b[0m\n",
          "\u001b[0;32mpandas/_libs/hashtable_class_helper.pxi\u001b[0m in \u001b[0;36mpandas._libs.hashtable.PyObjectHashTable.get_item\u001b[0;34m()\u001b[0m\n",
          "\u001b[0;31mKeyError\u001b[0m: 'd'",
          "\nThe above exception was the direct cause of the following exception:\n",
          "\u001b[0;31mKeyError\u001b[0m                                  Traceback (most recent call last)",
          "\u001b[0;32m~/Documents/GitHub/andys-notebook/venv/lib/python3.9/site-packages/ipywidgets/widgets/interaction.py\u001b[0m in \u001b[0;36mupdate\u001b[0;34m(self, *args)\u001b[0m\n\u001b[1;32m    254\u001b[0m                     \u001b[0mvalue\u001b[0m \u001b[0;34m=\u001b[0m \u001b[0mwidget\u001b[0m\u001b[0;34m.\u001b[0m\u001b[0mget_interact_value\u001b[0m\u001b[0;34m(\u001b[0m\u001b[0;34m)\u001b[0m\u001b[0;34m\u001b[0m\u001b[0;34m\u001b[0m\u001b[0m\n\u001b[1;32m    255\u001b[0m                     \u001b[0mself\u001b[0m\u001b[0;34m.\u001b[0m\u001b[0mkwargs\u001b[0m\u001b[0;34m[\u001b[0m\u001b[0mwidget\u001b[0m\u001b[0;34m.\u001b[0m\u001b[0m_kwarg\u001b[0m\u001b[0;34m]\u001b[0m \u001b[0;34m=\u001b[0m \u001b[0mvalue\u001b[0m\u001b[0;34m\u001b[0m\u001b[0;34m\u001b[0m\u001b[0m\n\u001b[0;32m--> 256\u001b[0;31m                 \u001b[0mself\u001b[0m\u001b[0;34m.\u001b[0m\u001b[0mresult\u001b[0m \u001b[0;34m=\u001b[0m \u001b[0mself\u001b[0m\u001b[0;34m.\u001b[0m\u001b[0mf\u001b[0m\u001b[0;34m(\u001b[0m\u001b[0;34m**\u001b[0m\u001b[0mself\u001b[0m\u001b[0;34m.\u001b[0m\u001b[0mkwargs\u001b[0m\u001b[0;34m)\u001b[0m\u001b[0;34m\u001b[0m\u001b[0;34m\u001b[0m\u001b[0m\n\u001b[0m\u001b[1;32m    257\u001b[0m                 \u001b[0mshow_inline_matplotlib_plots\u001b[0m\u001b[0;34m(\u001b[0m\u001b[0;34m)\u001b[0m\u001b[0;34m\u001b[0m\u001b[0;34m\u001b[0m\u001b[0m\n\u001b[1;32m    258\u001b[0m                 \u001b[0;32mif\u001b[0m \u001b[0mself\u001b[0m\u001b[0;34m.\u001b[0m\u001b[0mauto_display\u001b[0m \u001b[0;32mand\u001b[0m \u001b[0mself\u001b[0m\u001b[0;34m.\u001b[0m\u001b[0mresult\u001b[0m \u001b[0;32mis\u001b[0m \u001b[0;32mnot\u001b[0m \u001b[0;32mNone\u001b[0m\u001b[0;34m:\u001b[0m\u001b[0;34m\u001b[0m\u001b[0;34m\u001b[0m\u001b[0m\n",
          "\u001b[0;32m<ipython-input-72-db2288263fc7>\u001b[0m in \u001b[0;36mcustom_classify\u001b[0;34m(cap_shape, cap_surface, cap_color, bruises, odor, gill_attachment, gill_spacing, gill_size, gill_color, stalk_shape, stalk_root, stalk_surface_above_ring, stalk_surface_below_ring, stalk_color_above_ring, stalk_color_below_ring, veil_type, veil_color, ring_number, ring_type, spore_print_color, population, habitat)\u001b[0m\n\u001b[1;32m    198\u001b[0m \u001b[0;34m\u001b[0m\u001b[0m\n\u001b[1;32m    199\u001b[0m     \u001b[0;31m# Return class probabilities\u001b[0m\u001b[0;34m\u001b[0m\u001b[0;34m\u001b[0m\u001b[0;34m\u001b[0m\u001b[0m\n\u001b[0;32m--> 200\u001b[0;31m     \u001b[0mprobabilities\u001b[0m \u001b[0;34m=\u001b[0m \u001b[0mnaive_bayes_classify\u001b[0m\u001b[0;34m(\u001b[0m\u001b[0mfeatures\u001b[0m\u001b[0;34m,\u001b[0m \u001b[0mprobs\u001b[0m\u001b[0;34m=\u001b[0m\u001b[0;32mTrue\u001b[0m\u001b[0;34m)\u001b[0m\u001b[0;34m\u001b[0m\u001b[0;34m\u001b[0m\u001b[0m\n\u001b[0m\u001b[1;32m    201\u001b[0m     \u001b[0mprint\u001b[0m\u001b[0;34m(\u001b[0m\u001b[0mprobabilities\u001b[0m\u001b[0;34m)\u001b[0m\u001b[0;34m\u001b[0m\u001b[0;34m\u001b[0m\u001b[0m\n\u001b[1;32m    202\u001b[0m     \u001b[0msns\u001b[0m\u001b[0;34m.\u001b[0m\u001b[0mbarplot\u001b[0m\u001b[0;34m(\u001b[0m\u001b[0mx\u001b[0m\u001b[0;34m=\u001b[0m\u001b[0mprobabilities\u001b[0m\u001b[0;34m.\u001b[0m\u001b[0mindex\u001b[0m\u001b[0;34m,\u001b[0m \u001b[0my\u001b[0m\u001b[0;34m=\u001b[0m\u001b[0mprobabilities\u001b[0m\u001b[0;34m)\u001b[0m\u001b[0;34m\u001b[0m\u001b[0;34m\u001b[0m\u001b[0m\n",
          "\u001b[0;32m<ipython-input-71-2fd597047954>\u001b[0m in \u001b[0;36mnaive_bayes_classify\u001b[0;34m(sample, probs)\u001b[0m\n\u001b[1;32m     15\u001b[0m     \u001b[0;31m# Update our label probabilities using new likelihood\u001b[0m\u001b[0;34m\u001b[0m\u001b[0;34m\u001b[0m\u001b[0;34m\u001b[0m\u001b[0m\n\u001b[1;32m     16\u001b[0m     \u001b[0;32mfor\u001b[0m \u001b[0mcolumn\u001b[0m\u001b[0;34m,\u001b[0m \u001b[0mtable\u001b[0m \u001b[0;32min\u001b[0m \u001b[0mlikelihoods\u001b[0m\u001b[0;34m.\u001b[0m\u001b[0mitems\u001b[0m\u001b[0;34m(\u001b[0m\u001b[0;34m)\u001b[0m\u001b[0;34m:\u001b[0m\u001b[0;34m\u001b[0m\u001b[0;34m\u001b[0m\u001b[0m\n\u001b[0;32m---> 17\u001b[0;31m         \u001b[0mprobability\u001b[0m \u001b[0;34m*=\u001b[0m \u001b[0mtable\u001b[0m\u001b[0;34m[\u001b[0m\u001b[0msample\u001b[0m\u001b[0;34m[\u001b[0m\u001b[0mcolumn\u001b[0m\u001b[0;34m]\u001b[0m\u001b[0;34m]\u001b[0m\u001b[0;34m.\u001b[0m\u001b[0mreindex_like\u001b[0m\u001b[0;34m(\u001b[0m\u001b[0mprobability\u001b[0m\u001b[0;34m)\u001b[0m\u001b[0;34m.\u001b[0m\u001b[0mfillna\u001b[0m\u001b[0;34m(\u001b[0m\u001b[0;36m0\u001b[0m\u001b[0;34m)\u001b[0m\u001b[0;34m\u001b[0m\u001b[0;34m\u001b[0m\u001b[0m\n\u001b[0m\u001b[1;32m     18\u001b[0m \u001b[0;34m\u001b[0m\u001b[0m\n\u001b[1;32m     19\u001b[0m     \u001b[0;31m# Return artifact\u001b[0m\u001b[0;34m\u001b[0m\u001b[0;34m\u001b[0m\u001b[0;34m\u001b[0m\u001b[0m\n",
          "\u001b[0;32m~/Documents/GitHub/andys-notebook/venv/lib/python3.9/site-packages/pandas/core/series.py\u001b[0m in \u001b[0;36m__getitem__\u001b[0;34m(self, key)\u001b[0m\n\u001b[1;32m    822\u001b[0m \u001b[0;34m\u001b[0m\u001b[0m\n\u001b[1;32m    823\u001b[0m         \u001b[0;32melif\u001b[0m \u001b[0mkey_is_scalar\u001b[0m\u001b[0;34m:\u001b[0m\u001b[0;34m\u001b[0m\u001b[0;34m\u001b[0m\u001b[0m\n\u001b[0;32m--> 824\u001b[0;31m             \u001b[0;32mreturn\u001b[0m \u001b[0mself\u001b[0m\u001b[0;34m.\u001b[0m\u001b[0m_get_value\u001b[0m\u001b[0;34m(\u001b[0m\u001b[0mkey\u001b[0m\u001b[0;34m)\u001b[0m\u001b[0;34m\u001b[0m\u001b[0;34m\u001b[0m\u001b[0m\n\u001b[0m\u001b[1;32m    825\u001b[0m \u001b[0;34m\u001b[0m\u001b[0m\n\u001b[1;32m    826\u001b[0m         \u001b[0;32mif\u001b[0m \u001b[0mis_hashable\u001b[0m\u001b[0;34m(\u001b[0m\u001b[0mkey\u001b[0m\u001b[0;34m)\u001b[0m\u001b[0;34m:\u001b[0m\u001b[0;34m\u001b[0m\u001b[0;34m\u001b[0m\u001b[0m\n",
          "\u001b[0;32m~/Documents/GitHub/andys-notebook/venv/lib/python3.9/site-packages/pandas/core/series.py\u001b[0m in \u001b[0;36m_get_value\u001b[0;34m(self, label, takeable)\u001b[0m\n\u001b[1;32m    930\u001b[0m \u001b[0;34m\u001b[0m\u001b[0m\n\u001b[1;32m    931\u001b[0m         \u001b[0;31m# Similar to Index.get_value, but we do not fall back to positional\u001b[0m\u001b[0;34m\u001b[0m\u001b[0;34m\u001b[0m\u001b[0;34m\u001b[0m\u001b[0m\n\u001b[0;32m--> 932\u001b[0;31m         \u001b[0mloc\u001b[0m \u001b[0;34m=\u001b[0m \u001b[0mself\u001b[0m\u001b[0;34m.\u001b[0m\u001b[0mindex\u001b[0m\u001b[0;34m.\u001b[0m\u001b[0mget_loc\u001b[0m\u001b[0;34m(\u001b[0m\u001b[0mlabel\u001b[0m\u001b[0;34m)\u001b[0m\u001b[0;34m\u001b[0m\u001b[0;34m\u001b[0m\u001b[0m\n\u001b[0m\u001b[1;32m    933\u001b[0m         \u001b[0;32mreturn\u001b[0m \u001b[0mself\u001b[0m\u001b[0;34m.\u001b[0m\u001b[0mindex\u001b[0m\u001b[0;34m.\u001b[0m\u001b[0m_get_values_for_loc\u001b[0m\u001b[0;34m(\u001b[0m\u001b[0mself\u001b[0m\u001b[0;34m,\u001b[0m \u001b[0mloc\u001b[0m\u001b[0;34m,\u001b[0m \u001b[0mlabel\u001b[0m\u001b[0;34m)\u001b[0m\u001b[0;34m\u001b[0m\u001b[0;34m\u001b[0m\u001b[0m\n\u001b[1;32m    934\u001b[0m \u001b[0;34m\u001b[0m\u001b[0m\n",
          "\u001b[0;32m~/Documents/GitHub/andys-notebook/venv/lib/python3.9/site-packages/pandas/core/indexes/multi.py\u001b[0m in \u001b[0;36mget_loc\u001b[0;34m(self, key, method)\u001b[0m\n\u001b[1;32m   2872\u001b[0m \u001b[0;34m\u001b[0m\u001b[0m\n\u001b[1;32m   2873\u001b[0m         \u001b[0;32mif\u001b[0m \u001b[0;32mnot\u001b[0m \u001b[0misinstance\u001b[0m\u001b[0;34m(\u001b[0m\u001b[0mkey\u001b[0m\u001b[0;34m,\u001b[0m \u001b[0mtuple\u001b[0m\u001b[0;34m)\u001b[0m\u001b[0;34m:\u001b[0m\u001b[0;34m\u001b[0m\u001b[0;34m\u001b[0m\u001b[0m\n\u001b[0;32m-> 2874\u001b[0;31m             \u001b[0mloc\u001b[0m \u001b[0;34m=\u001b[0m \u001b[0mself\u001b[0m\u001b[0;34m.\u001b[0m\u001b[0m_get_level_indexer\u001b[0m\u001b[0;34m(\u001b[0m\u001b[0mkey\u001b[0m\u001b[0;34m,\u001b[0m \u001b[0mlevel\u001b[0m\u001b[0;34m=\u001b[0m\u001b[0;36m0\u001b[0m\u001b[0;34m)\u001b[0m\u001b[0;34m\u001b[0m\u001b[0;34m\u001b[0m\u001b[0m\n\u001b[0m\u001b[1;32m   2875\u001b[0m             \u001b[0;32mreturn\u001b[0m \u001b[0m_maybe_to_slice\u001b[0m\u001b[0;34m(\u001b[0m\u001b[0mloc\u001b[0m\u001b[0;34m)\u001b[0m\u001b[0;34m\u001b[0m\u001b[0;34m\u001b[0m\u001b[0m\n\u001b[1;32m   2876\u001b[0m \u001b[0;34m\u001b[0m\u001b[0m\n",
          "\u001b[0;32m~/Documents/GitHub/andys-notebook/venv/lib/python3.9/site-packages/pandas/core/indexes/multi.py\u001b[0m in \u001b[0;36m_get_level_indexer\u001b[0;34m(self, key, level, indexer)\u001b[0m\n\u001b[1;32m   3154\u001b[0m         \u001b[0;32melse\u001b[0m\u001b[0;34m:\u001b[0m\u001b[0;34m\u001b[0m\u001b[0;34m\u001b[0m\u001b[0m\n\u001b[1;32m   3155\u001b[0m \u001b[0;34m\u001b[0m\u001b[0m\n\u001b[0;32m-> 3156\u001b[0;31m             \u001b[0midx\u001b[0m \u001b[0;34m=\u001b[0m \u001b[0mself\u001b[0m\u001b[0;34m.\u001b[0m\u001b[0m_get_loc_single_level_index\u001b[0m\u001b[0;34m(\u001b[0m\u001b[0mlevel_index\u001b[0m\u001b[0;34m,\u001b[0m \u001b[0mkey\u001b[0m\u001b[0;34m)\u001b[0m\u001b[0;34m\u001b[0m\u001b[0;34m\u001b[0m\u001b[0m\n\u001b[0m\u001b[1;32m   3157\u001b[0m \u001b[0;34m\u001b[0m\u001b[0m\n\u001b[1;32m   3158\u001b[0m             \u001b[0;32mif\u001b[0m \u001b[0mlevel\u001b[0m \u001b[0;34m>\u001b[0m \u001b[0;36m0\u001b[0m \u001b[0;32mor\u001b[0m \u001b[0mself\u001b[0m\u001b[0;34m.\u001b[0m\u001b[0mlexsort_depth\u001b[0m \u001b[0;34m==\u001b[0m \u001b[0;36m0\u001b[0m\u001b[0;34m:\u001b[0m\u001b[0;34m\u001b[0m\u001b[0;34m\u001b[0m\u001b[0m\n",
          "\u001b[0;32m~/Documents/GitHub/andys-notebook/venv/lib/python3.9/site-packages/pandas/core/indexes/multi.py\u001b[0m in \u001b[0;36m_get_loc_single_level_index\u001b[0;34m(self, level_index, key)\u001b[0m\n\u001b[1;32m   2805\u001b[0m             \u001b[0;32mreturn\u001b[0m \u001b[0;34m-\u001b[0m\u001b[0;36m1\u001b[0m\u001b[0;34m\u001b[0m\u001b[0;34m\u001b[0m\u001b[0m\n\u001b[1;32m   2806\u001b[0m         \u001b[0;32melse\u001b[0m\u001b[0;34m:\u001b[0m\u001b[0;34m\u001b[0m\u001b[0;34m\u001b[0m\u001b[0m\n\u001b[0;32m-> 2807\u001b[0;31m             \u001b[0;32mreturn\u001b[0m \u001b[0mlevel_index\u001b[0m\u001b[0;34m.\u001b[0m\u001b[0mget_loc\u001b[0m\u001b[0;34m(\u001b[0m\u001b[0mkey\u001b[0m\u001b[0;34m)\u001b[0m\u001b[0;34m\u001b[0m\u001b[0;34m\u001b[0m\u001b[0m\n\u001b[0m\u001b[1;32m   2808\u001b[0m \u001b[0;34m\u001b[0m\u001b[0m\n\u001b[1;32m   2809\u001b[0m     \u001b[0;32mdef\u001b[0m \u001b[0mget_loc\u001b[0m\u001b[0;34m(\u001b[0m\u001b[0mself\u001b[0m\u001b[0;34m,\u001b[0m \u001b[0mkey\u001b[0m\u001b[0;34m,\u001b[0m \u001b[0mmethod\u001b[0m\u001b[0;34m=\u001b[0m\u001b[0;32mNone\u001b[0m\u001b[0;34m)\u001b[0m\u001b[0;34m:\u001b[0m\u001b[0;34m\u001b[0m\u001b[0;34m\u001b[0m\u001b[0m\n",
          "\u001b[0;32m~/Documents/GitHub/andys-notebook/venv/lib/python3.9/site-packages/pandas/core/indexes/base.py\u001b[0m in \u001b[0;36mget_loc\u001b[0;34m(self, key, method, tolerance)\u001b[0m\n\u001b[1;32m   3080\u001b[0m                 \u001b[0;32mreturn\u001b[0m \u001b[0mself\u001b[0m\u001b[0;34m.\u001b[0m\u001b[0m_engine\u001b[0m\u001b[0;34m.\u001b[0m\u001b[0mget_loc\u001b[0m\u001b[0;34m(\u001b[0m\u001b[0mcasted_key\u001b[0m\u001b[0;34m)\u001b[0m\u001b[0;34m\u001b[0m\u001b[0;34m\u001b[0m\u001b[0m\n\u001b[1;32m   3081\u001b[0m             \u001b[0;32mexcept\u001b[0m \u001b[0mKeyError\u001b[0m \u001b[0;32mas\u001b[0m \u001b[0merr\u001b[0m\u001b[0;34m:\u001b[0m\u001b[0;34m\u001b[0m\u001b[0;34m\u001b[0m\u001b[0m\n\u001b[0;32m-> 3082\u001b[0;31m                 \u001b[0;32mraise\u001b[0m \u001b[0mKeyError\u001b[0m\u001b[0;34m(\u001b[0m\u001b[0mkey\u001b[0m\u001b[0;34m)\u001b[0m \u001b[0;32mfrom\u001b[0m \u001b[0merr\u001b[0m\u001b[0;34m\u001b[0m\u001b[0;34m\u001b[0m\u001b[0m\n\u001b[0m\u001b[1;32m   3083\u001b[0m \u001b[0;34m\u001b[0m\u001b[0m\n\u001b[1;32m   3084\u001b[0m         \u001b[0;32mif\u001b[0m \u001b[0mtolerance\u001b[0m \u001b[0;32mis\u001b[0m \u001b[0;32mnot\u001b[0m \u001b[0;32mNone\u001b[0m\u001b[0;34m:\u001b[0m\u001b[0;34m\u001b[0m\u001b[0;34m\u001b[0m\u001b[0m\n",
          "\u001b[0;31mKeyError\u001b[0m: 'd'"
         ]
        }
       ]
      }
     },
     "52f4c15dbe8d4aebae0526d05eba19c6": {
      "model_module": "@jupyter-widgets/base",
      "model_module_version": "1.2.0",
      "model_name": "LayoutModel",
      "state": {}
     },
     "53858a10a93345699243f43d330333c9": {
      "model_module": "@jupyter-widgets/base",
      "model_module_version": "1.2.0",
      "model_name": "LayoutModel",
      "state": {}
     },
     "53c3a4ea38e04f00ae391b3588b05337": {
      "model_module": "@jupyter-widgets/controls",
      "model_module_version": "1.5.0",
      "model_name": "DropdownModel",
      "state": {
       "_options_labels": [
        "None",
        "One",
        "Two"
       ],
       "description": "ring_number",
       "index": 0,
       "layout": "IPY_MODEL_23ad314d22604f0788da3cc0008c233b",
       "style": "IPY_MODEL_e7b695f2657447e6a0a38a8d2f4fc81b"
      }
     },
     "53e88bbbd80f4c6e839172f262e3d732": {
      "model_module": "@jupyter-widgets/controls",
      "model_module_version": "1.5.0",
      "model_name": "DropdownModel",
      "state": {
       "_options_labels": [
        "Brown",
        "Buff",
        "Cinnamon",
        "Gray",
        "Orange",
        "Pink",
        "Red",
        "White",
        "Yellow"
       ],
       "description": "stalk_color_above_ring",
       "index": 0,
       "layout": "IPY_MODEL_9bd0e380716f43dfa4fdbcfa89bfc5d0",
       "style": "IPY_MODEL_23c1b15db1a94d3dba2ebc56e94ac22d"
      }
     },
     "54161695583a4a2ea6225818a2fee95c": {
      "model_module": "@jupyter-widgets/controls",
      "model_module_version": "1.5.0",
      "model_name": "DropdownModel",
      "state": {
       "_options_labels": [
        "Broad",
        "Narrow"
       ],
       "description": "gill_size",
       "index": 0,
       "layout": "IPY_MODEL_fcbbdcca65df47d0a14c04b9795c14e0",
       "style": "IPY_MODEL_0761ec6d8d864081ba4939e91fbe9b9f"
      }
     },
     "542543f527b649be9ba67242d299a429": {
      "model_module": "@jupyter-widgets/controls",
      "model_module_version": "1.5.0",
      "model_name": "DescriptionStyleModel",
      "state": {
       "description_width": ""
      }
     },
     "543973f863064f8eae901404f013a12d": {
      "model_module": "@jupyter-widgets/base",
      "model_module_version": "1.2.0",
      "model_name": "LayoutModel",
      "state": {}
     },
     "545c07041aa944b5b97b19d18bfda75a": {
      "model_module": "@jupyter-widgets/controls",
      "model_module_version": "1.5.0",
      "model_name": "DescriptionStyleModel",
      "state": {
       "description_width": ""
      }
     },
     "5461c120925a4f6eb34f123adaa02a83": {
      "model_module": "@jupyter-widgets/controls",
      "model_module_version": "1.5.0",
      "model_name": "DropdownModel",
      "state": {
       "_options_labels": [
        "Partial",
        "Universal"
       ],
       "description": "veil_type",
       "index": 0,
       "layout": "IPY_MODEL_3f98c711dbd84bdeb4d935ef4c874040",
       "style": "IPY_MODEL_c3716384f45b4c49846f8ccd1d847b09"
      }
     },
     "547bd6218f434fbfbbbb9d2752919409": {
      "model_module": "@jupyter-widgets/base",
      "model_module_version": "1.2.0",
      "model_name": "LayoutModel",
      "state": {}
     },
     "549c744a4dd0400aa2db352d14b30c71": {
      "model_module": "@jupyter-widgets/controls",
      "model_module_version": "1.5.0",
      "model_name": "DropdownModel",
      "state": {
       "_options_labels": [
        "Black",
        "Brown",
        "Buff",
        "Chocolate",
        "Gray",
        "Green",
        "Orange",
        "Pink",
        "Purple",
        "Red",
        "White",
        "Yellow"
       ],
       "description": "gill_color",
       "index": 0,
       "layout": "IPY_MODEL_d6bc60f3a6a84d098b40e266e9a924dd",
       "style": "IPY_MODEL_b04882800e0644afb8c5e0a0b9b59884"
      }
     },
     "54b8da495e544a1db4f5fbf70f8a4422": {
      "model_module": "@jupyter-widgets/base",
      "model_module_version": "1.2.0",
      "model_name": "LayoutModel",
      "state": {}
     },
     "54c70805fd2d49b8983c2f5d75021c6f": {
      "model_module": "@jupyter-widgets/base",
      "model_module_version": "1.2.0",
      "model_name": "LayoutModel",
      "state": {}
     },
     "54cfe7d5b1f141f59923bf1cc467e5d5": {
      "model_module": "@jupyter-widgets/base",
      "model_module_version": "1.2.0",
      "model_name": "LayoutModel",
      "state": {}
     },
     "550a03abf44e4424b764e2ff4453d4c6": {
      "model_module": "@jupyter-widgets/controls",
      "model_module_version": "1.5.0",
      "model_name": "DropdownModel",
      "state": {
       "_options_labels": [
        "Brown",
        "Buff",
        "Cinnamon",
        "Gray",
        "Orange",
        "Pink",
        "Red",
        "White",
        "Yellow"
       ],
       "description": "stalk_color_above_ring",
       "index": 0,
       "layout": "IPY_MODEL_bd8a9af1c6054fa3a61062c64c4db15b",
       "style": "IPY_MODEL_97ef08681b6046adabf9d2146107377d"
      }
     },
     "553b5485e0944e0c8b8f74949ccce226": {
      "model_module": "@jupyter-widgets/controls",
      "model_module_version": "1.5.0",
      "model_name": "DescriptionStyleModel",
      "state": {
       "description_width": ""
      }
     },
     "555fc1626a6445ab9d1a063c73c2facf": {
      "model_module": "@jupyter-widgets/base",
      "model_module_version": "1.2.0",
      "model_name": "LayoutModel",
      "state": {}
     },
     "5595c1d856074d9ea3cba97e1e272ab2": {
      "model_module": "@jupyter-widgets/controls",
      "model_module_version": "1.5.0",
      "model_name": "DescriptionStyleModel",
      "state": {
       "description_width": ""
      }
     },
     "565bcef52d9940798af2e995ca5c141c": {
      "model_module": "@jupyter-widgets/base",
      "model_module_version": "1.2.0",
      "model_name": "LayoutModel",
      "state": {}
     },
     "56803ff0d0b04d81adeb9ffb0737fa76": {
      "model_module": "@jupyter-widgets/controls",
      "model_module_version": "1.5.0",
      "model_name": "DropdownModel",
      "state": {
       "_options_labels": [
        "Close",
        "Crowded",
        "Distant"
       ],
       "description": "gill_spacing",
       "index": 0,
       "layout": "IPY_MODEL_86be9c654f474894a4c8a280e37a692b",
       "style": "IPY_MODEL_98f74a620f8244b396d819b78be4ed0f"
      }
     },
     "568d2d713090430882106552f085c848": {
      "model_module": "@jupyter-widgets/controls",
      "model_module_version": "1.5.0",
      "model_name": "DescriptionStyleModel",
      "state": {
       "description_width": ""
      }
     },
     "56cd51230e86446fa4361f063389b89c": {
      "model_module": "@jupyter-widgets/controls",
      "model_module_version": "1.5.0",
      "model_name": "DropdownModel",
      "state": {
       "_options_labels": [
        "Evanescent",
        "Flaring",
        "Large",
        "None",
        "Pendant",
        "Sheathing",
        "Zone"
       ],
       "description": "ring_type",
       "index": 0,
       "layout": "IPY_MODEL_ecb07ed37db44d81817d1bca15e6792c",
       "style": "IPY_MODEL_dab365e432f748a5ac0b9f94a9fa9ddf"
      }
     },
     "56e40d493f9d4c4c93547ca0e1405c7a": {
      "model_module": "@jupyter-widgets/controls",
      "model_module_version": "1.5.0",
      "model_name": "DropdownModel",
      "state": {
       "_options_labels": [
        "Black",
        "Brown",
        "Buff",
        "Chocolate",
        "Green",
        "Orange",
        "Purple",
        "White",
        "Yellow"
       ],
       "description": "spore_print_color",
       "index": 7,
       "layout": "IPY_MODEL_34773d95b1e640fbaeafebd50a4c73ea",
       "style": "IPY_MODEL_09172e35522d4677b27d8ee495705e33"
      }
     },
     "5726448a684b4a6a8cdcccf75520e7e9": {
      "model_module": "@jupyter-widgets/controls",
      "model_module_version": "1.5.0",
      "model_name": "DescriptionStyleModel",
      "state": {
       "description_width": ""
      }
     },
     "573371f9ab85477ebbf581e21def31d4": {
      "model_module": "@jupyter-widgets/base",
      "model_module_version": "1.2.0",
      "model_name": "LayoutModel",
      "state": {}
     },
     "57404ddf48a14d49a914018ea37ebce3": {
      "model_module": "@jupyter-widgets/controls",
      "model_module_version": "1.5.0",
      "model_name": "DescriptionStyleModel",
      "state": {
       "description_width": ""
      }
     },
     "57503edb2e6a4318a46c48696fe192bf": {
      "model_module": "@jupyter-widgets/controls",
      "model_module_version": "1.5.0",
      "model_name": "DropdownModel",
      "state": {
       "_options_labels": [
        "Black",
        "Brown",
        "Buff",
        "Chocolate",
        "Green",
        "Orange",
        "Purple",
        "White",
        "Yellow"
       ],
       "description": "spore_print_color",
       "index": 0,
       "layout": "IPY_MODEL_2d46f6b06e134705b2ced8bcf99e729f",
       "style": "IPY_MODEL_57404ddf48a14d49a914018ea37ebce3"
      }
     },
     "575d30e1920648eb8d00d6c04da549f1": {
      "model_module": "@jupyter-widgets/controls",
      "model_module_version": "1.5.0",
      "model_name": "DropdownModel",
      "state": {
       "_options_labels": [
        "Bruises",
        "No Bruises"
       ],
       "description": "bruises",
       "index": 0,
       "layout": "IPY_MODEL_fa46050e304d42d8abbdb578a3842c71",
       "style": "IPY_MODEL_ae6685c42bd84d158d0e31df21c63526"
      }
     },
     "57638710143549d79dd78887f7ee4eb8": {
      "model_module": "@jupyter-widgets/base",
      "model_module_version": "1.2.0",
      "model_name": "LayoutModel",
      "state": {}
     },
     "57756023525d481492cf01159054daa7": {
      "model_module": "@jupyter-widgets/controls",
      "model_module_version": "1.5.0",
      "model_name": "DescriptionStyleModel",
      "state": {
       "description_width": ""
      }
     },
     "577981b7444a4c9f9ba0f6702b924d56": {
      "model_module": "@jupyter-widgets/controls",
      "model_module_version": "1.5.0",
      "model_name": "DropdownModel",
      "state": {
       "_options_labels": [
        "Bell",
        "Conical",
        "Convex",
        "Flat",
        "Knobbed",
        "Sunken"
       ],
       "description": "cap_shape",
       "index": 0,
       "layout": "IPY_MODEL_e1923f0f06b14eddacf7be619644ea9f",
       "style": "IPY_MODEL_4aaca6b8f1ea45289ea07b014a017f0e"
      }
     },
     "580e18189f26422c9d55224be03ab2d3": {
      "model_module": "@jupyter-widgets/controls",
      "model_module_version": "1.5.0",
      "model_name": "DescriptionStyleModel",
      "state": {
       "description_width": ""
      }
     },
     "5821a21656ce49f6a4d71f33b242274d": {
      "model_module": "@jupyter-widgets/controls",
      "model_module_version": "1.5.0",
      "model_name": "DropdownModel",
      "state": {
       "_options_labels": [
        "Cobwebby",
        "Evanescent",
        "Flaring",
        "Large",
        "None",
        "Pendant",
        "Sheathing",
        "Zone"
       ],
       "description": "ring_type",
       "index": 0,
       "layout": "IPY_MODEL_7b1f4b578cf6457c87a0dc67c5ae91c4",
       "style": "IPY_MODEL_329c91e57cbb406bb326d8e18e8f79df"
      }
     },
     "5861ffa02c5d4119a46fc21f242c1ec6": {
      "model_module": "@jupyter-widgets/controls",
      "model_module_version": "1.5.0",
      "model_name": "DropdownModel",
      "state": {
       "_options_labels": [
        "Attached",
        "Descending",
        "Free",
        "Notched"
       ],
       "description": "gill_attachment",
       "index": 0,
       "layout": "IPY_MODEL_d469eefb8cab488d95a62691c2ba5ce1",
       "style": "IPY_MODEL_59ca77421c7f46ff83245d284f851c8e"
      }
     },
     "5883bb23e5f447f58df512d4697e4478": {
      "model_module": "@jupyter-widgets/controls",
      "model_module_version": "1.5.0",
      "model_name": "DescriptionStyleModel",
      "state": {
       "description_width": ""
      }
     },
     "58941c8c4090416e82b800b838bf5605": {
      "model_module": "@jupyter-widgets/base",
      "model_module_version": "1.2.0",
      "model_name": "LayoutModel",
      "state": {}
     },
     "58b234c1f70a499dbf84d3c32d986b0e": {
      "model_module": "@jupyter-widgets/controls",
      "model_module_version": "1.5.0",
      "model_name": "DescriptionStyleModel",
      "state": {
       "description_width": ""
      }
     },
     "58b51d28e3e44e2a88203c7bc09bb3ae": {
      "model_module": "@jupyter-widgets/controls",
      "model_module_version": "1.5.0",
      "model_name": "DropdownModel",
      "state": {
       "_options_labels": [
        "Brown",
        "Buff",
        "Cinnamon",
        "Gray",
        "Orange",
        "Pink",
        "Red",
        "White",
        "Yellow"
       ],
       "description": "stalk_color_above_ring",
       "index": 7,
       "layout": "IPY_MODEL_20e339311b1f4b3a9d760d34660e6002",
       "style": "IPY_MODEL_44eda701514f4e2db5dd215098a5a42e"
      }
     },
     "58b5c16c4c0e44a0bd5c6d529b231558": {
      "model_module": "@jupyter-widgets/base",
      "model_module_version": "1.2.0",
      "model_name": "LayoutModel",
      "state": {}
     },
     "58c15dba2dda4939b245a9dc542107a2": {
      "model_module": "@jupyter-widgets/controls",
      "model_module_version": "1.5.0",
      "model_name": "DropdownModel",
      "state": {
       "_options_labels": [
        "Close",
        "Crowded"
       ],
       "description": "gill_spacing",
       "index": 0,
       "layout": "IPY_MODEL_6b92bade36424ee1877535205fe06c12",
       "style": "IPY_MODEL_4968168e7ab147808db908ff8a17cd85"
      }
     },
     "58f43751a44e43aa95f5f34febf61495": {
      "model_module": "@jupyter-widgets/controls",
      "model_module_version": "1.5.0",
      "model_name": "DescriptionStyleModel",
      "state": {
       "description_width": ""
      }
     },
     "5941bae4b5c64e349440484164466810": {
      "model_module": "@jupyter-widgets/controls",
      "model_module_version": "1.5.0",
      "model_name": "DescriptionStyleModel",
      "state": {
       "description_width": ""
      }
     },
     "599b98a72ffa4f39abc1a5719e913ae9": {
      "model_module": "@jupyter-widgets/controls",
      "model_module_version": "1.5.0",
      "model_name": "DescriptionStyleModel",
      "state": {
       "description_width": ""
      }
     },
     "59ca77421c7f46ff83245d284f851c8e": {
      "model_module": "@jupyter-widgets/controls",
      "model_module_version": "1.5.0",
      "model_name": "DescriptionStyleModel",
      "state": {
       "description_width": ""
      }
     },
     "5a53329ab5974779b6b7f0a07e2ca7b2": {
      "model_module": "@jupyter-widgets/controls",
      "model_module_version": "1.5.0",
      "model_name": "DescriptionStyleModel",
      "state": {
       "description_width": ""
      }
     },
     "5ac1c41f592c4fea954a65d9106f70f2": {
      "model_module": "@jupyter-widgets/controls",
      "model_module_version": "1.5.0",
      "model_name": "DropdownModel",
      "state": {
       "_options_labels": [
        "Bell",
        "Conical",
        "Convex",
        "Flat",
        "Knobbed",
        "Sunken"
       ],
       "description": "cap_shape",
       "index": 2,
       "layout": "IPY_MODEL_46c8c7e6c3f14261a646835db494f7d3",
       "style": "IPY_MODEL_c2b07739f3174a8ba9396307892bfa37"
      }
     },
     "5b3bc4dd2cfe4daf986a7fd875a83764": {
      "model_module": "@jupyter-widgets/controls",
      "model_module_version": "1.5.0",
      "model_name": "DropdownModel",
      "state": {
       "_options_labels": [
        "Close",
        "Crowded"
       ],
       "description": "gill_spacing",
       "index": 0,
       "layout": "IPY_MODEL_9fc06c22a85d40c09837663ec2eccb44",
       "style": "IPY_MODEL_0c323de0bfc64da2acd2ed202b2333d4"
      }
     },
     "5b52573875ec4aacace59ab757d47d9e": {
      "model_module": "@jupyter-widgets/controls",
      "model_module_version": "1.5.0",
      "model_name": "DropdownModel",
      "state": {
       "_options_labels": [
        "Bulbous",
        "Club",
        "Cup",
        "Equal",
        "Rhizomorphs",
        "Rooted",
        "Missing"
       ],
       "description": "stalk_root",
       "index": 0,
       "layout": "IPY_MODEL_4d0a1272fdb1468baa0c56cb470865b6",
       "style": "IPY_MODEL_9523090471d14a648fe3ff86b2e62086"
      }
     },
     "5b5e5ec2cd5b45c096661beaa954fcd8": {
      "model_module": "@jupyter-widgets/controls",
      "model_module_version": "1.5.0",
      "model_name": "DropdownModel",
      "state": {
       "_options_labels": [
        "Black",
        "Brown",
        "Buff",
        "Chocolate",
        "Gray",
        "Green",
        "Orange",
        "Pink",
        "Purple",
        "Red",
        "White",
        "Yellow"
       ],
       "description": "gill_color",
       "index": 0,
       "layout": "IPY_MODEL_5c04bae08b1f44438f2ccbcd5de1224d",
       "style": "IPY_MODEL_c8ce23b960cf43019f0efb4a8ecb128b"
      }
     },
     "5b6d2d5b1ae4406fbf735e05a9322560": {
      "model_module": "@jupyter-widgets/controls",
      "model_module_version": "1.5.0",
      "model_name": "DropdownModel",
      "state": {
       "_options_labels": [
        "Bell",
        "Conical",
        "Convex",
        "Flat",
        "Knobbed",
        "Sunken"
       ],
       "description": "cap_shape",
       "index": 0,
       "layout": "IPY_MODEL_8b267252901546d88ed5b883f2d86af9",
       "style": "IPY_MODEL_8190a367557f4ea18efab132c3200285"
      }
     },
     "5b8d34d2446c42a9a97b01a9b00ee1e6": {
      "model_module": "@jupyter-widgets/base",
      "model_module_version": "1.2.0",
      "model_name": "LayoutModel",
      "state": {}
     },
     "5ba3398a1e9a4697a45fb9637cf9519c": {
      "model_module": "@jupyter-widgets/controls",
      "model_module_version": "1.5.0",
      "model_name": "DescriptionStyleModel",
      "state": {
       "description_width": ""
      }
     },
     "5bb7516aa2404f8590e02a18ce8979c9": {
      "model_module": "@jupyter-widgets/base",
      "model_module_version": "1.2.0",
      "model_name": "LayoutModel",
      "state": {}
     },
     "5c04bae08b1f44438f2ccbcd5de1224d": {
      "model_module": "@jupyter-widgets/base",
      "model_module_version": "1.2.0",
      "model_name": "LayoutModel",
      "state": {}
     },
     "5c2fcfe7efc14de48bd601724e21a29f": {
      "model_module": "@jupyter-widgets/controls",
      "model_module_version": "1.5.0",
      "model_name": "DropdownModel",
      "state": {
       "_options_labels": [
        "Abundant",
        "Clustered",
        "Numerous",
        "Scattered",
        "Several",
        "Solitary"
       ],
       "description": "population",
       "index": 0,
       "layout": "IPY_MODEL_4f2483f550d947c68f74f01a0ba31c77",
       "style": "IPY_MODEL_da87821aca1d403f8feb2ccd8c2cb169"
      }
     },
     "5c4a659f9dbc4f55a5f5ae363a4c3e81": {
      "model_module": "@jupyter-widgets/controls",
      "model_module_version": "1.5.0",
      "model_name": "DescriptionStyleModel",
      "state": {
       "description_width": ""
      }
     },
     "5c68a9447c964be4a2db217941e4d70b": {
      "model_module": "@jupyter-widgets/base",
      "model_module_version": "1.2.0",
      "model_name": "LayoutModel",
      "state": {}
     },
     "5c6d07b74bbd402b96eee21d501bb6c4": {
      "model_module": "@jupyter-widgets/controls",
      "model_module_version": "1.5.0",
      "model_name": "DescriptionStyleModel",
      "state": {
       "description_width": ""
      }
     },
     "5c9b64eb66844a6595e6a0632ed45b33": {
      "model_module": "@jupyter-widgets/controls",
      "model_module_version": "1.5.0",
      "model_name": "DescriptionStyleModel",
      "state": {
       "description_width": ""
      }
     },
     "5cad6e3a2fb645d1b3c5f6b597ce539a": {
      "model_module": "@jupyter-widgets/controls",
      "model_module_version": "1.5.0",
      "model_name": "DropdownModel",
      "state": {
       "_options_labels": [
        "Black",
        "Brown",
        "Buff",
        "Chocolate",
        "Green",
        "Orange",
        "Purple",
        "White",
        "Yellow"
       ],
       "description": "spore_print_color",
       "index": 0,
       "layout": "IPY_MODEL_b04c4382855b45fbbff77fd1d1b29ac6",
       "style": "IPY_MODEL_ac425dbfaafe42d78999fe5466f8eb12"
      }
     },
     "5cf7b718a2e64a77aeed3d4c4364a108": {
      "model_module": "@jupyter-widgets/controls",
      "model_module_version": "1.5.0",
      "model_name": "DescriptionStyleModel",
      "state": {
       "description_width": ""
      }
     },
     "5d1095409f9e4ecb97ee62bed95dc609": {
      "model_module": "@jupyter-widgets/base",
      "model_module_version": "1.2.0",
      "model_name": "LayoutModel",
      "state": {}
     },
     "5d14a1abdfe14e7d912b2fd0f1b67bd2": {
      "model_module": "@jupyter-widgets/base",
      "model_module_version": "1.2.0",
      "model_name": "LayoutModel",
      "state": {}
     },
     "5d38bfb5ae354cf4a3840b81ce3f1667": {
      "model_module": "@jupyter-widgets/controls",
      "model_module_version": "1.5.0",
      "model_name": "DropdownModel",
      "state": {
       "_options_labels": [
        "Brown",
        "Buff",
        "Cinnamon",
        "Gray",
        "Green",
        "Pink",
        "Purple",
        "Red",
        "White",
        "Yellow"
       ],
       "description": "cap_color",
       "index": 0,
       "layout": "IPY_MODEL_17a78e719e144373ac723d60d80de0e4",
       "style": "IPY_MODEL_c873cd900de649e988a9b6474785ebb5"
      }
     },
     "5d66911f14da47fbba520127e5e32a55": {
      "model_module": "@jupyter-widgets/controls",
      "model_module_version": "1.5.0",
      "model_name": "DescriptionStyleModel",
      "state": {
       "description_width": ""
      }
     },
     "5d95415473994b45ad1548a6a77e6001": {
      "model_module": "@jupyter-widgets/base",
      "model_module_version": "1.2.0",
      "model_name": "LayoutModel",
      "state": {}
     },
     "5e536519bcc94c668275379b0b084368": {
      "model_module": "@jupyter-widgets/controls",
      "model_module_version": "1.5.0",
      "model_name": "DropdownModel",
      "state": {
       "_options_labels": [
        "Bulbous",
        "Club",
        "Cup",
        "Equal",
        "Rhizomorphs",
        "Rooted",
        "Missing"
       ],
       "description": "stalk_root",
       "index": 0,
       "layout": "IPY_MODEL_1c6606c3a6e642bd8a48728229bb820c",
       "style": "IPY_MODEL_c2cf0083f802428cb4c383a1ae6fb6a2"
      }
     },
     "5e6156d73e1e422f8513d34f2f108a3d": {
      "model_module": "@jupyter-widgets/controls",
      "model_module_version": "1.5.0",
      "model_name": "DropdownModel",
      "state": {
       "_options_labels": [
        "None",
        "One",
        "Two"
       ],
       "description": "ring_number",
       "index": 0,
       "layout": "IPY_MODEL_27a19718e1c640c484400418ccb94610",
       "style": "IPY_MODEL_8ada0a18351a42c08ab39a25f95eba2d"
      }
     },
     "5e8a18f05d0c41e5914a0ace4c6260ae": {
      "model_module": "@jupyter-widgets/controls",
      "model_module_version": "1.5.0",
      "model_name": "DescriptionStyleModel",
      "state": {
       "description_width": ""
      }
     },
     "5ea658546cb84fbb850ee8a09cd2898b": {
      "model_module": "@jupyter-widgets/base",
      "model_module_version": "1.2.0",
      "model_name": "LayoutModel",
      "state": {}
     },
     "5eaec0d16fa44374a6548d7cd8ae9280": {
      "model_module": "@jupyter-widgets/controls",
      "model_module_version": "1.5.0",
      "model_name": "DescriptionStyleModel",
      "state": {
       "description_width": ""
      }
     },
     "5ec064e2931f434b865ca27ff3f7dab6": {
      "model_module": "@jupyter-widgets/controls",
      "model_module_version": "1.5.0",
      "model_name": "DropdownModel",
      "state": {
       "_options_labels": [
        "Evanescent",
        "Flaring",
        "Large",
        "None",
        "Pendant",
        "Sheathing",
        "Zone"
       ],
       "description": "ring_type",
       "index": 0,
       "layout": "IPY_MODEL_b404fce79cfc40309248c12e5ea69a20",
       "style": "IPY_MODEL_c741e4239a6a48fa9b668d1308e6c8c6"
      }
     },
     "5ec8b672e64944faa52693a9578c2b35": {
      "model_module": "@jupyter-widgets/controls",
      "model_module_version": "1.5.0",
      "model_name": "DropdownModel",
      "state": {
       "_options_labels": [
        "Bruises",
        "No Bruises"
       ],
       "description": "bruises",
       "index": 0,
       "layout": "IPY_MODEL_e0f4a3d5a97844bfbc861dad0bf05592",
       "style": "IPY_MODEL_8f7f4669152d4166a03e8142eb8216ce"
      }
     },
     "5ed387c17d62496e8ef9588ed7d89b4f": {
      "model_module": "@jupyter-widgets/base",
      "model_module_version": "1.2.0",
      "model_name": "LayoutModel",
      "state": {}
     },
     "5f167e690a2f496e9765ec0bfae76f30": {
      "model_module": "@jupyter-widgets/controls",
      "model_module_version": "1.5.0",
      "model_name": "DescriptionStyleModel",
      "state": {
       "description_width": ""
      }
     },
     "5f1eab4c4d1e44c9a574f1ee2d279a01": {
      "model_module": "@jupyter-widgets/controls",
      "model_module_version": "1.5.0",
      "model_name": "DescriptionStyleModel",
      "state": {
       "description_width": ""
      }
     },
     "5f31d2d46d2543749ebef613f3d4c1f9": {
      "model_module": "@jupyter-widgets/controls",
      "model_module_version": "1.5.0",
      "model_name": "DropdownModel",
      "state": {
       "_options_labels": [
        "Grasses",
        "Leaves",
        "Meadows",
        "Paths",
        "Urban",
        "Waste",
        "Woods"
       ],
       "description": "habitat",
       "index": 0,
       "layout": "IPY_MODEL_5b8d34d2446c42a9a97b01a9b00ee1e6",
       "style": "IPY_MODEL_c06b2f3250a54e619da3b19e1bd54bc1"
      }
     },
     "5f558581d76844b2a10f8a355a16778f": {
      "model_module": "@jupyter-widgets/controls",
      "model_module_version": "1.5.0",
      "model_name": "DescriptionStyleModel",
      "state": {
       "description_width": ""
      }
     },
     "5fa3dc8212b3414bb280abe4961b03f4": {
      "model_module": "@jupyter-widgets/controls",
      "model_module_version": "1.5.0",
      "model_name": "DescriptionStyleModel",
      "state": {
       "description_width": ""
      }
     },
     "5fa3f14d3179409ab07794359ea8446a": {
      "model_module": "@jupyter-widgets/base",
      "model_module_version": "1.2.0",
      "model_name": "LayoutModel",
      "state": {}
     },
     "5fb523aad0f444d5ab086ce0d91f509a": {
      "model_module": "@jupyter-widgets/controls",
      "model_module_version": "1.5.0",
      "model_name": "DropdownModel",
      "state": {
       "_options_labels": [
        "Abundant",
        "Clustered",
        "Numerous",
        "Scattered",
        "Several",
        "Solitary"
       ],
       "description": "population",
       "index": 0,
       "layout": "IPY_MODEL_a1e18def77424de9a7529c4c0e636868",
       "style": "IPY_MODEL_cf19c1067f1d449f9a9fe4efbe23ad63"
      }
     },
     "5fc3f231d09540ea9722b81e58312ff3": {
      "model_module": "@jupyter-widgets/controls",
      "model_module_version": "1.5.0",
      "model_name": "DropdownModel",
      "state": {
       "_options_labels": [
        "Fiberous",
        "Scaly",
        "Silky",
        "Smooth"
       ],
       "description": "stalk_surface_above_ring",
       "index": 0,
       "layout": "IPY_MODEL_d33670d4361548cf8fa5f675c1cdfe3f",
       "style": "IPY_MODEL_d5c0da571b454dc39e4349c35aae84f9"
      }
     },
     "6019b09989a54ec0ad824306105e9f6e": {
      "model_module": "@jupyter-widgets/controls",
      "model_module_version": "1.5.0",
      "model_name": "DescriptionStyleModel",
      "state": {
       "description_width": ""
      }
     },
     "603e2a092bb041abab7b571fb31e995f": {
      "model_module": "@jupyter-widgets/base",
      "model_module_version": "1.2.0",
      "model_name": "LayoutModel",
      "state": {}
     },
     "606377e63d384c53a431af137fd204c6": {
      "model_module": "@jupyter-widgets/base",
      "model_module_version": "1.2.0",
      "model_name": "LayoutModel",
      "state": {}
     },
     "60c38a66527748418690fb782dd829bf": {
      "model_module": "@jupyter-widgets/controls",
      "model_module_version": "1.5.0",
      "model_name": "DropdownModel",
      "state": {
       "_options_labels": [
        "Abundant",
        "Clustered",
        "Numerous",
        "Scattered",
        "Several",
        "Solitary"
       ],
       "description": "population",
       "index": 4,
       "layout": "IPY_MODEL_92950d10a05047ed9339f939467494e1",
       "style": "IPY_MODEL_e4ded91457bd403abd52b369dd7ebaee"
      }
     },
     "60fe681d9a154823816105931d759b59": {
      "model_module": "@jupyter-widgets/base",
      "model_module_version": "1.2.0",
      "model_name": "LayoutModel",
      "state": {}
     },
     "611765b19fd2493abf15134046d0400c": {
      "model_module": "@jupyter-widgets/controls",
      "model_module_version": "1.5.0",
      "model_name": "DescriptionStyleModel",
      "state": {
       "description_width": ""
      }
     },
     "61237af3e5a140cdb749b90aa4a40199": {
      "model_module": "@jupyter-widgets/base",
      "model_module_version": "1.2.0",
      "model_name": "LayoutModel",
      "state": {}
     },
     "613de569e1be4bec82526bb603b89cc7": {
      "model_module": "@jupyter-widgets/controls",
      "model_module_version": "1.5.0",
      "model_name": "DescriptionStyleModel",
      "state": {
       "description_width": ""
      }
     },
     "617d164556164df88511f057a901bf2b": {
      "model_module": "@jupyter-widgets/base",
      "model_module_version": "1.2.0",
      "model_name": "LayoutModel",
      "state": {}
     },
     "619cb69abde9417594dc99bc83c59298": {
      "model_module": "@jupyter-widgets/controls",
      "model_module_version": "1.5.0",
      "model_name": "DropdownModel",
      "state": {
       "_options_labels": [
        "Black",
        "Brown",
        "Buff",
        "Chocolate",
        "Gray",
        "Green",
        "Orange",
        "Pink",
        "Purple",
        "Red",
        "White",
        "Yellow"
       ],
       "description": "gill_color",
       "index": 0,
       "layout": "IPY_MODEL_200e23d0d05244159337f504f5e65eab",
       "style": "IPY_MODEL_427b26445f5d4771b0e6698d9865b3f1"
      }
     },
     "61aa1257623b4fcc83f71af4eed554b5": {
      "model_module": "@jupyter-widgets/controls",
      "model_module_version": "1.5.0",
      "model_name": "DropdownModel",
      "state": {
       "_options_labels": [
        "Cobwebby",
        "Evanescent",
        "Flaring",
        "Large",
        "None",
        "Pendant",
        "Sheathing",
        "Zone"
       ],
       "description": "ring_type",
       "index": 0,
       "layout": "IPY_MODEL_71b763a4674e44a3aa1de618024c172f",
       "style": "IPY_MODEL_d70fd433409249a88479b09a753b5c53"
      }
     },
     "61ab25f3576d4a84918d05f780b09759": {
      "model_module": "@jupyter-widgets/controls",
      "model_module_version": "1.5.0",
      "model_name": "DropdownModel",
      "state": {
       "_options_labels": [
        "Brown",
        "Orange",
        "White",
        "Yellow"
       ],
       "description": "veil_color",
       "index": 0,
       "layout": "IPY_MODEL_f4130d06fa0741919a398a2cd658efdd",
       "style": "IPY_MODEL_7fb0b4e887b847bb9b47022a1866c17d"
      }
     },
     "61ad55c501e8458d8eda771cbe9988d5": {
      "model_module": "@jupyter-widgets/controls",
      "model_module_version": "1.5.0",
      "model_name": "DescriptionStyleModel",
      "state": {
       "description_width": ""
      }
     },
     "61d10c0d8d6a4691ac5b3d0747e91bcc": {
      "model_module": "@jupyter-widgets/controls",
      "model_module_version": "1.5.0",
      "model_name": "DescriptionStyleModel",
      "state": {
       "description_width": ""
      }
     },
     "62009ce518da41a8af0580be0f855128": {
      "model_module": "@jupyter-widgets/base",
      "model_module_version": "1.2.0",
      "model_name": "LayoutModel",
      "state": {}
     },
     "6233d996287244b09b88ae89d7c257d9": {
      "model_module": "@jupyter-widgets/controls",
      "model_module_version": "1.5.0",
      "model_name": "DescriptionStyleModel",
      "state": {
       "description_width": ""
      }
     },
     "62e6090b7a2a4da8ad734c75d4897065": {
      "model_module": "@jupyter-widgets/controls",
      "model_module_version": "1.5.0",
      "model_name": "DropdownModel",
      "state": {
       "_options_labels": [
        "Abundant",
        "Clustered",
        "Numerous",
        "Scattered",
        "Several",
        "Solitary"
       ],
       "description": "population",
       "index": 0,
       "layout": "IPY_MODEL_3cb1c5c95b2448119decb076e3b4015b",
       "style": "IPY_MODEL_50daf0473f414932b71a8d84a3825716"
      }
     },
     "6328db0ed5174438a72ff65558805b89": {
      "model_module": "@jupyter-widgets/base",
      "model_module_version": "1.2.0",
      "model_name": "LayoutModel",
      "state": {}
     },
     "63292046956f47429e2c492345e88b2f": {
      "model_module": "@jupyter-widgets/controls",
      "model_module_version": "1.5.0",
      "model_name": "DropdownModel",
      "state": {
       "_options_labels": [
        "Fiberous",
        "Grooves",
        "Scaly",
        "Smooth"
       ],
       "description": "cap_surface",
       "index": 0,
       "layout": "IPY_MODEL_1b08ceff9a0c4c7db67b4e4fc4b03435",
       "style": "IPY_MODEL_0c9bcef95fd14a5ca42d776a631a34e7"
      }
     },
     "634a8e7dc36b4792a275cbeae7a8f0e8": {
      "model_module": "@jupyter-widgets/base",
      "model_module_version": "1.2.0",
      "model_name": "LayoutModel",
      "state": {}
     },
     "63aa030484984d1fb813f1937e77a979": {
      "model_module": "@jupyter-widgets/controls",
      "model_module_version": "1.5.0",
      "model_name": "DropdownModel",
      "state": {
       "_options_labels": [
        "Evanescent",
        "Flaring",
        "Large",
        "None",
        "Pendant",
        "Sheathing",
        "Zone"
       ],
       "description": "ring_type",
       "index": 0,
       "layout": "IPY_MODEL_9b3eaa648ce2442688bcdb3ffcecbbed",
       "style": "IPY_MODEL_e7c528b9bf9040c88adf54ad45eaa98d"
      }
     },
     "63dea99f410c4b91a071303f417c3ce6": {
      "model_module": "@jupyter-widgets/controls",
      "model_module_version": "1.5.0",
      "model_name": "DropdownModel",
      "state": {
       "_options_labels": [
        "Bulbous",
        "Club",
        "Cup",
        "Equal",
        "Rhizomorphs",
        "Rooted",
        "Missing"
       ],
       "description": "stalk_root",
       "index": 0,
       "layout": "IPY_MODEL_d0cd97e0947a41098d05429ab1840cdb",
       "style": "IPY_MODEL_83b440c4071c4477a31d741ebccac96c"
      }
     },
     "64012a8c2c3e481f89b677e9c6601206": {
      "model_module": "@jupyter-widgets/output",
      "model_module_version": "1.0.0",
      "model_name": "OutputModel",
      "state": {
       "layout": "IPY_MODEL_d0c6550d4f0540a89c522b72876a4c9a",
       "outputs": [
        {
         "name": "stdout",
         "output_type": "stream",
         "text": "class\ne   NaN\np   NaN\ndtype: float64\n"
        },
        {
         "data": {
          "image/png": "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\n",
          "text/plain": "<Figure size 864x648 with 1 Axes>"
         },
         "metadata": {
          "needs_background": "light"
         },
         "output_type": "display_data"
        }
       ]
      }
     },
     "641a77f37b484bc2aa4718456641e19d": {
      "model_module": "@jupyter-widgets/controls",
      "model_module_version": "1.5.0",
      "model_name": "DropdownModel",
      "state": {
       "_options_labels": [
        "Fiberous",
        "Scaly",
        "Silky",
        "Smooth"
       ],
       "description": "stalk_surface_above_ring",
       "index": 0,
       "layout": "IPY_MODEL_a599e57689f441b598d3c6c5d2b2e54b",
       "style": "IPY_MODEL_9ce90f169df840f6ae4bfbb6bcc8a07a"
      }
     },
     "641ffde01d40479090835a92de6bbaa9": {
      "model_module": "@jupyter-widgets/base",
      "model_module_version": "1.2.0",
      "model_name": "LayoutModel",
      "state": {}
     },
     "6420368e4f1f492f9413b96fbe8c3e2f": {
      "model_module": "@jupyter-widgets/controls",
      "model_module_version": "1.5.0",
      "model_name": "DropdownModel",
      "state": {
       "_options_labels": [
        "Enlarging",
        "Tapering"
       ],
       "description": "stalk_shape",
       "index": 0,
       "layout": "IPY_MODEL_924d8b4c257e4e0496bf817afde3b199",
       "style": "IPY_MODEL_ab61a02f30cc43c58aa9c9810b0e4c66"
      }
     },
     "64a289c25b654559a0a71a4b9affe03e": {
      "model_module": "@jupyter-widgets/controls",
      "model_module_version": "1.5.0",
      "model_name": "DropdownModel",
      "state": {
       "_options_labels": [
        "Broad",
        "Narrow"
       ],
       "description": "gill_size",
       "index": 0,
       "layout": "IPY_MODEL_b0c980f334be478682e56ab431036edd",
       "style": "IPY_MODEL_b8e4ac2c10fd4da4ba3f72eb86b8646c"
      }
     },
     "64c1ffd2e2b94c998f1bfb8666bf2211": {
      "model_module": "@jupyter-widgets/controls",
      "model_module_version": "1.5.0",
      "model_name": "DropdownModel",
      "state": {
       "_options_labels": [
        "Fiberous",
        "Scaly",
        "Silky",
        "Smooth"
       ],
       "description": "stalk_surface_below_ring",
       "index": 2,
       "layout": "IPY_MODEL_6e030867f64c478aaeae11f0c2529770",
       "style": "IPY_MODEL_3a1427d6d64f40aaab996b72725978d4"
      }
     },
     "64ccc7afe1dc4b6e8b1f478d57686b6e": {
      "model_module": "@jupyter-widgets/controls",
      "model_module_version": "1.5.0",
      "model_name": "DropdownModel",
      "state": {
       "_options_labels": [
        "Close",
        "Crowded",
        "Distant"
       ],
       "description": "gill_spacing",
       "index": 0,
       "layout": "IPY_MODEL_8df53f439a604743b48ce1c2c3612187",
       "style": "IPY_MODEL_69bdfa4af1b04257933d4e37f0f06972"
      }
     },
     "64ce7a5405174bdd903dfaa274bd8e27": {
      "model_module": "@jupyter-widgets/base",
      "model_module_version": "1.2.0",
      "model_name": "LayoutModel",
      "state": {}
     },
     "64e724601b7e4db8adad89f443768388": {
      "model_module": "@jupyter-widgets/controls",
      "model_module_version": "1.5.0",
      "model_name": "DropdownModel",
      "state": {
       "_options_labels": [
        "Black",
        "Brown",
        "Buff",
        "Chocolate",
        "Green",
        "Orange",
        "Purple",
        "White",
        "Yellow"
       ],
       "description": "spore_print_color",
       "index": 0,
       "layout": "IPY_MODEL_d629f75c89534abbbc6248291a509808",
       "style": "IPY_MODEL_849acab268b64660b60ebaf7c1651c7e"
      }
     },
     "64edb7f6d34c47dfa80ba7483e2a0db5": {
      "model_module": "@jupyter-widgets/base",
      "model_module_version": "1.2.0",
      "model_name": "LayoutModel",
      "state": {}
     },
     "6595e88d0bae434eaba03abf82fbcc82": {
      "model_module": "@jupyter-widgets/controls",
      "model_module_version": "1.5.0",
      "model_name": "DropdownModel",
      "state": {
       "_options_labels": [
        "Brown",
        "Orange",
        "White",
        "Yellow"
       ],
       "description": "veil_color",
       "index": 0,
       "layout": "IPY_MODEL_c1f04f36a362472ca7297178f45693c8",
       "style": "IPY_MODEL_959cbb128d274b1e984500d4faff8fb2"
      }
     },
     "659c72e320a44e99834545dca184e87c": {
      "model_module": "@jupyter-widgets/base",
      "model_module_version": "1.2.0",
      "model_name": "LayoutModel",
      "state": {}
     },
     "65d04b17cbdf497bae605f722c990011": {
      "model_module": "@jupyter-widgets/base",
      "model_module_version": "1.2.0",
      "model_name": "LayoutModel",
      "state": {}
     },
     "65d5a60f2db84a078d3ed639509e5c8f": {
      "model_module": "@jupyter-widgets/base",
      "model_module_version": "1.2.0",
      "model_name": "LayoutModel",
      "state": {}
     },
     "6631c5ada822448fbab1432a71ed2aec": {
      "model_module": "@jupyter-widgets/controls",
      "model_module_version": "1.5.0",
      "model_name": "DropdownModel",
      "state": {
       "_options_labels": [
        "Brown",
        "Buff",
        "Cinnamon",
        "Gray",
        "Orange",
        "Pink",
        "Red",
        "White",
        "Yellow"
       ],
       "description": "stalk_color_above_ring",
       "index": 0,
       "layout": "IPY_MODEL_745c493c7cab4ad3a8675afca9f2d260",
       "style": "IPY_MODEL_e597bd6937a14222847b97ac175c9610"
      }
     },
     "66610fe0d3bd42ccb35ba432ed2e48e7": {
      "model_module": "@jupyter-widgets/base",
      "model_module_version": "1.2.0",
      "model_name": "LayoutModel",
      "state": {}
     },
     "6664de1a537846c6a33851a64d5ec8e1": {
      "model_module": "@jupyter-widgets/output",
      "model_module_version": "1.0.0",
      "model_name": "OutputModel",
      "state": {
       "layout": "IPY_MODEL_90a4ca2e9bbb4604b0cbad2aadf11fe8",
       "outputs": [
        {
         "name": "stdout",
         "output_type": "stream",
         "text": "Bruh\n"
        }
       ]
      }
     },
     "666617d1f2db4b0483b72c8a8d67ec87": {
      "model_module": "@jupyter-widgets/controls",
      "model_module_version": "1.5.0",
      "model_name": "DescriptionStyleModel",
      "state": {
       "description_width": ""
      }
     },
     "66bed134995a4f0ba26836d982d85e33": {
      "model_module": "@jupyter-widgets/controls",
      "model_module_version": "1.5.0",
      "model_name": "DropdownModel",
      "state": {
       "_options_labels": [
        "Fiberous",
        "Grooves",
        "Scaly",
        "Smooth"
       ],
       "description": "cap_surface",
       "index": 2,
       "layout": "IPY_MODEL_81ece41a974d42b3913c37de8b9e7d0a",
       "style": "IPY_MODEL_c4cc53d7ea4c452e95519cffbd376ef1"
      }
     },
     "66dd6861a80047f6a7cd1f8099d0a8f3": {
      "model_module": "@jupyter-widgets/controls",
      "model_module_version": "1.5.0",
      "model_name": "DescriptionStyleModel",
      "state": {
       "description_width": ""
      }
     },
     "66eb1c32361f4c278d287cbf0a2be613": {
      "model_module": "@jupyter-widgets/base",
      "model_module_version": "1.2.0",
      "model_name": "LayoutModel",
      "state": {}
     },
     "675fc09a2a554b33b7eba0790919ddd5": {
      "model_module": "@jupyter-widgets/base",
      "model_module_version": "1.2.0",
      "model_name": "LayoutModel",
      "state": {}
     },
     "677040c415604d1b83c7e3ab4ec4b779": {
      "model_module": "@jupyter-widgets/controls",
      "model_module_version": "1.5.0",
      "model_name": "DropdownModel",
      "state": {
       "_options_labels": [
        "Broad",
        "Narrow"
       ],
       "description": "gill_size",
       "index": 0,
       "layout": "IPY_MODEL_276b49f90d884ddca64d69cf45e376bf",
       "style": "IPY_MODEL_a8ac2786c27c4f34ad0690c0efbc1b46"
      }
     },
     "67860180f8f54def811004b1d9f1d9b9": {
      "model_module": "@jupyter-widgets/controls",
      "model_module_version": "1.5.0",
      "model_name": "DescriptionStyleModel",
      "state": {
       "description_width": ""
      }
     },
     "67a6d60279a949d3a0022282f43ebd55": {
      "model_module": "@jupyter-widgets/controls",
      "model_module_version": "1.5.0",
      "model_name": "VBoxModel",
      "state": {
       "_dom_classes": [
        "widget-interact"
       ],
       "children": [
        "IPY_MODEL_b7ec3818f5df4d9abd5896cfb34cd343",
        "IPY_MODEL_9627f8e237474d239209ce3c7f6debd6"
       ],
       "layout": "IPY_MODEL_fa28d3267f26494d8f6a0d60d1017831"
      }
     },
     "681312197ef549eb8caca712599bdfb3": {
      "model_module": "@jupyter-widgets/controls",
      "model_module_version": "1.5.0",
      "model_name": "DropdownModel",
      "state": {
       "_options_labels": [
        "Enlarging",
        "Tapering"
       ],
       "description": "stalk_shape",
       "index": 0,
       "layout": "IPY_MODEL_95e8b5f61e0b4d8187b19180801d5d7d",
       "style": "IPY_MODEL_d230a23b25e04f958855eb97989d2882"
      }
     },
     "681a2897575b4c91a9210462098d5795": {
      "model_module": "@jupyter-widgets/base",
      "model_module_version": "1.2.0",
      "model_name": "LayoutModel",
      "state": {}
     },
     "68228efbac3e474f91bea93e90738e45": {
      "model_module": "@jupyter-widgets/controls",
      "model_module_version": "1.5.0",
      "model_name": "DescriptionStyleModel",
      "state": {
       "description_width": ""
      }
     },
     "6825742d8981469a99785936a58c3576": {
      "model_module": "@jupyter-widgets/controls",
      "model_module_version": "1.5.0",
      "model_name": "DescriptionStyleModel",
      "state": {
       "description_width": ""
      }
     },
     "6882e637633d4761a343615231c803dd": {
      "model_module": "@jupyter-widgets/controls",
      "model_module_version": "1.5.0",
      "model_name": "DropdownModel",
      "state": {
       "_options_labels": [
        "Black",
        "Brown",
        "Buff",
        "Chocolate",
        "Gray",
        "Green",
        "Orange",
        "Pink",
        "Purple",
        "Red",
        "White",
        "Yellow"
       ],
       "description": "gill_color",
       "index": 0,
       "layout": "IPY_MODEL_606377e63d384c53a431af137fd204c6",
       "style": "IPY_MODEL_102baa7916134266aecb9bc35e6b1794"
      }
     },
     "68959243dd6349cf8b182511bf4311eb": {
      "model_module": "@jupyter-widgets/controls",
      "model_module_version": "1.5.0",
      "model_name": "DropdownModel",
      "state": {
       "_options_labels": [
        "Enlarging",
        "Tapering"
       ],
       "description": "stalk_shape",
       "index": 0,
       "layout": "IPY_MODEL_cdbc52692ba04a6caf70bb8f1a502acd",
       "style": "IPY_MODEL_ab4fce2564504d5b8866d1f0411bda4b"
      }
     },
     "68a1a45a02da483f9906bc2c2a285fdf": {
      "model_module": "@jupyter-widgets/controls",
      "model_module_version": "1.5.0",
      "model_name": "DescriptionStyleModel",
      "state": {
       "description_width": ""
      }
     },
     "68cde49ef9fb4436a5dd1814be018c32": {
      "model_module": "@jupyter-widgets/controls",
      "model_module_version": "1.5.0",
      "model_name": "DropdownModel",
      "state": {
       "_options_labels": [
        "Attached",
        "Descending",
        "Free",
        "Notched"
       ],
       "description": "gill_attachment",
       "index": 0,
       "layout": "IPY_MODEL_49d6cbd7ffde4b04a8d5457f227ab494",
       "style": "IPY_MODEL_437e33b3003b476ca2ce849c4b6ec309"
      }
     },
     "68f4dd3716364822b826781e447e4464": {
      "model_module": "@jupyter-widgets/controls",
      "model_module_version": "1.5.0",
      "model_name": "DescriptionStyleModel",
      "state": {
       "description_width": ""
      }
     },
     "6956220fda6b4dbb919905f7b0870382": {
      "model_module": "@jupyter-widgets/base",
      "model_module_version": "1.2.0",
      "model_name": "LayoutModel",
      "state": {}
     },
     "6976d2bc3e64482ea9fb9771bd2a35b7": {
      "model_module": "@jupyter-widgets/base",
      "model_module_version": "1.2.0",
      "model_name": "LayoutModel",
      "state": {}
     },
     "6986582206d5452ea0fcc857753e832c": {
      "model_module": "@jupyter-widgets/controls",
      "model_module_version": "1.5.0",
      "model_name": "DropdownModel",
      "state": {
       "_options_labels": [
        "Cobwebby",
        "Evanescent",
        "Flaring",
        "Large",
        "None",
        "Pendant",
        "Sheathing",
        "Zone"
       ],
       "description": "ring_type",
       "index": 0,
       "layout": "IPY_MODEL_f96c602b99764beab5f15cecbac30742",
       "style": "IPY_MODEL_3c8fb80ba5c94f0eb6a7fa995fede4fa"
      }
     },
     "69a7631a9dbd437e8c90f9017c49c5e6": {
      "model_module": "@jupyter-widgets/base",
      "model_module_version": "1.2.0",
      "model_name": "LayoutModel",
      "state": {}
     },
     "69b122aa3f4f40dfa88a54c2a866d475": {
      "model_module": "@jupyter-widgets/controls",
      "model_module_version": "1.5.0",
      "model_name": "DropdownModel",
      "state": {
       "_options_labels": [
        "Black",
        "Brown",
        "Buff",
        "Chocolate",
        "Gray",
        "Green",
        "Orange",
        "Pink",
        "Purple",
        "Red",
        "White",
        "Yellow"
       ],
       "description": "gill_color",
       "index": 0,
       "layout": "IPY_MODEL_edea64ef778c4b62afe9ae0e30244777",
       "style": "IPY_MODEL_7d8dad203c0c492e85c01f8b579d6ad6"
      }
     },
     "69bdfa4af1b04257933d4e37f0f06972": {
      "model_module": "@jupyter-widgets/controls",
      "model_module_version": "1.5.0",
      "model_name": "DescriptionStyleModel",
      "state": {
       "description_width": ""
      }
     },
     "69ef13c2b57b452287c98a6ba7c6dcf6": {
      "model_module": "@jupyter-widgets/base",
      "model_module_version": "1.2.0",
      "model_name": "LayoutModel",
      "state": {}
     },
     "69f319979af64474902c9f3bda96a03b": {
      "model_module": "@jupyter-widgets/controls",
      "model_module_version": "1.5.0",
      "model_name": "DropdownModel",
      "state": {
       "_options_labels": [
        "Enlarging",
        "Tapering"
       ],
       "description": "stalk_shape",
       "index": 0,
       "layout": "IPY_MODEL_b6d907f2717c4f7c83b9df35555fe933",
       "style": "IPY_MODEL_e9c3c56e514d4820aeca8e2a6e2c2aeb"
      }
     },
     "6a502c6127bc44f4885dd3a58dd15648": {
      "model_module": "@jupyter-widgets/controls",
      "model_module_version": "1.5.0",
      "model_name": "DropdownModel",
      "state": {
       "_options_labels": [
        "Fiberous",
        "Scaly",
        "Silky",
        "Smooth"
       ],
       "description": "stalk_surface_above_ring",
       "index": 0,
       "layout": "IPY_MODEL_17520f9f98164bf68f1e08e3c2782c0a",
       "style": "IPY_MODEL_f534e26adb3748ddb84680cf2fa71385"
      }
     },
     "6a744b5da9a2404caf5d0a5226066a93": {
      "model_module": "@jupyter-widgets/controls",
      "model_module_version": "1.5.0",
      "model_name": "DropdownModel",
      "state": {
       "_options_labels": [
        "Brown",
        "Orange",
        "White",
        "Yellow"
       ],
       "description": "veil_color",
       "index": 0,
       "layout": "IPY_MODEL_b4248edc03bf42efa3bcf5492a85dcb4",
       "style": "IPY_MODEL_d39318218d9949ff9c0b2995f807f7fa"
      }
     },
     "6aaf4cec973b481780b5e9a6890c458d": {
      "model_module": "@jupyter-widgets/base",
      "model_module_version": "1.2.0",
      "model_name": "LayoutModel",
      "state": {}
     },
     "6af0a3bfda224a24b7227aa38fb066ae": {
      "model_module": "@jupyter-widgets/base",
      "model_module_version": "1.2.0",
      "model_name": "LayoutModel",
      "state": {}
     },
     "6af9cbab727f4fefb46c696d7e9935e2": {
      "model_module": "@jupyter-widgets/controls",
      "model_module_version": "1.5.0",
      "model_name": "DescriptionStyleModel",
      "state": {
       "description_width": ""
      }
     },
     "6b2adfca95934dc1b917aba8164aa51d": {
      "model_module": "@jupyter-widgets/controls",
      "model_module_version": "1.5.0",
      "model_name": "DropdownModel",
      "state": {
       "_options_labels": [
        "None",
        "One",
        "Two"
       ],
       "description": "ring_number",
       "index": 0,
       "layout": "IPY_MODEL_4cfa13e0a6e54d2893b0813a42d1eab4",
       "style": "IPY_MODEL_e935daf652164806bc9c3f27c9720c4c"
      }
     },
     "6b5c61b39e564eda84758da2b122ce60": {
      "model_module": "@jupyter-widgets/base",
      "model_module_version": "1.2.0",
      "model_name": "LayoutModel",
      "state": {}
     },
     "6b92bade36424ee1877535205fe06c12": {
      "model_module": "@jupyter-widgets/base",
      "model_module_version": "1.2.0",
      "model_name": "LayoutModel",
      "state": {}
     },
     "6b9d983d0c9d47f7862a6dd7b0a2061d": {
      "model_module": "@jupyter-widgets/controls",
      "model_module_version": "1.5.0",
      "model_name": "DropdownModel",
      "state": {
       "_options_labels": [
        "Bell",
        "Conical",
        "Convex",
        "Flat",
        "Knobbed",
        "Sunken"
       ],
       "description": "cap_shape",
       "index": 0,
       "layout": "IPY_MODEL_2c0bf79c72fb413cb3845f3e914b42b7",
       "style": "IPY_MODEL_c730d892a50649baa3cd9661bdc7c948"
      }
     },
     "6bc3338665bd45fdaecb1295bd7703fe": {
      "model_module": "@jupyter-widgets/controls",
      "model_module_version": "1.5.0",
      "model_name": "DropdownModel",
      "state": {
       "_options_labels": [
        "Enlarging",
        "Tapering"
       ],
       "description": "stalk_shape",
       "index": 1,
       "layout": "IPY_MODEL_2501a3e77fc94d1a886b73ba471ba241",
       "style": "IPY_MODEL_f0389038ae534de0a4da67ee169c9ab0"
      }
     },
     "6bd08d4f3db94e02823f68f9689a4670": {
      "model_module": "@jupyter-widgets/controls",
      "model_module_version": "1.5.0",
      "model_name": "DescriptionStyleModel",
      "state": {
       "description_width": ""
      }
     },
     "6c2178bfd3e04da39d334650e43ef604": {
      "model_module": "@jupyter-widgets/controls",
      "model_module_version": "1.5.0",
      "model_name": "DropdownModel",
      "state": {
       "_options_labels": [
        "Partial",
        "Universal"
       ],
       "description": "veil_type",
       "index": 0,
       "layout": "IPY_MODEL_1d913429f6904049bb352e83b355a17d",
       "style": "IPY_MODEL_262ea98401524b97b57725129477bbba"
      }
     },
     "6c3580987d3342f8a596a598c29c4228": {
      "model_module": "@jupyter-widgets/controls",
      "model_module_version": "1.5.0",
      "model_name": "DescriptionStyleModel",
      "state": {
       "description_width": ""
      }
     },
     "6c65d40351794994a9d4981b59d0b27e": {
      "model_module": "@jupyter-widgets/controls",
      "model_module_version": "1.5.0",
      "model_name": "DropdownModel",
      "state": {
       "_options_labels": [
        "Attached",
        "Descending",
        "Free",
        "Notched"
       ],
       "description": "gill_attachment",
       "index": 0,
       "layout": "IPY_MODEL_9375309d401542208115171af83770d4",
       "style": "IPY_MODEL_7ec19db96e7445439bd434b8629c71d6"
      }
     },
     "6ce70770fcb4485c9d24d3ea5113c101": {
      "model_module": "@jupyter-widgets/controls",
      "model_module_version": "1.5.0",
      "model_name": "DescriptionStyleModel",
      "state": {
       "description_width": ""
      }
     },
     "6d1b3f79816942979009c197fd4029c2": {
      "model_module": "@jupyter-widgets/controls",
      "model_module_version": "1.5.0",
      "model_name": "DescriptionStyleModel",
      "state": {
       "description_width": ""
      }
     },
     "6d26858f5cc84dc1b03db8d98406fcce": {
      "model_module": "@jupyter-widgets/controls",
      "model_module_version": "1.5.0",
      "model_name": "DescriptionStyleModel",
      "state": {
       "description_width": ""
      }
     },
     "6d75efb0dbfd4fb7a758d0864c1c56dd": {
      "model_module": "@jupyter-widgets/controls",
      "model_module_version": "1.5.0",
      "model_name": "DescriptionStyleModel",
      "state": {
       "description_width": ""
      }
     },
     "6d8171c72b4d475db8c819b7d0981039": {
      "model_module": "@jupyter-widgets/base",
      "model_module_version": "1.2.0",
      "model_name": "LayoutModel",
      "state": {}
     },
     "6d8dc092238049ba934413c20e422751": {
      "model_module": "@jupyter-widgets/base",
      "model_module_version": "1.2.0",
      "model_name": "LayoutModel",
      "state": {}
     },
     "6e030867f64c478aaeae11f0c2529770": {
      "model_module": "@jupyter-widgets/base",
      "model_module_version": "1.2.0",
      "model_name": "LayoutModel",
      "state": {}
     },
     "6e10b0744e944ad1a3dac9c0ea32e4cf": {
      "model_module": "@jupyter-widgets/controls",
      "model_module_version": "1.5.0",
      "model_name": "DropdownModel",
      "state": {
       "_options_labels": [
        "Brown",
        "Orange",
        "White",
        "Yellow"
       ],
       "description": "veil_color",
       "index": 0,
       "layout": "IPY_MODEL_a1216df01a5547ec86f1138640a9f8ee",
       "style": "IPY_MODEL_3132e7bda0cf4217be9cb553159acb6d"
      }
     },
     "6e4599474bea494985129f273ce4f068": {
      "model_module": "@jupyter-widgets/controls",
      "model_module_version": "1.5.0",
      "model_name": "DescriptionStyleModel",
      "state": {
       "description_width": ""
      }
     },
     "6e4dbadf09d34b12bc3e6642f564f509": {
      "model_module": "@jupyter-widgets/controls",
      "model_module_version": "1.5.0",
      "model_name": "DescriptionStyleModel",
      "state": {
       "description_width": ""
      }
     },
     "6e6029515cd641aa9d5ebcacdff05c5c": {
      "model_module": "@jupyter-widgets/controls",
      "model_module_version": "1.5.0",
      "model_name": "VBoxModel",
      "state": {
       "_dom_classes": [
        "widget-interact"
       ],
       "children": [
        "IPY_MODEL_42b25453f63b49d68f053b29482a9cab",
        "IPY_MODEL_4c6b485d8c4a4ff689a50b687ea52bd6",
        "IPY_MODEL_97736dd3fdff4ff0a5bbdf97703697e9",
        "IPY_MODEL_f2968f7e40ed497db721f912ef0de76c",
        "IPY_MODEL_b1d654ffebbd49bb8ccd710cd1c8ffc2",
        "IPY_MODEL_fb12f6607120408aa01ee992391ddea8",
        "IPY_MODEL_4bdedb80bea743548a64e032175965cf",
        "IPY_MODEL_431f4485118c4cf6a0fc3c2c58ff27a3",
        "IPY_MODEL_87430fc79d2247249f2d3e4775157ef0",
        "IPY_MODEL_36f2400552dd4a0798907f1bb1981248",
        "IPY_MODEL_e5b9d0d5faa54448b6d8db78ca998837",
        "IPY_MODEL_acd84493c73a4951894ba0e15ed261d8",
        "IPY_MODEL_09bde46e722d42f388ba0a10af9e279a",
        "IPY_MODEL_bf08f26688ff4705a8638e6c145dc1b3",
        "IPY_MODEL_3110d5af01db48bfac36b78d1aea3f62",
        "IPY_MODEL_5461c120925a4f6eb34f123adaa02a83",
        "IPY_MODEL_e39adb1594044825a3aac3ccbcb016e8",
        "IPY_MODEL_5e6156d73e1e422f8513d34f2f108a3d",
        "IPY_MODEL_5ec064e2931f434b865ca27ff3f7dab6",
        "IPY_MODEL_d0409783b58744f4bc3efd2c784fa95a",
        "IPY_MODEL_a7a1f6a92b1c49eca65e7adbe3061250",
        "IPY_MODEL_cf66df75fbf84a36a77028597a9859ac",
        "IPY_MODEL_27256beadf6248999f0077135f996c36"
       ],
       "layout": "IPY_MODEL_cc01b1279f4242e5820367810856ad60"
      }
     },
     "6eb60a9c702744b5b2b7fa00935ebe99": {
      "model_module": "@jupyter-widgets/controls",
      "model_module_version": "1.5.0",
      "model_name": "DescriptionStyleModel",
      "state": {
       "description_width": ""
      }
     },
     "6f042a4e9c41428ea818749649ef8fd8": {
      "model_module": "@jupyter-widgets/controls",
      "model_module_version": "1.5.0",
      "model_name": "DropdownModel",
      "state": {
       "_options_labels": [
        "Brown",
        "Buff",
        "Cinnamon",
        "Gray",
        "Orange",
        "Pink",
        "Red",
        "White",
        "Yellow"
       ],
       "description": "stalk_color_above_ring",
       "index": 0,
       "layout": "IPY_MODEL_69ef13c2b57b452287c98a6ba7c6dcf6",
       "style": "IPY_MODEL_44a1a4098d6d4e5dbd0e1f3733cbb5ca"
      }
     },
     "6f056fa27bb74911983560a0963be3c1": {
      "model_module": "@jupyter-widgets/controls",
      "model_module_version": "1.5.0",
      "model_name": "DropdownModel",
      "state": {
       "_options_labels": [
        "Bell",
        "Conical",
        "Convex",
        "Flat",
        "Knobbed",
        "Sunken"
       ],
       "description": "cap_shape",
       "index": 0,
       "layout": "IPY_MODEL_28c5dbd830e24cb38d8aedb95da4144b",
       "style": "IPY_MODEL_4b53a5b4fc3f48a9be17a3efaba6eb85"
      }
     },
     "6f0ef9d2b93f4c40b90b8d9095784366": {
      "model_module": "@jupyter-widgets/controls",
      "model_module_version": "1.5.0",
      "model_name": "DescriptionStyleModel",
      "state": {
       "description_width": ""
      }
     },
     "6f13a51bea2345b08265922417402762": {
      "model_module": "@jupyter-widgets/controls",
      "model_module_version": "1.5.0",
      "model_name": "DescriptionStyleModel",
      "state": {
       "description_width": ""
      }
     },
     "6f586acb7b624cbfa78eb786bca11e5e": {
      "model_module": "@jupyter-widgets/controls",
      "model_module_version": "1.5.0",
      "model_name": "DescriptionStyleModel",
      "state": {
       "description_width": ""
      }
     },
     "6f62835f9df843ff81918545811786e8": {
      "model_module": "@jupyter-widgets/controls",
      "model_module_version": "1.5.0",
      "model_name": "DescriptionStyleModel",
      "state": {
       "description_width": ""
      }
     },
     "6f7280099e4e430da7a92860d40a6e18": {
      "model_module": "@jupyter-widgets/controls",
      "model_module_version": "1.5.0",
      "model_name": "DescriptionStyleModel",
      "state": {
       "description_width": ""
      }
     },
     "6f84828b426343398792ee15eb6efbaa": {
      "model_module": "@jupyter-widgets/controls",
      "model_module_version": "1.5.0",
      "model_name": "DropdownModel",
      "state": {
       "_options_labels": [
        "Brown",
        "Orange",
        "White",
        "Yellow"
       ],
       "description": "veil_color",
       "index": 0,
       "layout": "IPY_MODEL_db4c24c368194097870af07510ccfe21",
       "style": "IPY_MODEL_4ec33a9eb54b419b97bab6dd783bf93d"
      }
     },
     "6fc89d76090a441c977f751f88fbc261": {
      "model_module": "@jupyter-widgets/controls",
      "model_module_version": "1.5.0",
      "model_name": "DescriptionStyleModel",
      "state": {
       "description_width": ""
      }
     },
     "6fc9c5b43b104fe9926a0bbe11f829e9": {
      "model_module": "@jupyter-widgets/base",
      "model_module_version": "1.2.0",
      "model_name": "LayoutModel",
      "state": {}
     },
     "6fff8d5ad76d448197e44dc0be465f0f": {
      "model_module": "@jupyter-widgets/base",
      "model_module_version": "1.2.0",
      "model_name": "LayoutModel",
      "state": {}
     },
     "700593587059421a8a6659e04611a12a": {
      "model_module": "@jupyter-widgets/controls",
      "model_module_version": "1.5.0",
      "model_name": "DropdownModel",
      "state": {
       "_options_labels": [
        "Attached",
        "Descending",
        "Free",
        "Notched"
       ],
       "description": "gill_attachment",
       "index": 0,
       "layout": "IPY_MODEL_d19ddd5f110b40fd8078604ff0806d61",
       "style": "IPY_MODEL_dc6299b4528d4dd38dc528bc18af9741"
      }
     },
     "7008739c76f74d1792eee957696d4a46": {
      "model_module": "@jupyter-widgets/base",
      "model_module_version": "1.2.0",
      "model_name": "LayoutModel",
      "state": {}
     },
     "703f9669316547239d621efcb93d0ee1": {
      "model_module": "@jupyter-widgets/controls",
      "model_module_version": "1.5.0",
      "model_name": "DropdownModel",
      "state": {
       "_options_labels": [
        "Fiberous",
        "Grooves",
        "Scaly",
        "Smooth"
       ],
       "description": "cap_surface",
       "index": 0,
       "layout": "IPY_MODEL_cfe0a147585b49bcb30afbe02bf7cea3",
       "style": "IPY_MODEL_a8a5e06bdf414a7487a0f372944ad473"
      }
     },
     "706471b3c5c449e8a1130420d1f1da85": {
      "model_module": "@jupyter-widgets/base",
      "model_module_version": "1.2.0",
      "model_name": "LayoutModel",
      "state": {}
     },
     "718608409e044e23abe6d324fb028f91": {
      "model_module": "@jupyter-widgets/controls",
      "model_module_version": "1.5.0",
      "model_name": "DescriptionStyleModel",
      "state": {
       "description_width": ""
      }
     },
     "71b763a4674e44a3aa1de618024c172f": {
      "model_module": "@jupyter-widgets/base",
      "model_module_version": "1.2.0",
      "model_name": "LayoutModel",
      "state": {}
     },
     "71f7af80e4814ec88f6192d527a11784": {
      "model_module": "@jupyter-widgets/controls",
      "model_module_version": "1.5.0",
      "model_name": "DescriptionStyleModel",
      "state": {
       "description_width": ""
      }
     },
     "7210a3e614e8422580b070bad0b360f2": {
      "model_module": "@jupyter-widgets/controls",
      "model_module_version": "1.5.0",
      "model_name": "DescriptionStyleModel",
      "state": {
       "description_width": ""
      }
     },
     "722b36c60ab647caae6b02f4f925cbd5": {
      "model_module": "@jupyter-widgets/base",
      "model_module_version": "1.2.0",
      "model_name": "LayoutModel",
      "state": {}
     },
     "7240ed34ca0c40809bb362dfa5b2aacf": {
      "model_module": "@jupyter-widgets/controls",
      "model_module_version": "1.5.0",
      "model_name": "DescriptionStyleModel",
      "state": {
       "description_width": ""
      }
     },
     "7243bc0730c04686aa2287e74db026e3": {
      "model_module": "@jupyter-widgets/base",
      "model_module_version": "1.2.0",
      "model_name": "LayoutModel",
      "state": {}
     },
     "72722a3a7de74725828176291c7bf598": {
      "model_module": "@jupyter-widgets/controls",
      "model_module_version": "1.5.0",
      "model_name": "DescriptionStyleModel",
      "state": {
       "description_width": ""
      }
     },
     "72b5ddf7a4a24751b3c42484af1de8a4": {
      "model_module": "@jupyter-widgets/controls",
      "model_module_version": "1.5.0",
      "model_name": "DropdownModel",
      "state": {
       "_options_labels": [
        "Brown",
        "Buff",
        "Cinnamon",
        "Gray",
        "Orange",
        "Pink",
        "Red",
        "White",
        "Yellow"
       ],
       "description": "stalk_color_below_ring",
       "index": 0,
       "layout": "IPY_MODEL_23048fff8971432d8cf3fc92b2ff9ab6",
       "style": "IPY_MODEL_c19c6e4009514fc293d26671d4fbad0f"
      }
     },
     "72bc2b9d18e146f096ac6177e695ccbc": {
      "model_module": "@jupyter-widgets/base",
      "model_module_version": "1.2.0",
      "model_name": "LayoutModel",
      "state": {}
     },
     "72ca84b7facb4eb8a370204c10294656": {
      "model_module": "@jupyter-widgets/controls",
      "model_module_version": "1.5.0",
      "model_name": "DropdownModel",
      "state": {
       "_options_labels": [
        "Black",
        "Brown",
        "Buff",
        "Chocolate",
        "Gray",
        "Green",
        "Orange",
        "Pink",
        "Purple",
        "Red",
        "White",
        "Yellow"
       ],
       "description": "gill_color",
       "index": 0,
       "layout": "IPY_MODEL_8933a646578849ab9ae7870b10cda256",
       "style": "IPY_MODEL_1a83c4f165b44623968ea2bea0105770"
      }
     },
     "72f6c3b4ee904eabb9881d95dd4eb533": {
      "model_module": "@jupyter-widgets/controls",
      "model_module_version": "1.5.0",
      "model_name": "DropdownModel",
      "state": {
       "_options_labels": [
        "Almond",
        "Anise",
        "Creosote",
        "Fishy",
        "Foul",
        "Musty",
        "None",
        "Pungent",
        "Spicy"
       ],
       "description": "odor",
       "index": 0,
       "layout": "IPY_MODEL_1735737fa8b34ae792f17d07a9dfecf4",
       "style": "IPY_MODEL_d3d4d45dd63f440cb8ae155c3483df7c"
      }
     },
     "7303649d69364badb63f4564d39186da": {
      "model_module": "@jupyter-widgets/controls",
      "model_module_version": "1.5.0",
      "model_name": "DropdownModel",
      "state": {
       "_options_labels": [
        "Brown",
        "Buff",
        "Cinnamon",
        "Gray",
        "Orange",
        "Pink",
        "Red",
        "White",
        "Yellow"
       ],
       "description": "stalk_color_above_ring",
       "index": 7,
       "layout": "IPY_MODEL_f2d4c431017949ff997ecb30c89dabde",
       "style": "IPY_MODEL_ba84ac5346b0482cbdab4ff8c6d9b01e"
      }
     },
     "731baaf8536f413aac399bedc25c3f8d": {
      "model_module": "@jupyter-widgets/controls",
      "model_module_version": "1.5.0",
      "model_name": "DescriptionStyleModel",
      "state": {
       "description_width": ""
      }
     },
     "73540ab34a3845589367c4441df08cf7": {
      "model_module": "@jupyter-widgets/controls",
      "model_module_version": "1.5.0",
      "model_name": "DropdownModel",
      "state": {
       "_options_labels": [
        "None",
        "One",
        "Two"
       ],
       "description": "ring_number",
       "index": 0,
       "layout": "IPY_MODEL_4f03772ef2e8412db17a96fb0911dcab",
       "style": "IPY_MODEL_5883bb23e5f447f58df512d4697e4478"
      }
     },
     "739c4fad573d4c02bf936981ead0474a": {
      "model_module": "@jupyter-widgets/controls",
      "model_module_version": "1.5.0",
      "model_name": "DropdownModel",
      "state": {
       "_options_labels": [
        "None",
        "One",
        "Two"
       ],
       "description": "ring_number",
       "index": 0,
       "layout": "IPY_MODEL_12ade98bef484d5c8f856e3a73de92b4",
       "style": "IPY_MODEL_fce7910f75c0454f898fc40cdbf622d8"
      }
     },
     "73ef574d53584e04863858a714da8689": {
      "model_module": "@jupyter-widgets/controls",
      "model_module_version": "1.5.0",
      "model_name": "DescriptionStyleModel",
      "state": {
       "description_width": ""
      }
     },
     "73fa90d27b6c469dac90309fb9d4b720": {
      "model_module": "@jupyter-widgets/controls",
      "model_module_version": "1.5.0",
      "model_name": "DescriptionStyleModel",
      "state": {
       "description_width": ""
      }
     },
     "74596a8faeb149028a7b1c9c40e1d85e": {
      "model_module": "@jupyter-widgets/controls",
      "model_module_version": "1.5.0",
      "model_name": "DescriptionStyleModel",
      "state": {
       "description_width": ""
      }
     },
     "745c493c7cab4ad3a8675afca9f2d260": {
      "model_module": "@jupyter-widgets/base",
      "model_module_version": "1.2.0",
      "model_name": "LayoutModel",
      "state": {}
     },
     "746302805988456fba8cc7ecb08e770b": {
      "model_module": "@jupyter-widgets/controls",
      "model_module_version": "1.5.0",
      "model_name": "DescriptionStyleModel",
      "state": {
       "description_width": ""
      }
     },
     "74d93ace41764dc08a35f3b1d2850880": {
      "model_module": "@jupyter-widgets/base",
      "model_module_version": "1.2.0",
      "model_name": "LayoutModel",
      "state": {}
     },
     "74eaf752791448bc81c8c77e3532ca66": {
      "model_module": "@jupyter-widgets/base",
      "model_module_version": "1.2.0",
      "model_name": "LayoutModel",
      "state": {}
     },
     "74f2b9e290c8437daeb4030c4f34aeb7": {
      "model_module": "@jupyter-widgets/controls",
      "model_module_version": "1.5.0",
      "model_name": "DescriptionStyleModel",
      "state": {
       "description_width": ""
      }
     },
     "7501b0ea3a574499b6c0bd33cca0022f": {
      "model_module": "@jupyter-widgets/base",
      "model_module_version": "1.2.0",
      "model_name": "LayoutModel",
      "state": {}
     },
     "75096f2a5d4740de82cbf56cb6ab4a5c": {
      "model_module": "@jupyter-widgets/base",
      "model_module_version": "1.2.0",
      "model_name": "LayoutModel",
      "state": {}
     },
     "7549cc643ba34f83a1e106b2bfa43977": {
      "model_module": "@jupyter-widgets/base",
      "model_module_version": "1.2.0",
      "model_name": "LayoutModel",
      "state": {}
     },
     "7562adedd1d243e6905cad9f93cc3928": {
      "model_module": "@jupyter-widgets/base",
      "model_module_version": "1.2.0",
      "model_name": "LayoutModel",
      "state": {}
     },
     "7572969521fa4b35b4d55be3ca8ab782": {
      "model_module": "@jupyter-widgets/base",
      "model_module_version": "1.2.0",
      "model_name": "LayoutModel",
      "state": {}
     },
     "759f169eba4e4cf5bdddc940811b4cbe": {
      "model_module": "@jupyter-widgets/controls",
      "model_module_version": "1.5.0",
      "model_name": "DescriptionStyleModel",
      "state": {
       "description_width": ""
      }
     },
     "75cb639c4e3b40fc98f9326a8f7c9322": {
      "model_module": "@jupyter-widgets/base",
      "model_module_version": "1.2.0",
      "model_name": "LayoutModel",
      "state": {}
     },
     "760039a1d68f4c838d4febd17ffab970": {
      "model_module": "@jupyter-widgets/controls",
      "model_module_version": "1.5.0",
      "model_name": "DropdownModel",
      "state": {
       "_options_labels": [
        "Brown",
        "Buff",
        "Cinnamon",
        "Gray",
        "Orange",
        "Pink",
        "Red",
        "White",
        "Yellow"
       ],
       "description": "stalk_color_below_ring",
       "index": 0,
       "layout": "IPY_MODEL_ebcb8b1d8fa14f3aaac4252e86c463b2",
       "style": "IPY_MODEL_ac27287374454897aaf5c69a860fb8da"
      }
     },
     "7609d858e4e64b79b1108aadab0af60a": {
      "model_module": "@jupyter-widgets/base",
      "model_module_version": "1.2.0",
      "model_name": "LayoutModel",
      "state": {}
     },
     "76426d74bd25488283b11a3f4502f819": {
      "model_module": "@jupyter-widgets/controls",
      "model_module_version": "1.5.0",
      "model_name": "DescriptionStyleModel",
      "state": {
       "description_width": ""
      }
     },
     "767ace05a37245a098279b10943f2074": {
      "model_module": "@jupyter-widgets/base",
      "model_module_version": "1.2.0",
      "model_name": "LayoutModel",
      "state": {}
     },
     "76c5953b172243f0b2a0ed35036d6858": {
      "model_module": "@jupyter-widgets/controls",
      "model_module_version": "1.5.0",
      "model_name": "DescriptionStyleModel",
      "state": {
       "description_width": ""
      }
     },
     "76cc2f50c0854a70a8b551a5a58b1046": {
      "model_module": "@jupyter-widgets/controls",
      "model_module_version": "1.5.0",
      "model_name": "DescriptionStyleModel",
      "state": {
       "description_width": ""
      }
     },
     "76d3bdf2f40f4cd4b7a28439c7fa06ca": {
      "model_module": "@jupyter-widgets/controls",
      "model_module_version": "1.5.0",
      "model_name": "DropdownModel",
      "state": {
       "_options_labels": [
        "Enlarging",
        "Tapering"
       ],
       "description": "stalk_shape",
       "index": 0,
       "layout": "IPY_MODEL_acb74e289e784f56825df8448a624c20",
       "style": "IPY_MODEL_eef94cce68ea4be39ca87dcc62c91d83"
      }
     },
     "7726f1a34f8b4db583080caf1ab23357": {
      "model_module": "@jupyter-widgets/controls",
      "model_module_version": "1.5.0",
      "model_name": "DropdownModel",
      "state": {
       "_options_labels": [
        "Bell",
        "Conical",
        "Convex",
        "Flat",
        "Knobbed",
        "Sunken"
       ],
       "description": "cap_shape",
       "index": 0,
       "layout": "IPY_MODEL_e44b3589bc184f539efdb2ba963292e8",
       "style": "IPY_MODEL_79defccdbf9248638d6b54c628d2f426"
      }
     },
     "77457f234838495e8b5690e98b2b117d": {
      "model_module": "@jupyter-widgets/controls",
      "model_module_version": "1.5.0",
      "model_name": "DropdownModel",
      "state": {
       "_options_labels": [
        "Brown",
        "Buff",
        "Cinnamon",
        "Gray",
        "Orange",
        "Pink",
        "Red",
        "White",
        "Yellow"
       ],
       "description": "stalk_color_above_ring",
       "index": 0,
       "layout": "IPY_MODEL_1522989a713f415b9a4ee94cb8eafe52",
       "style": "IPY_MODEL_6233d996287244b09b88ae89d7c257d9"
      }
     },
     "77df6b62e37b45e198826cd5b3815641": {
      "model_module": "@jupyter-widgets/controls",
      "model_module_version": "1.5.0",
      "model_name": "DropdownModel",
      "state": {
       "_options_labels": [
        "Partial",
        "Universal"
       ],
       "description": "veil_type",
       "index": 0,
       "layout": "IPY_MODEL_b49a8847c2a34c40bb6cc564000ecbd2",
       "style": "IPY_MODEL_6f62835f9df843ff81918545811786e8"
      }
     },
     "77e4c78ca0c44069b57c7deea74d7f9f": {
      "model_module": "@jupyter-widgets/base",
      "model_module_version": "1.2.0",
      "model_name": "LayoutModel",
      "state": {}
     },
     "77ea7e29d9d440b58d8302f05ac32246": {
      "model_module": "@jupyter-widgets/base",
      "model_module_version": "1.2.0",
      "model_name": "LayoutModel",
      "state": {}
     },
     "781f39d318654f9295841f9a58e28931": {
      "model_module": "@jupyter-widgets/controls",
      "model_module_version": "1.5.0",
      "model_name": "DescriptionStyleModel",
      "state": {
       "description_width": ""
      }
     },
     "78c7be73f0744ebca4d610581ceddcef": {
      "model_module": "@jupyter-widgets/controls",
      "model_module_version": "1.5.0",
      "model_name": "DropdownModel",
      "state": {
       "_options_labels": [
        "Brown",
        "Buff",
        "Cinnamon",
        "Gray",
        "Orange",
        "Pink",
        "Red",
        "White",
        "Yellow"
       ],
       "description": "stalk_color_above_ring",
       "index": 0,
       "layout": "IPY_MODEL_54b8da495e544a1db4f5fbf70f8a4422",
       "style": "IPY_MODEL_9b8fc0fc3ad44b5390aa9dcc54a90fd9"
      }
     },
     "78ce2e035336402c8213fccbfbf65794": {
      "model_module": "@jupyter-widgets/controls",
      "model_module_version": "1.5.0",
      "model_name": "DropdownModel",
      "state": {
       "_options_labels": [
        "Brown",
        "Buff",
        "Cinnamon",
        "Gray",
        "Green",
        "Pink",
        "Purple",
        "Red",
        "White",
        "Yellow"
       ],
       "description": "cap_color",
       "index": 0,
       "layout": "IPY_MODEL_7e0c4af285494f98b9d41cea7e2dfbae",
       "style": "IPY_MODEL_4e4db9fc97ab478f90feab1002bc6f10"
      }
     },
     "79057f03ff4c47cfb0d17c8c166523d9": {
      "model_module": "@jupyter-widgets/controls",
      "model_module_version": "1.5.0",
      "model_name": "DescriptionStyleModel",
      "state": {
       "description_width": ""
      }
     },
     "790b0ae9c6a748128c5ea9fe303d76c4": {
      "model_module": "@jupyter-widgets/base",
      "model_module_version": "1.2.0",
      "model_name": "LayoutModel",
      "state": {}
     },
     "795005a13a4f4eafa7ea9e5af417db12": {
      "model_module": "@jupyter-widgets/base",
      "model_module_version": "1.2.0",
      "model_name": "LayoutModel",
      "state": {}
     },
     "797dc208116449b889f9fc17ff98d4f1": {
      "model_module": "@jupyter-widgets/controls",
      "model_module_version": "1.5.0",
      "model_name": "DescriptionStyleModel",
      "state": {
       "description_width": ""
      }
     },
     "798416ed111a470e93a4fd7358ec248a": {
      "model_module": "@jupyter-widgets/base",
      "model_module_version": "1.2.0",
      "model_name": "LayoutModel",
      "state": {}
     },
     "798d14bd207c4bd192b8d72c6fac5ced": {
      "model_module": "@jupyter-widgets/base",
      "model_module_version": "1.2.0",
      "model_name": "LayoutModel",
      "state": {}
     },
     "7993676d40244a1aaf6eee9cb9491714": {
      "model_module": "@jupyter-widgets/controls",
      "model_module_version": "1.5.0",
      "model_name": "DropdownModel",
      "state": {
       "_options_labels": [
        "Brown",
        "Buff",
        "Cinnamon",
        "Gray",
        "Orange",
        "Pink",
        "Red",
        "White",
        "Yellow"
       ],
       "description": "stalk_color_above_ring",
       "index": 0,
       "layout": "IPY_MODEL_ae34e721dc3b40599e900aecae4c9347",
       "style": "IPY_MODEL_6f586acb7b624cbfa78eb786bca11e5e"
      }
     },
     "79a4034b53dc47dab0e0dc73104152f5": {
      "model_module": "@jupyter-widgets/controls",
      "model_module_version": "1.5.0",
      "model_name": "DescriptionStyleModel",
      "state": {
       "description_width": ""
      }
     },
     "79defccdbf9248638d6b54c628d2f426": {
      "model_module": "@jupyter-widgets/controls",
      "model_module_version": "1.5.0",
      "model_name": "DescriptionStyleModel",
      "state": {
       "description_width": ""
      }
     },
     "7a0242c324924aa99924d6ce9a23b4e0": {
      "model_module": "@jupyter-widgets/base",
      "model_module_version": "1.2.0",
      "model_name": "LayoutModel",
      "state": {}
     },
     "7a3d19cb31294d1990358df2664696fc": {
      "model_module": "@jupyter-widgets/controls",
      "model_module_version": "1.5.0",
      "model_name": "DescriptionStyleModel",
      "state": {
       "description_width": ""
      }
     },
     "7a85f86baa644e22a09576f1b711e519": {
      "model_module": "@jupyter-widgets/controls",
      "model_module_version": "1.5.0",
      "model_name": "DropdownModel",
      "state": {
       "_options_labels": [
        "Bell",
        "Conical",
        "Convex",
        "Flat",
        "Knobbed",
        "Sunken"
       ],
       "description": "cap_shape",
       "index": 0,
       "layout": "IPY_MODEL_42a01f30f33e41e2a5785de5a3f48a82",
       "style": "IPY_MODEL_1736807f7ad042ed86f8c524e029399c"
      }
     },
     "7ae85e4c34674976a72d22f87808a877": {
      "model_module": "@jupyter-widgets/controls",
      "model_module_version": "1.5.0",
      "model_name": "DescriptionStyleModel",
      "state": {
       "description_width": ""
      }
     },
     "7afbb2d1aa8b4d6db66c167d3e1435ff": {
      "model_module": "@jupyter-widgets/base",
      "model_module_version": "1.2.0",
      "model_name": "LayoutModel",
      "state": {}
     },
     "7b1f4b578cf6457c87a0dc67c5ae91c4": {
      "model_module": "@jupyter-widgets/base",
      "model_module_version": "1.2.0",
      "model_name": "LayoutModel",
      "state": {}
     },
     "7b4cc7ec0ec54399aa7190dd176f2e71": {
      "model_module": "@jupyter-widgets/base",
      "model_module_version": "1.2.0",
      "model_name": "LayoutModel",
      "state": {}
     },
     "7b71f7c8e68d461e88e2a4922ce73494": {
      "model_module": "@jupyter-widgets/controls",
      "model_module_version": "1.5.0",
      "model_name": "DropdownModel",
      "state": {
       "_options_labels": [
        "Grasses",
        "Leaves",
        "Meadows",
        "Paths",
        "Urban",
        "Waste",
        "Woods"
       ],
       "description": "habitat",
       "index": 0,
       "layout": "IPY_MODEL_74d93ace41764dc08a35f3b1d2850880",
       "style": "IPY_MODEL_93e22af452ca47919d183c5bfa34569e"
      }
     },
     "7bdf83c99cdb4e7fb54d8e0e9f7aa6ce": {
      "model_module": "@jupyter-widgets/controls",
      "model_module_version": "1.5.0",
      "model_name": "DescriptionStyleModel",
      "state": {
       "description_width": ""
      }
     },
     "7c020b57009843aaa793adc5369a2e76": {
      "model_module": "@jupyter-widgets/controls",
      "model_module_version": "1.5.0",
      "model_name": "DropdownModel",
      "state": {
       "_options_labels": [
        "Fiberous",
        "Grooves",
        "Scaly",
        "Smooth"
       ],
       "description": "cap_surface",
       "index": 2,
       "layout": "IPY_MODEL_5201c0d3b52c46d7825129c49a4ca59d",
       "style": "IPY_MODEL_2f1e4cc94e9c4f2db20e59a89eed824e"
      }
     },
     "7c3599f5567b41b89f38e438cf9af24c": {
      "model_module": "@jupyter-widgets/controls",
      "model_module_version": "1.5.0",
      "model_name": "DescriptionStyleModel",
      "state": {
       "description_width": ""
      }
     },
     "7c47b9d0d4424a45acd77ce849413f6d": {
      "model_module": "@jupyter-widgets/controls",
      "model_module_version": "1.5.0",
      "model_name": "DescriptionStyleModel",
      "state": {
       "description_width": ""
      }
     },
     "7c53e96d2acb4d4da6da83dd8f39b806": {
      "model_module": "@jupyter-widgets/base",
      "model_module_version": "1.2.0",
      "model_name": "LayoutModel",
      "state": {}
     },
     "7ccc64187ad74c438c6324453faa03a3": {
      "model_module": "@jupyter-widgets/controls",
      "model_module_version": "1.5.0",
      "model_name": "DescriptionStyleModel",
      "state": {
       "description_width": ""
      }
     },
     "7d21c2e01cd2462c988f86be26c070c3": {
      "model_module": "@jupyter-widgets/controls",
      "model_module_version": "1.5.0",
      "model_name": "DropdownModel",
      "state": {
       "_options_labels": [
        "Broad",
        "Narrow"
       ],
       "description": "gill_size",
       "index": 0,
       "layout": "IPY_MODEL_036cc94cc8b04b7ab69584cdc30d28af",
       "style": "IPY_MODEL_052bb8a5877f41aa8cffa35ce6bb2de9"
      }
     },
     "7d27d71a0cf54f38944ab1eb67cd1123": {
      "model_module": "@jupyter-widgets/controls",
      "model_module_version": "1.5.0",
      "model_name": "DescriptionStyleModel",
      "state": {
       "description_width": ""
      }
     },
     "7d4bc4f07de848d48cfa3e659c45e14c": {
      "model_module": "@jupyter-widgets/controls",
      "model_module_version": "1.5.0",
      "model_name": "DropdownModel",
      "state": {
       "_options_labels": [
        "Bulbous",
        "Club",
        "Cup",
        "Equal",
        "Rhizomorphs",
        "Rooted",
        "Missing"
       ],
       "description": "stalk_root",
       "index": 0,
       "layout": "IPY_MODEL_7609d858e4e64b79b1108aadab0af60a",
       "style": "IPY_MODEL_568d2d713090430882106552f085c848"
      }
     },
     "7d4c8bd8b8614ec0a3cab4b240535215": {
      "model_module": "@jupyter-widgets/controls",
      "model_module_version": "1.5.0",
      "model_name": "DropdownModel",
      "state": {
       "_options_labels": [
        "Evanescent",
        "Flaring",
        "Large",
        "None",
        "Pendant",
        "Sheathing",
        "Zone"
       ],
       "description": "ring_type",
       "index": 0,
       "layout": "IPY_MODEL_9ff8b78c69fd402e843b6331582801c4",
       "style": "IPY_MODEL_f650068e20d14116a420151c8a14ac19"
      }
     },
     "7d8dad203c0c492e85c01f8b579d6ad6": {
      "model_module": "@jupyter-widgets/controls",
      "model_module_version": "1.5.0",
      "model_name": "DescriptionStyleModel",
      "state": {
       "description_width": ""
      }
     },
     "7d9dda31e1184cdd8b1a8ea800e2f904": {
      "model_module": "@jupyter-widgets/controls",
      "model_module_version": "1.5.0",
      "model_name": "DescriptionStyleModel",
      "state": {
       "description_width": ""
      }
     },
     "7dc94b4638234961a380e0090d98708e": {
      "model_module": "@jupyter-widgets/controls",
      "model_module_version": "1.5.0",
      "model_name": "DescriptionStyleModel",
      "state": {
       "description_width": ""
      }
     },
     "7e0c4af285494f98b9d41cea7e2dfbae": {
      "model_module": "@jupyter-widgets/base",
      "model_module_version": "1.2.0",
      "model_name": "LayoutModel",
      "state": {}
     },
     "7e61330a3ac44b5b930d4815fff78fe1": {
      "model_module": "@jupyter-widgets/controls",
      "model_module_version": "1.5.0",
      "model_name": "DescriptionStyleModel",
      "state": {
       "description_width": ""
      }
     },
     "7eb0c2e8bc5341b8afa6a4ff9179f0a1": {
      "model_module": "@jupyter-widgets/controls",
      "model_module_version": "1.5.0",
      "model_name": "DropdownModel",
      "state": {
       "_options_labels": [
        "Black",
        "Brown",
        "Buff",
        "Chocolate",
        "Green",
        "Orange",
        "Purple",
        "White",
        "Yellow"
       ],
       "description": "spore_print_color",
       "index": 0,
       "layout": "IPY_MODEL_f9c479dc310a4a5ebb1e86761f271f29",
       "style": "IPY_MODEL_f15e1545a2554e1592dffdf9d70531be"
      }
     },
     "7ec19db96e7445439bd434b8629c71d6": {
      "model_module": "@jupyter-widgets/controls",
      "model_module_version": "1.5.0",
      "model_name": "DescriptionStyleModel",
      "state": {
       "description_width": ""
      }
     },
     "7ef6ee741ca549ec970f9eafc037a645": {
      "model_module": "@jupyter-widgets/controls",
      "model_module_version": "1.5.0",
      "model_name": "DropdownModel",
      "state": {
       "_options_labels": [
        "Black",
        "Brown",
        "Buff",
        "Chocolate",
        "Green",
        "Orange",
        "Purple",
        "White",
        "Yellow"
       ],
       "description": "spore_print_color",
       "index": 0,
       "layout": "IPY_MODEL_5bb7516aa2404f8590e02a18ce8979c9",
       "style": "IPY_MODEL_39f21d0e602b494c943135727299f638"
      }
     },
     "7f511b28a37a4880b19b121a082cddf3": {
      "model_module": "@jupyter-widgets/base",
      "model_module_version": "1.2.0",
      "model_name": "LayoutModel",
      "state": {}
     },
     "7f5509c984dc45b7894bd4e07fc1f571": {
      "model_module": "@jupyter-widgets/controls",
      "model_module_version": "1.5.0",
      "model_name": "VBoxModel",
      "state": {
       "_dom_classes": [
        "widget-interact"
       ],
       "children": [
        "IPY_MODEL_de23ac759fcb44d4ae32602b5733a707",
        "IPY_MODEL_1070d1074c6745b2a398dda2dc68b6eb",
        "IPY_MODEL_be83d3d16be24fa1a3e203d4ae75f918",
        "IPY_MODEL_add035e1c0bf4acd89d40031a4562dc5",
        "IPY_MODEL_45b0fd8d163141f3875b32fbbf2df171",
        "IPY_MODEL_9d0bab6118414ae494dde035dff77e79",
        "IPY_MODEL_a13822efe13b40128d111d67afe77689",
        "IPY_MODEL_f431c43427914bb6a55d09329d5a0826",
        "IPY_MODEL_a5d6990d542545ac90072846108f0efc",
        "IPY_MODEL_76d3bdf2f40f4cd4b7a28439c7fa06ca",
        "IPY_MODEL_ed79f142dc664e96b86af44f54a21447",
        "IPY_MODEL_85886ccc6f004752a00e6d4e06bc34b7",
        "IPY_MODEL_4361817362974f839908ba89c4ea9489",
        "IPY_MODEL_a3b14d9bec6d49df8d793e3a3b79df69",
        "IPY_MODEL_c10ca95663f04c659c5da195c2c4a81d",
        "IPY_MODEL_6c2178bfd3e04da39d334650e43ef604",
        "IPY_MODEL_2a3a6a0fbad84ed8850f934e65f9357e",
        "IPY_MODEL_3f72c604ab1d4bdaac84dbd5352a6fc2",
        "IPY_MODEL_be5991eda4b746039a70dc9d33656b56",
        "IPY_MODEL_e93a827e769044ee9ee8382e0e614a01",
        "IPY_MODEL_1400edba666042e9a0ef03cff2e5c757",
        "IPY_MODEL_31beb45e81674df7822b1b3e55501c51",
        "IPY_MODEL_64012a8c2c3e481f89b677e9c6601206"
       ],
       "layout": "IPY_MODEL_49eab74a609b47ad84478e192e321f5d"
      }
     },
     "7f67e7f28eed46ddbe13237270a6820c": {
      "model_module": "@jupyter-widgets/controls",
      "model_module_version": "1.5.0",
      "model_name": "DropdownModel",
      "state": {
       "_options_labels": [
        "Brown",
        "Orange",
        "White",
        "Yellow"
       ],
       "description": "veil_color",
       "index": 0,
       "layout": "IPY_MODEL_81b09f2079c6447a939353f6fc4c4d3f",
       "style": "IPY_MODEL_c82ccaa9a20c4a358eb4356f02243baa"
      }
     },
     "7f6ac7129ba04185a92f1e8bc6bf3bf0": {
      "model_module": "@jupyter-widgets/controls",
      "model_module_version": "1.5.0",
      "model_name": "DropdownModel",
      "state": {
       "_options_labels": [
        "Bell",
        "Conical",
        "Convex",
        "Flat",
        "Knobbed",
        "Sunken"
       ],
       "description": "cap_shape",
       "index": 0,
       "layout": "IPY_MODEL_75096f2a5d4740de82cbf56cb6ab4a5c",
       "style": "IPY_MODEL_5e8a18f05d0c41e5914a0ace4c6260ae"
      }
     },
     "7f7ef5ee80244befad3d88bc76d438c4": {
      "model_module": "@jupyter-widgets/base",
      "model_module_version": "1.2.0",
      "model_name": "LayoutModel",
      "state": {}
     },
     "7f835b2195ba4f6c8e240063afac92df": {
      "model_module": "@jupyter-widgets/controls",
      "model_module_version": "1.5.0",
      "model_name": "DropdownModel",
      "state": {
       "_options_labels": [
        "Fiberous",
        "Scaly",
        "Silky",
        "Smooth"
       ],
       "description": "stalk_surface_above_ring",
       "index": 2,
       "layout": "IPY_MODEL_e858202670bd4678877b63851813d43f",
       "style": "IPY_MODEL_85d4fd450a724686b5b0e5cd3b3a7c10"
      }
     },
     "7fb0b4e887b847bb9b47022a1866c17d": {
      "model_module": "@jupyter-widgets/controls",
      "model_module_version": "1.5.0",
      "model_name": "DescriptionStyleModel",
      "state": {
       "description_width": ""
      }
     },
     "7fc9942808fc4f99a095d6ad83772d0b": {
      "model_module": "@jupyter-widgets/output",
      "model_module_version": "1.0.0",
      "model_name": "OutputModel",
      "state": {
       "layout": "IPY_MODEL_bd2cd7b91baf4bdd832d1a35a3d86bc8",
       "outputs": [
        {
         "name": "stdout",
         "output_type": "stream",
         "text": "Bruh\n"
        }
       ]
      }
     },
     "801e783f609d4c40a3fc9dd5b3e35994": {
      "model_module": "@jupyter-widgets/controls",
      "model_module_version": "1.5.0",
      "model_name": "DropdownModel",
      "state": {
       "_options_labels": [
        "Fiberous",
        "Grooves",
        "Scaly",
        "Smooth"
       ],
       "description": "cap_surface",
       "index": 0,
       "layout": "IPY_MODEL_7008739c76f74d1792eee957696d4a46",
       "style": "IPY_MODEL_13cb0cc9703348c6b9da857a815e8447"
      }
     },
     "804262ecae5843248e027e2103bfba1d": {
      "model_module": "@jupyter-widgets/controls",
      "model_module_version": "1.5.0",
      "model_name": "DescriptionStyleModel",
      "state": {
       "description_width": ""
      }
     },
     "805f4860109541c3ac91fe5ae38d150e": {
      "model_module": "@jupyter-widgets/base",
      "model_module_version": "1.2.0",
      "model_name": "LayoutModel",
      "state": {}
     },
     "80742019cded4626af3059379ffca602": {
      "model_module": "@jupyter-widgets/controls",
      "model_module_version": "1.5.0",
      "model_name": "DescriptionStyleModel",
      "state": {
       "description_width": ""
      }
     },
     "8081408285734c30a6787a106be1dac3": {
      "model_module": "@jupyter-widgets/controls",
      "model_module_version": "1.5.0",
      "model_name": "DescriptionStyleModel",
      "state": {
       "description_width": ""
      }
     },
     "809fb70d058443cfb5e238930c93a1ce": {
      "model_module": "@jupyter-widgets/controls",
      "model_module_version": "1.5.0",
      "model_name": "DescriptionStyleModel",
      "state": {
       "description_width": ""
      }
     },
     "80c3b04087284170ba653ebdb982d2e0": {
      "model_module": "@jupyter-widgets/base",
      "model_module_version": "1.2.0",
      "model_name": "LayoutModel",
      "state": {}
     },
     "81138edc19644db3af2b36265071c01d": {
      "model_module": "@jupyter-widgets/controls",
      "model_module_version": "1.5.0",
      "model_name": "DescriptionStyleModel",
      "state": {
       "description_width": ""
      }
     },
     "81150560920e4b8ea71df76d8ee90bf7": {
      "model_module": "@jupyter-widgets/base",
      "model_module_version": "1.2.0",
      "model_name": "LayoutModel",
      "state": {}
     },
     "8117df854eb2457e943123ae8591ca7e": {
      "model_module": "@jupyter-widgets/controls",
      "model_module_version": "1.5.0",
      "model_name": "VBoxModel",
      "state": {
       "_dom_classes": [
        "widget-interact"
       ],
       "children": [
        "IPY_MODEL_d1f49d7db5bb4208b74ae75d59e186b4",
        "IPY_MODEL_ec7128ebce1a44faa8a461fd3f811f3e",
        "IPY_MODEL_c5f27a26b6a74c7ba44494958d648654",
        "IPY_MODEL_3eb609adfe884f1d89df45c0ed68e83d",
        "IPY_MODEL_89e14dc1b26147fb9ab41055eb3aa192",
        "IPY_MODEL_147a697db793401cbd4521da0bb2f28b",
        "IPY_MODEL_36958fffd8c746539e103a1ef1851685",
        "IPY_MODEL_32bd8e606ee74279af4daf0a6437611b",
        "IPY_MODEL_68959243dd6349cf8b182511bf4311eb",
        "IPY_MODEL_c6ed8f67c5264f829fc13e45c637d852",
        "IPY_MODEL_fe8d7c9f76654294bbeb1a628aae8019",
        "IPY_MODEL_ba6dad377b6f4b5ebfc33f549fb6ad86",
        "IPY_MODEL_77457f234838495e8b5690e98b2b117d",
        "IPY_MODEL_e7f6bb8fd2b5492db7c6f2452aaad80c",
        "IPY_MODEL_2e025d9e1f8448b2b37486593ffa7f07",
        "IPY_MODEL_9e9f8ace37364665a6a6530a1d0338b7",
        "IPY_MODEL_449ef5a69e31458e9ddbbf9ca27745f1",
        "IPY_MODEL_6986582206d5452ea0fcc857753e832c",
        "IPY_MODEL_7eb0c2e8bc5341b8afa6a4ff9179f0a1",
        "IPY_MODEL_5c2fcfe7efc14de48bd601724e21a29f",
        "IPY_MODEL_bccce775ff1445c59b0df5228156066d",
        "IPY_MODEL_93973eafe491471d9d29abeabe24ec52"
       ],
       "layout": "IPY_MODEL_af3763bc53434215adc13e15bbf00f8c"
      }
     },
     "8140ea72f87848d1ae729c9e9d4b364d": {
      "model_module": "@jupyter-widgets/controls",
      "model_module_version": "1.5.0",
      "model_name": "DropdownModel",
      "state": {
       "_options_labels": [
        "Enlarging",
        "Tapering"
       ],
       "description": "stalk_shape",
       "index": 0,
       "layout": "IPY_MODEL_c0b47ddd7cf44ab4ad73c53d57cffebd",
       "style": "IPY_MODEL_c3b2dc21b8bb4ec8835b9e777c7d8cee"
      }
     },
     "8166326c228f4300ae5f5811fdaefd39": {
      "model_module": "@jupyter-widgets/controls",
      "model_module_version": "1.5.0",
      "model_name": "DropdownModel",
      "state": {
       "_options_labels": [
        "Fiberous",
        "Grooves",
        "Scaly",
        "Smooth"
       ],
       "description": "cap_surface",
       "index": 0,
       "layout": "IPY_MODEL_b00dff49f3454ee4b403ee0472728e6d",
       "style": "IPY_MODEL_2d061c7256244d89882d31194dcef6be"
      }
     },
     "8190a367557f4ea18efab132c3200285": {
      "model_module": "@jupyter-widgets/controls",
      "model_module_version": "1.5.0",
      "model_name": "DescriptionStyleModel",
      "state": {
       "description_width": ""
      }
     },
     "8192157c93024585a672840f6aa9b7e4": {
      "model_module": "@jupyter-widgets/controls",
      "model_module_version": "1.5.0",
      "model_name": "DropdownModel",
      "state": {
       "_options_labels": [
        "Close",
        "Crowded",
        "Distant"
       ],
       "description": "gill_spacing",
       "index": 0,
       "layout": "IPY_MODEL_fb71e417544242b9810397f7123ae1b4",
       "style": "IPY_MODEL_b5fcdd7f48384475aeb7e57716b8f9f9"
      }
     },
     "81a497bebe8b4b549ba8a55a55ecc183": {
      "model_module": "@jupyter-widgets/controls",
      "model_module_version": "1.5.0",
      "model_name": "DescriptionStyleModel",
      "state": {
       "description_width": ""
      }
     },
     "81b09f2079c6447a939353f6fc4c4d3f": {
      "model_module": "@jupyter-widgets/base",
      "model_module_version": "1.2.0",
      "model_name": "LayoutModel",
      "state": {}
     },
     "81dd0b8dc0b74b408de136401eb5cbdd": {
      "model_module": "@jupyter-widgets/controls",
      "model_module_version": "1.5.0",
      "model_name": "DescriptionStyleModel",
      "state": {
       "description_width": ""
      }
     },
     "81e7d5f071ea4732aac44815dd06db44": {
      "model_module": "@jupyter-widgets/controls",
      "model_module_version": "1.5.0",
      "model_name": "DescriptionStyleModel",
      "state": {
       "description_width": ""
      }
     },
     "81ece41a974d42b3913c37de8b9e7d0a": {
      "model_module": "@jupyter-widgets/base",
      "model_module_version": "1.2.0",
      "model_name": "LayoutModel",
      "state": {}
     },
     "82b83406e7e9453aa51fdf553dc61d2e": {
      "model_module": "@jupyter-widgets/controls",
      "model_module_version": "1.5.0",
      "model_name": "DropdownModel",
      "state": {
       "_options_labels": [
        "Partial",
        "Universal"
       ],
       "description": "veil_type",
       "index": 0,
       "layout": "IPY_MODEL_6b5c61b39e564eda84758da2b122ce60",
       "style": "IPY_MODEL_cbe5bb15e99f40919930939906b304ea"
      }
     },
     "82c5aa6e019f4b989c16f273ae08d157": {
      "model_module": "@jupyter-widgets/base",
      "model_module_version": "1.2.0",
      "model_name": "LayoutModel",
      "state": {}
     },
     "82d8d7cdbda74eda821448e9ce6942d1": {
      "model_module": "@jupyter-widgets/base",
      "model_module_version": "1.2.0",
      "model_name": "LayoutModel",
      "state": {}
     },
     "82e918484d9b4637975e92bce77438c4": {
      "model_module": "@jupyter-widgets/controls",
      "model_module_version": "1.5.0",
      "model_name": "DescriptionStyleModel",
      "state": {
       "description_width": ""
      }
     },
     "8302cf8e2a374150942035fc321bd178": {
      "model_module": "@jupyter-widgets/controls",
      "model_module_version": "1.5.0",
      "model_name": "DropdownModel",
      "state": {
       "_options_labels": [
        "Enlarging",
        "Tapering"
       ],
       "description": "stalk_shape",
       "index": 0,
       "layout": "IPY_MODEL_1eaa21f059eb4c168b37eb6f1bebfebf",
       "style": "IPY_MODEL_e0058d02fb7f4481970b7b3073db38b6"
      }
     },
     "83087af4f85f45b0aabd8fff895832c4": {
      "model_module": "@jupyter-widgets/controls",
      "model_module_version": "1.5.0",
      "model_name": "DescriptionStyleModel",
      "state": {
       "description_width": ""
      }
     },
     "83191aa2f4924953805646be5d8d4728": {
      "model_module": "@jupyter-widgets/base",
      "model_module_version": "1.2.0",
      "model_name": "LayoutModel",
      "state": {}
     },
     "8333f2e3810d49caac38a37b4d14235e": {
      "model_module": "@jupyter-widgets/controls",
      "model_module_version": "1.5.0",
      "model_name": "DropdownModel",
      "state": {
       "_options_labels": [
        "Grasses",
        "Leaves",
        "Meadows",
        "Paths",
        "Urban",
        "Waste",
        "Woods"
       ],
       "description": "habitat",
       "index": 5,
       "layout": "IPY_MODEL_efc8bd1e574e4772a22ba30e0e199854",
       "style": "IPY_MODEL_c4691c1e032f4ad1a2e67ba04ab7cf60"
      }
     },
     "836f16116db142d49d2f1112066c956d": {
      "model_module": "@jupyter-widgets/controls",
      "model_module_version": "1.5.0",
      "model_name": "DropdownModel",
      "state": {
       "_options_labels": [
        "None",
        "One",
        "Two"
       ],
       "description": "ring_number",
       "index": 0,
       "layout": "IPY_MODEL_f52d87a10c424f37b7f528baf44373d3",
       "style": "IPY_MODEL_5f1eab4c4d1e44c9a574f1ee2d279a01"
      }
     },
     "839bc766699b41ccb07935c164e5510f": {
      "model_module": "@jupyter-widgets/base",
      "model_module_version": "1.2.0",
      "model_name": "LayoutModel",
      "state": {}
     },
     "83ad3b859f60474490822fa017e89902": {
      "model_module": "@jupyter-widgets/controls",
      "model_module_version": "1.5.0",
      "model_name": "DescriptionStyleModel",
      "state": {
       "description_width": ""
      }
     },
     "83b440c4071c4477a31d741ebccac96c": {
      "model_module": "@jupyter-widgets/controls",
      "model_module_version": "1.5.0",
      "model_name": "DescriptionStyleModel",
      "state": {
       "description_width": ""
      }
     },
     "83bca6e003b04d219f82e67898123985": {
      "model_module": "@jupyter-widgets/controls",
      "model_module_version": "1.5.0",
      "model_name": "VBoxModel",
      "state": {
       "_dom_classes": [
        "widget-interact"
       ],
       "children": [
        "IPY_MODEL_ae144eaf5427447ab4c1d9496b60615e",
        "IPY_MODEL_a7cbb9bb918b45abb9d08fe430552d43",
        "IPY_MODEL_0fb54028c288452495cb4ee8e513cd2f",
        "IPY_MODEL_4332953e95924b30b9ed16f2471ccb5d",
        "IPY_MODEL_1dc93b214bf844209acc4dfd6a45bb20",
        "IPY_MODEL_95129494608c4ad49beee637ccddc29e",
        "IPY_MODEL_b136df4cdf4b402880dd44e56c19d8e9",
        "IPY_MODEL_8569a81d01fd4013aed61aa2052e1b1b",
        "IPY_MODEL_51cea003bab74dee847e899c8db5e75e",
        "IPY_MODEL_69f319979af64474902c9f3bda96a03b",
        "IPY_MODEL_2c9f1a2c26d34cad867c247900129b6f",
        "IPY_MODEL_d5ffed8c53a3431b9188f2b0fa551427",
        "IPY_MODEL_366dfb3cb1514d91a530a588328eca87",
        "IPY_MODEL_f2337a4ec7fa47a6ae30d5d7554dda3e",
        "IPY_MODEL_8b94db71cef64722a96517f28c0bf61b",
        "IPY_MODEL_3c0096ab1dc448b9988cb501dc95b3e2",
        "IPY_MODEL_52a6bf454a1146de99e768123905c721",
        "IPY_MODEL_1d9bf3e740a74c92a4c17e07e37d5154",
        "IPY_MODEL_2cc4212cdea74358a1581aa3d01565e8",
        "IPY_MODEL_3c6f5df4310348b8932ed35f79e5672a",
        "IPY_MODEL_ed74582b70b744a2bdf57b7616ca0897",
        "IPY_MODEL_c1afc7ca90ec412ab22344990ab3dfb8",
        "IPY_MODEL_ee1efc0e3f54466183c8bea12531a6fa"
       ],
       "layout": "IPY_MODEL_408adb8d01304c13905c620d0753d10a"
      }
     },
     "841538fd7d144c978586ccf626136ba8": {
      "model_module": "@jupyter-widgets/base",
      "model_module_version": "1.2.0",
      "model_name": "LayoutModel",
      "state": {}
     },
     "84212e8206c74004b120c56287e624fd": {
      "model_module": "@jupyter-widgets/controls",
      "model_module_version": "1.5.0",
      "model_name": "DescriptionStyleModel",
      "state": {
       "description_width": ""
      }
     },
     "8422bdc5375b4b5db9a2157e5b9d4164": {
      "model_module": "@jupyter-widgets/controls",
      "model_module_version": "1.5.0",
      "model_name": "DescriptionStyleModel",
      "state": {
       "description_width": ""
      }
     },
     "8487f039e0ed43b496220971dc4221c9": {
      "model_module": "@jupyter-widgets/base",
      "model_module_version": "1.2.0",
      "model_name": "LayoutModel",
      "state": {}
     },
     "849acab268b64660b60ebaf7c1651c7e": {
      "model_module": "@jupyter-widgets/controls",
      "model_module_version": "1.5.0",
      "model_name": "DescriptionStyleModel",
      "state": {
       "description_width": ""
      }
     },
     "84be5a0696624686a2d36bb4ceb599a1": {
      "model_module": "@jupyter-widgets/base",
      "model_module_version": "1.2.0",
      "model_name": "LayoutModel",
      "state": {}
     },
     "84be7b7db478445a94f6bf21357f607d": {
      "model_module": "@jupyter-widgets/base",
      "model_module_version": "1.2.0",
      "model_name": "LayoutModel",
      "state": {}
     },
     "84bf1caf525d41f18fce0fc4a3d43e3f": {
      "model_module": "@jupyter-widgets/controls",
      "model_module_version": "1.5.0",
      "model_name": "DescriptionStyleModel",
      "state": {
       "description_width": ""
      }
     },
     "853b7b83fe424daaa0a4848ac0069c77": {
      "model_module": "@jupyter-widgets/base",
      "model_module_version": "1.2.0",
      "model_name": "LayoutModel",
      "state": {}
     },
     "8569a81d01fd4013aed61aa2052e1b1b": {
      "model_module": "@jupyter-widgets/controls",
      "model_module_version": "1.5.0",
      "model_name": "DropdownModel",
      "state": {
       "_options_labels": [
        "Broad",
        "Narrow"
       ],
       "description": "gill_size",
       "index": 0,
       "layout": "IPY_MODEL_fbfbbb0ff37b4b0582b2a9b71c1cac80",
       "style": "IPY_MODEL_b705a5dbb3854deca6b3e7ca7cceda1b"
      }
     },
     "8576c441c010419f9a9201ac08028ca2": {
      "model_module": "@jupyter-widgets/controls",
      "model_module_version": "1.5.0",
      "model_name": "DropdownModel",
      "state": {
       "_options_labels": [
        "Brown",
        "Buff",
        "Cinnamon",
        "Gray",
        "Orange",
        "Pink",
        "Red",
        "White",
        "Yellow"
       ],
       "description": "stalk_color_below_ring",
       "index": 0,
       "layout": "IPY_MODEL_8eee35534dc94e748b43b4b22cecddd9",
       "style": "IPY_MODEL_c08c49d60c324d0099d113a2d1da1e35"
      }
     },
     "85886ccc6f004752a00e6d4e06bc34b7": {
      "model_module": "@jupyter-widgets/controls",
      "model_module_version": "1.5.0",
      "model_name": "DropdownModel",
      "state": {
       "_options_labels": [
        "Fiberous",
        "Scaly",
        "Silky",
        "Smooth"
       ],
       "description": "stalk_surface_above_ring",
       "index": 0,
       "layout": "IPY_MODEL_a079cab7d347433fb1bdcd95ff31cb2d",
       "style": "IPY_MODEL_e469801e0e5b4872a0d17d873ad4a5e7"
      }
     },
     "859bdd41e50d4d2897e7554be9d5dde5": {
      "model_module": "@jupyter-widgets/controls",
      "model_module_version": "1.5.0",
      "model_name": "VBoxModel",
      "state": {
       "_dom_classes": [
        "widget-interact"
       ],
       "children": [
        "IPY_MODEL_7f6ac7129ba04185a92f1e8bc6bf3bf0",
        "IPY_MODEL_fb7be8ab4ffe4356903b64f85cfbdebd",
        "IPY_MODEL_153418574af847048e2eee9c87ee47d1",
        "IPY_MODEL_03d79d7934e44230b40b813681ac9494",
        "IPY_MODEL_361cb067ab474f34826f8b32ec729646",
        "IPY_MODEL_f09250a93b0b45e796ce4967c4d1f8d8",
        "IPY_MODEL_58c15dba2dda4939b245a9dc542107a2",
        "IPY_MODEL_8efa32c2655d4da3bf147a258ee2918b",
        "IPY_MODEL_3f4d423028964784abd975e1f6f44492",
        "IPY_MODEL_a341ad017fd9456f93dde33bae9a5876",
        "IPY_MODEL_37ddd7bee3dc487cb182bd0b14f260a6",
        "IPY_MODEL_fd1851718fad419d8f408257827a412d",
        "IPY_MODEL_f1fe371965d4422e8cfd1eefa1ef056f",
        "IPY_MODEL_eb2b49d49ac647ec867f32e25d7e729c",
        "IPY_MODEL_dc986fd36aa6489dbfe18e3b5d201b24",
        "IPY_MODEL_ee3780fa92fe499ba04f94e83df460ac",
        "IPY_MODEL_6a744b5da9a2404caf5d0a5226066a93",
        "IPY_MODEL_ad1f9a4801fc44caa6239db32b4d9b74",
        "IPY_MODEL_9df3d653ba4843528fa11b7eaef4eafd",
        "IPY_MODEL_28967d742e71411d97fbe78c5d0bba8f",
        "IPY_MODEL_4c2242b30d8642d4a1d026a125546668",
        "IPY_MODEL_a38d8b8ecb3a4ad98076cdab3da53743",
        "IPY_MODEL_cbd3d2462968471f9d59238d474833c1"
       ],
       "layout": "IPY_MODEL_e5e6c3ee9f9e46cdae251abdc8432bb0"
      }
     },
     "85c5ef687d754132bebb59bd9e1cc4ec": {
      "model_module": "@jupyter-widgets/controls",
      "model_module_version": "1.5.0",
      "model_name": "DropdownModel",
      "state": {
       "_options_labels": [
        "Bulbous",
        "Club",
        "Cup",
        "Equal",
        "Rhizomorphs",
        "Rooted",
        "Missing"
       ],
       "description": "stalk_root",
       "index": 0,
       "layout": "IPY_MODEL_e31239fb2d7f4851a76d65bc5d606a6b",
       "style": "IPY_MODEL_a2f0757bdda24d1dae5aa6032e9335f8"
      }
     },
     "85d4fd450a724686b5b0e5cd3b3a7c10": {
      "model_module": "@jupyter-widgets/controls",
      "model_module_version": "1.5.0",
      "model_name": "DescriptionStyleModel",
      "state": {
       "description_width": ""
      }
     },
     "85dfa51a3d4047a3b39de475bcfe7219": {
      "model_module": "@jupyter-widgets/controls",
      "model_module_version": "1.5.0",
      "model_name": "DropdownModel",
      "state": {
       "_options_labels": [
        "Partial",
        "Universal"
       ],
       "description": "veil_type",
       "index": 0,
       "layout": "IPY_MODEL_f5a952a71fcf4c4ab974fc16e5c39042",
       "style": "IPY_MODEL_ffd80f3418e247ecb23996c05dc7d5a7"
      }
     },
     "85eab28d94d044c8842ac00f629ff30d": {
      "model_module": "@jupyter-widgets/base",
      "model_module_version": "1.2.0",
      "model_name": "LayoutModel",
      "state": {}
     },
     "860d8c1a89734600a22fb0e13b268da8": {
      "model_module": "@jupyter-widgets/controls",
      "model_module_version": "1.5.0",
      "model_name": "DropdownModel",
      "state": {
       "_options_labels": [
        "Brown",
        "Buff",
        "Cinnamon",
        "Gray",
        "Orange",
        "Pink",
        "Red",
        "White",
        "Yellow"
       ],
       "description": "stalk_color_below_ring",
       "index": 0,
       "layout": "IPY_MODEL_443d9b4e1fbc4bc9991ec5b5f0ece155",
       "style": "IPY_MODEL_cff26dbf937f4e5fb0304458a6b8c985"
      }
     },
     "8683e63c1cc64b1d83ed91c7ed45ee7a": {
      "model_module": "@jupyter-widgets/controls",
      "model_module_version": "1.5.0",
      "model_name": "DropdownModel",
      "state": {
       "_options_labels": [
        "Close",
        "Crowded",
        "Distant"
       ],
       "description": "gill_spacing",
       "index": 0,
       "layout": "IPY_MODEL_dda8a3dd297f449aae773979ff28b4ff",
       "style": "IPY_MODEL_599b98a72ffa4f39abc1a5719e913ae9"
      }
     },
     "868fcbc9104d4b68872117f9324ba3d5": {
      "model_module": "@jupyter-widgets/base",
      "model_module_version": "1.2.0",
      "model_name": "LayoutModel",
      "state": {}
     },
     "869622864cd94b08ae5024bf213ed468": {
      "model_module": "@jupyter-widgets/base",
      "model_module_version": "1.2.0",
      "model_name": "LayoutModel",
      "state": {}
     },
     "86a147ab67544311b00c954b93ca139d": {
      "model_module": "@jupyter-widgets/controls",
      "model_module_version": "1.5.0",
      "model_name": "DropdownModel",
      "state": {
       "_options_labels": [
        "Almond",
        "Anise",
        "Creosote",
        "Fishy",
        "Foul",
        "Musty",
        "None",
        "Pungent",
        "Spicy"
       ],
       "description": "odor",
       "index": 4,
       "layout": "IPY_MODEL_2ae3052fc21f4a31aa8d035d6a29d53b",
       "style": "IPY_MODEL_f6660f781b9b499582bbca785d88359a"
      }
     },
     "86be9c654f474894a4c8a280e37a692b": {
      "model_module": "@jupyter-widgets/base",
      "model_module_version": "1.2.0",
      "model_name": "LayoutModel",
      "state": {}
     },
     "86d7d5a714ea4f0ab4953930f24ff86a": {
      "model_module": "@jupyter-widgets/controls",
      "model_module_version": "1.5.0",
      "model_name": "DropdownModel",
      "state": {
       "_options_labels": [
        "Partial",
        "Universal"
       ],
       "description": "veil_type",
       "index": 0,
       "layout": "IPY_MODEL_01abaa0277b44acda29e71ef389bf8d5",
       "style": "IPY_MODEL_c85461f3513b4f89b0b3d011b9354026"
      }
     },
     "87009cc2d0f84ab4b3b4b66c110533ca": {
      "model_module": "@jupyter-widgets/controls",
      "model_module_version": "1.5.0",
      "model_name": "DescriptionStyleModel",
      "state": {
       "description_width": ""
      }
     },
     "8701d31aad7d4acb8c39a890e566e084": {
      "model_module": "@jupyter-widgets/base",
      "model_module_version": "1.2.0",
      "model_name": "LayoutModel",
      "state": {}
     },
     "87430fc79d2247249f2d3e4775157ef0": {
      "model_module": "@jupyter-widgets/controls",
      "model_module_version": "1.5.0",
      "model_name": "DropdownModel",
      "state": {
       "_options_labels": [
        "Black",
        "Brown",
        "Buff",
        "Chocolate",
        "Gray",
        "Green",
        "Orange",
        "Pink",
        "Purple",
        "Red",
        "White",
        "Yellow"
       ],
       "description": "gill_color",
       "index": 0,
       "layout": "IPY_MODEL_aaf24b5ac9ed4ea9aded747d279501fb",
       "style": "IPY_MODEL_3eb2183671454685983a78feebf656c0"
      }
     },
     "87442072b65c43ea81583cc39a62dcdd": {
      "model_module": "@jupyter-widgets/controls",
      "model_module_version": "1.5.0",
      "model_name": "DescriptionStyleModel",
      "state": {
       "description_width": ""
      }
     },
     "87547240e08a4a78847be5a073798ba8": {
      "model_module": "@jupyter-widgets/controls",
      "model_module_version": "1.5.0",
      "model_name": "DescriptionStyleModel",
      "state": {
       "description_width": ""
      }
     },
     "8754f388caed452795288a3b06276915": {
      "model_module": "@jupyter-widgets/base",
      "model_module_version": "1.2.0",
      "model_name": "LayoutModel",
      "state": {}
     },
     "87a30385aa864726b2c8ed92d7841185": {
      "model_module": "@jupyter-widgets/base",
      "model_module_version": "1.2.0",
      "model_name": "LayoutModel",
      "state": {}
     },
     "88215be09d6a4a53b5b4ccfffc1e02d6": {
      "model_module": "@jupyter-widgets/controls",
      "model_module_version": "1.5.0",
      "model_name": "VBoxModel",
      "state": {
       "_dom_classes": [
        "widget-interact"
       ],
       "children": [
        "IPY_MODEL_396dde32adb6497bb6b85979dfed607f",
        "IPY_MODEL_39e4666e01ce49d4af665c4d1c70e782",
        "IPY_MODEL_9cc1fe981b4643bf8da57d845a6a3e4d",
        "IPY_MODEL_aa2b9bedf9474e91bfb4cccda0ddae79",
        "IPY_MODEL_352f642daec94b349983237c95e43817",
        "IPY_MODEL_6c65d40351794994a9d4981b59d0b27e",
        "IPY_MODEL_56803ff0d0b04d81adeb9ffb0737fa76",
        "IPY_MODEL_c9f3cde2bd68493895caa3fe3a30cf2f",
        "IPY_MODEL_528ab20713cd44178dc0df5236caea1b",
        "IPY_MODEL_52646699f55549b6ace99d3de3a6fc95",
        "IPY_MODEL_ab7d159a48464131851e0236751616a8",
        "IPY_MODEL_adc62477141747d38419c20843f49a60",
        "IPY_MODEL_91b8cc364dd240b3966bef08ddd8521e",
        "IPY_MODEL_6f042a4e9c41428ea818749649ef8fd8",
        "IPY_MODEL_4011ed5e8e8646279b04c938e660703e",
        "IPY_MODEL_82b83406e7e9453aa51fdf553dc61d2e",
        "IPY_MODEL_516f0c15c1274388b049e129e903536f",
        "IPY_MODEL_f953cbee8e3a4766a892c68c5083b6e4",
        "IPY_MODEL_61aa1257623b4fcc83f71af4eed554b5",
        "IPY_MODEL_c3183a50f16d4b2e9f475ecc4556858c",
        "IPY_MODEL_dcb19fb757d84b41a22c2213dd23bcbd",
        "IPY_MODEL_7b71f7c8e68d461e88e2a4922ce73494",
        "IPY_MODEL_a335d49b100442118218c7c41b11195f"
       ],
       "layout": "IPY_MODEL_ed30aa72d18143e992e4c16ef0cade83"
      }
     },
     "882957b4b1f4484789fe60927c72c312": {
      "model_module": "@jupyter-widgets/base",
      "model_module_version": "1.2.0",
      "model_name": "LayoutModel",
      "state": {}
     },
     "88317968ca5f41569466031cbb375325": {
      "model_module": "@jupyter-widgets/base",
      "model_module_version": "1.2.0",
      "model_name": "LayoutModel",
      "state": {}
     },
     "8856ca35c7ca4146a101d82c04f1ea08": {
      "model_module": "@jupyter-widgets/controls",
      "model_module_version": "1.5.0",
      "model_name": "DropdownModel",
      "state": {
       "_options_labels": [
        "Bruises",
        "No Bruises"
       ],
       "description": "bruises",
       "index": 0,
       "layout": "IPY_MODEL_12085078019f4ebfb3a4b7cb72fb1bce",
       "style": "IPY_MODEL_9d3ee74596ed4b9f84179da29cf18f2f"
      }
     },
     "88620f432e11438380935a45e35f8eaa": {
      "model_module": "@jupyter-widgets/controls",
      "model_module_version": "1.5.0",
      "model_name": "DropdownModel",
      "state": {
       "_options_labels": [
        "Bulbous",
        "Club",
        "Cup",
        "Equal",
        "Rhizomorphs",
        "Rooted",
        "Missing"
       ],
       "description": "stalk_root",
       "index": 0,
       "layout": "IPY_MODEL_97c2c5f49ebc4819b2f806d1933dfe00",
       "style": "IPY_MODEL_0e67659137834c2a95236a3dde62557a"
      }
     },
     "88a89d648c524f838e205336b87fec8b": {
      "model_module": "@jupyter-widgets/base",
      "model_module_version": "1.2.0",
      "model_name": "LayoutModel",
      "state": {}
     },
     "88acd72c7bad4228bb8c66e3840b6e3f": {
      "model_module": "@jupyter-widgets/controls",
      "model_module_version": "1.5.0",
      "model_name": "DescriptionStyleModel",
      "state": {
       "description_width": ""
      }
     },
     "88b05801ffe1431a92b56e902d0f6cac": {
      "model_module": "@jupyter-widgets/base",
      "model_module_version": "1.2.0",
      "model_name": "LayoutModel",
      "state": {}
     },
     "88e6f3f4015b4ea19512142c1258e0ea": {
      "model_module": "@jupyter-widgets/controls",
      "model_module_version": "1.5.0",
      "model_name": "DropdownModel",
      "state": {
       "_options_labels": [
        "Black",
        "Brown",
        "Buff",
        "Chocolate",
        "Gray",
        "Green",
        "Orange",
        "Pink",
        "Purple",
        "Red",
        "White",
        "Yellow"
       ],
       "description": "gill_color",
       "index": 2,
       "layout": "IPY_MODEL_3b33427ba08145ebbe467d595e67dab9",
       "style": "IPY_MODEL_5cf7b718a2e64a77aeed3d4c4364a108"
      }
     },
     "891830d447d4477994b5e043946390d9": {
      "model_module": "@jupyter-widgets/controls",
      "model_module_version": "1.5.0",
      "model_name": "DescriptionStyleModel",
      "state": {
       "description_width": ""
      }
     },
     "8933a646578849ab9ae7870b10cda256": {
      "model_module": "@jupyter-widgets/base",
      "model_module_version": "1.2.0",
      "model_name": "LayoutModel",
      "state": {}
     },
     "893d052304874bc19ac4eccee7671485": {
      "model_module": "@jupyter-widgets/base",
      "model_module_version": "1.2.0",
      "model_name": "LayoutModel",
      "state": {}
     },
     "8954bf7f3adb4421ac36979eb956404d": {
      "model_module": "@jupyter-widgets/controls",
      "model_module_version": "1.5.0",
      "model_name": "DropdownModel",
      "state": {
       "_options_labels": [
        "Brown",
        "Buff",
        "Cinnamon",
        "Gray",
        "Green",
        "Pink",
        "Purple",
        "Red",
        "White",
        "Yellow"
       ],
       "description": "cap_color",
       "index": 0,
       "layout": "IPY_MODEL_65d04b17cbdf497bae605f722c990011",
       "style": "IPY_MODEL_7210a3e614e8422580b070bad0b360f2"
      }
     },
     "89e14dc1b26147fb9ab41055eb3aa192": {
      "model_module": "@jupyter-widgets/controls",
      "model_module_version": "1.5.0",
      "model_name": "DropdownModel",
      "state": {
       "_options_labels": [
        "Almond",
        "Anise",
        "Creosote",
        "Fishy",
        "Foul",
        "Musty",
        "None",
        "Pungent",
        "Spicy"
       ],
       "description": "odor",
       "index": 0,
       "layout": "IPY_MODEL_27b266116a254b7498d8b3a7f3b4f1a7",
       "style": "IPY_MODEL_219d6a5b17ef43d4bedb4c94cd45855c"
      }
     },
     "8a79d8b8f0c0418e8fde09befbf73ed6": {
      "model_module": "@jupyter-widgets/base",
      "model_module_version": "1.2.0",
      "model_name": "LayoutModel",
      "state": {}
     },
     "8ab2a8af08684476905b0700db241b99": {
      "model_module": "@jupyter-widgets/controls",
      "model_module_version": "1.5.0",
      "model_name": "DescriptionStyleModel",
      "state": {
       "description_width": ""
      }
     },
     "8ada0a18351a42c08ab39a25f95eba2d": {
      "model_module": "@jupyter-widgets/controls",
      "model_module_version": "1.5.0",
      "model_name": "DescriptionStyleModel",
      "state": {
       "description_width": ""
      }
     },
     "8b04199f14fa4b769db2496c4d3b695e": {
      "model_module": "@jupyter-widgets/controls",
      "model_module_version": "1.5.0",
      "model_name": "DescriptionStyleModel",
      "state": {
       "description_width": ""
      }
     },
     "8b267252901546d88ed5b883f2d86af9": {
      "model_module": "@jupyter-widgets/base",
      "model_module_version": "1.2.0",
      "model_name": "LayoutModel",
      "state": {}
     },
     "8b2e4df35fdd46c7b31d173212943708": {
      "model_module": "@jupyter-widgets/output",
      "model_module_version": "1.0.0",
      "model_name": "OutputModel",
      "state": {
       "layout": "IPY_MODEL_a9059bb4251b442090d37694978122a4",
       "outputs": [
        {
         "name": "stdout",
         "output_type": "stream",
         "text": "class\ne    0.0\np    1.0\ndtype: float64\nMost Likely class: p\n"
        }
       ]
      }
     },
     "8b335cb5bb6543ac9813625840283d27": {
      "model_module": "@jupyter-widgets/base",
      "model_module_version": "1.2.0",
      "model_name": "LayoutModel",
      "state": {}
     },
     "8b493f82ef6341aabfa5ec63bdfd14ad": {
      "model_module": "@jupyter-widgets/controls",
      "model_module_version": "1.5.0",
      "model_name": "DropdownModel",
      "state": {
       "_options_labels": [
        "None",
        "One",
        "Two"
       ],
       "description": "ring_number",
       "index": 0,
       "layout": "IPY_MODEL_72bc2b9d18e146f096ac6177e695ccbc",
       "style": "IPY_MODEL_b45703a83c194cb6be80df5abe53f4e7"
      }
     },
     "8b6a806ea69b4829be5a5d9fdd3828f1": {
      "model_module": "@jupyter-widgets/base",
      "model_module_version": "1.2.0",
      "model_name": "LayoutModel",
      "state": {}
     },
     "8b7dd99529764cc6bbe2003e18057f31": {
      "model_module": "@jupyter-widgets/controls",
      "model_module_version": "1.5.0",
      "model_name": "DescriptionStyleModel",
      "state": {
       "description_width": ""
      }
     },
     "8b940c3b3a474e4085ce9918f20e21ac": {
      "model_module": "@jupyter-widgets/controls",
      "model_module_version": "1.5.0",
      "model_name": "DescriptionStyleModel",
      "state": {
       "description_width": ""
      }
     },
     "8b94db71cef64722a96517f28c0bf61b": {
      "model_module": "@jupyter-widgets/controls",
      "model_module_version": "1.5.0",
      "model_name": "DropdownModel",
      "state": {
       "_options_labels": [
        "Brown",
        "Buff",
        "Cinnamon",
        "Gray",
        "Orange",
        "Pink",
        "Red",
        "White",
        "Yellow"
       ],
       "description": "stalk_color_below_ring",
       "index": 0,
       "layout": "IPY_MODEL_dd4a534a10834c2485bcc31c6fac404f",
       "style": "IPY_MODEL_9a065e13b62f40ecb2b9eb31d32c0b2c"
      }
     },
     "8bb52919c48f4cba86ab247d7db5cdf5": {
      "model_module": "@jupyter-widgets/controls",
      "model_module_version": "1.5.0",
      "model_name": "DescriptionStyleModel",
      "state": {
       "description_width": ""
      }
     },
     "8bde1642db2b4659b37904383946dc74": {
      "model_module": "@jupyter-widgets/base",
      "model_module_version": "1.2.0",
      "model_name": "LayoutModel",
      "state": {}
     },
     "8c049699cf514f029c0a490f5f760fa3": {
      "model_module": "@jupyter-widgets/controls",
      "model_module_version": "1.5.0",
      "model_name": "DropdownModel",
      "state": {
       "_options_labels": [
        "Fiberous",
        "Grooves",
        "Scaly",
        "Smooth"
       ],
       "description": "cap_surface",
       "index": 0,
       "layout": "IPY_MODEL_237412539a1a41b9a5884c99d3ebc264",
       "style": "IPY_MODEL_68228efbac3e474f91bea93e90738e45"
      }
     },
     "8c4c385165674778b042cae3803c6e6e": {
      "model_module": "@jupyter-widgets/controls",
      "model_module_version": "1.5.0",
      "model_name": "DropdownModel",
      "state": {
       "_options_labels": [
        "Close",
        "Crowded",
        "Distant"
       ],
       "description": "gill_spacing",
       "index": 0,
       "layout": "IPY_MODEL_31b389281cb643d4a6d37037bb2cf73b",
       "style": "IPY_MODEL_cdf00ef329ad4b1d8644959cc9024c1e"
      }
     },
     "8cce058038cb44db9202680d8da82c2c": {
      "model_module": "@jupyter-widgets/controls",
      "model_module_version": "1.5.0",
      "model_name": "DescriptionStyleModel",
      "state": {
       "description_width": ""
      }
     },
     "8cff562470f44df49e6d93f20b109858": {
      "model_module": "@jupyter-widgets/base",
      "model_module_version": "1.2.0",
      "model_name": "LayoutModel",
      "state": {}
     },
     "8d0138a0f5c04142a307662f020c38dd": {
      "model_module": "@jupyter-widgets/controls",
      "model_module_version": "1.5.0",
      "model_name": "DescriptionStyleModel",
      "state": {
       "description_width": ""
      }
     },
     "8d10b32277ce47f9bd712cda810e61a4": {
      "model_module": "@jupyter-widgets/controls",
      "model_module_version": "1.5.0",
      "model_name": "DropdownModel",
      "state": {
       "_options_labels": [
        "Almond",
        "Anise",
        "Creosote",
        "Fishy",
        "Foul",
        "Musty",
        "None",
        "Pungent",
        "Spicy"
       ],
       "description": "odor",
       "index": 0,
       "layout": "IPY_MODEL_1d5445e343b84bd7b0308d70a5ba5008",
       "style": "IPY_MODEL_b4f7f7aabdd745109b7870f343a199f9"
      }
     },
     "8d23f9130d354659a17a715eae87a694": {
      "model_module": "@jupyter-widgets/controls",
      "model_module_version": "1.5.0",
      "model_name": "DropdownModel",
      "state": {
       "_options_labels": [
        "Evanescent",
        "Flaring",
        "Large",
        "None",
        "Pendant",
        "Sheathing",
        "Zone"
       ],
       "description": "ring_type",
       "index": 0,
       "layout": "IPY_MODEL_ce103fb562ef4c6fb1e7764e222dc8c7",
       "style": "IPY_MODEL_731baaf8536f413aac399bedc25c3f8d"
      }
     },
     "8d34c3618a764779ac0e552f2fa630a3": {
      "model_module": "@jupyter-widgets/controls",
      "model_module_version": "1.5.0",
      "model_name": "DropdownModel",
      "state": {
       "_options_labels": [
        "Attached",
        "Descending",
        "Free",
        "Notched"
       ],
       "description": "gill_attachment",
       "index": 0,
       "layout": "IPY_MODEL_88317968ca5f41569466031cbb375325",
       "style": "IPY_MODEL_dce56f69023d481db3a10b7bc5114b1d"
      }
     },
     "8daf91823f5049368cf4c52bcb0e44cb": {
      "model_module": "@jupyter-widgets/base",
      "model_module_version": "1.2.0",
      "model_name": "LayoutModel",
      "state": {}
     },
     "8db3a9b95a2045459b03b01d83ff9c4f": {
      "model_module": "@jupyter-widgets/controls",
      "model_module_version": "1.5.0",
      "model_name": "DropdownModel",
      "state": {
       "_options_labels": [
        "Fiberous",
        "Scaly",
        "Silky",
        "Smooth"
       ],
       "description": "stalk_surface_above_ring",
       "index": 0,
       "layout": "IPY_MODEL_cd637b4d42b84f6dac0300f853c13e63",
       "style": "IPY_MODEL_c6a79bb840cf4e31b9b4d649522cf4d2"
      }
     },
     "8df53f439a604743b48ce1c2c3612187": {
      "model_module": "@jupyter-widgets/base",
      "model_module_version": "1.2.0",
      "model_name": "LayoutModel",
      "state": {}
     },
     "8e0a96283fcb478ea912a286aac865b1": {
      "model_module": "@jupyter-widgets/base",
      "model_module_version": "1.2.0",
      "model_name": "LayoutModel",
      "state": {}
     },
     "8e227422954b4bd7a0d9a2044927056a": {
      "model_module": "@jupyter-widgets/controls",
      "model_module_version": "1.5.0",
      "model_name": "DropdownModel",
      "state": {
       "_options_labels": [
        "Evanescent",
        "Flaring",
        "Large",
        "None",
        "Pendant",
        "Sheathing",
        "Zone"
       ],
       "description": "ring_type",
       "index": 0,
       "layout": "IPY_MODEL_49caa7ee6cb64e7fb3740b843b055ec7",
       "style": "IPY_MODEL_32a785d37cf44abe9deaf10c5506fa7f"
      }
     },
     "8e36b29cc042423c887c8924d341a5b5": {
      "model_module": "@jupyter-widgets/base",
      "model_module_version": "1.2.0",
      "model_name": "LayoutModel",
      "state": {}
     },
     "8e7131bca7a940be99d0a8914fb4ecba": {
      "model_module": "@jupyter-widgets/base",
      "model_module_version": "1.2.0",
      "model_name": "LayoutModel",
      "state": {}
     },
     "8e7a2f73a8c04d4593460e694dd2ea7c": {
      "model_module": "@jupyter-widgets/controls",
      "model_module_version": "1.5.0",
      "model_name": "DescriptionStyleModel",
      "state": {
       "description_width": ""
      }
     },
     "8e81774bc414436d99c0fc6cf93cce5e": {
      "model_module": "@jupyter-widgets/controls",
      "model_module_version": "1.5.0",
      "model_name": "DescriptionStyleModel",
      "state": {
       "description_width": ""
      }
     },
     "8eb4e4215a7f41babef728e3919682dc": {
      "model_module": "@jupyter-widgets/controls",
      "model_module_version": "1.5.0",
      "model_name": "DescriptionStyleModel",
      "state": {
       "description_width": ""
      }
     },
     "8ebfee9a234b4f548790c04f7749ccc2": {
      "model_module": "@jupyter-widgets/controls",
      "model_module_version": "1.5.0",
      "model_name": "DropdownModel",
      "state": {
       "_options_labels": [
        "Close",
        "Crowded"
       ],
       "description": "gill_spacing",
       "index": 0,
       "layout": "IPY_MODEL_07d6dd7aaf974de093fe87957a4efe5e",
       "style": "IPY_MODEL_f4de50ad7fa74330b7947eaf9aa33b01"
      }
     },
     "8ecb332b568f498196d498e3a389d60f": {
      "model_module": "@jupyter-widgets/controls",
      "model_module_version": "1.5.0",
      "model_name": "DescriptionStyleModel",
      "state": {
       "description_width": ""
      }
     },
     "8ecd533777024f3d9b0cd6a1e7646356": {
      "model_module": "@jupyter-widgets/controls",
      "model_module_version": "1.5.0",
      "model_name": "DescriptionStyleModel",
      "state": {
       "description_width": ""
      }
     },
     "8eee35534dc94e748b43b4b22cecddd9": {
      "model_module": "@jupyter-widgets/base",
      "model_module_version": "1.2.0",
      "model_name": "LayoutModel",
      "state": {}
     },
     "8efa32c2655d4da3bf147a258ee2918b": {
      "model_module": "@jupyter-widgets/controls",
      "model_module_version": "1.5.0",
      "model_name": "DropdownModel",
      "state": {
       "_options_labels": [
        "Broad",
        "Narrow"
       ],
       "description": "gill_size",
       "index": 0,
       "layout": "IPY_MODEL_5c68a9447c964be4a2db217941e4d70b",
       "style": "IPY_MODEL_80742019cded4626af3059379ffca602"
      }
     },
     "8f5352b77103442f8caab88e4e0a8e4b": {
      "model_module": "@jupyter-widgets/base",
      "model_module_version": "1.2.0",
      "model_name": "LayoutModel",
      "state": {}
     },
     "8f6fd63412154a6fa6c7b858ff72266a": {
      "model_module": "@jupyter-widgets/controls",
      "model_module_version": "1.5.0",
      "model_name": "VBoxModel",
      "state": {
       "_dom_classes": [
        "widget-interact"
       ],
       "children": [
        "IPY_MODEL_a25f80fa0e834f0d9cb4d484adcf4416",
        "IPY_MODEL_158351223a4d42bc86a50a083d16f853",
        "IPY_MODEL_4df7dd52042a497d857d3e4f82628421",
        "IPY_MODEL_2e5e3207408e41d38f8e2c9a3cb5ef44",
        "IPY_MODEL_3a0235b2024943c6be523b2798903aff"
       ],
       "layout": "IPY_MODEL_19f10c17db88488eb2b197921b748c55"
      }
     },
     "8f7f4669152d4166a03e8142eb8216ce": {
      "model_module": "@jupyter-widgets/controls",
      "model_module_version": "1.5.0",
      "model_name": "DescriptionStyleModel",
      "state": {
       "description_width": ""
      }
     },
     "903c5354152b4c69b52dedd09dec6d09": {
      "model_module": "@jupyter-widgets/controls",
      "model_module_version": "1.5.0",
      "model_name": "DropdownModel",
      "state": {
       "_options_labels": [
        "None",
        "One",
        "Two"
       ],
       "description": "ring_number",
       "index": 0,
       "layout": "IPY_MODEL_3eeb76394cbf44ed8d41adaa8939c7a1",
       "style": "IPY_MODEL_781f39d318654f9295841f9a58e28931"
      }
     },
     "903e8656372349f9804bb07105313388": {
      "model_module": "@jupyter-widgets/controls",
      "model_module_version": "1.5.0",
      "model_name": "DescriptionStyleModel",
      "state": {
       "description_width": ""
      }
     },
     "904f1ef9de174030b77f1577a46c405c": {
      "model_module": "@jupyter-widgets/controls",
      "model_module_version": "1.5.0",
      "model_name": "DescriptionStyleModel",
      "state": {
       "description_width": ""
      }
     },
     "907bfe9829b748d19d319c7a7dad787c": {
      "model_module": "@jupyter-widgets/base",
      "model_module_version": "1.2.0",
      "model_name": "LayoutModel",
      "state": {}
     },
     "90a0514054fa4c5c9fa4ae4042f227da": {
      "model_module": "@jupyter-widgets/controls",
      "model_module_version": "1.5.0",
      "model_name": "DropdownModel",
      "state": {
       "_options_labels": [
        "Close",
        "Crowded",
        "Distant"
       ],
       "description": "gill_spacing",
       "index": 0,
       "layout": "IPY_MODEL_6956220fda6b4dbb919905f7b0870382",
       "style": "IPY_MODEL_6f13a51bea2345b08265922417402762"
      }
     },
     "90a4ca2e9bbb4604b0cbad2aadf11fe8": {
      "model_module": "@jupyter-widgets/base",
      "model_module_version": "1.2.0",
      "model_name": "LayoutModel",
      "state": {}
     },
     "90be0bd6795e4e93b24f1a0e2b6abecc": {
      "model_module": "@jupyter-widgets/base",
      "model_module_version": "1.2.0",
      "model_name": "LayoutModel",
      "state": {}
     },
     "90f9efb8ab57414da223632c6da71fa3": {
      "model_module": "@jupyter-widgets/controls",
      "model_module_version": "1.5.0",
      "model_name": "DescriptionStyleModel",
      "state": {
       "description_width": ""
      }
     },
     "9141d1ec996a4937a1cb87439df7a56f": {
      "model_module": "@jupyter-widgets/controls",
      "model_module_version": "1.5.0",
      "model_name": "DescriptionStyleModel",
      "state": {
       "description_width": ""
      }
     },
     "916e66a99b1243e2a7e53815d85ff6b9": {
      "model_module": "@jupyter-widgets/base",
      "model_module_version": "1.2.0",
      "model_name": "LayoutModel",
      "state": {}
     },
     "919dc81732b04856a297e7be4e877159": {
      "model_module": "@jupyter-widgets/controls",
      "model_module_version": "1.5.0",
      "model_name": "DropdownModel",
      "state": {
       "_options_labels": [
        "Brown",
        "Buff",
        "Cinnamon",
        "Gray",
        "Orange",
        "Pink",
        "Red",
        "White",
        "Yellow"
       ],
       "description": "stalk_color_above_ring",
       "index": 0,
       "layout": "IPY_MODEL_2301f11ff0214bc695415ae1c2acd7e6",
       "style": "IPY_MODEL_68f4dd3716364822b826781e447e4464"
      }
     },
     "91b8cc364dd240b3966bef08ddd8521e": {
      "model_module": "@jupyter-widgets/controls",
      "model_module_version": "1.5.0",
      "model_name": "DropdownModel",
      "state": {
       "_options_labels": [
        "Fiberous",
        "Scaly",
        "Silky",
        "Smooth"
       ],
       "description": "stalk_surface_below_ring",
       "index": 0,
       "layout": "IPY_MODEL_a446994c630049ab847830935507b0d2",
       "style": "IPY_MODEL_ecd91df7f6324df0ad912c098801d4d5"
      }
     },
     "91c372f67cb24e7495ac3a5563fca5e3": {
      "model_module": "@jupyter-widgets/base",
      "model_module_version": "1.2.0",
      "model_name": "LayoutModel",
      "state": {}
     },
     "91dc5334bc4842b69820e2ad09887ef9": {
      "model_module": "@jupyter-widgets/controls",
      "model_module_version": "1.5.0",
      "model_name": "DropdownModel",
      "state": {
       "_options_labels": [
        "Grasses",
        "Leaves",
        "Meadows",
        "Paths",
        "Urban",
        "Waste",
        "Woods"
       ],
       "description": "habitat",
       "index": 6,
       "layout": "IPY_MODEL_e2a012e5ff8844d9a6a75748041781a0",
       "style": "IPY_MODEL_09019621589440e5964438f8e49767d4"
      }
     },
     "91eb5347e1944239bfee7ce3f1555a19": {
      "model_module": "@jupyter-widgets/controls",
      "model_module_version": "1.5.0",
      "model_name": "DescriptionStyleModel",
      "state": {
       "description_width": ""
      }
     },
     "9206bd2884e24e2bad46b2da8c9510a2": {
      "model_module": "@jupyter-widgets/output",
      "model_module_version": "1.0.0",
      "model_name": "OutputModel",
      "state": {
       "layout": "IPY_MODEL_0c5ab468bf40463ebfbb0542c7bbdcb6",
       "outputs": [
        {
         "name": "stdout",
         "output_type": "stream",
         "text": "Most Likely class: e\n"
        }
       ]
      }
     },
     "92257f2f0506406fba9b039fe33e1658": {
      "model_module": "@jupyter-widgets/base",
      "model_module_version": "1.2.0",
      "model_name": "LayoutModel",
      "state": {}
     },
     "923e11f8a047489cad3e8a53f518f56f": {
      "model_module": "@jupyter-widgets/base",
      "model_module_version": "1.2.0",
      "model_name": "LayoutModel",
      "state": {}
     },
     "924d8b4c257e4e0496bf817afde3b199": {
      "model_module": "@jupyter-widgets/base",
      "model_module_version": "1.2.0",
      "model_name": "LayoutModel",
      "state": {}
     },
     "928cc800f82a448ea67bd8679d8cfa86": {
      "model_module": "@jupyter-widgets/controls",
      "model_module_version": "1.5.0",
      "model_name": "DropdownModel",
      "state": {
       "_options_labels": [
        "Brown",
        "Buff",
        "Cinnamon",
        "Gray",
        "Orange",
        "Pink",
        "Red",
        "White",
        "Yellow"
       ],
       "description": "stalk_color_above_ring",
       "index": 0,
       "layout": "IPY_MODEL_eab277b3619a497bba8ec95d83f5a8d4",
       "style": "IPY_MODEL_58f43751a44e43aa95f5f34febf61495"
      }
     },
     "92950d10a05047ed9339f939467494e1": {
      "model_module": "@jupyter-widgets/base",
      "model_module_version": "1.2.0",
      "model_name": "LayoutModel",
      "state": {}
     },
     "92cfbcadfd594230bb42faaa18644ada": {
      "model_module": "@jupyter-widgets/controls",
      "model_module_version": "1.5.0",
      "model_name": "DropdownModel",
      "state": {
       "_options_labels": [
        "Grasses",
        "Leaves",
        "Meadows",
        "Paths",
        "Urban",
        "Waste",
        "Woods"
       ],
       "description": "habitat",
       "index": 0,
       "layout": "IPY_MODEL_d129a29b29814cf9b2b40ff7d3066d8e",
       "style": "IPY_MODEL_891830d447d4477994b5e043946390d9"
      }
     },
     "92ddcbeffd844c1097e29bb41682a27d": {
      "model_module": "@jupyter-widgets/base",
      "model_module_version": "1.2.0",
      "model_name": "LayoutModel",
      "state": {}
     },
     "92fe38e2ef4e46e793e044472c76f642": {
      "model_module": "@jupyter-widgets/controls",
      "model_module_version": "1.5.0",
      "model_name": "DescriptionStyleModel",
      "state": {
       "description_width": ""
      }
     },
     "9356da84fa0c4b12990e6087bd21afae": {
      "model_module": "@jupyter-widgets/base",
      "model_module_version": "1.2.0",
      "model_name": "LayoutModel",
      "state": {}
     },
     "936ecb81177244bfa655e357462f7872": {
      "model_module": "@jupyter-widgets/base",
      "model_module_version": "1.2.0",
      "model_name": "LayoutModel",
      "state": {}
     },
     "9375309d401542208115171af83770d4": {
      "model_module": "@jupyter-widgets/base",
      "model_module_version": "1.2.0",
      "model_name": "LayoutModel",
      "state": {}
     },
     "93973eafe491471d9d29abeabe24ec52": {
      "model_module": "@jupyter-widgets/output",
      "model_module_version": "1.0.0",
      "model_name": "OutputModel",
      "state": {
       "layout": "IPY_MODEL_cae0145f62ad4a9faf270b14e204f484",
       "outputs": [
        {
         "ename": "KeyError",
         "evalue": "'gill-size'",
         "output_type": "error",
         "traceback": [
          "\u001b[0;31m---------------------------------------------------------------------------\u001b[0m",
          "\u001b[0;31mKeyError\u001b[0m                                  Traceback (most recent call last)",
          "\u001b[0;32m~/Documents/GitHub/andys-notebook/venv/lib/python3.9/site-packages/ipywidgets/widgets/interaction.py\u001b[0m in \u001b[0;36mupdate\u001b[0;34m(self, *args)\u001b[0m\n\u001b[1;32m    254\u001b[0m                     \u001b[0mvalue\u001b[0m \u001b[0;34m=\u001b[0m \u001b[0mwidget\u001b[0m\u001b[0;34m.\u001b[0m\u001b[0mget_interact_value\u001b[0m\u001b[0;34m(\u001b[0m\u001b[0;34m)\u001b[0m\u001b[0;34m\u001b[0m\u001b[0;34m\u001b[0m\u001b[0m\n\u001b[1;32m    255\u001b[0m                     \u001b[0mself\u001b[0m\u001b[0;34m.\u001b[0m\u001b[0mkwargs\u001b[0m\u001b[0;34m[\u001b[0m\u001b[0mwidget\u001b[0m\u001b[0;34m.\u001b[0m\u001b[0m_kwarg\u001b[0m\u001b[0;34m]\u001b[0m \u001b[0;34m=\u001b[0m \u001b[0mvalue\u001b[0m\u001b[0;34m\u001b[0m\u001b[0;34m\u001b[0m\u001b[0m\n\u001b[0;32m--> 256\u001b[0;31m                 \u001b[0mself\u001b[0m\u001b[0;34m.\u001b[0m\u001b[0mresult\u001b[0m \u001b[0;34m=\u001b[0m \u001b[0mself\u001b[0m\u001b[0;34m.\u001b[0m\u001b[0mf\u001b[0m\u001b[0;34m(\u001b[0m\u001b[0;34m**\u001b[0m\u001b[0mself\u001b[0m\u001b[0;34m.\u001b[0m\u001b[0mkwargs\u001b[0m\u001b[0;34m)\u001b[0m\u001b[0;34m\u001b[0m\u001b[0;34m\u001b[0m\u001b[0m\n\u001b[0m\u001b[1;32m    257\u001b[0m                 \u001b[0mshow_inline_matplotlib_plots\u001b[0m\u001b[0;34m(\u001b[0m\u001b[0;34m)\u001b[0m\u001b[0;34m\u001b[0m\u001b[0;34m\u001b[0m\u001b[0m\n\u001b[1;32m    258\u001b[0m                 \u001b[0;32mif\u001b[0m \u001b[0mself\u001b[0m\u001b[0;34m.\u001b[0m\u001b[0mauto_display\u001b[0m \u001b[0;32mand\u001b[0m \u001b[0mself\u001b[0m\u001b[0;34m.\u001b[0m\u001b[0mresult\u001b[0m \u001b[0;32mis\u001b[0m \u001b[0;32mnot\u001b[0m \u001b[0;32mNone\u001b[0m\u001b[0;34m:\u001b[0m\u001b[0;34m\u001b[0m\u001b[0;34m\u001b[0m\u001b[0m\n",
          "\u001b[0;32m<ipython-input-56-5900ed3e7f1a>\u001b[0m in \u001b[0;36mcustom_classify\u001b[0;34m(cap_shape, cap_surface, cap_color, bruises, odor, gill_attachment, gill_spacing, gill_color, stalk_shape, stalk_root, stalk_surface_above_ring, stalk_surface_below_ring, stalk_color_above_ring, stalk_color_below_ring, veil_type, veil_color, ring_number, ring_type, spore_print_color, population, habitat)\u001b[0m\n\u001b[1;32m    193\u001b[0m \u001b[0;34m\u001b[0m\u001b[0m\n\u001b[1;32m    194\u001b[0m     \u001b[0;31m# Return class probabilities\u001b[0m\u001b[0;34m\u001b[0m\u001b[0;34m\u001b[0m\u001b[0;34m\u001b[0m\u001b[0m\n\u001b[0;32m--> 195\u001b[0;31m     \u001b[0mprobabilities\u001b[0m \u001b[0;34m=\u001b[0m \u001b[0mnaive_bayes_classify\u001b[0m\u001b[0;34m(\u001b[0m\u001b[0mfeatures\u001b[0m\u001b[0;34m,\u001b[0m \u001b[0mprobs\u001b[0m\u001b[0;34m=\u001b[0m\u001b[0;32mTrue\u001b[0m\u001b[0;34m)\u001b[0m\u001b[0;34m\u001b[0m\u001b[0;34m\u001b[0m\u001b[0m\n\u001b[0m",
          "\u001b[0;32m<ipython-input-54-79b2bdb87d31>\u001b[0m in \u001b[0;36mnaive_bayes_classify\u001b[0;34m(sample, probs)\u001b[0m\n\u001b[1;32m     15\u001b[0m     \u001b[0;31m# Update our label probabilities using new likelihood\u001b[0m\u001b[0;34m\u001b[0m\u001b[0;34m\u001b[0m\u001b[0;34m\u001b[0m\u001b[0m\n\u001b[1;32m     16\u001b[0m     \u001b[0;32mfor\u001b[0m \u001b[0mcolumn\u001b[0m\u001b[0;34m,\u001b[0m \u001b[0mtable\u001b[0m \u001b[0;32min\u001b[0m \u001b[0mlikelihoods\u001b[0m\u001b[0;34m.\u001b[0m\u001b[0mitems\u001b[0m\u001b[0;34m(\u001b[0m\u001b[0;34m)\u001b[0m\u001b[0;34m:\u001b[0m\u001b[0;34m\u001b[0m\u001b[0;34m\u001b[0m\u001b[0m\n\u001b[0;32m---> 17\u001b[0;31m         \u001b[0mprobability\u001b[0m \u001b[0;34m*=\u001b[0m \u001b[0mtable\u001b[0m\u001b[0;34m[\u001b[0m\u001b[0msample\u001b[0m\u001b[0;34m[\u001b[0m\u001b[0mcolumn\u001b[0m\u001b[0;34m]\u001b[0m\u001b[0;34m]\u001b[0m\u001b[0;34m.\u001b[0m\u001b[0mreindex_like\u001b[0m\u001b[0;34m(\u001b[0m\u001b[0mprobability\u001b[0m\u001b[0;34m)\u001b[0m\u001b[0;34m.\u001b[0m\u001b[0mfillna\u001b[0m\u001b[0;34m(\u001b[0m\u001b[0;36m0\u001b[0m\u001b[0;34m)\u001b[0m\u001b[0;34m\u001b[0m\u001b[0;34m\u001b[0m\u001b[0m\n\u001b[0m\u001b[1;32m     18\u001b[0m \u001b[0;34m\u001b[0m\u001b[0m\n\u001b[1;32m     19\u001b[0m     \u001b[0;31m# Return artifact\u001b[0m\u001b[0;34m\u001b[0m\u001b[0;34m\u001b[0m\u001b[0;34m\u001b[0m\u001b[0m\n",
          "\u001b[0;31mKeyError\u001b[0m: 'gill-size'"
         ]
        }
       ]
      }
     },
     "93a2abe607104f6d8e1b7086b80ca971": {
      "model_module": "@jupyter-widgets/controls",
      "model_module_version": "1.5.0",
      "model_name": "VBoxModel",
      "state": {
       "_dom_classes": [
        "widget-interact"
       ],
       "children": [
        "IPY_MODEL_9f6b4a8607a0441c9f72a497f6ec289e",
        "IPY_MODEL_9ff96e6e60684c77b3024f8cb416579c",
        "IPY_MODEL_e9d1930991ad406c9465b740ee6da46a",
        "IPY_MODEL_3e860c82bfa94067b60462d53f15d05a",
        "IPY_MODEL_ce6ac25dec324156a793b963db2a731d",
        "IPY_MODEL_419e7e460fd247abb944d0ebc9bb643f",
        "IPY_MODEL_cfccd725764c4b33a69b331045120a62",
        "IPY_MODEL_9761cc8295034ea48dc94e8ab6b54725",
        "IPY_MODEL_6882e637633d4761a343615231c803dd",
        "IPY_MODEL_38c0efc6cb734119b94c9e27a4dbf397",
        "IPY_MODEL_27fbe682d43142d3b53b0fee475afc3b",
        "IPY_MODEL_3ad63c2f7cfb4d5fa134a399398f97cc",
        "IPY_MODEL_23e33a9a524b4b8ca7b8da87bfff45aa",
        "IPY_MODEL_26acacb82538458ab14de7d3160dd173",
        "IPY_MODEL_760039a1d68f4c838d4febd17ffab970",
        "IPY_MODEL_86d7d5a714ea4f0ab4953930f24ff86a",
        "IPY_MODEL_423b3f01317f41b29c4a793672e6e0d5",
        "IPY_MODEL_6b2adfca95934dc1b917aba8164aa51d",
        "IPY_MODEL_a019efec9ad844e0b78460ca424335d2",
        "IPY_MODEL_64e724601b7e4db8adad89f443768388",
        "IPY_MODEL_5fb523aad0f444d5ab086ce0d91f509a",
        "IPY_MODEL_0e56995c377c45e09661f8709ef633da",
        "IPY_MODEL_291246d67d414bfa8705ef4f1cb3aaa1"
       ],
       "layout": "IPY_MODEL_cdd9767501b843f7a2bef8baa4485ee2"
      }
     },
     "93aaf4c5b6104050b097d8d054473c37": {
      "model_module": "@jupyter-widgets/controls",
      "model_module_version": "1.5.0",
      "model_name": "VBoxModel",
      "state": {
       "_dom_classes": [
        "widget-interact"
       ],
       "children": [
        "IPY_MODEL_04bef3783aa14629a7883f4d5cafff6e",
        "IPY_MODEL_1c1a711552e1491097fc2c910f897920",
        "IPY_MODEL_023c5c66cf16447a8652055ec6575302",
        "IPY_MODEL_30f14b3150fd4944b87bbfcfab24a6ce",
        "IPY_MODEL_e1a6d5bcdb3c49bba9a8d9a3d45c2e7c",
        "IPY_MODEL_68cde49ef9fb4436a5dd1814be018c32",
        "IPY_MODEL_0f04fb1cb77141e885d208ad88f5d0dd",
        "IPY_MODEL_185b27d4f45e4608b7047c2d19e4c0cb",
        "IPY_MODEL_549c744a4dd0400aa2db352d14b30c71",
        "IPY_MODEL_95072bf3c76341338d401d23698444eb",
        "IPY_MODEL_f14db8da54f44b639af4e244b8d615e7",
        "IPY_MODEL_382922afaa1d4a79b8e37d67be9501a8",
        "IPY_MODEL_1f96e8ca59f9456e8db8ee85ac18ffa1",
        "IPY_MODEL_d9694736d7b74a2491f0833333b9832f",
        "IPY_MODEL_99a56c2c4d6d4d0888bf72e9ed212511",
        "IPY_MODEL_f44fc30687014b439a711156bfd8e366",
        "IPY_MODEL_6f84828b426343398792ee15eb6efbaa",
        "IPY_MODEL_53c3a4ea38e04f00ae391b3588b05337",
        "IPY_MODEL_346dc056dc0a4572a875bda2f90c1044",
        "IPY_MODEL_affacf006e824ff7baa2f525d22b0346",
        "IPY_MODEL_b57791d55e034daeb34c2c843944eb28",
        "IPY_MODEL_b0fac8a31a924d5781f4664e17f6d9a0",
        "IPY_MODEL_e786529fbcdf49948e1cab53b8e00041"
       ],
       "layout": "IPY_MODEL_209e619189b745be9a353fe52ac2937f"
      }
     },
     "93d15aa689d24b0da41f6b37bbd7b5e1": {
      "model_module": "@jupyter-widgets/base",
      "model_module_version": "1.2.0",
      "model_name": "LayoutModel",
      "state": {}
     },
     "93e22af452ca47919d183c5bfa34569e": {
      "model_module": "@jupyter-widgets/controls",
      "model_module_version": "1.5.0",
      "model_name": "DescriptionStyleModel",
      "state": {
       "description_width": ""
      }
     },
     "93ebbd63b24e48dea9d87f3e054dbb27": {
      "model_module": "@jupyter-widgets/base",
      "model_module_version": "1.2.0",
      "model_name": "LayoutModel",
      "state": {}
     },
     "93efaae3531f400faa0d9e7e2e70cbe3": {
      "model_module": "@jupyter-widgets/controls",
      "model_module_version": "1.5.0",
      "model_name": "DescriptionStyleModel",
      "state": {
       "description_width": ""
      }
     },
     "94047f8fd0134ae2a2d4eef6dded9b94": {
      "model_module": "@jupyter-widgets/base",
      "model_module_version": "1.2.0",
      "model_name": "LayoutModel",
      "state": {}
     },
     "9418c49fb4024a028fbc89b7c514aa79": {
      "model_module": "@jupyter-widgets/controls",
      "model_module_version": "1.5.0",
      "model_name": "DescriptionStyleModel",
      "state": {
       "description_width": ""
      }
     },
     "95072bf3c76341338d401d23698444eb": {
      "model_module": "@jupyter-widgets/controls",
      "model_module_version": "1.5.0",
      "model_name": "DropdownModel",
      "state": {
       "_options_labels": [
        "Enlarging",
        "Tapering"
       ],
       "description": "stalk_shape",
       "index": 0,
       "layout": "IPY_MODEL_2e5ec7a848014ded80891881c125a8ab",
       "style": "IPY_MODEL_0ed71285141f466ba6e5600c1c8314a9"
      }
     },
     "95129494608c4ad49beee637ccddc29e": {
      "model_module": "@jupyter-widgets/controls",
      "model_module_version": "1.5.0",
      "model_name": "DropdownModel",
      "state": {
       "_options_labels": [
        "Attached",
        "Descending",
        "Free",
        "Notched"
       ],
       "description": "gill_attachment",
       "index": 0,
       "layout": "IPY_MODEL_3ec18c8643314051bfd8b3b6c98c2b73",
       "style": "IPY_MODEL_16e1dce9991f4a8893fdab2bf2d84d17"
      }
     },
     "9523090471d14a648fe3ff86b2e62086": {
      "model_module": "@jupyter-widgets/controls",
      "model_module_version": "1.5.0",
      "model_name": "DescriptionStyleModel",
      "state": {
       "description_width": ""
      }
     },
     "9535dfadb33b4ed28639c8c0e467889b": {
      "model_module": "@jupyter-widgets/controls",
      "model_module_version": "1.5.0",
      "model_name": "DropdownModel",
      "state": {
       "_options_labels": [
        "Bell",
        "Conical",
        "Convex",
        "Flat",
        "Knobbed",
        "Sunken"
       ],
       "description": "cap_shape",
       "index": 2,
       "layout": "IPY_MODEL_9e923d473cd7433dadf52029c938fa40",
       "style": "IPY_MODEL_6c3580987d3342f8a596a598c29c4228"
      }
     },
     "959cbb128d274b1e984500d4faff8fb2": {
      "model_module": "@jupyter-widgets/controls",
      "model_module_version": "1.5.0",
      "model_name": "DescriptionStyleModel",
      "state": {
       "description_width": ""
      }
     },
     "95a03bb16f614dad8e65d6c1d91f8853": {
      "model_module": "@jupyter-widgets/base",
      "model_module_version": "1.2.0",
      "model_name": "LayoutModel",
      "state": {}
     },
     "95e8b5f61e0b4d8187b19180801d5d7d": {
      "model_module": "@jupyter-widgets/base",
      "model_module_version": "1.2.0",
      "model_name": "LayoutModel",
      "state": {}
     },
     "95f19ad87737487faf8ac76a8371365f": {
      "model_module": "@jupyter-widgets/controls",
      "model_module_version": "1.5.0",
      "model_name": "DropdownModel",
      "state": {
       "_options_labels": [
        "Brown",
        "Buff",
        "Cinnamon",
        "Gray",
        "Green",
        "Pink",
        "Purple",
        "Red",
        "White",
        "Yellow"
       ],
       "description": "cap_color",
       "index": 0,
       "layout": "IPY_MODEL_3e70c609218b4af8bcda44656c3dcc07",
       "style": "IPY_MODEL_39db1cbe1e464bc9a78058067ea89d2f"
      }
     },
     "9627f8e237474d239209ce3c7f6debd6": {
      "model_module": "@jupyter-widgets/output",
      "model_module_version": "1.0.0",
      "model_name": "OutputModel",
      "state": {
       "layout": "IPY_MODEL_4cc72969385543c394a554013cf8f2e9",
       "outputs": [
        {
         "name": "stdout",
         "output_type": "stream",
         "text": "Bruh\n"
        }
       ]
      }
     },
     "9628b5b8a2674892916c1a70621139fc": {
      "model_module": "@jupyter-widgets/controls",
      "model_module_version": "1.5.0",
      "model_name": "DropdownModel",
      "state": {
       "_options_labels": [
        "Broad",
        "Narrow"
       ],
       "description": "gill_size",
       "index": 0,
       "layout": "IPY_MODEL_b6405cbd346f45f69ba0ef2210f0275e",
       "style": "IPY_MODEL_6019b09989a54ec0ad824306105e9f6e"
      }
     },
     "962a7652a78d40229b01a16d1759c35d": {
      "model_module": "@jupyter-widgets/base",
      "model_module_version": "1.2.0",
      "model_name": "LayoutModel",
      "state": {}
     },
     "9662abb44c70478fb941d7cd240c7525": {
      "model_module": "@jupyter-widgets/controls",
      "model_module_version": "1.5.0",
      "model_name": "DropdownModel",
      "state": {
       "_options_labels": [
        "Bulbous",
        "Club",
        "Cup",
        "Equal",
        "Rhizomorphs",
        "Rooted",
        "Missing"
       ],
       "description": "stalk_root",
       "index": 0,
       "layout": "IPY_MODEL_d0576f9ed6df4d66b9f291e6326a411b",
       "style": "IPY_MODEL_e90e9e31625f41c5b683c7134391c197"
      }
     },
     "97103876d9e94552919840e307b31fed": {
      "model_module": "@jupyter-widgets/base",
      "model_module_version": "1.2.0",
      "model_name": "LayoutModel",
      "state": {}
     },
     "973b48896967413f8aab4fb5dcba560a": {
      "model_module": "@jupyter-widgets/controls",
      "model_module_version": "1.5.0",
      "model_name": "DescriptionStyleModel",
      "state": {
       "description_width": ""
      }
     },
     "973dde84fb494d958763d7dc979cfaae": {
      "model_module": "@jupyter-widgets/controls",
      "model_module_version": "1.5.0",
      "model_name": "DropdownModel",
      "state": {
       "_options_labels": [
        "Almond",
        "Anise",
        "Creosote",
        "Fishy",
        "Foul",
        "Musty",
        "None",
        "Pungent",
        "Spicy"
       ],
       "description": "odor",
       "index": 0,
       "layout": "IPY_MODEL_dd2037ecb4ad4f45bde2ba4eea4d6d45",
       "style": "IPY_MODEL_a37e0f0ea51149649759806cc3186816"
      }
     },
     "975d91ded35e44c091252060baa0239e": {
      "model_module": "@jupyter-widgets/controls",
      "model_module_version": "1.5.0",
      "model_name": "DescriptionStyleModel",
      "state": {
       "description_width": ""
      }
     },
     "9761cc8295034ea48dc94e8ab6b54725": {
      "model_module": "@jupyter-widgets/controls",
      "model_module_version": "1.5.0",
      "model_name": "DropdownModel",
      "state": {
       "_options_labels": [
        "Broad",
        "Narrow"
       ],
       "description": "gill_size",
       "index": 0,
       "layout": "IPY_MODEL_029eb3bf7ad34b13b4a2e7d8e10cc569",
       "style": "IPY_MODEL_8e7a2f73a8c04d4593460e694dd2ea7c"
      }
     },
     "97736dd3fdff4ff0a5bbdf97703697e9": {
      "model_module": "@jupyter-widgets/controls",
      "model_module_version": "1.5.0",
      "model_name": "DropdownModel",
      "state": {
       "_options_labels": [
        "Brown",
        "Buff",
        "Cinnamon",
        "Gray",
        "Green",
        "Pink",
        "Purple",
        "Red",
        "White",
        "Yellow"
       ],
       "description": "cap_color",
       "index": 0,
       "layout": "IPY_MODEL_37369bdd34ff4cf29543e2ac7f0b5e19",
       "style": "IPY_MODEL_14e749625e924f7bb2bda2a739e30be2"
      }
     },
     "979666ec73a54b1e916cb2ac1d3722d1": {
      "model_module": "@jupyter-widgets/controls",
      "model_module_version": "1.5.0",
      "model_name": "DropdownModel",
      "state": {
       "_options_labels": [
        "Abundant",
        "Clustered",
        "Numerous",
        "Scattered",
        "Several",
        "Solitary"
       ],
       "description": "population",
       "index": 0,
       "layout": "IPY_MODEL_3a976828d36c4cf9936a9a209e2aef84",
       "style": "IPY_MODEL_87442072b65c43ea81583cc39a62dcdd"
      }
     },
     "9797b89720e24ead923e6208a25c1f6b": {
      "model_module": "@jupyter-widgets/controls",
      "model_module_version": "1.5.0",
      "model_name": "VBoxModel",
      "state": {
       "_dom_classes": [
        "widget-interact"
       ],
       "children": [
        "IPY_MODEL_f0fad409318c4543b5a204bcd4a444ea",
        "IPY_MODEL_fc9b5aa3f0044308902183bc5e7355f3",
        "IPY_MODEL_20b874bdb802421e8d9aa43575e5c85b",
        "IPY_MODEL_575d30e1920648eb8d00d6c04da549f1",
        "IPY_MODEL_b4e590764c69485cb5b40ac50c5df79c",
        "IPY_MODEL_f2b2c45ccf6d43cd8fca2bcbbfa71e4f",
        "IPY_MODEL_2c5219b2676944d2bbd517da48c2ff09",
        "IPY_MODEL_28b12b29dd6844628a984f7fd0353629",
        "IPY_MODEL_f6dd519b0d624147b67ea77a80f89441",
        "IPY_MODEL_8302cf8e2a374150942035fc321bd178",
        "IPY_MODEL_ba91e39881aa4263a2a772aeadbee6c3",
        "IPY_MODEL_641a77f37b484bc2aa4718456641e19d",
        "IPY_MODEL_213a3db4e8e548e2b117e608a797ea49",
        "IPY_MODEL_7993676d40244a1aaf6eee9cb9491714",
        "IPY_MODEL_860d8c1a89734600a22fb0e13b268da8",
        "IPY_MODEL_e7084811af5841f48eec7d91a4f466f3",
        "IPY_MODEL_a9f3f3d6c6bf4f2897e7a4271013c116",
        "IPY_MODEL_a9274d6f6d9443d1b77a9ab1f8b8d738",
        "IPY_MODEL_56cd51230e86446fa4361f063389b89c",
        "IPY_MODEL_d5e743708b5747f2b8b32276b99c8b0b",
        "IPY_MODEL_32d5f1b314e94c78beb6246859a484b7",
        "IPY_MODEL_8333f2e3810d49caac38a37b4d14235e",
        "IPY_MODEL_d1ccdb30d755413c8e6f1af2db965c9a"
       ],
       "layout": "IPY_MODEL_499d038661504c729dddd7223faf6e99"
      }
     },
     "979c2f71fba74161be34c5615fb1dac3": {
      "model_module": "@jupyter-widgets/controls",
      "model_module_version": "1.5.0",
      "model_name": "DescriptionStyleModel",
      "state": {
       "description_width": ""
      }
     },
     "97c2c5f49ebc4819b2f806d1933dfe00": {
      "model_module": "@jupyter-widgets/base",
      "model_module_version": "1.2.0",
      "model_name": "LayoutModel",
      "state": {}
     },
     "97c6da01bca24cf2865e3178ddc70476": {
      "model_module": "@jupyter-widgets/controls",
      "model_module_version": "1.5.0",
      "model_name": "DropdownModel",
      "state": {
       "_options_labels": [
        "Black",
        "Brown",
        "Buff",
        "Chocolate",
        "Green",
        "Orange",
        "Purple",
        "White",
        "Yellow"
       ],
       "description": "spore_print_color",
       "index": 0,
       "layout": "IPY_MODEL_58b5c16c4c0e44a0bd5c6d529b231558",
       "style": "IPY_MODEL_21c42362ba7e4199bb613f86da79d735"
      }
     },
     "97ef08681b6046adabf9d2146107377d": {
      "model_module": "@jupyter-widgets/controls",
      "model_module_version": "1.5.0",
      "model_name": "DescriptionStyleModel",
      "state": {
       "description_width": ""
      }
     },
     "98017cd2a54348dabbe4206ff4d30db5": {
      "model_module": "@jupyter-widgets/base",
      "model_module_version": "1.2.0",
      "model_name": "LayoutModel",
      "state": {}
     },
     "9834b2074fc2434298d98b2e40a71264": {
      "model_module": "@jupyter-widgets/base",
      "model_module_version": "1.2.0",
      "model_name": "LayoutModel",
      "state": {}
     },
     "9855aaad5fb947359c42026d58fab59a": {
      "model_module": "@jupyter-widgets/base",
      "model_module_version": "1.2.0",
      "model_name": "LayoutModel",
      "state": {}
     },
     "986c212a84f349b1953ca689ebbef3ab": {
      "model_module": "@jupyter-widgets/controls",
      "model_module_version": "1.5.0",
      "model_name": "DescriptionStyleModel",
      "state": {
       "description_width": ""
      }
     },
     "98a7bf8591d6408bbf55f253703bfdfa": {
      "model_module": "@jupyter-widgets/controls",
      "model_module_version": "1.5.0",
      "model_name": "DropdownModel",
      "state": {
       "_options_labels": [
        "Bell",
        "Conical",
        "Convex",
        "Flat",
        "Knobbed",
        "Sunken"
       ],
       "description": "cap_shape",
       "index": 0,
       "layout": "IPY_MODEL_094db0ceb6594b8d87d71e9a425e3d6d",
       "style": "IPY_MODEL_38b3baa891da46de9f79ffd6259689de"
      }
     },
     "98e926d240a74e81a2b1f34c01907ada": {
      "model_module": "@jupyter-widgets/controls",
      "model_module_version": "1.5.0",
      "model_name": "DropdownModel",
      "state": {
       "_options_labels": [
        "Bell",
        "Conical",
        "Convex",
        "Flat",
        "Knobbed",
        "Sunken"
       ],
       "description": "cap_shape",
       "index": 0,
       "layout": "IPY_MODEL_4319410bb2ce4dae943ca67497e3b93d",
       "style": "IPY_MODEL_ae48d891b12c4c0aade1af291f40a3b7"
      }
     },
     "98f74a620f8244b396d819b78be4ed0f": {
      "model_module": "@jupyter-widgets/controls",
      "model_module_version": "1.5.0",
      "model_name": "DescriptionStyleModel",
      "state": {
       "description_width": ""
      }
     },
     "990e87b12cbd439f96afd3e49c0498ee": {
      "model_module": "@jupyter-widgets/base",
      "model_module_version": "1.2.0",
      "model_name": "LayoutModel",
      "state": {}
     },
     "99445c63b5074dd0bea7ddfc0b759d0c": {
      "model_module": "@jupyter-widgets/base",
      "model_module_version": "1.2.0",
      "model_name": "LayoutModel",
      "state": {}
     },
     "99a56c2c4d6d4d0888bf72e9ed212511": {
      "model_module": "@jupyter-widgets/controls",
      "model_module_version": "1.5.0",
      "model_name": "DropdownModel",
      "state": {
       "_options_labels": [
        "Brown",
        "Buff",
        "Cinnamon",
        "Gray",
        "Orange",
        "Pink",
        "Red",
        "White",
        "Yellow"
       ],
       "description": "stalk_color_below_ring",
       "index": 0,
       "layout": "IPY_MODEL_0ac8239a7d94420aac13bd9f2b7fd346",
       "style": "IPY_MODEL_b5b877f724d64a208e57e3401dabd3f8"
      }
     },
     "9a065e13b62f40ecb2b9eb31d32c0b2c": {
      "model_module": "@jupyter-widgets/controls",
      "model_module_version": "1.5.0",
      "model_name": "DescriptionStyleModel",
      "state": {
       "description_width": ""
      }
     },
     "9a0771d1221e4efe9b04c1170cf9a3cf": {
      "model_module": "@jupyter-widgets/controls",
      "model_module_version": "1.5.0",
      "model_name": "DropdownModel",
      "state": {
       "_options_labels": [
        "Fiberous",
        "Grooves",
        "Scaly",
        "Smooth"
       ],
       "description": "cap_surface",
       "index": 0,
       "layout": "IPY_MODEL_06783d339b924dc88fa0d5d7397c6080",
       "style": "IPY_MODEL_84bf1caf525d41f18fce0fc4a3d43e3f"
      }
     },
     "9a32b4453cd44166b5e94d5490672f99": {
      "model_module": "@jupyter-widgets/controls",
      "model_module_version": "1.5.0",
      "model_name": "DescriptionStyleModel",
      "state": {
       "description_width": ""
      }
     },
     "9a3e948e176b46129c9ad2aaaaa3886c": {
      "model_module": "@jupyter-widgets/controls",
      "model_module_version": "1.5.0",
      "model_name": "DescriptionStyleModel",
      "state": {
       "description_width": ""
      }
     },
     "9a481754592d4c0fb6671cfc1280d9a0": {
      "model_module": "@jupyter-widgets/controls",
      "model_module_version": "1.5.0",
      "model_name": "DescriptionStyleModel",
      "state": {
       "description_width": ""
      }
     },
     "9a49944dab9c4a4fb382ef697a3d5698": {
      "model_module": "@jupyter-widgets/controls",
      "model_module_version": "1.5.0",
      "model_name": "DropdownModel",
      "state": {
       "_options_labels": [
        "Abundant",
        "Clustered",
        "Numerous",
        "Scattered",
        "Several",
        "Solitary"
       ],
       "description": "population",
       "index": 0,
       "layout": "IPY_MODEL_171463fe7d4647ab8b12ce0c65129570",
       "style": "IPY_MODEL_336f7b2544a24d77bac73d0f7d8ec67d"
      }
     },
     "9a5915e1ec744d5ebe0a84af3f40ad66": {
      "model_module": "@jupyter-widgets/controls",
      "model_module_version": "1.5.0",
      "model_name": "DropdownModel",
      "state": {
       "_options_labels": [
        "Fiberous",
        "Scaly",
        "Silky",
        "Smooth"
       ],
       "description": "stalk_surface_below_ring",
       "index": 0,
       "layout": "IPY_MODEL_125c37c6ee044409bfd7023c760a046a",
       "style": "IPY_MODEL_797dc208116449b889f9fc17ff98d4f1"
      }
     },
     "9a5a68a81a804fdd95fc5de2f035d1a4": {
      "model_module": "@jupyter-widgets/base",
      "model_module_version": "1.2.0",
      "model_name": "LayoutModel",
      "state": {}
     },
     "9a70b45b354545d18673c58257de564b": {
      "model_module": "@jupyter-widgets/controls",
      "model_module_version": "1.5.0",
      "model_name": "DropdownModel",
      "state": {
       "_options_labels": [
        "Broad",
        "Narrow"
       ],
       "description": "gill_size",
       "index": 1,
       "layout": "IPY_MODEL_1e0f2aaf2896469f87648b102a26ea19",
       "style": "IPY_MODEL_32a87ca45b5244b5a935af770335128e"
      }
     },
     "9af779b6602843f3a2e5b79bf8d1f615": {
      "model_module": "@jupyter-widgets/base",
      "model_module_version": "1.2.0",
      "model_name": "LayoutModel",
      "state": {}
     },
     "9b3eaa648ce2442688bcdb3ffcecbbed": {
      "model_module": "@jupyter-widgets/base",
      "model_module_version": "1.2.0",
      "model_name": "LayoutModel",
      "state": {}
     },
     "9b65e97c055048ea8ba58754cc5f4f61": {
      "model_module": "@jupyter-widgets/controls",
      "model_module_version": "1.5.0",
      "model_name": "DropdownModel",
      "state": {
       "_options_labels": [
        "Enlarging",
        "Tapering"
       ],
       "description": "stalk_shape",
       "index": 0,
       "layout": "IPY_MODEL_5211425a8b6543058be82d9ecc31b44f",
       "style": "IPY_MODEL_37fecb1a1e804fb9af8c6124fa8771ec"
      }
     },
     "9b6e2ec072ac4579b79bcef59bea3cc5": {
      "model_module": "@jupyter-widgets/controls",
      "model_module_version": "1.5.0",
      "model_name": "DropdownModel",
      "state": {
       "_options_labels": [
        "Brown",
        "Buff",
        "Cinnamon",
        "Gray",
        "Green",
        "Pink",
        "Purple",
        "Red",
        "White",
        "Yellow"
       ],
       "description": "cap_color",
       "index": 0,
       "layout": "IPY_MODEL_1a26caf2f8e24fe18ec44e1b4808b1ad",
       "style": "IPY_MODEL_7c3599f5567b41b89f38e438cf9af24c"
      }
     },
     "9b8fc0fc3ad44b5390aa9dcc54a90fd9": {
      "model_module": "@jupyter-widgets/controls",
      "model_module_version": "1.5.0",
      "model_name": "DescriptionStyleModel",
      "state": {
       "description_width": ""
      }
     },
     "9ba88f1b195b4c29b5f4a6415619d470": {
      "model_module": "@jupyter-widgets/controls",
      "model_module_version": "1.5.0",
      "model_name": "CheckboxModel",
      "state": {
       "description": "bruises",
       "disabled": false,
       "layout": "IPY_MODEL_1d13bda29cdb413f88b6830a05cc6fc1",
       "style": "IPY_MODEL_7bdf83c99cdb4e7fb54d8e0e9f7aa6ce",
       "value": false
      }
     },
     "9bafe90ef92b43b6b328f192ac6ed674": {
      "model_module": "@jupyter-widgets/controls",
      "model_module_version": "1.5.0",
      "model_name": "DropdownModel",
      "state": {
       "_options_labels": [
        "Close",
        "Crowded",
        "Distant"
       ],
       "description": "gill_spacing",
       "index": 0,
       "layout": "IPY_MODEL_9a5a68a81a804fdd95fc5de2f035d1a4",
       "style": "IPY_MODEL_29ed608dab734c908947d64986168d74"
      }
     },
     "9bbd57ca0326488e80580e22f56adcca": {
      "model_module": "@jupyter-widgets/base",
      "model_module_version": "1.2.0",
      "model_name": "LayoutModel",
      "state": {}
     },
     "9bd0e380716f43dfa4fdbcfa89bfc5d0": {
      "model_module": "@jupyter-widgets/base",
      "model_module_version": "1.2.0",
      "model_name": "LayoutModel",
      "state": {}
     },
     "9c39ffa0cf3b49dd8ca6e00fad8b725a": {
      "model_module": "@jupyter-widgets/controls",
      "model_module_version": "1.5.0",
      "model_name": "DescriptionStyleModel",
      "state": {
       "description_width": ""
      }
     },
     "9c47dccdf8834ce292c7f212437d2006": {
      "model_module": "@jupyter-widgets/controls",
      "model_module_version": "1.5.0",
      "model_name": "DropdownModel",
      "state": {
       "_options_labels": [
        "Black",
        "Brown",
        "Buff",
        "Chocolate",
        "Green",
        "Orange",
        "Purple",
        "White",
        "Yellow"
       ],
       "description": "spore_print_color",
       "index": 0,
       "layout": "IPY_MODEL_cd27ea7df3144709b9f06cc10d6771f4",
       "style": "IPY_MODEL_fb5bae7b75284c8ea35c6a8a4ca0788d"
      }
     },
     "9c8a6d2494bb49e0af4857e0f74527de": {
      "model_module": "@jupyter-widgets/controls",
      "model_module_version": "1.5.0",
      "model_name": "DropdownModel",
      "state": {
       "_options_labels": [
        "Brown",
        "Buff",
        "Cinnamon",
        "Gray",
        "Orange",
        "Pink",
        "Red",
        "White",
        "Yellow"
       ],
       "description": "stalk_color_below_ring",
       "index": 0,
       "layout": "IPY_MODEL_5149dd7e42ac4f7c9d1d044834f161b0",
       "style": "IPY_MODEL_3aedcc38932f4945b17933389f5b57f3"
      }
     },
     "9c913da89f1a4568849ba7a1aec09fd6": {
      "model_module": "@jupyter-widgets/controls",
      "model_module_version": "1.5.0",
      "model_name": "DropdownModel",
      "state": {
       "_options_labels": [
        "Fiberous",
        "Scaly",
        "Silky",
        "Smooth"
       ],
       "description": "stalk_surface_above_ring",
       "index": 0,
       "layout": "IPY_MODEL_ccdadf2950c4424ab470e9c51f2d371c",
       "style": "IPY_MODEL_27fcb19e5cb14e018a298b91d5de3ac8"
      }
     },
     "9cc1fe981b4643bf8da57d845a6a3e4d": {
      "model_module": "@jupyter-widgets/controls",
      "model_module_version": "1.5.0",
      "model_name": "DropdownModel",
      "state": {
       "_options_labels": [
        "Brown",
        "Buff",
        "Cinnamon",
        "Gray",
        "Green",
        "Pink",
        "Purple",
        "Red",
        "White",
        "Yellow"
       ],
       "description": "cap_color",
       "index": 0,
       "layout": "IPY_MODEL_ea32d3d7f3884969bd70a20be28fa30e",
       "style": "IPY_MODEL_292eb332ad5c4109bb1cd3c7b0140895"
      }
     },
     "9ce90f169df840f6ae4bfbb6bcc8a07a": {
      "model_module": "@jupyter-widgets/controls",
      "model_module_version": "1.5.0",
      "model_name": "DescriptionStyleModel",
      "state": {
       "description_width": ""
      }
     },
     "9d0bab6118414ae494dde035dff77e79": {
      "model_module": "@jupyter-widgets/controls",
      "model_module_version": "1.5.0",
      "model_name": "DropdownModel",
      "state": {
       "_options_labels": [
        "Attached",
        "Descending",
        "Free",
        "Notched"
       ],
       "description": "gill_attachment",
       "index": 0,
       "layout": "IPY_MODEL_b541e13ba10343d7a5426ad7ca0c3050",
       "style": "IPY_MODEL_61d10c0d8d6a4691ac5b3d0747e91bcc"
      }
     },
     "9d3ee74596ed4b9f84179da29cf18f2f": {
      "model_module": "@jupyter-widgets/controls",
      "model_module_version": "1.5.0",
      "model_name": "DescriptionStyleModel",
      "state": {
       "description_width": ""
      }
     },
     "9d48572bee7147ecb82f8fb94d6675f7": {
      "model_module": "@jupyter-widgets/base",
      "model_module_version": "1.2.0",
      "model_name": "LayoutModel",
      "state": {}
     },
     "9d497370ed32488dbc6d8a575671d9ad": {
      "model_module": "@jupyter-widgets/base",
      "model_module_version": "1.2.0",
      "model_name": "LayoutModel",
      "state": {}
     },
     "9db905ec3fc444109fd170a5b0590fc8": {
      "model_module": "@jupyter-widgets/base",
      "model_module_version": "1.2.0",
      "model_name": "LayoutModel",
      "state": {}
     },
     "9dc9d9772ecf4d46aab09b7fc681b719": {
      "model_module": "@jupyter-widgets/output",
      "model_module_version": "1.0.0",
      "model_name": "OutputModel",
      "state": {
       "layout": "IPY_MODEL_e4a90848e299403cbd5601590422c062",
       "outputs": [
        {
         "name": "stdout",
         "output_type": "stream",
         "text": "Bruh\n"
        }
       ]
      }
     },
     "9df3d653ba4843528fa11b7eaef4eafd": {
      "model_module": "@jupyter-widgets/controls",
      "model_module_version": "1.5.0",
      "model_name": "DropdownModel",
      "state": {
       "_options_labels": [
        "Evanescent",
        "Flaring",
        "Large",
        "None",
        "Pendant",
        "Sheathing",
        "Zone"
       ],
       "description": "ring_type",
       "index": 0,
       "layout": "IPY_MODEL_b777f403714047b8b492e1d98acf58c5",
       "style": "IPY_MODEL_d39faa98dabb49c5b215b5bbb72e5f99"
      }
     },
     "9e6009bccf674909a03836f95b4c7e6d": {
      "model_module": "@jupyter-widgets/controls",
      "model_module_version": "1.5.0",
      "model_name": "DescriptionStyleModel",
      "state": {
       "description_width": ""
      }
     },
     "9e82d51a511441bcb15fc042bdcd931d": {
      "model_module": "@jupyter-widgets/controls",
      "model_module_version": "1.5.0",
      "model_name": "DescriptionStyleModel",
      "state": {
       "description_width": ""
      }
     },
     "9e923d473cd7433dadf52029c938fa40": {
      "model_module": "@jupyter-widgets/base",
      "model_module_version": "1.2.0",
      "model_name": "LayoutModel",
      "state": {}
     },
     "9e9f8ace37364665a6a6530a1d0338b7": {
      "model_module": "@jupyter-widgets/controls",
      "model_module_version": "1.5.0",
      "model_name": "DropdownModel",
      "state": {
       "_options_labels": [
        "Brown",
        "Orange",
        "White",
        "Yellow"
       ],
       "description": "veil_color",
       "index": 0,
       "layout": "IPY_MODEL_706471b3c5c449e8a1130420d1f1da85",
       "style": "IPY_MODEL_0c2bb434bc6e4bb2aee7d0448c9314f2"
      }
     },
     "9f64425833cd4ee293b49ab00529e9ef": {
      "model_module": "@jupyter-widgets/base",
      "model_module_version": "1.2.0",
      "model_name": "LayoutModel",
      "state": {}
     },
     "9f6b4a8607a0441c9f72a497f6ec289e": {
      "model_module": "@jupyter-widgets/controls",
      "model_module_version": "1.5.0",
      "model_name": "DropdownModel",
      "state": {
       "_options_labels": [
        "Bell",
        "Conical",
        "Convex",
        "Flat",
        "Knobbed",
        "Sunken"
       ],
       "description": "cap_shape",
       "index": 2,
       "layout": "IPY_MODEL_e7fc19836a0d41dcb7af5ec6c223167f",
       "style": "IPY_MODEL_81138edc19644db3af2b36265071c01d"
      }
     },
     "9fc06c22a85d40c09837663ec2eccb44": {
      "model_module": "@jupyter-widgets/base",
      "model_module_version": "1.2.0",
      "model_name": "LayoutModel",
      "state": {}
     },
     "9fcce68d498a44518c5ee99d78c4bcf2": {
      "model_module": "@jupyter-widgets/base",
      "model_module_version": "1.2.0",
      "model_name": "LayoutModel",
      "state": {}
     },
     "9ff8b78c69fd402e843b6331582801c4": {
      "model_module": "@jupyter-widgets/base",
      "model_module_version": "1.2.0",
      "model_name": "LayoutModel",
      "state": {}
     },
     "9ff96e6e60684c77b3024f8cb416579c": {
      "model_module": "@jupyter-widgets/controls",
      "model_module_version": "1.5.0",
      "model_name": "DropdownModel",
      "state": {
       "_options_labels": [
        "Fiberous",
        "Grooves",
        "Scaly",
        "Smooth"
       ],
       "description": "cap_surface",
       "index": 2,
       "layout": "IPY_MODEL_65d5a60f2db84a078d3ed639509e5c8f",
       "style": "IPY_MODEL_3a82a23812df445a843c49bb5cae3354"
      }
     },
     "a019efec9ad844e0b78460ca424335d2": {
      "model_module": "@jupyter-widgets/controls",
      "model_module_version": "1.5.0",
      "model_name": "DropdownModel",
      "state": {
       "_options_labels": [
        "Evanescent",
        "Flaring",
        "Large",
        "None",
        "Pendant",
        "Sheathing",
        "Zone"
       ],
       "description": "ring_type",
       "index": 0,
       "layout": "IPY_MODEL_88a89d648c524f838e205336b87fec8b",
       "style": "IPY_MODEL_521a633aadd8491f94ea034b10b1e07b"
      }
     },
     "a023ee44f08849a0a6cb693f074030d5": {
      "model_module": "@jupyter-widgets/base",
      "model_module_version": "1.2.0",
      "model_name": "LayoutModel",
      "state": {}
     },
     "a079cab7d347433fb1bdcd95ff31cb2d": {
      "model_module": "@jupyter-widgets/base",
      "model_module_version": "1.2.0",
      "model_name": "LayoutModel",
      "state": {}
     },
     "a114871e466e4d0bb3a45dcda7a31f02": {
      "model_module": "@jupyter-widgets/base",
      "model_module_version": "1.2.0",
      "model_name": "LayoutModel",
      "state": {}
     },
     "a1216df01a5547ec86f1138640a9f8ee": {
      "model_module": "@jupyter-widgets/base",
      "model_module_version": "1.2.0",
      "model_name": "LayoutModel",
      "state": {}
     },
     "a128fa5c73bd47a59a08bd91f48f2806": {
      "model_module": "@jupyter-widgets/controls",
      "model_module_version": "1.5.0",
      "model_name": "DescriptionStyleModel",
      "state": {
       "description_width": ""
      }
     },
     "a13822efe13b40128d111d67afe77689": {
      "model_module": "@jupyter-widgets/controls",
      "model_module_version": "1.5.0",
      "model_name": "DropdownModel",
      "state": {
       "_options_labels": [
        "Close",
        "Crowded",
        "Distant"
       ],
       "description": "gill_spacing",
       "index": 0,
       "layout": "IPY_MODEL_66eb1c32361f4c278d287cbf0a2be613",
       "style": "IPY_MODEL_76c5953b172243f0b2a0ed35036d6858"
      }
     },
     "a13f2dd9290043cbaeb17107343551de": {
      "model_module": "@jupyter-widgets/controls",
      "model_module_version": "1.5.0",
      "model_name": "DescriptionStyleModel",
      "state": {
       "description_width": ""
      }
     },
     "a14030e7a34c4b2e9052e835fc5d8f22": {
      "model_module": "@jupyter-widgets/controls",
      "model_module_version": "1.5.0",
      "model_name": "DescriptionStyleModel",
      "state": {
       "description_width": ""
      }
     },
     "a147611dc105441085948b2d682b7523": {
      "model_module": "@jupyter-widgets/controls",
      "model_module_version": "1.5.0",
      "model_name": "VBoxModel",
      "state": {
       "_dom_classes": [
        "widget-interact"
       ],
       "children": [
        "IPY_MODEL_21aedc2d839e462585ba2cdc2fdca3c0",
        "IPY_MODEL_32f030d75b444438a5d728a51230a8b3",
        "IPY_MODEL_cae235b5b9fb4f50b106d7124533251a",
        "IPY_MODEL_d41c73f441c94d4c8eb7e1b7331346b0",
        "IPY_MODEL_e69ff183af2e4960959354ae07b6d15b"
       ],
       "layout": "IPY_MODEL_bc31a7e1c98549bc92557b92dbb70fb0"
      }
     },
     "a14e9cd5c1fc4d1baba43be77a12ace6": {
      "model_module": "@jupyter-widgets/controls",
      "model_module_version": "1.5.0",
      "model_name": "DescriptionStyleModel",
      "state": {
       "description_width": ""
      }
     },
     "a17880c240d0441fb1df3efabab74474": {
      "model_module": "@jupyter-widgets/controls",
      "model_module_version": "1.5.0",
      "model_name": "VBoxModel",
      "state": {
       "_dom_classes": [
        "widget-interact"
       ],
       "children": [
        "IPY_MODEL_b5cfd462b0a04e248793429a134a01bc",
        "IPY_MODEL_4f27c816bb0049a982d4da6de13db764",
        "IPY_MODEL_d3c92ae135c640d4899a09e7e78451d5",
        "IPY_MODEL_f39cf9a0e0784cc48e0975603b6db603",
        "IPY_MODEL_d6bc0f485d6540498a926e71de703bd5",
        "IPY_MODEL_bedbcb2e4de64b09a89840ecee61eec2",
        "IPY_MODEL_d0332c04d5f74ea88ff48dba43405bf1",
        "IPY_MODEL_1281d8ba37934e8ebcc0e551dbc819af",
        "IPY_MODEL_bcc24b86aa5a457f91652b468f8e142d",
        "IPY_MODEL_db63c9a6ca824d849c97cf1ed8b5debd",
        "IPY_MODEL_5b52573875ec4aacace59ab757d47d9e",
        "IPY_MODEL_43a72d8a03c7405dab3fc9d6830a32bc",
        "IPY_MODEL_a6d43ec04ae349878c413e2a33ae0e10",
        "IPY_MODEL_78c7be73f0744ebca4d610581ceddcef",
        "IPY_MODEL_f92d182840054f7788c99242cec1380b",
        "IPY_MODEL_a4862e3be99745e0b4fed49bff063660",
        "IPY_MODEL_6595e88d0bae434eaba03abf82fbcc82",
        "IPY_MODEL_836f16116db142d49d2f1112066c956d",
        "IPY_MODEL_36286691d0fe4dd294f67f9dfdb9923c",
        "IPY_MODEL_327c77015f1e4283b1c3afb7d4650c33",
        "IPY_MODEL_f87ae99b9d7e4e299ecd045a31f462ee",
        "IPY_MODEL_38d9fbff8d704ea798659695f9acc057",
        "IPY_MODEL_d5fc49fb6f30439ebf8602d86555e28a"
       ],
       "layout": "IPY_MODEL_0524097e7f324c12aef618b06b71f60d"
      }
     },
     "a17cec194fcc4cf7b97022db9573dcb7": {
      "model_module": "@jupyter-widgets/controls",
      "model_module_version": "1.5.0",
      "model_name": "DropdownModel",
      "state": {
       "_options_labels": [
        "Bruises",
        "No Bruises"
       ],
       "description": "bruises",
       "index": 0,
       "layout": "IPY_MODEL_3b60cdcc30e74d7f88b0f70c14ed7365",
       "style": "IPY_MODEL_123667006b694895aee51afefb997aa1"
      }
     },
     "a1e18def77424de9a7529c4c0e636868": {
      "model_module": "@jupyter-widgets/base",
      "model_module_version": "1.2.0",
      "model_name": "LayoutModel",
      "state": {}
     },
     "a25f80fa0e834f0d9cb4d484adcf4416": {
      "model_module": "@jupyter-widgets/controls",
      "model_module_version": "1.5.0",
      "model_name": "DropdownModel",
      "state": {
       "_options_labels": [
        "Bell",
        "Conical",
        "Convex",
        "Flat",
        "Knobbed",
        "Sunken"
       ],
       "description": "cap_shape",
       "index": 0,
       "layout": "IPY_MODEL_c52f5a7db97e4b2082c31d7898223c41",
       "style": "IPY_MODEL_e0ea0595bcdb42e197a61d8f6cc8e5a7"
      }
     },
     "a287b2c2f98742759334e0c982966a4a": {
      "model_module": "@jupyter-widgets/controls",
      "model_module_version": "1.5.0",
      "model_name": "DescriptionStyleModel",
      "state": {
       "description_width": ""
      }
     },
     "a2e97d69f22840e4bd21d96ee63cb998": {
      "model_module": "@jupyter-widgets/base",
      "model_module_version": "1.2.0",
      "model_name": "LayoutModel",
      "state": {}
     },
     "a2f0757bdda24d1dae5aa6032e9335f8": {
      "model_module": "@jupyter-widgets/controls",
      "model_module_version": "1.5.0",
      "model_name": "DescriptionStyleModel",
      "state": {
       "description_width": ""
      }
     },
     "a335d49b100442118218c7c41b11195f": {
      "model_module": "@jupyter-widgets/output",
      "model_module_version": "1.0.0",
      "model_name": "OutputModel",
      "state": {
       "layout": "IPY_MODEL_14d0b1cfe8fa4e78a014d4d31af05a64",
       "outputs": [
        {
         "ename": "KeyError",
         "evalue": "'c'",
         "output_type": "error",
         "traceback": [
          "\u001b[0;31m---------------------------------------------------------------------------\u001b[0m",
          "\u001b[0;31mKeyError\u001b[0m                                  Traceback (most recent call last)",
          "\u001b[0;32m~/Documents/GitHub/andys-notebook/venv/lib/python3.9/site-packages/pandas/core/indexes/base.py\u001b[0m in \u001b[0;36mget_loc\u001b[0;34m(self, key, method, tolerance)\u001b[0m\n\u001b[1;32m   3079\u001b[0m             \u001b[0;32mtry\u001b[0m\u001b[0;34m:\u001b[0m\u001b[0;34m\u001b[0m\u001b[0;34m\u001b[0m\u001b[0m\n\u001b[0;32m-> 3080\u001b[0;31m                 \u001b[0;32mreturn\u001b[0m \u001b[0mself\u001b[0m\u001b[0;34m.\u001b[0m\u001b[0m_engine\u001b[0m\u001b[0;34m.\u001b[0m\u001b[0mget_loc\u001b[0m\u001b[0;34m(\u001b[0m\u001b[0mcasted_key\u001b[0m\u001b[0;34m)\u001b[0m\u001b[0;34m\u001b[0m\u001b[0;34m\u001b[0m\u001b[0m\n\u001b[0m\u001b[1;32m   3081\u001b[0m             \u001b[0;32mexcept\u001b[0m \u001b[0mKeyError\u001b[0m \u001b[0;32mas\u001b[0m \u001b[0merr\u001b[0m\u001b[0;34m:\u001b[0m\u001b[0;34m\u001b[0m\u001b[0;34m\u001b[0m\u001b[0m\n",
          "\u001b[0;32mpandas/_libs/index.pyx\u001b[0m in \u001b[0;36mpandas._libs.index.IndexEngine.get_loc\u001b[0;34m()\u001b[0m\n",
          "\u001b[0;32mpandas/_libs/index.pyx\u001b[0m in \u001b[0;36mpandas._libs.index.IndexEngine.get_loc\u001b[0;34m()\u001b[0m\n",
          "\u001b[0;32mpandas/_libs/hashtable_class_helper.pxi\u001b[0m in \u001b[0;36mpandas._libs.hashtable.PyObjectHashTable.get_item\u001b[0;34m()\u001b[0m\n",
          "\u001b[0;32mpandas/_libs/hashtable_class_helper.pxi\u001b[0m in \u001b[0;36mpandas._libs.hashtable.PyObjectHashTable.get_item\u001b[0;34m()\u001b[0m\n",
          "\u001b[0;31mKeyError\u001b[0m: 'c'",
          "\nThe above exception was the direct cause of the following exception:\n",
          "\u001b[0;31mKeyError\u001b[0m                                  Traceback (most recent call last)",
          "\u001b[0;32m~/Documents/GitHub/andys-notebook/venv/lib/python3.9/site-packages/ipywidgets/widgets/interaction.py\u001b[0m in \u001b[0;36mupdate\u001b[0;34m(self, *args)\u001b[0m\n\u001b[1;32m    254\u001b[0m                     \u001b[0mvalue\u001b[0m \u001b[0;34m=\u001b[0m \u001b[0mwidget\u001b[0m\u001b[0;34m.\u001b[0m\u001b[0mget_interact_value\u001b[0m\u001b[0;34m(\u001b[0m\u001b[0;34m)\u001b[0m\u001b[0;34m\u001b[0m\u001b[0;34m\u001b[0m\u001b[0m\n\u001b[1;32m    255\u001b[0m                     \u001b[0mself\u001b[0m\u001b[0;34m.\u001b[0m\u001b[0mkwargs\u001b[0m\u001b[0;34m[\u001b[0m\u001b[0mwidget\u001b[0m\u001b[0;34m.\u001b[0m\u001b[0m_kwarg\u001b[0m\u001b[0;34m]\u001b[0m \u001b[0;34m=\u001b[0m \u001b[0mvalue\u001b[0m\u001b[0;34m\u001b[0m\u001b[0;34m\u001b[0m\u001b[0m\n\u001b[0;32m--> 256\u001b[0;31m                 \u001b[0mself\u001b[0m\u001b[0;34m.\u001b[0m\u001b[0mresult\u001b[0m \u001b[0;34m=\u001b[0m \u001b[0mself\u001b[0m\u001b[0;34m.\u001b[0m\u001b[0mf\u001b[0m\u001b[0;34m(\u001b[0m\u001b[0;34m**\u001b[0m\u001b[0mself\u001b[0m\u001b[0;34m.\u001b[0m\u001b[0mkwargs\u001b[0m\u001b[0;34m)\u001b[0m\u001b[0;34m\u001b[0m\u001b[0;34m\u001b[0m\u001b[0m\n\u001b[0m\u001b[1;32m    257\u001b[0m                 \u001b[0mshow_inline_matplotlib_plots\u001b[0m\u001b[0;34m(\u001b[0m\u001b[0;34m)\u001b[0m\u001b[0;34m\u001b[0m\u001b[0;34m\u001b[0m\u001b[0m\n\u001b[1;32m    258\u001b[0m                 \u001b[0;32mif\u001b[0m \u001b[0mself\u001b[0m\u001b[0;34m.\u001b[0m\u001b[0mauto_display\u001b[0m \u001b[0;32mand\u001b[0m \u001b[0mself\u001b[0m\u001b[0;34m.\u001b[0m\u001b[0mresult\u001b[0m \u001b[0;32mis\u001b[0m \u001b[0;32mnot\u001b[0m \u001b[0;32mNone\u001b[0m\u001b[0;34m:\u001b[0m\u001b[0;34m\u001b[0m\u001b[0;34m\u001b[0m\u001b[0m\n",
          "\u001b[0;32m<ipython-input-58-cdf040ee7441>\u001b[0m in \u001b[0;36mcustom_classify\u001b[0;34m(cap_shape, cap_surface, cap_color, bruises, odor, gill_attachment, gill_spacing, gill_size, gill_color, stalk_shape, stalk_root, stalk_surface_above_ring, stalk_surface_below_ring, stalk_color_above_ring, stalk_color_below_ring, veil_type, veil_color, ring_number, ring_type, spore_print_color, population, habitat)\u001b[0m\n\u001b[1;32m    198\u001b[0m \u001b[0;34m\u001b[0m\u001b[0m\n\u001b[1;32m    199\u001b[0m     \u001b[0;31m# Return class probabilities\u001b[0m\u001b[0;34m\u001b[0m\u001b[0;34m\u001b[0m\u001b[0;34m\u001b[0m\u001b[0m\n\u001b[0;32m--> 200\u001b[0;31m     \u001b[0mprobabilities\u001b[0m \u001b[0;34m=\u001b[0m \u001b[0mnaive_bayes_classify\u001b[0m\u001b[0;34m(\u001b[0m\u001b[0mfeatures\u001b[0m\u001b[0;34m,\u001b[0m \u001b[0mprobs\u001b[0m\u001b[0;34m=\u001b[0m\u001b[0;32mTrue\u001b[0m\u001b[0;34m)\u001b[0m\u001b[0;34m\u001b[0m\u001b[0;34m\u001b[0m\u001b[0m\n\u001b[0m",
          "\u001b[0;32m<ipython-input-54-79b2bdb87d31>\u001b[0m in \u001b[0;36mnaive_bayes_classify\u001b[0;34m(sample, probs)\u001b[0m\n\u001b[1;32m     15\u001b[0m     \u001b[0;31m# Update our label probabilities using new likelihood\u001b[0m\u001b[0;34m\u001b[0m\u001b[0;34m\u001b[0m\u001b[0;34m\u001b[0m\u001b[0m\n\u001b[1;32m     16\u001b[0m     \u001b[0;32mfor\u001b[0m \u001b[0mcolumn\u001b[0m\u001b[0;34m,\u001b[0m \u001b[0mtable\u001b[0m \u001b[0;32min\u001b[0m \u001b[0mlikelihoods\u001b[0m\u001b[0;34m.\u001b[0m\u001b[0mitems\u001b[0m\u001b[0;34m(\u001b[0m\u001b[0;34m)\u001b[0m\u001b[0;34m:\u001b[0m\u001b[0;34m\u001b[0m\u001b[0;34m\u001b[0m\u001b[0m\n\u001b[0;32m---> 17\u001b[0;31m         \u001b[0mprobability\u001b[0m \u001b[0;34m*=\u001b[0m \u001b[0mtable\u001b[0m\u001b[0;34m[\u001b[0m\u001b[0msample\u001b[0m\u001b[0;34m[\u001b[0m\u001b[0mcolumn\u001b[0m\u001b[0;34m]\u001b[0m\u001b[0;34m]\u001b[0m\u001b[0;34m.\u001b[0m\u001b[0mreindex_like\u001b[0m\u001b[0;34m(\u001b[0m\u001b[0mprobability\u001b[0m\u001b[0;34m)\u001b[0m\u001b[0;34m.\u001b[0m\u001b[0mfillna\u001b[0m\u001b[0;34m(\u001b[0m\u001b[0;36m0\u001b[0m\u001b[0;34m)\u001b[0m\u001b[0;34m\u001b[0m\u001b[0;34m\u001b[0m\u001b[0m\n\u001b[0m\u001b[1;32m     18\u001b[0m \u001b[0;34m\u001b[0m\u001b[0m\n\u001b[1;32m     19\u001b[0m     \u001b[0;31m# Return artifact\u001b[0m\u001b[0;34m\u001b[0m\u001b[0;34m\u001b[0m\u001b[0;34m\u001b[0m\u001b[0m\n",
          "\u001b[0;32m~/Documents/GitHub/andys-notebook/venv/lib/python3.9/site-packages/pandas/core/series.py\u001b[0m in \u001b[0;36m__getitem__\u001b[0;34m(self, key)\u001b[0m\n\u001b[1;32m    822\u001b[0m \u001b[0;34m\u001b[0m\u001b[0m\n\u001b[1;32m    823\u001b[0m         \u001b[0;32melif\u001b[0m \u001b[0mkey_is_scalar\u001b[0m\u001b[0;34m:\u001b[0m\u001b[0;34m\u001b[0m\u001b[0;34m\u001b[0m\u001b[0m\n\u001b[0;32m--> 824\u001b[0;31m             \u001b[0;32mreturn\u001b[0m \u001b[0mself\u001b[0m\u001b[0;34m.\u001b[0m\u001b[0m_get_value\u001b[0m\u001b[0;34m(\u001b[0m\u001b[0mkey\u001b[0m\u001b[0;34m)\u001b[0m\u001b[0;34m\u001b[0m\u001b[0;34m\u001b[0m\u001b[0m\n\u001b[0m\u001b[1;32m    825\u001b[0m \u001b[0;34m\u001b[0m\u001b[0m\n\u001b[1;32m    826\u001b[0m         \u001b[0;32mif\u001b[0m \u001b[0mis_hashable\u001b[0m\u001b[0;34m(\u001b[0m\u001b[0mkey\u001b[0m\u001b[0;34m)\u001b[0m\u001b[0;34m:\u001b[0m\u001b[0;34m\u001b[0m\u001b[0;34m\u001b[0m\u001b[0m\n",
          "\u001b[0;32m~/Documents/GitHub/andys-notebook/venv/lib/python3.9/site-packages/pandas/core/series.py\u001b[0m in \u001b[0;36m_get_value\u001b[0;34m(self, label, takeable)\u001b[0m\n\u001b[1;32m    930\u001b[0m \u001b[0;34m\u001b[0m\u001b[0m\n\u001b[1;32m    931\u001b[0m         \u001b[0;31m# Similar to Index.get_value, but we do not fall back to positional\u001b[0m\u001b[0;34m\u001b[0m\u001b[0;34m\u001b[0m\u001b[0;34m\u001b[0m\u001b[0m\n\u001b[0;32m--> 932\u001b[0;31m         \u001b[0mloc\u001b[0m \u001b[0;34m=\u001b[0m \u001b[0mself\u001b[0m\u001b[0;34m.\u001b[0m\u001b[0mindex\u001b[0m\u001b[0;34m.\u001b[0m\u001b[0mget_loc\u001b[0m\u001b[0;34m(\u001b[0m\u001b[0mlabel\u001b[0m\u001b[0;34m)\u001b[0m\u001b[0;34m\u001b[0m\u001b[0;34m\u001b[0m\u001b[0m\n\u001b[0m\u001b[1;32m    933\u001b[0m         \u001b[0;32mreturn\u001b[0m \u001b[0mself\u001b[0m\u001b[0;34m.\u001b[0m\u001b[0mindex\u001b[0m\u001b[0;34m.\u001b[0m\u001b[0m_get_values_for_loc\u001b[0m\u001b[0;34m(\u001b[0m\u001b[0mself\u001b[0m\u001b[0;34m,\u001b[0m \u001b[0mloc\u001b[0m\u001b[0;34m,\u001b[0m \u001b[0mlabel\u001b[0m\u001b[0;34m)\u001b[0m\u001b[0;34m\u001b[0m\u001b[0;34m\u001b[0m\u001b[0m\n\u001b[1;32m    934\u001b[0m \u001b[0;34m\u001b[0m\u001b[0m\n",
          "\u001b[0;32m~/Documents/GitHub/andys-notebook/venv/lib/python3.9/site-packages/pandas/core/indexes/multi.py\u001b[0m in \u001b[0;36mget_loc\u001b[0;34m(self, key, method)\u001b[0m\n\u001b[1;32m   2872\u001b[0m \u001b[0;34m\u001b[0m\u001b[0m\n\u001b[1;32m   2873\u001b[0m         \u001b[0;32mif\u001b[0m \u001b[0;32mnot\u001b[0m \u001b[0misinstance\u001b[0m\u001b[0;34m(\u001b[0m\u001b[0mkey\u001b[0m\u001b[0;34m,\u001b[0m \u001b[0mtuple\u001b[0m\u001b[0;34m)\u001b[0m\u001b[0;34m:\u001b[0m\u001b[0;34m\u001b[0m\u001b[0;34m\u001b[0m\u001b[0m\n\u001b[0;32m-> 2874\u001b[0;31m             \u001b[0mloc\u001b[0m \u001b[0;34m=\u001b[0m \u001b[0mself\u001b[0m\u001b[0;34m.\u001b[0m\u001b[0m_get_level_indexer\u001b[0m\u001b[0;34m(\u001b[0m\u001b[0mkey\u001b[0m\u001b[0;34m,\u001b[0m \u001b[0mlevel\u001b[0m\u001b[0;34m=\u001b[0m\u001b[0;36m0\u001b[0m\u001b[0;34m)\u001b[0m\u001b[0;34m\u001b[0m\u001b[0;34m\u001b[0m\u001b[0m\n\u001b[0m\u001b[1;32m   2875\u001b[0m             \u001b[0;32mreturn\u001b[0m \u001b[0m_maybe_to_slice\u001b[0m\u001b[0;34m(\u001b[0m\u001b[0mloc\u001b[0m\u001b[0;34m)\u001b[0m\u001b[0;34m\u001b[0m\u001b[0;34m\u001b[0m\u001b[0m\n\u001b[1;32m   2876\u001b[0m \u001b[0;34m\u001b[0m\u001b[0m\n",
          "\u001b[0;32m~/Documents/GitHub/andys-notebook/venv/lib/python3.9/site-packages/pandas/core/indexes/multi.py\u001b[0m in \u001b[0;36m_get_level_indexer\u001b[0;34m(self, key, level, indexer)\u001b[0m\n\u001b[1;32m   3154\u001b[0m         \u001b[0;32melse\u001b[0m\u001b[0;34m:\u001b[0m\u001b[0;34m\u001b[0m\u001b[0;34m\u001b[0m\u001b[0m\n\u001b[1;32m   3155\u001b[0m \u001b[0;34m\u001b[0m\u001b[0m\n\u001b[0;32m-> 3156\u001b[0;31m             \u001b[0midx\u001b[0m \u001b[0;34m=\u001b[0m \u001b[0mself\u001b[0m\u001b[0;34m.\u001b[0m\u001b[0m_get_loc_single_level_index\u001b[0m\u001b[0;34m(\u001b[0m\u001b[0mlevel_index\u001b[0m\u001b[0;34m,\u001b[0m \u001b[0mkey\u001b[0m\u001b[0;34m)\u001b[0m\u001b[0;34m\u001b[0m\u001b[0;34m\u001b[0m\u001b[0m\n\u001b[0m\u001b[1;32m   3157\u001b[0m \u001b[0;34m\u001b[0m\u001b[0m\n\u001b[1;32m   3158\u001b[0m             \u001b[0;32mif\u001b[0m \u001b[0mlevel\u001b[0m \u001b[0;34m>\u001b[0m \u001b[0;36m0\u001b[0m \u001b[0;32mor\u001b[0m \u001b[0mself\u001b[0m\u001b[0;34m.\u001b[0m\u001b[0mlexsort_depth\u001b[0m \u001b[0;34m==\u001b[0m \u001b[0;36m0\u001b[0m\u001b[0;34m:\u001b[0m\u001b[0;34m\u001b[0m\u001b[0;34m\u001b[0m\u001b[0m\n",
          "\u001b[0;32m~/Documents/GitHub/andys-notebook/venv/lib/python3.9/site-packages/pandas/core/indexes/multi.py\u001b[0m in \u001b[0;36m_get_loc_single_level_index\u001b[0;34m(self, level_index, key)\u001b[0m\n\u001b[1;32m   2805\u001b[0m             \u001b[0;32mreturn\u001b[0m \u001b[0;34m-\u001b[0m\u001b[0;36m1\u001b[0m\u001b[0;34m\u001b[0m\u001b[0;34m\u001b[0m\u001b[0m\n\u001b[1;32m   2806\u001b[0m         \u001b[0;32melse\u001b[0m\u001b[0;34m:\u001b[0m\u001b[0;34m\u001b[0m\u001b[0;34m\u001b[0m\u001b[0m\n\u001b[0;32m-> 2807\u001b[0;31m             \u001b[0;32mreturn\u001b[0m \u001b[0mlevel_index\u001b[0m\u001b[0;34m.\u001b[0m\u001b[0mget_loc\u001b[0m\u001b[0;34m(\u001b[0m\u001b[0mkey\u001b[0m\u001b[0;34m)\u001b[0m\u001b[0;34m\u001b[0m\u001b[0;34m\u001b[0m\u001b[0m\n\u001b[0m\u001b[1;32m   2808\u001b[0m \u001b[0;34m\u001b[0m\u001b[0m\n\u001b[1;32m   2809\u001b[0m     \u001b[0;32mdef\u001b[0m \u001b[0mget_loc\u001b[0m\u001b[0;34m(\u001b[0m\u001b[0mself\u001b[0m\u001b[0;34m,\u001b[0m \u001b[0mkey\u001b[0m\u001b[0;34m,\u001b[0m \u001b[0mmethod\u001b[0m\u001b[0;34m=\u001b[0m\u001b[0;32mNone\u001b[0m\u001b[0;34m)\u001b[0m\u001b[0;34m:\u001b[0m\u001b[0;34m\u001b[0m\u001b[0;34m\u001b[0m\u001b[0m\n",
          "\u001b[0;32m~/Documents/GitHub/andys-notebook/venv/lib/python3.9/site-packages/pandas/core/indexes/base.py\u001b[0m in \u001b[0;36mget_loc\u001b[0;34m(self, key, method, tolerance)\u001b[0m\n\u001b[1;32m   3080\u001b[0m                 \u001b[0;32mreturn\u001b[0m \u001b[0mself\u001b[0m\u001b[0;34m.\u001b[0m\u001b[0m_engine\u001b[0m\u001b[0;34m.\u001b[0m\u001b[0mget_loc\u001b[0m\u001b[0;34m(\u001b[0m\u001b[0mcasted_key\u001b[0m\u001b[0;34m)\u001b[0m\u001b[0;34m\u001b[0m\u001b[0;34m\u001b[0m\u001b[0m\n\u001b[1;32m   3081\u001b[0m             \u001b[0;32mexcept\u001b[0m \u001b[0mKeyError\u001b[0m \u001b[0;32mas\u001b[0m \u001b[0merr\u001b[0m\u001b[0;34m:\u001b[0m\u001b[0;34m\u001b[0m\u001b[0;34m\u001b[0m\u001b[0m\n\u001b[0;32m-> 3082\u001b[0;31m                 \u001b[0;32mraise\u001b[0m \u001b[0mKeyError\u001b[0m\u001b[0;34m(\u001b[0m\u001b[0mkey\u001b[0m\u001b[0;34m)\u001b[0m \u001b[0;32mfrom\u001b[0m \u001b[0merr\u001b[0m\u001b[0;34m\u001b[0m\u001b[0;34m\u001b[0m\u001b[0m\n\u001b[0m\u001b[1;32m   3083\u001b[0m \u001b[0;34m\u001b[0m\u001b[0m\n\u001b[1;32m   3084\u001b[0m         \u001b[0;32mif\u001b[0m \u001b[0mtolerance\u001b[0m \u001b[0;32mis\u001b[0m \u001b[0;32mnot\u001b[0m \u001b[0;32mNone\u001b[0m\u001b[0;34m:\u001b[0m\u001b[0;34m\u001b[0m\u001b[0;34m\u001b[0m\u001b[0m\n",
          "\u001b[0;31mKeyError\u001b[0m: 'c'"
         ]
        }
       ]
      }
     },
     "a341ad017fd9456f93dde33bae9a5876": {
      "model_module": "@jupyter-widgets/controls",
      "model_module_version": "1.5.0",
      "model_name": "DropdownModel",
      "state": {
       "_options_labels": [
        "Enlarging",
        "Tapering"
       ],
       "description": "stalk_shape",
       "index": 0,
       "layout": "IPY_MODEL_bf9d73c0f7fd41be894743472686a22d",
       "style": "IPY_MODEL_fcd4c736051241e5a1b83d4c8c171ebe"
      }
     },
     "a347df6b9ebc4f93937f75019ec62ca1": {
      "model_module": "@jupyter-widgets/base",
      "model_module_version": "1.2.0",
      "model_name": "LayoutModel",
      "state": {}
     },
     "a35fbeae596c43a48f56ddd3dea1f3cc": {
      "model_module": "@jupyter-widgets/base",
      "model_module_version": "1.2.0",
      "model_name": "LayoutModel",
      "state": {}
     },
     "a36e0642dce0455984a568f5394c8372": {
      "model_module": "@jupyter-widgets/base",
      "model_module_version": "1.2.0",
      "model_name": "LayoutModel",
      "state": {}
     },
     "a37e0f0ea51149649759806cc3186816": {
      "model_module": "@jupyter-widgets/controls",
      "model_module_version": "1.5.0",
      "model_name": "DescriptionStyleModel",
      "state": {
       "description_width": ""
      }
     },
     "a38d8b8ecb3a4ad98076cdab3da53743": {
      "model_module": "@jupyter-widgets/controls",
      "model_module_version": "1.5.0",
      "model_name": "DropdownModel",
      "state": {
       "_options_labels": [
        "Grasses",
        "Leaves",
        "Meadows",
        "Paths",
        "Urban",
        "Waste",
        "Woods"
       ],
       "description": "habitat",
       "index": 0,
       "layout": "IPY_MODEL_75cb639c4e3b40fc98f9326a8f7c9322",
       "style": "IPY_MODEL_3f9721a790c3456f983aae6b5bafc1af"
      }
     },
     "a3b14d9bec6d49df8d793e3a3b79df69": {
      "model_module": "@jupyter-widgets/controls",
      "model_module_version": "1.5.0",
      "model_name": "DropdownModel",
      "state": {
       "_options_labels": [
        "Brown",
        "Buff",
        "Cinnamon",
        "Gray",
        "Orange",
        "Pink",
        "Red",
        "White",
        "Yellow"
       ],
       "description": "stalk_color_above_ring",
       "index": 6,
       "layout": "IPY_MODEL_13701d4912e54c3cad76c8fe4da6a02b",
       "style": "IPY_MODEL_8ecb332b568f498196d498e3a389d60f"
      }
     },
     "a3b7569ed66e4d2c9c41e833b07dd79c": {
      "model_module": "@jupyter-widgets/output",
      "model_module_version": "1.0.0",
      "model_name": "OutputModel",
      "state": {
       "layout": "IPY_MODEL_1c800bb7236c468b8d90cf1ca015673d",
       "outputs": [
        {
         "name": "stdout",
         "output_type": "stream",
         "text": "cap-shape\ncap-surface\ncap-color\nbruises\nodor\ngill-attachment\ngill-spacing\ngill-size\ngill-color\nstalk-shape\nstalk-root\nstalk-surface-above-ring\nstalk-surface-below-ring\nstalk-color-above-ring\nstalk-color-below-ring\nveil-type\nveil-color\nring-number\nring-type\n"
        },
        {
         "ename": "KeyError",
         "evalue": "'c'",
         "output_type": "error",
         "traceback": [
          "\u001b[0;31m---------------------------------------------------------------------------\u001b[0m",
          "\u001b[0;31mKeyError\u001b[0m                                  Traceback (most recent call last)",
          "\u001b[0;32m~/Documents/GitHub/andys-notebook/venv/lib/python3.9/site-packages/pandas/core/indexes/base.py\u001b[0m in \u001b[0;36mget_loc\u001b[0;34m(self, key, method, tolerance)\u001b[0m\n\u001b[1;32m   3079\u001b[0m             \u001b[0;32mtry\u001b[0m\u001b[0;34m:\u001b[0m\u001b[0;34m\u001b[0m\u001b[0;34m\u001b[0m\u001b[0m\n\u001b[0;32m-> 3080\u001b[0;31m                 \u001b[0;32mreturn\u001b[0m \u001b[0mself\u001b[0m\u001b[0;34m.\u001b[0m\u001b[0m_engine\u001b[0m\u001b[0;34m.\u001b[0m\u001b[0mget_loc\u001b[0m\u001b[0;34m(\u001b[0m\u001b[0mcasted_key\u001b[0m\u001b[0;34m)\u001b[0m\u001b[0;34m\u001b[0m\u001b[0;34m\u001b[0m\u001b[0m\n\u001b[0m\u001b[1;32m   3081\u001b[0m             \u001b[0;32mexcept\u001b[0m \u001b[0mKeyError\u001b[0m \u001b[0;32mas\u001b[0m \u001b[0merr\u001b[0m\u001b[0;34m:\u001b[0m\u001b[0;34m\u001b[0m\u001b[0;34m\u001b[0m\u001b[0m\n",
          "\u001b[0;32mpandas/_libs/index.pyx\u001b[0m in \u001b[0;36mpandas._libs.index.IndexEngine.get_loc\u001b[0;34m()\u001b[0m\n",
          "\u001b[0;32mpandas/_libs/index.pyx\u001b[0m in \u001b[0;36mpandas._libs.index.IndexEngine.get_loc\u001b[0;34m()\u001b[0m\n",
          "\u001b[0;32mpandas/_libs/hashtable_class_helper.pxi\u001b[0m in \u001b[0;36mpandas._libs.hashtable.PyObjectHashTable.get_item\u001b[0;34m()\u001b[0m\n",
          "\u001b[0;32mpandas/_libs/hashtable_class_helper.pxi\u001b[0m in \u001b[0;36mpandas._libs.hashtable.PyObjectHashTable.get_item\u001b[0;34m()\u001b[0m\n",
          "\u001b[0;31mKeyError\u001b[0m: 'c'",
          "\nThe above exception was the direct cause of the following exception:\n",
          "\u001b[0;31mKeyError\u001b[0m                                  Traceback (most recent call last)",
          "\u001b[0;32m~/Documents/GitHub/andys-notebook/venv/lib/python3.9/site-packages/ipywidgets/widgets/interaction.py\u001b[0m in \u001b[0;36mupdate\u001b[0;34m(self, *args)\u001b[0m\n\u001b[1;32m    254\u001b[0m                     \u001b[0mvalue\u001b[0m \u001b[0;34m=\u001b[0m \u001b[0mwidget\u001b[0m\u001b[0;34m.\u001b[0m\u001b[0mget_interact_value\u001b[0m\u001b[0;34m(\u001b[0m\u001b[0;34m)\u001b[0m\u001b[0;34m\u001b[0m\u001b[0;34m\u001b[0m\u001b[0m\n\u001b[1;32m    255\u001b[0m                     \u001b[0mself\u001b[0m\u001b[0;34m.\u001b[0m\u001b[0mkwargs\u001b[0m\u001b[0;34m[\u001b[0m\u001b[0mwidget\u001b[0m\u001b[0;34m.\u001b[0m\u001b[0m_kwarg\u001b[0m\u001b[0;34m]\u001b[0m \u001b[0;34m=\u001b[0m \u001b[0mvalue\u001b[0m\u001b[0;34m\u001b[0m\u001b[0;34m\u001b[0m\u001b[0m\n\u001b[0;32m--> 256\u001b[0;31m                 \u001b[0mself\u001b[0m\u001b[0;34m.\u001b[0m\u001b[0mresult\u001b[0m \u001b[0;34m=\u001b[0m \u001b[0mself\u001b[0m\u001b[0;34m.\u001b[0m\u001b[0mf\u001b[0m\u001b[0;34m(\u001b[0m\u001b[0;34m**\u001b[0m\u001b[0mself\u001b[0m\u001b[0;34m.\u001b[0m\u001b[0mkwargs\u001b[0m\u001b[0;34m)\u001b[0m\u001b[0;34m\u001b[0m\u001b[0;34m\u001b[0m\u001b[0m\n\u001b[0m\u001b[1;32m    257\u001b[0m                 \u001b[0mshow_inline_matplotlib_plots\u001b[0m\u001b[0;34m(\u001b[0m\u001b[0;34m)\u001b[0m\u001b[0;34m\u001b[0m\u001b[0;34m\u001b[0m\u001b[0m\n\u001b[1;32m    258\u001b[0m                 \u001b[0;32mif\u001b[0m \u001b[0mself\u001b[0m\u001b[0;34m.\u001b[0m\u001b[0mauto_display\u001b[0m \u001b[0;32mand\u001b[0m \u001b[0mself\u001b[0m\u001b[0;34m.\u001b[0m\u001b[0mresult\u001b[0m \u001b[0;32mis\u001b[0m \u001b[0;32mnot\u001b[0m \u001b[0;32mNone\u001b[0m\u001b[0;34m:\u001b[0m\u001b[0;34m\u001b[0m\u001b[0;34m\u001b[0m\u001b[0m\n",
          "\u001b[0;32m<ipython-input-61-cdf040ee7441>\u001b[0m in \u001b[0;36mcustom_classify\u001b[0;34m(cap_shape, cap_surface, cap_color, bruises, odor, gill_attachment, gill_spacing, gill_size, gill_color, stalk_shape, stalk_root, stalk_surface_above_ring, stalk_surface_below_ring, stalk_color_above_ring, stalk_color_below_ring, veil_type, veil_color, ring_number, ring_type, spore_print_color, population, habitat)\u001b[0m\n\u001b[1;32m    198\u001b[0m \u001b[0;34m\u001b[0m\u001b[0m\n\u001b[1;32m    199\u001b[0m     \u001b[0;31m# Return class probabilities\u001b[0m\u001b[0;34m\u001b[0m\u001b[0;34m\u001b[0m\u001b[0;34m\u001b[0m\u001b[0m\n\u001b[0;32m--> 200\u001b[0;31m     \u001b[0mprobabilities\u001b[0m \u001b[0;34m=\u001b[0m \u001b[0mnaive_bayes_classify\u001b[0m\u001b[0;34m(\u001b[0m\u001b[0mfeatures\u001b[0m\u001b[0;34m,\u001b[0m \u001b[0mprobs\u001b[0m\u001b[0;34m=\u001b[0m\u001b[0;32mTrue\u001b[0m\u001b[0;34m)\u001b[0m\u001b[0;34m\u001b[0m\u001b[0;34m\u001b[0m\u001b[0m\n\u001b[0m",
          "\u001b[0;32m<ipython-input-60-b74615125833>\u001b[0m in \u001b[0;36mnaive_bayes_classify\u001b[0;34m(sample, probs)\u001b[0m\n\u001b[1;32m     16\u001b[0m     \u001b[0;32mfor\u001b[0m \u001b[0mcolumn\u001b[0m\u001b[0;34m,\u001b[0m \u001b[0mtable\u001b[0m \u001b[0;32min\u001b[0m \u001b[0mlikelihoods\u001b[0m\u001b[0;34m.\u001b[0m\u001b[0mitems\u001b[0m\u001b[0;34m(\u001b[0m\u001b[0;34m)\u001b[0m\u001b[0;34m:\u001b[0m\u001b[0;34m\u001b[0m\u001b[0;34m\u001b[0m\u001b[0m\n\u001b[1;32m     17\u001b[0m         \u001b[0mprint\u001b[0m\u001b[0;34m(\u001b[0m\u001b[0mcolumn\u001b[0m\u001b[0;34m)\u001b[0m\u001b[0;34m\u001b[0m\u001b[0;34m\u001b[0m\u001b[0m\n\u001b[0;32m---> 18\u001b[0;31m         \u001b[0mprobability\u001b[0m \u001b[0;34m*=\u001b[0m \u001b[0mtable\u001b[0m\u001b[0;34m[\u001b[0m\u001b[0msample\u001b[0m\u001b[0;34m[\u001b[0m\u001b[0mcolumn\u001b[0m\u001b[0;34m]\u001b[0m\u001b[0;34m]\u001b[0m\u001b[0;34m.\u001b[0m\u001b[0mreindex_like\u001b[0m\u001b[0;34m(\u001b[0m\u001b[0mprobability\u001b[0m\u001b[0;34m)\u001b[0m\u001b[0;34m.\u001b[0m\u001b[0mfillna\u001b[0m\u001b[0;34m(\u001b[0m\u001b[0;36m0\u001b[0m\u001b[0;34m)\u001b[0m\u001b[0;34m\u001b[0m\u001b[0;34m\u001b[0m\u001b[0m\n\u001b[0m\u001b[1;32m     19\u001b[0m \u001b[0;34m\u001b[0m\u001b[0m\n\u001b[1;32m     20\u001b[0m     \u001b[0;31m# Return artifact\u001b[0m\u001b[0;34m\u001b[0m\u001b[0;34m\u001b[0m\u001b[0;34m\u001b[0m\u001b[0m\n",
          "\u001b[0;32m~/Documents/GitHub/andys-notebook/venv/lib/python3.9/site-packages/pandas/core/series.py\u001b[0m in \u001b[0;36m__getitem__\u001b[0;34m(self, key)\u001b[0m\n\u001b[1;32m    822\u001b[0m \u001b[0;34m\u001b[0m\u001b[0m\n\u001b[1;32m    823\u001b[0m         \u001b[0;32melif\u001b[0m \u001b[0mkey_is_scalar\u001b[0m\u001b[0;34m:\u001b[0m\u001b[0;34m\u001b[0m\u001b[0;34m\u001b[0m\u001b[0m\n\u001b[0;32m--> 824\u001b[0;31m             \u001b[0;32mreturn\u001b[0m \u001b[0mself\u001b[0m\u001b[0;34m.\u001b[0m\u001b[0m_get_value\u001b[0m\u001b[0;34m(\u001b[0m\u001b[0mkey\u001b[0m\u001b[0;34m)\u001b[0m\u001b[0;34m\u001b[0m\u001b[0;34m\u001b[0m\u001b[0m\n\u001b[0m\u001b[1;32m    825\u001b[0m \u001b[0;34m\u001b[0m\u001b[0m\n\u001b[1;32m    826\u001b[0m         \u001b[0;32mif\u001b[0m \u001b[0mis_hashable\u001b[0m\u001b[0;34m(\u001b[0m\u001b[0mkey\u001b[0m\u001b[0;34m)\u001b[0m\u001b[0;34m:\u001b[0m\u001b[0;34m\u001b[0m\u001b[0;34m\u001b[0m\u001b[0m\n",
          "\u001b[0;32m~/Documents/GitHub/andys-notebook/venv/lib/python3.9/site-packages/pandas/core/series.py\u001b[0m in \u001b[0;36m_get_value\u001b[0;34m(self, label, takeable)\u001b[0m\n\u001b[1;32m    930\u001b[0m \u001b[0;34m\u001b[0m\u001b[0m\n\u001b[1;32m    931\u001b[0m         \u001b[0;31m# Similar to Index.get_value, but we do not fall back to positional\u001b[0m\u001b[0;34m\u001b[0m\u001b[0;34m\u001b[0m\u001b[0;34m\u001b[0m\u001b[0m\n\u001b[0;32m--> 932\u001b[0;31m         \u001b[0mloc\u001b[0m \u001b[0;34m=\u001b[0m \u001b[0mself\u001b[0m\u001b[0;34m.\u001b[0m\u001b[0mindex\u001b[0m\u001b[0;34m.\u001b[0m\u001b[0mget_loc\u001b[0m\u001b[0;34m(\u001b[0m\u001b[0mlabel\u001b[0m\u001b[0;34m)\u001b[0m\u001b[0;34m\u001b[0m\u001b[0;34m\u001b[0m\u001b[0m\n\u001b[0m\u001b[1;32m    933\u001b[0m         \u001b[0;32mreturn\u001b[0m \u001b[0mself\u001b[0m\u001b[0;34m.\u001b[0m\u001b[0mindex\u001b[0m\u001b[0;34m.\u001b[0m\u001b[0m_get_values_for_loc\u001b[0m\u001b[0;34m(\u001b[0m\u001b[0mself\u001b[0m\u001b[0;34m,\u001b[0m \u001b[0mloc\u001b[0m\u001b[0;34m,\u001b[0m \u001b[0mlabel\u001b[0m\u001b[0;34m)\u001b[0m\u001b[0;34m\u001b[0m\u001b[0;34m\u001b[0m\u001b[0m\n\u001b[1;32m    934\u001b[0m \u001b[0;34m\u001b[0m\u001b[0m\n",
          "\u001b[0;32m~/Documents/GitHub/andys-notebook/venv/lib/python3.9/site-packages/pandas/core/indexes/multi.py\u001b[0m in \u001b[0;36mget_loc\u001b[0;34m(self, key, method)\u001b[0m\n\u001b[1;32m   2872\u001b[0m \u001b[0;34m\u001b[0m\u001b[0m\n\u001b[1;32m   2873\u001b[0m         \u001b[0;32mif\u001b[0m \u001b[0;32mnot\u001b[0m \u001b[0misinstance\u001b[0m\u001b[0;34m(\u001b[0m\u001b[0mkey\u001b[0m\u001b[0;34m,\u001b[0m \u001b[0mtuple\u001b[0m\u001b[0;34m)\u001b[0m\u001b[0;34m:\u001b[0m\u001b[0;34m\u001b[0m\u001b[0;34m\u001b[0m\u001b[0m\n\u001b[0;32m-> 2874\u001b[0;31m             \u001b[0mloc\u001b[0m \u001b[0;34m=\u001b[0m \u001b[0mself\u001b[0m\u001b[0;34m.\u001b[0m\u001b[0m_get_level_indexer\u001b[0m\u001b[0;34m(\u001b[0m\u001b[0mkey\u001b[0m\u001b[0;34m,\u001b[0m \u001b[0mlevel\u001b[0m\u001b[0;34m=\u001b[0m\u001b[0;36m0\u001b[0m\u001b[0;34m)\u001b[0m\u001b[0;34m\u001b[0m\u001b[0;34m\u001b[0m\u001b[0m\n\u001b[0m\u001b[1;32m   2875\u001b[0m             \u001b[0;32mreturn\u001b[0m \u001b[0m_maybe_to_slice\u001b[0m\u001b[0;34m(\u001b[0m\u001b[0mloc\u001b[0m\u001b[0;34m)\u001b[0m\u001b[0;34m\u001b[0m\u001b[0;34m\u001b[0m\u001b[0m\n\u001b[1;32m   2876\u001b[0m \u001b[0;34m\u001b[0m\u001b[0m\n",
          "\u001b[0;32m~/Documents/GitHub/andys-notebook/venv/lib/python3.9/site-packages/pandas/core/indexes/multi.py\u001b[0m in \u001b[0;36m_get_level_indexer\u001b[0;34m(self, key, level, indexer)\u001b[0m\n\u001b[1;32m   3154\u001b[0m         \u001b[0;32melse\u001b[0m\u001b[0;34m:\u001b[0m\u001b[0;34m\u001b[0m\u001b[0;34m\u001b[0m\u001b[0m\n\u001b[1;32m   3155\u001b[0m \u001b[0;34m\u001b[0m\u001b[0m\n\u001b[0;32m-> 3156\u001b[0;31m             \u001b[0midx\u001b[0m \u001b[0;34m=\u001b[0m \u001b[0mself\u001b[0m\u001b[0;34m.\u001b[0m\u001b[0m_get_loc_single_level_index\u001b[0m\u001b[0;34m(\u001b[0m\u001b[0mlevel_index\u001b[0m\u001b[0;34m,\u001b[0m \u001b[0mkey\u001b[0m\u001b[0;34m)\u001b[0m\u001b[0;34m\u001b[0m\u001b[0;34m\u001b[0m\u001b[0m\n\u001b[0m\u001b[1;32m   3157\u001b[0m \u001b[0;34m\u001b[0m\u001b[0m\n\u001b[1;32m   3158\u001b[0m             \u001b[0;32mif\u001b[0m \u001b[0mlevel\u001b[0m \u001b[0;34m>\u001b[0m \u001b[0;36m0\u001b[0m \u001b[0;32mor\u001b[0m \u001b[0mself\u001b[0m\u001b[0;34m.\u001b[0m\u001b[0mlexsort_depth\u001b[0m \u001b[0;34m==\u001b[0m \u001b[0;36m0\u001b[0m\u001b[0;34m:\u001b[0m\u001b[0;34m\u001b[0m\u001b[0;34m\u001b[0m\u001b[0m\n",
          "\u001b[0;32m~/Documents/GitHub/andys-notebook/venv/lib/python3.9/site-packages/pandas/core/indexes/multi.py\u001b[0m in \u001b[0;36m_get_loc_single_level_index\u001b[0;34m(self, level_index, key)\u001b[0m\n\u001b[1;32m   2805\u001b[0m             \u001b[0;32mreturn\u001b[0m \u001b[0;34m-\u001b[0m\u001b[0;36m1\u001b[0m\u001b[0;34m\u001b[0m\u001b[0;34m\u001b[0m\u001b[0m\n\u001b[1;32m   2806\u001b[0m         \u001b[0;32melse\u001b[0m\u001b[0;34m:\u001b[0m\u001b[0;34m\u001b[0m\u001b[0;34m\u001b[0m\u001b[0m\n\u001b[0;32m-> 2807\u001b[0;31m             \u001b[0;32mreturn\u001b[0m \u001b[0mlevel_index\u001b[0m\u001b[0;34m.\u001b[0m\u001b[0mget_loc\u001b[0m\u001b[0;34m(\u001b[0m\u001b[0mkey\u001b[0m\u001b[0;34m)\u001b[0m\u001b[0;34m\u001b[0m\u001b[0;34m\u001b[0m\u001b[0m\n\u001b[0m\u001b[1;32m   2808\u001b[0m \u001b[0;34m\u001b[0m\u001b[0m\n\u001b[1;32m   2809\u001b[0m     \u001b[0;32mdef\u001b[0m \u001b[0mget_loc\u001b[0m\u001b[0;34m(\u001b[0m\u001b[0mself\u001b[0m\u001b[0;34m,\u001b[0m \u001b[0mkey\u001b[0m\u001b[0;34m,\u001b[0m \u001b[0mmethod\u001b[0m\u001b[0;34m=\u001b[0m\u001b[0;32mNone\u001b[0m\u001b[0;34m)\u001b[0m\u001b[0;34m:\u001b[0m\u001b[0;34m\u001b[0m\u001b[0;34m\u001b[0m\u001b[0m\n",
          "\u001b[0;32m~/Documents/GitHub/andys-notebook/venv/lib/python3.9/site-packages/pandas/core/indexes/base.py\u001b[0m in \u001b[0;36mget_loc\u001b[0;34m(self, key, method, tolerance)\u001b[0m\n\u001b[1;32m   3080\u001b[0m                 \u001b[0;32mreturn\u001b[0m \u001b[0mself\u001b[0m\u001b[0;34m.\u001b[0m\u001b[0m_engine\u001b[0m\u001b[0;34m.\u001b[0m\u001b[0mget_loc\u001b[0m\u001b[0;34m(\u001b[0m\u001b[0mcasted_key\u001b[0m\u001b[0;34m)\u001b[0m\u001b[0;34m\u001b[0m\u001b[0;34m\u001b[0m\u001b[0m\n\u001b[1;32m   3081\u001b[0m             \u001b[0;32mexcept\u001b[0m \u001b[0mKeyError\u001b[0m \u001b[0;32mas\u001b[0m \u001b[0merr\u001b[0m\u001b[0;34m:\u001b[0m\u001b[0;34m\u001b[0m\u001b[0;34m\u001b[0m\u001b[0m\n\u001b[0;32m-> 3082\u001b[0;31m                 \u001b[0;32mraise\u001b[0m \u001b[0mKeyError\u001b[0m\u001b[0;34m(\u001b[0m\u001b[0mkey\u001b[0m\u001b[0;34m)\u001b[0m \u001b[0;32mfrom\u001b[0m \u001b[0merr\u001b[0m\u001b[0;34m\u001b[0m\u001b[0;34m\u001b[0m\u001b[0m\n\u001b[0m\u001b[1;32m   3083\u001b[0m \u001b[0;34m\u001b[0m\u001b[0m\n\u001b[1;32m   3084\u001b[0m         \u001b[0;32mif\u001b[0m \u001b[0mtolerance\u001b[0m \u001b[0;32mis\u001b[0m \u001b[0;32mnot\u001b[0m \u001b[0;32mNone\u001b[0m\u001b[0;34m:\u001b[0m\u001b[0;34m\u001b[0m\u001b[0;34m\u001b[0m\u001b[0m\n",
          "\u001b[0;31mKeyError\u001b[0m: 'c'"
         ]
        }
       ]
      }
     },
     "a3d10480e03747949aab794bf03dff2a": {
      "model_module": "@jupyter-widgets/base",
      "model_module_version": "1.2.0",
      "model_name": "LayoutModel",
      "state": {}
     },
     "a3ea50ec2b4b477f9fcbed200471fb2a": {
      "model_module": "@jupyter-widgets/controls",
      "model_module_version": "1.5.0",
      "model_name": "DropdownModel",
      "state": {
       "_options_labels": [
        "Almond",
        "Anise",
        "Creosote",
        "Fishy",
        "Foul",
        "Musty",
        "None",
        "Pungent",
        "Spicy"
       ],
       "description": "odor",
       "index": 0,
       "layout": "IPY_MODEL_37a6845baffc45cba989684bd0c46ee4",
       "style": "IPY_MODEL_a7d6ee82948545a983be7af4d2a65511"
      }
     },
     "a3f539262ff24341b58fc211a717da29": {
      "model_module": "@jupyter-widgets/controls",
      "model_module_version": "1.5.0",
      "model_name": "DescriptionStyleModel",
      "state": {
       "description_width": ""
      }
     },
     "a446994c630049ab847830935507b0d2": {
      "model_module": "@jupyter-widgets/base",
      "model_module_version": "1.2.0",
      "model_name": "LayoutModel",
      "state": {}
     },
     "a4862e3be99745e0b4fed49bff063660": {
      "model_module": "@jupyter-widgets/controls",
      "model_module_version": "1.5.0",
      "model_name": "DropdownModel",
      "state": {
       "_options_labels": [
        "Partial",
        "Universal"
       ],
       "description": "veil_type",
       "index": 0,
       "layout": "IPY_MODEL_4d12dac70df44aec93bba2e4512e24c6",
       "style": "IPY_MODEL_b6277075221b4bae9ca7f3a7312030ff"
      }
     },
     "a4bf5e9155ae43b1b9da01065ed55117": {
      "model_module": "@jupyter-widgets/controls",
      "model_module_version": "1.5.0",
      "model_name": "DescriptionStyleModel",
      "state": {
       "description_width": ""
      }
     },
     "a530544b287f4d5baf5192bbd8657a28": {
      "model_module": "@jupyter-widgets/base",
      "model_module_version": "1.2.0",
      "model_name": "LayoutModel",
      "state": {}
     },
     "a599e57689f441b598d3c6c5d2b2e54b": {
      "model_module": "@jupyter-widgets/base",
      "model_module_version": "1.2.0",
      "model_name": "LayoutModel",
      "state": {}
     },
     "a5d6990d542545ac90072846108f0efc": {
      "model_module": "@jupyter-widgets/controls",
      "model_module_version": "1.5.0",
      "model_name": "DropdownModel",
      "state": {
       "_options_labels": [
        "Black",
        "Brown",
        "Buff",
        "Chocolate",
        "Gray",
        "Green",
        "Orange",
        "Pink",
        "Purple",
        "Red",
        "White",
        "Yellow"
       ],
       "description": "gill_color",
       "index": 2,
       "layout": "IPY_MODEL_c787da62d03043a7a6b414921c42bb3e",
       "style": "IPY_MODEL_1e93971b5aee4c368a7206fd4cf73cec"
      }
     },
     "a65db37db7554c9aad4f57fdde818992": {
      "model_module": "@jupyter-widgets/base",
      "model_module_version": "1.2.0",
      "model_name": "LayoutModel",
      "state": {}
     },
     "a6910db9f41f46b98a261ea1e7908880": {
      "model_module": "@jupyter-widgets/base",
      "model_module_version": "1.2.0",
      "model_name": "LayoutModel",
      "state": {}
     },
     "a6d43ec04ae349878c413e2a33ae0e10": {
      "model_module": "@jupyter-widgets/controls",
      "model_module_version": "1.5.0",
      "model_name": "DropdownModel",
      "state": {
       "_options_labels": [
        "Fiberous",
        "Scaly",
        "Silky",
        "Smooth"
       ],
       "description": "stalk_surface_below_ring",
       "index": 0,
       "layout": "IPY_MODEL_b50231cb93cb453692e91068d3e571a6",
       "style": "IPY_MODEL_193c4f7d6ae1441eae078d0a58ef05d4"
      }
     },
     "a6ff6977dc814d93bf3749b3d00f1e10": {
      "model_module": "@jupyter-widgets/controls",
      "model_module_version": "1.5.0",
      "model_name": "DropdownModel",
      "state": {
       "_options_labels": [
        "Bruises",
        "No Bruises"
       ],
       "description": "bruises",
       "index": 0,
       "layout": "IPY_MODEL_286a6bc6769c4f55a2f5a0b0eb9b8b7e",
       "style": "IPY_MODEL_00d56d15243446308d8db17743c26ffb"
      }
     },
     "a711cc8edea7495fbb4dd4ccb5ced76c": {
      "model_module": "@jupyter-widgets/controls",
      "model_module_version": "1.5.0",
      "model_name": "DropdownModel",
      "state": {
       "_options_labels": [
        "Black",
        "Brown",
        "Buff",
        "Chocolate",
        "Gray",
        "Green",
        "Orange",
        "Pink",
        "Purple",
        "Red",
        "White",
        "Yellow"
       ],
       "description": "gill_color",
       "index": 0,
       "layout": "IPY_MODEL_bf61fd35081a46d3a601b2a28bfc6d35",
       "style": "IPY_MODEL_9418c49fb4024a028fbc89b7c514aa79"
      }
     },
     "a748cee6235a44fbbc7e7bc75d09cbbc": {
      "model_module": "@jupyter-widgets/controls",
      "model_module_version": "1.5.0",
      "model_name": "DescriptionStyleModel",
      "state": {
       "description_width": ""
      }
     },
     "a7a1f6a92b1c49eca65e7adbe3061250": {
      "model_module": "@jupyter-widgets/controls",
      "model_module_version": "1.5.0",
      "model_name": "DropdownModel",
      "state": {
       "_options_labels": [
        "Abundant",
        "Clustered",
        "Numerous",
        "Scattered",
        "Several",
        "Solitary"
       ],
       "description": "population",
       "index": 0,
       "layout": "IPY_MODEL_1908223855b4475fb3ec93084963ef03",
       "style": "IPY_MODEL_fbc083595a3840c196ea17063918ddc1"
      }
     },
     "a7b730ac1266454ba0fae025cfac2bb0": {
      "model_module": "@jupyter-widgets/base",
      "model_module_version": "1.2.0",
      "model_name": "LayoutModel",
      "state": {}
     },
     "a7cbb9bb918b45abb9d08fe430552d43": {
      "model_module": "@jupyter-widgets/controls",
      "model_module_version": "1.5.0",
      "model_name": "DropdownModel",
      "state": {
       "_options_labels": [
        "Fiberous",
        "Grooves",
        "Scaly",
        "Smooth"
       ],
       "description": "cap_surface",
       "index": 0,
       "layout": "IPY_MODEL_d62e1df11495417891df9aa9cf72d356",
       "style": "IPY_MODEL_fecee2537d494eedbfaa662bd27cf746"
      }
     },
     "a7d6ee82948545a983be7af4d2a65511": {
      "model_module": "@jupyter-widgets/controls",
      "model_module_version": "1.5.0",
      "model_name": "DescriptionStyleModel",
      "state": {
       "description_width": ""
      }
     },
     "a7e00c95b2a54600b1a870b0cfa58d64": {
      "model_module": "@jupyter-widgets/base",
      "model_module_version": "1.2.0",
      "model_name": "LayoutModel",
      "state": {}
     },
     "a7f10a1530524b33b8bbeb446a2e6884": {
      "model_module": "@jupyter-widgets/base",
      "model_module_version": "1.2.0",
      "model_name": "LayoutModel",
      "state": {}
     },
     "a8256fd8b6ef4ade8650f5ca892cfa2e": {
      "model_module": "@jupyter-widgets/controls",
      "model_module_version": "1.5.0",
      "model_name": "DropdownModel",
      "state": {
       "_options_labels": [
        "Partial",
        "Universal"
       ],
       "description": "veil_type",
       "index": 0,
       "layout": "IPY_MODEL_c347f75b45264ba79e706bc0e9799e6a",
       "style": "IPY_MODEL_bbb1aaf2be8549fcace280abea67b4a7"
      }
     },
     "a85a28d073a24cb593b47f72229f8fc5": {
      "model_module": "@jupyter-widgets/controls",
      "model_module_version": "1.5.0",
      "model_name": "DropdownModel",
      "state": {
       "_options_labels": [
        "Brown",
        "Buff",
        "Cinnamon",
        "Gray",
        "Orange",
        "Pink",
        "Red",
        "White",
        "Yellow"
       ],
       "description": "stalk_color_below_ring",
       "index": 0,
       "layout": "IPY_MODEL_8754f388caed452795288a3b06276915",
       "style": "IPY_MODEL_5595c1d856074d9ea3cba97e1e272ab2"
      }
     },
     "a8a5e06bdf414a7487a0f372944ad473": {
      "model_module": "@jupyter-widgets/controls",
      "model_module_version": "1.5.0",
      "model_name": "DescriptionStyleModel",
      "state": {
       "description_width": ""
      }
     },
     "a8ac2786c27c4f34ad0690c0efbc1b46": {
      "model_module": "@jupyter-widgets/controls",
      "model_module_version": "1.5.0",
      "model_name": "DescriptionStyleModel",
      "state": {
       "description_width": ""
      }
     },
     "a8df431dfbca4ba4a4181394e407106f": {
      "model_module": "@jupyter-widgets/base",
      "model_module_version": "1.2.0",
      "model_name": "LayoutModel",
      "state": {}
     },
     "a9059bb4251b442090d37694978122a4": {
      "model_module": "@jupyter-widgets/base",
      "model_module_version": "1.2.0",
      "model_name": "LayoutModel",
      "state": {}
     },
     "a9274d6f6d9443d1b77a9ab1f8b8d738": {
      "model_module": "@jupyter-widgets/controls",
      "model_module_version": "1.5.0",
      "model_name": "DropdownModel",
      "state": {
       "_options_labels": [
        "None",
        "One",
        "Two"
       ],
       "description": "ring_number",
       "index": 0,
       "layout": "IPY_MODEL_0769e5a0a7a54a429a032a4142dbba3a",
       "style": "IPY_MODEL_ba5a598a9d944158b6a39b166918234b"
      }
     },
     "a94b7ef0d6c44063893632a4210a504d": {
      "model_module": "@jupyter-widgets/controls",
      "model_module_version": "1.5.0",
      "model_name": "DescriptionStyleModel",
      "state": {
       "description_width": ""
      }
     },
     "a951d2e1f2254bb89531b6d7016cdff8": {
      "model_module": "@jupyter-widgets/base",
      "model_module_version": "1.2.0",
      "model_name": "LayoutModel",
      "state": {}
     },
     "a9f3f3d6c6bf4f2897e7a4271013c116": {
      "model_module": "@jupyter-widgets/controls",
      "model_module_version": "1.5.0",
      "model_name": "DropdownModel",
      "state": {
       "_options_labels": [
        "Brown",
        "Orange",
        "White",
        "Yellow"
       ],
       "description": "veil_color",
       "index": 0,
       "layout": "IPY_MODEL_3dd84ed17bb54e4aad6263f9f4992e13",
       "style": "IPY_MODEL_9c39ffa0cf3b49dd8ca6e00fad8b725a"
      }
     },
     "aa2b9bedf9474e91bfb4cccda0ddae79": {
      "model_module": "@jupyter-widgets/controls",
      "model_module_version": "1.5.0",
      "model_name": "DropdownModel",
      "state": {
       "_options_labels": [
        "Bruises",
        "No Bruises"
       ],
       "description": "bruises",
       "index": 0,
       "layout": "IPY_MODEL_9af779b6602843f3a2e5b79bf8d1f615",
       "style": "IPY_MODEL_a748cee6235a44fbbc7e7bc75d09cbbc"
      }
     },
     "aa2dde777879401bb9d049bb26d59b29": {
      "model_module": "@jupyter-widgets/controls",
      "model_module_version": "1.5.0",
      "model_name": "DescriptionStyleModel",
      "state": {
       "description_width": ""
      }
     },
     "aa30329aa6e24924afe0593501e6ba72": {
      "model_module": "@jupyter-widgets/base",
      "model_module_version": "1.2.0",
      "model_name": "LayoutModel",
      "state": {}
     },
     "aa513aba170f48828376a91099d2d117": {
      "model_module": "@jupyter-widgets/controls",
      "model_module_version": "1.5.0",
      "model_name": "DescriptionStyleModel",
      "state": {
       "description_width": ""
      }
     },
     "aacdb31f557e4be19cc20c7deb65c4f8": {
      "model_module": "@jupyter-widgets/base",
      "model_module_version": "1.2.0",
      "model_name": "LayoutModel",
      "state": {}
     },
     "aaf24b5ac9ed4ea9aded747d279501fb": {
      "model_module": "@jupyter-widgets/base",
      "model_module_version": "1.2.0",
      "model_name": "LayoutModel",
      "state": {}
     },
     "aafcfb3199bb4e9e892a28f6742651df": {
      "model_module": "@jupyter-widgets/controls",
      "model_module_version": "1.5.0",
      "model_name": "DropdownModel",
      "state": {
       "_options_labels": [
        "Bruises",
        "No Bruises"
       ],
       "description": "bruises",
       "index": 0,
       "layout": "IPY_MODEL_ef5f6cbd20c0403198500d22435ad795",
       "style": "IPY_MODEL_b519b7674d04429ea9a0b7fcc548d584"
      }
     },
     "ab1f5bde3bde4401a76ff381e471146c": {
      "model_module": "@jupyter-widgets/base",
      "model_module_version": "1.2.0",
      "model_name": "LayoutModel",
      "state": {}
     },
     "ab378840c57744e6834ad039da2a95df": {
      "model_module": "@jupyter-widgets/base",
      "model_module_version": "1.2.0",
      "model_name": "LayoutModel",
      "state": {}
     },
     "ab42b113cb3b4da7b820a218c73a4482": {
      "model_module": "@jupyter-widgets/controls",
      "model_module_version": "1.5.0",
      "model_name": "DescriptionStyleModel",
      "state": {
       "description_width": ""
      }
     },
     "ab4fce2564504d5b8866d1f0411bda4b": {
      "model_module": "@jupyter-widgets/controls",
      "model_module_version": "1.5.0",
      "model_name": "DescriptionStyleModel",
      "state": {
       "description_width": ""
      }
     },
     "ab61a02f30cc43c58aa9c9810b0e4c66": {
      "model_module": "@jupyter-widgets/controls",
      "model_module_version": "1.5.0",
      "model_name": "DescriptionStyleModel",
      "state": {
       "description_width": ""
      }
     },
     "ab65b66271f94436a13fe61105e7c7fa": {
      "model_module": "@jupyter-widgets/base",
      "model_module_version": "1.2.0",
      "model_name": "LayoutModel",
      "state": {}
     },
     "ab7d159a48464131851e0236751616a8": {
      "model_module": "@jupyter-widgets/controls",
      "model_module_version": "1.5.0",
      "model_name": "DropdownModel",
      "state": {
       "_options_labels": [
        "Bulbous",
        "Club",
        "Cup",
        "Equal",
        "Rhizomorphs",
        "Rooted",
        "Missing"
       ],
       "description": "stalk_root",
       "index": 0,
       "layout": "IPY_MODEL_722b36c60ab647caae6b02f4f925cbd5",
       "style": "IPY_MODEL_71f7af80e4814ec88f6192d527a11784"
      }
     },
     "ac0384a2ba9647e5907b310e6d503cb7": {
      "model_module": "@jupyter-widgets/controls",
      "model_module_version": "1.5.0",
      "model_name": "DropdownModel",
      "state": {
       "_options_labels": [
        "Partial",
        "Universal"
       ],
       "description": "veil_type",
       "index": 0,
       "layout": "IPY_MODEL_f91784e9567945579e7628baad882bce",
       "style": "IPY_MODEL_c1af801c6a7e48fb9c8ba1b6e127eb5f"
      }
     },
     "ac27287374454897aaf5c69a860fb8da": {
      "model_module": "@jupyter-widgets/controls",
      "model_module_version": "1.5.0",
      "model_name": "DescriptionStyleModel",
      "state": {
       "description_width": ""
      }
     },
     "ac313ed844b540bca00c60c473b70b86": {
      "model_module": "@jupyter-widgets/controls",
      "model_module_version": "1.5.0",
      "model_name": "DescriptionStyleModel",
      "state": {
       "description_width": ""
      }
     },
     "ac425dbfaafe42d78999fe5466f8eb12": {
      "model_module": "@jupyter-widgets/controls",
      "model_module_version": "1.5.0",
      "model_name": "DescriptionStyleModel",
      "state": {
       "description_width": ""
      }
     },
     "ac84a21ed24a46a9a195f2d1b3fb72f8": {
      "model_module": "@jupyter-widgets/controls",
      "model_module_version": "1.5.0",
      "model_name": "DropdownModel",
      "state": {
       "_options_labels": [
        "Fiberous",
        "Scaly",
        "Silky",
        "Smooth"
       ],
       "description": "stalk_surface_above_ring",
       "index": 0,
       "layout": "IPY_MODEL_af07bcf86cae4af9b8b6761104f7402c",
       "style": "IPY_MODEL_419408ab58894edeb6da2b8c93fc2250"
      }
     },
     "aca659128ae54c0daa49336df88e1096": {
      "model_module": "@jupyter-widgets/controls",
      "model_module_version": "1.5.0",
      "model_name": "DescriptionStyleModel",
      "state": {
       "description_width": ""
      }
     },
     "acb74e289e784f56825df8448a624c20": {
      "model_module": "@jupyter-widgets/base",
      "model_module_version": "1.2.0",
      "model_name": "LayoutModel",
      "state": {}
     },
     "acd84493c73a4951894ba0e15ed261d8": {
      "model_module": "@jupyter-widgets/controls",
      "model_module_version": "1.5.0",
      "model_name": "DropdownModel",
      "state": {
       "_options_labels": [
        "Fiberous",
        "Scaly",
        "Silky",
        "Smooth"
       ],
       "description": "stalk_surface_above_ring",
       "index": 0,
       "layout": "IPY_MODEL_fd07fef71d524d6ca1c51fca8c1c402f",
       "style": "IPY_MODEL_6d75efb0dbfd4fb7a758d0864c1c56dd"
      }
     },
     "acdef79e4a9b48a28934d35f35b38ae1": {
      "model_module": "@jupyter-widgets/controls",
      "model_module_version": "1.5.0",
      "model_name": "DescriptionStyleModel",
      "state": {
       "description_width": ""
      }
     },
     "acdf02690d0c45e883dfb77a8cd0e759": {
      "model_module": "@jupyter-widgets/base",
      "model_module_version": "1.2.0",
      "model_name": "LayoutModel",
      "state": {}
     },
     "ad1f9a4801fc44caa6239db32b4d9b74": {
      "model_module": "@jupyter-widgets/controls",
      "model_module_version": "1.5.0",
      "model_name": "DropdownModel",
      "state": {
       "_options_labels": [
        "None",
        "One",
        "Two"
       ],
       "description": "ring_number",
       "index": 0,
       "layout": "IPY_MODEL_c2dfe692d9d744028b9f79cc68bd9b07",
       "style": "IPY_MODEL_c974e776fb73407d86f241d7b090e3af"
      }
     },
     "ad26ceef90324d15a7983c24736daae5": {
      "model_module": "@jupyter-widgets/controls",
      "model_module_version": "1.5.0",
      "model_name": "DropdownModel",
      "state": {
       "_options_labels": [
        "Fiberous",
        "Scaly",
        "Silky",
        "Smooth"
       ],
       "description": "stalk_surface_below_ring",
       "index": 0,
       "layout": "IPY_MODEL_4e7bdfd5935f4127a0de26a3591d94e6",
       "style": "IPY_MODEL_107c38dadf8a4fd48b4d3bd1b52abb07"
      }
     },
     "ad4af343489747d0a96c225a67e7fc94": {
      "model_module": "@jupyter-widgets/controls",
      "model_module_version": "1.5.0",
      "model_name": "DropdownModel",
      "state": {
       "_options_labels": [
        "Fiberous",
        "Scaly",
        "Silky",
        "Smooth"
       ],
       "description": "stalk_surface_below_ring",
       "index": 0,
       "layout": "IPY_MODEL_7afbb2d1aa8b4d6db66c167d3e1435ff",
       "style": "IPY_MODEL_2ff88b28ad134fddb8dee211d4ef7617"
      }
     },
     "ad7261ce4ccc40329c49a547096fa5d9": {
      "model_module": "@jupyter-widgets/base",
      "model_module_version": "1.2.0",
      "model_name": "LayoutModel",
      "state": {}
     },
     "adc62477141747d38419c20843f49a60": {
      "model_module": "@jupyter-widgets/controls",
      "model_module_version": "1.5.0",
      "model_name": "DropdownModel",
      "state": {
       "_options_labels": [
        "Fiberous",
        "Scaly",
        "Silky",
        "Smooth"
       ],
       "description": "stalk_surface_above_ring",
       "index": 0,
       "layout": "IPY_MODEL_e9513634776c458a8a4c201ee2c225d5",
       "style": "IPY_MODEL_c6342def1316420ca20b02bfa4cec0fe"
      }
     },
     "add035e1c0bf4acd89d40031a4562dc5": {
      "model_module": "@jupyter-widgets/controls",
      "model_module_version": "1.5.0",
      "model_name": "DropdownModel",
      "state": {
       "_options_labels": [
        "Bruises",
        "No Bruises"
       ],
       "description": "bruises",
       "index": 0,
       "layout": "IPY_MODEL_8bde1642db2b4659b37904383946dc74",
       "style": "IPY_MODEL_aa513aba170f48828376a91099d2d117"
      }
     },
     "addc82cbb9d84200bb038fc8839ae20e": {
      "model_module": "@jupyter-widgets/controls",
      "model_module_version": "1.5.0",
      "model_name": "DropdownModel",
      "state": {
       "_options_labels": [
        "Almond",
        "Anise",
        "Creosote",
        "Fishy",
        "Foul",
        "Musty",
        "None",
        "Pungent",
        "Spicy"
       ],
       "description": "odor",
       "index": 0,
       "layout": "IPY_MODEL_52b956d55c634733a0629e702108397d",
       "style": "IPY_MODEL_d9c01a2259984b4698f41a47dd0b2f39"
      }
     },
     "adf4be1697194a3f85d12470f79879ad": {
      "model_module": "@jupyter-widgets/base",
      "model_module_version": "1.2.0",
      "model_name": "LayoutModel",
      "state": {}
     },
     "ae144eaf5427447ab4c1d9496b60615e": {
      "model_module": "@jupyter-widgets/controls",
      "model_module_version": "1.5.0",
      "model_name": "DropdownModel",
      "state": {
       "_options_labels": [
        "Bell",
        "Conical",
        "Convex",
        "Flat",
        "Knobbed",
        "Sunken"
       ],
       "description": "cap_shape",
       "index": 0,
       "layout": "IPY_MODEL_3dae310aed1c406ca6d37b2724eacae6",
       "style": "IPY_MODEL_5173d09fa18d4a1bbd5294738a8d4993"
      }
     },
     "ae23b5d187aa4f3a84ee428eef4e4231": {
      "model_module": "@jupyter-widgets/base",
      "model_module_version": "1.2.0",
      "model_name": "LayoutModel",
      "state": {}
     },
     "ae34e721dc3b40599e900aecae4c9347": {
      "model_module": "@jupyter-widgets/base",
      "model_module_version": "1.2.0",
      "model_name": "LayoutModel",
      "state": {}
     },
     "ae48d891b12c4c0aade1af291f40a3b7": {
      "model_module": "@jupyter-widgets/controls",
      "model_module_version": "1.5.0",
      "model_name": "DescriptionStyleModel",
      "state": {
       "description_width": ""
      }
     },
     "ae6685c42bd84d158d0e31df21c63526": {
      "model_module": "@jupyter-widgets/controls",
      "model_module_version": "1.5.0",
      "model_name": "DescriptionStyleModel",
      "state": {
       "description_width": ""
      }
     },
     "ae75e62a6f29473e83fd825bc9a470bc": {
      "model_module": "@jupyter-widgets/base",
      "model_module_version": "1.2.0",
      "model_name": "LayoutModel",
      "state": {}
     },
     "ae895a41d5d940ce8fc7c75ddd6e8173": {
      "model_module": "@jupyter-widgets/base",
      "model_module_version": "1.2.0",
      "model_name": "LayoutModel",
      "state": {}
     },
     "af03d2175ccd46a48ebc1399f6ebdc5a": {
      "model_module": "@jupyter-widgets/base",
      "model_module_version": "1.2.0",
      "model_name": "LayoutModel",
      "state": {}
     },
     "af044196028546d3ad58ae3db22c3c63": {
      "model_module": "@jupyter-widgets/base",
      "model_module_version": "1.2.0",
      "model_name": "LayoutModel",
      "state": {}
     },
     "af07bcf86cae4af9b8b6761104f7402c": {
      "model_module": "@jupyter-widgets/base",
      "model_module_version": "1.2.0",
      "model_name": "LayoutModel",
      "state": {}
     },
     "af1279bdd74e478dbe5a706568727cf2": {
      "model_module": "@jupyter-widgets/controls",
      "model_module_version": "1.5.0",
      "model_name": "DescriptionStyleModel",
      "state": {
       "description_width": ""
      }
     },
     "af3763bc53434215adc13e15bbf00f8c": {
      "model_module": "@jupyter-widgets/base",
      "model_module_version": "1.2.0",
      "model_name": "LayoutModel",
      "state": {}
     },
     "affacf006e824ff7baa2f525d22b0346": {
      "model_module": "@jupyter-widgets/controls",
      "model_module_version": "1.5.0",
      "model_name": "DropdownModel",
      "state": {
       "_options_labels": [
        "Black",
        "Brown",
        "Buff",
        "Chocolate",
        "Green",
        "Orange",
        "Purple",
        "White",
        "Yellow"
       ],
       "description": "spore_print_color",
       "index": 0,
       "layout": "IPY_MODEL_b33b17c357f44a578643e55394fc4faa",
       "style": "IPY_MODEL_492afffb03934376bc5641c570fa2f9a"
      }
     },
     "b00dff49f3454ee4b403ee0472728e6d": {
      "model_module": "@jupyter-widgets/base",
      "model_module_version": "1.2.0",
      "model_name": "LayoutModel",
      "state": {}
     },
     "b02fc269610c408da5085e95d84ce3c0": {
      "model_module": "@jupyter-widgets/base",
      "model_module_version": "1.2.0",
      "model_name": "LayoutModel",
      "state": {}
     },
     "b03e0a5706e744749fc38984cde13c8b": {
      "model_module": "@jupyter-widgets/base",
      "model_module_version": "1.2.0",
      "model_name": "LayoutModel",
      "state": {}
     },
     "b03e0d28667f4f8ebbe3a7ef1948be9d": {
      "model_module": "@jupyter-widgets/base",
      "model_module_version": "1.2.0",
      "model_name": "LayoutModel",
      "state": {}
     },
     "b0424aba4b8440b3a8b2d2b8abbd5b5e": {
      "model_module": "@jupyter-widgets/controls",
      "model_module_version": "1.5.0",
      "model_name": "DropdownModel",
      "state": {
       "_options_labels": [
        "Brown",
        "Orange",
        "White",
        "Yellow"
       ],
       "description": "veil_color",
       "index": 0,
       "layout": "IPY_MODEL_cd0f06c11ac641ab80f7e86b9524e254",
       "style": "IPY_MODEL_81dd0b8dc0b74b408de136401eb5cbdd"
      }
     },
     "b04882800e0644afb8c5e0a0b9b59884": {
      "model_module": "@jupyter-widgets/controls",
      "model_module_version": "1.5.0",
      "model_name": "DescriptionStyleModel",
      "state": {
       "description_width": ""
      }
     },
     "b04c4382855b45fbbff77fd1d1b29ac6": {
      "model_module": "@jupyter-widgets/base",
      "model_module_version": "1.2.0",
      "model_name": "LayoutModel",
      "state": {}
     },
     "b066608c434b42d2a85e71a8c279e4fc": {
      "model_module": "@jupyter-widgets/base",
      "model_module_version": "1.2.0",
      "model_name": "LayoutModel",
      "state": {}
     },
     "b06f7495f28d491096c19897d7f034bc": {
      "model_module": "@jupyter-widgets/base",
      "model_module_version": "1.2.0",
      "model_name": "LayoutModel",
      "state": {}
     },
     "b077be2687ab44ffb43453f6768809fb": {
      "model_module": "@jupyter-widgets/controls",
      "model_module_version": "1.5.0",
      "model_name": "DropdownModel",
      "state": {
       "_options_labels": [
        "Almond",
        "Anise",
        "Creosote",
        "Fishy",
        "Foul",
        "Musty",
        "None",
        "Pungent",
        "Spicy"
       ],
       "description": "odor",
       "index": 0,
       "layout": "IPY_MODEL_82d8d7cdbda74eda821448e9ce6942d1",
       "style": "IPY_MODEL_c76beffe91ea4ca696b72943cb586065"
      }
     },
     "b0a94f482f1e45c08804f79b08cdd09a": {
      "model_module": "@jupyter-widgets/base",
      "model_module_version": "1.2.0",
      "model_name": "LayoutModel",
      "state": {}
     },
     "b0c980f334be478682e56ab431036edd": {
      "model_module": "@jupyter-widgets/base",
      "model_module_version": "1.2.0",
      "model_name": "LayoutModel",
      "state": {}
     },
     "b0fac8a31a924d5781f4664e17f6d9a0": {
      "model_module": "@jupyter-widgets/controls",
      "model_module_version": "1.5.0",
      "model_name": "DropdownModel",
      "state": {
       "_options_labels": [
        "Grasses",
        "Leaves",
        "Meadows",
        "Paths",
        "Urban",
        "Waste",
        "Woods"
       ],
       "description": "habitat",
       "index": 0,
       "layout": "IPY_MODEL_bb6b59a81c824a80b4cd083726d5a26e",
       "style": "IPY_MODEL_6e4dbadf09d34b12bc3e6642f564f509"
      }
     },
     "b10ececd1d364985a9ad3b46668892e2": {
      "model_module": "@jupyter-widgets/controls",
      "model_module_version": "1.5.0",
      "model_name": "DescriptionStyleModel",
      "state": {
       "description_width": ""
      }
     },
     "b11ea5f98fd0486fbb8f47ae180c01dd": {
      "model_module": "@jupyter-widgets/controls",
      "model_module_version": "1.5.0",
      "model_name": "VBoxModel",
      "state": {
       "_dom_classes": [
        "widget-interact"
       ],
       "children": [
        "IPY_MODEL_199986af9b9145f6a9238be26761c896",
        "IPY_MODEL_703f9669316547239d621efcb93d0ee1",
        "IPY_MODEL_95f19ad87737487faf8ac76a8371365f",
        "IPY_MODEL_9ba88f1b195b4c29b5f4a6415619d470",
        "IPY_MODEL_a3ea50ec2b4b477f9fcbed200471fb2a",
        "IPY_MODEL_253139b37577415fa7c075c4c6ab4ef8",
        "IPY_MODEL_399c4182fba94ab987808a11010e94c5",
        "IPY_MODEL_d809a7b32a964c8bbdc8279fdd8e3f2c",
        "IPY_MODEL_de3f5ceae0a84754b7a3759371b20da3",
        "IPY_MODEL_7d4bc4f07de848d48cfa3e659c45e14c",
        "IPY_MODEL_0b75d0c0935d493f8372e5f4e59040c5",
        "IPY_MODEL_ce6fd01b1b09482084b3a5518bd55140",
        "IPY_MODEL_6631c5ada822448fbab1432a71ed2aec",
        "IPY_MODEL_0faea0adecf34e95a8cf1e4218b6570e",
        "IPY_MODEL_85dfa51a3d4047a3b39de475bcfe7219",
        "IPY_MODEL_0d1252698b1e442e8138677106da50f0",
        "IPY_MODEL_3569efc1d06145d486062bdea5221887",
        "IPY_MODEL_dce7f9e341c74f11a23e62e28143773e"
       ],
       "layout": "IPY_MODEL_d7832676e05744dd9d5359751bf7b21d"
      }
     },
     "b136df4cdf4b402880dd44e56c19d8e9": {
      "model_module": "@jupyter-widgets/controls",
      "model_module_version": "1.5.0",
      "model_name": "DropdownModel",
      "state": {
       "_options_labels": [
        "Close",
        "Crowded",
        "Distant"
       ],
       "description": "gill_spacing",
       "index": 0,
       "layout": "IPY_MODEL_7a0242c324924aa99924d6ce9a23b4e0",
       "style": "IPY_MODEL_b349e1be8d104486a9ffffdc6619bceb"
      }
     },
     "b15e27533d9e497e8031fa730ff31e00": {
      "model_module": "@jupyter-widgets/controls",
      "model_module_version": "1.5.0",
      "model_name": "DropdownModel",
      "state": {
       "_options_labels": [
        "Fiberous",
        "Grooves",
        "Scaly",
        "Smooth"
       ],
       "description": "cap_surface",
       "index": 0,
       "layout": "IPY_MODEL_90be0bd6795e4e93b24f1a0e2b6abecc",
       "style": "IPY_MODEL_090616ba868248dcbac1ca267763f38e"
      }
     },
     "b19558c7bb404e0eac8f3d4afa2e43e0": {
      "model_module": "@jupyter-widgets/base",
      "model_module_version": "1.2.0",
      "model_name": "LayoutModel",
      "state": {}
     },
     "b1d654ffebbd49bb8ccd710cd1c8ffc2": {
      "model_module": "@jupyter-widgets/controls",
      "model_module_version": "1.5.0",
      "model_name": "DropdownModel",
      "state": {
       "_options_labels": [
        "Almond",
        "Anise",
        "Creosote",
        "Fishy",
        "Foul",
        "Musty",
        "None",
        "Pungent",
        "Spicy"
       ],
       "description": "odor",
       "index": 0,
       "layout": "IPY_MODEL_547bd6218f434fbfbbbb9d2752919409",
       "style": "IPY_MODEL_3c4c12e54d0c488192fbe24f5f1258c0"
      }
     },
     "b1f6d5fff7344d4a90e69887559dbaec": {
      "model_module": "@jupyter-widgets/base",
      "model_module_version": "1.2.0",
      "model_name": "LayoutModel",
      "state": {}
     },
     "b22d132f99be44b48e4fcb4bb7d70b61": {
      "model_module": "@jupyter-widgets/base",
      "model_module_version": "1.2.0",
      "model_name": "LayoutModel",
      "state": {}
     },
     "b24c4357086e4c8a8be3f5806c085c26": {
      "model_module": "@jupyter-widgets/controls",
      "model_module_version": "1.5.0",
      "model_name": "DropdownModel",
      "state": {
       "_options_labels": [
        "Almond",
        "Anise",
        "Creosote",
        "Fishy",
        "Foul",
        "Musty",
        "None",
        "Pungent",
        "Spicy"
       ],
       "description": "odor",
       "index": 0,
       "layout": "IPY_MODEL_990e87b12cbd439f96afd3e49c0498ee",
       "style": "IPY_MODEL_e02475e59c624adf8b7f596047f8bb15"
      }
     },
     "b24e52187b3b476bbf4b9861d30bed09": {
      "model_module": "@jupyter-widgets/controls",
      "model_module_version": "1.5.0",
      "model_name": "DescriptionStyleModel",
      "state": {
       "description_width": ""
      }
     },
     "b2500e711aaf4a3cb30cde9e7fa0e94d": {
      "model_module": "@jupyter-widgets/base",
      "model_module_version": "1.2.0",
      "model_name": "LayoutModel",
      "state": {}
     },
     "b2557ca62da74d37aac78823817bd0b1": {
      "model_module": "@jupyter-widgets/base",
      "model_module_version": "1.2.0",
      "model_name": "LayoutModel",
      "state": {}
     },
     "b2c45f956d1a48f28cb4cf4be58c9c2f": {
      "model_module": "@jupyter-widgets/controls",
      "model_module_version": "1.5.0",
      "model_name": "DescriptionStyleModel",
      "state": {
       "description_width": ""
      }
     },
     "b33b17c357f44a578643e55394fc4faa": {
      "model_module": "@jupyter-widgets/base",
      "model_module_version": "1.2.0",
      "model_name": "LayoutModel",
      "state": {}
     },
     "b33e0aff5e504126a54eb3b04245740c": {
      "model_module": "@jupyter-widgets/controls",
      "model_module_version": "1.5.0",
      "model_name": "DropdownModel",
      "state": {
       "_options_labels": [
        "Abundant",
        "Clustered",
        "Numerous",
        "Scattered",
        "Several",
        "Solitary"
       ],
       "description": "population",
       "index": 0,
       "layout": "IPY_MODEL_7b4cc7ec0ec54399aa7190dd176f2e71",
       "style": "IPY_MODEL_437dead88cf94f52aef9d9982e3eb17c"
      }
     },
     "b349e1be8d104486a9ffffdc6619bceb": {
      "model_module": "@jupyter-widgets/controls",
      "model_module_version": "1.5.0",
      "model_name": "DescriptionStyleModel",
      "state": {
       "description_width": ""
      }
     },
     "b3b104d92ca848cd86d1baa7133c56b3": {
      "model_module": "@jupyter-widgets/controls",
      "model_module_version": "1.5.0",
      "model_name": "DescriptionStyleModel",
      "state": {
       "description_width": ""
      }
     },
     "b3c2b770562942159dc40cccd6599a04": {
      "model_module": "@jupyter-widgets/controls",
      "model_module_version": "1.5.0",
      "model_name": "DescriptionStyleModel",
      "state": {
       "description_width": ""
      }
     },
     "b3d7fea057d8402a9a825015059e232d": {
      "model_module": "@jupyter-widgets/controls",
      "model_module_version": "1.5.0",
      "model_name": "DropdownModel",
      "state": {
       "_options_labels": [
        "Bulbous",
        "Club",
        "Cup",
        "Equal",
        "Rhizomorphs",
        "Rooted",
        "Missing"
       ],
       "description": "stalk_root",
       "index": 0,
       "layout": "IPY_MODEL_83191aa2f4924953805646be5d8d4728",
       "style": "IPY_MODEL_a287b2c2f98742759334e0c982966a4a"
      }
     },
     "b3f60403f8d045f3891cc74c0eaae02c": {
      "model_module": "@jupyter-widgets/controls",
      "model_module_version": "1.5.0",
      "model_name": "DescriptionStyleModel",
      "state": {
       "description_width": ""
      }
     },
     "b404fce79cfc40309248c12e5ea69a20": {
      "model_module": "@jupyter-widgets/base",
      "model_module_version": "1.2.0",
      "model_name": "LayoutModel",
      "state": {}
     },
     "b4248edc03bf42efa3bcf5492a85dcb4": {
      "model_module": "@jupyter-widgets/base",
      "model_module_version": "1.2.0",
      "model_name": "LayoutModel",
      "state": {}
     },
     "b433612971624d6b94e8d07804f23398": {
      "model_module": "@jupyter-widgets/controls",
      "model_module_version": "1.5.0",
      "model_name": "DropdownModel",
      "state": {
       "_options_labels": [
        "Bulbous",
        "Club",
        "Cup",
        "Equal",
        "Rhizomorphs",
        "Rooted",
        "Missing"
       ],
       "description": "stalk_root",
       "index": 0,
       "layout": "IPY_MODEL_bce9be38751a48c99b5c5a4a8b4a0bd1",
       "style": "IPY_MODEL_dc17a5388f6e43ed8962ef78529fbdc9"
      }
     },
     "b45703a83c194cb6be80df5abe53f4e7": {
      "model_module": "@jupyter-widgets/controls",
      "model_module_version": "1.5.0",
      "model_name": "DescriptionStyleModel",
      "state": {
       "description_width": ""
      }
     },
     "b49a8847c2a34c40bb6cc564000ecbd2": {
      "model_module": "@jupyter-widgets/base",
      "model_module_version": "1.2.0",
      "model_name": "LayoutModel",
      "state": {}
     },
     "b4abfc6aeba74cbba8f812b30ab09354": {
      "model_module": "@jupyter-widgets/controls",
      "model_module_version": "1.5.0",
      "model_name": "DropdownModel",
      "state": {
       "_options_labels": [
        "Black",
        "Brown",
        "Buff",
        "Chocolate",
        "Gray",
        "Green",
        "Orange",
        "Pink",
        "Purple",
        "Red",
        "White",
        "Yellow"
       ],
       "description": "gill_color",
       "index": 0,
       "layout": "IPY_MODEL_be188f8b5c0544b7b21c55ac8579368b",
       "style": "IPY_MODEL_545c07041aa944b5b97b19d18bfda75a"
      }
     },
     "b4ae5b7ab6094ccdaeb1d7482241a342": {
      "model_module": "@jupyter-widgets/base",
      "model_module_version": "1.2.0",
      "model_name": "LayoutModel",
      "state": {}
     },
     "b4e590764c69485cb5b40ac50c5df79c": {
      "model_module": "@jupyter-widgets/controls",
      "model_module_version": "1.5.0",
      "model_name": "DropdownModel",
      "state": {
       "_options_labels": [
        "Almond",
        "Anise",
        "Creosote",
        "Fishy",
        "Foul",
        "Musty",
        "None",
        "Pungent",
        "Spicy"
       ],
       "description": "odor",
       "index": 0,
       "layout": "IPY_MODEL_b9b47699acba4a2ea60c1780d99077a5",
       "style": "IPY_MODEL_4b6bd211e09147399fac4bc883b7c8ba"
      }
     },
     "b4f7f7aabdd745109b7870f343a199f9": {
      "model_module": "@jupyter-widgets/controls",
      "model_module_version": "1.5.0",
      "model_name": "DescriptionStyleModel",
      "state": {
       "description_width": ""
      }
     },
     "b50231cb93cb453692e91068d3e571a6": {
      "model_module": "@jupyter-widgets/base",
      "model_module_version": "1.2.0",
      "model_name": "LayoutModel",
      "state": {}
     },
     "b519b7674d04429ea9a0b7fcc548d584": {
      "model_module": "@jupyter-widgets/controls",
      "model_module_version": "1.5.0",
      "model_name": "DescriptionStyleModel",
      "state": {
       "description_width": ""
      }
     },
     "b52fe05ee40a4fd8bb8d9d32f9fa7945": {
      "model_module": "@jupyter-widgets/controls",
      "model_module_version": "1.5.0",
      "model_name": "DescriptionStyleModel",
      "state": {
       "description_width": ""
      }
     },
     "b541e13ba10343d7a5426ad7ca0c3050": {
      "model_module": "@jupyter-widgets/base",
      "model_module_version": "1.2.0",
      "model_name": "LayoutModel",
      "state": {}
     },
     "b5534261f2ee420fa545b7e9a7ecc861": {
      "model_module": "@jupyter-widgets/base",
      "model_module_version": "1.2.0",
      "model_name": "LayoutModel",
      "state": {}
     },
     "b570b2bec6df49c6876fda840079c92a": {
      "model_module": "@jupyter-widgets/controls",
      "model_module_version": "1.5.0",
      "model_name": "DescriptionStyleModel",
      "state": {
       "description_width": ""
      }
     },
     "b57791d55e034daeb34c2c843944eb28": {
      "model_module": "@jupyter-widgets/controls",
      "model_module_version": "1.5.0",
      "model_name": "DropdownModel",
      "state": {
       "_options_labels": [
        "Abundant",
        "Clustered",
        "Numerous",
        "Scattered",
        "Several",
        "Solitary"
       ],
       "description": "population",
       "index": 0,
       "layout": "IPY_MODEL_6d8171c72b4d475db8c819b7d0981039",
       "style": "IPY_MODEL_2549cbbfb3764788b4ac59906e6a1d66"
      }
     },
     "b5824ff194d44a03aa4b4a012ecd9d76": {
      "model_module": "@jupyter-widgets/controls",
      "model_module_version": "1.5.0",
      "model_name": "DropdownModel",
      "state": {
       "_options_labels": [
        "Brown",
        "Buff",
        "Cinnamon",
        "Gray",
        "Green",
        "Pink",
        "Purple",
        "Red",
        "White",
        "Yellow"
       ],
       "description": "cap_color",
       "index": 0,
       "layout": "IPY_MODEL_641ffde01d40479090835a92de6bbaa9",
       "style": "IPY_MODEL_4747b02b64754d8693e3c497c5ba32cf"
      }
     },
     "b599c1b45eb441a1a653f1967bd2e8c8": {
      "model_module": "@jupyter-widgets/controls",
      "model_module_version": "1.5.0",
      "model_name": "DescriptionStyleModel",
      "state": {
       "description_width": ""
      }
     },
     "b5b877f724d64a208e57e3401dabd3f8": {
      "model_module": "@jupyter-widgets/controls",
      "model_module_version": "1.5.0",
      "model_name": "DescriptionStyleModel",
      "state": {
       "description_width": ""
      }
     },
     "b5cfd462b0a04e248793429a134a01bc": {
      "model_module": "@jupyter-widgets/controls",
      "model_module_version": "1.5.0",
      "model_name": "DropdownModel",
      "state": {
       "_options_labels": [
        "Bell",
        "Conical",
        "Convex",
        "Flat",
        "Knobbed",
        "Sunken"
       ],
       "description": "cap_shape",
       "index": 0,
       "layout": "IPY_MODEL_20d3a152714c4ebd8269e7c407dce81f",
       "style": "IPY_MODEL_505e791d05a440d49ea8ee2b968322bb"
      }
     },
     "b5fcdd7f48384475aeb7e57716b8f9f9": {
      "model_module": "@jupyter-widgets/controls",
      "model_module_version": "1.5.0",
      "model_name": "DescriptionStyleModel",
      "state": {
       "description_width": ""
      }
     },
     "b6277075221b4bae9ca7f3a7312030ff": {
      "model_module": "@jupyter-widgets/controls",
      "model_module_version": "1.5.0",
      "model_name": "DescriptionStyleModel",
      "state": {
       "description_width": ""
      }
     },
     "b63d34c37e7d4a7f834b16c1762a9365": {
      "model_module": "@jupyter-widgets/base",
      "model_module_version": "1.2.0",
      "model_name": "LayoutModel",
      "state": {}
     },
     "b6405cbd346f45f69ba0ef2210f0275e": {
      "model_module": "@jupyter-widgets/base",
      "model_module_version": "1.2.0",
      "model_name": "LayoutModel",
      "state": {}
     },
     "b645c813c43a4f0bbfaa19da68a74c21": {
      "model_module": "@jupyter-widgets/output",
      "model_module_version": "1.0.0",
      "model_name": "OutputModel",
      "state": {
       "layout": "IPY_MODEL_50038b5acf594bb089095e05c742910a",
       "outputs": [
        {
         "name": "stdout",
         "output_type": "stream",
         "text": "Most Likely class: p\n"
        }
       ]
      }
     },
     "b6947ee9ade54adb9a4a47e64415b772": {
      "model_module": "@jupyter-widgets/controls",
      "model_module_version": "1.5.0",
      "model_name": "DescriptionStyleModel",
      "state": {
       "description_width": ""
      }
     },
     "b696fa7a835e4d3fadc653d5981f8dc9": {
      "model_module": "@jupyter-widgets/controls",
      "model_module_version": "1.5.0",
      "model_name": "DescriptionStyleModel",
      "state": {
       "description_width": ""
      }
     },
     "b6ae8acdae1a4901a4b5abd055e3bc51": {
      "model_module": "@jupyter-widgets/base",
      "model_module_version": "1.2.0",
      "model_name": "LayoutModel",
      "state": {}
     },
     "b6d3a436ee9e4f60b6a6cc5d6a2cf7a4": {
      "model_module": "@jupyter-widgets/controls",
      "model_module_version": "1.5.0",
      "model_name": "DescriptionStyleModel",
      "state": {
       "description_width": ""
      }
     },
     "b6d78e8727be4b1b820e1e79dd2e2eda": {
      "model_module": "@jupyter-widgets/controls",
      "model_module_version": "1.5.0",
      "model_name": "DropdownModel",
      "state": {
       "_options_labels": [
        "Brown",
        "Buff",
        "Cinnamon",
        "Gray",
        "Green",
        "Pink",
        "Purple",
        "Red",
        "White",
        "Yellow"
       ],
       "description": "cap_color",
       "index": 0,
       "layout": "IPY_MODEL_2e350b16e3944009b5c7391ba8884e7c",
       "style": "IPY_MODEL_2c574d5695c04e4887db7e6568c2bd33"
      }
     },
     "b6d907f2717c4f7c83b9df35555fe933": {
      "model_module": "@jupyter-widgets/base",
      "model_module_version": "1.2.0",
      "model_name": "LayoutModel",
      "state": {}
     },
     "b6dda394f4da452384a4f9e2a5fdef33": {
      "model_module": "@jupyter-widgets/controls",
      "model_module_version": "1.5.0",
      "model_name": "DescriptionStyleModel",
      "state": {
       "description_width": ""
      }
     },
     "b705a5dbb3854deca6b3e7ca7cceda1b": {
      "model_module": "@jupyter-widgets/controls",
      "model_module_version": "1.5.0",
      "model_name": "DescriptionStyleModel",
      "state": {
       "description_width": ""
      }
     },
     "b73ba2bef61e4a06a967a6555ab47cb8": {
      "model_module": "@jupyter-widgets/base",
      "model_module_version": "1.2.0",
      "model_name": "LayoutModel",
      "state": {}
     },
     "b742f744473344ef96133470417efea3": {
      "model_module": "@jupyter-widgets/controls",
      "model_module_version": "1.5.0",
      "model_name": "DescriptionStyleModel",
      "state": {
       "description_width": ""
      }
     },
     "b76eab1c3152452d9eb2dced2aa2f49a": {
      "model_module": "@jupyter-widgets/controls",
      "model_module_version": "1.5.0",
      "model_name": "DescriptionStyleModel",
      "state": {
       "description_width": ""
      }
     },
     "b777f403714047b8b492e1d98acf58c5": {
      "model_module": "@jupyter-widgets/base",
      "model_module_version": "1.2.0",
      "model_name": "LayoutModel",
      "state": {}
     },
     "b7bd091275f3454b91379b6a5028a910": {
      "model_module": "@jupyter-widgets/output",
      "model_module_version": "1.0.0",
      "model_name": "OutputModel",
      "state": {
       "layout": "IPY_MODEL_c1719611213a45ef833178bb08179cb7",
       "outputs": [
        {
         "name": "stdout",
         "output_type": "stream",
         "text": "class\ne    0.0\np    0.0\ndtype: float64\n"
        },
        {
         "data": {
          "image/png": "iVBORw0KGgoAAAANSUhEUgAAAtEAAAIWCAYAAACRJNELAAAAOXRFWHRTb2Z0d2FyZQBNYXRwbG90bGliIHZlcnNpb24zLjMuMywgaHR0cHM6Ly9tYXRwbG90bGliLm9yZy/Il7ecAAAACXBIWXMAAAsTAAALEwEAmpwYAAAUwUlEQVR4nO3db4xl933X8c8XLwlERYntbFJju9m0saB2i4q4clRapCh/nQetI3DVpIXug1CDqIWgqhSXliZ1A0qgENSSVqyaqlZaSEpQlVULMq5D+BMVx7Op+8dNjRe3lW2cdBybIKulweHLgz1B09UY79f37t69y+sljeae8/vNzHeejN46OudOdXcAAIBz90e2PQAAAOwaEQ0AAEMiGgAAhkQ0AAAMiWgAABgS0QAAMHRk2wM8Hy996Uv72LFj2x4DAIBL2KlTp57o7qOHre1kRB87dix7e3vbHgMAgEtYVf3Os625nQMAAIZENAAADIloAAAYEtEAADAkogEAYEhEAwDAkIgGAIAhEQ0AAEMiGgAAhkQ0AAAMiWgAABgS0QAAMCSiAQBgSEQDAMCQiAYAgCERDQAAQyIaAACGRDQAAAyJaAAAGBLRAAAwJKIBAGBIRAMAwJCIBgCAIRENAABDIhoAAIZENAAADIloAAAYEtEAADAkogEAYEhEAwDAkIgGAIAhEQ0AAEMiGgAAhkQ0AAAMiWgAABgS0QAAMCSiAQBgSEQDAMCQiAYAgCERDQAAQyIaAACGRDQAAAyJaAAAGBLRAAAwJKIBAGBIRAMAwJCIBgCAIRENAABDIhoAAIZENAAADIloAAAYEtEAADAkogEAYEhEAwDAkIgGAIAhEQ0AAEMiGgAAhkQ0AAAMiWgAABgS0QAAMCSiAQBgaCMRXVU3VdWDVXW6qm4/ZP2FVfXhZf3eqjp21vpXVNXTVfU9m5gHAADOp7UjuqouS/L+JG9Ocn2St1XV9Wdte3uSp7r7VUnel+S9Z63/4yT/Zt1ZAADgQtjElegbk5zu7oe7+wtJPpTk5rP23JzkzuX1R5K8rqoqSarqLUl+K8kDG5gFAADOu01E9NVJHjlw/Ohy7tA93f1Mks8nubKqvizJO5L84HP9kKq6tar2qmpvf39/A2MDAMDzs+0HC9+V5H3d/fRzbezuE9296u7V0aNHz/9kAADwLI5s4Hs8luTaA8fXLOcO2/NoVR1J8uIkn0vy6iS3VNU/SPKSJP+7qv5nd//TDcwFAADnxSYi+r4k11XVK3Mmlt+a5NvO2nMyyfEkv5TkliQf6+5O8he+tKGq3pXkaQENAMDFbu2I7u5nquq2JHcluSzJT3b3A1V1R5K97j6Z5ANJPlhVp5M8mTOhDQAAO6nOXBDeLavVqvf29rY9BgAAl7CqOtXdq8PWtv1gIQAA7BwRDQAAQyIaAACGRDQAAAyJaAAAGBLRAAAwJKIBAGBIRAMAwJCIBgCAIRENAABDIhoAAIZENAAADIloAAAYEtEAADAkogEAYEhEAwDAkIgGAIAhEQ0AAEMiGgAAhkQ0AAAMiWgAABgS0QAAMCSiAQBgSEQDAMCQiAYAgCERDQAAQyIaAACGRDQAAAyJaAAAGBLRAAAwJKIBAGBIRAMAwJCIBgCAIRENAABDIhoAAIZENAAADIloAAAYEtEAADAkogEAYEhEAwDAkIgGAIAhEQ0AAEMiGgAAhkQ0AAAMiWgAABgS0QAAMCSiAQBgSEQDAMCQiAYAgCERDQAAQyIaAACGRDQAAAyJaAAAGBLRAAAwJKIBAGBIRAMAwJCIBgCAIRENAABDIhoAAIZENAAADIloAAAYEtEAADAkogEAYEhEAwDAkIgGAIAhEQ0AAEMiGgAAhkQ0AAAMiWgAABgS0QAAMCSiAQBgSEQDAMCQiAYAgCERDQAAQyIaAACGRDQAAAyJaAAAGBLRAAAwJKIBAGBIRAMAwNBGIrqqbqqqB6vqdFXdfsj6C6vqw8v6vVV1bDn/hqo6VVW/tnx+7SbmAQCA82ntiK6qy5K8P8mbk1yf5G1Vdf1Z296e5KnuflWS9yV573L+iSTf1N1fm+R4kg+uOw8AAJxvm7gSfWOS0939cHd/IcmHktx81p6bk9y5vP5IktdVVXX3L3f3f1vOP5Dkj1fVCzcwEwAAnDebiOirkzxy4PjR5dyhe7r7mSSfT3LlWXv+UpJPdfcfHPZDqurWqtqrqr39/f0NjA0AAM/PRfFgYVXdkDO3ePy1Z9vT3Se6e9Xdq6NHj1644QAA4CybiOjHklx74Pia5dyhe6rqSJIXJ/nccnxNkp9L8h3d/V83MA8AAJxXm4jo+5JcV1WvrKoXJHlrkpNn7TmZMw8OJsktST7W3V1VL0nyC0lu7+5PbGAWAAA479aO6OUe59uS3JXk00l+trsfqKo7quqbl20fSHJlVZ1O8t1JvvQ2eLcleVWSH6iq+5ePl607EwAAnE/V3dueYWy1WvXe3t62xwAA4BJWVae6e3XY2kXxYCEAAOwSEQ0AAEMiGgAAhkQ0AAAMiWgAABgS0QAAMCSiAQBgSEQDAMCQiAYAgCERDQAAQyIaAACGRDQAAAyJaAAAGBLRAAAwJKIBAGBIRAMAwJCIBgCAIRENAABDIhoAAIZENAAADIloAAAYEtEAADAkogEAYEhEAwDAkIgGAIAhEQ0AAEMiGgAAhkQ0AAAMiWgAABgS0QAAMCSiAQBgSEQDAMCQiAYAgCERDQAAQyIaAACGRDQAAAyJaAAAGBLRAAAwJKIBAGBIRAMAwJCIBgCAIRENAABDIhoAAIZENAAADIloAAAYEtEAADAkogEAYEhEAwDAkIgGAIAhEQ0AAEMiGgAAhkQ0AAAMiWgAABgS0QAAMCSiAQBgSEQDAMCQiAYAgCERDQAAQyIaAACGRDQAAAyJaAAAGBLRAAAwJKIBAGBIRAMAwJCIBgCAIRENAABDIhoAAIZENAAADIloAAAYEtEAADAkogEAYEhEAwDAkIgGAIAhEQ0AAEMiGgAAhkQ0AAAMiWgAABgS0QAAMCSiAQBgSEQDAMDQRiK6qm6qqger6nRV3X7I+gur6sPL+r1VdezA2vcu5x+sqjdtYh4AADif1o7oqrosyfuTvDnJ9UneVlXXn7Xt7Ume6u5XJXlfkvcuX3t9krcmuSHJTUl+bPl+AABw0drElegbk5zu7oe7+wtJPpTk5rP23JzkzuX1R5K8rqpqOf+h7v6D7v6tJKeX7wcAABetTUT01UkeOXD86HLu0D3d/UySzye58hy/NklSVbdW1V5V7e3v729gbAAAeH525sHC7j7R3avuXh09enTb4wAA8P+xTUT0Y0muPXB8zXLu0D1VdSTJi5N87hy/FgAALiqbiOj7klxXVa+sqhfkzIOCJ8/aczLJ8eX1LUk+1t29nH/r8u4dr0xyXZJPbmAmAAA4b46s+w26+5mqui3JXUkuS/KT3f1AVd2RZK+7Tyb5QJIPVtXpJE/mTGhn2fezSX4jyTNJvqu7v7juTAAAcD7VmQvCu2W1WvXe3t62xwAA4BJWVae6e3XY2s48WAgAABcLEQ0AAEMiGgAAhkQ0AAAMiWgAABgS0QAAMCSiAQBgSEQDAMCQiAYAgCERDQAAQyIaAACGRDQAAAyJaAAAGBLRAAAwJKIBAGBIRAMAwJCIBgCAIRENAABDIhoAAIZENAAADIloAAAYEtEAADAkogEAYEhEAwDAkIgGAIAhEQ0AAEMiGgAAhkQ0AAAMiWgAABgS0QAAMCSiAQBgSEQDAMCQiAYAgCERDQAAQyIaAACGRDQAAAyJaAAAGBLRAAAwJKIBAGBIRAMAwJCIBgCAIRENAABDIhoAAIZENAAADIloAAAYEtEAADAkogEAYEhEAwDAkIgGAIAhEQ0AAEMiGgAAhkQ0AAAMiWgAABgS0QAAMCSiAQBgSEQDAMCQiAYAgCERDQAAQyIaAACGRDQAAAyJaAAAGBLRAAAwJKIBAGBIRAMAwJCIBgCAIRENAABDIhoAAIZENAAADIloAAAYEtEAADAkogEAYEhEAwDAkIgGAIAhEQ0AAEMiGgAAhkQ0AAAMiWgAABgS0QAAMCSiAQBgSEQDAMDQWhFdVVdU1d1V9dDy+fJn2Xd82fNQVR1fzr2oqn6hqn6zqh6oqvesMwsAAFwo616Jvj3JPd19XZJ7luM/pKquSPLOJK9OcmOSdx6I7R/u7j+d5M8m+YaqevOa8wAAwHm3bkTfnOTO5fWdSd5yyJ43Jbm7u5/s7qeS3J3kpu7+ve7+d0nS3V9I8qkk16w5DwAAnHfrRvTLu/vx5fVnkrz8kD1XJ3nkwPGjy7n/q6pekuSbcuZq9qGq6taq2quqvf39/bWGBgCAdRx5rg1V9YtJvvyQpe87eNDdXVU9HaCqjiT5F0l+pLsffrZ93X0iyYkkWa1W458DAACb8pwR3d2vf7a1qvpsVV3V3Y9X1VVJfveQbY8lec2B42uSfPzA8YkkD3X3PzmXgQEAYNvWvZ3jZJLjy+vjST56yJ67kryxqi5fHih843IuVfXuJC9O8rfWnAMAAC6YdSP6PUneUFUPJXn9cpyqWlXVTyRJdz+Z5IeS3Ld83NHdT1bVNTlzS8j1ST5VVfdX1V9dcx4AADjvqnv3bi9erVa9t7e37TEAALiEVdWp7l4dtuY/FgIAwJCIBgCAIRENAABDIhoAAIZENAAADIloAAAYEtEAADAkogEAYEhEAwDAkIgGAIAhEQ0AAEMiGgAAhkQ0AAAMiWgAABgS0QAAMCSiAQBgSEQDAMCQiAYAgCERDQAAQyIaAACGRDQAAAyJaAAAGBLRAAAwJKIBAGBIRAMAwJCIBgCAIRENAABDIhoAAIZENAAADIloAAAYEtEAADAkogEAYEhEAwDAkIgGAIAhEQ0AAEMiGgAAhkQ0AAAMiWgAABgS0QAAMCSiAQBgSEQDAMCQiAYAgCERDQAAQyIaAACGRDQAAAyJaAAAGBLRAAAwJKIBAGBIRAMAwJCIBgCAIRENAABDIhoAAIZENAAADIloAAAYEtEAADAkogEAYEhEAwDAkIgGAIAhEQ0AAEMiGgAAhkQ0AAAMiWgAABgS0QAAMCSiAQBgSEQDAMCQiAYAgCERDQAAQyIaAACGRDQAAAyJaAAAGBLRAAAwJKIBAGBIRAMAwJCIBgCAIRENAABDIhoAAIZENAAADIloAAAYEtEAADAkogEAYGitiK6qK6rq7qp6aPl8+bPsO77seaiqjh+yfrKqfn2dWQAA4EJZ90r07Unu6e7rktyzHP8hVXVFkncmeXWSG5O882BsV9VfTPL0mnMAAMAFs25E35zkzuX1nUnecsieNyW5u7uf7O6nktyd5KYkqaovS/LdSd695hwAAHDBrBvRL+/ux5fXn0ny8kP2XJ3kkQPHjy7nkuSHkvyjJL/3XD+oqm6tqr2q2tvf319jZAAAWM+R59pQVb+Y5MsPWfq+gwfd3VXV5/qDq+rrknxVd//tqjr2XPu7+0SSE0myWq3O+ecAAMCmPWdEd/frn22tqj5bVVd19+NVdVWS3z1k22NJXnPg+JokH0/y9UlWVfXbyxwvq6qPd/drAgAAF7F1b+c4meRL77ZxPMlHD9lzV5I3VtXlywOFb0xyV3f/eHf/ye4+luQbk/wXAQ0AwC5YN6Lfk+QNVfVQktcvx6mqVVX9RJJ095M5c+/zfcvHHcs5AADYSdW9e7cXr1ar3tvb2/YYAABcwqrqVHevDlvzHwsBAGBIRAMAwJCIBgCAIRENAABDIhoAAIZENAAADIloAAAYEtEAADAkogEAYEhEAwDAkIgGAIAhEQ0AAEMiGgAAhkQ0AAAMiWgAABgS0QAAMCSiAQBgSEQDAMCQiAYAgCERDQAAQyIaAACGRDQAAAyJaAAAGBLRAAAwJKIBAGBIRAMAwJCIBgCAIRENAABDIhoAAIZENAAADIloAAAYEtEAADAkogEAYEhEAwDAkIgGAIAhEQ0AAEMiGgAAhkQ0AAAMiWgAABgS0QAAMCSiAQBgSEQDAMCQiAYAgCERDQAAQyIaAACGRDQAAAyJaAAAGBLRAAAwJKIBAGBIRAMAwJCIBgCAIRENAABDIhoAAIZENAAADIloAAAYEtEAADAkogEAYEhEAwDAkIgGAIAhEQ0AAEMiGgAAhqq7tz3DWFXtJ/mdbc8Bh3hpkie2PQTAjvG3k4vVK7r76GELOxnRcLGqqr3uXm17DoBd4m8nu8jtHAAAMCSiAQBgSETDZp3Y9gAAO8jfTnaOe6IBAGDIlWgAABgS0QAAMCSiAQBgSETDhlTVX66qT1bV/VX1z6rqsm3PBHAxq6pjVfWbVfUzVfXpqvpIVb1o23PBuRDRsAFV9dVJvjXJN3T31yX5YpJv3+pQALvhTyX5se7+6iT/I8nf2PI8cE5ENGzG65L8uST3VdX9y/FXbnUigN3wSHd/Ynn900m+cZvDwLk6su0B4BJRSe7s7u/d9iAAO+bs99r13rvsBFeiYTPuSXJLVb0sSarqiqp6xZZnAtgFX1FVX7+8/rYk/2mbw8C5EtGwAd39G0m+P8m/rapfTXJ3kqu2OxXATngwyXdV1aeTXJ7kx7c8D5wT/7EQANiKqjqW5Oe7+2u2PQtMuRINAABDrkQDAMCQK9EAADAkogEAYEhEAwDAkIgGuIRU1buq6nu2PQfApU5EAwDAkIgG2GFV9R1V9atV9StV9cGz1r6zqu5b1v5VVb1oOf8tVfXry/n/sJy7oao+WVX3L9/vum38PgC7wlvcAeyoqrohyc8l+fPd/URVXZHkbyZ5urt/uKqu7O7PLXvfneSz3f2jVfVrSW7q7seq6iXd/d+r6keT/Ofu/pmqekGSy7r797f1uwFc7FyJBthdr03yL7v7iSTp7ifPWv+aqvqPSzR/e5IblvOfSPJTVfWdSS5bzv1Skr9TVe9I8goBDfD/JqIBLl0/leS27v7aJD+Y5I8lSXf/9STfn+TaJKeWK9b/PMk3J/n9JP+6ql67nZEBdoOIBthdH0vyLVV1ZZIst3Mc9CeSPF5VfzRnrkRn2fdV3X1vd/9Akv0k11bVVyZ5uLt/JMlHk/yZC/IbAOyoI9seAIDnp7sfqKq/l+TfV9UXk/xykt8+sOXvJrk3Z0L53pyJ6iT5h8uDg5XkniS/kuQdSf5KVf2vJJ9J8vcvyC8BsKM8WAgAAENu5wAAgCERDQAAQyIaAACGRDQAAAyJaAAAGBLRAAAwJKIBAGBIRAMAwND/ASvZKx6qVdxDAAAAAElFTkSuQmCC\n",
          "text/plain": "<Figure size 864x648 with 1 Axes>"
         },
         "metadata": {
          "needs_background": "light"
         },
         "output_type": "display_data"
        }
       ]
      }
     },
     "b7ec3818f5df4d9abd5896cfb34cd343": {
      "model_module": "@jupyter-widgets/controls",
      "model_module_version": "1.5.0",
      "model_name": "DropdownModel",
      "state": {
       "_options_labels": [
        "Bell",
        "Conical",
        "Convex",
        "Flat",
        "Knobbed",
        "Sunken"
       ],
       "description": "cap_shape",
       "index": 2,
       "layout": "IPY_MODEL_555fc1626a6445ab9d1a063c73c2facf",
       "style": "IPY_MODEL_a3f539262ff24341b58fc211a717da29"
      }
     },
     "b812d289c2744f609fc2b5a068084543": {
      "model_module": "@jupyter-widgets/base",
      "model_module_version": "1.2.0",
      "model_name": "LayoutModel",
      "state": {}
     },
     "b8981268de674c80aaf082f1bb9a9b72": {
      "model_module": "@jupyter-widgets/base",
      "model_module_version": "1.2.0",
      "model_name": "LayoutModel",
      "state": {}
     },
     "b8e357f9393a480d9f9b675e19150a58": {
      "model_module": "@jupyter-widgets/base",
      "model_module_version": "1.2.0",
      "model_name": "LayoutModel",
      "state": {}
     },
     "b8e4ac2c10fd4da4ba3f72eb86b8646c": {
      "model_module": "@jupyter-widgets/controls",
      "model_module_version": "1.5.0",
      "model_name": "DescriptionStyleModel",
      "state": {
       "description_width": ""
      }
     },
     "b936e23fde1f4ba985ac1bd85337e698": {
      "model_module": "@jupyter-widgets/base",
      "model_module_version": "1.2.0",
      "model_name": "LayoutModel",
      "state": {}
     },
     "b9548682ba0f4b938f3845f616f68e6f": {
      "model_module": "@jupyter-widgets/controls",
      "model_module_version": "1.5.0",
      "model_name": "DescriptionStyleModel",
      "state": {
       "description_width": ""
      }
     },
     "b9b2e0dff593476696181e83d9051543": {
      "model_module": "@jupyter-widgets/controls",
      "model_module_version": "1.5.0",
      "model_name": "DropdownModel",
      "state": {
       "_options_labels": [
        "Brown",
        "Buff",
        "Cinnamon",
        "Gray",
        "Orange",
        "Pink",
        "Red",
        "White",
        "Yellow"
       ],
       "description": "stalk_color_below_ring",
       "index": 0,
       "layout": "IPY_MODEL_b066608c434b42d2a85e71a8c279e4fc",
       "style": "IPY_MODEL_205c34442db8448ea2a397b6e5865f6c"
      }
     },
     "b9b47699acba4a2ea60c1780d99077a5": {
      "model_module": "@jupyter-widgets/base",
      "model_module_version": "1.2.0",
      "model_name": "LayoutModel",
      "state": {}
     },
     "b9f187dedbd64bb097c06892b3d7e2e3": {
      "model_module": "@jupyter-widgets/controls",
      "model_module_version": "1.5.0",
      "model_name": "DescriptionStyleModel",
      "state": {
       "description_width": ""
      }
     },
     "ba3e231294964e65bcf52b1364ef1397": {
      "model_module": "@jupyter-widgets/controls",
      "model_module_version": "1.5.0",
      "model_name": "DescriptionStyleModel",
      "state": {
       "description_width": ""
      }
     },
     "ba5a598a9d944158b6a39b166918234b": {
      "model_module": "@jupyter-widgets/controls",
      "model_module_version": "1.5.0",
      "model_name": "DescriptionStyleModel",
      "state": {
       "description_width": ""
      }
     },
     "ba602c395e0f4de98e54ed7dc0ba5756": {
      "model_module": "@jupyter-widgets/controls",
      "model_module_version": "1.5.0",
      "model_name": "DescriptionStyleModel",
      "state": {
       "description_width": ""
      }
     },
     "ba6dad377b6f4b5ebfc33f549fb6ad86": {
      "model_module": "@jupyter-widgets/controls",
      "model_module_version": "1.5.0",
      "model_name": "DropdownModel",
      "state": {
       "_options_labels": [
        "Fiberous",
        "Scaly",
        "Silky",
        "Smooth"
       ],
       "description": "stalk_surface_below_ring",
       "index": 0,
       "layout": "IPY_MODEL_66610fe0d3bd42ccb35ba432ed2e48e7",
       "style": "IPY_MODEL_e9f2e23e05fb4a5ab72098bc79984421"
      }
     },
     "ba6de0c723d54adca81eb5ff097e4e51": {
      "model_module": "@jupyter-widgets/base",
      "model_module_version": "1.2.0",
      "model_name": "LayoutModel",
      "state": {}
     },
     "ba84ac5346b0482cbdab4ff8c6d9b01e": {
      "model_module": "@jupyter-widgets/controls",
      "model_module_version": "1.5.0",
      "model_name": "DescriptionStyleModel",
      "state": {
       "description_width": ""
      }
     },
     "ba91e39881aa4263a2a772aeadbee6c3": {
      "model_module": "@jupyter-widgets/controls",
      "model_module_version": "1.5.0",
      "model_name": "DropdownModel",
      "state": {
       "_options_labels": [
        "Bulbous",
        "Club",
        "Cup",
        "Equal",
        "Rhizomorphs",
        "Rooted",
        "Missing"
       ],
       "description": "stalk_root",
       "index": 0,
       "layout": "IPY_MODEL_53858a10a93345699243f43d330333c9",
       "style": "IPY_MODEL_c7763cff76014e9bbff771547089a3bf"
      }
     },
     "bad96f953fae4f4c9656fd470883acf4": {
      "model_module": "@jupyter-widgets/base",
      "model_module_version": "1.2.0",
      "model_name": "LayoutModel",
      "state": {}
     },
     "bb1e63edc1864fe6a30dedc509d93461": {
      "model_module": "@jupyter-widgets/controls",
      "model_module_version": "1.5.0",
      "model_name": "DropdownModel",
      "state": {
       "_options_labels": [
        "Attached",
        "Descending",
        "Free",
        "Notched"
       ],
       "description": "gill_attachment",
       "index": 0,
       "layout": "IPY_MODEL_8f5352b77103442f8caab88e4e0a8e4b",
       "style": "IPY_MODEL_ac313ed844b540bca00c60c473b70b86"
      }
     },
     "bb4f739c5461432cbcd0363f13f46629": {
      "model_module": "@jupyter-widgets/base",
      "model_module_version": "1.2.0",
      "model_name": "LayoutModel",
      "state": {}
     },
     "bb6b59a81c824a80b4cd083726d5a26e": {
      "model_module": "@jupyter-widgets/base",
      "model_module_version": "1.2.0",
      "model_name": "LayoutModel",
      "state": {}
     },
     "bb75943706ce42ba85f3706d7b9b1a35": {
      "model_module": "@jupyter-widgets/controls",
      "model_module_version": "1.5.0",
      "model_name": "DescriptionStyleModel",
      "state": {
       "description_width": ""
      }
     },
     "bb77fc5f2ffb4a6cbf743746d6442340": {
      "model_module": "@jupyter-widgets/controls",
      "model_module_version": "1.5.0",
      "model_name": "DescriptionStyleModel",
      "state": {
       "description_width": ""
      }
     },
     "bbb1aaf2be8549fcace280abea67b4a7": {
      "model_module": "@jupyter-widgets/controls",
      "model_module_version": "1.5.0",
      "model_name": "DescriptionStyleModel",
      "state": {
       "description_width": ""
      }
     },
     "bbc00576683440579cd992bd4b9f1299": {
      "model_module": "@jupyter-widgets/base",
      "model_module_version": "1.2.0",
      "model_name": "LayoutModel",
      "state": {}
     },
     "bc1e83661ab1470d820ad2ac2c30f351": {
      "model_module": "@jupyter-widgets/controls",
      "model_module_version": "1.5.0",
      "model_name": "DropdownModel",
      "state": {
       "_options_labels": [
        "Abundant",
        "Clustered",
        "Numerous",
        "Scattered",
        "Several",
        "Solitary"
       ],
       "description": "population",
       "index": 0,
       "layout": "IPY_MODEL_1c7d54f7ab344fcfabb37922bfdf4456",
       "style": "IPY_MODEL_9e6009bccf674909a03836f95b4c7e6d"
      }
     },
     "bc2f4bf6ec02493e8b8712ba9ab044e2": {
      "model_module": "@jupyter-widgets/base",
      "model_module_version": "1.2.0",
      "model_name": "LayoutModel",
      "state": {}
     },
     "bc31a7e1c98549bc92557b92dbb70fb0": {
      "model_module": "@jupyter-widgets/base",
      "model_module_version": "1.2.0",
      "model_name": "LayoutModel",
      "state": {}
     },
     "bc36b68dcd3e41568eea8a036d164d63": {
      "model_module": "@jupyter-widgets/base",
      "model_module_version": "1.2.0",
      "model_name": "LayoutModel",
      "state": {}
     },
     "bc860719c9d3405987b3ff1dc626d3f7": {
      "model_module": "@jupyter-widgets/controls",
      "model_module_version": "1.5.0",
      "model_name": "DropdownModel",
      "state": {
       "_options_labels": [
        "Enlarging",
        "Tapering"
       ],
       "description": "stalk_shape",
       "index": 0,
       "layout": "IPY_MODEL_2a4b52a2b72546999531f543d21b25d5",
       "style": "IPY_MODEL_c1466725c97045879ee88f098e7d17b7"
      }
     },
     "bcc24b86aa5a457f91652b468f8e142d": {
      "model_module": "@jupyter-widgets/controls",
      "model_module_version": "1.5.0",
      "model_name": "DropdownModel",
      "state": {
       "_options_labels": [
        "Black",
        "Brown",
        "Buff",
        "Chocolate",
        "Gray",
        "Green",
        "Orange",
        "Pink",
        "Purple",
        "Red",
        "White",
        "Yellow"
       ],
       "description": "gill_color",
       "index": 0,
       "layout": "IPY_MODEL_36e2dd5c0ae84fa180d21933e85c417a",
       "style": "IPY_MODEL_2c6dc040c33844e7811858db9ee72936"
      }
     },
     "bcc6701f60c84f9d9cd23aacc10f4618": {
      "model_module": "@jupyter-widgets/controls",
      "model_module_version": "1.5.0",
      "model_name": "DescriptionStyleModel",
      "state": {
       "description_width": ""
      }
     },
     "bccce775ff1445c59b0df5228156066d": {
      "model_module": "@jupyter-widgets/controls",
      "model_module_version": "1.5.0",
      "model_name": "DropdownModel",
      "state": {
       "_options_labels": [
        "Grasses",
        "Leaves",
        "Meadows",
        "Paths",
        "Urban",
        "Waste",
        "Woods"
       ],
       "description": "habitat",
       "index": 0,
       "layout": "IPY_MODEL_19c4c68fb1c6401fa4f095a0093225ee",
       "style": "IPY_MODEL_353f3043bbe84e53a3362de3ed699f33"
      }
     },
     "bce9be38751a48c99b5c5a4a8b4a0bd1": {
      "model_module": "@jupyter-widgets/base",
      "model_module_version": "1.2.0",
      "model_name": "LayoutModel",
      "state": {}
     },
     "bd0d2181281e4a13ac08f7647dd01c6d": {
      "model_module": "@jupyter-widgets/controls",
      "model_module_version": "1.5.0",
      "model_name": "DropdownModel",
      "state": {
       "_options_labels": [
        "Attached",
        "Descending",
        "Free",
        "Notched"
       ],
       "description": "gill_attachment",
       "index": 0,
       "layout": "IPY_MODEL_5d1095409f9e4ecb97ee62bed95dc609",
       "style": "IPY_MODEL_473d9c8351c24e2e92763e0a41dbacd4"
      }
     },
     "bd0e0fd047e94f6eaea99987c4610fe6": {
      "model_module": "@jupyter-widgets/controls",
      "model_module_version": "1.5.0",
      "model_name": "DropdownModel",
      "state": {
       "_options_labels": [
        "Attached",
        "Free"
       ],
       "description": "gill_attachment",
       "index": 0,
       "layout": "IPY_MODEL_cb735a53302b4efd807986e05f227f7e",
       "style": "IPY_MODEL_bb77fc5f2ffb4a6cbf743746d6442340"
      }
     },
     "bd240001a5b64f0fae82410925e685ee": {
      "model_module": "@jupyter-widgets/controls",
      "model_module_version": "1.5.0",
      "model_name": "DescriptionStyleModel",
      "state": {
       "description_width": ""
      }
     },
     "bd2cd7b91baf4bdd832d1a35a3d86bc8": {
      "model_module": "@jupyter-widgets/base",
      "model_module_version": "1.2.0",
      "model_name": "LayoutModel",
      "state": {}
     },
     "bd2cfa4c865941dc8824a7d6d8080394": {
      "model_module": "@jupyter-widgets/controls",
      "model_module_version": "1.5.0",
      "model_name": "DropdownModel",
      "state": {
       "_options_labels": [
        "Almond",
        "Anise",
        "Creosote",
        "Fishy",
        "Foul",
        "Musty",
        "None",
        "Pungent",
        "Spicy"
       ],
       "description": "odor",
       "index": 0,
       "layout": "IPY_MODEL_278a90f6204c42b6a9408872bd5af114",
       "style": "IPY_MODEL_6825742d8981469a99785936a58c3576"
      }
     },
     "bd3c8107db0c40ad8c5744714f723d14": {
      "model_module": "@jupyter-widgets/controls",
      "model_module_version": "1.5.0",
      "model_name": "DropdownModel",
      "state": {
       "_options_labels": [
        "Enlarging",
        "Tapering"
       ],
       "description": "stalk_shape",
       "index": 0,
       "layout": "IPY_MODEL_519b7eb119704eaab8ad6521f9c4fbd7",
       "style": "IPY_MODEL_ba602c395e0f4de98e54ed7dc0ba5756"
      }
     },
     "bd42667bc6b04d5db7466a3ba1d7bc5e": {
      "model_module": "@jupyter-widgets/controls",
      "model_module_version": "1.5.0",
      "model_name": "DescriptionStyleModel",
      "state": {
       "description_width": ""
      }
     },
     "bd5668aed97a439683c29faeaf463578": {
      "model_module": "@jupyter-widgets/controls",
      "model_module_version": "1.5.0",
      "model_name": "DropdownModel",
      "state": {
       "_options_labels": [
        "Fiberous",
        "Scaly",
        "Silky",
        "Smooth"
       ],
       "description": "stalk_surface_below_ring",
       "index": 0,
       "layout": "IPY_MODEL_61237af3e5a140cdb749b90aa4a40199",
       "style": "IPY_MODEL_1a83ab9bd1244eb8878e8357adacd64a"
      }
     },
     "bd62be47dd474e60b0e329ffdf287488": {
      "model_module": "@jupyter-widgets/base",
      "model_module_version": "1.2.0",
      "model_name": "LayoutModel",
      "state": {}
     },
     "bd8a9af1c6054fa3a61062c64c4db15b": {
      "model_module": "@jupyter-widgets/base",
      "model_module_version": "1.2.0",
      "model_name": "LayoutModel",
      "state": {}
     },
     "bdbb4131cad14bc6ab02ecbb5148d15b": {
      "model_module": "@jupyter-widgets/base",
      "model_module_version": "1.2.0",
      "model_name": "LayoutModel",
      "state": {}
     },
     "bdc9d3d455f24867b5584451ee94e5c9": {
      "model_module": "@jupyter-widgets/controls",
      "model_module_version": "1.5.0",
      "model_name": "DropdownModel",
      "state": {
       "_options_labels": [
        "None",
        "One",
        "Two"
       ],
       "description": "ring_number",
       "index": 0,
       "layout": "IPY_MODEL_be81a8d8362648c4a7379586659fc2b6",
       "style": "IPY_MODEL_61ad55c501e8458d8eda771cbe9988d5"
      }
     },
     "bdd99a1c5e294128ba20489357c66870": {
      "model_module": "@jupyter-widgets/controls",
      "model_module_version": "1.5.0",
      "model_name": "DropdownModel",
      "state": {
       "_options_labels": [
        "Brown",
        "Orange",
        "White",
        "Yellow"
       ],
       "description": "veil_color",
       "index": 2,
       "layout": "IPY_MODEL_3390c36d55114bf08cbf2213b93c6c20",
       "style": "IPY_MODEL_6eb60a9c702744b5b2b7fa00935ebe99"
      }
     },
     "be04c30f2dec4ab1849e1a3b6ccd49fc": {
      "model_module": "@jupyter-widgets/base",
      "model_module_version": "1.2.0",
      "model_name": "LayoutModel",
      "state": {}
     },
     "be188f8b5c0544b7b21c55ac8579368b": {
      "model_module": "@jupyter-widgets/base",
      "model_module_version": "1.2.0",
      "model_name": "LayoutModel",
      "state": {}
     },
     "be1a23cd696843d3a2d6a90fb8f757a3": {
      "model_module": "@jupyter-widgets/controls",
      "model_module_version": "1.5.0",
      "model_name": "DescriptionStyleModel",
      "state": {
       "description_width": ""
      }
     },
     "be49147e69a74c42a27ea77b1e7741d4": {
      "model_module": "@jupyter-widgets/controls",
      "model_module_version": "1.5.0",
      "model_name": "DescriptionStyleModel",
      "state": {
       "description_width": ""
      }
     },
     "be5991eda4b746039a70dc9d33656b56": {
      "model_module": "@jupyter-widgets/controls",
      "model_module_version": "1.5.0",
      "model_name": "DropdownModel",
      "state": {
       "_options_labels": [
        "Evanescent",
        "Flaring",
        "Large",
        "None",
        "Pendant",
        "Sheathing",
        "Zone"
       ],
       "description": "ring_type",
       "index": 0,
       "layout": "IPY_MODEL_371d4c7f5bd04e059b54b23bc4a6f6dc",
       "style": "IPY_MODEL_17121144ada541969bd5d21bd8e733ed"
      }
     },
     "be75861195524d5998185880fb98799c": {
      "model_module": "@jupyter-widgets/controls",
      "model_module_version": "1.5.0",
      "model_name": "DropdownModel",
      "state": {
       "_options_labels": [
        "Almond",
        "Anise",
        "Creosote",
        "Fishy",
        "Foul",
        "Musty",
        "None",
        "Pungent",
        "Spicy"
       ],
       "description": "odor",
       "index": 0,
       "layout": "IPY_MODEL_f6d14ae1e44a41fa871611c56c2b2007",
       "style": "IPY_MODEL_377f30d258f04c1aaf9c74b5ac98d49b"
      }
     },
     "be81a8d8362648c4a7379586659fc2b6": {
      "model_module": "@jupyter-widgets/base",
      "model_module_version": "1.2.0",
      "model_name": "LayoutModel",
      "state": {}
     },
     "be83d3d16be24fa1a3e203d4ae75f918": {
      "model_module": "@jupyter-widgets/controls",
      "model_module_version": "1.5.0",
      "model_name": "DropdownModel",
      "state": {
       "_options_labels": [
        "Brown",
        "Buff",
        "Cinnamon",
        "Gray",
        "Green",
        "Pink",
        "Purple",
        "Red",
        "White",
        "Yellow"
       ],
       "description": "cap_color",
       "index": 4,
       "layout": "IPY_MODEL_af03d2175ccd46a48ebc1399f6ebdc5a",
       "style": "IPY_MODEL_ece19e2210bc4eb688cc8b014f8e8fea"
      }
     },
     "be98ccfde10840e2b5587b76ccb897c3": {
      "model_module": "@jupyter-widgets/controls",
      "model_module_version": "1.5.0",
      "model_name": "DescriptionStyleModel",
      "state": {
       "description_width": ""
      }
     },
     "bebd083023ab4f089750990475264c68": {
      "model_module": "@jupyter-widgets/controls",
      "model_module_version": "1.5.0",
      "model_name": "DescriptionStyleModel",
      "state": {
       "description_width": ""
      }
     },
     "bed0d76067694e05be93935c213cac4a": {
      "model_module": "@jupyter-widgets/controls",
      "model_module_version": "1.5.0",
      "model_name": "DropdownModel",
      "state": {
       "_options_labels": [
        "Enlarging",
        "Tapering"
       ],
       "description": "stalk_shape",
       "index": 0,
       "layout": "IPY_MODEL_421887c97a5d4a2aaff1d65b2a448604",
       "style": "IPY_MODEL_4efa4ac7fedb414291540591cbfa7923"
      }
     },
     "bedbcb2e4de64b09a89840ecee61eec2": {
      "model_module": "@jupyter-widgets/controls",
      "model_module_version": "1.5.0",
      "model_name": "DropdownModel",
      "state": {
       "_options_labels": [
        "Attached",
        "Descending",
        "Free",
        "Notched"
       ],
       "description": "gill_attachment",
       "index": 0,
       "layout": "IPY_MODEL_de1061bc30e8496299b8c832f61d96b5",
       "style": "IPY_MODEL_f3eed99828f6432795cfeeb5a46bcfc2"
      }
     },
     "beedf9154b8744198d1706a808a049e7": {
      "model_module": "@jupyter-widgets/base",
      "model_module_version": "1.2.0",
      "model_name": "LayoutModel",
      "state": {}
     },
     "bf08f26688ff4705a8638e6c145dc1b3": {
      "model_module": "@jupyter-widgets/controls",
      "model_module_version": "1.5.0",
      "model_name": "DropdownModel",
      "state": {
       "_options_labels": [
        "Brown",
        "Buff",
        "Cinnamon",
        "Gray",
        "Orange",
        "Pink",
        "Red",
        "White",
        "Yellow"
       ],
       "description": "stalk_color_above_ring",
       "index": 0,
       "layout": "IPY_MODEL_32a20be3b8ca41b8882014c47212c192",
       "style": "IPY_MODEL_81a497bebe8b4b549ba8a55a55ecc183"
      }
     },
     "bf37c4a099344b6faba37365f480d7a6": {
      "model_module": "@jupyter-widgets/controls",
      "model_module_version": "1.5.0",
      "model_name": "DropdownModel",
      "state": {
       "_options_labels": [
        "Partial",
        "Universal"
       ],
       "description": "veil_type",
       "index": 0,
       "layout": "IPY_MODEL_436216f57b2b47fcb88f594e0894deb7",
       "style": "IPY_MODEL_5f167e690a2f496e9765ec0bfae76f30"
      }
     },
     "bf61fd35081a46d3a601b2a28bfc6d35": {
      "model_module": "@jupyter-widgets/base",
      "model_module_version": "1.2.0",
      "model_name": "LayoutModel",
      "state": {}
     },
     "bf9d73c0f7fd41be894743472686a22d": {
      "model_module": "@jupyter-widgets/base",
      "model_module_version": "1.2.0",
      "model_name": "LayoutModel",
      "state": {}
     },
     "bff9b21e6e07428585342eee8ca40eba": {
      "model_module": "@jupyter-widgets/controls",
      "model_module_version": "1.5.0",
      "model_name": "DescriptionStyleModel",
      "state": {
       "description_width": ""
      }
     },
     "bffeaf2e1eb54a24b44ce62217d8ca97": {
      "model_module": "@jupyter-widgets/controls",
      "model_module_version": "1.5.0",
      "model_name": "DropdownModel",
      "state": {
       "_options_labels": [
        "Black",
        "Brown",
        "Buff",
        "Chocolate",
        "Gray",
        "Green",
        "Orange",
        "Pink",
        "Purple",
        "Red",
        "White",
        "Yellow"
       ],
       "description": "gill_color",
       "index": 0,
       "layout": "IPY_MODEL_3c4f8077d7eb4f528c28e13565001c1f",
       "style": "IPY_MODEL_42dd53fbade542f49764ccf9500bfdc1"
      }
     },
     "c006453cb64b4e07b98f9aca9e71d698": {
      "model_module": "@jupyter-widgets/controls",
      "model_module_version": "1.5.0",
      "model_name": "DescriptionStyleModel",
      "state": {
       "description_width": ""
      }
     },
     "c0380960257d49088eef90ce22ee5fa7": {
      "model_module": "@jupyter-widgets/output",
      "model_module_version": "1.0.0",
      "model_name": "OutputModel",
      "state": {
       "layout": "IPY_MODEL_92ddcbeffd844c1097e29bb41682a27d",
       "outputs": [
        {
         "name": "stdout",
         "output_type": "stream",
         "text": "{'cap-shape': 'b', 'cap-surface': 'f', 'cap-color': 'n', 'bruises': 't', 'odor': 'a', 'gill-attachment': 'a', 'gill-spacing': 'c'}\n"
        }
       ]
      }
     },
     "c06b2f3250a54e619da3b19e1bd54bc1": {
      "model_module": "@jupyter-widgets/controls",
      "model_module_version": "1.5.0",
      "model_name": "DescriptionStyleModel",
      "state": {
       "description_width": ""
      }
     },
     "c08c49d60c324d0099d113a2d1da1e35": {
      "model_module": "@jupyter-widgets/controls",
      "model_module_version": "1.5.0",
      "model_name": "DescriptionStyleModel",
      "state": {
       "description_width": ""
      }
     },
     "c08f83fb24fe48b387abb24921641693": {
      "model_module": "@jupyter-widgets/base",
      "model_module_version": "1.2.0",
      "model_name": "LayoutModel",
      "state": {}
     },
     "c0aaf4bd01af45239d48f676af544d32": {
      "model_module": "@jupyter-widgets/base",
      "model_module_version": "1.2.0",
      "model_name": "LayoutModel",
      "state": {}
     },
     "c0b47ddd7cf44ab4ad73c53d57cffebd": {
      "model_module": "@jupyter-widgets/base",
      "model_module_version": "1.2.0",
      "model_name": "LayoutModel",
      "state": {}
     },
     "c0b82832d8e047109220d7428162ae3b": {
      "model_module": "@jupyter-widgets/controls",
      "model_module_version": "1.5.0",
      "model_name": "DescriptionStyleModel",
      "state": {
       "description_width": ""
      }
     },
     "c0c52b10cb2b4397bf4729e4f7d9a94d": {
      "model_module": "@jupyter-widgets/base",
      "model_module_version": "1.2.0",
      "model_name": "LayoutModel",
      "state": {}
     },
     "c0eefdc7cb8a4e97b3504d4a58332c84": {
      "model_module": "@jupyter-widgets/controls",
      "model_module_version": "1.5.0",
      "model_name": "DropdownModel",
      "state": {
       "_options_labels": [
        "Brown",
        "Orange",
        "White",
        "Yellow"
       ],
       "description": "veil_color",
       "index": 0,
       "layout": "IPY_MODEL_2ab6592ee03e4c188e3ed431392cb98a",
       "style": "IPY_MODEL_72722a3a7de74725828176291c7bf598"
      }
     },
     "c10ca95663f04c659c5da195c2c4a81d": {
      "model_module": "@jupyter-widgets/controls",
      "model_module_version": "1.5.0",
      "model_name": "DropdownModel",
      "state": {
       "_options_labels": [
        "Brown",
        "Buff",
        "Cinnamon",
        "Gray",
        "Orange",
        "Pink",
        "Red",
        "White",
        "Yellow"
       ],
       "description": "stalk_color_below_ring",
       "index": 0,
       "layout": "IPY_MODEL_4c700da52719494ca9429fda410d0860",
       "style": "IPY_MODEL_0ce0d2d0c36b4978bc78dbdbc1d6d488"
      }
     },
     "c1466725c97045879ee88f098e7d17b7": {
      "model_module": "@jupyter-widgets/controls",
      "model_module_version": "1.5.0",
      "model_name": "DescriptionStyleModel",
      "state": {
       "description_width": ""
      }
     },
     "c1719611213a45ef833178bb08179cb7": {
      "model_module": "@jupyter-widgets/base",
      "model_module_version": "1.2.0",
      "model_name": "LayoutModel",
      "state": {}
     },
     "c19a26706f2c467cb186f2bbcf9cabe0": {
      "model_module": "@jupyter-widgets/controls",
      "model_module_version": "1.5.0",
      "model_name": "DescriptionStyleModel",
      "state": {
       "description_width": ""
      }
     },
     "c19c6e4009514fc293d26671d4fbad0f": {
      "model_module": "@jupyter-widgets/controls",
      "model_module_version": "1.5.0",
      "model_name": "DescriptionStyleModel",
      "state": {
       "description_width": ""
      }
     },
     "c1af801c6a7e48fb9c8ba1b6e127eb5f": {
      "model_module": "@jupyter-widgets/controls",
      "model_module_version": "1.5.0",
      "model_name": "DescriptionStyleModel",
      "state": {
       "description_width": ""
      }
     },
     "c1afc7ca90ec412ab22344990ab3dfb8": {
      "model_module": "@jupyter-widgets/controls",
      "model_module_version": "1.5.0",
      "model_name": "DropdownModel",
      "state": {
       "_options_labels": [
        "Grasses",
        "Leaves",
        "Meadows",
        "Paths",
        "Urban",
        "Waste",
        "Woods"
       ],
       "description": "habitat",
       "index": 0,
       "layout": "IPY_MODEL_5ea658546cb84fbb850ee8a09cd2898b",
       "style": "IPY_MODEL_ca2b55c38605458897419cd3b44173dd"
      }
     },
     "c1bea796e51c402bb5b9fcac73544d03": {
      "model_module": "@jupyter-widgets/base",
      "model_module_version": "1.2.0",
      "model_name": "LayoutModel",
      "state": {}
     },
     "c1bfadb4d28f433a8e2a1962f80c2bad": {
      "model_module": "@jupyter-widgets/controls",
      "model_module_version": "1.5.0",
      "model_name": "DropdownModel",
      "state": {
       "_options_labels": [
        "Brown",
        "Orange",
        "White",
        "Yellow"
       ],
       "description": "veil_color",
       "index": 0,
       "layout": "IPY_MODEL_d7f891083ab34b1ca626a11c0fea4ecd",
       "style": "IPY_MODEL_ca03b1e5366d4f3eb2b7fe02eb168c9e"
      }
     },
     "c1e5d8b523d946b1aa7f659427043ef6": {
      "model_module": "@jupyter-widgets/base",
      "model_module_version": "1.2.0",
      "model_name": "LayoutModel",
      "state": {}
     },
     "c1f04f36a362472ca7297178f45693c8": {
      "model_module": "@jupyter-widgets/base",
      "model_module_version": "1.2.0",
      "model_name": "LayoutModel",
      "state": {}
     },
     "c1f279043c5148daa63844cf9966df74": {
      "model_module": "@jupyter-widgets/base",
      "model_module_version": "1.2.0",
      "model_name": "LayoutModel",
      "state": {}
     },
     "c2312e82d29543b98e319e3108734ca3": {
      "model_module": "@jupyter-widgets/controls",
      "model_module_version": "1.5.0",
      "model_name": "DropdownModel",
      "state": {
       "_options_labels": [
        "Fiberous",
        "Scaly",
        "Silky",
        "Smooth"
       ],
       "description": "stalk_surface_above_ring",
       "index": 0,
       "layout": "IPY_MODEL_93d15aa689d24b0da41f6b37bbd7b5e1",
       "style": "IPY_MODEL_79a4034b53dc47dab0e0dc73104152f5"
      }
     },
     "c24fb8b8a8e64ab587e8a6963b4b3c1b": {
      "model_module": "@jupyter-widgets/controls",
      "model_module_version": "1.5.0",
      "model_name": "DescriptionStyleModel",
      "state": {
       "description_width": ""
      }
     },
     "c2b07739f3174a8ba9396307892bfa37": {
      "model_module": "@jupyter-widgets/controls",
      "model_module_version": "1.5.0",
      "model_name": "DescriptionStyleModel",
      "state": {
       "description_width": ""
      }
     },
     "c2c6c6bce9044334959c655d3e5de0bd": {
      "model_module": "@jupyter-widgets/base",
      "model_module_version": "1.2.0",
      "model_name": "LayoutModel",
      "state": {}
     },
     "c2cf0083f802428cb4c383a1ae6fb6a2": {
      "model_module": "@jupyter-widgets/controls",
      "model_module_version": "1.5.0",
      "model_name": "DescriptionStyleModel",
      "state": {
       "description_width": ""
      }
     },
     "c2dcb3a78e7f43bbaf32e7c278c5f6f0": {
      "model_module": "@jupyter-widgets/controls",
      "model_module_version": "1.5.0",
      "model_name": "DropdownModel",
      "state": {
       "_options_labels": [
        "Cobwebby",
        "Evanescent",
        "Flaring",
        "Large",
        "None",
        "Pendant",
        "Sheathing",
        "Zone"
       ],
       "description": "ring_type",
       "index": 0,
       "layout": "IPY_MODEL_fbf1e0e6e2a64b1a8ae03f85b6787ad8",
       "style": "IPY_MODEL_e9dfe6a8afca40d493ad6660963fbd7e"
      }
     },
     "c2dfe692d9d744028b9f79cc68bd9b07": {
      "model_module": "@jupyter-widgets/base",
      "model_module_version": "1.2.0",
      "model_name": "LayoutModel",
      "state": {}
     },
     "c2fb47773f5843a293cf40fc86442fc1": {
      "model_module": "@jupyter-widgets/controls",
      "model_module_version": "1.5.0",
      "model_name": "DescriptionStyleModel",
      "state": {
       "description_width": ""
      }
     },
     "c310e4eb18964bddb6be85431429e6a3": {
      "model_module": "@jupyter-widgets/base",
      "model_module_version": "1.2.0",
      "model_name": "LayoutModel",
      "state": {}
     },
     "c3114e4a4c35409089090186496bc139": {
      "model_module": "@jupyter-widgets/base",
      "model_module_version": "1.2.0",
      "model_name": "LayoutModel",
      "state": {}
     },
     "c3183a50f16d4b2e9f475ecc4556858c": {
      "model_module": "@jupyter-widgets/controls",
      "model_module_version": "1.5.0",
      "model_name": "DropdownModel",
      "state": {
       "_options_labels": [
        "Black",
        "Brown",
        "Buff",
        "Chocolate",
        "Green",
        "Orange",
        "Purple",
        "White",
        "Yellow"
       ],
       "description": "spore_print_color",
       "index": 0,
       "layout": "IPY_MODEL_c0c52b10cb2b4397bf4729e4f7d9a94d",
       "style": "IPY_MODEL_84212e8206c74004b120c56287e624fd"
      }
     },
     "c3194d53683249b1b9908a1de88c27d2": {
      "model_module": "@jupyter-widgets/controls",
      "model_module_version": "1.5.0",
      "model_name": "DropdownModel",
      "state": {
       "_options_labels": [
        "Black",
        "Brown",
        "Buff",
        "Chocolate",
        "Green",
        "Orange",
        "Purple",
        "White",
        "Yellow"
       ],
       "description": "spore_print_color",
       "index": 5,
       "layout": "IPY_MODEL_7f511b28a37a4880b19b121a082cddf3",
       "style": "IPY_MODEL_a4bf5e9155ae43b1b9da01065ed55117"
      }
     },
     "c347f75b45264ba79e706bc0e9799e6a": {
      "model_module": "@jupyter-widgets/base",
      "model_module_version": "1.2.0",
      "model_name": "LayoutModel",
      "state": {}
     },
     "c34e7eadc9df45c884b9daa22a72653f": {
      "model_module": "@jupyter-widgets/controls",
      "model_module_version": "1.5.0",
      "model_name": "DescriptionStyleModel",
      "state": {
       "description_width": ""
      }
     },
     "c35cad4624d147ce83e8ff847bf3abb9": {
      "model_module": "@jupyter-widgets/base",
      "model_module_version": "1.2.0",
      "model_name": "LayoutModel",
      "state": {}
     },
     "c3716384f45b4c49846f8ccd1d847b09": {
      "model_module": "@jupyter-widgets/controls",
      "model_module_version": "1.5.0",
      "model_name": "DescriptionStyleModel",
      "state": {
       "description_width": ""
      }
     },
     "c37bf5f1be324b2db535964e70b51edf": {
      "model_module": "@jupyter-widgets/controls",
      "model_module_version": "1.5.0",
      "model_name": "DropdownModel",
      "state": {
       "_options_labels": [
        "Enlarging",
        "Tapering"
       ],
       "description": "stalk_shape",
       "index": 0,
       "layout": "IPY_MODEL_95a03bb16f614dad8e65d6c1d91f8853",
       "style": "IPY_MODEL_4c50e7fa1d784e189e4a85e8a0a32ad1"
      }
     },
     "c3acb9c27e7845128980c176f4a5ebb0": {
      "model_module": "@jupyter-widgets/base",
      "model_module_version": "1.2.0",
      "model_name": "LayoutModel",
      "state": {}
     },
     "c3b2dc21b8bb4ec8835b9e777c7d8cee": {
      "model_module": "@jupyter-widgets/controls",
      "model_module_version": "1.5.0",
      "model_name": "DescriptionStyleModel",
      "state": {
       "description_width": ""
      }
     },
     "c3fcc130048d45d69ce259a0fd69a176": {
      "model_module": "@jupyter-widgets/base",
      "model_module_version": "1.2.0",
      "model_name": "LayoutModel",
      "state": {}
     },
     "c41e34d5d07a4ffb848fa116aac364cf": {
      "model_module": "@jupyter-widgets/controls",
      "model_module_version": "1.5.0",
      "model_name": "DescriptionStyleModel",
      "state": {
       "description_width": ""
      }
     },
     "c429060799ca4d81adec1a1464ac0e17": {
      "model_module": "@jupyter-widgets/base",
      "model_module_version": "1.2.0",
      "model_name": "LayoutModel",
      "state": {}
     },
     "c4691c1e032f4ad1a2e67ba04ab7cf60": {
      "model_module": "@jupyter-widgets/controls",
      "model_module_version": "1.5.0",
      "model_name": "DescriptionStyleModel",
      "state": {
       "description_width": ""
      }
     },
     "c46f619d04434f97bb2569833ff69625": {
      "model_module": "@jupyter-widgets/base",
      "model_module_version": "1.2.0",
      "model_name": "LayoutModel",
      "state": {}
     },
     "c4cc53d7ea4c452e95519cffbd376ef1": {
      "model_module": "@jupyter-widgets/controls",
      "model_module_version": "1.5.0",
      "model_name": "DescriptionStyleModel",
      "state": {
       "description_width": ""
      }
     },
     "c4fe9e8a259d40f7bc39c7c476df9d84": {
      "model_module": "@jupyter-widgets/controls",
      "model_module_version": "1.5.0",
      "model_name": "DescriptionStyleModel",
      "state": {
       "description_width": ""
      }
     },
     "c50565e843f841a68eba1069c21dca02": {
      "model_module": "@jupyter-widgets/base",
      "model_module_version": "1.2.0",
      "model_name": "LayoutModel",
      "state": {}
     },
     "c52f5a7db97e4b2082c31d7898223c41": {
      "model_module": "@jupyter-widgets/base",
      "model_module_version": "1.2.0",
      "model_name": "LayoutModel",
      "state": {}
     },
     "c52fcd51feba41578259ac336762e93e": {
      "model_module": "@jupyter-widgets/controls",
      "model_module_version": "1.5.0",
      "model_name": "DescriptionStyleModel",
      "state": {
       "description_width": ""
      }
     },
     "c54053d26f334b3ca7e2f9de25e43acd": {
      "model_module": "@jupyter-widgets/controls",
      "model_module_version": "1.5.0",
      "model_name": "DescriptionStyleModel",
      "state": {
       "description_width": ""
      }
     },
     "c54eda6de5204a40ad07197d23b012a8": {
      "model_module": "@jupyter-widgets/base",
      "model_module_version": "1.2.0",
      "model_name": "LayoutModel",
      "state": {}
     },
     "c5f27a26b6a74c7ba44494958d648654": {
      "model_module": "@jupyter-widgets/controls",
      "model_module_version": "1.5.0",
      "model_name": "DropdownModel",
      "state": {
       "_options_labels": [
        "Brown",
        "Buff",
        "Cinnamon",
        "Gray",
        "Green",
        "Pink",
        "Purple",
        "Red",
        "White",
        "Yellow"
       ],
       "description": "cap_color",
       "index": 0,
       "layout": "IPY_MODEL_c35cad4624d147ce83e8ff847bf3abb9",
       "style": "IPY_MODEL_d7de25553bc84e96bc2ee81c2dacc42b"
      }
     },
     "c6342def1316420ca20b02bfa4cec0fe": {
      "model_module": "@jupyter-widgets/controls",
      "model_module_version": "1.5.0",
      "model_name": "DescriptionStyleModel",
      "state": {
       "description_width": ""
      }
     },
     "c6a18bd8d812453ca10c4ebf39805aca": {
      "model_module": "@jupyter-widgets/controls",
      "model_module_version": "1.5.0",
      "model_name": "DescriptionStyleModel",
      "state": {
       "description_width": ""
      }
     },
     "c6a79bb840cf4e31b9b4d649522cf4d2": {
      "model_module": "@jupyter-widgets/controls",
      "model_module_version": "1.5.0",
      "model_name": "DescriptionStyleModel",
      "state": {
       "description_width": ""
      }
     },
     "c6ed8f67c5264f829fc13e45c637d852": {
      "model_module": "@jupyter-widgets/controls",
      "model_module_version": "1.5.0",
      "model_name": "DropdownModel",
      "state": {
       "_options_labels": [
        "Bulbous",
        "Club",
        "Cup",
        "Equal",
        "Rhizomorphs",
        "Rooted",
        "Missing"
       ],
       "description": "stalk_root",
       "index": 0,
       "layout": "IPY_MODEL_a7b730ac1266454ba0fae025cfac2bb0",
       "style": "IPY_MODEL_dad8e7b9951d4b26839bc7da18c2337f"
      }
     },
     "c7051d1be6444f97ba83fa922684f7d8": {
      "model_module": "@jupyter-widgets/controls",
      "model_module_version": "1.5.0",
      "model_name": "VBoxModel",
      "state": {
       "_dom_classes": [
        "widget-interact"
       ],
       "children": [
        "IPY_MODEL_6b9d983d0c9d47f7862a6dd7b0a2061d",
        "IPY_MODEL_caa6bc66305940b185167b8c225827c0",
        "IPY_MODEL_177a400e0c384196b1498e3c5bc33cae",
        "IPY_MODEL_132a3fa372364316873050b414bd6a64",
        "IPY_MODEL_8d10b32277ce47f9bd712cda810e61a4",
        "IPY_MODEL_bd0e0fd047e94f6eaea99987c4610fe6",
        "IPY_MODEL_c7d102a7b5c54b7a8e3f4823210845f2",
        "IPY_MODEL_4cdb5c6540b54fe3a5eda1dd98176da3",
        "IPY_MODEL_69b122aa3f4f40dfa88a54c2a866d475",
        "IPY_MODEL_9b65e97c055048ea8ba58754cc5f4f61",
        "IPY_MODEL_23dde52ef51043beb50ed9e7d78cbf46",
        "IPY_MODEL_9c913da89f1a4568849ba7a1aec09fd6",
        "IPY_MODEL_3f97910f7b284b62b6539b9b0f50ee5b",
        "IPY_MODEL_550a03abf44e4424b764e2ff4453d4c6",
        "IPY_MODEL_2521b9e39eb74eeb9cee34babe4cff92",
        "IPY_MODEL_a8256fd8b6ef4ade8650f5ca892cfa2e",
        "IPY_MODEL_19412ea84d9748d4bc991e3403c060e8",
        "IPY_MODEL_dc1fc831ef3742098efe47c00a2dc86e",
        "IPY_MODEL_4810e5c0d8d948d3b7b3d8cafb382ffe",
        "IPY_MODEL_57503edb2e6a4318a46c48696fe192bf",
        "IPY_MODEL_2786a3025f3049589de47812ef7f9281",
        "IPY_MODEL_137cdc57ebde46ccb864dca4b0bad5b1",
        "IPY_MODEL_0c147fa6e13d4fed81d8f92873dea4de"
       ],
       "layout": "IPY_MODEL_790b0ae9c6a748128c5ea9fe303d76c4"
      }
     },
     "c72b3c4383d6408fa474480fda3d9b31": {
      "model_module": "@jupyter-widgets/controls",
      "model_module_version": "1.5.0",
      "model_name": "DropdownModel",
      "state": {
       "_options_labels": [
        "Fiberous",
        "Scaly",
        "Silky",
        "Smooth"
       ],
       "description": "stalk_surface_above_ring",
       "index": 0,
       "layout": "IPY_MODEL_214ddf8a105344d29cdf956ea3a57467",
       "style": "IPY_MODEL_0148740b4ac4400b91e27a68a3469a66"
      }
     },
     "c730d892a50649baa3cd9661bdc7c948": {
      "model_module": "@jupyter-widgets/controls",
      "model_module_version": "1.5.0",
      "model_name": "DescriptionStyleModel",
      "state": {
       "description_width": ""
      }
     },
     "c741e4239a6a48fa9b668d1308e6c8c6": {
      "model_module": "@jupyter-widgets/controls",
      "model_module_version": "1.5.0",
      "model_name": "DescriptionStyleModel",
      "state": {
       "description_width": ""
      }
     },
     "c747c74e990d49e087c55c5791267988": {
      "model_module": "@jupyter-widgets/base",
      "model_module_version": "1.2.0",
      "model_name": "LayoutModel",
      "state": {}
     },
     "c750fec32bdf4e018870d26d99ba83b3": {
      "model_module": "@jupyter-widgets/controls",
      "model_module_version": "1.5.0",
      "model_name": "DescriptionStyleModel",
      "state": {
       "description_width": ""
      }
     },
     "c76beffe91ea4ca696b72943cb586065": {
      "model_module": "@jupyter-widgets/controls",
      "model_module_version": "1.5.0",
      "model_name": "DescriptionStyleModel",
      "state": {
       "description_width": ""
      }
     },
     "c7763cff76014e9bbff771547089a3bf": {
      "model_module": "@jupyter-widgets/controls",
      "model_module_version": "1.5.0",
      "model_name": "DescriptionStyleModel",
      "state": {
       "description_width": ""
      }
     },
     "c787da62d03043a7a6b414921c42bb3e": {
      "model_module": "@jupyter-widgets/base",
      "model_module_version": "1.2.0",
      "model_name": "LayoutModel",
      "state": {}
     },
     "c7bf9b2b044745beacb5844269b202f0": {
      "model_module": "@jupyter-widgets/controls",
      "model_module_version": "1.5.0",
      "model_name": "VBoxModel",
      "state": {
       "_dom_classes": [
        "widget-interact"
       ],
       "children": [
        "IPY_MODEL_3c6a2e5930604b5190cc7d7e64b45507",
        "IPY_MODEL_2fecc7e3273f44fbbf419ef288768825",
        "IPY_MODEL_ebcf3274155745d59ced3d8c178197e1",
        "IPY_MODEL_e8b39bd2f41940a2b0019e988a8f6d71",
        "IPY_MODEL_b077be2687ab44ffb43453f6768809fb",
        "IPY_MODEL_8d34c3618a764779ac0e552f2fa630a3",
        "IPY_MODEL_9bafe90ef92b43b6b328f192ac6ed674",
        "IPY_MODEL_1f68829adea146909bb44f525aed2964",
        "IPY_MODEL_6420368e4f1f492f9413b96fbe8c3e2f",
        "IPY_MODEL_9662abb44c70478fb941d7cd240c7525",
        "IPY_MODEL_c2312e82d29543b98e319e3108734ca3",
        "IPY_MODEL_ff68e5d0cfb947c990dc50b2a3497777",
        "IPY_MODEL_043818cda9474f1b9ace1b1bcb38e7bc",
        "IPY_MODEL_425c71fda90f4d00a8a83637fd159924",
        "IPY_MODEL_dc298c444a1b46dcafcf838f86bab8d9",
        "IPY_MODEL_28ee9a8fc56d4281b3ef10a9ecfaef9b",
        "IPY_MODEL_08e515fd794644deb48c71f59121a66e",
        "IPY_MODEL_c2dcb3a78e7f43bbaf32e7c278c5f6f0",
        "IPY_MODEL_9c47dccdf8834ce292c7f212437d2006",
        "IPY_MODEL_9a49944dab9c4a4fb382ef697a3d5698",
        "IPY_MODEL_e67aec97caee4b17a354ff1e5527dd83",
        "IPY_MODEL_6664de1a537846c6a33851a64d5ec8e1"
       ],
       "layout": "IPY_MODEL_d2700bcfe64a4e70a3c0cedbd340821c"
      }
     },
     "c7d102a7b5c54b7a8e3f4823210845f2": {
      "model_module": "@jupyter-widgets/controls",
      "model_module_version": "1.5.0",
      "model_name": "DropdownModel",
      "state": {
       "_options_labels": [
        "Close",
        "Crowded"
       ],
       "description": "gill_spacing",
       "index": 0,
       "layout": "IPY_MODEL_b03e0d28667f4f8ebbe3a7ef1948be9d",
       "style": "IPY_MODEL_83087af4f85f45b0aabd8fff895832c4"
      }
     },
     "c80cf2e7765146cc96ef431e9521510c": {
      "model_module": "@jupyter-widgets/controls",
      "model_module_version": "1.5.0",
      "model_name": "DropdownModel",
      "state": {
       "_options_labels": [
        "Attached",
        "Descending",
        "Free",
        "Notched"
       ],
       "description": "gill_attachment",
       "index": 0,
       "layout": "IPY_MODEL_f1eef5c4fb0d4c4a9e8080d3082339dc",
       "style": "IPY_MODEL_13426525cef3438fa3e8a3273c69e6a5"
      }
     },
     "c82ad462db794abd8044a1cd41274739": {
      "model_module": "@jupyter-widgets/controls",
      "model_module_version": "1.5.0",
      "model_name": "DropdownModel",
      "state": {
       "_options_labels": [
        "Brown",
        "Buff",
        "Cinnamon",
        "Gray",
        "Orange",
        "Pink",
        "Red",
        "White",
        "Yellow"
       ],
       "description": "stalk_color_below_ring",
       "index": 7,
       "layout": "IPY_MODEL_1e1d9c49345943aea0e1cf37f6887280",
       "style": "IPY_MODEL_0cd012466a274842ac71652ce5d4f2cf"
      }
     },
     "c82ccaa9a20c4a358eb4356f02243baa": {
      "model_module": "@jupyter-widgets/controls",
      "model_module_version": "1.5.0",
      "model_name": "DescriptionStyleModel",
      "state": {
       "description_width": ""
      }
     },
     "c835753b8e9a4229b62bdf26c11c30fc": {
      "model_module": "@jupyter-widgets/controls",
      "model_module_version": "1.5.0",
      "model_name": "DescriptionStyleModel",
      "state": {
       "description_width": ""
      }
     },
     "c85461f3513b4f89b0b3d011b9354026": {
      "model_module": "@jupyter-widgets/controls",
      "model_module_version": "1.5.0",
      "model_name": "DescriptionStyleModel",
      "state": {
       "description_width": ""
      }
     },
     "c854a0e8cb224823b4a4fcc561ca765c": {
      "model_module": "@jupyter-widgets/controls",
      "model_module_version": "1.5.0",
      "model_name": "DropdownModel",
      "state": {
       "_options_labels": [
        "Bulbous",
        "Club",
        "Cup",
        "Equal",
        "Rhizomorphs",
        "Rooted",
        "Missing"
       ],
       "description": "stalk_root",
       "index": 3,
       "layout": "IPY_MODEL_15f315badef245349505c14d6eab4cb3",
       "style": "IPY_MODEL_1cef7bbfa1ad4b3eac796819cba880ff"
      }
     },
     "c873cd900de649e988a9b6474785ebb5": {
      "model_module": "@jupyter-widgets/controls",
      "model_module_version": "1.5.0",
      "model_name": "DescriptionStyleModel",
      "state": {
       "description_width": ""
      }
     },
     "c8ce23b960cf43019f0efb4a8ecb128b": {
      "model_module": "@jupyter-widgets/controls",
      "model_module_version": "1.5.0",
      "model_name": "DescriptionStyleModel",
      "state": {
       "description_width": ""
      }
     },
     "c92d98456377486ba02e976ed67ec184": {
      "model_module": "@jupyter-widgets/base",
      "model_module_version": "1.2.0",
      "model_name": "LayoutModel",
      "state": {}
     },
     "c960598f4235407cae97b38f20c79c83": {
      "model_module": "@jupyter-widgets/base",
      "model_module_version": "1.2.0",
      "model_name": "LayoutModel",
      "state": {}
     },
     "c974e776fb73407d86f241d7b090e3af": {
      "model_module": "@jupyter-widgets/controls",
      "model_module_version": "1.5.0",
      "model_name": "DescriptionStyleModel",
      "state": {
       "description_width": ""
      }
     },
     "c9914b5beb7b47bfa8fa36a716d771bc": {
      "model_module": "@jupyter-widgets/controls",
      "model_module_version": "1.5.0",
      "model_name": "DescriptionStyleModel",
      "state": {
       "description_width": ""
      }
     },
     "c9a6f3e185a443ac9de37cabebfbcb09": {
      "model_module": "@jupyter-widgets/controls",
      "model_module_version": "1.5.0",
      "model_name": "DropdownModel",
      "state": {
       "_options_labels": [
        "Grasses",
        "Leaves",
        "Meadows",
        "Paths",
        "Urban",
        "Waste",
        "Woods"
       ],
       "description": "habitat",
       "index": 0,
       "layout": "IPY_MODEL_058073ec85ee4b62b1d75900d315eb08",
       "style": "IPY_MODEL_084d6b97681040f28fdc08fe51b57524"
      }
     },
     "c9eec420b98e41a7877c488502c8c4c3": {
      "model_module": "@jupyter-widgets/base",
      "model_module_version": "1.2.0",
      "model_name": "LayoutModel",
      "state": {}
     },
     "c9f3cde2bd68493895caa3fe3a30cf2f": {
      "model_module": "@jupyter-widgets/controls",
      "model_module_version": "1.5.0",
      "model_name": "DropdownModel",
      "state": {
       "_options_labels": [
        "Broad",
        "Narrow"
       ],
       "description": "gill_size",
       "index": 0,
       "layout": "IPY_MODEL_ff2bfe7ae8cc495497879ec1762c46bf",
       "style": "IPY_MODEL_f24f3570c5f040528daa0791a3d2ba9a"
      }
     },
     "ca03b1e5366d4f3eb2b7fe02eb168c9e": {
      "model_module": "@jupyter-widgets/controls",
      "model_module_version": "1.5.0",
      "model_name": "DescriptionStyleModel",
      "state": {
       "description_width": ""
      }
     },
     "ca23fcdf3b02408d92881e09848a0b5f": {
      "model_module": "@jupyter-widgets/base",
      "model_module_version": "1.2.0",
      "model_name": "LayoutModel",
      "state": {}
     },
     "ca2b55c38605458897419cd3b44173dd": {
      "model_module": "@jupyter-widgets/controls",
      "model_module_version": "1.5.0",
      "model_name": "DescriptionStyleModel",
      "state": {
       "description_width": ""
      }
     },
     "ca50558d97fa41c0973fbcca68e5127c": {
      "model_module": "@jupyter-widgets/controls",
      "model_module_version": "1.5.0",
      "model_name": "DescriptionStyleModel",
      "state": {
       "description_width": ""
      }
     },
     "ca701f2643264b388ad5b4c97a652bb6": {
      "model_module": "@jupyter-widgets/base",
      "model_module_version": "1.2.0",
      "model_name": "LayoutModel",
      "state": {}
     },
     "caa39e86adc449ec8069445d30dc8700": {
      "model_module": "@jupyter-widgets/controls",
      "model_module_version": "1.5.0",
      "model_name": "DropdownModel",
      "state": {
       "_options_labels": [
        "None",
        "One",
        "Two"
       ],
       "description": "ring_number",
       "index": 0,
       "layout": "IPY_MODEL_b06f7495f28d491096c19897d7f034bc",
       "style": "IPY_MODEL_8bb52919c48f4cba86ab247d7db5cdf5"
      }
     },
     "caa6bc66305940b185167b8c225827c0": {
      "model_module": "@jupyter-widgets/controls",
      "model_module_version": "1.5.0",
      "model_name": "DropdownModel",
      "state": {
       "_options_labels": [
        "Fiberous",
        "Grooves",
        "Scaly",
        "Smooth"
       ],
       "description": "cap_surface",
       "index": 0,
       "layout": "IPY_MODEL_e14e4857c427499abe893ec7fa6f68cb",
       "style": "IPY_MODEL_82e918484d9b4637975e92bce77438c4"
      }
     },
     "cae0145f62ad4a9faf270b14e204f484": {
      "model_module": "@jupyter-widgets/base",
      "model_module_version": "1.2.0",
      "model_name": "LayoutModel",
      "state": {}
     },
     "cae235b5b9fb4f50b106d7124533251a": {
      "model_module": "@jupyter-widgets/controls",
      "model_module_version": "1.5.0",
      "model_name": "DropdownModel",
      "state": {
       "_options_labels": [
        "Brown",
        "Buff",
        "Cinnamon",
        "Gray",
        "Green",
        "Pink",
        "Purple",
        "Red",
        "White",
        "Yellow"
       ],
       "description": "cap_color",
       "index": 0,
       "layout": "IPY_MODEL_4a79e409dac0427196cbfb86b7007ff4",
       "style": "IPY_MODEL_ece3794b9ede4ec392d5b10e33ec0327"
      }
     },
     "cae3e3ac806747c8a1641a86c8b94023": {
      "model_module": "@jupyter-widgets/base",
      "model_module_version": "1.2.0",
      "model_name": "LayoutModel",
      "state": {}
     },
     "cb735a53302b4efd807986e05f227f7e": {
      "model_module": "@jupyter-widgets/base",
      "model_module_version": "1.2.0",
      "model_name": "LayoutModel",
      "state": {}
     },
     "cbd3d2462968471f9d59238d474833c1": {
      "model_module": "@jupyter-widgets/output",
      "model_module_version": "1.0.0",
      "model_name": "OutputModel",
      "state": {
       "layout": "IPY_MODEL_01cc4653f7da4ee8b6f0d169da5d64e8",
       "outputs": [
        {
         "name": "stdout",
         "output_type": "stream",
         "text": "class\ne    0.516002\np    0.483998\ndtype: float64\nclass\ne    0.051535\np    0.006401\ndtype: float64\nclass\ne    0.018899\np    0.001220\ndtype: float64\nclass\ne    0.005747\np    0.000324\ndtype: float64\nclass\ne    0.003774\np    0.000052\ndtype: float64\nclass\ne    0.000371\np    0.000000\ndtype: float64\nclass\ne    0.000017\np    0.000000\ndtype: float64\nclass\ne    0.000012\np    0.000000\ndtype: float64\nclass\ne    0.000011\np    0.000000\ndtype: float64\nclass\ne    9.433171e-07\np    0.000000e+00\ndtype: float64\nclass\ne    3.603447e-07\np    0.000000e+00\ndtype: float64\nclass\ne    1.649288e-07\np    0.000000e+00\ndtype: float64\nclass\ne    1.594731e-08\np    0.000000e+00\ndtype: float64\nclass\ne    1.709365e-09\np    0.000000e+00\ndtype: float64\nclass\ne    5.980603e-12\np    0.000000e+00\ndtype: float64\nclass\ne    8.940469e-14\np    0.000000e+00\ndtype: float64\nclass\ne    8.940469e-14\np    0.000000e+00\ndtype: float64\nclass\ne    2.075872e-15\np    0.000000e+00\ndtype: float64\nclass\ne    0.0\np    0.0\ndtype: float64\nclass\ne    0.0\np    0.0\ndtype: float64\nclass\ne    0.0\np    0.0\ndtype: float64\nclass\ne    0.0\np    0.0\ndtype: float64\nclass\ne    0.0\np    0.0\ndtype: float64\nclass\ne    0.0\np    0.0\ndtype: float64\n"
        },
        {
         "data": {
          "image/png": "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\n",
          "text/plain": "<Figure size 864x648 with 1 Axes>"
         },
         "metadata": {
          "needs_background": "light"
         },
         "output_type": "display_data"
        }
       ]
      }
     },
     "cbe29278d0e1424e9089a73472c42cf3": {
      "model_module": "@jupyter-widgets/controls",
      "model_module_version": "1.5.0",
      "model_name": "DropdownModel",
      "state": {
       "_options_labels": [
        "Fiberous",
        "Scaly",
        "Silky",
        "Smooth"
       ],
       "description": "stalk_surface_above_ring",
       "index": 0,
       "layout": "IPY_MODEL_882957b4b1f4484789fe60927c72c312",
       "style": "IPY_MODEL_5ba3398a1e9a4697a45fb9637cf9519c"
      }
     },
     "cbe5bb15e99f40919930939906b304ea": {
      "model_module": "@jupyter-widgets/controls",
      "model_module_version": "1.5.0",
      "model_name": "DescriptionStyleModel",
      "state": {
       "description_width": ""
      }
     },
     "cc01b1279f4242e5820367810856ad60": {
      "model_module": "@jupyter-widgets/base",
      "model_module_version": "1.2.0",
      "model_name": "LayoutModel",
      "state": {}
     },
     "cc070b82c15c45858e2a7f1ba1951b89": {
      "model_module": "@jupyter-widgets/controls",
      "model_module_version": "1.5.0",
      "model_name": "VBoxModel",
      "state": {
       "_dom_classes": [
        "widget-interact"
       ],
       "children": [
        "IPY_MODEL_28cabb9c715d4c979f9507238e5bac43",
        "IPY_MODEL_7c020b57009843aaa793adc5369a2e76",
        "IPY_MODEL_1920a1bdfbb54407b769e961eb766829",
        "IPY_MODEL_da52362620b346f98c697fbca1b527ea",
        "IPY_MODEL_86a147ab67544311b00c954b93ca139d",
        "IPY_MODEL_fb2aff1d551147e18aad074b554c37da",
        "IPY_MODEL_8ebfee9a234b4f548790c04f7749ccc2",
        "IPY_MODEL_2b6f270998a149afa11c959e7a637646",
        "IPY_MODEL_03c1bdedba224b9c8bb84ebc46b07a3f",
        "IPY_MODEL_1d2051e621a64c43ae1e50578bc6ab12",
        "IPY_MODEL_0d75702bcec24858a2e94e7bb856bfc0",
        "IPY_MODEL_1996801c53a44fbb82083d0ecbe14a1b",
        "IPY_MODEL_f63a6e9386d34890b2f750ee1b295718",
        "IPY_MODEL_7303649d69364badb63f4564d39186da",
        "IPY_MODEL_1befd27aba5a4155aa08c4319558b548",
        "IPY_MODEL_e493c54cceee4bc8ab49c1defa853eec",
        "IPY_MODEL_08130af1eaf34af0a4ff2a94851b5d3d",
        "IPY_MODEL_fc43f5b4fcdd494099be62f8ba8c11c1",
        "IPY_MODEL_56e40d493f9d4c4c93547ca0e1405c7a",
        "IPY_MODEL_1568104359744e4da7a8ae0025020101",
        "IPY_MODEL_91dc5334bc4842b69820e2ad09887ef9",
        "IPY_MODEL_b645c813c43a4f0bbfaa19da68a74c21"
       ],
       "layout": "IPY_MODEL_3785c753bed54926b2c255b58c79f84d"
      }
     },
     "cc2eccc6e43e4ec7ba7c067dc7bba2a4": {
      "model_module": "@jupyter-widgets/base",
      "model_module_version": "1.2.0",
      "model_name": "LayoutModel",
      "state": {}
     },
     "cc30162164fa4ccab32086dfad0e0306": {
      "model_module": "@jupyter-widgets/controls",
      "model_module_version": "1.5.0",
      "model_name": "DescriptionStyleModel",
      "state": {
       "description_width": ""
      }
     },
     "cc4eea1a02b441cb96c5a5ff9255b34c": {
      "model_module": "@jupyter-widgets/controls",
      "model_module_version": "1.5.0",
      "model_name": "DropdownModel",
      "state": {
       "_options_labels": [
        "Fiberous",
        "Scaly",
        "Silky",
        "Smooth"
       ],
       "description": "stalk_surface_below_ring",
       "index": 0,
       "layout": "IPY_MODEL_7243bc0730c04686aa2287e74db026e3",
       "style": "IPY_MODEL_804262ecae5843248e027e2103bfba1d"
      }
     },
     "ccdadf2950c4424ab470e9c51f2d371c": {
      "model_module": "@jupyter-widgets/base",
      "model_module_version": "1.2.0",
      "model_name": "LayoutModel",
      "state": {}
     },
     "ccf0112ba9f74bfabc55afd130305038": {
      "model_module": "@jupyter-widgets/controls",
      "model_module_version": "1.5.0",
      "model_name": "DropdownModel",
      "state": {
       "_options_labels": [
        "Fiberous",
        "Scaly",
        "Silky",
        "Smooth"
       ],
       "description": "stalk_surface_below_ring",
       "index": 0,
       "layout": "IPY_MODEL_08714ae38fae4f1096d64ed9730316b5",
       "style": "IPY_MODEL_7e61330a3ac44b5b930d4815fff78fe1"
      }
     },
     "ccf5a6a6acec4fd194c3df4937f93401": {
      "model_module": "@jupyter-widgets/base",
      "model_module_version": "1.2.0",
      "model_name": "LayoutModel",
      "state": {}
     },
     "cd0f06c11ac641ab80f7e86b9524e254": {
      "model_module": "@jupyter-widgets/base",
      "model_module_version": "1.2.0",
      "model_name": "LayoutModel",
      "state": {}
     },
     "cd27ea7df3144709b9f06cc10d6771f4": {
      "model_module": "@jupyter-widgets/base",
      "model_module_version": "1.2.0",
      "model_name": "LayoutModel",
      "state": {}
     },
     "cd60e0559bed495680ac3cbd3b84340d": {
      "model_module": "@jupyter-widgets/base",
      "model_module_version": "1.2.0",
      "model_name": "LayoutModel",
      "state": {}
     },
     "cd637b4d42b84f6dac0300f853c13e63": {
      "model_module": "@jupyter-widgets/base",
      "model_module_version": "1.2.0",
      "model_name": "LayoutModel",
      "state": {}
     },
     "cd7daf51de20474189d448bfca38a0b0": {
      "model_module": "@jupyter-widgets/controls",
      "model_module_version": "1.5.0",
      "model_name": "VBoxModel",
      "state": {
       "_dom_classes": [
        "widget-interact"
       ],
       "children": [
        "IPY_MODEL_e0f202759d48473297e0573a8642c491",
        "IPY_MODEL_801e783f609d4c40a3fc9dd5b3e35994",
        "IPY_MODEL_78ce2e035336402c8213fccbfbf65794",
        "IPY_MODEL_a6ff6977dc814d93bf3749b3d00f1e10",
        "IPY_MODEL_be75861195524d5998185880fb98799c",
        "IPY_MODEL_bb1e63edc1864fe6a30dedc509d93461",
        "IPY_MODEL_fbeffbbd750e40c7ac92822c30d5397b",
        "IPY_MODEL_4e232377d5de44709e2f004ee3d6e966",
        "IPY_MODEL_a711cc8edea7495fbb4dd4ccb5ced76c",
        "IPY_MODEL_8140ea72f87848d1ae729c9e9d4b364d",
        "IPY_MODEL_63dea99f410c4b91a071303f417c3ce6",
        "IPY_MODEL_cbe29278d0e1424e9089a73472c42cf3",
        "IPY_MODEL_ad4af343489747d0a96c225a67e7fc94",
        "IPY_MODEL_928cc800f82a448ea67bd8679d8cfa86",
        "IPY_MODEL_42135dd8f9ad4bfdb3c2e8d27060246f",
        "IPY_MODEL_1857bbfc03e24d748afa60e16624b8b6",
        "IPY_MODEL_0de507d851ff4a0ebe5ffc23698c1019",
        "IPY_MODEL_739c4fad573d4c02bf936981ead0474a",
        "IPY_MODEL_8e227422954b4bd7a0d9a2044927056a",
        "IPY_MODEL_1bd470f9a62c47db816f266fa66a1906",
        "IPY_MODEL_fe493f2f1b244778a9fb9a97c15ffb7c",
        "IPY_MODEL_e91fcf8ebf144a318d9fcf19f172af40",
        "IPY_MODEL_52dd5de47fe547e8bd7ddf5b1d63c5b7"
       ],
       "layout": "IPY_MODEL_c9eec420b98e41a7877c488502c8c4c3"
      }
     },
     "cdb302472cd84ab691e44a0505302a95": {
      "model_module": "@jupyter-widgets/controls",
      "model_module_version": "1.5.0",
      "model_name": "DescriptionStyleModel",
      "state": {
       "description_width": ""
      }
     },
     "cdbc52692ba04a6caf70bb8f1a502acd": {
      "model_module": "@jupyter-widgets/base",
      "model_module_version": "1.2.0",
      "model_name": "LayoutModel",
      "state": {}
     },
     "cdd9767501b843f7a2bef8baa4485ee2": {
      "model_module": "@jupyter-widgets/base",
      "model_module_version": "1.2.0",
      "model_name": "LayoutModel",
      "state": {}
     },
     "cdf00ef329ad4b1d8644959cc9024c1e": {
      "model_module": "@jupyter-widgets/controls",
      "model_module_version": "1.5.0",
      "model_name": "DescriptionStyleModel",
      "state": {
       "description_width": ""
      }
     },
     "ce103fb562ef4c6fb1e7764e222dc8c7": {
      "model_module": "@jupyter-widgets/base",
      "model_module_version": "1.2.0",
      "model_name": "LayoutModel",
      "state": {}
     },
     "ce4c670f298f4e99b9d3f7b7ec23d801": {
      "model_module": "@jupyter-widgets/base",
      "model_module_version": "1.2.0",
      "model_name": "LayoutModel",
      "state": {}
     },
     "ce6ac25dec324156a793b963db2a731d": {
      "model_module": "@jupyter-widgets/controls",
      "model_module_version": "1.5.0",
      "model_name": "DropdownModel",
      "state": {
       "_options_labels": [
        "Almond",
        "Anise",
        "Creosote",
        "Fishy",
        "Foul",
        "Musty",
        "None",
        "Pungent",
        "Spicy"
       ],
       "description": "odor",
       "index": 0,
       "layout": "IPY_MODEL_beedf9154b8744198d1706a808a049e7",
       "style": "IPY_MODEL_f52aa11c53e549b9a2771f3bb198a1c7"
      }
     },
     "ce6fd01b1b09482084b3a5518bd55140": {
      "model_module": "@jupyter-widgets/controls",
      "model_module_version": "1.5.0",
      "model_name": "DropdownModel",
      "state": {
       "_options_labels": [
        "Fiberous",
        "Scaly",
        "Silky",
        "Smooth"
       ],
       "description": "stalk_surface_below_ring",
       "index": 0,
       "layout": "IPY_MODEL_19451e781fac42a6b72ccba49c3e378e",
       "style": "IPY_MODEL_3e863f1b09fe48fdaef3ca13c9d297fe"
      }
     },
     "cebefa2a98f64780bdc0f8faff16325b": {
      "model_module": "@jupyter-widgets/output",
      "model_module_version": "1.0.0",
      "model_name": "OutputModel",
      "state": {
       "layout": "IPY_MODEL_f0960e39073a4f35a97effef208f1d0a",
       "outputs": [
        {
         "name": "stdout",
         "output_type": "stream",
         "text": "Bruh\n"
        }
       ]
      }
     },
     "cee3d36eb4204c38b7a95e5bfafb0dad": {
      "model_module": "@jupyter-widgets/base",
      "model_module_version": "1.2.0",
      "model_name": "LayoutModel",
      "state": {}
     },
     "cee7ac6841aa4d41a98bb47be1e40fb7": {
      "model_module": "@jupyter-widgets/controls",
      "model_module_version": "1.5.0",
      "model_name": "DropdownModel",
      "state": {
       "_options_labels": [
        "Partial",
        "Universal"
       ],
       "description": "veil_type",
       "index": 0,
       "layout": "IPY_MODEL_ce4c670f298f4e99b9d3f7b7ec23d801",
       "style": "IPY_MODEL_613de569e1be4bec82526bb603b89cc7"
      }
     },
     "cf19c1067f1d449f9a9fe4efbe23ad63": {
      "model_module": "@jupyter-widgets/controls",
      "model_module_version": "1.5.0",
      "model_name": "DescriptionStyleModel",
      "state": {
       "description_width": ""
      }
     },
     "cf5e1f9f6d984ab19c8fd36929d3670b": {
      "model_module": "@jupyter-widgets/controls",
      "model_module_version": "1.5.0",
      "model_name": "DescriptionStyleModel",
      "state": {
       "description_width": ""
      }
     },
     "cf66df75fbf84a36a77028597a9859ac": {
      "model_module": "@jupyter-widgets/controls",
      "model_module_version": "1.5.0",
      "model_name": "DropdownModel",
      "state": {
       "_options_labels": [
        "Grasses",
        "Leaves",
        "Meadows",
        "Paths",
        "Urban",
        "Waste",
        "Woods"
       ],
       "description": "habitat",
       "index": 0,
       "layout": "IPY_MODEL_91c372f67cb24e7495ac3a5563fca5e3",
       "style": "IPY_MODEL_46701a4905c748c79e74f03ca0a235f1"
      }
     },
     "cf9cca5eee17477db638ee4d2db6e6ce": {
      "model_module": "@jupyter-widgets/controls",
      "model_module_version": "1.5.0",
      "model_name": "DropdownModel",
      "state": {
       "_options_labels": [
        "Close",
        "Crowded"
       ],
       "description": "gill_spacing",
       "index": 0,
       "layout": "IPY_MODEL_1e2a43e8b58d4e77992e38537d70af5d",
       "style": "IPY_MODEL_263a7135b162465cbf3008328fc85e28"
      }
     },
     "cfadfe980ece4eb4a82361d4b0784324": {
      "model_module": "@jupyter-widgets/controls",
      "model_module_version": "1.5.0",
      "model_name": "DropdownModel",
      "state": {
       "_options_labels": [
        "Close",
        "Crowded"
       ],
       "description": "gill_spacing",
       "index": 0,
       "layout": "IPY_MODEL_e630b3c2a8dd4b1b8c35cf864a630994",
       "style": "IPY_MODEL_368e4713b65b432d9102c869bda72630"
      }
     },
     "cfccd725764c4b33a69b331045120a62": {
      "model_module": "@jupyter-widgets/controls",
      "model_module_version": "1.5.0",
      "model_name": "DropdownModel",
      "state": {
       "_options_labels": [
        "Close",
        "Crowded"
       ],
       "description": "gill_spacing",
       "index": 0,
       "layout": "IPY_MODEL_8a79d8b8f0c0418e8fde09befbf73ed6",
       "style": "IPY_MODEL_29ab6e4996824b42a3d4669b5ce5e497"
      }
     },
     "cfe0a147585b49bcb30afbe02bf7cea3": {
      "model_module": "@jupyter-widgets/base",
      "model_module_version": "1.2.0",
      "model_name": "LayoutModel",
      "state": {}
     },
     "cff26dbf937f4e5fb0304458a6b8c985": {
      "model_module": "@jupyter-widgets/controls",
      "model_module_version": "1.5.0",
      "model_name": "DescriptionStyleModel",
      "state": {
       "description_width": ""
      }
     },
     "d000b876ac054606a449caa8ff4e5603": {
      "model_module": "@jupyter-widgets/controls",
      "model_module_version": "1.5.0",
      "model_name": "VBoxModel",
      "state": {
       "_dom_classes": [
        "widget-interact"
       ],
       "children": [
        "IPY_MODEL_4deb81b500184c009d51ad92deafb588",
        "IPY_MODEL_63292046956f47429e2c492345e88b2f",
        "IPY_MODEL_1379d2829c3046acbafba4af5ed59726",
        "IPY_MODEL_ff72c95ccbd7432c996ea21899a81f76",
        "IPY_MODEL_f6bee6bab62e4cb3b2ecadbfd14d5b26",
        "IPY_MODEL_1fa9c1ff0006498081373828b44585a9",
        "IPY_MODEL_8192157c93024585a672840f6aa9b7e4",
        "IPY_MODEL_bffeaf2e1eb54a24b44ce62217d8ca97",
        "IPY_MODEL_bc860719c9d3405987b3ff1dc626d3f7",
        "IPY_MODEL_3d82d14f183f47a681ed2c8d9cb13dcf",
        "IPY_MODEL_9dc9d9772ecf4d46aab09b7fc681b719"
       ],
       "layout": "IPY_MODEL_3f797fa8ae884ec38b6156f368ce71a7"
      }
     },
     "d0268cfa8565421c890d8c6bfdd8fc76": {
      "model_module": "@jupyter-widgets/controls",
      "model_module_version": "1.5.0",
      "model_name": "DescriptionStyleModel",
      "state": {
       "description_width": ""
      }
     },
     "d0332c04d5f74ea88ff48dba43405bf1": {
      "model_module": "@jupyter-widgets/controls",
      "model_module_version": "1.5.0",
      "model_name": "DropdownModel",
      "state": {
       "_options_labels": [
        "Close",
        "Crowded",
        "Distant"
       ],
       "description": "gill_spacing",
       "index": 0,
       "layout": "IPY_MODEL_48e1cc4f2e8c4d538026c53d8f3448e8",
       "style": "IPY_MODEL_030593328c714249b520a8b6ae5dbd06"
      }
     },
     "d0409783b58744f4bc3efd2c784fa95a": {
      "model_module": "@jupyter-widgets/controls",
      "model_module_version": "1.5.0",
      "model_name": "DropdownModel",
      "state": {
       "_options_labels": [
        "Black",
        "Brown",
        "Buff",
        "Chocolate",
        "Green",
        "Orange",
        "Purple",
        "White",
        "Yellow"
       ],
       "description": "spore_print_color",
       "index": 0,
       "layout": "IPY_MODEL_c2c6c6bce9044334959c655d3e5de0bd",
       "style": "IPY_MODEL_431ebbe27c9a4e0dbd25e5b4d5c51b6b"
      }
     },
     "d04960f203ec45ac97435b0df6633f4d": {
      "model_module": "@jupyter-widgets/controls",
      "model_module_version": "1.5.0",
      "model_name": "DropdownModel",
      "state": {
       "_options_labels": [
        "Grasses",
        "Leaves",
        "Meadows",
        "Paths",
        "Urban",
        "Waste",
        "Woods"
       ],
       "description": "habitat",
       "index": 0,
       "layout": "IPY_MODEL_d60991f06c044af6b682c1aa42293481",
       "style": "IPY_MODEL_ea546fe32c15435cae9b9726500594ee"
      }
     },
     "d0576f9ed6df4d66b9f291e6326a411b": {
      "model_module": "@jupyter-widgets/base",
      "model_module_version": "1.2.0",
      "model_name": "LayoutModel",
      "state": {}
     },
     "d0c6550d4f0540a89c522b72876a4c9a": {
      "model_module": "@jupyter-widgets/base",
      "model_module_version": "1.2.0",
      "model_name": "LayoutModel",
      "state": {}
     },
     "d0cd97e0947a41098d05429ab1840cdb": {
      "model_module": "@jupyter-widgets/base",
      "model_module_version": "1.2.0",
      "model_name": "LayoutModel",
      "state": {}
     },
     "d0e9507adbee41d6aa9d9c4ae6cbae67": {
      "model_module": "@jupyter-widgets/base",
      "model_module_version": "1.2.0",
      "model_name": "LayoutModel",
      "state": {}
     },
     "d129a29b29814cf9b2b40ff7d3066d8e": {
      "model_module": "@jupyter-widgets/base",
      "model_module_version": "1.2.0",
      "model_name": "LayoutModel",
      "state": {}
     },
     "d18c1ec5d49046cfb2d06b90f5176a76": {
      "model_module": "@jupyter-widgets/controls",
      "model_module_version": "1.5.0",
      "model_name": "DescriptionStyleModel",
      "state": {
       "description_width": ""
      }
     },
     "d19795439380415bb3a1ccfa7d505d39": {
      "model_module": "@jupyter-widgets/base",
      "model_module_version": "1.2.0",
      "model_name": "LayoutModel",
      "state": {}
     },
     "d19ddd5f110b40fd8078604ff0806d61": {
      "model_module": "@jupyter-widgets/base",
      "model_module_version": "1.2.0",
      "model_name": "LayoutModel",
      "state": {}
     },
     "d1bceeb52e6e4290bdd591e97d9f678d": {
      "model_module": "@jupyter-widgets/controls",
      "model_module_version": "1.5.0",
      "model_name": "DropdownModel",
      "state": {
       "_options_labels": [
        "Enlarging",
        "Tapering"
       ],
       "description": "stalk_shape",
       "index": 0,
       "layout": "IPY_MODEL_f0a0bfe7a8d34a0d81b109ffc23605d4",
       "style": "IPY_MODEL_017773005a73463387ba3163091d010d"
      }
     },
     "d1ccdb30d755413c8e6f1af2db965c9a": {
      "model_module": "@jupyter-widgets/output",
      "model_module_version": "1.0.0",
      "model_name": "OutputModel",
      "state": {
       "layout": "IPY_MODEL_af044196028546d3ad58ae3db22c3c63",
       "outputs": [
        {
         "name": "stdout",
         "output_type": "stream",
         "text": "cap-shape\ncap-surface\ncap-color\nbruises\nodor\ngill-attachment\ngill-spacing\ngill-size\ngill-color\nstalk-shape\nstalk-root\nstalk-surface-above-ring\nstalk-surface-below-ring\nstalk-color-above-ring\nstalk-color-below-ring\nveil-type\nveil-color\nring-number\nring-type\nspore-print-color\npopulation\nhabitat\n"
        }
       ]
      }
     },
     "d1f49d7db5bb4208b74ae75d59e186b4": {
      "model_module": "@jupyter-widgets/controls",
      "model_module_version": "1.5.0",
      "model_name": "DropdownModel",
      "state": {
       "_options_labels": [
        "Bell",
        "Conical",
        "Convex",
        "Flat",
        "Knobbed",
        "Sunken"
       ],
       "description": "cap_shape",
       "index": 0,
       "layout": "IPY_MODEL_3344b3766d1e43429731aa7becd0b1ae",
       "style": "IPY_MODEL_d6fcf0b3c48a4d05bff9266b39ea23ac"
      }
     },
     "d230a23b25e04f958855eb97989d2882": {
      "model_module": "@jupyter-widgets/controls",
      "model_module_version": "1.5.0",
      "model_name": "DescriptionStyleModel",
      "state": {
       "description_width": ""
      }
     },
     "d2700bcfe64a4e70a3c0cedbd340821c": {
      "model_module": "@jupyter-widgets/base",
      "model_module_version": "1.2.0",
      "model_name": "LayoutModel",
      "state": {}
     },
     "d2b9db49703c4c2eaee6c792c8bed127": {
      "model_module": "@jupyter-widgets/controls",
      "model_module_version": "1.5.0",
      "model_name": "DropdownModel",
      "state": {
       "_options_labels": [
        "Grasses",
        "Leaves",
        "Meadows",
        "Paths",
        "Urban",
        "Waste",
        "Woods"
       ],
       "description": "habitat",
       "index": 0,
       "layout": "IPY_MODEL_d0e9507adbee41d6aa9d9c4ae6cbae67",
       "style": "IPY_MODEL_2e36dc68c5f449808aeb1d15d2c3e7fb"
      }
     },
     "d2c835a82c674c36895815c4b26cd53a": {
      "model_module": "@jupyter-widgets/controls",
      "model_module_version": "1.5.0",
      "model_name": "DropdownModel",
      "state": {
       "_options_labels": [
        "Partial",
        "Universal"
       ],
       "description": "veil_type",
       "index": 0,
       "layout": "IPY_MODEL_5ed387c17d62496e8ef9588ed7d89b4f",
       "style": "IPY_MODEL_f5a25d4d275a4cd2938a15bbe5bb7772"
      }
     },
     "d311d54bb3ca47c4a04121e70275f127": {
      "model_module": "@jupyter-widgets/base",
      "model_module_version": "1.2.0",
      "model_name": "LayoutModel",
      "state": {}
     },
     "d33670d4361548cf8fa5f675c1cdfe3f": {
      "model_module": "@jupyter-widgets/base",
      "model_module_version": "1.2.0",
      "model_name": "LayoutModel",
      "state": {}
     },
     "d3787ae99afd4c75bb500e8d7fc6e8a1": {
      "model_module": "@jupyter-widgets/base",
      "model_module_version": "1.2.0",
      "model_name": "LayoutModel",
      "state": {}
     },
     "d39318218d9949ff9c0b2995f807f7fa": {
      "model_module": "@jupyter-widgets/controls",
      "model_module_version": "1.5.0",
      "model_name": "DescriptionStyleModel",
      "state": {
       "description_width": ""
      }
     },
     "d39faa98dabb49c5b215b5bbb72e5f99": {
      "model_module": "@jupyter-widgets/controls",
      "model_module_version": "1.5.0",
      "model_name": "DescriptionStyleModel",
      "state": {
       "description_width": ""
      }
     },
     "d3bd52e1e4974a89873843a0849aea18": {
      "model_module": "@jupyter-widgets/base",
      "model_module_version": "1.2.0",
      "model_name": "LayoutModel",
      "state": {}
     },
     "d3bfe8d8c4ef4888bb5559bcdf7dda41": {
      "model_module": "@jupyter-widgets/controls",
      "model_module_version": "1.5.0",
      "model_name": "DropdownModel",
      "state": {
       "_options_labels": [
        "Bulbous",
        "Club",
        "Cup",
        "Equal",
        "Rhizomorphs",
        "Rooted",
        "Missing"
       ],
       "description": "stalk_root",
       "index": 0,
       "layout": "IPY_MODEL_4a2315bcd056453299761c84de44fb06",
       "style": "IPY_MODEL_b9f187dedbd64bb097c06892b3d7e2e3"
      }
     },
     "d3c92ae135c640d4899a09e7e78451d5": {
      "model_module": "@jupyter-widgets/controls",
      "model_module_version": "1.5.0",
      "model_name": "DropdownModel",
      "state": {
       "_options_labels": [
        "Brown",
        "Buff",
        "Cinnamon",
        "Gray",
        "Green",
        "Pink",
        "Purple",
        "Red",
        "White",
        "Yellow"
       ],
       "description": "cap_color",
       "index": 0,
       "layout": "IPY_MODEL_7549cc643ba34f83a1e106b2bfa43977",
       "style": "IPY_MODEL_dd1695c6dd624d5fbab9ab6fb5fc89bb"
      }
     },
     "d3d4d45dd63f440cb8ae155c3483df7c": {
      "model_module": "@jupyter-widgets/controls",
      "model_module_version": "1.5.0",
      "model_name": "DescriptionStyleModel",
      "state": {
       "description_width": ""
      }
     },
     "d412d1ca61b44873ac2817c6fa1b63b8": {
      "model_module": "@jupyter-widgets/controls",
      "model_module_version": "1.5.0",
      "model_name": "DropdownModel",
      "state": {
       "_options_labels": [
        "Fiberous",
        "Scaly",
        "Silky",
        "Smooth"
       ],
       "description": "stalk_surface_below_ring",
       "index": 2,
       "layout": "IPY_MODEL_7501b0ea3a574499b6c0bd33cca0022f",
       "style": "IPY_MODEL_c52fcd51feba41578259ac336762e93e"
      }
     },
     "d41c73f441c94d4c8eb7e1b7331346b0": {
      "model_module": "@jupyter-widgets/controls",
      "model_module_version": "1.5.0",
      "model_name": "CheckboxModel",
      "state": {
       "description": "bruises",
       "disabled": false,
       "layout": "IPY_MODEL_e24c0fd06a2f49d58c62e4838899180a",
       "style": "IPY_MODEL_00a04d2578214b9893131f8ae12330f5",
       "value": false
      }
     },
     "d469eefb8cab488d95a62691c2ba5ce1": {
      "model_module": "@jupyter-widgets/base",
      "model_module_version": "1.2.0",
      "model_name": "LayoutModel",
      "state": {}
     },
     "d507220b755040dfb6e2f13988cbac28": {
      "model_module": "@jupyter-widgets/controls",
      "model_module_version": "1.5.0",
      "model_name": "DescriptionStyleModel",
      "state": {
       "description_width": ""
      }
     },
     "d51db70beb754527930c45ad6cbf1873": {
      "model_module": "@jupyter-widgets/base",
      "model_module_version": "1.2.0",
      "model_name": "LayoutModel",
      "state": {}
     },
     "d5343b9ffc60405a84583bd9def3d65c": {
      "model_module": "@jupyter-widgets/controls",
      "model_module_version": "1.5.0",
      "model_name": "DescriptionStyleModel",
      "state": {
       "description_width": ""
      }
     },
     "d55e9ad7e8684ef3b8ce9eef14ac7cc4": {
      "model_module": "@jupyter-widgets/controls",
      "model_module_version": "1.5.0",
      "model_name": "DropdownModel",
      "state": {
       "_options_labels": [
        "Fiberous",
        "Grooves",
        "Scaly",
        "Smooth"
       ],
       "description": "cap_surface",
       "index": 0,
       "layout": "IPY_MODEL_8e36b29cc042423c887c8924d341a5b5",
       "style": "IPY_MODEL_4e0c923ba5124b7c8fdf646887f8fc2b"
      }
     },
     "d5620c19bd33428cbcc53b03893ab21b": {
      "model_module": "@jupyter-widgets/controls",
      "model_module_version": "1.5.0",
      "model_name": "DescriptionStyleModel",
      "state": {
       "description_width": ""
      }
     },
     "d58fd6cebe0d4f499581cf05eabee339": {
      "model_module": "@jupyter-widgets/controls",
      "model_module_version": "1.5.0",
      "model_name": "DescriptionStyleModel",
      "state": {
       "description_width": ""
      }
     },
     "d59e9b2d67d7414c95bfe9654264f2f7": {
      "model_module": "@jupyter-widgets/controls",
      "model_module_version": "1.5.0",
      "model_name": "DescriptionStyleModel",
      "state": {
       "description_width": ""
      }
     },
     "d5be96f09fea48d19cdad7f200d6e1d1": {
      "model_module": "@jupyter-widgets/base",
      "model_module_version": "1.2.0",
      "model_name": "LayoutModel",
      "state": {}
     },
     "d5c0da571b454dc39e4349c35aae84f9": {
      "model_module": "@jupyter-widgets/controls",
      "model_module_version": "1.5.0",
      "model_name": "DescriptionStyleModel",
      "state": {
       "description_width": ""
      }
     },
     "d5c947c64b514aeeab7c4815a95a524a": {
      "model_module": "@jupyter-widgets/controls",
      "model_module_version": "1.5.0",
      "model_name": "DescriptionStyleModel",
      "state": {
       "description_width": ""
      }
     },
     "d5dffb1d085c40f0b86430ef91e7bd5e": {
      "model_module": "@jupyter-widgets/base",
      "model_module_version": "1.2.0",
      "model_name": "LayoutModel",
      "state": {}
     },
     "d5e743708b5747f2b8b32276b99c8b0b": {
      "model_module": "@jupyter-widgets/controls",
      "model_module_version": "1.5.0",
      "model_name": "DropdownModel",
      "state": {
       "_options_labels": [
        "Black",
        "Brown",
        "Buff",
        "Chocolate",
        "Green",
        "Orange",
        "Purple",
        "White",
        "Yellow"
       ],
       "description": "spore_print_color",
       "index": 0,
       "layout": "IPY_MODEL_97103876d9e94552919840e307b31fed",
       "style": "IPY_MODEL_dc70aba0743f41c2969852b016773d4b"
      }
     },
     "d5fc49fb6f30439ebf8602d86555e28a": {
      "model_module": "@jupyter-widgets/output",
      "model_module_version": "1.0.0",
      "model_name": "OutputModel",
      "state": {
       "layout": "IPY_MODEL_211a5863304c40548db272528877f2b3",
       "outputs": [
        {
         "data": {
          "image/png": "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\n",
          "text/plain": "<Figure size 864x648 with 1 Axes>"
         },
         "metadata": {
          "needs_background": "light"
         },
         "output_type": "display_data"
        }
       ]
      }
     },
     "d5ffed8c53a3431b9188f2b0fa551427": {
      "model_module": "@jupyter-widgets/controls",
      "model_module_version": "1.5.0",
      "model_name": "DropdownModel",
      "state": {
       "_options_labels": [
        "Fiberous",
        "Scaly",
        "Silky",
        "Smooth"
       ],
       "description": "stalk_surface_above_ring",
       "index": 0,
       "layout": "IPY_MODEL_a7e00c95b2a54600b1a870b0cfa58d64",
       "style": "IPY_MODEL_8ab2a8af08684476905b0700db241b99"
      }
     },
     "d606072f87c84f50aadd8fab0b106894": {
      "model_module": "@jupyter-widgets/base",
      "model_module_version": "1.2.0",
      "model_name": "LayoutModel",
      "state": {}
     },
     "d60991f06c044af6b682c1aa42293481": {
      "model_module": "@jupyter-widgets/base",
      "model_module_version": "1.2.0",
      "model_name": "LayoutModel",
      "state": {}
     },
     "d626fd8b785e4546b4f65e90d8031bbe": {
      "model_module": "@jupyter-widgets/base",
      "model_module_version": "1.2.0",
      "model_name": "LayoutModel",
      "state": {}
     },
     "d629f75c89534abbbc6248291a509808": {
      "model_module": "@jupyter-widgets/base",
      "model_module_version": "1.2.0",
      "model_name": "LayoutModel",
      "state": {}
     },
     "d62e1df11495417891df9aa9cf72d356": {
      "model_module": "@jupyter-widgets/base",
      "model_module_version": "1.2.0",
      "model_name": "LayoutModel",
      "state": {}
     },
     "d64d153a98ae428f939a476b57eab110": {
      "model_module": "@jupyter-widgets/base",
      "model_module_version": "1.2.0",
      "model_name": "LayoutModel",
      "state": {}
     },
     "d6bc0f485d6540498a926e71de703bd5": {
      "model_module": "@jupyter-widgets/controls",
      "model_module_version": "1.5.0",
      "model_name": "DropdownModel",
      "state": {
       "_options_labels": [
        "Almond",
        "Anise",
        "Creosote",
        "Fishy",
        "Foul",
        "Musty",
        "None",
        "Pungent",
        "Spicy"
       ],
       "description": "odor",
       "index": 0,
       "layout": "IPY_MODEL_46a9d2ece69f4f6faec113981dbb38d1",
       "style": "IPY_MODEL_88acd72c7bad4228bb8c66e3840b6e3f"
      }
     },
     "d6bc60f3a6a84d098b40e266e9a924dd": {
      "model_module": "@jupyter-widgets/base",
      "model_module_version": "1.2.0",
      "model_name": "LayoutModel",
      "state": {}
     },
     "d6cf0db23fd44ac9990a9e11c54c3f20": {
      "model_module": "@jupyter-widgets/controls",
      "model_module_version": "1.5.0",
      "model_name": "DescriptionStyleModel",
      "state": {
       "description_width": ""
      }
     },
     "d6e6dcd952ea41db8d01d175e110b3fc": {
      "model_module": "@jupyter-widgets/controls",
      "model_module_version": "1.5.0",
      "model_name": "DescriptionStyleModel",
      "state": {
       "description_width": ""
      }
     },
     "d6fcf0b3c48a4d05bff9266b39ea23ac": {
      "model_module": "@jupyter-widgets/controls",
      "model_module_version": "1.5.0",
      "model_name": "DescriptionStyleModel",
      "state": {
       "description_width": ""
      }
     },
     "d6ff54fa65f648b1b35ff69e6bad4a27": {
      "model_module": "@jupyter-widgets/base",
      "model_module_version": "1.2.0",
      "model_name": "LayoutModel",
      "state": {}
     },
     "d70fd433409249a88479b09a753b5c53": {
      "model_module": "@jupyter-widgets/controls",
      "model_module_version": "1.5.0",
      "model_name": "DescriptionStyleModel",
      "state": {
       "description_width": ""
      }
     },
     "d7357c1ba15b46b5b2a0ce6aa1cd0db6": {
      "model_module": "@jupyter-widgets/controls",
      "model_module_version": "1.5.0",
      "model_name": "DescriptionStyleModel",
      "state": {
       "description_width": ""
      }
     },
     "d7832676e05744dd9d5359751bf7b21d": {
      "model_module": "@jupyter-widgets/base",
      "model_module_version": "1.2.0",
      "model_name": "LayoutModel",
      "state": {}
     },
     "d78dc7ff64e545f28dc5ff70a8cdd646": {
      "model_module": "@jupyter-widgets/controls",
      "model_module_version": "1.5.0",
      "model_name": "DescriptionStyleModel",
      "state": {
       "description_width": ""
      }
     },
     "d7de25553bc84e96bc2ee81c2dacc42b": {
      "model_module": "@jupyter-widgets/controls",
      "model_module_version": "1.5.0",
      "model_name": "DescriptionStyleModel",
      "state": {
       "description_width": ""
      }
     },
     "d7f891083ab34b1ca626a11c0fea4ecd": {
      "model_module": "@jupyter-widgets/base",
      "model_module_version": "1.2.0",
      "model_name": "LayoutModel",
      "state": {}
     },
     "d7fa6804c6024b159ba28cad7c11a0d1": {
      "model_module": "@jupyter-widgets/controls",
      "model_module_version": "1.5.0",
      "model_name": "DescriptionStyleModel",
      "state": {
       "description_width": ""
      }
     },
     "d809a7b32a964c8bbdc8279fdd8e3f2c": {
      "model_module": "@jupyter-widgets/controls",
      "model_module_version": "1.5.0",
      "model_name": "DropdownModel",
      "state": {
       "_options_labels": [
        "Black",
        "Brown",
        "Buff",
        "Chocolate",
        "Gray",
        "Green",
        "Orange",
        "Pink",
        "Purple",
        "Red",
        "White",
        "Yellow"
       ],
       "description": "gill_color",
       "index": 0,
       "layout": "IPY_MODEL_ca701f2643264b388ad5b4c97a652bb6",
       "style": "IPY_MODEL_36cae2ff2a2e48268fabcbf92b720bcf"
      }
     },
     "d87a8c54b4a7499d99f43ecbc3382ba9": {
      "model_module": "@jupyter-widgets/controls",
      "model_module_version": "1.5.0",
      "model_name": "VBoxModel",
      "state": {
       "_dom_classes": [
        "widget-interact"
       ],
       "children": [
        "IPY_MODEL_98e926d240a74e81a2b1f34c01907ada",
        "IPY_MODEL_34ad50ad46f84120bfccd14f91cb3d97",
        "IPY_MODEL_5d38bfb5ae354cf4a3840b81ce3f1667",
        "IPY_MODEL_e4e229240d99421faebbf19817b5f353",
        "IPY_MODEL_72f6c3b4ee904eabb9881d95dd4eb533",
        "IPY_MODEL_4efb7e0c1db443429693388a80eb59bf",
        "IPY_MODEL_8c4c385165674778b042cae3803c6e6e",
        "IPY_MODEL_9628b5b8a2674892916c1a70621139fc",
        "IPY_MODEL_ff09fc6160394cff9536d421aa96a12a",
        "IPY_MODEL_f573a1c4c4ec493696eacf52c06494c2",
        "IPY_MODEL_85c5ef687d754132bebb59bd9e1cc4ec",
        "IPY_MODEL_5fc3f231d09540ea9722b81e58312ff3",
        "IPY_MODEL_ad26ceef90324d15a7983c24736daae5",
        "IPY_MODEL_919dc81732b04856a297e7be4e877159",
        "IPY_MODEL_a85a28d073a24cb593b47f72229f8fc5",
        "IPY_MODEL_cee7ac6841aa4d41a98bb47be1e40fb7",
        "IPY_MODEL_61ab25f3576d4a84918d05f780b09759",
        "IPY_MODEL_d8f0acdd152c4055ad1a7caba3d08ccf",
        "IPY_MODEL_7d4c8bd8b8614ec0a3cab4b240535215",
        "IPY_MODEL_7ef6ee741ca549ec970f9eafc037a645",
        "IPY_MODEL_f8299bd4fff548c3a4fc4a947a6a0570",
        "IPY_MODEL_e3d285b2cb754e949442cf6ce1f66516",
        "IPY_MODEL_dd8ba30dab3b4f21a328e5acdf575959"
       ],
       "layout": "IPY_MODEL_07de588d89664f52be9c9aed3ce6d437"
      }
     },
     "d8b1d4ed629c409ea20236fd4266e942": {
      "model_module": "@jupyter-widgets/controls",
      "model_module_version": "1.5.0",
      "model_name": "DropdownModel",
      "state": {
       "_options_labels": [
        "Brown",
        "Buff",
        "Cinnamon",
        "Gray",
        "Orange",
        "Pink",
        "Red",
        "White",
        "Yellow"
       ],
       "description": "stalk_color_above_ring",
       "index": 0,
       "layout": "IPY_MODEL_da40fd9157044598baa9c44a874b7707",
       "style": "IPY_MODEL_4c79c7f554bb47f78c1df1525761ed6c"
      }
     },
     "d8e203c12a0847c09207a737c4fe632b": {
      "model_module": "@jupyter-widgets/base",
      "model_module_version": "1.2.0",
      "model_name": "LayoutModel",
      "state": {}
     },
     "d8f0acdd152c4055ad1a7caba3d08ccf": {
      "model_module": "@jupyter-widgets/controls",
      "model_module_version": "1.5.0",
      "model_name": "DropdownModel",
      "state": {
       "_options_labels": [
        "None",
        "One",
        "Two"
       ],
       "description": "ring_number",
       "index": 0,
       "layout": "IPY_MODEL_434c836f7c774d599a6d8ed607897663",
       "style": "IPY_MODEL_87009cc2d0f84ab4b3b4b66c110533ca"
      }
     },
     "d90b580ab9cd4ac489b22eca88588551": {
      "model_module": "@jupyter-widgets/controls",
      "model_module_version": "1.5.0",
      "model_name": "DescriptionStyleModel",
      "state": {
       "description_width": ""
      }
     },
     "d9694736d7b74a2491f0833333b9832f": {
      "model_module": "@jupyter-widgets/controls",
      "model_module_version": "1.5.0",
      "model_name": "DropdownModel",
      "state": {
       "_options_labels": [
        "Brown",
        "Buff",
        "Cinnamon",
        "Gray",
        "Orange",
        "Pink",
        "Red",
        "White",
        "Yellow"
       ],
       "description": "stalk_color_above_ring",
       "index": 0,
       "layout": "IPY_MODEL_bb4f739c5461432cbcd0363f13f46629",
       "style": "IPY_MODEL_fc48449d3b82408c95961e507bc29208"
      }
     },
     "d9c01a2259984b4698f41a47dd0b2f39": {
      "model_module": "@jupyter-widgets/controls",
      "model_module_version": "1.5.0",
      "model_name": "DescriptionStyleModel",
      "state": {
       "description_width": ""
      }
     },
     "da035861f5814c748d1228e02228a564": {
      "model_module": "@jupyter-widgets/controls",
      "model_module_version": "1.5.0",
      "model_name": "DescriptionStyleModel",
      "state": {
       "description_width": ""
      }
     },
     "da334d0dcd9d40de98f50452b40bc3d5": {
      "model_module": "@jupyter-widgets/base",
      "model_module_version": "1.2.0",
      "model_name": "LayoutModel",
      "state": {}
     },
     "da40fd9157044598baa9c44a874b7707": {
      "model_module": "@jupyter-widgets/base",
      "model_module_version": "1.2.0",
      "model_name": "LayoutModel",
      "state": {}
     },
     "da52362620b346f98c697fbca1b527ea": {
      "model_module": "@jupyter-widgets/controls",
      "model_module_version": "1.5.0",
      "model_name": "DropdownModel",
      "state": {
       "_options_labels": [
        "Bruises",
        "No Bruises"
       ],
       "description": "bruises",
       "index": 1,
       "layout": "IPY_MODEL_e5fc73a1337c4be3ac8f35255a04f8ae",
       "style": "IPY_MODEL_1deb8893325f4299a5fd9f86ded45da4"
      }
     },
     "da87821aca1d403f8feb2ccd8c2cb169": {
      "model_module": "@jupyter-widgets/controls",
      "model_module_version": "1.5.0",
      "model_name": "DescriptionStyleModel",
      "state": {
       "description_width": ""
      }
     },
     "da8ca83d8afd4a8a9a28e90e016c5cd2": {
      "model_module": "@jupyter-widgets/controls",
      "model_module_version": "1.5.0",
      "model_name": "DescriptionStyleModel",
      "state": {
       "description_width": ""
      }
     },
     "dab365e432f748a5ac0b9f94a9fa9ddf": {
      "model_module": "@jupyter-widgets/controls",
      "model_module_version": "1.5.0",
      "model_name": "DescriptionStyleModel",
      "state": {
       "description_width": ""
      }
     },
     "dad8e7b9951d4b26839bc7da18c2337f": {
      "model_module": "@jupyter-widgets/controls",
      "model_module_version": "1.5.0",
      "model_name": "DescriptionStyleModel",
      "state": {
       "description_width": ""
      }
     },
     "daf8985653614b1c9b0d4180cad031e6": {
      "model_module": "@jupyter-widgets/base",
      "model_module_version": "1.2.0",
      "model_name": "LayoutModel",
      "state": {}
     },
     "daf91793add74ba8ad6287e2f3c4e033": {
      "model_module": "@jupyter-widgets/base",
      "model_module_version": "1.2.0",
      "model_name": "LayoutModel",
      "state": {}
     },
     "db08d3f1a2a541959bd212fd3e83ed2d": {
      "model_module": "@jupyter-widgets/controls",
      "model_module_version": "1.5.0",
      "model_name": "DescriptionStyleModel",
      "state": {
       "description_width": ""
      }
     },
     "db4c24c368194097870af07510ccfe21": {
      "model_module": "@jupyter-widgets/base",
      "model_module_version": "1.2.0",
      "model_name": "LayoutModel",
      "state": {}
     },
     "db63c9a6ca824d849c97cf1ed8b5debd": {
      "model_module": "@jupyter-widgets/controls",
      "model_module_version": "1.5.0",
      "model_name": "DropdownModel",
      "state": {
       "_options_labels": [
        "Enlarging",
        "Tapering"
       ],
       "description": "stalk_shape",
       "index": 0,
       "layout": "IPY_MODEL_8701d31aad7d4acb8c39a890e566e084",
       "style": "IPY_MODEL_274fa2485baa45a08dfe359b690e46dd"
      }
     },
     "db9d44f8dce84ad689eadda7fc4b2a11": {
      "model_module": "@jupyter-widgets/controls",
      "model_module_version": "1.5.0",
      "model_name": "DropdownModel",
      "state": {
       "_options_labels": [
        "Fiberous",
        "Scaly",
        "Silky",
        "Smooth"
       ],
       "description": "stalk_surface_above_ring",
       "index": 0,
       "layout": "IPY_MODEL_853b7b83fe424daaa0a4848ac0069c77",
       "style": "IPY_MODEL_9141d1ec996a4937a1cb87439df7a56f"
      }
     },
     "dbc6915ab324464aa88a65c11bd637d6": {
      "model_module": "@jupyter-widgets/controls",
      "model_module_version": "1.5.0",
      "model_name": "DescriptionStyleModel",
      "state": {
       "description_width": ""
      }
     },
     "dc17a5388f6e43ed8962ef78529fbdc9": {
      "model_module": "@jupyter-widgets/controls",
      "model_module_version": "1.5.0",
      "model_name": "DescriptionStyleModel",
      "state": {
       "description_width": ""
      }
     },
     "dc1fc831ef3742098efe47c00a2dc86e": {
      "model_module": "@jupyter-widgets/controls",
      "model_module_version": "1.5.0",
      "model_name": "DropdownModel",
      "state": {
       "_options_labels": [
        "None",
        "One",
        "Two"
       ],
       "description": "ring_number",
       "index": 0,
       "layout": "IPY_MODEL_54c70805fd2d49b8983c2f5d75021c6f",
       "style": "IPY_MODEL_d18c1ec5d49046cfb2d06b90f5176a76"
      }
     },
     "dc298c444a1b46dcafcf838f86bab8d9": {
      "model_module": "@jupyter-widgets/controls",
      "model_module_version": "1.5.0",
      "model_name": "DropdownModel",
      "state": {
       "_options_labels": [
        "Partial",
        "Universal"
       ],
       "description": "veil_type",
       "index": 0,
       "layout": "IPY_MODEL_f975b45635df4db7b7afe66bf36413cd",
       "style": "IPY_MODEL_f038756b0ceb4ac68467bad2fdbab353"
      }
     },
     "dc47ad6ca7c140c58d33ddf13b7af741": {
      "model_module": "@jupyter-widgets/base",
      "model_module_version": "1.2.0",
      "model_name": "LayoutModel",
      "state": {}
     },
     "dc6299b4528d4dd38dc528bc18af9741": {
      "model_module": "@jupyter-widgets/controls",
      "model_module_version": "1.5.0",
      "model_name": "DescriptionStyleModel",
      "state": {
       "description_width": ""
      }
     },
     "dc6b4d4523304a2c9f07ce2c3dc59afc": {
      "model_module": "@jupyter-widgets/controls",
      "model_module_version": "1.5.0",
      "model_name": "DropdownModel",
      "state": {
       "_options_labels": [
        "Fiberous",
        "Scaly",
        "Silky",
        "Smooth"
       ],
       "description": "stalk_surface_above_ring",
       "index": 0,
       "layout": "IPY_MODEL_2f37cb72d557440ca9d43ee1dcd3fe67",
       "style": "IPY_MODEL_0df55100a83d46229f40f21d559e42f4"
      }
     },
     "dc6ef42c66b54eb69e249cf5d80b7088": {
      "model_module": "@jupyter-widgets/base",
      "model_module_version": "1.2.0",
      "model_name": "LayoutModel",
      "state": {}
     },
     "dc70aba0743f41c2969852b016773d4b": {
      "model_module": "@jupyter-widgets/controls",
      "model_module_version": "1.5.0",
      "model_name": "DescriptionStyleModel",
      "state": {
       "description_width": ""
      }
     },
     "dc986fd36aa6489dbfe18e3b5d201b24": {
      "model_module": "@jupyter-widgets/controls",
      "model_module_version": "1.5.0",
      "model_name": "DropdownModel",
      "state": {
       "_options_labels": [
        "Brown",
        "Buff",
        "Cinnamon",
        "Gray",
        "Orange",
        "Pink",
        "Red",
        "White",
        "Yellow"
       ],
       "description": "stalk_color_below_ring",
       "index": 0,
       "layout": "IPY_MODEL_77e4c78ca0c44069b57c7deea74d7f9f",
       "style": "IPY_MODEL_fdff58f3e3b3433d9a9e262eeb5b2feb"
      }
     },
     "dcb19fb757d84b41a22c2213dd23bcbd": {
      "model_module": "@jupyter-widgets/controls",
      "model_module_version": "1.5.0",
      "model_name": "DropdownModel",
      "state": {
       "_options_labels": [
        "Abundant",
        "Clustered",
        "Numerous",
        "Scattered",
        "Several",
        "Solitary"
       ],
       "description": "population",
       "index": 0,
       "layout": "IPY_MODEL_b0a94f482f1e45c08804f79b08cdd09a",
       "style": "IPY_MODEL_4c7c38c0301541f591260fb40d8c1fdb"
      }
     },
     "dce56f69023d481db3a10b7bc5114b1d": {
      "model_module": "@jupyter-widgets/controls",
      "model_module_version": "1.5.0",
      "model_name": "DescriptionStyleModel",
      "state": {
       "description_width": ""
      }
     },
     "dce7f9e341c74f11a23e62e28143773e": {
      "model_module": "@jupyter-widgets/output",
      "model_module_version": "1.0.0",
      "model_name": "OutputModel",
      "state": {
       "layout": "IPY_MODEL_1321362d1d7b46eda39d8121d82459ba",
       "outputs": [
        {
         "name": "stdout",
         "output_type": "stream",
         "text": "Bruh\n"
        }
       ]
      }
     },
     "dd1695c6dd624d5fbab9ab6fb5fc89bb": {
      "model_module": "@jupyter-widgets/controls",
      "model_module_version": "1.5.0",
      "model_name": "DescriptionStyleModel",
      "state": {
       "description_width": ""
      }
     },
     "dd2037ecb4ad4f45bde2ba4eea4d6d45": {
      "model_module": "@jupyter-widgets/base",
      "model_module_version": "1.2.0",
      "model_name": "LayoutModel",
      "state": {}
     },
     "dd209a5ad77b483eaee61722d6905da1": {
      "model_module": "@jupyter-widgets/controls",
      "model_module_version": "1.5.0",
      "model_name": "DescriptionStyleModel",
      "state": {
       "description_width": ""
      }
     },
     "dd4a534a10834c2485bcc31c6fac404f": {
      "model_module": "@jupyter-widgets/base",
      "model_module_version": "1.2.0",
      "model_name": "LayoutModel",
      "state": {}
     },
     "dd8ba30dab3b4f21a328e5acdf575959": {
      "model_module": "@jupyter-widgets/output",
      "model_module_version": "1.0.0",
      "model_name": "OutputModel",
      "state": {
       "layout": "IPY_MODEL_77ea7e29d9d440b58d8302f05ac32246",
       "outputs": [
        {
         "data": {
          "image/png": "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\n",
          "text/plain": "<Figure size 864x648 with 1 Axes>"
         },
         "metadata": {
          "needs_background": "light"
         },
         "output_type": "display_data"
        }
       ]
      }
     },
     "dda8a3dd297f449aae773979ff28b4ff": {
      "model_module": "@jupyter-widgets/base",
      "model_module_version": "1.2.0",
      "model_name": "LayoutModel",
      "state": {}
     },
     "ddc819a3e8ba49e1ab33f9a2510d08f6": {
      "model_module": "@jupyter-widgets/base",
      "model_module_version": "1.2.0",
      "model_name": "LayoutModel",
      "state": {}
     },
     "dde8a5a6b1d34c988e973ffa626bc1ab": {
      "model_module": "@jupyter-widgets/controls",
      "model_module_version": "1.5.0",
      "model_name": "DropdownModel",
      "state": {
       "_options_labels": [
        "Broad",
        "Narrow"
       ],
       "description": "gill_size",
       "index": 0,
       "layout": "IPY_MODEL_29a34551609c41c9ad15c0847505ee49",
       "style": "IPY_MODEL_eb656aae997f40c194ad7ae820b77efe"
      }
     },
     "de1061bc30e8496299b8c832f61d96b5": {
      "model_module": "@jupyter-widgets/base",
      "model_module_version": "1.2.0",
      "model_name": "LayoutModel",
      "state": {}
     },
     "de1ba7f7b57a4e4aa434896bc3580b1d": {
      "model_module": "@jupyter-widgets/controls",
      "model_module_version": "1.5.0",
      "model_name": "DropdownModel",
      "state": {
       "_options_labels": [
        "Bell",
        "Conical",
        "Convex",
        "Flat",
        "Knobbed",
        "Sunken"
       ],
       "description": "cap_shape",
       "index": 0,
       "layout": "IPY_MODEL_ddc819a3e8ba49e1ab33f9a2510d08f6",
       "style": "IPY_MODEL_3b4b2c7f75b34505be1c822b1d4593b3"
      }
     },
     "de200add022f433bbc81f1a974980f69": {
      "model_module": "@jupyter-widgets/controls",
      "model_module_version": "1.5.0",
      "model_name": "DropdownModel",
      "state": {
       "_options_labels": [
        "Bruises",
        "No Bruises"
       ],
       "description": "bruises",
       "index": 0,
       "layout": "IPY_MODEL_659c72e320a44e99834545dca184e87c",
       "style": "IPY_MODEL_975d91ded35e44c091252060baa0239e"
      }
     },
     "de23ac759fcb44d4ae32602b5733a707": {
      "model_module": "@jupyter-widgets/controls",
      "model_module_version": "1.5.0",
      "model_name": "DropdownModel",
      "state": {
       "_options_labels": [
        "Bell",
        "Conical",
        "Convex",
        "Flat",
        "Knobbed",
        "Sunken"
       ],
       "description": "cap_shape",
       "index": 3,
       "layout": "IPY_MODEL_adf4be1697194a3f85d12470f79879ad",
       "style": "IPY_MODEL_bb75943706ce42ba85f3706d7b9b1a35"
      }
     },
     "de3f5ceae0a84754b7a3759371b20da3": {
      "model_module": "@jupyter-widgets/controls",
      "model_module_version": "1.5.0",
      "model_name": "DropdownModel",
      "state": {
       "_options_labels": [
        "Enlarging",
        "Tapering"
       ],
       "description": "stalk_shape",
       "index": 0,
       "layout": "IPY_MODEL_3df1daab584d4ca29b8956c7eb2e7b37",
       "style": "IPY_MODEL_8081408285734c30a6787a106be1dac3"
      }
     },
     "de9cfcbe54764ee089cfb668914c15f7": {
      "model_module": "@jupyter-widgets/controls",
      "model_module_version": "1.5.0",
      "model_name": "DropdownModel",
      "state": {
       "_options_labels": [
        "Grasses",
        "Leaves",
        "Meadows",
        "Paths",
        "Urban",
        "Waste",
        "Woods"
       ],
       "description": "habitat",
       "index": 0,
       "layout": "IPY_MODEL_07044bbe90594e87aef2f58ed4ee1044",
       "style": "IPY_MODEL_8d0138a0f5c04142a307662f020c38dd"
      }
     },
     "def27efed85746f6a2296bc1e529267a": {
      "model_module": "@jupyter-widgets/controls",
      "model_module_version": "1.5.0",
      "model_name": "DropdownModel",
      "state": {
       "_options_labels": [
        "Fiberous",
        "Grooves",
        "Scaly",
        "Smooth"
       ],
       "description": "cap_surface",
       "index": 0,
       "layout": "IPY_MODEL_41fb75641e204e1ba87a8753c07f8882",
       "style": "IPY_MODEL_986c212a84f349b1953ca689ebbef3ab"
      }
     },
     "df40ae65d1e140cd803e6b13bed70507": {
      "model_module": "@jupyter-widgets/base",
      "model_module_version": "1.2.0",
      "model_name": "LayoutModel",
      "state": {}
     },
     "df5e3a94bb484ec69e922c36c8ecb110": {
      "model_module": "@jupyter-widgets/base",
      "model_module_version": "1.2.0",
      "model_name": "LayoutModel",
      "state": {}
     },
     "dfa06a659a30480eb6c988c38f45e887": {
      "model_module": "@jupyter-widgets/controls",
      "model_module_version": "1.5.0",
      "model_name": "DescriptionStyleModel",
      "state": {
       "description_width": ""
      }
     },
     "dfeb94b9220a4b85b32f1b9fc3773949": {
      "model_module": "@jupyter-widgets/base",
      "model_module_version": "1.2.0",
      "model_name": "LayoutModel",
      "state": {}
     },
     "e0058d02fb7f4481970b7b3073db38b6": {
      "model_module": "@jupyter-widgets/controls",
      "model_module_version": "1.5.0",
      "model_name": "DescriptionStyleModel",
      "state": {
       "description_width": ""
      }
     },
     "e02475e59c624adf8b7f596047f8bb15": {
      "model_module": "@jupyter-widgets/controls",
      "model_module_version": "1.5.0",
      "model_name": "DescriptionStyleModel",
      "state": {
       "description_width": ""
      }
     },
     "e032f29ca4a44f638547db78140e2ada": {
      "model_module": "@jupyter-widgets/controls",
      "model_module_version": "1.5.0",
      "model_name": "DescriptionStyleModel",
      "state": {
       "description_width": ""
      }
     },
     "e0a98de719c1408292ae13605987f56b": {
      "model_module": "@jupyter-widgets/base",
      "model_module_version": "1.2.0",
      "model_name": "LayoutModel",
      "state": {}
     },
     "e0ea0595bcdb42e197a61d8f6cc8e5a7": {
      "model_module": "@jupyter-widgets/controls",
      "model_module_version": "1.5.0",
      "model_name": "DescriptionStyleModel",
      "state": {
       "description_width": ""
      }
     },
     "e0f0d65ebf4c40218b7204401740bce7": {
      "model_module": "@jupyter-widgets/controls",
      "model_module_version": "1.5.0",
      "model_name": "DropdownModel",
      "state": {
       "_options_labels": [
        "Attached",
        "Descending",
        "Free",
        "Notched"
       ],
       "description": "gill_attachment",
       "index": 0,
       "layout": "IPY_MODEL_ecbf9ee4ae304103bba5b45fdeeaea78",
       "style": "IPY_MODEL_4ec56067aad445b996d2785711254d64"
      }
     },
     "e0f202759d48473297e0573a8642c491": {
      "model_module": "@jupyter-widgets/controls",
      "model_module_version": "1.5.0",
      "model_name": "DropdownModel",
      "state": {
       "_options_labels": [
        "Bell",
        "Conical",
        "Convex",
        "Flat",
        "Knobbed",
        "Sunken"
       ],
       "description": "cap_shape",
       "index": 0,
       "layout": "IPY_MODEL_b63d34c37e7d4a7f834b16c1762a9365",
       "style": "IPY_MODEL_4dd89af46e594e7ca515165b00cfbdad"
      }
     },
     "e0f4a3d5a97844bfbc861dad0bf05592": {
      "model_module": "@jupyter-widgets/base",
      "model_module_version": "1.2.0",
      "model_name": "LayoutModel",
      "state": {}
     },
     "e112a5e37e1d45b280ebdd806d7bf50c": {
      "model_module": "@jupyter-widgets/controls",
      "model_module_version": "1.5.0",
      "model_name": "DescriptionStyleModel",
      "state": {
       "description_width": ""
      }
     },
     "e14bda94b5724b47ab7352d9a2a462f3": {
      "model_module": "@jupyter-widgets/controls",
      "model_module_version": "1.5.0",
      "model_name": "DescriptionStyleModel",
      "state": {
       "description_width": ""
      }
     },
     "e14e4857c427499abe893ec7fa6f68cb": {
      "model_module": "@jupyter-widgets/base",
      "model_module_version": "1.2.0",
      "model_name": "LayoutModel",
      "state": {}
     },
     "e1673825ff6549fab870f50001140790": {
      "model_module": "@jupyter-widgets/base",
      "model_module_version": "1.2.0",
      "model_name": "LayoutModel",
      "state": {}
     },
     "e186778537e2431483cbfafb9eeca1ac": {
      "model_module": "@jupyter-widgets/controls",
      "model_module_version": "1.5.0",
      "model_name": "DescriptionStyleModel",
      "state": {
       "description_width": ""
      }
     },
     "e1923f0f06b14eddacf7be619644ea9f": {
      "model_module": "@jupyter-widgets/base",
      "model_module_version": "1.2.0",
      "model_name": "LayoutModel",
      "state": {}
     },
     "e1a6d5bcdb3c49bba9a8d9a3d45c2e7c": {
      "model_module": "@jupyter-widgets/controls",
      "model_module_version": "1.5.0",
      "model_name": "DropdownModel",
      "state": {
       "_options_labels": [
        "Almond",
        "Anise",
        "Creosote",
        "Fishy",
        "Foul",
        "Musty",
        "None",
        "Pungent",
        "Spicy"
       ],
       "description": "odor",
       "index": 0,
       "layout": "IPY_MODEL_daf8985653614b1c9b0d4180cad031e6",
       "style": "IPY_MODEL_ff94f4ca0a7c4700bf7b412ac3c15801"
      }
     },
     "e1a80ad89d8240cbaee9249b9cfeafdb": {
      "model_module": "@jupyter-widgets/controls",
      "model_module_version": "1.5.0",
      "model_name": "DescriptionStyleModel",
      "state": {
       "description_width": ""
      }
     },
     "e1af737ae0aa4eb6b1de29323c86c4b3": {
      "model_module": "@jupyter-widgets/controls",
      "model_module_version": "1.5.0",
      "model_name": "DescriptionStyleModel",
      "state": {
       "description_width": ""
      }
     },
     "e1fe3b2d02af4070bceff9d50b301e31": {
      "model_module": "@jupyter-widgets/base",
      "model_module_version": "1.2.0",
      "model_name": "LayoutModel",
      "state": {}
     },
     "e24b5f5a18d143a4b6264d7b67827b93": {
      "model_module": "@jupyter-widgets/controls",
      "model_module_version": "1.5.0",
      "model_name": "DescriptionStyleModel",
      "state": {
       "description_width": ""
      }
     },
     "e24c0fd06a2f49d58c62e4838899180a": {
      "model_module": "@jupyter-widgets/base",
      "model_module_version": "1.2.0",
      "model_name": "LayoutModel",
      "state": {}
     },
     "e272a32e470e4b269f5a1e76bd6df6a0": {
      "model_module": "@jupyter-widgets/controls",
      "model_module_version": "1.5.0",
      "model_name": "DropdownModel",
      "state": {
       "_options_labels": [
        "Fiberous",
        "Scaly",
        "Silky",
        "Smooth"
       ],
       "description": "stalk_surface_below_ring",
       "index": 0,
       "layout": "IPY_MODEL_29a0d1138d5c4507bdfa94a9ec80dcc6",
       "style": "IPY_MODEL_979c2f71fba74161be34c5615fb1dac3"
      }
     },
     "e2a012e5ff8844d9a6a75748041781a0": {
      "model_module": "@jupyter-widgets/base",
      "model_module_version": "1.2.0",
      "model_name": "LayoutModel",
      "state": {}
     },
     "e2c40b0ba336474db955331b4c7b6c84": {
      "model_module": "@jupyter-widgets/controls",
      "model_module_version": "1.5.0",
      "model_name": "DropdownModel",
      "state": {
       "_options_labels": [
        "Grasses",
        "Leaves",
        "Meadows",
        "Paths",
        "Urban",
        "Waste",
        "Woods"
       ],
       "description": "habitat",
       "index": 6,
       "layout": "IPY_MODEL_283915b4731a410a84035f41609045bb",
       "style": "IPY_MODEL_373fe9cdcf564d59a86d36648e2a32f2"
      }
     },
     "e31239fb2d7f4851a76d65bc5d606a6b": {
      "model_module": "@jupyter-widgets/base",
      "model_module_version": "1.2.0",
      "model_name": "LayoutModel",
      "state": {}
     },
     "e3660d0a46264229a012805cbe3701aa": {
      "model_module": "@jupyter-widgets/controls",
      "model_module_version": "1.5.0",
      "model_name": "VBoxModel",
      "state": {
       "_dom_classes": [
        "widget-interact"
       ],
       "children": [
        "IPY_MODEL_de1ba7f7b57a4e4aa434896bc3580b1d",
        "IPY_MODEL_8166326c228f4300ae5f5811fdaefd39",
        "IPY_MODEL_cebefa2a98f64780bdc0f8faff16325b"
       ],
       "layout": "IPY_MODEL_4f53c3903b7c4e0e8021083d0c7c13f5"
      }
     },
     "e36bb0ccd10145fdbf6c92f5ebdb73a6": {
      "model_module": "@jupyter-widgets/controls",
      "model_module_version": "1.5.0",
      "model_name": "DescriptionStyleModel",
      "state": {
       "description_width": ""
      }
     },
     "e386a983b31e458f9499495a8c1f675d": {
      "model_module": "@jupyter-widgets/controls",
      "model_module_version": "1.5.0",
      "model_name": "DescriptionStyleModel",
      "state": {
       "description_width": ""
      }
     },
     "e39adb1594044825a3aac3ccbcb016e8": {
      "model_module": "@jupyter-widgets/controls",
      "model_module_version": "1.5.0",
      "model_name": "DropdownModel",
      "state": {
       "_options_labels": [
        "Brown",
        "Orange",
        "White",
        "Yellow"
       ],
       "description": "veil_color",
       "index": 0,
       "layout": "IPY_MODEL_aa30329aa6e24924afe0593501e6ba72",
       "style": "IPY_MODEL_8cce058038cb44db9202680d8da82c2c"
      }
     },
     "e3d285b2cb754e949442cf6ce1f66516": {
      "model_module": "@jupyter-widgets/controls",
      "model_module_version": "1.5.0",
      "model_name": "DropdownModel",
      "state": {
       "_options_labels": [
        "Grasses",
        "Leaves",
        "Meadows",
        "Paths",
        "Urban",
        "Waste",
        "Woods"
       ],
       "description": "habitat",
       "index": 0,
       "layout": "IPY_MODEL_ccf5a6a6acec4fd194c3df4937f93401",
       "style": "IPY_MODEL_904f1ef9de174030b77f1577a46c405c"
      }
     },
     "e3e6748a4e554a95a46db7fef5e31e17": {
      "model_module": "@jupyter-widgets/controls",
      "model_module_version": "1.5.0",
      "model_name": "VBoxModel",
      "state": {
       "_dom_classes": [
        "widget-interact"
       ],
       "children": [
        "IPY_MODEL_5b6d2d5b1ae4406fbf735e05a9322560",
        "IPY_MODEL_f1fe244c31264e9cb58f6928e449b825",
        "IPY_MODEL_18ce5a45199d47f5a2c04c8f46e59425",
        "IPY_MODEL_aafcfb3199bb4e9e892a28f6742651df",
        "IPY_MODEL_158c5d261b04475ba33320af1a3f2c56",
        "IPY_MODEL_3444c43859fc4db6bb9737d9899fa4ab",
        "IPY_MODEL_5b3bc4dd2cfe4daf986a7fd875a83764",
        "IPY_MODEL_266a5034b73e429ab2631ebd23b6362e",
        "IPY_MODEL_11beed7ae949499484c125c3d637a04e",
        "IPY_MODEL_bd3c8107db0c40ad8c5744714f723d14",
        "IPY_MODEL_2875fd3c66bb4874914adb714e9b4b3e",
        "IPY_MODEL_dc6b4d4523304a2c9f07ce2c3dc59afc",
        "IPY_MODEL_e77df3c047b3400b932b1214ed09b152",
        "IPY_MODEL_d8b1d4ed629c409ea20236fd4266e942",
        "IPY_MODEL_8576c441c010419f9a9201ac08028ca2",
        "IPY_MODEL_3d05459b4fe042be87afa608abcf9107",
        "IPY_MODEL_6e10b0744e944ad1a3dac9c0ea32e4cf",
        "IPY_MODEL_903c5354152b4c69b52dedd09dec6d09",
        "IPY_MODEL_8d23f9130d354659a17a715eae87a694",
        "IPY_MODEL_0daf16193ba544ab83849c5080a06b66",
        "IPY_MODEL_2ba6c64b726b40cc856bdfae1dab2d63",
        "IPY_MODEL_c9a6f3e185a443ac9de37cabebfbcb09",
        "IPY_MODEL_e6dbb8df87a6459f841ab896dcbb4955"
       ],
       "layout": "IPY_MODEL_936ecb81177244bfa655e357462f7872"
      }
     },
     "e44b3589bc184f539efdb2ba963292e8": {
      "model_module": "@jupyter-widgets/base",
      "model_module_version": "1.2.0",
      "model_name": "LayoutModel",
      "state": {}
     },
     "e469801e0e5b4872a0d17d873ad4a5e7": {
      "model_module": "@jupyter-widgets/controls",
      "model_module_version": "1.5.0",
      "model_name": "DescriptionStyleModel",
      "state": {
       "description_width": ""
      }
     },
     "e493c54cceee4bc8ab49c1defa853eec": {
      "model_module": "@jupyter-widgets/controls",
      "model_module_version": "1.5.0",
      "model_name": "DropdownModel",
      "state": {
       "_options_labels": [
        "Brown",
        "Orange",
        "White",
        "Yellow"
       ],
       "description": "veil_color",
       "index": 2,
       "layout": "IPY_MODEL_8b335cb5bb6543ac9813625840283d27",
       "style": "IPY_MODEL_4ab2f49f8ec541728d79ee46a1b29844"
      }
     },
     "e4a90848e299403cbd5601590422c062": {
      "model_module": "@jupyter-widgets/base",
      "model_module_version": "1.2.0",
      "model_name": "LayoutModel",
      "state": {}
     },
     "e4ded91457bd403abd52b369dd7ebaee": {
      "model_module": "@jupyter-widgets/controls",
      "model_module_version": "1.5.0",
      "model_name": "DescriptionStyleModel",
      "state": {
       "description_width": ""
      }
     },
     "e4e229240d99421faebbf19817b5f353": {
      "model_module": "@jupyter-widgets/controls",
      "model_module_version": "1.5.0",
      "model_name": "DropdownModel",
      "state": {
       "_options_labels": [
        "Bruises",
        "No Bruises"
       ],
       "description": "bruises",
       "index": 0,
       "layout": "IPY_MODEL_c46f619d04434f97bb2569833ff69625",
       "style": "IPY_MODEL_c0b82832d8e047109220d7428162ae3b"
      }
     },
     "e5596194ed0b4b6a8f4c169783bf3174": {
      "model_module": "@jupyter-widgets/controls",
      "model_module_version": "1.5.0",
      "model_name": "DescriptionStyleModel",
      "state": {
       "description_width": ""
      }
     },
     "e597bd6937a14222847b97ac175c9610": {
      "model_module": "@jupyter-widgets/controls",
      "model_module_version": "1.5.0",
      "model_name": "DescriptionStyleModel",
      "state": {
       "description_width": ""
      }
     },
     "e5b9d0d5faa54448b6d8db78ca998837": {
      "model_module": "@jupyter-widgets/controls",
      "model_module_version": "1.5.0",
      "model_name": "DropdownModel",
      "state": {
       "_options_labels": [
        "Bulbous",
        "Club",
        "Cup",
        "Equal",
        "Rhizomorphs",
        "Rooted",
        "Missing"
       ],
       "description": "stalk_root",
       "index": 0,
       "layout": "IPY_MODEL_94047f8fd0134ae2a2d4eef6dded9b94",
       "style": "IPY_MODEL_c6a18bd8d812453ca10c4ebf39805aca"
      }
     },
     "e5e6c3ee9f9e46cdae251abdc8432bb0": {
      "model_module": "@jupyter-widgets/base",
      "model_module_version": "1.2.0",
      "model_name": "LayoutModel",
      "state": {}
     },
     "e5f08b30d3904003a39df82a944c1a6a": {
      "model_module": "@jupyter-widgets/controls",
      "model_module_version": "1.5.0",
      "model_name": "DescriptionStyleModel",
      "state": {
       "description_width": ""
      }
     },
     "e5fc73a1337c4be3ac8f35255a04f8ae": {
      "model_module": "@jupyter-widgets/base",
      "model_module_version": "1.2.0",
      "model_name": "LayoutModel",
      "state": {}
     },
     "e630b3c2a8dd4b1b8c35cf864a630994": {
      "model_module": "@jupyter-widgets/base",
      "model_module_version": "1.2.0",
      "model_name": "LayoutModel",
      "state": {}
     },
     "e6763a0fec244c22965e20908fa9b4fe": {
      "model_module": "@jupyter-widgets/base",
      "model_module_version": "1.2.0",
      "model_name": "LayoutModel",
      "state": {}
     },
     "e67aec97caee4b17a354ff1e5527dd83": {
      "model_module": "@jupyter-widgets/controls",
      "model_module_version": "1.5.0",
      "model_name": "DropdownModel",
      "state": {
       "_options_labels": [
        "Grasses",
        "Leaves",
        "Meadows",
        "Paths",
        "Urban",
        "Waste",
        "Woods"
       ],
       "description": "habitat",
       "index": 0,
       "layout": "IPY_MODEL_99445c63b5074dd0bea7ddfc0b759d0c",
       "style": "IPY_MODEL_0b61314a5bc64950aed5aa410f6c23be"
      }
     },
     "e69ff183af2e4960959354ae07b6d15b": {
      "model_module": "@jupyter-widgets/output",
      "model_module_version": "1.0.0",
      "model_name": "OutputModel",
      "state": {
       "layout": "IPY_MODEL_06d03a22ba62468fa199c4d9a6b7e1e4",
       "outputs": [
        {
         "name": "stdout",
         "output_type": "stream",
         "text": "Bruh\n"
        }
       ]
      }
     },
     "e6dbb8df87a6459f841ab896dcbb4955": {
      "model_module": "@jupyter-widgets/output",
      "model_module_version": "1.0.0",
      "model_name": "OutputModel",
      "state": {
       "layout": "IPY_MODEL_60fe681d9a154823816105931d759b59",
       "outputs": [
        {
         "name": "stdout",
         "output_type": "stream",
         "text": "class\ne    0.516002\np    0.483998\ndtype: float64\nclass\ne    0.051535\np    0.006401\ndtype: float64\nclass\ne    0.018899\np    0.001220\ndtype: float64\nclass\ne    0.005747\np    0.000324\ndtype: float64\nclass\ne    0.003774\np    0.000052\ndtype: float64\nclass\ne    0.000371\np    0.000000\ndtype: float64\nclass\ne    0.000017\np    0.000000\ndtype: float64\nclass\ne    0.000012\np    0.000000\ndtype: float64\nclass\ne    0.000011\np    0.000000\ndtype: float64\nclass\ne    9.433171e-07\np    0.000000e+00\ndtype: float64\nclass\ne    3.603447e-07\np    0.000000e+00\ndtype: float64\nclass\ne    1.649288e-07\np    0.000000e+00\ndtype: float64\nclass\ne    1.594731e-08\np    0.000000e+00\ndtype: float64\nclass\ne    1.709365e-09\np    0.000000e+00\ndtype: float64\nclass\ne    5.980603e-12\np    0.000000e+00\ndtype: float64\nclass\ne    8.940469e-14\np    0.000000e+00\ndtype: float64\nclass\ne    8.940469e-14\np    0.000000e+00\ndtype: float64\nclass\ne    2.075872e-15\np    0.000000e+00\ndtype: float64\nclass\ne    0.0\np    0.0\ndtype: float64\nclass\ne    0.0\np    0.0\ndtype: float64\nclass\ne    0.0\np    0.0\ndtype: float64\nclass\ne    0.0\np    0.0\ndtype: float64\nclass\ne    0.0\np    0.0\ndtype: float64\ne\n"
        },
        {
         "ename": "ValueError",
         "evalue": "Could not interpret input 'e'",
         "output_type": "error",
         "traceback": [
          "\u001b[0;31m---------------------------------------------------------------------------\u001b[0m",
          "\u001b[0;31mValueError\u001b[0m                                Traceback (most recent call last)",
          "\u001b[0;32m~/Documents/GitHub/andys-notebook/venv/lib/python3.9/site-packages/ipywidgets/widgets/interaction.py\u001b[0m in \u001b[0;36mupdate\u001b[0;34m(self, *args)\u001b[0m\n\u001b[1;32m    254\u001b[0m                     \u001b[0mvalue\u001b[0m \u001b[0;34m=\u001b[0m \u001b[0mwidget\u001b[0m\u001b[0;34m.\u001b[0m\u001b[0mget_interact_value\u001b[0m\u001b[0;34m(\u001b[0m\u001b[0;34m)\u001b[0m\u001b[0;34m\u001b[0m\u001b[0;34m\u001b[0m\u001b[0m\n\u001b[1;32m    255\u001b[0m                     \u001b[0mself\u001b[0m\u001b[0;34m.\u001b[0m\u001b[0mkwargs\u001b[0m\u001b[0;34m[\u001b[0m\u001b[0mwidget\u001b[0m\u001b[0;34m.\u001b[0m\u001b[0m_kwarg\u001b[0m\u001b[0;34m]\u001b[0m \u001b[0;34m=\u001b[0m \u001b[0mvalue\u001b[0m\u001b[0;34m\u001b[0m\u001b[0;34m\u001b[0m\u001b[0m\n\u001b[0;32m--> 256\u001b[0;31m                 \u001b[0mself\u001b[0m\u001b[0;34m.\u001b[0m\u001b[0mresult\u001b[0m \u001b[0;34m=\u001b[0m \u001b[0mself\u001b[0m\u001b[0;34m.\u001b[0m\u001b[0mf\u001b[0m\u001b[0;34m(\u001b[0m\u001b[0;34m**\u001b[0m\u001b[0mself\u001b[0m\u001b[0;34m.\u001b[0m\u001b[0mkwargs\u001b[0m\u001b[0;34m)\u001b[0m\u001b[0;34m\u001b[0m\u001b[0;34m\u001b[0m\u001b[0m\n\u001b[0m\u001b[1;32m    257\u001b[0m                 \u001b[0mshow_inline_matplotlib_plots\u001b[0m\u001b[0;34m(\u001b[0m\u001b[0;34m)\u001b[0m\u001b[0;34m\u001b[0m\u001b[0;34m\u001b[0m\u001b[0m\n\u001b[1;32m    258\u001b[0m                 \u001b[0;32mif\u001b[0m \u001b[0mself\u001b[0m\u001b[0;34m.\u001b[0m\u001b[0mauto_display\u001b[0m \u001b[0;32mand\u001b[0m \u001b[0mself\u001b[0m\u001b[0;34m.\u001b[0m\u001b[0mresult\u001b[0m \u001b[0;32mis\u001b[0m \u001b[0;32mnot\u001b[0m \u001b[0;32mNone\u001b[0m\u001b[0;34m:\u001b[0m\u001b[0;34m\u001b[0m\u001b[0;34m\u001b[0m\u001b[0m\n",
          "\u001b[0;32m<ipython-input-83-4514a2051d1b>\u001b[0m in \u001b[0;36mcustom_classify\u001b[0;34m(cap_shape, cap_surface, cap_color, bruises, odor, gill_attachment, gill_spacing, gill_size, gill_color, stalk_shape, stalk_root, stalk_surface_above_ring, stalk_surface_below_ring, stalk_color_above_ring, stalk_color_below_ring, veil_type, veil_color, ring_number, ring_type, spore_print_color, population, habitat)\u001b[0m\n\u001b[1;32m    197\u001b[0m     \u001b[0mprobabilities\u001b[0m \u001b[0;34m=\u001b[0m \u001b[0mnaive_bayes_classify\u001b[0m\u001b[0;34m(\u001b[0m\u001b[0mfeatures\u001b[0m\u001b[0;34m)\u001b[0m\u001b[0;34m\u001b[0m\u001b[0;34m\u001b[0m\u001b[0m\n\u001b[1;32m    198\u001b[0m     \u001b[0mprint\u001b[0m\u001b[0;34m(\u001b[0m\u001b[0mprobabilities\u001b[0m\u001b[0;34m)\u001b[0m\u001b[0;34m\u001b[0m\u001b[0;34m\u001b[0m\u001b[0m\n\u001b[0;32m--> 199\u001b[0;31m     \u001b[0msns\u001b[0m\u001b[0;34m.\u001b[0m\u001b[0mbarplot\u001b[0m\u001b[0;34m(\u001b[0m\u001b[0mx\u001b[0m\u001b[0;34m=\u001b[0m\u001b[0mprobabilities\u001b[0m\u001b[0;34m.\u001b[0m\u001b[0mindex\u001b[0m\u001b[0;34m,\u001b[0m \u001b[0my\u001b[0m\u001b[0;34m=\u001b[0m\u001b[0mprobabilities\u001b[0m\u001b[0;34m)\u001b[0m\u001b[0;34m\u001b[0m\u001b[0;34m\u001b[0m\u001b[0m\n\u001b[0m",
          "\u001b[0;32m~/Documents/GitHub/andys-notebook/venv/lib/python3.9/site-packages/seaborn/_decorators.py\u001b[0m in \u001b[0;36minner_f\u001b[0;34m(*args, **kwargs)\u001b[0m\n\u001b[1;32m     44\u001b[0m             )\n\u001b[1;32m     45\u001b[0m         \u001b[0mkwargs\u001b[0m\u001b[0;34m.\u001b[0m\u001b[0mupdate\u001b[0m\u001b[0;34m(\u001b[0m\u001b[0;34m{\u001b[0m\u001b[0mk\u001b[0m\u001b[0;34m:\u001b[0m \u001b[0marg\u001b[0m \u001b[0;32mfor\u001b[0m \u001b[0mk\u001b[0m\u001b[0;34m,\u001b[0m \u001b[0marg\u001b[0m \u001b[0;32min\u001b[0m \u001b[0mzip\u001b[0m\u001b[0;34m(\u001b[0m\u001b[0msig\u001b[0m\u001b[0;34m.\u001b[0m\u001b[0mparameters\u001b[0m\u001b[0;34m,\u001b[0m \u001b[0margs\u001b[0m\u001b[0;34m)\u001b[0m\u001b[0;34m}\u001b[0m\u001b[0;34m)\u001b[0m\u001b[0;34m\u001b[0m\u001b[0;34m\u001b[0m\u001b[0m\n\u001b[0;32m---> 46\u001b[0;31m         \u001b[0;32mreturn\u001b[0m \u001b[0mf\u001b[0m\u001b[0;34m(\u001b[0m\u001b[0;34m**\u001b[0m\u001b[0mkwargs\u001b[0m\u001b[0;34m)\u001b[0m\u001b[0;34m\u001b[0m\u001b[0;34m\u001b[0m\u001b[0m\n\u001b[0m\u001b[1;32m     47\u001b[0m     \u001b[0;32mreturn\u001b[0m \u001b[0minner_f\u001b[0m\u001b[0;34m\u001b[0m\u001b[0;34m\u001b[0m\u001b[0m\n\u001b[1;32m     48\u001b[0m \u001b[0;34m\u001b[0m\u001b[0m\n",
          "\u001b[0;32m~/Documents/GitHub/andys-notebook/venv/lib/python3.9/site-packages/seaborn/categorical.py\u001b[0m in \u001b[0;36mbarplot\u001b[0;34m(x, y, hue, data, order, hue_order, estimator, ci, n_boot, units, seed, orient, color, palette, saturation, errcolor, errwidth, capsize, dodge, ax, **kwargs)\u001b[0m\n\u001b[1;32m   3177\u001b[0m ):\n\u001b[1;32m   3178\u001b[0m \u001b[0;34m\u001b[0m\u001b[0m\n\u001b[0;32m-> 3179\u001b[0;31m     plotter = _BarPlotter(x, y, hue, data, order, hue_order,\n\u001b[0m\u001b[1;32m   3180\u001b[0m                           \u001b[0mestimator\u001b[0m\u001b[0;34m,\u001b[0m \u001b[0mci\u001b[0m\u001b[0;34m,\u001b[0m \u001b[0mn_boot\u001b[0m\u001b[0;34m,\u001b[0m \u001b[0munits\u001b[0m\u001b[0;34m,\u001b[0m \u001b[0mseed\u001b[0m\u001b[0;34m,\u001b[0m\u001b[0;34m\u001b[0m\u001b[0;34m\u001b[0m\u001b[0m\n\u001b[1;32m   3181\u001b[0m                           \u001b[0morient\u001b[0m\u001b[0;34m,\u001b[0m \u001b[0mcolor\u001b[0m\u001b[0;34m,\u001b[0m \u001b[0mpalette\u001b[0m\u001b[0;34m,\u001b[0m \u001b[0msaturation\u001b[0m\u001b[0;34m,\u001b[0m\u001b[0;34m\u001b[0m\u001b[0;34m\u001b[0m\u001b[0m\n",
          "\u001b[0;32m~/Documents/GitHub/andys-notebook/venv/lib/python3.9/site-packages/seaborn/categorical.py\u001b[0m in \u001b[0;36m__init__\u001b[0;34m(self, x, y, hue, data, order, hue_order, estimator, ci, n_boot, units, seed, orient, color, palette, saturation, errcolor, errwidth, capsize, dodge)\u001b[0m\n\u001b[1;32m   1582\u001b[0m                  errwidth, capsize, dodge):\n\u001b[1;32m   1583\u001b[0m         \u001b[0;34m\"\"\"Initialize the plotter.\"\"\"\u001b[0m\u001b[0;34m\u001b[0m\u001b[0;34m\u001b[0m\u001b[0m\n\u001b[0;32m-> 1584\u001b[0;31m         self.establish_variables(x, y, hue, data, orient,\n\u001b[0m\u001b[1;32m   1585\u001b[0m                                  order, hue_order, units)\n\u001b[1;32m   1586\u001b[0m         \u001b[0mself\u001b[0m\u001b[0;34m.\u001b[0m\u001b[0mestablish_colors\u001b[0m\u001b[0;34m(\u001b[0m\u001b[0mcolor\u001b[0m\u001b[0;34m,\u001b[0m \u001b[0mpalette\u001b[0m\u001b[0;34m,\u001b[0m \u001b[0msaturation\u001b[0m\u001b[0;34m)\u001b[0m\u001b[0;34m\u001b[0m\u001b[0;34m\u001b[0m\u001b[0m\n",
          "\u001b[0;32m~/Documents/GitHub/andys-notebook/venv/lib/python3.9/site-packages/seaborn/categorical.py\u001b[0m in \u001b[0;36mestablish_variables\u001b[0;34m(self, x, y, hue, data, orient, order, hue_order, units)\u001b[0m\n\u001b[1;32m    151\u001b[0m                 \u001b[0;32mif\u001b[0m \u001b[0misinstance\u001b[0m\u001b[0;34m(\u001b[0m\u001b[0mvar\u001b[0m\u001b[0;34m,\u001b[0m \u001b[0mstr\u001b[0m\u001b[0;34m)\u001b[0m\u001b[0;34m:\u001b[0m\u001b[0;34m\u001b[0m\u001b[0;34m\u001b[0m\u001b[0m\n\u001b[1;32m    152\u001b[0m                     \u001b[0merr\u001b[0m \u001b[0;34m=\u001b[0m \u001b[0;34m\"Could not interpret input '{}'\"\u001b[0m\u001b[0;34m.\u001b[0m\u001b[0mformat\u001b[0m\u001b[0;34m(\u001b[0m\u001b[0mvar\u001b[0m\u001b[0;34m)\u001b[0m\u001b[0;34m\u001b[0m\u001b[0;34m\u001b[0m\u001b[0m\n\u001b[0;32m--> 153\u001b[0;31m                     \u001b[0;32mraise\u001b[0m \u001b[0mValueError\u001b[0m\u001b[0;34m(\u001b[0m\u001b[0merr\u001b[0m\u001b[0;34m)\u001b[0m\u001b[0;34m\u001b[0m\u001b[0;34m\u001b[0m\u001b[0m\n\u001b[0m\u001b[1;32m    154\u001b[0m \u001b[0;34m\u001b[0m\u001b[0m\n\u001b[1;32m    155\u001b[0m             \u001b[0;31m# Figure out the plotting orientation\u001b[0m\u001b[0;34m\u001b[0m\u001b[0;34m\u001b[0m\u001b[0;34m\u001b[0m\u001b[0m\n",
          "\u001b[0;31mValueError\u001b[0m: Could not interpret input 'e'"
         ]
        }
       ]
      }
     },
     "e7084811af5841f48eec7d91a4f466f3": {
      "model_module": "@jupyter-widgets/controls",
      "model_module_version": "1.5.0",
      "model_name": "DropdownModel",
      "state": {
       "_options_labels": [
        "Partial",
        "Universal"
       ],
       "description": "veil_type",
       "index": 0,
       "layout": "IPY_MODEL_4b87cbdf0b6d4ecba1584c36f204e319",
       "style": "IPY_MODEL_2d30f706d6c549b9a132944e94f1496e"
      }
     },
     "e72a21646cf340aea5864d4a0353002b": {
      "model_module": "@jupyter-widgets/base",
      "model_module_version": "1.2.0",
      "model_name": "LayoutModel",
      "state": {}
     },
     "e748ce64e97640449304c9f4b0e824e5": {
      "model_module": "@jupyter-widgets/controls",
      "model_module_version": "1.5.0",
      "model_name": "VBoxModel",
      "state": {
       "_dom_classes": [
        "widget-interact"
       ],
       "children": [
        "IPY_MODEL_7726f1a34f8b4db583080caf1ab23357",
        "IPY_MODEL_d55e9ad7e8684ef3b8ce9eef14ac7cc4",
        "IPY_MODEL_9b6e2ec072ac4579b79bcef59bea3cc5",
        "IPY_MODEL_3cb1979f35514789a91b49960eaf9a3f",
        "IPY_MODEL_b24c4357086e4c8a8be3f5806c085c26",
        "IPY_MODEL_bd0d2181281e4a13ac08f7647dd01c6d",
        "IPY_MODEL_4b2cba7317784b66a9656eea3287f964",
        "IPY_MODEL_72ca84b7facb4eb8a370204c10294656",
        "IPY_MODEL_11a7594468e44644a2e09ae1120bf38f",
        "IPY_MODEL_5e536519bcc94c668275379b0b084368",
        "IPY_MODEL_2fb9f76e9cab46aeb5077c0552e8cada",
        "IPY_MODEL_cc4eea1a02b441cb96c5a5ff9255b34c",
        "IPY_MODEL_7fc9942808fc4f99a095d6ad83772d0b"
       ],
       "layout": "IPY_MODEL_b02fc269610c408da5085e95d84ce3c0"
      }
     },
     "e77df3c047b3400b932b1214ed09b152": {
      "model_module": "@jupyter-widgets/controls",
      "model_module_version": "1.5.0",
      "model_name": "DropdownModel",
      "state": {
       "_options_labels": [
        "Fiberous",
        "Scaly",
        "Silky",
        "Smooth"
       ],
       "description": "stalk_surface_below_ring",
       "index": 0,
       "layout": "IPY_MODEL_393d7f2740c649fbbdad2df7770c6f0e",
       "style": "IPY_MODEL_08a992c6a0194da6b84743ceba8c0da3"
      }
     },
     "e786529fbcdf49948e1cab53b8e00041": {
      "model_module": "@jupyter-widgets/output",
      "model_module_version": "1.0.0",
      "model_name": "OutputModel",
      "state": {
       "layout": "IPY_MODEL_b03e0a5706e744749fc38984cde13c8b",
       "outputs": [
        {
         "name": "stdout",
         "output_type": "stream",
         "text": "cap-shape\ncap-surface\ncap-color\nbruises\nodor\ngill-attachment\ngill-spacing\ngill-size\ngill-color\nstalk-shape\nstalk-root\nstalk-surface-above-ring\nstalk-surface-below-ring\nstalk-color-above-ring\nstalk-color-below-ring\nveil-type\nveil-color\nring-number\nring-type\nspore-print-color\npopulation\n"
        },
        {
         "ename": "KeyError",
         "evalue": "'population'",
         "output_type": "error",
         "traceback": [
          "\u001b[0;31m---------------------------------------------------------------------------\u001b[0m",
          "\u001b[0;31mKeyError\u001b[0m                                  Traceback (most recent call last)",
          "\u001b[0;32m~/Documents/GitHub/andys-notebook/venv/lib/python3.9/site-packages/ipywidgets/widgets/interaction.py\u001b[0m in \u001b[0;36mupdate\u001b[0;34m(self, *args)\u001b[0m\n\u001b[1;32m    254\u001b[0m                     \u001b[0mvalue\u001b[0m \u001b[0;34m=\u001b[0m \u001b[0mwidget\u001b[0m\u001b[0;34m.\u001b[0m\u001b[0mget_interact_value\u001b[0m\u001b[0;34m(\u001b[0m\u001b[0;34m)\u001b[0m\u001b[0;34m\u001b[0m\u001b[0;34m\u001b[0m\u001b[0m\n\u001b[1;32m    255\u001b[0m                     \u001b[0mself\u001b[0m\u001b[0;34m.\u001b[0m\u001b[0mkwargs\u001b[0m\u001b[0;34m[\u001b[0m\u001b[0mwidget\u001b[0m\u001b[0;34m.\u001b[0m\u001b[0m_kwarg\u001b[0m\u001b[0;34m]\u001b[0m \u001b[0;34m=\u001b[0m \u001b[0mvalue\u001b[0m\u001b[0;34m\u001b[0m\u001b[0;34m\u001b[0m\u001b[0m\n\u001b[0;32m--> 256\u001b[0;31m                 \u001b[0mself\u001b[0m\u001b[0;34m.\u001b[0m\u001b[0mresult\u001b[0m \u001b[0;34m=\u001b[0m \u001b[0mself\u001b[0m\u001b[0;34m.\u001b[0m\u001b[0mf\u001b[0m\u001b[0;34m(\u001b[0m\u001b[0;34m**\u001b[0m\u001b[0mself\u001b[0m\u001b[0;34m.\u001b[0m\u001b[0mkwargs\u001b[0m\u001b[0;34m)\u001b[0m\u001b[0;34m\u001b[0m\u001b[0;34m\u001b[0m\u001b[0m\n\u001b[0m\u001b[1;32m    257\u001b[0m                 \u001b[0mshow_inline_matplotlib_plots\u001b[0m\u001b[0;34m(\u001b[0m\u001b[0;34m)\u001b[0m\u001b[0;34m\u001b[0m\u001b[0;34m\u001b[0m\u001b[0m\n\u001b[1;32m    258\u001b[0m                 \u001b[0;32mif\u001b[0m \u001b[0mself\u001b[0m\u001b[0;34m.\u001b[0m\u001b[0mauto_display\u001b[0m \u001b[0;32mand\u001b[0m \u001b[0mself\u001b[0m\u001b[0;34m.\u001b[0m\u001b[0mresult\u001b[0m \u001b[0;32mis\u001b[0m \u001b[0;32mnot\u001b[0m \u001b[0;32mNone\u001b[0m\u001b[0;34m:\u001b[0m\u001b[0;34m\u001b[0m\u001b[0;34m\u001b[0m\u001b[0m\n",
          "\u001b[0;32m<ipython-input-62-5260bf639d3c>\u001b[0m in \u001b[0;36mcustom_classify\u001b[0;34m(cap_shape, cap_surface, cap_color, bruises, odor, gill_attachment, gill_spacing, gill_size, gill_color, stalk_shape, stalk_root, stalk_surface_above_ring, stalk_surface_below_ring, stalk_color_above_ring, stalk_color_below_ring, veil_type, veil_color, ring_number, ring_type, spore_print_color, population, habitat)\u001b[0m\n\u001b[1;32m    197\u001b[0m \u001b[0;34m\u001b[0m\u001b[0m\n\u001b[1;32m    198\u001b[0m     \u001b[0;31m# Return class probabilities\u001b[0m\u001b[0;34m\u001b[0m\u001b[0;34m\u001b[0m\u001b[0;34m\u001b[0m\u001b[0m\n\u001b[0;32m--> 199\u001b[0;31m     \u001b[0mprobabilities\u001b[0m \u001b[0;34m=\u001b[0m \u001b[0mnaive_bayes_classify\u001b[0m\u001b[0;34m(\u001b[0m\u001b[0mfeatures\u001b[0m\u001b[0;34m,\u001b[0m \u001b[0mprobs\u001b[0m\u001b[0;34m=\u001b[0m\u001b[0;32mTrue\u001b[0m\u001b[0;34m)\u001b[0m\u001b[0;34m\u001b[0m\u001b[0;34m\u001b[0m\u001b[0m\n\u001b[0m",
          "\u001b[0;32m<ipython-input-60-b74615125833>\u001b[0m in \u001b[0;36mnaive_bayes_classify\u001b[0;34m(sample, probs)\u001b[0m\n\u001b[1;32m     16\u001b[0m     \u001b[0;32mfor\u001b[0m \u001b[0mcolumn\u001b[0m\u001b[0;34m,\u001b[0m \u001b[0mtable\u001b[0m \u001b[0;32min\u001b[0m \u001b[0mlikelihoods\u001b[0m\u001b[0;34m.\u001b[0m\u001b[0mitems\u001b[0m\u001b[0;34m(\u001b[0m\u001b[0;34m)\u001b[0m\u001b[0;34m:\u001b[0m\u001b[0;34m\u001b[0m\u001b[0;34m\u001b[0m\u001b[0m\n\u001b[1;32m     17\u001b[0m         \u001b[0mprint\u001b[0m\u001b[0;34m(\u001b[0m\u001b[0mcolumn\u001b[0m\u001b[0;34m)\u001b[0m\u001b[0;34m\u001b[0m\u001b[0;34m\u001b[0m\u001b[0m\n\u001b[0;32m---> 18\u001b[0;31m         \u001b[0mprobability\u001b[0m \u001b[0;34m*=\u001b[0m \u001b[0mtable\u001b[0m\u001b[0;34m[\u001b[0m\u001b[0msample\u001b[0m\u001b[0;34m[\u001b[0m\u001b[0mcolumn\u001b[0m\u001b[0;34m]\u001b[0m\u001b[0;34m]\u001b[0m\u001b[0;34m.\u001b[0m\u001b[0mreindex_like\u001b[0m\u001b[0;34m(\u001b[0m\u001b[0mprobability\u001b[0m\u001b[0;34m)\u001b[0m\u001b[0;34m.\u001b[0m\u001b[0mfillna\u001b[0m\u001b[0;34m(\u001b[0m\u001b[0;36m0\u001b[0m\u001b[0;34m)\u001b[0m\u001b[0;34m\u001b[0m\u001b[0;34m\u001b[0m\u001b[0m\n\u001b[0m\u001b[1;32m     19\u001b[0m \u001b[0;34m\u001b[0m\u001b[0m\n\u001b[1;32m     20\u001b[0m     \u001b[0;31m# Return artifact\u001b[0m\u001b[0;34m\u001b[0m\u001b[0;34m\u001b[0m\u001b[0;34m\u001b[0m\u001b[0m\n",
          "\u001b[0;31mKeyError\u001b[0m: 'population'"
         ]
        }
       ]
      }
     },
     "e796ee0bb8134443bf458bd33d62b91c": {
      "model_module": "@jupyter-widgets/controls",
      "model_module_version": "1.5.0",
      "model_name": "DropdownModel",
      "state": {
       "_options_labels": [
        "Abundant",
        "Clustered",
        "Numerous",
        "Scattered",
        "Several",
        "Solitary"
       ],
       "description": "population",
       "index": 0,
       "layout": "IPY_MODEL_456963d163964fe79be010c86ceabaed",
       "style": "IPY_MODEL_58b234c1f70a499dbf84d3c32d986b0e"
      }
     },
     "e7a6a6cedd204dd4a05792f59d01248c": {
      "model_module": "@jupyter-widgets/controls",
      "model_module_version": "1.5.0",
      "model_name": "DescriptionStyleModel",
      "state": {
       "description_width": ""
      }
     },
     "e7b10209eb23417094c845eb3e0bc07b": {
      "model_module": "@jupyter-widgets/controls",
      "model_module_version": "1.5.0",
      "model_name": "DropdownModel",
      "state": {
       "_options_labels": [
        "None",
        "One",
        "Two"
       ],
       "description": "ring_number",
       "index": 0,
       "layout": "IPY_MODEL_ab378840c57744e6834ad039da2a95df",
       "style": "IPY_MODEL_bd240001a5b64f0fae82410925e685ee"
      }
     },
     "e7b695f2657447e6a0a38a8d2f4fc81b": {
      "model_module": "@jupyter-widgets/controls",
      "model_module_version": "1.5.0",
      "model_name": "DescriptionStyleModel",
      "state": {
       "description_width": ""
      }
     },
     "e7c528b9bf9040c88adf54ad45eaa98d": {
      "model_module": "@jupyter-widgets/controls",
      "model_module_version": "1.5.0",
      "model_name": "DescriptionStyleModel",
      "state": {
       "description_width": ""
      }
     },
     "e7f6bb8fd2b5492db7c6f2452aaad80c": {
      "model_module": "@jupyter-widgets/controls",
      "model_module_version": "1.5.0",
      "model_name": "DropdownModel",
      "state": {
       "_options_labels": [
        "Brown",
        "Buff",
        "Cinnamon",
        "Gray",
        "Orange",
        "Pink",
        "Red",
        "White",
        "Yellow"
       ],
       "description": "stalk_color_below_ring",
       "index": 0,
       "layout": "IPY_MODEL_df5e3a94bb484ec69e922c36c8ecb110",
       "style": "IPY_MODEL_b3b104d92ca848cd86d1baa7133c56b3"
      }
     },
     "e7fc19836a0d41dcb7af5ec6c223167f": {
      "model_module": "@jupyter-widgets/base",
      "model_module_version": "1.2.0",
      "model_name": "LayoutModel",
      "state": {}
     },
     "e809cd9da56744c3a0b9ccdbb80550d5": {
      "model_module": "@jupyter-widgets/controls",
      "model_module_version": "1.5.0",
      "model_name": "DropdownModel",
      "state": {
       "_options_labels": [
        "Grasses",
        "Leaves",
        "Meadows",
        "Paths",
        "Urban",
        "Waste",
        "Woods"
       ],
       "description": "habitat",
       "index": 0,
       "layout": "IPY_MODEL_4a7463dad8a24c58bea7f571d19cc7ac",
       "style": "IPY_MODEL_b6d3a436ee9e4f60b6a6cc5d6a2cf7a4"
      }
     },
     "e858202670bd4678877b63851813d43f": {
      "model_module": "@jupyter-widgets/base",
      "model_module_version": "1.2.0",
      "model_name": "LayoutModel",
      "state": {}
     },
     "e8b39bd2f41940a2b0019e988a8f6d71": {
      "model_module": "@jupyter-widgets/controls",
      "model_module_version": "1.5.0",
      "model_name": "DropdownModel",
      "state": {
       "_options_labels": [
        "Bruises",
        "No Bruises"
       ],
       "description": "bruises",
       "index": 0,
       "layout": "IPY_MODEL_2facdf0bc19c4e12ac5992ab369d086b",
       "style": "IPY_MODEL_83ad3b859f60474490822fa017e89902"
      }
     },
     "e8cb240c096c4158813252d143333cd4": {
      "model_module": "@jupyter-widgets/controls",
      "model_module_version": "1.5.0",
      "model_name": "VBoxModel",
      "state": {
       "_dom_classes": [
        "widget-interact"
       ],
       "children": [
        "IPY_MODEL_9535dfadb33b4ed28639c8c0e467889b",
        "IPY_MODEL_66bed134995a4f0ba26836d982d85e33",
        "IPY_MODEL_012fe75521b04af18f8b0d0dba983e6a",
        "IPY_MODEL_182f319ee5994631bd3e2644e97d25aa",
        "IPY_MODEL_176fc39bd70040f887cdbc4e5f349154",
        "IPY_MODEL_2ee7ab1bc73048e8aa769b5607e2cbaf",
        "IPY_MODEL_cfadfe980ece4eb4a82361d4b0784324",
        "IPY_MODEL_9a70b45b354545d18673c58257de564b",
        "IPY_MODEL_88e6f3f4015b4ea19512142c1258e0ea",
        "IPY_MODEL_6bc3338665bd45fdaecb1295bd7703fe",
        "IPY_MODEL_c854a0e8cb224823b4a4fcc561ca765c",
        "IPY_MODEL_7f835b2195ba4f6c8e240063afac92df",
        "IPY_MODEL_d412d1ca61b44873ac2817c6fa1b63b8",
        "IPY_MODEL_58b51d28e3e44e2a88203c7bc09bb3ae",
        "IPY_MODEL_c82ad462db794abd8044a1cd41274739",
        "IPY_MODEL_bdd99a1c5e294128ba20489357c66870",
        "IPY_MODEL_05e09350f4bf40359d9c9563af8b4d25",
        "IPY_MODEL_63aa030484984d1fb813f1937e77a979",
        "IPY_MODEL_1003e2e251014d4c810724a085ea4e44",
        "IPY_MODEL_60c38a66527748418690fb782dd829bf",
        "IPY_MODEL_e2c40b0ba336474db955331b4c7b6c84",
        "IPY_MODEL_8b2e4df35fdd46c7b31d173212943708"
       ],
       "layout": "IPY_MODEL_f1510ea0ad32415a84c3c30eacf962a6"
      }
     },
     "e8dc9892e55e4cd1af3655041f415f9f": {
      "model_module": "@jupyter-widgets/controls",
      "model_module_version": "1.5.0",
      "model_name": "DropdownModel",
      "state": {
       "_options_labels": [
        "Black",
        "Brown",
        "Buff",
        "Chocolate",
        "Green",
        "Orange",
        "Purple",
        "White",
        "Yellow"
       ],
       "description": "spore_print_color",
       "index": 0,
       "layout": "IPY_MODEL_907bfe9829b748d19d319c7a7dad787c",
       "style": "IPY_MODEL_e112a5e37e1d45b280ebdd806d7bf50c"
      }
     },
     "e90e9e31625f41c5b683c7134391c197": {
      "model_module": "@jupyter-widgets/controls",
      "model_module_version": "1.5.0",
      "model_name": "DescriptionStyleModel",
      "state": {
       "description_width": ""
      }
     },
     "e91fcf8ebf144a318d9fcf19f172af40": {
      "model_module": "@jupyter-widgets/controls",
      "model_module_version": "1.5.0",
      "model_name": "DropdownModel",
      "state": {
       "_options_labels": [
        "Grasses",
        "Leaves",
        "Meadows",
        "Paths",
        "Urban",
        "Waste",
        "Woods"
       ],
       "description": "habitat",
       "index": 0,
       "layout": "IPY_MODEL_008911abc8fa41fa850e5cc59e5249fe",
       "style": "IPY_MODEL_fc32a288dd6d40a8929ddc4dd18fc8bf"
      }
     },
     "e935daf652164806bc9c3f27c9720c4c": {
      "model_module": "@jupyter-widgets/controls",
      "model_module_version": "1.5.0",
      "model_name": "DescriptionStyleModel",
      "state": {
       "description_width": ""
      }
     },
     "e93a827e769044ee9ee8382e0e614a01": {
      "model_module": "@jupyter-widgets/controls",
      "model_module_version": "1.5.0",
      "model_name": "DropdownModel",
      "state": {
       "_options_labels": [
        "Black",
        "Brown",
        "Buff",
        "Chocolate",
        "Green",
        "Orange",
        "Purple",
        "White",
        "Yellow"
       ],
       "description": "spore_print_color",
       "index": 0,
       "layout": "IPY_MODEL_08217d28d97b4163a406a4d7b3deed8e",
       "style": "IPY_MODEL_903e8656372349f9804bb07105313388"
      }
     },
     "e94ea2553a8d4c338b2d314b0b9137a0": {
      "model_module": "@jupyter-widgets/controls",
      "model_module_version": "1.5.0",
      "model_name": "DropdownModel",
      "state": {
       "_options_labels": [
        "Almond",
        "Anise",
        "Creosote",
        "Fishy",
        "Foul",
        "Musty",
        "None",
        "Pungent",
        "Spicy"
       ],
       "description": "odor",
       "index": 0,
       "layout": "IPY_MODEL_c960598f4235407cae97b38f20c79c83",
       "style": "IPY_MODEL_3a9d9a81d9354d589e930e299eb7c920"
      }
     },
     "e9513634776c458a8a4c201ee2c225d5": {
      "model_module": "@jupyter-widgets/base",
      "model_module_version": "1.2.0",
      "model_name": "LayoutModel",
      "state": {}
     },
     "e9718eb82da14edc9eafaad6bde48027": {
      "model_module": "@jupyter-widgets/controls",
      "model_module_version": "1.5.0",
      "model_name": "DescriptionStyleModel",
      "state": {
       "description_width": ""
      }
     },
     "e9b69a0d2d8941c1a04603a639d5bffe": {
      "model_module": "@jupyter-widgets/base",
      "model_module_version": "1.2.0",
      "model_name": "LayoutModel",
      "state": {}
     },
     "e9c3c56e514d4820aeca8e2a6e2c2aeb": {
      "model_module": "@jupyter-widgets/controls",
      "model_module_version": "1.5.0",
      "model_name": "DescriptionStyleModel",
      "state": {
       "description_width": ""
      }
     },
     "e9d1930991ad406c9465b740ee6da46a": {
      "model_module": "@jupyter-widgets/controls",
      "model_module_version": "1.5.0",
      "model_name": "DropdownModel",
      "state": {
       "_options_labels": [
        "Brown",
        "Buff",
        "Cinnamon",
        "Gray",
        "Green",
        "Pink",
        "Purple",
        "Red",
        "White",
        "Yellow"
       ],
       "description": "cap_color",
       "index": 2,
       "layout": "IPY_MODEL_ef3e77255192417ca5bbfdb255ab613b",
       "style": "IPY_MODEL_0fe73f95a5d24cc68e2342bfd4ef6c6d"
      }
     },
     "e9db3e6c29174dda924224a3259400bd": {
      "model_module": "@jupyter-widgets/controls",
      "model_module_version": "1.5.0",
      "model_name": "DescriptionStyleModel",
      "state": {
       "description_width": ""
      }
     },
     "e9dfe6a8afca40d493ad6660963fbd7e": {
      "model_module": "@jupyter-widgets/controls",
      "model_module_version": "1.5.0",
      "model_name": "DescriptionStyleModel",
      "state": {
       "description_width": ""
      }
     },
     "e9f2e23e05fb4a5ab72098bc79984421": {
      "model_module": "@jupyter-widgets/controls",
      "model_module_version": "1.5.0",
      "model_name": "DescriptionStyleModel",
      "state": {
       "description_width": ""
      }
     },
     "ea32d3d7f3884969bd70a20be28fa30e": {
      "model_module": "@jupyter-widgets/base",
      "model_module_version": "1.2.0",
      "model_name": "LayoutModel",
      "state": {}
     },
     "ea546fe32c15435cae9b9726500594ee": {
      "model_module": "@jupyter-widgets/controls",
      "model_module_version": "1.5.0",
      "model_name": "DescriptionStyleModel",
      "state": {
       "description_width": ""
      }
     },
     "ea7233e8d7a9497a95c4c254db0b78f8": {
      "model_module": "@jupyter-widgets/base",
      "model_module_version": "1.2.0",
      "model_name": "LayoutModel",
      "state": {}
     },
     "eab277b3619a497bba8ec95d83f5a8d4": {
      "model_module": "@jupyter-widgets/base",
      "model_module_version": "1.2.0",
      "model_name": "LayoutModel",
      "state": {}
     },
     "eb2b49d49ac647ec867f32e25d7e729c": {
      "model_module": "@jupyter-widgets/controls",
      "model_module_version": "1.5.0",
      "model_name": "DropdownModel",
      "state": {
       "_options_labels": [
        "Brown",
        "Buff",
        "Cinnamon",
        "Gray",
        "Orange",
        "Pink",
        "Red",
        "White",
        "Yellow"
       ],
       "description": "stalk_color_above_ring",
       "index": 0,
       "layout": "IPY_MODEL_f7fd401b8738474a807fafcf50d359f7",
       "style": "IPY_MODEL_6af9cbab727f4fefb46c696d7e9935e2"
      }
     },
     "eb656aae997f40c194ad7ae820b77efe": {
      "model_module": "@jupyter-widgets/controls",
      "model_module_version": "1.5.0",
      "model_name": "DescriptionStyleModel",
      "state": {
       "description_width": ""
      }
     },
     "eb902edf7c5f4348bc3e6e9e1410ebfb": {
      "model_module": "@jupyter-widgets/controls",
      "model_module_version": "1.5.0",
      "model_name": "DescriptionStyleModel",
      "state": {
       "description_width": ""
      }
     },
     "ebc77f4ef7194b31bbdfaa9a412d4c72": {
      "model_module": "@jupyter-widgets/output",
      "model_module_version": "1.0.0",
      "model_name": "OutputModel",
      "state": {
       "layout": "IPY_MODEL_4f9418f4f3814e3b864432e81d6980a1",
       "outputs": [
        {
         "name": "stdout",
         "output_type": "stream",
         "text": "{'cap-shape': 'b', 'cap-surface': 'f', 'cap-color': 'n', 'bruises': 't', 'odor': 'a', 'gill-attachment': 'a', 'gill-spacing': 'c', 'gill-color': 'k', 'stalk-shape': 'e', 'stalk-root': 'b', 'stalk-surface-above-ring': 'f', 'stalk-surface-below-ring': 'f', 'stalk-color-above-ring': 'n', 'stalk-color-below-ring': 'n', 'veil-type': 'p', 'veil-color': 'n', 'ring-number': 'n', 'ring-type': 'c', 'spore-print-color': 'k', 'habitat': 'g'}\n"
        }
       ]
      }
     },
     "ebcb8b1d8fa14f3aaac4252e86c463b2": {
      "model_module": "@jupyter-widgets/base",
      "model_module_version": "1.2.0",
      "model_name": "LayoutModel",
      "state": {}
     },
     "ebcf3274155745d59ced3d8c178197e1": {
      "model_module": "@jupyter-widgets/controls",
      "model_module_version": "1.5.0",
      "model_name": "DropdownModel",
      "state": {
       "_options_labels": [
        "Brown",
        "Buff",
        "Cinnamon",
        "Gray",
        "Green",
        "Pink",
        "Purple",
        "Red",
        "White",
        "Yellow"
       ],
       "description": "cap_color",
       "index": 0,
       "layout": "IPY_MODEL_1fbd6a06d53541fbae44d5c9700accfb",
       "style": "IPY_MODEL_b570b2bec6df49c6876fda840079c92a"
      }
     },
     "ec7128ebce1a44faa8a461fd3f811f3e": {
      "model_module": "@jupyter-widgets/controls",
      "model_module_version": "1.5.0",
      "model_name": "DropdownModel",
      "state": {
       "_options_labels": [
        "Fiberous",
        "Grooves",
        "Scaly",
        "Smooth"
       ],
       "description": "cap_surface",
       "index": 0,
       "layout": "IPY_MODEL_45baf35c6f8a45a1b01965e40e02f396",
       "style": "IPY_MODEL_92fe38e2ef4e46e793e044472c76f642"
      }
     },
     "ecb07ed37db44d81817d1bca15e6792c": {
      "model_module": "@jupyter-widgets/base",
      "model_module_version": "1.2.0",
      "model_name": "LayoutModel",
      "state": {}
     },
     "ecbf9ee4ae304103bba5b45fdeeaea78": {
      "model_module": "@jupyter-widgets/base",
      "model_module_version": "1.2.0",
      "model_name": "LayoutModel",
      "state": {}
     },
     "ecd91df7f6324df0ad912c098801d4d5": {
      "model_module": "@jupyter-widgets/controls",
      "model_module_version": "1.5.0",
      "model_name": "DescriptionStyleModel",
      "state": {
       "description_width": ""
      }
     },
     "ece19e2210bc4eb688cc8b014f8e8fea": {
      "model_module": "@jupyter-widgets/controls",
      "model_module_version": "1.5.0",
      "model_name": "DescriptionStyleModel",
      "state": {
       "description_width": ""
      }
     },
     "ece3794b9ede4ec392d5b10e33ec0327": {
      "model_module": "@jupyter-widgets/controls",
      "model_module_version": "1.5.0",
      "model_name": "DescriptionStyleModel",
      "state": {
       "description_width": ""
      }
     },
     "ed0bd748e7cf4053aa232cddc3fbbe56": {
      "model_module": "@jupyter-widgets/controls",
      "model_module_version": "1.5.0",
      "model_name": "DescriptionStyleModel",
      "state": {
       "description_width": ""
      }
     },
     "ed30aa72d18143e992e4c16ef0cade83": {
      "model_module": "@jupyter-widgets/base",
      "model_module_version": "1.2.0",
      "model_name": "LayoutModel",
      "state": {}
     },
     "ed728ac50c634e2fb9b8d0a648caf7a6": {
      "model_module": "@jupyter-widgets/base",
      "model_module_version": "1.2.0",
      "model_name": "LayoutModel",
      "state": {}
     },
     "ed74582b70b744a2bdf57b7616ca0897": {
      "model_module": "@jupyter-widgets/controls",
      "model_module_version": "1.5.0",
      "model_name": "DropdownModel",
      "state": {
       "_options_labels": [
        "Abundant",
        "Clustered",
        "Numerous",
        "Scattered",
        "Several",
        "Solitary"
       ],
       "description": "population",
       "index": 0,
       "layout": "IPY_MODEL_7572969521fa4b35b4d55be3ca8ab782",
       "style": "IPY_MODEL_313e2a885fb24fb9b8951963b5563c15"
      }
     },
     "ed76a5f1a62f4e989dbf69ee28ee3597": {
      "model_module": "@jupyter-widgets/base",
      "model_module_version": "1.2.0",
      "model_name": "LayoutModel",
      "state": {}
     },
     "ed79f142dc664e96b86af44f54a21447": {
      "model_module": "@jupyter-widgets/controls",
      "model_module_version": "1.5.0",
      "model_name": "DropdownModel",
      "state": {
       "_options_labels": [
        "Bulbous",
        "Club",
        "Cup",
        "Equal",
        "Rhizomorphs",
        "Rooted",
        "Missing"
       ],
       "description": "stalk_root",
       "index": 6,
       "layout": "IPY_MODEL_8487f039e0ed43b496220971dc4221c9",
       "style": "IPY_MODEL_87547240e08a4a78847be5a073798ba8"
      }
     },
     "ed8a7dd77eaa4d47867590476242edc5": {
      "model_module": "@jupyter-widgets/controls",
      "model_module_version": "1.5.0",
      "model_name": "DropdownModel",
      "state": {
       "_options_labels": [
        "Grasses",
        "Leaves",
        "Meadows",
        "Paths",
        "Urban",
        "Waste",
        "Woods"
       ],
       "description": "habitat",
       "index": 0,
       "layout": "IPY_MODEL_4c7b7a5a2dcd4224b81e769299a0017c",
       "style": "IPY_MODEL_6bd08d4f3db94e02823f68f9689a4670"
      }
     },
     "ede8338562794c368d2ce73bbe654e46": {
      "model_module": "@jupyter-widgets/base",
      "model_module_version": "1.2.0",
      "model_name": "LayoutModel",
      "state": {}
     },
     "edea64ef778c4b62afe9ae0e30244777": {
      "model_module": "@jupyter-widgets/base",
      "model_module_version": "1.2.0",
      "model_name": "LayoutModel",
      "state": {}
     },
     "edfc3364b1a34e64a061c99543d58647": {
      "model_module": "@jupyter-widgets/controls",
      "model_module_version": "1.5.0",
      "model_name": "DescriptionStyleModel",
      "state": {
       "description_width": ""
      }
     },
     "ee0c07f6fc764d4e93dd06cd9c18da87": {
      "model_module": "@jupyter-widgets/base",
      "model_module_version": "1.2.0",
      "model_name": "LayoutModel",
      "state": {}
     },
     "ee13a57a8e624d0f9e56a6c52f831a75": {
      "model_module": "@jupyter-widgets/controls",
      "model_module_version": "1.5.0",
      "model_name": "DropdownModel",
      "state": {
       "_options_labels": [
        "Attached",
        "Descending",
        "Free",
        "Notched"
       ],
       "description": "gill_attachment",
       "index": 0,
       "layout": "IPY_MODEL_36feee29d73643358490cea80de2b4f3",
       "style": "IPY_MODEL_74596a8faeb149028a7b1c9c40e1d85e"
      }
     },
     "ee1efc0e3f54466183c8bea12531a6fa": {
      "model_module": "@jupyter-widgets/output",
      "model_module_version": "1.0.0",
      "model_name": "OutputModel",
      "state": {
       "layout": "IPY_MODEL_43b6a056432647b0bafeebc28a31cc51",
       "outputs": [
        {
         "ename": "KeyError",
         "evalue": "'gill-size'",
         "output_type": "error",
         "traceback": [
          "\u001b[0;31m---------------------------------------------------------------------------\u001b[0m",
          "\u001b[0;31mKeyError\u001b[0m                                  Traceback (most recent call last)",
          "\u001b[0;32m~/Documents/GitHub/andys-notebook/venv/lib/python3.9/site-packages/ipywidgets/widgets/interaction.py\u001b[0m in \u001b[0;36mupdate\u001b[0;34m(self, *args)\u001b[0m\n\u001b[1;32m    254\u001b[0m                     \u001b[0mvalue\u001b[0m \u001b[0;34m=\u001b[0m \u001b[0mwidget\u001b[0m\u001b[0;34m.\u001b[0m\u001b[0mget_interact_value\u001b[0m\u001b[0;34m(\u001b[0m\u001b[0;34m)\u001b[0m\u001b[0;34m\u001b[0m\u001b[0;34m\u001b[0m\u001b[0m\n\u001b[1;32m    255\u001b[0m                     \u001b[0mself\u001b[0m\u001b[0;34m.\u001b[0m\u001b[0mkwargs\u001b[0m\u001b[0;34m[\u001b[0m\u001b[0mwidget\u001b[0m\u001b[0;34m.\u001b[0m\u001b[0m_kwarg\u001b[0m\u001b[0;34m]\u001b[0m \u001b[0;34m=\u001b[0m \u001b[0mvalue\u001b[0m\u001b[0;34m\u001b[0m\u001b[0;34m\u001b[0m\u001b[0m\n\u001b[0;32m--> 256\u001b[0;31m                 \u001b[0mself\u001b[0m\u001b[0;34m.\u001b[0m\u001b[0mresult\u001b[0m \u001b[0;34m=\u001b[0m \u001b[0mself\u001b[0m\u001b[0;34m.\u001b[0m\u001b[0mf\u001b[0m\u001b[0;34m(\u001b[0m\u001b[0;34m**\u001b[0m\u001b[0mself\u001b[0m\u001b[0;34m.\u001b[0m\u001b[0mkwargs\u001b[0m\u001b[0;34m)\u001b[0m\u001b[0;34m\u001b[0m\u001b[0;34m\u001b[0m\u001b[0m\n\u001b[0m\u001b[1;32m    257\u001b[0m                 \u001b[0mshow_inline_matplotlib_plots\u001b[0m\u001b[0;34m(\u001b[0m\u001b[0;34m)\u001b[0m\u001b[0;34m\u001b[0m\u001b[0;34m\u001b[0m\u001b[0m\n\u001b[1;32m    258\u001b[0m                 \u001b[0;32mif\u001b[0m \u001b[0mself\u001b[0m\u001b[0;34m.\u001b[0m\u001b[0mauto_display\u001b[0m \u001b[0;32mand\u001b[0m \u001b[0mself\u001b[0m\u001b[0;34m.\u001b[0m\u001b[0mresult\u001b[0m \u001b[0;32mis\u001b[0m \u001b[0;32mnot\u001b[0m \u001b[0;32mNone\u001b[0m\u001b[0;34m:\u001b[0m\u001b[0;34m\u001b[0m\u001b[0;34m\u001b[0m\u001b[0m\n",
          "\u001b[0;32m<ipython-input-57-d84ba6e67f11>\u001b[0m in \u001b[0;36mcustom_classify\u001b[0;34m(cap_shape, cap_surface, cap_color, bruises, odor, gill_attachment, gill_spacing, gill_size, gill_color, stalk_shape, stalk_root, stalk_surface_above_ring, stalk_surface_below_ring, stalk_color_above_ring, stalk_color_below_ring, veil_type, veil_color, ring_number, ring_type, spore_print_color, population, habitat)\u001b[0m\n\u001b[1;32m    197\u001b[0m \u001b[0;34m\u001b[0m\u001b[0m\n\u001b[1;32m    198\u001b[0m     \u001b[0;31m# Return class probabilities\u001b[0m\u001b[0;34m\u001b[0m\u001b[0;34m\u001b[0m\u001b[0;34m\u001b[0m\u001b[0m\n\u001b[0;32m--> 199\u001b[0;31m     \u001b[0mprobabilities\u001b[0m \u001b[0;34m=\u001b[0m \u001b[0mnaive_bayes_classify\u001b[0m\u001b[0;34m(\u001b[0m\u001b[0mfeatures\u001b[0m\u001b[0;34m,\u001b[0m \u001b[0mprobs\u001b[0m\u001b[0;34m=\u001b[0m\u001b[0;32mTrue\u001b[0m\u001b[0;34m)\u001b[0m\u001b[0;34m\u001b[0m\u001b[0;34m\u001b[0m\u001b[0m\n\u001b[0m",
          "\u001b[0;32m<ipython-input-54-79b2bdb87d31>\u001b[0m in \u001b[0;36mnaive_bayes_classify\u001b[0;34m(sample, probs)\u001b[0m\n\u001b[1;32m     15\u001b[0m     \u001b[0;31m# Update our label probabilities using new likelihood\u001b[0m\u001b[0;34m\u001b[0m\u001b[0;34m\u001b[0m\u001b[0;34m\u001b[0m\u001b[0m\n\u001b[1;32m     16\u001b[0m     \u001b[0;32mfor\u001b[0m \u001b[0mcolumn\u001b[0m\u001b[0;34m,\u001b[0m \u001b[0mtable\u001b[0m \u001b[0;32min\u001b[0m \u001b[0mlikelihoods\u001b[0m\u001b[0;34m.\u001b[0m\u001b[0mitems\u001b[0m\u001b[0;34m(\u001b[0m\u001b[0;34m)\u001b[0m\u001b[0;34m:\u001b[0m\u001b[0;34m\u001b[0m\u001b[0;34m\u001b[0m\u001b[0m\n\u001b[0;32m---> 17\u001b[0;31m         \u001b[0mprobability\u001b[0m \u001b[0;34m*=\u001b[0m \u001b[0mtable\u001b[0m\u001b[0;34m[\u001b[0m\u001b[0msample\u001b[0m\u001b[0;34m[\u001b[0m\u001b[0mcolumn\u001b[0m\u001b[0;34m]\u001b[0m\u001b[0;34m]\u001b[0m\u001b[0;34m.\u001b[0m\u001b[0mreindex_like\u001b[0m\u001b[0;34m(\u001b[0m\u001b[0mprobability\u001b[0m\u001b[0;34m)\u001b[0m\u001b[0;34m.\u001b[0m\u001b[0mfillna\u001b[0m\u001b[0;34m(\u001b[0m\u001b[0;36m0\u001b[0m\u001b[0;34m)\u001b[0m\u001b[0;34m\u001b[0m\u001b[0;34m\u001b[0m\u001b[0m\n\u001b[0m\u001b[1;32m     18\u001b[0m \u001b[0;34m\u001b[0m\u001b[0m\n\u001b[1;32m     19\u001b[0m     \u001b[0;31m# Return artifact\u001b[0m\u001b[0;34m\u001b[0m\u001b[0;34m\u001b[0m\u001b[0;34m\u001b[0m\u001b[0m\n",
          "\u001b[0;31mKeyError\u001b[0m: 'gill-size'"
         ]
        }
       ]
      }
     },
     "ee3780fa92fe499ba04f94e83df460ac": {
      "model_module": "@jupyter-widgets/controls",
      "model_module_version": "1.5.0",
      "model_name": "DropdownModel",
      "state": {
       "_options_labels": [
        "Partial",
        "Universal"
       ],
       "description": "veil_type",
       "index": 0,
       "layout": "IPY_MODEL_9d497370ed32488dbc6d8a575671d9ad",
       "style": "IPY_MODEL_dfa06a659a30480eb6c988c38f45e887"
      }
     },
     "ee3e1a2a8015456b836af62f31dc4d4e": {
      "model_module": "@jupyter-widgets/controls",
      "model_module_version": "1.5.0",
      "model_name": "DescriptionStyleModel",
      "state": {
       "description_width": ""
      }
     },
     "eec0a14aaa1e4c138dc173c6852f0c7c": {
      "model_module": "@jupyter-widgets/controls",
      "model_module_version": "1.5.0",
      "model_name": "DescriptionStyleModel",
      "state": {
       "description_width": ""
      }
     },
     "eee6fe33993e4e4ea634abf8cb2f9fa0": {
      "model_module": "@jupyter-widgets/controls",
      "model_module_version": "1.5.0",
      "model_name": "DropdownModel",
      "state": {
       "_options_labels": [
        "Evanescent",
        "Flaring",
        "Large",
        "None",
        "Pendant",
        "Sheathing",
        "Zone"
       ],
       "description": "ring_type",
       "index": 0,
       "layout": "IPY_MODEL_fd846671971e497b94d0f530b7d8e00f",
       "style": "IPY_MODEL_7ae85e4c34674976a72d22f87808a877"
      }
     },
     "eef0b7eac3244d0691c8b242eb1c1e36": {
      "model_module": "@jupyter-widgets/base",
      "model_module_version": "1.2.0",
      "model_name": "LayoutModel",
      "state": {}
     },
     "eef94cce68ea4be39ca87dcc62c91d83": {
      "model_module": "@jupyter-widgets/controls",
      "model_module_version": "1.5.0",
      "model_name": "DescriptionStyleModel",
      "state": {
       "description_width": ""
      }
     },
     "ef3a36206f8a4963acc06e4bcb4bf3d9": {
      "model_module": "@jupyter-widgets/controls",
      "model_module_version": "1.5.0",
      "model_name": "DescriptionStyleModel",
      "state": {
       "description_width": ""
      }
     },
     "ef3e77255192417ca5bbfdb255ab613b": {
      "model_module": "@jupyter-widgets/base",
      "model_module_version": "1.2.0",
      "model_name": "LayoutModel",
      "state": {}
     },
     "ef5f6cbd20c0403198500d22435ad795": {
      "model_module": "@jupyter-widgets/base",
      "model_module_version": "1.2.0",
      "model_name": "LayoutModel",
      "state": {}
     },
     "efc8bd1e574e4772a22ba30e0e199854": {
      "model_module": "@jupyter-widgets/base",
      "model_module_version": "1.2.0",
      "model_name": "LayoutModel",
      "state": {}
     },
     "efca4c897dca4b7b8ae6d8003d12161c": {
      "model_module": "@jupyter-widgets/controls",
      "model_module_version": "1.5.0",
      "model_name": "DescriptionStyleModel",
      "state": {
       "description_width": ""
      }
     },
     "f038756b0ceb4ac68467bad2fdbab353": {
      "model_module": "@jupyter-widgets/controls",
      "model_module_version": "1.5.0",
      "model_name": "DescriptionStyleModel",
      "state": {
       "description_width": ""
      }
     },
     "f0389038ae534de0a4da67ee169c9ab0": {
      "model_module": "@jupyter-widgets/controls",
      "model_module_version": "1.5.0",
      "model_name": "DescriptionStyleModel",
      "state": {
       "description_width": ""
      }
     },
     "f04509f9f4b94c3794ab8ae3b739c6c1": {
      "model_module": "@jupyter-widgets/controls",
      "model_module_version": "1.5.0",
      "model_name": "DescriptionStyleModel",
      "state": {
       "description_width": ""
      }
     },
     "f09250a93b0b45e796ce4967c4d1f8d8": {
      "model_module": "@jupyter-widgets/controls",
      "model_module_version": "1.5.0",
      "model_name": "DropdownModel",
      "state": {
       "_options_labels": [
        "Attached",
        "Free"
       ],
       "description": "gill_attachment",
       "index": 0,
       "layout": "IPY_MODEL_9bbd57ca0326488e80580e22f56adcca",
       "style": "IPY_MODEL_4234a7a16657485893f9490f23b86e37"
      }
     },
     "f0960e39073a4f35a97effef208f1d0a": {
      "model_module": "@jupyter-widgets/base",
      "model_module_version": "1.2.0",
      "model_name": "LayoutModel",
      "state": {}
     },
     "f0a0bfe7a8d34a0d81b109ffc23605d4": {
      "model_module": "@jupyter-widgets/base",
      "model_module_version": "1.2.0",
      "model_name": "LayoutModel",
      "state": {}
     },
     "f0faa040ec6b48ef9080331ea292fc19": {
      "model_module": "@jupyter-widgets/controls",
      "model_module_version": "1.5.0",
      "model_name": "DescriptionStyleModel",
      "state": {
       "description_width": ""
      }
     },
     "f0fad409318c4543b5a204bcd4a444ea": {
      "model_module": "@jupyter-widgets/controls",
      "model_module_version": "1.5.0",
      "model_name": "DropdownModel",
      "state": {
       "_options_labels": [
        "Bell",
        "Conical",
        "Convex",
        "Flat",
        "Knobbed",
        "Sunken"
       ],
       "description": "cap_shape",
       "index": 0,
       "layout": "IPY_MODEL_62009ce518da41a8af0580be0f855128",
       "style": "IPY_MODEL_39bc9cd6ab3f4b33ab7fde548932a6f9"
      }
     },
     "f0fce9b19b994dacb5cd36ad6b72f97b": {
      "model_module": "@jupyter-widgets/controls",
      "model_module_version": "1.5.0",
      "model_name": "DescriptionStyleModel",
      "state": {
       "description_width": ""
      }
     },
     "f14db8da54f44b639af4e244b8d615e7": {
      "model_module": "@jupyter-widgets/controls",
      "model_module_version": "1.5.0",
      "model_name": "DropdownModel",
      "state": {
       "_options_labels": [
        "Bulbous",
        "Club",
        "Cup",
        "Equal",
        "Rhizomorphs",
        "Rooted",
        "Missing"
       ],
       "description": "stalk_root",
       "index": 0,
       "layout": "IPY_MODEL_a35fbeae596c43a48f56ddd3dea1f3cc",
       "style": "IPY_MODEL_6f0ef9d2b93f4c40b90b8d9095784366"
      }
     },
     "f1510ea0ad32415a84c3c30eacf962a6": {
      "model_module": "@jupyter-widgets/base",
      "model_module_version": "1.2.0",
      "model_name": "LayoutModel",
      "state": {}
     },
     "f15e1545a2554e1592dffdf9d70531be": {
      "model_module": "@jupyter-widgets/controls",
      "model_module_version": "1.5.0",
      "model_name": "DescriptionStyleModel",
      "state": {
       "description_width": ""
      }
     },
     "f1eef5c4fb0d4c4a9e8080d3082339dc": {
      "model_module": "@jupyter-widgets/base",
      "model_module_version": "1.2.0",
      "model_name": "LayoutModel",
      "state": {}
     },
     "f1f68b7007374f7b8e99060723d288c5": {
      "model_module": "@jupyter-widgets/base",
      "model_module_version": "1.2.0",
      "model_name": "LayoutModel",
      "state": {}
     },
     "f1fe244c31264e9cb58f6928e449b825": {
      "model_module": "@jupyter-widgets/controls",
      "model_module_version": "1.5.0",
      "model_name": "DropdownModel",
      "state": {
       "_options_labels": [
        "Fiberous",
        "Grooves",
        "Scaly",
        "Smooth"
       ],
       "description": "cap_surface",
       "index": 0,
       "layout": "IPY_MODEL_b73ba2bef61e4a06a967a6555ab47cb8",
       "style": "IPY_MODEL_f704233d5ec8427b848331ef151dacd0"
      }
     },
     "f1fe371965d4422e8cfd1eefa1ef056f": {
      "model_module": "@jupyter-widgets/controls",
      "model_module_version": "1.5.0",
      "model_name": "DropdownModel",
      "state": {
       "_options_labels": [
        "Fiberous",
        "Scaly",
        "Silky",
        "Smooth"
       ],
       "description": "stalk_surface_below_ring",
       "index": 0,
       "layout": "IPY_MODEL_e0a98de719c1408292ae13605987f56b",
       "style": "IPY_MODEL_68a1a45a02da483f9906bc2c2a285fdf"
      }
     },
     "f2337a4ec7fa47a6ae30d5d7554dda3e": {
      "model_module": "@jupyter-widgets/controls",
      "model_module_version": "1.5.0",
      "model_name": "DropdownModel",
      "state": {
       "_options_labels": [
        "Brown",
        "Buff",
        "Cinnamon",
        "Gray",
        "Orange",
        "Pink",
        "Red",
        "White",
        "Yellow"
       ],
       "description": "stalk_color_above_ring",
       "index": 0,
       "layout": "IPY_MODEL_438241811ecc4a17906d33ad81d9fd42",
       "style": "IPY_MODEL_cc30162164fa4ccab32086dfad0e0306"
      }
     },
     "f24f3570c5f040528daa0791a3d2ba9a": {
      "model_module": "@jupyter-widgets/controls",
      "model_module_version": "1.5.0",
      "model_name": "DescriptionStyleModel",
      "state": {
       "description_width": ""
      }
     },
     "f251202042c843e3b18834dbf93378b4": {
      "model_module": "@jupyter-widgets/base",
      "model_module_version": "1.2.0",
      "model_name": "LayoutModel",
      "state": {}
     },
     "f2968f7e40ed497db721f912ef0de76c": {
      "model_module": "@jupyter-widgets/controls",
      "model_module_version": "1.5.0",
      "model_name": "DropdownModel",
      "state": {
       "_options_labels": [
        "Bruises",
        "No Bruises"
       ],
       "description": "bruises",
       "index": 0,
       "layout": "IPY_MODEL_57638710143549d79dd78887f7ee4eb8",
       "style": "IPY_MODEL_d6e6dcd952ea41db8d01d175e110b3fc"
      }
     },
     "f2b2c45ccf6d43cd8fca2bcbbfa71e4f": {
      "model_module": "@jupyter-widgets/controls",
      "model_module_version": "1.5.0",
      "model_name": "DropdownModel",
      "state": {
       "_options_labels": [
        "Attached",
        "Descending",
        "Free",
        "Notched"
       ],
       "description": "gill_attachment",
       "index": 0,
       "layout": "IPY_MODEL_5d14a1abdfe14e7d912b2fd0f1b67bd2",
       "style": "IPY_MODEL_06ffe0851baf4be0a65445387849cb9d"
      }
     },
     "f2d4c431017949ff997ecb30c89dabde": {
      "model_module": "@jupyter-widgets/base",
      "model_module_version": "1.2.0",
      "model_name": "LayoutModel",
      "state": {}
     },
     "f35a057e5bb741fc8197b130b298a7e4": {
      "model_module": "@jupyter-widgets/controls",
      "model_module_version": "1.5.0",
      "model_name": "DropdownModel",
      "state": {
       "_options_labels": [
        "Fiberous",
        "Scaly",
        "Silky",
        "Smooth"
       ],
       "description": "stalk_surface_below_ring",
       "index": 0,
       "layout": "IPY_MODEL_d64d153a98ae428f939a476b57eab110",
       "style": "IPY_MODEL_5c4a659f9dbc4f55a5f5ae363a4c3e81"
      }
     },
     "f375d2d277c54fa48f0304706b13e1a2": {
      "model_module": "@jupyter-widgets/controls",
      "model_module_version": "1.5.0",
      "model_name": "DropdownModel",
      "state": {
       "_options_labels": [
        "Bulbous",
        "Club",
        "Cup",
        "Equal",
        "Rhizomorphs",
        "Rooted",
        "Missing"
       ],
       "description": "stalk_root",
       "index": 0,
       "layout": "IPY_MODEL_7f7ef5ee80244befad3d88bc76d438c4",
       "style": "IPY_MODEL_ba3e231294964e65bcf52b1364ef1397"
      }
     },
     "f39cf9a0e0784cc48e0975603b6db603": {
      "model_module": "@jupyter-widgets/controls",
      "model_module_version": "1.5.0",
      "model_name": "DropdownModel",
      "state": {
       "_options_labels": [
        "Bruises",
        "No Bruises"
       ],
       "description": "bruises",
       "index": 0,
       "layout": "IPY_MODEL_47e62ff9c8fc417693da5b639871e1ee",
       "style": "IPY_MODEL_db08d3f1a2a541959bd212fd3e83ed2d"
      }
     },
     "f3eed99828f6432795cfeeb5a46bcfc2": {
      "model_module": "@jupyter-widgets/controls",
      "model_module_version": "1.5.0",
      "model_name": "DescriptionStyleModel",
      "state": {
       "description_width": ""
      }
     },
     "f4130d06fa0741919a398a2cd658efdd": {
      "model_module": "@jupyter-widgets/base",
      "model_module_version": "1.2.0",
      "model_name": "LayoutModel",
      "state": {}
     },
     "f431c43427914bb6a55d09329d5a0826": {
      "model_module": "@jupyter-widgets/controls",
      "model_module_version": "1.5.0",
      "model_name": "DropdownModel",
      "state": {
       "_options_labels": [
        "Broad",
        "Narrow"
       ],
       "description": "gill_size",
       "index": 0,
       "layout": "IPY_MODEL_37ba757f08ba4529aede3c3bce98f089",
       "style": "IPY_MODEL_eb902edf7c5f4348bc3e6e9e1410ebfb"
      }
     },
     "f44fc30687014b439a711156bfd8e366": {
      "model_module": "@jupyter-widgets/controls",
      "model_module_version": "1.5.0",
      "model_name": "DropdownModel",
      "state": {
       "_options_labels": [
        "Partial",
        "Universal"
       ],
       "description": "veil_type",
       "index": 0,
       "layout": "IPY_MODEL_502638cfcb02488ea6e567f29c041316",
       "style": "IPY_MODEL_da035861f5814c748d1228e02228a564"
      }
     },
     "f499c4dda8d642ea80f1f13075b804c2": {
      "model_module": "@jupyter-widgets/controls",
      "model_module_version": "1.5.0",
      "model_name": "DropdownModel",
      "state": {
       "_options_labels": [
        "Partial",
        "Universal"
       ],
       "description": "veil_type",
       "index": 0,
       "layout": "IPY_MODEL_bbc00576683440579cd992bd4b9f1299",
       "style": "IPY_MODEL_6f7280099e4e430da7a92860d40a6e18"
      }
     },
     "f4c484e1d53d41aeb0adb380f33b4dc1": {
      "model_module": "@jupyter-widgets/base",
      "model_module_version": "1.2.0",
      "model_name": "LayoutModel",
      "state": {}
     },
     "f4de50ad7fa74330b7947eaf9aa33b01": {
      "model_module": "@jupyter-widgets/controls",
      "model_module_version": "1.5.0",
      "model_name": "DescriptionStyleModel",
      "state": {
       "description_width": ""
      }
     },
     "f51812458b3c46feb08d077060d45caf": {
      "model_module": "@jupyter-widgets/controls",
      "model_module_version": "1.5.0",
      "model_name": "DropdownModel",
      "state": {
       "_options_labels": [
        "Almond",
        "Anise",
        "Creosote",
        "Fishy",
        "Foul",
        "Musty",
        "None",
        "Pungent",
        "Spicy"
       ],
       "description": "odor",
       "index": 0,
       "layout": "IPY_MODEL_e1fe3b2d02af4070bceff9d50b301e31",
       "style": "IPY_MODEL_3e2888e9991f4695bd6b8d666a39391b"
      }
     },
     "f52aa11c53e549b9a2771f3bb198a1c7": {
      "model_module": "@jupyter-widgets/controls",
      "model_module_version": "1.5.0",
      "model_name": "DescriptionStyleModel",
      "state": {
       "description_width": ""
      }
     },
     "f52d87a10c424f37b7f528baf44373d3": {
      "model_module": "@jupyter-widgets/base",
      "model_module_version": "1.2.0",
      "model_name": "LayoutModel",
      "state": {}
     },
     "f534e26adb3748ddb84680cf2fa71385": {
      "model_module": "@jupyter-widgets/controls",
      "model_module_version": "1.5.0",
      "model_name": "DescriptionStyleModel",
      "state": {
       "description_width": ""
      }
     },
     "f5542e1b197b47068e12ccd803cb6fd2": {
      "model_module": "@jupyter-widgets/controls",
      "model_module_version": "1.5.0",
      "model_name": "DropdownModel",
      "state": {
       "_options_labels": [
        "Brown",
        "Buff",
        "Cinnamon",
        "Gray",
        "Orange",
        "Pink",
        "Red",
        "White",
        "Yellow"
       ],
       "description": "stalk_color_above_ring",
       "index": 0,
       "layout": "IPY_MODEL_bad96f953fae4f4c9656fd470883acf4",
       "style": "IPY_MODEL_c2fb47773f5843a293cf40fc86442fc1"
      }
     },
     "f573a1c4c4ec493696eacf52c06494c2": {
      "model_module": "@jupyter-widgets/controls",
      "model_module_version": "1.5.0",
      "model_name": "DropdownModel",
      "state": {
       "_options_labels": [
        "Enlarging",
        "Tapering"
       ],
       "description": "stalk_shape",
       "index": 0,
       "layout": "IPY_MODEL_eef0b7eac3244d0691c8b242eb1c1e36",
       "style": "IPY_MODEL_d5c947c64b514aeeab7c4815a95a524a"
      }
     },
     "f5a25d4d275a4cd2938a15bbe5bb7772": {
      "model_module": "@jupyter-widgets/controls",
      "model_module_version": "1.5.0",
      "model_name": "DescriptionStyleModel",
      "state": {
       "description_width": ""
      }
     },
     "f5a952a71fcf4c4ab974fc16e5c39042": {
      "model_module": "@jupyter-widgets/base",
      "model_module_version": "1.2.0",
      "model_name": "LayoutModel",
      "state": {}
     },
     "f5d0930e40954711a109f7ecdb75a63d": {
      "model_module": "@jupyter-widgets/controls",
      "model_module_version": "1.5.0",
      "model_name": "DropdownModel",
      "state": {
       "_options_labels": [
        "Attached",
        "Descending",
        "Free",
        "Notched"
       ],
       "description": "gill_attachment",
       "index": 0,
       "layout": "IPY_MODEL_84be5a0696624686a2d36bb4ceb599a1",
       "style": "IPY_MODEL_fd4e4927988543a89d7d6c07ffda7618"
      }
     },
     "f63a6e9386d34890b2f750ee1b295718": {
      "model_module": "@jupyter-widgets/controls",
      "model_module_version": "1.5.0",
      "model_name": "DropdownModel",
      "state": {
       "_options_labels": [
        "Fiberous",
        "Scaly",
        "Silky",
        "Smooth"
       ],
       "description": "stalk_surface_below_ring",
       "index": 2,
       "layout": "IPY_MODEL_21fa9e8aa5ec4f609e8ecb827755ec8a",
       "style": "IPY_MODEL_aa2dde777879401bb9d049bb26d59b29"
      }
     },
     "f63f648c53b74fbaa57377635a9d2cc6": {
      "model_module": "@jupyter-widgets/controls",
      "model_module_version": "1.5.0",
      "model_name": "DropdownModel",
      "state": {
       "_options_labels": [
        "Fiberous",
        "Scaly",
        "Silky",
        "Smooth"
       ],
       "description": "stalk_surface_below_ring",
       "index": 0,
       "layout": "IPY_MODEL_962a7652a78d40229b01a16d1759c35d",
       "style": "IPY_MODEL_d7357c1ba15b46b5b2a0ce6aa1cd0db6"
      }
     },
     "f650068e20d14116a420151c8a14ac19": {
      "model_module": "@jupyter-widgets/controls",
      "model_module_version": "1.5.0",
      "model_name": "DescriptionStyleModel",
      "state": {
       "description_width": ""
      }
     },
     "f6660f781b9b499582bbca785d88359a": {
      "model_module": "@jupyter-widgets/controls",
      "model_module_version": "1.5.0",
      "model_name": "DescriptionStyleModel",
      "state": {
       "description_width": ""
      }
     },
     "f6bee6bab62e4cb3b2ecadbfd14d5b26": {
      "model_module": "@jupyter-widgets/controls",
      "model_module_version": "1.5.0",
      "model_name": "DropdownModel",
      "state": {
       "_options_labels": [
        "Almond",
        "Anise",
        "Creosote",
        "Fishy",
        "Foul",
        "Musty",
        "None",
        "Pungent",
        "Spicy"
       ],
       "description": "odor",
       "index": 0,
       "layout": "IPY_MODEL_6aaf4cec973b481780b5e9a6890c458d",
       "style": "IPY_MODEL_39a019966a624e86b28932b9780d051a"
      }
     },
     "f6d14ae1e44a41fa871611c56c2b2007": {
      "model_module": "@jupyter-widgets/base",
      "model_module_version": "1.2.0",
      "model_name": "LayoutModel",
      "state": {}
     },
     "f6dd519b0d624147b67ea77a80f89441": {
      "model_module": "@jupyter-widgets/controls",
      "model_module_version": "1.5.0",
      "model_name": "DropdownModel",
      "state": {
       "_options_labels": [
        "Black",
        "Brown",
        "Buff",
        "Chocolate",
        "Gray",
        "Green",
        "Orange",
        "Pink",
        "Purple",
        "Red",
        "White",
        "Yellow"
       ],
       "description": "gill_color",
       "index": 0,
       "layout": "IPY_MODEL_29560cb55c48447e93974e94bca80c2e",
       "style": "IPY_MODEL_320f92b7e76b4d91b9a716b051e9bf39"
      }
     },
     "f704233d5ec8427b848331ef151dacd0": {
      "model_module": "@jupyter-widgets/controls",
      "model_module_version": "1.5.0",
      "model_name": "DescriptionStyleModel",
      "state": {
       "description_width": ""
      }
     },
     "f797d8ed2b6d4962a3ede76750c32faa": {
      "model_module": "@jupyter-widgets/controls",
      "model_module_version": "1.5.0",
      "model_name": "DescriptionStyleModel",
      "state": {
       "description_width": ""
      }
     },
     "f7afc8d78cee4c32ba88f2d74a38bbe0": {
      "model_module": "@jupyter-widgets/controls",
      "model_module_version": "1.5.0",
      "model_name": "DescriptionStyleModel",
      "state": {
       "description_width": ""
      }
     },
     "f7ef1bd184f54cc58ca2dab5f51e9566": {
      "model_module": "@jupyter-widgets/controls",
      "model_module_version": "1.5.0",
      "model_name": "DropdownModel",
      "state": {
       "_options_labels": [
        "Brown",
        "Orange",
        "White",
        "Yellow"
       ],
       "description": "veil_color",
       "index": 0,
       "layout": "IPY_MODEL_93ebbd63b24e48dea9d87f3e054dbb27",
       "style": "IPY_MODEL_1ef1c252477e4694a0c6ee7f918d1f8d"
      }
     },
     "f7fd401b8738474a807fafcf50d359f7": {
      "model_module": "@jupyter-widgets/base",
      "model_module_version": "1.2.0",
      "model_name": "LayoutModel",
      "state": {}
     },
     "f8299bd4fff548c3a4fc4a947a6a0570": {
      "model_module": "@jupyter-widgets/controls",
      "model_module_version": "1.5.0",
      "model_name": "DropdownModel",
      "state": {
       "_options_labels": [
        "Abundant",
        "Clustered",
        "Numerous",
        "Scattered",
        "Several",
        "Solitary"
       ],
       "description": "population",
       "index": 0,
       "layout": "IPY_MODEL_0732de97404e46e98e86595d1c657a64",
       "style": "IPY_MODEL_e24b5f5a18d143a4b6264d7b67827b93"
      }
     },
     "f87ae99b9d7e4e299ecd045a31f462ee": {
      "model_module": "@jupyter-widgets/controls",
      "model_module_version": "1.5.0",
      "model_name": "DropdownModel",
      "state": {
       "_options_labels": [
        "Abundant",
        "Clustered",
        "Numerous",
        "Scattered",
        "Several",
        "Solitary"
       ],
       "description": "population",
       "index": 0,
       "layout": "IPY_MODEL_06070b6799804918b8ec66d79914c05a",
       "style": "IPY_MODEL_fc7a37572aea4ed8a0ab76dd7e3b21e1"
      }
     },
     "f89f94524c834bb39597e4545507497e": {
      "model_module": "@jupyter-widgets/controls",
      "model_module_version": "1.5.0",
      "model_name": "DescriptionStyleModel",
      "state": {
       "description_width": ""
      }
     },
     "f916b2aca2874c3786fea5bfc57c1ac2": {
      "model_module": "@jupyter-widgets/controls",
      "model_module_version": "1.5.0",
      "model_name": "DropdownModel",
      "state": {
       "_options_labels": [
        "Brown",
        "Buff",
        "Cinnamon",
        "Gray",
        "Green",
        "Pink",
        "Purple",
        "Red",
        "White",
        "Yellow"
       ],
       "description": "cap_color",
       "index": 0,
       "layout": "IPY_MODEL_617d164556164df88511f057a901bf2b",
       "style": "IPY_MODEL_e1af737ae0aa4eb6b1de29323c86c4b3"
      }
     },
     "f91784e9567945579e7628baad882bce": {
      "model_module": "@jupyter-widgets/base",
      "model_module_version": "1.2.0",
      "model_name": "LayoutModel",
      "state": {}
     },
     "f92d182840054f7788c99242cec1380b": {
      "model_module": "@jupyter-widgets/controls",
      "model_module_version": "1.5.0",
      "model_name": "DropdownModel",
      "state": {
       "_options_labels": [
        "Brown",
        "Buff",
        "Cinnamon",
        "Gray",
        "Orange",
        "Pink",
        "Red",
        "White",
        "Yellow"
       ],
       "description": "stalk_color_below_ring",
       "index": 0,
       "layout": "IPY_MODEL_c1f279043c5148daa63844cf9966df74",
       "style": "IPY_MODEL_a94b7ef0d6c44063893632a4210a504d"
      }
     },
     "f93a71307d084863a5d469ee4b51cfc4": {
      "model_module": "@jupyter-widgets/controls",
      "model_module_version": "1.5.0",
      "model_name": "DropdownModel",
      "state": {
       "_options_labels": [
        "Black",
        "Brown",
        "Buff",
        "Chocolate",
        "Gray",
        "Green",
        "Orange",
        "Pink",
        "Purple",
        "Red",
        "White",
        "Yellow"
       ],
       "description": "gill_color",
       "index": 0,
       "layout": "IPY_MODEL_43925c135a174e5d9294ca59a089b006",
       "style": "IPY_MODEL_e386a983b31e458f9499495a8c1f675d"
      }
     },
     "f94b9702a40141c38871c7ce3e9cb762": {
      "model_module": "@jupyter-widgets/base",
      "model_module_version": "1.2.0",
      "model_name": "LayoutModel",
      "state": {}
     },
     "f953cbee8e3a4766a892c68c5083b6e4": {
      "model_module": "@jupyter-widgets/controls",
      "model_module_version": "1.5.0",
      "model_name": "DropdownModel",
      "state": {
       "_options_labels": [
        "None",
        "One",
        "Two"
       ],
       "description": "ring_number",
       "index": 0,
       "layout": "IPY_MODEL_4eca1429c2904c10b4a374b2137ae5fe",
       "style": "IPY_MODEL_e14bda94b5724b47ab7352d9a2a462f3"
      }
     },
     "f96c602b99764beab5f15cecbac30742": {
      "model_module": "@jupyter-widgets/base",
      "model_module_version": "1.2.0",
      "model_name": "LayoutModel",
      "state": {}
     },
     "f975b45635df4db7b7afe66bf36413cd": {
      "model_module": "@jupyter-widgets/base",
      "model_module_version": "1.2.0",
      "model_name": "LayoutModel",
      "state": {}
     },
     "f9a511ea845849e5ba225411a2ea692a": {
      "model_module": "@jupyter-widgets/base",
      "model_module_version": "1.2.0",
      "model_name": "LayoutModel",
      "state": {}
     },
     "f9c479dc310a4a5ebb1e86761f271f29": {
      "model_module": "@jupyter-widgets/base",
      "model_module_version": "1.2.0",
      "model_name": "LayoutModel",
      "state": {}
     },
     "fa15bc040161404d8b7e988048394eb8": {
      "model_module": "@jupyter-widgets/controls",
      "model_module_version": "1.5.0",
      "model_name": "DescriptionStyleModel",
      "state": {
       "description_width": ""
      }
     },
     "fa28d3267f26494d8f6a0d60d1017831": {
      "model_module": "@jupyter-widgets/base",
      "model_module_version": "1.2.0",
      "model_name": "LayoutModel",
      "state": {}
     },
     "fa46050e304d42d8abbdb578a3842c71": {
      "model_module": "@jupyter-widgets/base",
      "model_module_version": "1.2.0",
      "model_name": "LayoutModel",
      "state": {}
     },
     "fb12f6607120408aa01ee992391ddea8": {
      "model_module": "@jupyter-widgets/controls",
      "model_module_version": "1.5.0",
      "model_name": "DropdownModel",
      "state": {
       "_options_labels": [
        "Attached",
        "Free"
       ],
       "description": "gill_attachment",
       "index": 0,
       "layout": "IPY_MODEL_c747c74e990d49e087c55c5791267988",
       "style": "IPY_MODEL_46d593a16f5e403d89ec9a0423b9b520"
      }
     },
     "fb2aff1d551147e18aad074b554c37da": {
      "model_module": "@jupyter-widgets/controls",
      "model_module_version": "1.5.0",
      "model_name": "DropdownModel",
      "state": {
       "_options_labels": [
        "Attached",
        "Free"
       ],
       "description": "gill_attachment",
       "index": 1,
       "layout": "IPY_MODEL_2b59d878b57c4d33931c1c37f3ee9ca4",
       "style": "IPY_MODEL_4c5972bd76de408a9299f308ab3e643f"
      }
     },
     "fb473524244644bb929ba88ad686e09f": {
      "model_module": "@jupyter-widgets/controls",
      "model_module_version": "1.5.0",
      "model_name": "DescriptionStyleModel",
      "state": {
       "description_width": ""
      }
     },
     "fb4a15695ed943e39efc96f2c337ad73": {
      "model_module": "@jupyter-widgets/base",
      "model_module_version": "1.2.0",
      "model_name": "LayoutModel",
      "state": {}
     },
     "fb543708141940e9ad64139fa99a7ac6": {
      "model_module": "@jupyter-widgets/controls",
      "model_module_version": "1.5.0",
      "model_name": "DescriptionStyleModel",
      "state": {
       "description_width": ""
      }
     },
     "fb5bae7b75284c8ea35c6a8a4ca0788d": {
      "model_module": "@jupyter-widgets/controls",
      "model_module_version": "1.5.0",
      "model_name": "DescriptionStyleModel",
      "state": {
       "description_width": ""
      }
     },
     "fb6cd33d568e438d91be28d38fe587d3": {
      "model_module": "@jupyter-widgets/controls",
      "model_module_version": "1.5.0",
      "model_name": "DescriptionStyleModel",
      "state": {
       "description_width": ""
      }
     },
     "fb71e417544242b9810397f7123ae1b4": {
      "model_module": "@jupyter-widgets/base",
      "model_module_version": "1.2.0",
      "model_name": "LayoutModel",
      "state": {}
     },
     "fb7be8ab4ffe4356903b64f85cfbdebd": {
      "model_module": "@jupyter-widgets/controls",
      "model_module_version": "1.5.0",
      "model_name": "DropdownModel",
      "state": {
       "_options_labels": [
        "Fiberous",
        "Grooves",
        "Scaly",
        "Smooth"
       ],
       "description": "cap_surface",
       "index": 0,
       "layout": "IPY_MODEL_0cc78a888dce4d049e110b13a3768bdc",
       "style": "IPY_MODEL_a13f2dd9290043cbaeb17107343551de"
      }
     },
     "fbad6243fbc3458d8dd503e7a6f616a2": {
      "model_module": "@jupyter-widgets/controls",
      "model_module_version": "1.5.0",
      "model_name": "DropdownModel",
      "state": {
       "_options_labels": [
        "Fiberous",
        "Grooves",
        "Scaly",
        "Smooth"
       ],
       "description": "cap_surface",
       "index": 2,
       "layout": "IPY_MODEL_a8df431dfbca4ba4a4181394e407106f",
       "style": "IPY_MODEL_66dd6861a80047f6a7cd1f8099d0a8f3"
      }
     },
     "fbc083595a3840c196ea17063918ddc1": {
      "model_module": "@jupyter-widgets/controls",
      "model_module_version": "1.5.0",
      "model_name": "DescriptionStyleModel",
      "state": {
       "description_width": ""
      }
     },
     "fbd3d751d19543eab02ac3862e571d61": {
      "model_module": "@jupyter-widgets/controls",
      "model_module_version": "1.5.0",
      "model_name": "DescriptionStyleModel",
      "state": {
       "description_width": ""
      }
     },
     "fbd49165a3704850bbf7462f154ca26e": {
      "model_module": "@jupyter-widgets/controls",
      "model_module_version": "1.5.0",
      "model_name": "DescriptionStyleModel",
      "state": {
       "description_width": ""
      }
     },
     "fbeffbbd750e40c7ac92822c30d5397b": {
      "model_module": "@jupyter-widgets/controls",
      "model_module_version": "1.5.0",
      "model_name": "DropdownModel",
      "state": {
       "_options_labels": [
        "Close",
        "Crowded",
        "Distant"
       ],
       "description": "gill_spacing",
       "index": 2,
       "layout": "IPY_MODEL_6fff8d5ad76d448197e44dc0be465f0f",
       "style": "IPY_MODEL_666617d1f2db4b0483b72c8a8d67ec87"
      }
     },
     "fbf1e0e6e2a64b1a8ae03f85b6787ad8": {
      "model_module": "@jupyter-widgets/base",
      "model_module_version": "1.2.0",
      "model_name": "LayoutModel",
      "state": {}
     },
     "fbfbbb0ff37b4b0582b2a9b71c1cac80": {
      "model_module": "@jupyter-widgets/base",
      "model_module_version": "1.2.0",
      "model_name": "LayoutModel",
      "state": {}
     },
     "fc32a288dd6d40a8929ddc4dd18fc8bf": {
      "model_module": "@jupyter-widgets/controls",
      "model_module_version": "1.5.0",
      "model_name": "DescriptionStyleModel",
      "state": {
       "description_width": ""
      }
     },
     "fc43f5b4fcdd494099be62f8ba8c11c1": {
      "model_module": "@jupyter-widgets/controls",
      "model_module_version": "1.5.0",
      "model_name": "DropdownModel",
      "state": {
       "_options_labels": [
        "Evanescent",
        "Flaring",
        "Large",
        "None",
        "Pendant",
        "Sheathing",
        "Zone"
       ],
       "description": "ring_type",
       "index": 0,
       "layout": "IPY_MODEL_2882036cb1a2496cb178bc7ecb4f9172",
       "style": "IPY_MODEL_cdb302472cd84ab691e44a0505302a95"
      }
     },
     "fc48449d3b82408c95961e507bc29208": {
      "model_module": "@jupyter-widgets/controls",
      "model_module_version": "1.5.0",
      "model_name": "DescriptionStyleModel",
      "state": {
       "description_width": ""
      }
     },
     "fc7838b53c20458cba52d7876213bf19": {
      "model_module": "@jupyter-widgets/controls",
      "model_module_version": "1.5.0",
      "model_name": "DescriptionStyleModel",
      "state": {
       "description_width": ""
      }
     },
     "fc7a37572aea4ed8a0ab76dd7e3b21e1": {
      "model_module": "@jupyter-widgets/controls",
      "model_module_version": "1.5.0",
      "model_name": "DescriptionStyleModel",
      "state": {
       "description_width": ""
      }
     },
     "fc8012986aa547e9950ae508cbf706ab": {
      "model_module": "@jupyter-widgets/controls",
      "model_module_version": "1.5.0",
      "model_name": "DropdownModel",
      "state": {
       "_options_labels": [
        "Bell",
        "Conical",
        "Convex",
        "Flat",
        "Knobbed",
        "Sunken"
       ],
       "description": "cap_shape",
       "index": 0,
       "layout": "IPY_MODEL_54cfe7d5b1f141f59923bf1cc467e5d5",
       "style": "IPY_MODEL_c24fb8b8a8e64ab587e8a6963b4b3c1b"
      }
     },
     "fc9b5aa3f0044308902183bc5e7355f3": {
      "model_module": "@jupyter-widgets/controls",
      "model_module_version": "1.5.0",
      "model_name": "DropdownModel",
      "state": {
       "_options_labels": [
        "Fiberous",
        "Grooves",
        "Scaly",
        "Smooth"
       ],
       "description": "cap_surface",
       "index": 0,
       "layout": "IPY_MODEL_b5534261f2ee420fa545b7e9a7ecc861",
       "style": "IPY_MODEL_18235279ec55432f970d7ff86336ccb1"
      }
     },
     "fcbbdcca65df47d0a14c04b9795c14e0": {
      "model_module": "@jupyter-widgets/base",
      "model_module_version": "1.2.0",
      "model_name": "LayoutModel",
      "state": {}
     },
     "fcd4c736051241e5a1b83d4c8c171ebe": {
      "model_module": "@jupyter-widgets/controls",
      "model_module_version": "1.5.0",
      "model_name": "DescriptionStyleModel",
      "state": {
       "description_width": ""
      }
     },
     "fce7910f75c0454f898fc40cdbf622d8": {
      "model_module": "@jupyter-widgets/controls",
      "model_module_version": "1.5.0",
      "model_name": "DescriptionStyleModel",
      "state": {
       "description_width": ""
      }
     },
     "fd07fef71d524d6ca1c51fca8c1c402f": {
      "model_module": "@jupyter-widgets/base",
      "model_module_version": "1.2.0",
      "model_name": "LayoutModel",
      "state": {}
     },
     "fd1851718fad419d8f408257827a412d": {
      "model_module": "@jupyter-widgets/controls",
      "model_module_version": "1.5.0",
      "model_name": "DropdownModel",
      "state": {
       "_options_labels": [
        "Fiberous",
        "Scaly",
        "Silky",
        "Smooth"
       ],
       "description": "stalk_surface_above_ring",
       "index": 0,
       "layout": "IPY_MODEL_4202864864424010b51cc21a8cca4752",
       "style": "IPY_MODEL_b52fe05ee40a4fd8bb8d9d32f9fa7945"
      }
     },
     "fd4e4927988543a89d7d6c07ffda7618": {
      "model_module": "@jupyter-widgets/controls",
      "model_module_version": "1.5.0",
      "model_name": "DescriptionStyleModel",
      "state": {
       "description_width": ""
      }
     },
     "fd846671971e497b94d0f530b7d8e00f": {
      "model_module": "@jupyter-widgets/base",
      "model_module_version": "1.2.0",
      "model_name": "LayoutModel",
      "state": {}
     },
     "fdff58f3e3b3433d9a9e262eeb5b2feb": {
      "model_module": "@jupyter-widgets/controls",
      "model_module_version": "1.5.0",
      "model_name": "DescriptionStyleModel",
      "state": {
       "description_width": ""
      }
     },
     "fe493f2f1b244778a9fb9a97c15ffb7c": {
      "model_module": "@jupyter-widgets/controls",
      "model_module_version": "1.5.0",
      "model_name": "DropdownModel",
      "state": {
       "_options_labels": [
        "Abundant",
        "Clustered",
        "Numerous",
        "Scattered",
        "Several",
        "Solitary"
       ],
       "description": "population",
       "index": 0,
       "layout": "IPY_MODEL_dc47ad6ca7c140c58d33ddf13b7af741",
       "style": "IPY_MODEL_0c6c221c55374c69b73a3a8d0d94ee86"
      }
     },
     "fe7ac2504ded4c55800d499fb077b82e": {
      "model_module": "@jupyter-widgets/base",
      "model_module_version": "1.2.0",
      "model_name": "LayoutModel",
      "state": {}
     },
     "fe8d7c9f76654294bbeb1a628aae8019": {
      "model_module": "@jupyter-widgets/controls",
      "model_module_version": "1.5.0",
      "model_name": "DropdownModel",
      "state": {
       "_options_labels": [
        "Fiberous",
        "Scaly",
        "Silky",
        "Smooth"
       ],
       "description": "stalk_surface_above_ring",
       "index": 0,
       "layout": "IPY_MODEL_b812d289c2744f609fc2b5a068084543",
       "style": "IPY_MODEL_8422bdc5375b4b5db9a2157e5b9d4164"
      }
     },
     "fecee2537d494eedbfaa662bd27cf746": {
      "model_module": "@jupyter-widgets/controls",
      "model_module_version": "1.5.0",
      "model_name": "DescriptionStyleModel",
      "state": {
       "description_width": ""
      }
     },
     "fed099e39be84662be66d14f51e2883a": {
      "model_module": "@jupyter-widgets/controls",
      "model_module_version": "1.5.0",
      "model_name": "DescriptionStyleModel",
      "state": {
       "description_width": ""
      }
     },
     "fef99212f3874612ad95312d3117e8c1": {
      "model_module": "@jupyter-widgets/base",
      "model_module_version": "1.2.0",
      "model_name": "LayoutModel",
      "state": {}
     },
     "ff03e20eeed644f4a7d951a04526e2d8": {
      "model_module": "@jupyter-widgets/base",
      "model_module_version": "1.2.0",
      "model_name": "LayoutModel",
      "state": {}
     },
     "ff09fc6160394cff9536d421aa96a12a": {
      "model_module": "@jupyter-widgets/controls",
      "model_module_version": "1.5.0",
      "model_name": "DropdownModel",
      "state": {
       "_options_labels": [
        "Black",
        "Brown",
        "Buff",
        "Chocolate",
        "Gray",
        "Green",
        "Orange",
        "Pink",
        "Purple",
        "Red",
        "White",
        "Yellow"
       ],
       "description": "gill_color",
       "index": 0,
       "layout": "IPY_MODEL_b22d132f99be44b48e4fcb4bb7d70b61",
       "style": "IPY_MODEL_76426d74bd25488283b11a3f4502f819"
      }
     },
     "ff2bfe7ae8cc495497879ec1762c46bf": {
      "model_module": "@jupyter-widgets/base",
      "model_module_version": "1.2.0",
      "model_name": "LayoutModel",
      "state": {}
     },
     "ff68e5d0cfb947c990dc50b2a3497777": {
      "model_module": "@jupyter-widgets/controls",
      "model_module_version": "1.5.0",
      "model_name": "DropdownModel",
      "state": {
       "_options_labels": [
        "Fiberous",
        "Scaly",
        "Silky",
        "Smooth"
       ],
       "description": "stalk_surface_below_ring",
       "index": 0,
       "layout": "IPY_MODEL_a347df6b9ebc4f93937f75019ec62ca1",
       "style": "IPY_MODEL_6fc89d76090a441c977f751f88fbc261"
      }
     },
     "ff72c95ccbd7432c996ea21899a81f76": {
      "model_module": "@jupyter-widgets/controls",
      "model_module_version": "1.5.0",
      "model_name": "CheckboxModel",
      "state": {
       "description": "bruises",
       "disabled": false,
       "layout": "IPY_MODEL_c50565e843f841a68eba1069c21dca02",
       "style": "IPY_MODEL_0ea56f4d0a2e4d9ba48fde7e7712d84c",
       "value": false
      }
     },
     "ff94f4ca0a7c4700bf7b412ac3c15801": {
      "model_module": "@jupyter-widgets/controls",
      "model_module_version": "1.5.0",
      "model_name": "DescriptionStyleModel",
      "state": {
       "description_width": ""
      }
     },
     "ffd80f3418e247ecb23996c05dc7d5a7": {
      "model_module": "@jupyter-widgets/controls",
      "model_module_version": "1.5.0",
      "model_name": "DescriptionStyleModel",
      "state": {
       "description_width": ""
      }
     },
     "ffdfd94618a8429599225ade6f3ed13d": {
      "model_module": "@jupyter-widgets/controls",
      "model_module_version": "1.5.0",
      "model_name": "DescriptionStyleModel",
      "state": {
       "description_width": ""
      }
     },
     "ffebe429244e4b9581c0672fba26018d": {
      "model_module": "@jupyter-widgets/base",
      "model_module_version": "1.2.0",
      "model_name": "LayoutModel",
      "state": {}
     }
    },
    "version_major": 2,
    "version_minor": 0
   }
  }
 },
 "nbformat": 4,
 "nbformat_minor": 5
}
